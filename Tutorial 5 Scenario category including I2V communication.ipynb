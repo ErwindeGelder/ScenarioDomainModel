{
 "cells": [
  {
   "cell_type": "markdown",
   "metadata": {},
   "source": [
    "# Tutorial 5: Instatiating a *scenario category* including I2V communication\n",
    "\n",
    "In this tutorial, we will cover the following items:\n",
    "\n",
    "1. Create *actor categories*, *activity categories*, and *physical thing categories*\n",
    "2. Instantiate a *scenario category*\n",
    "3. Create *actors*, *activities*, *events*, and *physical things*\n",
    "4. Instantiate a *scenario*\n",
    "5. Store the *scenario*"
   ]
  },
  {
   "cell_type": "code",
   "execution_count": 1,
   "metadata": {},
   "outputs": [],
   "source": [
    "# Before starting, let us do the necessary imports\n",
    "import os\n",
    "import json\n",
    "from domain_model import ActorCategory, ActivityCategory, Constant, Sinusoidal, \\\n",
    "    ScenarioCategory, StateVariable, PhysicalElementCategory, Tag, ActorType, \\\n",
    "    actor_category_from_json, scenario_category_from_json, Messages, \\\n",
    "    Activity, activity_from_json, ActivityCategory, Actor, \\\n",
    "    PhysicalElement, Scenario, scenario_from_json, State"
   ]
  },
  {
   "cell_type": "markdown",
   "metadata": {},
   "source": [
    "## 1. Create *actor categories*, *activity categories*, and the *physical thing categories*\n",
    "\n",
    "In this tutorial, we will create a *scenario category* in which the ego vehicle receives speed limit information from an I2V ITS network. The *scenario category* is depicted in the figure below. Here, the blue car represents the ego vehicle that is driving in a speed limit area and approaching an area with a new speed limit. The speed limit information is provided by 2 ITS road side units (RSUs). The ego vehicle changes speed according to the speed limits.\n",
    "\n",
    "<img src=\"./examples/images/i2v.png\" alt=\"I2V\" width=\"400\"/>\n",
    "\n",
    "To create the *scenario category*, we first need to create the *actor categories*, *activity categories*, and the *physical things*. Let us start with the *actor categories*. The ego vehicle as well as I2V networks are defined by *actor categories*. Just like most objects, an *actor category* has a `name`, a `uid` (a unique ID), and `tags`. Additionally, an *actor category* has a `actor_type`.\n",
    "\n",
    "Now let us create the *actor categories*. For this example, we assume that one *actor category* is a \"vehicle\" and both RSUs are \"ITS Network\" *actor categories*. Note that we can ignore the `uid` for now. When no `uid` is given, a unique ID is generated automatically. If no `tags` are provided, it will default to an empty list."
   ]
  },
  {
   "cell_type": "code",
   "execution_count": 2,
   "metadata": {},
   "outputs": [],
   "source": [
    "EGO_VEHICLE = ActorCategory(ActorType.Vehicle, name=\"EgoVehicle\", \n",
    "                            tags=[Tag.EgoVehicle, Tag.RoadUserType_Vehicle,\n",
    "                                  Tag.Communication_Network_Its])\n",
    "RSU = ActorCategory(ActorType.NetworkIts, name=\"RSU\",\n",
    "                    tags=[Tag.Communication_Network_Its])"
   ]
  },
  {
   "cell_type": "markdown",
   "metadata": {},
   "source": [
    "Now let us create the *activity categories* for the ego dynamic activities:"
   ]
  },
  {
   "cell_type": "code",
   "execution_count": 3,
   "metadata": {},
   "outputs": [],
   "source": [
    "FOLLOWING_LANE = ActivityCategory(Constant(), StateVariable.LATERAL_ROAD_POSITION,\n",
    "                                  name=\"Following lane\",\n",
    "                                  tags=[Tag.VehicleLateralActivity_GoingStraight])\n",
    "DRIVING_FORWARD = ActivityCategory(Sinusoidal(), StateVariable.SPEED,\n",
    "                                   name=\"driving forward\",\n",
    "                                   tags=[Tag.VehicleLongitudinalActivity_DrivingForward])"
   ]
  },
  {
   "cell_type": "markdown",
   "metadata": {},
   "source": [
    "Now let us create the *activity category* for the I2V communication"
   ]
  },
  {
   "cell_type": "code",
   "execution_count": 4,
   "metadata": {},
   "outputs": [],
   "source": [
    "RSU_MESSAGES = ActivityCategory(Messages(frequency=20, receiving=True), \n",
    "                                StateVariable.MESSAGE,\n",
    "                                name=\"RSU_speed_limit\",\n",
    "                                tags=[Tag.Communication_I2V])"
   ]
  },
  {
   "cell_type": "markdown",
   "metadata": {},
   "source": [
    "The last object we need to define before we can define the *scenario category* is the *static physical thing category*. A *scenario category* may contain multiple *physical things*, but for now we only define one that specifies the road layout. We assume that the scenario takes place at a straight motorway with multiple lanes:"
   ]
  },
  {
   "cell_type": "code",
   "execution_count": 5,
   "metadata": {},
   "outputs": [],
   "source": [
    "MOTORWAY_CATEGORY = PhysicalElementCategory(description=\"Motorway with multiple lanes\",\n",
    "                                            name=\"Motorway\",\n",
    "                                            tags=[Tag.RoadLayout_Straight,\n",
    "                                                  Tag.RoadType_PrincipleRoad])"
   ]
  },
  {
   "cell_type": "markdown",
   "metadata": {},
   "source": [
    "## 2. Instantiate a *scenario category*\n",
    "\n",
    "To define a *scenario category*, we need a description and a location to an image. After this, the static content of the scenario can be specified using the `set_physical_things` function. Next, to describe the dynamic content of the scenarios, the *actor categories* can be passed using the `set_actors` function and the *activity categories* can be passed using the `set_activities` function. Finally, using `set_acts`, it is described which activity is connected to which actor. \n"
   ]
  },
  {
   "cell_type": "code",
   "execution_count": 6,
   "metadata": {},
   "outputs": [],
   "source": [
    "I2V_CATEGORY = ScenarioCategory(\"./examples/images/i2v.png\",\n",
    "                                description=\"I2V speed limit information at the motorway\",\n",
    "                                name=\"I2V_CATEGORY\")\n",
    "I2V_CATEGORY.set_physical_elements([MOTORWAY_CATEGORY])\n",
    "I2V_CATEGORY.set_actors([EGO_VEHICLE, RSU])\n",
    "I2V_CATEGORY.set_activities([FOLLOWING_LANE, DRIVING_FORWARD, RSU_MESSAGES])\n",
    "I2V_CATEGORY.set_acts([(EGO_VEHICLE, DRIVING_FORWARD), (EGO_VEHICLE, FOLLOWING_LANE),\n",
    "                       (EGO_VEHICLE, RSU_MESSAGES)])"
   ]
  },
  {
   "cell_type": "code",
   "execution_count": 7,
   "metadata": {},
   "outputs": [
    {
     "name": "stdout",
     "output_type": "stream",
     "text": [
      "Name: I2V_CATEGORY\n",
      "Description:\n",
      "  I2V  speed  limit  information  at  the  motorway\n",
      "Tags:\n",
      "├─ EgoVehicle::ActorCategory\n",
      "│  ├─ Communication_Network_Its\n",
      "│  ├─ Communication_I2V\n",
      "│  ├─ VehicleLateralActivity_GoingStraight\n",
      "│  ├─ EgoVehicle\n",
      "│  ├─ RoadUserType_Vehicle\n",
      "│  └─ VehicleLongitudinalActivity_DrivingForward\n",
      "├─ RSU::ActorCategory\n",
      "│  └─ Communication_Network_Its\n",
      "└─ Motorway::PhysicalElementCategory\n",
      "   ├─ RoadLayout_Straight\n",
      "   └─ RoadType_PrincipleRoad\n",
      "\n"
     ]
    }
   ],
   "source": [
    "print(I2V_CATEGORY)"
   ]
  },
  {
   "cell_type": "markdown",
   "metadata": {},
   "source": [
    "## 3. Create *actors*, *activities*, *events*, and *static physical things*\n",
    "\n",
    "We will create a *scenario* with the *scenario category* that we created in the previous chapters. The *scenario* is depicted in the figure below. Here, the blue car represents the ego vehicle driving in a 80 kph speed limit area. At the end of the 80 kph speed area the network quality decreases. The ego vehicle approaches a 100 kph speed limit area and accelerates from 80 to 100 kph.\n",
    "\n",
    "<img src=\"./examples/images/i2v.png\" alt=\"I2V\" width=\"400\"/>\n",
    "\n",
    "Just as with a *scenario category*, we first need to create the components of a *scenario*. To create the *scenario*, we first need to create the *actors*, *activities*, *events*, and *physical things*.\n",
    "\n",
    "### 3.1 Create *actors*\n",
    "\n",
    "Now let us create the *actors*, ego vehicle and RSUs. We need the qualitative counterparts, the *actor categories*, and we will use the *actor categories* from the *scenario category*. Note that we can ignore the `uid` for now."
   ]
  },
  {
   "cell_type": "code",
   "execution_count": 8,
   "metadata": {},
   "outputs": [],
   "source": [
    "# Vehicles\n",
    "EGO_VEHICLE = Actor(I2V_CATEGORY.actors[0],\n",
    "                    name=\"ego vehicle\",\n",
    "                    initial_states=[State(StateVariable.LONGITUDINAL_ROAD_POSITION, [1, 0])],\n",
    "                    desired_states=[State(StateVariable.LONGITUDINAL_ROAD_POSITION, [1, 400]),\n",
    "                                    State(StateVariable.LATERAL_ROAD_POSITION, [-1, 0])],\n",
    "                    properties=dict(color=\"blue\"))\n",
    "\n",
    "# Road side units\n",
    "RSU_1 = Actor(I2V_CATEGORY.actors[1], name=\"RSU_1\",\n",
    "              properties=dict(version=\"2.0\", securityStatus=\"disabled\"))\n",
    "RSU_2 = Actor(I2V_CATEGORY.actors[1], name=\"RSU_2\",\n",
    "              properties=dict(version=\"2.0\", securityStatus=\"disabled\"))"
   ]
  },
  {
   "cell_type": "markdown",
   "metadata": {},
   "source": [
    "### 3.2 Create *activities* and *events*\n",
    "\n",
    "As with the actors, we use the *activity categories* as defined in the *scenario category*. \n",
    "\n",
    "To instantiate an *activity*, the following arguments can be used:\n",
    "- `category`: The corresponding *activity category* that we defined above.\n",
    "- `parameters`: A dictionary with the parameters that are used to evaluate the model that has been defined in the corresponding *activity category*. To see which parameters are required, type `help(model)`, where `model` is to be replaced by the actual model. For example, `help(Sinusoidal)` will print the documentation of the `Sinusoidal` model.\n",
    "- `start`: The starting event of the activity. Alternatively, instead of an `Event`, a single value can be passed. In that case, it is assumed that the activity starts when the time equals the provided value. In that case, an *event* is created at that particular time.\n",
    "- `end`: The end event. Just as with `start`, a single value can be provided in which case an *event* is automatically instantiated.\n",
    "- `name` (optional): You can give the activity a meaningful name.\n",
    "- `uid` (optional): If not given, a (random) unique ID will be created.\n",
    "- `tags` (optional): If not given, an empty list is assumed. Note that the `get_tags()` functionality works the same as for the *actors*, meaning that also the tags of the *activity category* are returned."
   ]
  },
  {
   "cell_type": "code",
   "execution_count": 9,
   "metadata": {},
   "outputs": [],
   "source": [
    "CRUISING_EGO1 = Activity(I2V_CATEGORY.activities[1], \n",
    "                         dict(xstart=22, xend=22), \n",
    "                         start=0, end=5, \n",
    "                         name=\"Initial cruising ego\")\n",
    "ACCELERATING_EGO = Activity(I2V_CATEGORY.activities[1], \n",
    "                            dict(xstart=22, xend=28),\n",
    "                            start=CRUISING_EGO1.end, end=10,\n",
    "                            name=\"Accelerating ego\",\n",
    "                            tags=[Tag.VehicleLongitudinalActivity_DrivingForward_Accelerating])\n",
    "CRUISING_EGO2 = Activity(I2V_CATEGORY.activities[1], dict(xstart=28, xend=28),\n",
    "                         start=ACCELERATING_EGO.end, end=15,\n",
    "                         name=\"Final cruising ego\")\n",
    "STRAIGHT_EGO = Activity(I2V_CATEGORY.activities[0], dict(xstart=[-1, 0]),\n",
    "                        start=CRUISING_EGO1.start, end=CRUISING_EGO2.end,\n",
    "                        name=\"Following lane ego\")\n",
    "\n",
    "# Define message parameters according to OpenSCENARIO elements and attributes\n",
    "PARAMETERS = RSU_MESSAGES.model.get_pars(message_name=\"I2V_SpeedLimit\", message=\"80 kph\", \n",
    "                                         network=RSU_1,\n",
    "                                         network_quality=dict(Speed=dict(connectionSpeed=5), \n",
    "                                                              Latency=dict(averageDelay=50), \n",
    "                                                              Reliability=dict(factor=0.9)))\n",
    "SPEED_MESSAGE_RSU_1 = Activity(I2V_CATEGORY.activities[2],\n",
    "                               PARAMETERS, start=CRUISING_EGO1.start, end=4,\n",
    "                               name=\"Initial speed limit message\",\n",
    "                               tags=[Tag.Communication_I2V])\n",
    "\n",
    "# Define message parameters according to OpenSCENARIO elements and attributes\n",
    "PARAMETERS = RSU_MESSAGES.model.get_pars(message_name=\"I2V_SpeedLimit\", message=\"80 kph\", \n",
    "                                         network=RSU_1,\n",
    "                                         network_quality=dict(Speed=dict(connectionSpeed=1), \n",
    "                                                              Latency=dict(averageDelay=100), \n",
    "                                                              Reliability=dict(factor=0.5)))\n",
    "SPEED_MESSAGE_RSU_1_LOW_QUALITY = Activity(I2V_CATEGORY.activities[2],\n",
    "                                           PARAMETERS, start=SPEED_MESSAGE_RSU_1.end, end=5,\n",
    "                                           name=\"Low quality initial speed limit message\",\n",
    "                                           tags=[Tag.Communication_I2V])\n",
    "\n",
    "# Define message parameters according to OpenSCENARIO elements and attributes\n",
    "PARAMETERS = RSU_MESSAGES.model.get_pars(message_name=\"I2V_SpeedLimit\", message=\"100 kph\", \n",
    "                                         network=RSU_2,\n",
    "                                         network_quality=dict(Speed=dict(connectionSpeed=8), \n",
    "                                                              Latency=dict(averageDelay=50), \n",
    "                                                              Reliability=dict(factor=0.8)))\n",
    "SPEED_MESSAGE_RSU_2 = Activity(I2V_CATEGORY.activities[2], PARAMETERS,\n",
    "                               start=SPEED_MESSAGE_RSU_1_LOW_QUALITY.end, end=STRAIGHT_EGO.end,\n",
    "                               name=\"Final speed limit message\",\n",
    "                               tags=[Tag.Communication_I2V])"
   ]
  },
  {
   "cell_type": "code",
   "execution_count": 10,
   "metadata": {},
   "outputs": [
    {
     "data": {
      "text/plain": [
       "{'message_name': 'I2V_SpeedLimit',\n",
       " 'message': '80 kph',\n",
       " 'frequency': 20,\n",
       " 'receive': True,\n",
       " 'network': 248376368610223481335686342718805772216,\n",
       " 'network_quality': {'Speed': {'connectionSpeed': 1},\n",
       "  'Latency': {'averageDelay': 100},\n",
       "  'Reliability': {'factor': 0.5}}}"
      ]
     },
     "execution_count": 10,
     "metadata": {},
     "output_type": "execute_result"
    }
   ],
   "source": [
    "# Show parameters of the activity SPEED_MESSAGE_1_LOW_QUALITY:\n",
    "SPEED_MESSAGE_RSU_1_LOW_QUALITY.parameters"
   ]
  },
  {
   "cell_type": "markdown",
   "metadata": {},
   "source": [
    "### 3.3 Create *physical things*\n",
    "\n",
    "Just as with the *scenario category*, we only consider one *physical thing* that describes the road layout. For simplicitly, we assume a straight motorway road with 2 lanes of 3 m. The road is 400 m long."
   ]
  },
  {
   "cell_type": "code",
   "execution_count": 11,
   "metadata": {},
   "outputs": [],
   "source": [
    "MOTORWAY = PhysicalElement(\n",
    "    I2V_CATEGORY.physical_elements[0], name=\"Motorway\",\n",
    "    properties=dict(Country=\"The Netherlands\",\n",
    "                    Roads=[dict(ID=1, Length=400, Type=\"motorway\",\n",
    "                                Geometry=[dict(s=0, xstart=0, ystart=0, heading=0, length=400,\n",
    "                                               shape=\"line\", parameters={})],\n",
    "                                Lanes=[dict(ID=0, Width=0, Type='border', Marker='solid'),\n",
    "                                       dict(ID=-1, Width=3, Type='driving', Marker='broken'),\n",
    "                                       dict(ID=-2, Width=3, Type='driving', Marker='solid')],\n",
    "                                Objects=dict(), Signals=dict())]))"
   ]
  },
  {
   "cell_type": "markdown",
   "metadata": {},
   "source": [
    "## 4 Instantiate a *scenario*\n",
    "\n",
    "Instantiating a *scenario* is very similar to instantiating a *scenario category*. One of the difference is that we need to provide the events that mark the start and the end of the scenario. After creating the *scenario*, we can define the physical things, actors, activities, and acts using the functions `set_physical_things`, `set_actors`, `set_activities`, and `set_acts`, such as we did for the *scenario category* using the respective qualitative descriptions."
   ]
  },
  {
   "cell_type": "code",
   "execution_count": 12,
   "metadata": {},
   "outputs": [],
   "source": [
    "I2V = Scenario(start=CRUISING_EGO1.start, end=CRUISING_EGO2.end, name=\"I2V scenario\")\n",
    "I2V.set_physical_elements([MOTORWAY])\n",
    "I2V.set_actors([EGO_VEHICLE, RSU_1, RSU_2])\n",
    "I2V.set_activities([CRUISING_EGO1, ACCELERATING_EGO, CRUISING_EGO2, STRAIGHT_EGO,\n",
    "                    SPEED_MESSAGE_RSU_1, SPEED_MESSAGE_RSU_1_LOW_QUALITY, SPEED_MESSAGE_RSU_2])\n",
    "I2V.set_acts([(EGO_VEHICLE, CRUISING_EGO1),\n",
    "              (EGO_VEHICLE, ACCELERATING_EGO),\n",
    "              (EGO_VEHICLE, CRUISING_EGO2),\n",
    "              (EGO_VEHICLE, STRAIGHT_EGO),\n",
    "              (EGO_VEHICLE, SPEED_MESSAGE_RSU_1),\n",
    "              (EGO_VEHICLE, SPEED_MESSAGE_RSU_1_LOW_QUALITY),\n",
    "              (EGO_VEHICLE, SPEED_MESSAGE_RSU_2)])"
   ]
  },
  {
   "cell_type": "markdown",
   "metadata": {},
   "source": [
    "We can now see if the scenario is comprised by the scenario category."
   ]
  },
  {
   "cell_type": "code",
   "execution_count": 13,
   "metadata": {},
   "outputs": [
    {
     "data": {
      "text/plain": [
       "True"
      ]
     },
     "execution_count": 13,
     "metadata": {},
     "output_type": "execute_result"
    }
   ],
   "source": [
    "I2V_CATEGORY.comprises(I2V)"
   ]
  },
  {
   "cell_type": "markdown",
   "metadata": {},
   "source": [
    "## 5 Store *scenario*\n",
    "\n",
    "Before the end of this tutorial, let's save the scenario."
   ]
  },
  {
   "cell_type": "code",
   "execution_count": 14,
   "metadata": {},
   "outputs": [],
   "source": [
    "# Let's save the scenario as json format.\n",
    "FILENAME_I2V = os.path.join(\"examples\", \"i2v_quantitative.json\")\n",
    "with open(FILENAME_I2V, \"w\") as FILE:\n",
    "    json.dump(I2V.to_json_full(), FILE, indent=4)"
   ]
  },
  {
   "cell_type": "markdown",
   "metadata": {},
   "source": [
    "You reached the end of the fifth and final tutorial. We hope it has been useful! If you have any questions/requests, please contact us."
   ]
  }
 ],
 "metadata": {
  "kernelspec": {
   "display_name": "Python 3",
   "language": "python",
   "name": "python3"
  },
  "language_info": {
   "codemirror_mode": {
    "name": "ipython",
    "version": 3
   },
   "file_extension": ".py",
   "mimetype": "text/x-python",
   "name": "python",
   "nbconvert_exporter": "python",
   "pygments_lexer": "ipython3",
   "version": "3.7.3"
  }
 },
 "nbformat": 4,
 "nbformat_minor": 2
}
