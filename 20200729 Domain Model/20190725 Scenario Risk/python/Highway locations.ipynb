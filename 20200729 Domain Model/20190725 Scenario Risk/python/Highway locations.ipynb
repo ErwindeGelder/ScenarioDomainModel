{
 "cells": [
  {
   "cell_type": "code",
   "execution_count": null,
   "metadata": {},
   "outputs": [],
   "source": [
    "import os\n",
    "import gmaps\n",
    "import pandas as pd\n",
    "import matplotlib.pyplot as plt\n",
    "import numpy as np\n",
    "import copy\n",
    "import time\n",
    "import utm\n",
    "import glob\n",
    "%matplotlib notebook"
   ]
  },
  {
   "cell_type": "code",
   "execution_count": null,
   "metadata": {},
   "outputs": [],
   "source": [
    "#gmaps.configure(api_key=copy.deepcopy(os.environ[\"GOOGLE_API_KEY\"]))\n",
    "gmaps.configure(api_key=os.environ[\"GOOGLE_API_KEY\"])"
   ]
  },
  {
   "cell_type": "code",
   "execution_count": null,
   "metadata": {},
   "outputs": [],
   "source": [
    "filenames = glob.glob(os.path.join(\"data\", \"1_hdf5\", \"*.hdf5\"))\n",
    "i_file = 16"
   ]
  },
  {
   "cell_type": "code",
   "execution_count": null,
   "metadata": {},
   "outputs": [],
   "source": [
    "# Load the dataset\n",
    "print(\"Load file {:d}: {:s}\".format(i_file, os.path.basename(filenames[i_file])))\n",
    "df = pd.read_hdf(filenames[i_file])\n",
    "\n",
    "# Get indices of data to be plotted.\n",
    "idx = np.all(df[[\"gps_lon\", \"gps_lat\"]] > 0, axis=1)\n",
    "idx[np.arange(len(idx)) % 10 > 0] = False\n",
    "idx_highway = idx & df[\"is_highway\"]\n",
    "locations_highway = [(x, y) for x, y in zip(df[\"gps_lat\"].loc[idx_highway], df[\"gps_lon\"].loc[idx_highway])]\n",
    "idx_no_highway = idx & ~df[\"is_highway\"]\n",
    "locations_no_highway = [(x, y) for x, y in zip(df[\"gps_lat\"].loc[idx_no_highway], df[\"gps_lon\"].loc[idx_no_highway])]\n",
    "\n",
    "# Plot data on map.\n",
    "fig = gmaps.figure()\n",
    "layer = gmaps.heatmap_layer(locations_highway, max_intensity=1, point_radius=2, \n",
    "                            opacity=1, gradient=[(0, 0, 0, 0), \"green\"])\n",
    "fig.add_layer(layer)\n",
    "layer = gmaps.heatmap_layer(locations_no_highway, max_intensity=1, point_radius=2, \n",
    "                            opacity=1, gradient=[(0, 0, 0, 0), \"red\"])\n",
    "fig.add_layer(layer)\n",
    "fig"
   ]
  },
  {
   "cell_type": "code",
   "execution_count": null,
   "metadata": {},
   "outputs": [],
   "source": [
    "%matplotlib notebook\n",
    "plt.plot(df[\"gps_lon\"].loc[idx], df[\"gps_lat\"].loc[idx], '.')"
   ]
  }
 ],
 "metadata": {
  "kernelspec": {
   "display_name": "Python 3",
   "language": "python",
   "name": "python3"
  },
  "language_info": {
   "codemirror_mode": {
    "name": "ipython",
    "version": 3
   },
   "file_extension": ".py",
   "mimetype": "text/x-python",
   "name": "python",
   "nbconvert_exporter": "python",
   "pygments_lexer": "ipython3",
   "version": "3.7.3"
  }
 },
 "nbformat": 4,
 "nbformat_minor": 2
}
