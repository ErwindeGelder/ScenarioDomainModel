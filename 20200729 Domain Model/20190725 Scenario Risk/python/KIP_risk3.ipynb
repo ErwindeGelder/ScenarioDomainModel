{
 "cells": [
  {
   "cell_type": "code",
   "execution_count": null,
   "metadata": {},
   "outputs": [],
   "source": [
    "import os\n",
    "import matplotlib.pyplot as plt\n",
    "import numpy as np\n",
    "from domain_model import StateVariable\n",
    "from simulation import SimulationLeadInteraction\n",
    "from databaseemulator import DataBaseEmulator\n",
    "from load_interactions import load_interaction\n",
    "%matplotlib inline"
   ]
  },
  {
   "cell_type": "code",
   "execution_count": null,
   "metadata": {},
   "outputs": [],
   "source": [
    "# Load the database with the cut-in scenarios.\n",
    "filename = os.path.join(\"data\", \"5_scenarios\", \"ego_braking.json\")\n",
    "DBE = DataBaseEmulator(filename)\n",
    "nscenarios = len(DBE.collections[\"scenario\"])\n",
    "print(\"Number of scenarios: {:d}\".format(nscenarios))"
   ]
  },
  {
   "cell_type": "code",
   "execution_count": null,
   "metadata": {},
   "outputs": [],
   "source": [
    "n_per_scenario = 20\n",
    "data = np.zeros((nscenarios, n_per_scenario, 4))\n",
    "for i in range(nscenarios):\n",
    "    scenario = DBE.get_ordered_item(\"scenario\", 0)\n",
    "    speed = s.get_state(s.actors[0], StateVariable.SPEED, \n",
    "                        np.linspace(scenario.time[\"start\"], \n",
    "                                    scenario.time[\"end\"], n_per_scenario+1))\n",
    "    data[i, :, 0] = speed[0]\n",
    "    data[i, :, 0] = "
   ]
  },
  {
   "cell_type": "code",
   "execution_count": null,
   "metadata": {},
   "outputs": [],
   "source": []
  },
  {
   "cell_type": "code",
   "execution_count": null,
   "metadata": {},
   "outputs": [],
   "source": []
  },
  {
   "cell_type": "code",
   "execution_count": null,
   "metadata": {},
   "outputs": [],
   "source": []
  },
  {
   "cell_type": "code",
   "execution_count": null,
   "metadata": {},
   "outputs": [],
   "source": []
  }
 ],
 "metadata": {
  "kernelspec": {
   "display_name": "Python 3",
   "language": "python",
   "name": "python3"
  },
  "language_info": {
   "codemirror_mode": {
    "name": "ipython",
    "version": 3
   },
   "file_extension": ".py",
   "mimetype": "text/x-python",
   "name": "python",
   "nbconvert_exporter": "python",
   "pygments_lexer": "ipython3",
   "version": "3.7.3"
  }
 },
 "nbformat": 4,
 "nbformat_minor": 2
}
