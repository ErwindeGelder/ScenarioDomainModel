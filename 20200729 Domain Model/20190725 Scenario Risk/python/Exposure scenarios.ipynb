{
 "cells": [
  {
   "cell_type": "code",
   "execution_count": null,
   "metadata": {},
   "outputs": [],
   "source": [
    "from copy import deepcopy\n",
    "import time\n",
    "import os\n",
    "import pandas as pd\n",
    "import numpy as np\n",
    "from glob import glob\n",
    "import matplotlib.pyplot as plt\n",
    "import json\n",
    "from activity_detector import ActivityDetector, LateralActivityHost, LateralActivityTarget, \\\n",
    "    LeadVehicle, ActivityDetectorParameters, LineData, LateralStateTarget, LongitudinalStateTarget, \\\n",
    "    LongitudinalActivity\n",
    "from mark_highway import HighwayMarker\n",
    "from find_index_from_video import approx_index\n",
    "from ngram import NGram\n",
    "from ngram_search import find_sequence\n",
    "import seaborn as sns\n",
    "from tqdm import tqdm\n",
    "from typing import Iterable, List, NamedTuple, Tuple\n",
    "from target_gluer import merge_targets, _TargetGluer, _TargetGluerOptions\n",
    "%matplotlib inline\n",
    "#%load_ext autoreload\n",
    "#%autoreload 2"
   ]
  },
  {
   "cell_type": "code",
   "execution_count": null,
   "metadata": {
    "scrolled": true
   },
   "outputs": [],
   "source": [
    "# Load the data\n",
    "i_file = 0\n",
    "datafiles = glob(os.path.join(\"data\", \"1_hdf5\", '*.hdf5'))\n",
    "AD = ActivityDetector(datafiles[i_file])"
   ]
  },
  {
   "cell_type": "code",
   "execution_count": null,
   "metadata": {
    "scrolled": false
   },
   "outputs": [],
   "source": [
    "AD.targets[0].keys()"
   ]
  },
  {
   "cell_type": "code",
   "execution_count": null,
   "metadata": {},
   "outputs": [],
   "source": []
  },
  {
   "cell_type": "code",
   "execution_count": null,
   "metadata": {},
   "outputs": [],
   "source": []
  },
  {
   "cell_type": "code",
   "execution_count": null,
   "metadata": {},
   "outputs": [],
   "source": [
    "AD.set_lon_activities_host()"
   ]
  },
  {
   "cell_type": "code",
   "execution_count": null,
   "metadata": {},
   "outputs": [],
   "source": [
    "AD.set_lat_activities_host()"
   ]
  },
  {
   "cell_type": "markdown",
   "metadata": {},
   "source": [
    "The following codes checks the recall of the lane changed detection. It shows the activity at the index at which a lane change occurs. These indices are obtained after looking at the video. \n",
    "\n",
    "It shows that all left lane changes are detected. Two right lane changes are missed. "
   ]
  },
  {
   "cell_type": "code",
   "execution_count": null,
   "metadata": {},
   "outputs": [],
   "source": [
    "if i_file == 0:\n",
    "    # Jeroen's code does not detect the lane change at 1963.60.\n",
    "    i_left_lane_change = [203.35, 217.29, 1738.83, 1813.3, 1900.71, 1963.60,\n",
    "                          2000.3, 2171.98, 2310.65, 2318.23, 2546.01, 2650.02]\n",
    "    print([AD.get(\"host_lateral_activity\", i) for i in i_left_lane_change])\n",
    "    # Jeroen's code does not detect the lane change at 2193.44 and 2236.72.\n",
    "    # These lane changes are also difficult to see by eye, so these indices\n",
    "    # are approximate.\n",
    "    i_right_lane_change = [251.46, 304.95, 1846.39, 1858.69, 1927.05, 2040.03,\n",
    "                           2193.44, 2236.72, 2487.13, 2568.65, 2668.15, 2675.00]\n",
    "    print([AD.get(\"host_lateral_activity\", i) for i in i_right_lane_change])"
   ]
  },
  {
   "cell_type": "markdown",
   "metadata": {},
   "source": [
    "The following code shows the recall of the cut-in detection at the highway. There are six cut-ins identified from the videos. The lateral activities for these six target vehicles are determined. \n",
    "All cut-ins are detected. For some strange reason, the lane changes are detected 3 seconds before the timing that is obtained from the video. That might be a syncing error?"
   ]
  },
  {
   "cell_type": "code",
   "execution_count": null,
   "metadata": {
    "scrolled": false
   },
   "outputs": [],
   "source": [
    "if i_file == 0:\n",
    "    # Cut-in targets:\n",
    "    # 3850: Motorbike from right (29:47, index=1802)\n",
    "    # 4171: Dark passenger car from right (quite far) (32:50, index=1985)\n",
    "    # 5028: Silver passenger car from right (39:18, index=2373)\n",
    "    # 5191: Black van from left (40:53, index=2468)\n",
    "    # 5645: Black passenger car from left (42:26, index=2562)\n",
    "    # 6008: Gray VW from left (44:26, index=2681)\n",
    "    for i_target, index in zip([3850, 4171, 5028, 5191, 5645, 6008],\n",
    "                               [1802., 1985., 2373., 2468., 2562., 2681.]):\n",
    "        AD.set_target_activities(i_target)\n",
    "        print(\"Activity of target {:d} at index {:.2f}: {:s}\".\n",
    "              format(i_target, index-3, AD.targets[i_target].at[index-3, \"lateral_activity\"]))"
   ]
  },
  {
   "cell_type": "markdown",
   "metadata": {},
   "source": [
    "Compute all events for the targets. This takes quite some time, around 13 minutes on the zBook laptop."
   ]
  },
  {
   "cell_type": "code",
   "execution_count": null,
   "metadata": {
    "scrolled": false
   },
   "outputs": [],
   "source": [
    "# This takes round 13 minutes!\n",
    "AD.set_target_activities()"
   ]
  },
  {
   "cell_type": "markdown",
   "metadata": {},
   "source": [
    "Set the tags for the longitudinal and lateral state of each target vehicle at each time instant. Furthermore, tags are added that specify whether a target vehicle is a lead vehicle at a certain time instant. The states of the targets (i.e., `set_states_targets()`) can only be done after the lateral events (through `set_target_activities()`), because the lateral position of the targets with respect to the lane lines is needed. Similarly, the determination of the lead vehicle (`set_lead_vehicle()`) can only be done after the other states (`set_states_targets()`), because it makes use of the result of the previous step.\n",
    "\n",
    "`set_states_targets()` is really fast, `set_lead_vehicle()` takes around 3 minutes on the zBook laptop."
   ]
  },
  {
   "cell_type": "code",
   "execution_count": null,
   "metadata": {},
   "outputs": [],
   "source": [
    "AD.set_states_targets()\n",
    "AD.set_lead_vehicle()"
   ]
  },
  {
   "cell_type": "markdown",
   "metadata": {},
   "source": [
    "Determine whether the ego vehicle drives on the highway."
   ]
  },
  {
   "cell_type": "code",
   "execution_count": null,
   "metadata": {},
   "outputs": [],
   "source": [
    "highway_marker = HighwayMarker(AD.data)\n",
    "highway_marker.mark_highway()"
   ]
  },
  {
   "cell_type": "markdown",
   "metadata": {},
   "source": [
    "Save the data!"
   ]
  },
  {
   "cell_type": "code",
   "execution_count": null,
   "metadata": {},
   "outputs": [],
   "source": [
    "AD.to_hdf(datafiles[i_file])"
   ]
  },
  {
   "cell_type": "markdown",
   "metadata": {},
   "source": [
    "## Create or load n-grams for target vehicles"
   ]
  },
  {
   "cell_type": "code",
   "execution_count": null,
   "metadata": {},
   "outputs": [],
   "source": [
    "filename = os.path.join(\"data\", \"4_ngrams\", \"{:s}.hdf5\".\n",
    "                        format(os.path.splitext(os.path.basename(datafiles[i_file]))[0]))\n",
    "fieldnames = [\"longitudinal_activity\", \"lateral_activity\", \"longitudinal_state\", \n",
    "              \"lateral_state\", \"lead_vehicle\", \"id\"]\n",
    "metadata = ((\"tstart\", float), (\"tend\", float), (\"target_id\", int))\n",
    "target_ngrams = NGram(fieldnames, metadata)"
   ]
  },
  {
   "cell_type": "code",
   "execution_count": null,
   "metadata": {},
   "outputs": [],
   "source": [
    "if True or not target_ngrams.from_hdf(filename, \"targets\"):\n",
    "    tstart = time.time()\n",
    "    for target in AD.targets:\n",
    "        target_ngrams.ngram_from_data(target, \n",
    "                                      tstart=target.index[0],\n",
    "                                      tend=target.index[-1],\n",
    "                                      target_id=int(target[\"id\"].values[0]))\n",
    "    target_ngrams.sort_ngrams(\"tstart\")\n",
    "    target_ngrams.to_hdf(filename, \"targets\", mode=\"w\")\n",
    "    print(\"Total elapsed time: {:.2f} s\".format(time.time() - tstart))"
   ]
  },
  {
   "cell_type": "markdown",
   "metadata": {},
   "source": [
    "## Create or load n-gram for ego vehicle"
   ]
  },
  {
   "cell_type": "code",
   "execution_count": null,
   "metadata": {},
   "outputs": [],
   "source": [
    "fieldnames = [\"host_longitudinal_activity\", \"host_lateral_activity\", \"is_highway\"]\n",
    "metadata = ((\"tstart\", float), (\"tend\", float))\n",
    "ego_ngram = NGram(fieldnames, metadata)"
   ]
  },
  {
   "cell_type": "code",
   "execution_count": null,
   "metadata": {
    "scrolled": false
   },
   "outputs": [],
   "source": [
    "if True or not ego_ngram.from_hdf(filename, \"ego\"):\n",
    "    tstart = time.time()\n",
    "    ego_ngram.ngram_from_data(AD.data, tstart=AD.data.index[0], tend=AD.data.index[-1])\n",
    "    ego_ngram.to_hdf(filename, \"ego\")\n",
    "    print(\"Total elapsed time: {:.2f} s\".format(time.time() - tstart))"
   ]
  },
  {
   "cell_type": "markdown",
   "metadata": {},
   "source": [
    "## Extract cut-in scenario\n",
    "\n",
    "For target vehicle, we need:\n",
    "1. Lateral activity `li` or `ri`.\n",
    "2. Lateral activity `fl` and lead vehicle `y`.\n",
    "\n",
    "For the ego vehicle, we need it to go straight during both steps of the target vehicle. Furthermore, the scenario need to take place at the highway."
   ]
  },
  {
   "cell_type": "code",
   "execution_count": null,
   "metadata": {},
   "outputs": [],
   "source": [
    "target_tags = [dict(lateral_activity=[LateralActivityTarget.LEFT_CUT_IN.value, \n",
    "                                      LateralActivityTarget.RIGHT_CUT_IN.value],\n",
    "                    lead_vehicle=[LeadVehicle.NOLEAD.value]),\n",
    "               dict(lateral_activity=[LateralActivityTarget.LEFT_CUT_IN.value, \n",
    "                                      LateralActivityTarget.RIGHT_CUT_IN.value],\n",
    "                    lead_vehicle=[LeadVehicle.LEAD.value])]\n",
    "ego_tags = [dict(host_lateral_activity=[LateralActivityHost.LANE_FOLLOWING.value],\n",
    "                 is_highway=[True]),\n",
    "            dict(host_lateral_activity=[LateralActivityHost.LANE_FOLLOWING.value],\n",
    "                 is_highway=[True])]"
   ]
  },
  {
   "cell_type": "code",
   "execution_count": null,
   "metadata": {},
   "outputs": [],
   "source": [
    "# Cut-in targets for first dataset:\n",
    "# 3827: Motorbike from right (29:47, index=1799.29)\n",
    "# 4099: Black SUV from left (32:28, index=1960.68)\n",
    "# 4145: Dark passenger car from right (quite far) (32:50, index=1982.01)\n",
    "# 4997: Silver passenger car from right (39:18, index=2370.28)\n",
    "# 5155: Black van from left (40:53, index=2465.04)\n",
    "# 5607: Black passenger car from left (42:26, index=2558.85)\n",
    "# 5970: Gray VW from left (44:26, index=2677.92)\n",
    "# File 2: [2411, 2415, 3264, 3435, 3729, (unknown), 4084, 4098]\n",
    "# File 3: [4553, 5364, 5386, 5423, 5538]\n",
    "# File 4: [723, (unknown), 3028, 3066, (unknown), 3419, 4197, 4228, 4272, 4520, 5020]\n",
    "# File 5: [2299, 3932, 3942, 4713, 5025]\n",
    "# File 6: [511, 2671, 2913, 3044, 4258, 4258]\n",
    "tstart = time.time()\n",
    "e = ego_ngram.ngram\n",
    "cutins = []\n",
    "for i, t in enumerate(target_ngrams.ngrams):\n",
    "    search = find_sequence((t, e), (target_tags, ego_tags))\n",
    "    while search.is_found:\n",
    "        cutins.append((i, search.t_start, search.t_end))\n",
    "        print(i, search)\n",
    "        search = find_sequence((t, e), (target_tags, ego_tags), t_start=search.t_end+5)\n",
    "print(\"Total elapsed time: {:.2f} s\".format(time.time() - tstart))"
   ]
  },
  {
   "cell_type": "markdown",
   "metadata": {},
   "source": [
    "Show the data at a cut in."
   ]
  },
  {
   "cell_type": "code",
   "execution_count": null,
   "metadata": {},
   "outputs": [],
   "source": [
    "maxy = 5\n",
    "targets = pd.concat(AD.targets)\n",
    "targets = targets.loc[np.logical_and(targets['dx'] > 0, targets['dx'] < 80)]\n",
    "targets = targets.loc[np.logical_and(targets['dy'] > -maxy, targets['dy'] < maxy)]\n",
    "ids = [target[\"id\"].values[0] for target in AD.targets]"
   ]
  },
  {
   "cell_type": "code",
   "execution_count": null,
   "metadata": {},
   "outputs": [],
   "source": [
    "def plot_cutin():\n",
    "    index_approx = approx_index(minutes, seconds, AD.data)\n",
    "    t_start = index_approx - window\n",
    "    t_end = index_approx + window\n",
    "    \n",
    "    targets_update = targets.loc[np.logical_and(targets.index >= t_start, targets.index <= t_end)]\n",
    "    plt.plot([t_start, t_end], [0, 0], 'k-')\n",
    "    for target_id, target in targets_update.groupby(\"id\"):\n",
    "        plt.plot(target[\"line_left_next\"], 'b-')\n",
    "        plt.plot(target[\"line_right_next\"], 'r-')\n",
    "        \n",
    "        # Try to find cut-in\n",
    "        potential = np.logical_or(np.logical_and(target[\"line_left_next\"] > 0,\n",
    "                                                 target[\"line_left_prev\"] < 0),\n",
    "                                  np.logical_and(target[\"line_right_next\"] < 0,\n",
    "                                                 target[\"line_right_prev\"] > 0))\n",
    "        if np.any(potential):\n",
    "            print(\"Potential cut-in of target ID {:.0f} (=target {:d}) at: \"\n",
    "                  .format(target_id, ids.index(target_id)), end=\"\")\n",
    "            i = target.index[potential].values[0]\n",
    "            print(\"{:.2f} (dx={:.1f}, thw={:.2f})\"\n",
    "                  .format(i, target.loc[i, \"dx\"], target.loc[i, \"dx\"]/AD.data.loc[i, \"Host_vx\"]))\n",
    "    plt.xlim(t_start, t_end)\n",
    "    plt.ylim(-maxy, maxy)"
   ]
  },
  {
   "cell_type": "code",
   "execution_count": null,
   "metadata": {
    "scrolled": true
   },
   "outputs": [],
   "source": [
    "minutes = 42\n",
    "seconds = 16\n",
    "window = 5\n",
    "plot_cutin()"
   ]
  },
  {
   "cell_type": "code",
   "execution_count": null,
   "metadata": {
    "scrolled": false
   },
   "outputs": [],
   "source": [
    "i_target = 2395\n",
    "target_ngrams.ngrams[i_target]"
   ]
  },
  {
   "cell_type": "code",
   "execution_count": null,
   "metadata": {
    "scrolled": true
   },
   "outputs": [],
   "source": [
    "ego_ngram.ngram[target_ngrams.metadata[\"tstart\"].values[i_target]-10:\n",
    "                target_ngrams.metadata[\"tend\"].values[i_target]]"
   ]
  },
  {
   "cell_type": "code",
   "execution_count": null,
   "metadata": {},
   "outputs": [],
   "source": [
    "find_sequence((target_ngrams.ngrams[i_target], ego_ngram.ngram), \n",
    "              (target_tags, ego_tags), verbose=2)"
   ]
  },
  {
   "cell_type": "code",
   "execution_count": null,
   "metadata": {
    "scrolled": true
   },
   "outputs": [],
   "source": [
    "[print(event) for event in AD.lat_activities_target_i(i_target)]\n",
    "AD.set_target_activities(i_target)\n",
    "plt.plot(AD.targets[i_target][\"line_left_next\"], 'b')\n",
    "plt.plot(AD.targets[i_target][\"line_right_next\"], 'r')\n",
    "plt.plot([AD.targets[i_target].index[0], AD.targets[i_target].index[-1]], [0, 0], 'k')\n",
    "plt.plot(AD.targets[i_target][\"line_left_down\"], color=(1, .5, .5))\n",
    "plt.plot(AD.targets[i_target][\"line_left_up\"], color=(1, .5, .5))\n",
    "plt.plot(AD.targets[i_target][\"line_right_down\"], color=(.5, .5, 1))\n",
    "plt.plot(AD.targets[i_target][\"line_right_up\"], color=(.5, .5, 1))\n",
    "_ = plt.xlim([AD.targets[i_target].index[0], AD.targets[i_target].index[-1]])"
   ]
  },
  {
   "cell_type": "code",
   "execution_count": null,
   "metadata": {},
   "outputs": [],
   "source": [
    "i = 2430.48\n",
    "AD.targets[i_target].loc[i, \"dx\"] / AD.data.loc[i, \"Host_vx\"]"
   ]
  },
  {
   "cell_type": "code",
   "execution_count": null,
   "metadata": {},
   "outputs": [],
   "source": [
    "[print(event) for event in AD.lat_activities_target_i(i_target)]\n",
    "#AD.set_target_activities(i_target)\n",
    "plt.plot(AD.targets[i_target][\"line_left_next\"], 'b')\n",
    "plt.plot(AD.targets[i_target][\"line_right_next\"], 'r')\n",
    "plt.plot([AD.targets[i_target].index[0], AD.targets[i_target].index[-1]], [0, 0], 'k')\n",
    "plt.plot(AD.targets[i_target][\"line_left_down\"], color=(1, .5, .5))\n",
    "plt.plot(AD.targets[i_target][\"line_left_up\"], color=(1, .5, .5))\n",
    "plt.plot(AD.targets[i_target][\"line_right_down\"], color=(.5, .5, 1))\n",
    "plt.plot(AD.targets[i_target][\"line_right_up\"], color=(.5, .5, 1))\n",
    "_ = plt.xlim([AD.targets[i_target].index[0], AD.targets[i_target].index[-1]])"
   ]
  },
  {
   "cell_type": "markdown",
   "metadata": {},
   "source": [
    "## Extract host lane changes"
   ]
  },
  {
   "cell_type": "code",
   "execution_count": null,
   "metadata": {},
   "outputs": [],
   "source": [
    "def plot_lane_change():\n",
    "    index_approx = approx_index(minutes, seconds, AD.data)\n",
    "    t_start = index_approx - window\n",
    "    t_end = index_approx + window\n",
    "    \n",
    "    plt.plot(AD.data.loc[t_start:t_end, \"lines_0_c0_prev\"])\n",
    "    plt.plot(AD.data.loc[t_start:t_end, \"lines_1_c0_prev\"])\n",
    "    potentials = np.logical_and(np.abs(AD.data.loc[t_start:t_end, \"lines_0_c0_diff\"]) > 1,\n",
    "                                np.abs(AD.data.loc[t_start:t_end, \"lines_1_c0_diff\"]) > 1)\n",
    "    for i in np.where(potentials)[0]:\n",
    "        print(\"Potential lane change at {:.2f}\".format(potentials.index[i]))"
   ]
  },
  {
   "cell_type": "code",
   "execution_count": null,
   "metadata": {
    "scrolled": true
   },
   "outputs": [],
   "source": [
    "ego_tags = [dict(host_lateral_activity=[LateralActivityHost.LEFT_LANE_CHANGE.value],\n",
    "                 is_highway=[True])]\n",
    "search = find_sequence((ego_ngram.ngram,), (ego_tags,))\n",
    "while search.is_found:\n",
    "    print(\"Left lane change from {:.2f} to {:.2f}\".format(search.t_start, search.t_end))\n",
    "    search = find_sequence((ego_ngram.ngram,), (ego_tags,), t_start=search.t_end)"
   ]
  },
  {
   "cell_type": "code",
   "execution_count": null,
   "metadata": {},
   "outputs": [],
   "source": [
    "ego_tags = [dict(host_lateral_activity=[LateralActivityHost.RIGHT_LANE_CHANGE.value],\n",
    "                 is_highway=[True])]\n",
    "search = find_sequence((ego_ngram.ngram,), (ego_tags,))\n",
    "while search.is_found:\n",
    "    print(\"Right lane change from {:.2f} to {:.2f}\".format(search.t_start, search.t_end))\n",
    "    search = find_sequence((ego_ngram.ngram,), (ego_tags,), t_start=search.t_end)"
   ]
  },
  {
   "cell_type": "code",
   "execution_count": null,
   "metadata": {},
   "outputs": [],
   "source": [
    "minutes = 42\n",
    "seconds = 50\n",
    "window = 10\n",
    "plot_lane_change()"
   ]
  },
  {
   "cell_type": "code",
   "execution_count": null,
   "metadata": {},
   "outputs": [],
   "source": [
    "plot_overtaking()"
   ]
  },
  {
   "cell_type": "markdown",
   "metadata": {},
   "source": [
    "## Extract overtaking before changing lane"
   ]
  },
  {
   "cell_type": "code",
   "execution_count": null,
   "metadata": {},
   "outputs": [],
   "source": [
    "target_tags = [dict(lateral_state=[LateralStateTarget.LEFT.value],\n",
    "                    longitudinal_state=[LongitudinalStateTarget.REAR.value]),\n",
    "               dict(lateral_state=[LateralStateTarget.LEFT.value],\n",
    "                    longitudinal_state=[LongitudinalStateTarget.FRONT.value]),\n",
    "               dict(lateral_state=[LateralStateTarget.LEFT.value],\n",
    "                    longitudinal_state=[LongitudinalStateTarget.FRONT.value]),\n",
    "               dict(lateral_state=[LateralStateTarget.SAME.value],\n",
    "                    longitudinal_state=[LongitudinalStateTarget.FRONT.value])]\n",
    "ego_tags = [dict(host_lateral_activity=[LateralActivityHost.LANE_FOLLOWING.value],\n",
    "                 is_highway=[True]),\n",
    "            dict(host_lateral_activity=[LateralActivityHost.LANE_FOLLOWING.value],\n",
    "                 is_highway=[True]),\n",
    "            dict(host_lateral_activity=[LateralActivityHost.LEFT_LANE_CHANGE.value],\n",
    "                 is_highway=[True]),\n",
    "            dict(host_lateral_activity=[LateralActivityHost.LEFT_LANE_CHANGE.value],\n",
    "                 is_highway=[True])]"
   ]
  },
  {
   "cell_type": "code",
   "execution_count": null,
   "metadata": {},
   "outputs": [],
   "source": [
    "# File 1: [3836, 5429]\n",
    "# File 2: [2278, 2616]\n",
    "# File 3: [4400, 4588, 4661]\n",
    "# File 4: [468, 484, 516, 4060, 4228, 4552]\n",
    "# File 5: [466, 494, 3942]\n",
    "# File 6: [4524, 4795]\n",
    "e = ego_ngram.ngram\n",
    "for i, t in enumerate(target_ngrams.ngrams):\n",
    "    search = find_sequence((t, e), (target_tags, ego_tags))\n",
    "    if search.is_found:\n",
    "        print(i, search)"
   ]
  },
  {
   "cell_type": "code",
   "execution_count": null,
   "metadata": {},
   "outputs": [],
   "source": [
    "maxy = 5\n",
    "targets = pd.concat(AD.targets)\n",
    "targets = targets.loc[np.abs(targets['dx']) < 100]\n",
    "targets = targets.loc[np.logical_and(targets['dy'] > -1, targets['dy'] < maxy)]\n",
    "ids = [target[\"id\"].values[0] for target in AD.targets]"
   ]
  },
  {
   "cell_type": "code",
   "execution_count": null,
   "metadata": {},
   "outputs": [],
   "source": [
    "def plot_overtaking():\n",
    "    index_approx = approx_index(minutes, seconds, AD.data)\n",
    "    t_start = index_approx - window\n",
    "    t_end = index_approx + window\n",
    "    \n",
    "    targets_update = targets.loc[np.logical_and(targets.index >= t_start, targets.index <= t_end)]\n",
    "    target_ids = []\n",
    "    for target_id, target in targets_update.groupby(\"id\"):\n",
    "        # plt.plot(-target[\"dy\"], target[\"dx\"], '.')\n",
    "        if np.any(target[\"lead_vehicle\"] == \"y\"):\n",
    "            print(\"Target {:d} is lead vehicle from {:.2f}\"\n",
    "                  .format(ids.index(target_id), \n",
    "                          target.index[np.where(target[\"lead_vehicle\"] == \"y\")[0][0]]))\n",
    "        i = ids.index(target_id)\n",
    "        target_ids.append(i)\n",
    "        search = find_sequence((target_ngrams.ngrams[i],), \n",
    "                               ([dict(longitudinal_state=['r']), dict(longitudinal_state=['f'])],))\n",
    "        if search.is_found:\n",
    "            print(\"Target {:d} goes from rear to front between {:.2f} and {:.2f}\"\n",
    "                  .format(i, search.t_start, search.t_end))\n",
    "            plt.plot(-target[\"dy\"], target[\"dx\"], '.')\n",
    "    print(target_ids)\n",
    "    i_start = ego_ngram.ngram.index.get_loc(t_start, 'pad')\n",
    "    i_end = ego_ngram.ngram.index.get_loc(t_end, 'backfill')\n",
    "    print(ego_ngram.ngram.iloc[i_start:i_end+1])    "
   ]
  },
  {
   "cell_type": "code",
   "execution_count": null,
   "metadata": {},
   "outputs": [],
   "source": [
    "minutes = AD.data.loc[234.59, \"video_time\"] / 10 / 60\n",
    "seconds = (minutes - int(minutes)) * 60\n",
    "print(\"{:.0f}:{:02.0f}\".format(int(minutes), seconds))"
   ]
  },
  {
   "cell_type": "code",
   "execution_count": null,
   "metadata": {
    "scrolled": false
   },
   "outputs": [],
   "source": [
    "minutes = 3\n",
    "seconds = 17\n",
    "window = 10\n",
    "plot_overtaking()"
   ]
  },
  {
   "cell_type": "code",
   "execution_count": null,
   "metadata": {},
   "outputs": [],
   "source": [
    "i_target = 4562\n",
    "plt.plot(-AD.targets[i_target][\"dy\"], AD.targets[i_target][\"dx\"], '.')"
   ]
  },
  {
   "cell_type": "code",
   "execution_count": null,
   "metadata": {
    "scrolled": true
   },
   "outputs": [],
   "source": [
    "target_ngrams.ngrams[i_target]"
   ]
  },
  {
   "cell_type": "code",
   "execution_count": null,
   "metadata": {},
   "outputs": [],
   "source": [
    "find_sequence((target_ngrams.ngrams[i_target], e), (target_tags, ego_tags), verbose=2)"
   ]
  },
  {
   "cell_type": "code",
   "execution_count": null,
   "metadata": {},
   "outputs": [],
   "source": [
    "for i in range(i_target-1, i_target-250, -1):\n",
    "    if not np.all(AD.targets[i][\"dx\"] < 0):\n",
    "        continue\n",
    "    if AD.targets[i].index[-1] >= AD.targets[i_target].index[0]:\n",
    "        continue\n",
    "    if AD.targets[i][\"dy\"].values[-1] < 0:\n",
    "        continue\n",
    "    if AD.targets[i][\"dx\"].values[-1] < -10:\n",
    "        continue\n",
    "    if abs(AD.targets[i][\"vx\"].values[-1] - AD.targets[i_target][\"vx\"].values[0]) > 5:\n",
    "        continue\n",
    "    v_target = (AD.targets[i][\"vx\"].values[-1] + AD.targets[i_target][\"vx\"].values[0])/2\n",
    "    v_host = AD.data.loc[AD.targets[i].index[-1]:AD.targets[i_target].index[0], \"Host_vx\"]\n",
    "    t_gone = AD.targets[i_target].index[0] - AD.targets[i].index[-1]\n",
    "    x_diff = (AD.targets[i][\"dx\"].values[-1] - AD.targets[i_target][\"dx\"].values[0] +\n",
    "              v_target*t_gone - np.trapz(v_host)*0.01)\n",
    "    print(\"{:4d}, dx={:.1f}\".format(i, x_diff))"
   ]
  },
  {
   "cell_type": "code",
   "execution_count": null,
   "metadata": {},
   "outputs": [],
   "source": [
    "a = deepcopy(AD)\n",
    "t = _TargetGluer(a.data, a.targets, 0.01, _TargetGluerOptions(x_max_visible=25))"
   ]
  },
  {
   "cell_type": "code",
   "execution_count": null,
   "metadata": {},
   "outputs": [],
   "source": [
    "i = 4361\n",
    "info = t.target_in_blind_spot(AD.targets[i])\n",
    "info"
   ]
  },
  {
   "cell_type": "code",
   "execution_count": null,
   "metadata": {
    "scrolled": true
   },
   "outputs": [],
   "source": [
    "_, (ax1, ax2) = plt.subplots(1, 2, figsize=(12, 5))\n",
    "for j in [i, i_target]:\n",
    "    ax1.plot(-AD.targets[j][\"dy\"], AD.targets[j][\"dx\"], '.')\n",
    "    ax2.plot(AD.targets[j][\"vx\"])\n",
    "ax1.set_xlabel(\"y [m]\")\n",
    "ax2.set_xlabel(\"Time [s]\")\n",
    "ax1.set_ylabel(\"x [m]\")\n",
    "ax2.set_ylabel(\"Speed [m/s]\")"
   ]
  },
  {
   "cell_type": "code",
   "execution_count": null,
   "metadata": {},
   "outputs": [],
   "source": [
    "vt = (AD.targets[i][\"vx\"].iat[-1] + AD.targets[i_target][\"vx\"].iat[0]) / 2\n",
    "t_gone = AD.targets[i_target].index[0] - AD.targets[i].index[-1]\n",
    "print(AD.targets[i][\"dx\"].iat[-1] - AD.targets[i_target][\"dx\"].iat[0] +\n",
    "      vt*t_gone - \n",
    "      np.sum(AD.data.loc[AD.targets[i].index[-1]:AD.targets[i_target].index[0], \"Host_vx\"]*0.01))"
   ]
  },
  {
   "cell_type": "code",
   "execution_count": null,
   "metadata": {},
   "outputs": [],
   "source": [
    "candidate = AD.targets[i_target]\n",
    "t_gone = candidate.index[0] - info.last_t\n",
    "print(t_gone > t.options.t_max_gone)\n",
    "print(t_gone <= 0 or candidate.index[-1] - candidate.index[0] <= t.options.t_min_available)\n",
    "x_candidate = candidate[\"dx\"].values[0]\n",
    "print(info.is_front and x_candidate > 0,\n",
    "      not info.is_front and x_candidate < 0,\n",
    "      not t.options.x_min_visible < x_candidate < t.options.x_max_visible)\n",
    "speed_start = candidate[\"vx\"][:candidate.index[0] + t.options.tsec_v_avg]\n",
    "speed_start = np.mean(speed_start[speed_start > 0])\n",
    "x_absoffset = abs(info.last_x + t_gone*(info.vx_target+speed_start)/2 - x_candidate -\n",
    "                  np.trapz(t.host.loc[info.last_t:candidate.index[0],\n",
    "                                      t.options.fieldname_host_vx])*t.timestep)\n",
    "print(x_absoffset > t.options.x_deviation, x_absoffset)\n",
    "print(abs(speed_start - info.vx_target) > t.options.v_deviation)"
   ]
  },
  {
   "cell_type": "code",
   "execution_count": null,
   "metadata": {},
   "outputs": [],
   "source": [
    "# Check for ego lane change\n",
    "window = 20\n",
    "index_approx = approx_index(minutes, seconds, AD.data)\n",
    "t_start = index_approx - window\n",
    "t_end = index_approx + window\n",
    "plt.plot(AD.data.loc[t_start:t_end, \"lines_0_c0_next\"])\n",
    "plt.plot(AD.data.loc[t_start:t_end, \"lines_1_c0_next\"])\n",
    "plt.plot(AD.data.loc[t_start:t_end, \"lines_0_c0_diff\"])\n",
    "plt.plot(AD.data.loc[t_start:t_end, \"lines_0_quality\"])"
   ]
  },
  {
   "cell_type": "code",
   "execution_count": null,
   "metadata": {},
   "outputs": [],
   "source": [
    "#plt.plot(AD.data[\"lines_0_c0_diff\"], AD.data[\"lines_1_c0_diff\"], '.')\n",
    "plt.plot(AD.data.loc[t_start:t_end, \"lines_0_c0_diff\"], \n",
    "         AD.data.loc[t_start:t_end, \"lines_1_c0_diff\"], '.')"
   ]
  },
  {
   "cell_type": "code",
   "execution_count": null,
   "metadata": {},
   "outputs": [],
   "source": [
    "AD.data.keys()"
   ]
  },
  {
   "cell_type": "code",
   "execution_count": null,
   "metadata": {},
   "outputs": [],
   "source": [
    "plt.plot(np.linspace(0,1,len(AD.data)), np.sort(AD.data[\"speed_inc\"].values))\n",
    "plt.xlim(0.9, 1)"
   ]
  },
  {
   "cell_type": "code",
   "execution_count": null,
   "metadata": {},
   "outputs": [],
   "source": []
  },
  {
   "cell_type": "code",
   "execution_count": null,
   "metadata": {},
   "outputs": [],
   "source": []
  },
  {
   "cell_type": "code",
   "execution_count": null,
   "metadata": {},
   "outputs": [],
   "source": []
  },
  {
   "cell_type": "markdown",
   "metadata": {},
   "source": [
    "## Extract lead braking that causes braking"
   ]
  },
  {
   "cell_type": "code",
   "execution_count": null,
   "metadata": {},
   "outputs": [],
   "source": [
    "target_tags = [dict(lead_vehicle=LeadVehicle.LEAD.value,\n",
    "                    longitudinal_activity=LongitudinalActivity.DECELERATING.value)]\n",
    "ego_tags = [dict(is_highway=[True])]"
   ]
  },
  {
   "cell_type": "code",
   "execution_count": null,
   "metadata": {},
   "outputs": [],
   "source": [
    "for i, t in enumerate(target_ngrams.ngrams):\n",
    "    search = find_sequence((t, e), (target_tags, ego_tags))\n",
    "    if search.is_found:\n",
    "        # Find maximum deceleration.\n",
    "        acceleration = AD.targets[i].loc[search.t_start:search.t_end, \"ax\"]\n",
    "        max_deceleration = acceleration.min()\n",
    "        print(i, search, \"Maximum deceleration: {:.2f}\".format(-max_deceleration))"
   ]
  },
  {
   "cell_type": "code",
   "execution_count": null,
   "metadata": {},
   "outputs": [],
   "source": [
    "minutes = AD.data.loc[1829.81, \"video_time\"] / 10 / 60\n",
    "seconds = (minutes - int(minutes)) * 60\n",
    "print(\"{:.0f}:{:02.0f}\".format(int(minutes), seconds))"
   ]
  },
  {
   "cell_type": "code",
   "execution_count": null,
   "metadata": {},
   "outputs": [],
   "source": [
    "targets = pd.concat(AD.targets)\n",
    "targets = targets.loc[targets[\"lead_vehicle\"] == \"y\"]\n",
    "ids = [target[\"id\"].values[0] for target in AD.targets]"
   ]
  },
  {
   "cell_type": "code",
   "execution_count": null,
   "metadata": {},
   "outputs": [],
   "source": [
    "def plot_braking():\n",
    "    index_approx = approx_index(minutes, seconds, AD.data)\n",
    "    t_start = index_approx - window\n",
    "    t_end = index_approx + window\n",
    "    \n",
    "    targets_update = targets.loc[np.logical_and(targets.index >= t_start, targets.index <= t_end)]\n",
    "    _, (ax1, ax2) = plt.subplots(1, 2, figsize=(12, 5))\n",
    "    for target_id, target in targets_update.groupby(\"id\"):\n",
    "        ax1.plot(target[\"ax\"])\n",
    "        ax2.plot(target[\"vx\"])\n",
    "    ylim1 = ax1.get_ylim()\n",
    "    ylim2 = ax2.get_ylim()\n",
    "    for target_id, target in targets_update.groupby(\"id\"):\n",
    "        print(\"Lead vehicle: {:d}\".format(ids.index(target_id)))\n",
    "        i_target = ids.index(target_id)\n",
    "        lon_acc = ''\n",
    "        last_i = 0\n",
    "        for r in target_ngrams.ngrams[i_target].itertuples():\n",
    "            if r.longitudinal_activity != lon_acc:\n",
    "                if lon_acc == \"d\":\n",
    "                    print(\"Braking at {:.2f}\".format((last_i+r.Index)/2))\n",
    "                lon_acc = r.longitudinal_activity\n",
    "                color = 'r' if lon_acc == \"d\" else \"g\" if lon_acc == \"a\" else \"b\"\n",
    "                ax1.plot([r.Index, r.Index], ylim1, color)\n",
    "                ax2.plot([r.Index, r.Index], ylim2, color)\n",
    "                last_i = r.Index\n",
    "    ax1.set_xlim(t_start, t_end)\n",
    "    ax2.set_xlim(t_start, t_end)\n",
    "    ax1.set_ylim(ylim1)\n",
    "    ax2.set_ylim(ylim2)"
   ]
  },
  {
   "cell_type": "code",
   "execution_count": null,
   "metadata": {},
   "outputs": [],
   "source": [
    "minutes = 44\n",
    "seconds = 27\n",
    "window = 10\n",
    "plot_braking()"
   ]
  },
  {
   "cell_type": "code",
   "execution_count": null,
   "metadata": {},
   "outputs": [],
   "source": [
    "i_target = 597\n",
    "target_ngrams.ngrams[i_target]"
   ]
  }
 ],
 "metadata": {
  "kernelspec": {
   "display_name": "Python 3",
   "language": "python",
   "name": "python3"
  },
  "language_info": {
   "codemirror_mode": {
    "name": "ipython",
    "version": 3
   },
   "file_extension": ".py",
   "mimetype": "text/x-python",
   "name": "python",
   "nbconvert_exporter": "python",
   "pygments_lexer": "ipython3",
   "version": "3.7.3"
  }
 },
 "nbformat": 4,
 "nbformat_minor": 2
}
