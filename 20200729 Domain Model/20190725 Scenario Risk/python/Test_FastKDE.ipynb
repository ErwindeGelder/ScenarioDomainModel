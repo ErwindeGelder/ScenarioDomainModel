{
 "cells": [
  {
   "cell_type": "code",
   "execution_count": null,
   "metadata": {},
   "outputs": [],
   "source": [
    "import numpy as np\n",
    "from stats import KDE, GaussianMixture, kde_from_file\n",
    "import matplotlib.pyplot as plt\n",
    "from time import time\n",
    "import scipy.spatial.distance as dist\n",
    "%matplotlib inline"
   ]
  },
  {
   "cell_type": "code",
   "execution_count": null,
   "metadata": {},
   "outputs": [],
   "source": [
    "GM = GaussianMixture([-1, 1], [0.5, 0.3])\n",
    "(xpdf,), ypdf = GM.pdf(npoints=101)\n",
    "np.random.seed(0)\n",
    "n = 1000\n",
    "x = GM.generate_samples(n)"
   ]
  },
  {
   "cell_type": "code",
   "execution_count": null,
   "metadata": {},
   "outputs": [],
   "source": [
    "kde1 = KDE(x)\n",
    "kde1.compute_bandwidth()\n",
    "ykde1 = kde1.score_samples(xpdf)\n",
    "bandwidth = kde1.bandwidth"
   ]
  },
  {
   "cell_type": "code",
   "execution_count": null,
   "metadata": {},
   "outputs": [],
   "source": [
    "kde2 = KDE(x, scaling=True)\n",
    "std = kde2.data_helpers.std\n",
    "kde2.clustering()\n",
    "kde2.data_helpers.std = std\n",
    "print(\"Number of clusters: {:d}\".format(len(kde2.data)))"
   ]
  },
  {
   "cell_type": "code",
   "execution_count": null,
   "metadata": {
    "scrolled": true
   },
   "outputs": [],
   "source": [
    "bb = np.linspace(0.1, 0.4, 20)\n",
    "score1 = np.zeros(len(bb))\n",
    "score2 = np.zeros(len(bb))\n",
    "for i, b in enumerate(bb):\n",
    "    score1[i] = kde1.score_leave_one_out(bandwidth=b, include_const=True)\n",
    "    score2[i] = kde2.score_leave_one_out(bandwidth=b, include_const=True)\n",
    "\n",
    "plt.plot(bb, score1, label=\"Orig\")\n",
    "plt.plot(bb, score2, label=\"Clustered\")\n",
    "plt.xlabel(\"Bandwidth\")\n",
    "plt.ylabel(\"Score\")\n",
    "plt.legend()"
   ]
  },
  {
   "cell_type": "code",
   "execution_count": null,
   "metadata": {},
   "outputs": [],
   "source": [
    "kde1.set_bandwidth(bandwidth)\n",
    "kde2.set_bandwidth(bandwidth)"
   ]
  },
  {
   "cell_type": "code",
   "execution_count": null,
   "metadata": {},
   "outputs": [],
   "source": [
    "ykde2 = kde2.score_samples(xpdf)\n",
    "plt.plot(xpdf, ykde1, label=\"Orig\")\n",
    "plt.plot(xpdf, ykde2, label=\"Clustered\")\n",
    "plt.legend()"
   ]
  },
  {
   "cell_type": "code",
   "execution_count": null,
   "metadata": {},
   "outputs": [],
   "source": [
    "cdf1 = kde1.cdf(xpdf)\n",
    "cdf2 = kde2.cdf(xpdf)\n",
    "plt.plot(xpdf, cdf1, label=\"Orig\")\n",
    "plt.plot(xpdf, cdf2, label=\"Clustered\")\n",
    "plt.legend()"
   ]
  },
  {
   "cell_type": "code",
   "execution_count": null,
   "metadata": {},
   "outputs": [],
   "source": [
    "laplacian1 = kde1.laplacian(xpdf)\n",
    "laplacian2 = kde2.laplacian(xpdf)\n",
    "plt.plot(xpdf, laplacian1, label=\"Orig\")\n",
    "plt.plot(xpdf, laplacian2, label=\"Clustered\")\n",
    "plt.legend()"
   ]
  },
  {
   "cell_type": "code",
   "execution_count": null,
   "metadata": {},
   "outputs": [],
   "source": [
    "np.random.seed(0)\n",
    "hist1 = np.histogram(kde1.sample(100000), bins=np.linspace(-3, 3, 25), density=True)\n",
    "p = plt.plot((hist1[1][1:] + hist1[1][:-1])/2, hist1[0], '.', label=\"Orig\")\n",
    "# plt.plot(xpdf, ykde1, label=\"Orig\")\n",
    "hist2 = np.histogram(kde2.sample(100000), bins=np.linspace(-3, 3, 25), density=True)\n",
    "p = plt.plot((hist2[1][1:] + hist2[1][:-1])/2, hist2[0], '.', label=\"Clustered\")\n",
    "# plt.plot(xpdf, ykde2, label=\"Clustered\")\n",
    "plt.legend()"
   ]
  },
  {
   "cell_type": "code",
   "execution_count": null,
   "metadata": {},
   "outputs": [],
   "source": [
    "GM = GaussianMixture([[-1, -1], [1, 1]], [[[0.5, -0.2], [-0.2, 0.5]], [[0.5, -0.2], [-0.2, 0.5]]])\n",
    "(xpdf1, xpdf2,), ypdf = GM.pdf(npoints=51)\n",
    "np.random.seed(0)\n",
    "n2 = 10000\n",
    "x2 = GM.generate_samples(n2)"
   ]
  },
  {
   "cell_type": "code",
   "execution_count": null,
   "metadata": {},
   "outputs": [],
   "source": [
    "def plot2d(y, y2=None):\n",
    "    if y2 is None:\n",
    "        fig, ax1 = plt.subplots(1, 1, figsize=(6, 5))\n",
    "    else:\n",
    "        fig, (ax1, ax2) = plt.subplots(1, 2, figsize=(12, 5))\n",
    "    \n",
    "    cs = ax1.contourf(xpdf1, xpdf2, y)\n",
    "    ax1.set_xlabel(\"Parameter 1\")\n",
    "    ax1.set_ylabel(\"Parameter 2\")\n",
    "    if y2 is not None:\n",
    "        ax2.contourf(xpdf1, xpdf2, np.abs(y-y2), levels=cs.levels)\n",
    "        ax2.set_xlabel(\"Parameter 1\")\n",
    "        ax2.set_ylabel(\"Parameter 2\")\n",
    "        ax2.set_title(\"Difference\")\n",
    "    fig.colorbar(cs)\n",
    "plot2d(ypdf)"
   ]
  },
  {
   "cell_type": "code",
   "execution_count": null,
   "metadata": {},
   "outputs": [],
   "source": [
    "xpdf2d = np.concatenate((xpdf1[:, :, np.newaxis], xpdf2[:, :, np.newaxis]), axis=2)\n",
    "kde3 = KDE(x2)\n",
    "kde3.compute_bandwidth()\n",
    "ypdf3 = kde3.score_samples(xpdf2d)\n",
    "plot2d(ypdf3, ypdf)"
   ]
  },
  {
   "cell_type": "code",
   "execution_count": null,
   "metadata": {},
   "outputs": [],
   "source": [
    "bandwidth2 = kde3.bandwidth\n",
    "kde4 = KDE(x2)\n",
    "kde4.clustering()\n",
    "kde4.set_bandwidth(bandwidth2)\n",
    "ypdf4 = kde4.score_samples(xpdf2d)\n",
    "plot2d(ypdf4, ypdf3)"
   ]
  },
  {
   "cell_type": "code",
   "execution_count": null,
   "metadata": {},
   "outputs": [],
   "source": [
    "bb = np.linspace(0.1, 0.4, 20)\n",
    "score3 = np.zeros(len(bb))\n",
    "score4 = np.zeros(len(bb))\n",
    "for i, b in enumerate(bb):\n",
    "    score3[i] = kde3.score_leave_one_out(bandwidth=b, include_const=True)\n",
    "    score4[i] = kde4.score_leave_one_out(bandwidth=b, include_const=True)\n",
    "    \n",
    "plt.plot(bb, score3, label=\"Orig\")\n",
    "plt.plot(bb, score4, label=\"Counted\")\n",
    "plt.xlabel(\"Bandwidth\")\n",
    "plt.ylabel(\"Score\")\n",
    "plt.legend()"
   ]
  },
  {
   "cell_type": "code",
   "execution_count": null,
   "metadata": {},
   "outputs": [],
   "source": [
    "cdf3 = kde3.cdf(xpdf2d)\n",
    "cdf4 = kde4.cdf(xpdf2d)\n",
    "plot2d(cdf4, cdf3)"
   ]
  },
  {
   "cell_type": "code",
   "execution_count": null,
   "metadata": {},
   "outputs": [],
   "source": [
    "laplacian3 = kde3.laplacian(xpdf2d)\n",
    "laplacian4 = kde4.laplacian(xpdf2d)\n",
    "plot2d(laplacian4, laplacian3)"
   ]
  },
  {
   "cell_type": "code",
   "execution_count": null,
   "metadata": {},
   "outputs": [],
   "source": [
    "fig, (ax1, ax2, ax3) = plt.subplots(1, 3, figsize=(14, 5))\n",
    "\n",
    "np.random.seed(0)\n",
    "samples = kde3.sample(10000)\n",
    "hist1 = np.histogram2d(samples[:, 0], samples[:, 1], np.linspace(-3, 3, 13))\n",
    "cs = ax1.contourf(hist1[1][:-1], hist1[2][:-1], hist1[0])\n",
    "ax1.set_title(\"Histogram samples original\")\n",
    "\n",
    "samples = kde4.sample(10000)\n",
    "hist2 = np.histogram2d(samples[:, 0], samples[:, 1], np.linspace(-3, 3, 13))\n",
    "ax2.contourf(hist2[1][:-1], hist2[2][:-1], hist2[0], levels=cs.levels)\n",
    "ax2.set_title(\"Histogram samples weighted\")\n",
    "\n",
    "ax3.contourf(hist2[1][:-1], hist2[2][:-1], np.abs(hist1[0]-hist2[0]), levels=cs.levels)\n",
    "ax3.set_title(\"Absolute difference\")\n",
    "fig.colorbar(cs)"
   ]
  },
  {
   "cell_type": "code",
   "execution_count": null,
   "metadata": {},
   "outputs": [],
   "source": [
    "np.random.seed(0)\n",
    "plt.plot(np.histogram(kde3.conditional_sample(1, -1, 100000), \n",
    "                      bins=np.linspace(-3, 3, 25))[0], '.', label=\"Orig\")\n",
    "plt.plot(np.histogram(kde4.conditional_sample(1, -1, 100000), \n",
    "                      bins=np.linspace(-3, 3, 25))[0], '.', label=\"Weighted\")\n",
    "plt.legend()"
   ]
  },
  {
   "cell_type": "code",
   "execution_count": null,
   "metadata": {},
   "outputs": [],
   "source": [
    "%%timeit\n",
    "kde1.score_leave_one_out(bandwidth=bandwidth)"
   ]
  },
  {
   "cell_type": "code",
   "execution_count": null,
   "metadata": {},
   "outputs": [],
   "source": [
    "%%timeit\n",
    "kde2.score_leave_one_out(bandwidth=bandwidth)"
   ]
  },
  {
   "cell_type": "code",
   "execution_count": null,
   "metadata": {},
   "outputs": [],
   "source": [
    "%%timeit\n",
    "kde1.score_samples(xpdf)"
   ]
  },
  {
   "cell_type": "code",
   "execution_count": null,
   "metadata": {},
   "outputs": [],
   "source": [
    "%%timeit\n",
    "kde2.score_samples(xpdf)"
   ]
  },
  {
   "cell_type": "code",
   "execution_count": null,
   "metadata": {},
   "outputs": [],
   "source": [
    "%%timeit\n",
    "kde1.sample(1)"
   ]
  },
  {
   "cell_type": "code",
   "execution_count": null,
   "metadata": {},
   "outputs": [],
   "source": [
    "%%timeit\n",
    "kde2.sample(1)"
   ]
  },
  {
   "cell_type": "code",
   "execution_count": null,
   "metadata": {},
   "outputs": [],
   "source": [
    "%%timeit\n",
    "kde3.score_leave_one_out(bandwidth=bandwidth2)"
   ]
  },
  {
   "cell_type": "code",
   "execution_count": null,
   "metadata": {},
   "outputs": [],
   "source": [
    "%%timeit\n",
    "kde4.score_leave_one_out(bandwidth=bandwidth2)"
   ]
  },
  {
   "cell_type": "code",
   "execution_count": null,
   "metadata": {},
   "outputs": [],
   "source": [
    "%%timeit\n",
    "kde3.score_samples(xpdf2d)"
   ]
  },
  {
   "cell_type": "code",
   "execution_count": null,
   "metadata": {},
   "outputs": [],
   "source": [
    "%%timeit\n",
    "kde4.score_samples(xpdf2d)"
   ]
  },
  {
   "cell_type": "code",
   "execution_count": null,
   "metadata": {},
   "outputs": [],
   "source": [
    "%%timeit\n",
    "kde3.sample(10000)"
   ]
  },
  {
   "cell_type": "code",
   "execution_count": null,
   "metadata": {},
   "outputs": [],
   "source": [
    "%%timeit\n",
    "kde4.sample(10000)"
   ]
  },
  {
   "cell_type": "code",
   "execution_count": null,
   "metadata": {},
   "outputs": [],
   "source": [
    "%%timeit\n",
    "kde3.conditional_sample(1, -1, 10000)"
   ]
  },
  {
   "cell_type": "code",
   "execution_count": null,
   "metadata": {},
   "outputs": [],
   "source": [
    "%%timeit\n",
    "kde4.conditional_sample(1, -1, 10000)"
   ]
  },
  {
   "cell_type": "code",
   "execution_count": null,
   "metadata": {},
   "outputs": [],
   "source": []
  },
  {
   "cell_type": "code",
   "execution_count": null,
   "metadata": {},
   "outputs": [],
   "source": []
  },
  {
   "cell_type": "code",
   "execution_count": null,
   "metadata": {},
   "outputs": [],
   "source": []
  }
 ],
 "metadata": {
  "kernelspec": {
   "display_name": "Python 3",
   "language": "python",
   "name": "python3"
  },
  "language_info": {
   "codemirror_mode": {
    "name": "ipython",
    "version": 3
   },
   "file_extension": ".py",
   "mimetype": "text/x-python",
   "name": "python",
   "nbconvert_exporter": "python",
   "pygments_lexer": "ipython3",
   "version": "3.7.3"
  }
 },
 "nbformat": 4,
 "nbformat_minor": 2
}
