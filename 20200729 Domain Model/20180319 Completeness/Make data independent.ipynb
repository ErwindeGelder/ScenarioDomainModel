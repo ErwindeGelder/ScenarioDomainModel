{
 "cells": [
  {
   "cell_type": "code",
   "execution_count": null,
   "metadata": {},
   "outputs": [],
   "source": [
    "import os\n",
    "import numpy as np\n",
    "import pickle\n",
    "from matplotlib import pyplot as plt\n",
    "import pandas as pd\n",
    "from stats import KDE\n",
    "from ml_method import ErrorStatistics"
   ]
  },
  {
   "cell_type": "markdown",
   "metadata": {},
   "source": [
    "# Applying method on artificial data\n",
    "\n",
    "## Definition of the data\n",
    "\n",
    "Apply method for artificial data. Originally, data $(x,y)$ is generated from two uniform distributions with intervals $[0.5, 1.5]$ and $[0, 1]$.\n",
    "\n",
    "The dependent data is defined as follows:\n",
    "\\begin{align}\n",
    "x' &= 2x + y, \\\\\n",
    "y' &= \\frac{2}{x} + y.\n",
    "\\end{align}"
   ]
  },
  {
   "cell_type": "code",
   "execution_count": null,
   "metadata": {
    "scrolled": true
   },
   "outputs": [],
   "source": [
    "# Generate random data\n",
    "np.random.seed(1)\n",
    "xorig = np.random.rand(500)+0.5\n",
    "yorig = np.random.rand(500)\n",
    "\n",
    "# Make data dependent\n",
    "x = 2*xorig + yorig\n",
    "y = 2/xorig + yorig\n",
    "\n",
    "# Plot result\n",
    "plt.plot(x, y, '.')\n",
    "plt.xlabel(\"x'\")\n",
    "plt.ylabel(\"y'\")\n",
    "plt.title(\"Dependent data\")"
   ]
  },
  {
   "cell_type": "markdown",
   "metadata": {},
   "source": [
    "To apply our method, we need to know how to transfor the data $(x', y')$ to $(x,y)$, i.e., the inverse mapping. The inverse mapping is as follows:\n",
    "\\begin{align}\n",
    "    x &= \\frac{x' - y'}{4} + \\sqrt{\\frac{(y - x)^2}{16} + 1} \\\\\n",
    "    y &= \\frac{x' + y'}{2} - \\sqrt{\\frac{(y - x)^2}{4} + 4}\n",
    "\\end{align}"
   ]
  },
  {
   "cell_type": "code",
   "execution_count": null,
   "metadata": {},
   "outputs": [],
   "source": [
    "# Apply inverse\n",
    "xorig = (x - y)/4 + np.sqrt((y - x)**2/16+1)\n",
    "yorig = (x + y)/2 - np.sqrt((y - x)**2/4 +4)\n",
    "plt.plot(xorig, yorig, '.')\n",
    "plt.xlabel(\"x\")\n",
    "plt.ylabel(\"y\")\n",
    "plt.title(\"Original data\")"
   ]
  },
  {
   "cell_type": "code",
   "execution_count": null,
   "metadata": {
    "scrolled": false
   },
   "outputs": [],
   "source": [
    "# Apply fastkde when assuming independent and assuming independent\n",
    "def get_kde_score(data):\n",
    "    kde = KDE(data=data)\n",
    "    kde.compute_bandwidth()\n",
    "    return np.sum(np.log(kde.score_samples(data)))\n",
    "score_dependent = get_kde_score(np.array([x, y]).T)\n",
    "score_independent = get_kde_score(x) + get_kde_score(y)\n",
    "print(\"Score when assuming dependent:   {:7.3f}\".format(score_dependent))\n",
    "print(\"Score when assuming independent: {:7.3f}\".format(score_independent))"
   ]
  },
  {
   "cell_type": "code",
   "execution_count": null,
   "metadata": {},
   "outputs": [],
   "source": [
    "# Apply fastkde when assuming independent and assuming independent for original data\n",
    "score_dependent = get_kde_score(np.array([xorig, yorig]).T)\n",
    "score_independent = get_kde_score(xorig) + get_kde_score(yorig)\n",
    "print(\"Score when assuming dependent:   {:7.3f}\".format(score_dependent))\n",
    "print(\"Score when assuming independent: {:7.3f}\".format(score_independent))"
   ]
  },
  {
   "cell_type": "code",
   "execution_count": null,
   "metadata": {},
   "outputs": [],
   "source": [
    "u = (y - x) / np.sqrt((y - x)**2 + 16)\n",
    "H = (1 - u) / 4"
   ]
  },
  {
   "cell_type": "code",
   "execution_count": null,
   "metadata": {},
   "outputs": [],
   "source": [
    "kdexy = KDE(data=np.array([xorig, yorig]).T)\n",
    "kdexy.compute_bandwidth()\n",
    "scores = kdexy.score_samples(np.array([xorig, yorig]).T) * H\n",
    "score_dependent = np.sum(np.log(scores))\n",
    "score_dependent"
   ]
  },
  {
   "cell_type": "code",
   "execution_count": null,
   "metadata": {},
   "outputs": [],
   "source": [
    "kdex, kdey = KDE(data=xorig), KDE(data=yorig)\n",
    "kdex.compute_bandwidth(), kdey.compute_bandwidth()\n",
    "scores = kdex.score_samples(xorig) * kdey.score_samples(yorig) * H\n",
    "score_independent = np.sum(np.log(scores))\n",
    "score_independent"
   ]
  },
  {
   "cell_type": "markdown",
   "metadata": {},
   "source": [
    "## Loglikelihoods for different number of datapoints"
   ]
  },
  {
   "cell_type": "code",
   "execution_count": null,
   "metadata": {},
   "outputs": [],
   "source": [
    "n = 10\n",
    "d = 2\n",
    "\n",
    "def loglikelihoods(n, d):\n",
    "    data = np.random.randn(n, d)\n",
    "    kde = KDE(data=data)\n",
    "    kde.compute_bandwidth()\n",
    "    score_dependent = np.sum(np.log(kde.score_samples(data)))\n",
    "    score_independent = 0\n",
    "    for i in range(d):\n",
    "        kde = KDE(data=data[:, i:i+1])\n",
    "        kde.compute_bandwidth()\n",
    "        score_independent += np.sum(np.log(kde.score_samples(data[:, i:i+1])))\n",
    "        \n",
    "    kde = KDE(data=data[:, 0:1])\n",
    "    kde.compute_bandwidth()\n",
    "    s = np.sum(np.log(kde.score_samples(data[:, 0:1])))\n",
    "    kde = KDE(data=data[:, 1:d])\n",
    "    kde.compute_bandwidth()\n",
    "    s += np.sum(np.log(kde.score_samples(data[:, 1:d])))\n",
    "    return score_dependent, score_independent, s\n",
    "loglikelihoods(1000, 10)"
   ]
  },
  {
   "cell_type": "code",
   "execution_count": null,
   "metadata": {},
   "outputs": [],
   "source": [
    "kdex.bandwidth"
   ]
  },
  {
   "cell_type": "code",
   "execution_count": null,
   "metadata": {},
   "outputs": [],
   "source": []
  },
  {
   "cell_type": "code",
   "execution_count": null,
   "metadata": {},
   "outputs": [],
   "source": []
  },
  {
   "cell_type": "code",
   "execution_count": null,
   "metadata": {},
   "outputs": [],
   "source": []
  },
  {
   "cell_type": "code",
   "execution_count": null,
   "metadata": {},
   "outputs": [],
   "source": []
  },
  {
   "cell_type": "code",
   "execution_count": null,
   "metadata": {},
   "outputs": [],
   "source": []
  },
  {
   "cell_type": "code",
   "execution_count": null,
   "metadata": {},
   "outputs": [],
   "source": []
  },
  {
   "cell_type": "code",
   "execution_count": null,
   "metadata": {},
   "outputs": [],
   "source": []
  },
  {
   "cell_type": "code",
   "execution_count": null,
   "metadata": {},
   "outputs": [],
   "source": []
  },
  {
   "cell_type": "markdown",
   "metadata": {},
   "source": [
    "## Determining the dependence using data-driven technique"
   ]
  },
  {
   "cell_type": "code",
   "execution_count": null,
   "metadata": {},
   "outputs": [],
   "source": [
    "help(pd.DataFrame)"
   ]
  },
  {
   "cell_type": "code",
   "execution_count": null,
   "metadata": {},
   "outputs": [],
   "source": [
    "df = pd.DataFrame([x, y], columns=[\"x\", \"y\", \"z\"])\n",
    "features = [\"1\", \"df['x']\", \"df['y']\", \"df['x']**2\", \"df['x']*df['y']\", \"df['y']**2\"]\n",
    "logfile = os.path.join(\"log\", \"artificial_data.txt\")\n",
    "es = ErrorStatistics(1)\n",
    "es.set_mu_features(features)\n",
    "es.set_sigma_features(features)\n",
    "es.set_data(df, df[\"z\"])\n",
    "es.sequential_forward_selection(logfile=logfile)"
   ]
  },
  {
   "cell_type": "code",
   "execution_count": null,
   "metadata": {},
   "outputs": [],
   "source": [
    "es.set_parameters(np.zeros_like(es.get_current_values()))\n",
    "es.set_mask(mask_x_mu=[[True], [True], [False], [True], [False], [False]],\n",
    "            mask_x_sigma=[[[True]], [[True]], [[False]], [[True]], [[False]], [[False]]])\n",
    "es.optimize(method=\"custom\")"
   ]
  },
  {
   "cell_type": "code",
   "execution_count": null,
   "metadata": {},
   "outputs": [],
   "source": [
    "a, b, c, d, e, f = es.get_current_values()  # z = a + bx + cx^2"
   ]
  },
  {
   "cell_type": "code",
   "execution_count": null,
   "metadata": {},
   "outputs": [],
   "source": [
    "plt.plot(df['x'], df['z'], '.')"
   ]
  },
  {
   "cell_type": "code",
   "execution_count": null,
   "metadata": {},
   "outputs": [],
   "source": [
    "df[\"znew\"] = (df['z']-a - b*df['x'] - c*df['x']**2) / (d + e*df['x'] + f*df['x']**2)\n",
    "plt.plot(df['x'], df[\"znew\"], '.')"
   ]
  },
  {
   "cell_type": "code",
   "execution_count": null,
   "metadata": {},
   "outputs": [],
   "source": [
    "kde_old = KDE(df[[\"x\", \"z\"]].values)\n",
    "kde_old.compute_bandwidth()\n",
    "np.sum(np.log(kde_old.score_samples(df[[\"x\", \"z\"]])))"
   ]
  },
  {
   "cell_type": "code",
   "execution_count": null,
   "metadata": {},
   "outputs": [],
   "source": [
    "kde_old = KDE(df[[\"x\", \"znew\"]].values)\n",
    "kde_old.compute_bandwidth()\n",
    "determinant = 1 / (d + e*df['x'] + f*df['x']**2)\n",
    "np.sum(np.log(kde_old.score_samples(df[[\"x\", \"znew\"]])*determinant))"
   ]
  },
  {
   "cell_type": "code",
   "execution_count": null,
   "metadata": {},
   "outputs": [],
   "source": []
  },
  {
   "cell_type": "code",
   "execution_count": null,
   "metadata": {},
   "outputs": [],
   "source": []
  },
  {
   "cell_type": "code",
   "execution_count": null,
   "metadata": {},
   "outputs": [],
   "source": []
  },
  {
   "cell_type": "code",
   "execution_count": null,
   "metadata": {},
   "outputs": [],
   "source": []
  },
  {
   "cell_type": "code",
   "execution_count": null,
   "metadata": {},
   "outputs": [],
   "source": []
  },
  {
   "cell_type": "code",
   "execution_count": null,
   "metadata": {},
   "outputs": [],
   "source": []
  },
  {
   "cell_type": "code",
   "execution_count": null,
   "metadata": {},
   "outputs": [],
   "source": []
  },
  {
   "cell_type": "code",
   "execution_count": null,
   "metadata": {},
   "outputs": [],
   "source": []
  },
  {
   "cell_type": "code",
   "execution_count": null,
   "metadata": {},
   "outputs": [],
   "source": []
  },
  {
   "cell_type": "code",
   "execution_count": null,
   "metadata": {},
   "outputs": [],
   "source": []
  },
  {
   "cell_type": "code",
   "execution_count": null,
   "metadata": {},
   "outputs": [],
   "source": []
  },
  {
   "cell_type": "code",
   "execution_count": null,
   "metadata": {},
   "outputs": [],
   "source": [
    "# Open the dataset\n",
    "with open(os.path.join('pickles', 'df.p'), 'rb') as f:\n",
    "    dfs, scaling = pickle.load(f)\n",
    "scaling = scaling.T  # [time vstart vend]\n",
    "scaling = scaling[scaling[:, 2] > 0, :]  # Remove full stops\n",
    "scaling_old = scaling.copy()\n",
    "scaling[:, 1] = scaling[:, 1] - scaling[:, 2]  # Now it becomes: [time deltav vend] (less correlation)\n",
    "scaling[:, 0] = scaling[:, 1] / scaling[:, 0]  # Now it becomes: [deceleration deltav vend] (better behaved)\n",
    "#std_scaling = np.std(scaling, axis=0)\n",
    "#mean_scaling = np.mean(scaling, axis=0)\n",
    "#scaling = (scaling - mean_scaling) / std_scaling"
   ]
  },
  {
   "cell_type": "code",
   "execution_count": null,
   "metadata": {},
   "outputs": [],
   "source": [
    "kde = KDE(data=scaling_old)\n",
    "kde.compute_bandwidth(max_bw=2)\n",
    "np.sum(np.log(kde.score_samples(scaling_old)))"
   ]
  },
  {
   "cell_type": "code",
   "execution_count": null,
   "metadata": {},
   "outputs": [],
   "source": [
    "kde = KDE(data=scaling_old/np.std(scaling_old, axis=0))\n",
    "kde.compute_bandwidth()\n",
    "np.sum(np.log(kde.score_samples(scaling_old/np.std(scaling_old, axis=0)) / np.prod(np.std(scaling_old, axis=0))))"
   ]
  },
  {
   "cell_type": "code",
   "execution_count": null,
   "metadata": {},
   "outputs": [],
   "source": [
    "kde = KDE(data=scaling)\n",
    "kde.compute_bandwidth(max_bw=1)\n",
    "determinant = np.abs(scaling_old[:, 1] - scaling_old[:, 2]) / scaling_old[:, 0]**2\n",
    "np.sum(np.log(kde.score_samples(scaling)*determinant))"
   ]
  },
  {
   "cell_type": "code",
   "execution_count": null,
   "metadata": {},
   "outputs": [],
   "source": [
    "kde = KDE(data=scaling/np.std(scaling, axis=0))\n",
    "kde.compute_bandwidth()\n",
    "np.sum(np.log(kde.score_samples(scaling/np.std(scaling, axis=0)) * determinant / np.prod(np.std(scaling, axis=0))))"
   ]
  },
  {
   "cell_type": "code",
   "execution_count": null,
   "metadata": {},
   "outputs": [],
   "source": [
    "kdex = KDE(data=scaling[:, 0])\n",
    "kdex.compute_bandwidth()\n",
    "scorex = kdex.score_samples(scaling[:, 0])\n",
    "kdey = KDE(data=scaling[:, 1:])\n",
    "kdey.compute_bandwidth()\n",
    "scorey = kdey.score_samples(scaling[:, 1:])\n",
    "np.sum(np.log(scorex*scorey*determinant))"
   ]
  },
  {
   "cell_type": "code",
   "execution_count": null,
   "metadata": {},
   "outputs": [],
   "source": [
    "kdex = KDE(data=scaling[:, 0]/np.std(scaling[:, 0]))\n",
    "kdex.compute_bandwidth()\n",
    "scorex = kdex.score_samples(scaling[:, 0] / np.std(scaling[:, 0]))\n",
    "kdey = KDE(data=scaling[:, 1:]/np.std(scaling[:, 1:], axis=0))\n",
    "kdey.compute_bandwidth()\n",
    "scorey = kdey.score_samples(scaling[:, 1:] / np.std(scaling[:, 1:], axis=0))\n",
    "np.sum(np.log(scorex*scorey*determinant / np.prod(np.std(scaling, axis=0))))"
   ]
  },
  {
   "cell_type": "code",
   "execution_count": null,
   "metadata": {},
   "outputs": [],
   "source": []
  },
  {
   "cell_type": "code",
   "execution_count": null,
   "metadata": {},
   "outputs": [],
   "source": []
  },
  {
   "cell_type": "code",
   "execution_count": null,
   "metadata": {},
   "outputs": [],
   "source": []
  },
  {
   "cell_type": "code",
   "execution_count": null,
   "metadata": {},
   "outputs": [],
   "source": []
  },
  {
   "cell_type": "code",
   "execution_count": null,
   "metadata": {},
   "outputs": [],
   "source": []
  },
  {
   "cell_type": "code",
   "execution_count": null,
   "metadata": {},
   "outputs": [],
   "source": []
  },
  {
   "cell_type": "code",
   "execution_count": null,
   "metadata": {},
   "outputs": [],
   "source": [
    "plt.plot(scaling[:, 1], scaling[:, 2], '.')"
   ]
  },
  {
   "cell_type": "code",
   "execution_count": null,
   "metadata": {},
   "outputs": [],
   "source": []
  },
  {
   "cell_type": "code",
   "execution_count": null,
   "metadata": {},
   "outputs": [],
   "source": []
  },
  {
   "cell_type": "code",
   "execution_count": null,
   "metadata": {},
   "outputs": [],
   "source": []
  },
  {
   "cell_type": "code",
   "execution_count": null,
   "metadata": {},
   "outputs": [],
   "source": []
  },
  {
   "cell_type": "code",
   "execution_count": null,
   "metadata": {},
   "outputs": [],
   "source": []
  },
  {
   "cell_type": "code",
   "execution_count": null,
   "metadata": {},
   "outputs": [],
   "source": []
  },
  {
   "cell_type": "code",
   "execution_count": null,
   "metadata": {},
   "outputs": [],
   "source": []
  }
 ],
 "metadata": {
  "kernelspec": {
   "display_name": "Python 3",
   "language": "python",
   "name": "python3"
  },
  "language_info": {
   "codemirror_mode": {
    "name": "ipython",
    "version": 3
   },
   "file_extension": ".py",
   "mimetype": "text/x-python",
   "name": "python",
   "nbconvert_exporter": "python",
   "pygments_lexer": "ipython3",
   "version": "3.7.3"
  }
 },
 "nbformat": 4,
 "nbformat_minor": 2
}
