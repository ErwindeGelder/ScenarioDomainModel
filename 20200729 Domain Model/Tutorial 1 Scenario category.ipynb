{
 "cells": [
  {
   "cell_type": "markdown",
   "metadata": {},
   "source": [
    "# Tutorial 1: Instatiating a scenario category\n",
    "\n",
    "In this tutorial, we will cover the following items:\n",
    "\n",
    "1. How to create *actor categories*, *activity categories*, and the *static environment category*\n",
    "2. How to instantiate a scenario category\n",
    "3. What we can do with the tags\n",
    "4. How the `include` can be used\n",
    "5. How the objects can be exported"
   ]
  },
  {
   "cell_type": "code",
   "execution_count": 1,
   "metadata": {},
   "outputs": [],
   "source": [
    "# Before starting, let us do the necessary imports\n",
    "from domain_model import ActorCategory, ActivityCategory, Constant, ScenarioCategory, \\\n",
    "    Sinusoidal, Spline3Knots, StateVariable, StaticEnvironmentCategory, Tag, VehicleType"
   ]
  },
  {
   "cell_type": "markdown",
   "metadata": {},
   "source": [
    "## 1. How to create *actor categories*, *activity categories*, and the *static environment category*\n",
    "\n",
    "In this tutorial, we will create a *scenario category* in which another vehicle changes lane such that it becomes the ego vehicle's leading vehicle. This is often referred to as a \"cut-in scenario\". The *scenario category* is depicted in the figure below. Here, the blue car represents the ego vehicle and the red car represents the vehicle that performs the cut in.\n",
    "\n",
    "<img src=\"./examples/images/cut-in.png\" alt=\"Cut in\" width=\"400\"/>\n",
    "\n",
    "To create the *scenario category*, we first need to create the *actor categories*, *activity categories*, and the *static environment category*. Let us start with the *actor categories*. Just like most objects, an *actor category* has a `name`, a `uid` (a unique ID), and `tags`. Additionally, an *actor category* has a `vehicle_type`. \n",
    "\n",
    "In this implementation of the domain model, it is checked whether the correct types are used. For example, `name` must be a string. Similarly, `uid` must be an integer. `tags` must be a (possibly empty) list of type `Tag`. This is to ensure that only tags are chosen out of a predefined list. This is done for consistency, such that, for example, users do not use the tag \"braking\" at one time and \"Braking\" at another time. Note, however, that the disadvantage is that it might be very well possible that the list of possible tags is not complete, so if there is a good reason to add a `Tag` this should be allowed. Lastly, the `vehicle_type` must be of type `VehicleType`.\n",
    "\n",
    "Now let us create the *actor categories*. For this example, we assume that both *actor categories* are \"vehicles\". Note that we can ignore the `uid` for now. If no `tags` are provided, it will default to an empty list."
   ]
  },
  {
   "cell_type": "code",
   "execution_count": 2,
   "metadata": {},
   "outputs": [],
   "source": [
    "ego_vehicle = ActorCategory(VehicleType.Vehicle, name=\"Ego vehicle\", tags=[Tag.EgoVehicle])\n",
    "target_vehicle = ActorCategory(VehicleType.Vehicle, name=\"Target vehicle\")"
   ]
  },
  {
   "cell_type": "markdown",
   "metadata": {},
   "source": [
    "It is as simple as that. If it does not throw an error, you can be assured that a correct *actor category* is created. For example, if we would forget to add the brackets around the `Tag.EgoVehicle` - such that it would not be a *list* of `Tag` - an error will be thrown:"
   ]
  },
  {
   "cell_type": "code",
   "execution_count": 3,
   "metadata": {},
   "outputs": [
    {
     "name": "stdout",
     "output_type": "stream",
     "text": [
      "Input 'tags' should be of type typing.List but is of type <enum 'Tag'>.\n"
     ]
    }
   ],
   "source": [
    "# The following code results in an error! \n",
    "# The error is captured as to show only the final error message.\n",
    "try:\n",
    "    ActorCategory(VehicleType.Vehicle, name=\"Ego vehicle\", tags=Tag.EgoVehicle)\n",
    "except TypeError as error:\n",
    "    print(error)"
   ]
  },
  {
   "cell_type": "markdown",
   "metadata": {},
   "source": [
    "Now let us create the *activity categories*. "
   ]
  },
  {
   "cell_type": "code",
   "execution_count": 4,
   "metadata": {},
   "outputs": [],
   "source": [
    "following_lane = ActivityCategory(Constant(), StateVariable.LATERAL_POSITION,\n",
    "                                  name=\"Following lane\",\n",
    "                                  tags=[Tag.VehicleLateralActivity_GoingStraight])\n",
    "changing_lane = ActivityCategory(Sinusoidal(), StateVariable.LATERAL_POSITION,\n",
    "                                 name=\"Changing lane\",\n",
    "                                 tags=[Tag.VehicleLateralActivity_ChangingLane])\n",
    "driving_forward = ActivityCategory(Spline3Knots(), StateVariable.SPEED,\n",
    "                                   name=\"Driving forward\",\n",
    "                                   tags=[Tag.VehicleLongitudinalActivity_DrivingForward])"
   ]
  }
 ],
 "metadata": {
  "kernelspec": {
   "display_name": "Python 3",
   "language": "python",
   "name": "python3"
  },
  "language_info": {
   "codemirror_mode": {
    "name": "ipython",
    "version": 3
   },
   "file_extension": ".py",
   "mimetype": "text/x-python",
   "name": "python",
   "nbconvert_exporter": "python",
   "pygments_lexer": "ipython3",
   "version": "3.7.3"
  }
 },
 "nbformat": 4,
 "nbformat_minor": 2
}
