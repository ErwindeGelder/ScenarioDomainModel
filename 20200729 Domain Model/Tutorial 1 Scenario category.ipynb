{
 "cells": [
  {
   "cell_type": "markdown",
   "metadata": {},
   "source": [
    "# Tutorial 1: Instatiating a *scenario category*\n",
    "\n",
    "In this tutorial, we will cover the following items:\n",
    "\n",
    "1. Create *actor categories*, *activity categories*, and *static physical thing categories*\n",
    "2. Instantiate a *scenario category*\n",
    "3. Show all tags of the *scenario category*\n",
    "4. Use the `includes` function of a *scenario category*\n",
    "5. Export the objects"
   ]
  },
  {
   "cell_type": "code",
   "execution_count": 1,
   "metadata": {},
   "outputs": [],
   "source": [
    "# Before starting, let us do the necessary imports\n",
    "import os\n",
    "import json\n",
    "from domain_model import ActorCategory, ActivityCategory, Constant, ScenarioCategory, \\\n",
    "    Sinusoidal, Spline3Knots, StateVariable, StaticPhysicalThingCategory, Tag, VehicleType, \\\n",
    "    actor_category_from_json, scenario_category_from_json"
   ]
  },
  {
   "cell_type": "markdown",
   "metadata": {},
   "source": [
    "## 1. Create *actor categories*, *activity categories*, and the *static physical thing categories*\n",
    "\n",
    "In this tutorial, we will create a *scenario category* in which another vehicle changes lane such that it becomes the ego vehicle's leading vehicle. This is often referred to as a \"cut-in scenario\". The *scenario category* is depicted in the figure below. Here, the blue car represents the ego vehicle and the red car represents the vehicle that performs the cut in.\n",
    "\n",
    "<img src=\"./examples/images/cut-in.png\" alt=\"Cut in\" width=\"400\"/>\n",
    "\n",
    "To create the *scenario category*, we first need to create the *actor categories*, *activity categories*, and the *static environment category*. Let us start with the *actor categories*. Just like most objects, an *actor category* has a `name`, a `uid` (a unique ID), and `tags`. Additionally, an *actor category* has a `vehicle_type`. \n",
    "\n",
    "In this implementation of the domain model, it is checked whether the correct types are used. For example, `name` must be a string. Similarly, `uid` must be an integer. `tags` must be a (possibly empty) list of type `Tag`. This is to ensure that only tags are chosen out of a predefined list. This is done for consistency, such that, for example, users do not use the tag \"braking\" at one time and \"Braking\" at another time. Note, however, that the disadvantage is that it might be very well possible that the list of possible tags is not complete, so if there is a good reason to add a `Tag` this should be allowed. Lastly, the `vehicle_type` must be of type `VehicleType`.\n",
    "\n",
    "Now let us create the *actor categories*. For this example, we assume that both *actor categories* are \"vehicles\". Note that we can ignore the `uid` for now. If no `tags` are provided, it will default to an empty list."
   ]
  },
  {
   "cell_type": "code",
   "execution_count": 2,
   "metadata": {},
   "outputs": [],
   "source": [
    "EGO_VEHICLE = ActorCategory(VehicleType.Vehicle, name=\"Ego vehicle\", \n",
    "                            tags=[Tag.EgoVehicle, Tag.RoadUserType_Vehicle])\n",
    "TARGET_VEHICLE = ActorCategory(VehicleType.Vehicle, name=\"Target vehicle\",\n",
    "                               tags=[Tag.RoadUserType_Vehicle])"
   ]
  },
  {
   "cell_type": "markdown",
   "metadata": {},
   "source": [
    "It is as simple as that. If it does not throw an error, you can be assured that a correct *actor category* is created. For example, if we would forget to add the brackets around the `Tag.RoadUserType_Vehicle` - such that it would not be a *list* of `Tag` - an error will be thrown:"
   ]
  },
  {
   "cell_type": "code",
   "execution_count": 3,
   "metadata": {},
   "outputs": [
    {
     "name": "stdout",
     "output_type": "stream",
     "text": [
      "Input 'tags' should be of type typing.List but is of type <enum 'Tag'>.\n"
     ]
    }
   ],
   "source": [
    "# The following code results in an error! \n",
    "# The error is captured as to show only the final error message.\n",
    "try:\n",
    "    ActorCategory(VehicleType.Vehicle, name=\"Target vehicle\", tags=Tag.RoadUserType_Vehicle)\n",
    "except TypeError as error:\n",
    "    print(error)"
   ]
  },
  {
   "cell_type": "markdown",
   "metadata": {},
   "source": [
    "Now let us create the *activity categories*:"
   ]
  },
  {
   "cell_type": "code",
   "execution_count": 4,
   "metadata": {},
   "outputs": [],
   "source": [
    "FOLLOWING_LANE = ActivityCategory(Constant(), StateVariable.LATERAL_POSITION,\n",
    "                                  name=\"Following lane\",\n",
    "                                  tags=[Tag.VehicleLateralActivity_GoingStraight])\n",
    "CHANGING_LANE = ActivityCategory(Sinusoidal(), StateVariable.LATERAL_POSITION,\n",
    "                                 name=\"Changing lane\",\n",
    "                                 tags=[Tag.VehicleLateralActivity_ChangingLane])\n",
    "DRIVING_FORWARD = ActivityCategory(Spline3Knots(), StateVariable.SPEED,\n",
    "                                   name=\"Driving forward\",\n",
    "                                   tags=[Tag.VehicleLongitudinalActivity_DrivingForward])"
   ]
  },
  {
   "cell_type": "markdown",
   "metadata": {},
   "source": [
    "The last object we need to define before we can define the *scenario category* is the *static physical thing category*. A *scenario category* may contain multiple *static physical thing categories*, but for now we only define one. We assume that the scenario takes place at a straight motorway with multiple lanes:"
   ]
  },
  {
   "cell_type": "code",
   "execution_count": 5,
   "metadata": {},
   "outputs": [],
   "source": [
    "MOTORWAY = StaticPhysicalThingCategory(description=\"Motorway with multiple lanes\",\n",
    "                                       name=\"Motorway\",\n",
    "                                       tags=[Tag.RoadLayout_Straight,\n",
    "                                             Tag.RoadType_PrincipleRoad_Motorway])"
   ]
  },
  {
   "cell_type": "markdown",
   "metadata": {},
   "source": [
    "## 2. Instantiate a *scenario category*\n",
    "\n",
    "To define a *scenario category*, we need a description, a location to an image, and a *static environment category*. Next, to describe the dynamic content of the scenarios, the *actor categories* can be passed using the `set_actors` function and the *activity categories* can be passed using the `set_activities` function. Finally, using `set_acts`, it is described which activity is connected to which actor. \n",
    "\n",
    "Note 1: The `update_uids=True` in `set_actors` and `set_activities` ensures that the different *actor categories* and *activity categories* have a unique ID. \n",
    "\n",
    "Note 2: It is possible that two actors perform the same activity. In this example, both the ego vehicle and the target vehicle are driving forward."
   ]
  },
  {
   "cell_type": "code",
   "execution_count": 6,
   "metadata": {},
   "outputs": [],
   "source": [
    "CUTIN = ScenarioCategory(\"Cut-in at the motorway\",\n",
    "                         \"./examples/images/cut-in.png\",\n",
    "                         name=\"Cut-in\")\n",
    "CUTIN.set_static_physical_things([MOTORWAY])\n",
    "CUTIN.set_actors([EGO_VEHICLE, TARGET_VEHICLE], update_uids=True)\n",
    "CUTIN.set_activities([FOLLOWING_LANE, CHANGING_LANE, DRIVING_FORWARD], update_uids=True)\n",
    "CUTIN.set_acts([(EGO_VEHICLE, DRIVING_FORWARD), (EGO_VEHICLE, FOLLOWING_LANE),\n",
    "                (TARGET_VEHICLE, DRIVING_FORWARD), (TARGET_VEHICLE, CHANGING_LANE)])"
   ]
  },
  {
   "cell_type": "markdown",
   "metadata": {},
   "source": [
    "## 3. Show all tags of the *scenario category*\n",
    "\n",
    "The tags should be used to define the *scenario category* in such a manner that also a computer can understand. However, we did not pass any tags to the *scenario category* itself. On the other hand, the attributes of the *scenario category* (in this case, the *static environment category*, the *activity categories*, and the *actor categories*) have tags. Using the `derived_tags` function of the *scenario category*, these tags can be retrieved.\n",
    "\n",
    "Running the `derived_tags` function returns a dictionary with (key,value) pairs. Each key is formatted as `<name>::<class>` and the corresponding value contains a list of tags that are associated to that particular object. For example, `Ego vehicle::ActorCategory` is a key and the corresponding tags are the tags that are passed when instantiating the ego vehicle (`EgoVehicle`) and the tags that are part of the *activity categories* that are connected with the ego vehicle (`GoingStraight` and `DrivingForward`)."
   ]
  },
  {
   "cell_type": "code",
   "execution_count": 7,
   "metadata": {},
   "outputs": [
    {
     "data": {
      "text/plain": [
       "{'Ego vehicle::ActorCategory': [<Tag.VehicleLateralActivity_GoingStraight: 14>,\n",
       "  <Tag.RoadUserType_Vehicle: 1>,\n",
       "  <Tag.EgoVehicle: 13>,\n",
       "  <Tag.VehicleLongitudinalActivity_DrivingForward: 24>],\n",
       " 'Target vehicle::ActorCategory': [<Tag.RoadUserType_Vehicle: 1>,\n",
       "  <Tag.VehicleLateralActivity_ChangingLane: 15>,\n",
       "  <Tag.VehicleLongitudinalActivity_DrivingForward: 24>],\n",
       " 'Motorway::StaticPhysicalThingCategory': [<Tag.RoadLayout_Straight: 131>,\n",
       "  <Tag.RoadType_PrincipleRoad_Motorway: 65>]}"
      ]
     },
     "execution_count": 7,
     "metadata": {},
     "output_type": "execute_result"
    }
   ],
   "source": [
    "CUTIN.derived_tags()"
   ]
  },
  {
   "cell_type": "markdown",
   "metadata": {},
   "source": [
    "Another way - and possibly easier way - to show the tags, is to simply print the scenario category. Doing this will show the name, the description, and all tags of the scenario category."
   ]
  },
  {
   "cell_type": "code",
   "execution_count": 8,
   "metadata": {},
   "outputs": [
    {
     "name": "stdout",
     "output_type": "stream",
     "text": [
      "Name: Cut-in\n",
      "Description:\n",
      "  Cut-in  at  the  motorway\n",
      "Tags:\n",
      "├─ Ego vehicle::ActorCategory\n",
      "│  ├─ VehicleLateralActivity_GoingStraight\n",
      "│  ├─ RoadUserType_Vehicle\n",
      "│  ├─ EgoVehicle\n",
      "│  └─ VehicleLongitudinalActivity_DrivingForward\n",
      "├─ Target vehicle::ActorCategory\n",
      "│  ├─ RoadUserType_Vehicle\n",
      "│  ├─ VehicleLateralActivity_ChangingLane\n",
      "│  └─ VehicleLongitudinalActivity_DrivingForward\n",
      "└─ Motorway::StaticPhysicalThingCategory\n",
      "   ├─ RoadLayout_Straight\n",
      "   └─ RoadType_PrincipleRoad_Motorway\n",
      "\n"
     ]
    }
   ],
   "source": [
    "print(CUTIN)"
   ]
  },
  {
   "cell_type": "markdown",
   "metadata": {},
   "source": [
    "## 4. Use the *includes* function of a *scenario category*\n",
    "\n",
    "A *scenario category* A includes another *scenario category* B if it comprises all scenarios that are comprised in B. Loosely said, this means that *scenario category* A is \"more general\" than *scenario category* B. To demonstrate this, let us first create another *scenario category*. The only different between the following *scenario category* is that the target vehicle comes from the right side of the ego vehicle. This means that the target vehicle performs a left lane change, whereas our previously defined *scenario category* did not define to which side the lane change was."
   ]
  },
  {
   "cell_type": "code",
   "execution_count": 9,
   "metadata": {},
   "outputs": [],
   "source": [
    "CHANGING_LANE_LEFT = ActivityCategory(Sinusoidal(), StateVariable.LATERAL_POSITION,\n",
    "                                      name=\"Changing lane left\",\n",
    "                                      tags=[Tag.VehicleLateralActivity_ChangingLane_Left])\n",
    "CUTIN_RIGHT = ScenarioCategory(\"Cut-in from the right at the motorway\",\n",
    "                               \"./examples/images/cut-in.png\", \n",
    "                               name=\"Cut-in from right\")\n",
    "CUTIN_RIGHT.set_static_physical_things([MOTORWAY])\n",
    "CUTIN_RIGHT.set_actors([EGO_VEHICLE, TARGET_VEHICLE])\n",
    "CUTIN_RIGHT.set_activities([FOLLOWING_LANE, CHANGING_LANE_LEFT, DRIVING_FORWARD])\n",
    "CUTIN_RIGHT.set_acts([(EGO_VEHICLE, DRIVING_FORWARD), (EGO_VEHICLE, FOLLOWING_LANE),\n",
    "                      (TARGET_VEHICLE, DRIVING_FORWARD), (TARGET_VEHICLE, CHANGING_LANE_LEFT)])"
   ]
  },
  {
   "cell_type": "markdown",
   "metadata": {},
   "source": [
    "To ensure ourselves that we correctly created a new *scenario category*, we can print the scenario category. Note the difference with the previously defined *scenario category*: now the target vehicle performs a left lane change (see the tag `VehicleLateralActivity_ChangingLane_Left`)."
   ]
  },
  {
   "cell_type": "code",
   "execution_count": 10,
   "metadata": {},
   "outputs": [
    {
     "name": "stdout",
     "output_type": "stream",
     "text": [
      "Name: Cut-in from right\n",
      "Description:\n",
      "  Cut-in  from  the  right  at  the  motorway\n",
      "Tags:\n",
      "├─ Ego vehicle::ActorCategory\n",
      "│  ├─ VehicleLateralActivity_GoingStraight\n",
      "│  ├─ RoadUserType_Vehicle\n",
      "│  ├─ EgoVehicle\n",
      "│  └─ VehicleLongitudinalActivity_DrivingForward\n",
      "├─ Target vehicle::ActorCategory\n",
      "│  ├─ VehicleLateralActivity_ChangingLane_Left\n",
      "│  ├─ RoadUserType_Vehicle\n",
      "│  └─ VehicleLongitudinalActivity_DrivingForward\n",
      "└─ Motorway::StaticPhysicalThingCategory\n",
      "   ├─ RoadLayout_Straight\n",
      "   └─ RoadType_PrincipleRoad_Motorway\n",
      "\n"
     ]
    }
   ],
   "source": [
    "print(CUTIN_RIGHT)"
   ]
  },
  {
   "cell_type": "markdown",
   "metadata": {},
   "source": [
    "Because our original *scenario category* (`CUTIN`) is more general than the *scenario category* we just created (`CUTIN_RIGHT`), we expect that `CUTIN` *includes* `CUTIN_RIGHT`. In other words: because all \"cut ins from the right\" are also \"cut ins\", `CUTIN` *includes* `CUTIN_RIGHT`.\n",
    "\n",
    "The converse is not true: not all \"cut ins\" are \"cut ins from the right\". \n",
    "\n",
    "Let's check it:"
   ]
  },
  {
   "cell_type": "code",
   "execution_count": 11,
   "metadata": {},
   "outputs": [
    {
     "name": "stdout",
     "output_type": "stream",
     "text": [
      "True\n",
      "False\n"
     ]
    }
   ],
   "source": [
    "print(CUTIN.includes(CUTIN_RIGHT))  # True\n",
    "print(CUTIN_RIGHT.includes(CUTIN))  # False"
   ]
  },
  {
   "cell_type": "markdown",
   "metadata": {},
   "source": [
    "## 5. Export the objects\n",
    "\n",
    "It would be cumbersome if one would be required to define a scenario category each time again. Luckily, there is an easy way to export the objects we have created. \n",
    "\n",
    "Each object of this domain model comes with a `to_json` function and a `to_json_full` function. These functions return a dictionary that can be directly written to a .json file. The difference between `to_json` and `to_json_full` is that with `to_json`, rather than also returning the full dictionary of the attributes, only a reference (using the unique ID and the name) is returned. In case of the *static environment category*, *actor category*, and *activity category*, this does not make any difference. For the *scenario category*, however, this makes a difference. \n",
    "\n",
    "To see this, let's see what the `to_json` function returns."
   ]
  },
  {
   "cell_type": "code",
   "execution_count": 12,
   "metadata": {},
   "outputs": [
    {
     "data": {
      "text/plain": [
       "{'name': 'Cut-in',\n",
       " 'id': '-1',\n",
       " 'tag': [],\n",
       " 'description': 'Cut-in at the motorway',\n",
       " 'image': './examples/images/cut-in.png',\n",
       " 'static_physical_thing_category': [{'name': 'Motorway', 'uid': -1}],\n",
       " 'actor_category': [{'name': 'Ego vehicle', 'uid': 1},\n",
       "  {'name': 'Target vehicle', 'uid': 2}],\n",
       " 'activity_category': [{'name': 'Following lane', 'uid': 1},\n",
       "  {'name': 'Changing lane', 'uid': 2},\n",
       "  {'name': 'Driving forward', 'uid': 3}],\n",
       " 'act': [{'actor': 1, 'activity': 3},\n",
       "  {'actor': 1, 'activity': 1},\n",
       "  {'actor': 2, 'activity': 3},\n",
       "  {'actor': 2, 'activity': 2}],\n",
       " 'derived_tags': {'Ego vehicle::ActorCategory': ['VehicleLateralActivity_GoingStraight',\n",
       "   'RoadUserType_Vehicle',\n",
       "   'EgoVehicle',\n",
       "   'VehicleLongitudinalActivity_DrivingForward'],\n",
       "  'Target vehicle::ActorCategory': ['RoadUserType_Vehicle',\n",
       "   'VehicleLateralActivity_ChangingLane',\n",
       "   'VehicleLongitudinalActivity_DrivingForward'],\n",
       "  'Motorway::StaticPhysicalThingCategory': ['RoadLayout_Straight',\n",
       "   'RoadType_PrincipleRoad_Motorway']}}"
      ]
     },
     "execution_count": 12,
     "metadata": {},
     "output_type": "execute_result"
    }
   ],
   "source": [
    "CUTIN.to_json()"
   ]
  },
  {
   "cell_type": "markdown",
   "metadata": {},
   "source": [
    "As can be seen, the *static physical thing category* (see `static_physical_thing_category`) only returns the `name` and `uid`. This is not enough information for us if we would like to recreate the *scenario physical thing category*. Therefore, for now we will use the `to_json_full` functionality. \n",
    "\n",
    "Note, however, that if we would like to store the objects in a database, it would be better to have separate tables for *scenario categories*, *static physical thing categories*, *activity categories*, and *actor categories*. In that case, the `to_json` function becomes handy. We will demonstrate this in a later tutorial.\n",
    "\n",
    "Also note that Python has more efficient ways to store objects than through some json code. However, the reason to opt for the current approach is that this would be easily implementable in a database, such that it is easily possible to perform queries on the data. Again, the actual application of this goes beyond the current tutorial.\n",
    "\n",
    "To save the returned dictionary to a .json file, we will use the external library `json`."
   ]
  },
  {
   "cell_type": "code",
   "execution_count": 13,
   "metadata": {},
   "outputs": [],
   "source": [
    "FILENAME = os.path.join(\"examples\", \"cutin_qualitative.json\")\n",
    "with open(FILENAME, \"w\") as FILE:\n",
    "    json.dump(CUTIN.to_json_full(), FILE, indent=4)"
   ]
  },
  {
   "cell_type": "markdown",
   "metadata": {},
   "source": [
    "So how can we use this .json code to create the *scenario category*? As each object has a `to_json_full` function, for each object there is a `<class_name>_from_json` function. For the objects discussed in this toturial, we have:\n",
    "\n",
    "- for a *static physical thing category*: `static_physical_thing_category_from_json`\n",
    "- for an *actor category*: `actor_category_from_json`\n",
    "- for an *activity category*: `actvitiy_category_from_json`\n",
    "- for a *model*: `model_from_json`\n",
    "- for a *scenario category*: `scenario_category_from_json`\n",
    "\n",
    "Each of these functions takes as input a dictionary that could be a potential output of its corresponding `to_json_full` function. \n",
    "\n",
    "To demonstrate this, let's load the just created .json file and see if we can create a new *scenario category* from this."
   ]
  },
  {
   "cell_type": "code",
   "execution_count": 14,
   "metadata": {},
   "outputs": [],
   "source": [
    "with open(FILENAME, \"r\") as FILE:\n",
    "    CUTIN2 = scenario_category_from_json(json.load(FILE))"
   ]
  },
  {
   "cell_type": "markdown",
   "metadata": {},
   "source": [
    "To see that this returns a similar *scenario category* as our previously created `CUTIN`, we can print the just created scenario category:"
   ]
  },
  {
   "cell_type": "code",
   "execution_count": 15,
   "metadata": {},
   "outputs": [
    {
     "name": "stdout",
     "output_type": "stream",
     "text": [
      "Name: Cut-in\n",
      "Description:\n",
      "  Cut-in  at  the  motorway\n",
      "Tags:\n",
      "├─ Ego vehicle::ActorCategory\n",
      "│  ├─ VehicleLateralActivity_GoingStraight\n",
      "│  ├─ RoadUserType_Vehicle\n",
      "│  ├─ EgoVehicle\n",
      "│  └─ VehicleLongitudinalActivity_DrivingForward\n",
      "├─ Target vehicle::ActorCategory\n",
      "│  ├─ RoadUserType_Vehicle\n",
      "│  ├─ VehicleLateralActivity_ChangingLane\n",
      "│  └─ VehicleLongitudinalActivity_DrivingForward\n",
      "└─ Motorway::StaticPhysicalThingCategory\n",
      "   ├─ RoadLayout_Straight\n",
      "   └─ RoadType_PrincipleRoad_Motorway\n",
      "\n"
     ]
    }
   ],
   "source": [
    "print(CUTIN2)"
   ]
  },
  {
   "cell_type": "markdown",
   "metadata": {},
   "source": [
    "Note that the just created *scenario category* is now similar to `CUTIN`, it is a different object in Python. That is, if we would change `CUTIN2`, that change will not apply to `CUTIN`.\n",
    "\n",
    "You reached the end of the first tutorial. In the [next tutorial](./Tutorial%202%20Scenario.ipynb), we will see how we can instantiate a *scenario*."
   ]
  }
 ],
 "metadata": {
  "kernelspec": {
   "display_name": "Python 3",
   "language": "python",
   "name": "python3"
  },
  "language_info": {
   "codemirror_mode": {
    "name": "ipython",
    "version": 3
   },
   "file_extension": ".py",
   "mimetype": "text/x-python",
   "name": "python",
   "nbconvert_exporter": "python",
   "pygments_lexer": "ipython3",
   "version": "3.7.3"
  }
 },
 "nbformat": 4,
 "nbformat_minor": 2
}
