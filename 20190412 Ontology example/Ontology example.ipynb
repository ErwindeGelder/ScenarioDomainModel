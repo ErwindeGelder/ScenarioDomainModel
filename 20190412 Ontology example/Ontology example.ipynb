{
 "cells": [
  {
   "cell_type": "code",
   "execution_count": null,
   "metadata": {},
   "outputs": [],
   "source": [
    "import numpy as np\n",
    "import matplotlib.pyplot as plt\n",
    "%matplotlib inline"
   ]
  },
  {
   "cell_type": "code",
   "execution_count": null,
   "metadata": {},
   "outputs": [],
   "source": [
    "# Parameters for the scenario\n",
    "v_ped = 4/3.6    # [m/s]\n",
    "v0_ego = 30/3.6  # [m/s]\n",
    "s0_ped = 5      # [m]\n",
    "s_stop = 4       # [m]     Stopping distance of ego vehicle from zebra crossing\n",
    "dmax_ego = 5     # [m/s2]  Maximum deceleration\n",
    "t_station = 3    # [s]     Time of ego at stationary condition\n",
    "a_ego = 2        # [m/s2]  Acceleration of ego\n",
    "\n",
    "t_brake = np.pi*v0_ego / (2*dmax_ego)\n",
    "theta = 2*dmax_ego/v0_ego\n",
    "s_brake = v0_ego/2*t_brake\n",
    "s0_ego = s_brake + s_stop\n",
    "t_accel = v0_ego / a_ego\n",
    "t_scenario = t_brake + t_station + t_accel\n",
    "\n",
    "t_ego_brake = np.linspace(0, t_brake)\n",
    "s_ego_brake = s0_ego - v0_ego/2*(t_ego_brake + np.sin(theta*t_ego_brake)/theta)\n",
    "t_ego_accel = np.linspace(0, t_accel)\n",
    "s_ego_accel = s_stop - 0.5*a_ego*t_ego_accel**2\n",
    "t = np.concatenate((t_ego_brake, t_ego_accel+t_brake+t_station))\n",
    "s_ego = np.concatenate((s_ego_brake, s_ego_accel))\n",
    "s_ped = s0_ped - v_ped*t\n",
    "\n",
    "plt.plot(t, s_ego)\n",
    "plt.plot(t, s_ped)"
   ]
  },
  {
   "cell_type": "code",
   "execution_count": null,
   "metadata": {},
   "outputs": [],
   "source": [
    "s_brake"
   ]
  },
  {
   "cell_type": "code",
   "execution_count": null,
   "metadata": {},
   "outputs": [],
   "source": []
  }
 ],
 "metadata": {
  "kernelspec": {
   "display_name": "Python 3",
   "language": "python",
   "name": "python3"
  },
  "language_info": {
   "codemirror_mode": {
    "name": "ipython",
    "version": 3
   },
   "file_extension": ".py",
   "mimetype": "text/x-python",
   "name": "python",
   "nbconvert_exporter": "python",
   "pygments_lexer": "ipython3",
   "version": "3.6.5"
  }
 },
 "nbformat": 4,
 "nbformat_minor": 2
}
