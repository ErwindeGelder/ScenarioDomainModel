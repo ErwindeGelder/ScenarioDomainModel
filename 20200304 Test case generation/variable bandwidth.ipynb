{
 "cells": [
  {
   "cell_type": "markdown",
   "metadata": {},
   "source": [
    "# Variable bandwidth - does it make things better?"
   ]
  },
  {
   "cell_type": "code",
   "execution_count": null,
   "metadata": {},
   "outputs": [],
   "source": [
    "import matplotlib.pyplot as plt\n",
    "import numpy as np\n",
    "from stats import KDE\n",
    "import scipy.stats"
   ]
  },
  {
   "cell_type": "markdown",
   "metadata": {},
   "source": [
    "We draw samples from a Cauchy distribution, which is knows for its heavy tails. The probability density equals:\n",
    "$$\n",
    "p(x; x_0, \\gamma) = \\frac{1}{\\pi\\gamma \\left( 1+ \\left(\\frac{x-x_0}{\\gamma}\\right)^2 \\right)}.\n",
    "$$"
   ]
  },
  {
   "cell_type": "code",
   "execution_count": null,
   "metadata": {},
   "outputs": [],
   "source": [
    "nrepeat = 100\n",
    "ndata = 100"
   ]
  },
  {
   "cell_type": "code",
   "execution_count": null,
   "metadata": {},
   "outputs": [],
   "source": [
    "xpdf = np.linspace(-10, 10, 301)\n",
    "ypdf = 1 / (np.pi*(1+xpdf**2))"
   ]
  },
  {
   "cell_type": "code",
   "execution_count": null,
   "metadata": {},
   "outputs": [],
   "source": [
    "plt.plot(xpdf, ypdf)\n",
    "plt.ylim(0, plt.ylim()[1])\n",
    "plt.xlim(np.min(xpdf), np.max(xpdf))"
   ]
  },
  {
   "cell_type": "code",
   "execution_count": null,
   "metadata": {},
   "outputs": [],
   "source": [
    "def silverman_bandwidth(xdata):\n",
    "    return 0.9*np.min((np.std(xdata), scipy.stats.iqr(xdata))) / len(xdata)**.2\n",
    "\n",
    "def ise(xpdf, yreal, yest):\n",
    "    \"\"\" Compute the integrated squared error. \"\"\"\n",
    "    return np.trapz((yreal-yest)**2, xpdf)\n",
    "\n",
    "def normal_kde(xdata, xpdf):\n",
    "    \"\"\" Fit a normal KDE and compute the likelihood. \"\"\"\n",
    "    kde = KDE(xdata)\n",
    "    kde.compute_bandwidth(max_bw=silverman_bandwidth(xdata))\n",
    "    return kde.score_samples(xpdf)\n",
    "\n",
    "def variable_kde(xdata, xpdf):\n",
    "    \"\"\" Fit a KDE with a variable bandwidth. \"\"\"\n",
    "    kde = KDE(xdata)\n",
    "    kde.constants.variable_bandwidth = True\n",
    "    kde.constants.percentile = 80\n",
    "    if kde.compute_bandwidth(max_bw=silverman_bandwidth(xdata)*100) == 0:\n",
    "        print(\"Bandwidth is not max_bw\")\n",
    "    return kde.score_samples(xpdf)\n",
    "\n",
    "def silverman(xdata, xpdf):\n",
    "    \"\"\" Fit a KDE using Silverman's rule. \"\"\"\n",
    "    kde = KDE(xdata)\n",
    "    kde.set_bandwidth(silverman_bandwidth(xdata))\n",
    "    return kde.score_samples(xpdf)\n",
    "\n",
    "def test_method(dist, fits, xpdf, ypdf, nrepeat=100, plot=False):\n",
    "    errors = np.zeros((nrepeat, len(fits)))\n",
    "    if plot:\n",
    "        n_horz_plots = 4\n",
    "        n_vert_plots = np.ceil(nrepeat/n_horz_plots).astype(np.int)\n",
    "        _, axs = plt.subplots(n_vert_plots, n_horz_plots, figsize=(16, n_vert_plots*3))\n",
    "        axs = np.ravel(axs)\n",
    "    for i in range(nrepeat):\n",
    "        xdata = dist(ndata)\n",
    "        if plot:\n",
    "            axs[i].plot(xpdf, ypdf, 'r-')\n",
    "            axs[i].set_xlim(np.min(xpdf), np.max(xpdf))\n",
    "        for j, fit in enumerate(fits):\n",
    "            yest = fit(xdata, xpdf)\n",
    "            errors[i, j] = ise(xpdf, ypdf, yest)\n",
    "            if plot:\n",
    "                axs[i].plot(xpdf, yest, ['b-', 'g-', 'y-'][j])        \n",
    "    return errors    "
   ]
  },
  {
   "cell_type": "code",
   "execution_count": null,
   "metadata": {
    "scrolled": false
   },
   "outputs": [],
   "source": [
    "np.random.seed(0)\n",
    "test_method(np.random.standard_cauchy, [normal_kde, silverman, variable_kde], \n",
    "            xpdf, ypdf, nrepeat=12, plot=True)"
   ]
  },
  {
   "cell_type": "code",
   "execution_count": null,
   "metadata": {},
   "outputs": [],
   "source": [
    "np.random.seed(0)\n",
    "errors = test_method(np.random.standard_cauchy, [normal_kde, silverman, variable_kde], \n",
    "                     xpdf, ypdf, nrepeat=100)"
   ]
  },
  {
   "cell_type": "code",
   "execution_count": null,
   "metadata": {
    "scrolled": false
   },
   "outputs": [],
   "source": [
    "np.mean(errors, axis=0)"
   ]
  },
  {
   "cell_type": "code",
   "execution_count": null,
   "metadata": {},
   "outputs": [],
   "source": [
    "np.mean(errors, axis=0)"
   ]
  },
  {
   "cell_type": "code",
   "execution_count": null,
   "metadata": {},
   "outputs": [],
   "source": [
    "np.trapz(ypdf**2, xpdf)"
   ]
  },
  {
   "cell_type": "code",
   "execution_count": null,
   "metadata": {},
   "outputs": [],
   "source": [
    "np.random.seed(0)\n",
    "while True:\n",
    "    xdata = np.random.standard_cauchy(100)\n",
    "    if np.std(xdata) > 100:\n",
    "        break"
   ]
  },
  {
   "cell_type": "code",
   "execution_count": null,
   "metadata": {},
   "outputs": [],
   "source": [
    "kde = KDE(xdata)\n",
    "kde.constants.variable_bandwidth = True\n",
    "kde.constants.percentile = 80\n",
    "kde.compute_bandwidth(max_bw=1)\n",
    "ypdf = kde.score_samples(xpdf)"
   ]
  },
  {
   "cell_type": "code",
   "execution_count": null,
   "metadata": {},
   "outputs": [],
   "source": [
    "plt.plot(xpdf, ypdf)"
   ]
  },
  {
   "cell_type": "code",
   "execution_count": null,
   "metadata": {},
   "outputs": [],
   "source": [
    "kde.bandwidth"
   ]
  },
  {
   "cell_type": "code",
   "execution_count": null,
   "metadata": {},
   "outputs": [],
   "source": [
    "bandwidth_normalized = np.sqrt(-2*np.percentile(kde.data_helpers.mindists, 80, axis=0))\n",
    "# bandwidth_normalized /= np.median(bandwidth_normalized)"
   ]
  },
  {
   "cell_type": "code",
   "execution_count": null,
   "metadata": {},
   "outputs": [],
   "source": [
    "q = np.sort(xdata)"
   ]
  },
  {
   "cell_type": "code",
   "execution_count": null,
   "metadata": {},
   "outputs": [],
   "source": [
    "q[0]"
   ]
  },
  {
   "cell_type": "code",
   "execution_count": null,
   "metadata": {},
   "outputs": [],
   "source": [
    "np.sqrt(2*np.max(bandwidth_normalized))"
   ]
  },
  {
   "cell_type": "code",
   "execution_count": null,
   "metadata": {},
   "outputs": [],
   "source": [
    "np.mean(bandwidth_normalized / kde.bandwidth)"
   ]
  },
  {
   "cell_type": "code",
   "execution_count": null,
   "metadata": {},
   "outputs": [],
   "source": [
    "kde.compute_bandwidth(max_bw=100000, max_iter=1000)"
   ]
  },
  {
   "cell_type": "code",
   "execution_count": null,
   "metadata": {},
   "outputs": [],
   "source": [
    "bandwidth_normalized / kde.bandwidth"
   ]
  },
  {
   "cell_type": "code",
   "execution_count": null,
   "metadata": {},
   "outputs": [],
   "source": []
  },
  {
   "cell_type": "code",
   "execution_count": null,
   "metadata": {
    "scrolled": true
   },
   "outputs": [],
   "source": [
    "plt.plot(xpdf, kde.score_samples(xpdf))"
   ]
  },
  {
   "cell_type": "code",
   "execution_count": null,
   "metadata": {},
   "outputs": [],
   "source": [
    "kde.constants.variable_bandwidth = True"
   ]
  },
  {
   "cell_type": "code",
   "execution_count": null,
   "metadata": {},
   "outputs": [],
   "source": [
    "kde.compute_bandwidth(max_bw=1000)"
   ]
  },
  {
   "cell_type": "code",
   "execution_count": null,
   "metadata": {},
   "outputs": [],
   "source": [
    "kde.bandwidth"
   ]
  },
  {
   "cell_type": "code",
   "execution_count": null,
   "metadata": {},
   "outputs": [],
   "source": []
  }
 ],
 "metadata": {
  "kernelspec": {
   "display_name": "Python 3",
   "language": "python",
   "name": "python3"
  },
  "language_info": {
   "codemirror_mode": {
    "name": "ipython",
    "version": 3
   },
   "file_extension": ".py",
   "mimetype": "text/x-python",
   "name": "python",
   "nbconvert_exporter": "python",
   "pygments_lexer": "ipython3",
   "version": "3.7.3"
  }
 },
 "nbformat": 4,
 "nbformat_minor": 2
}
