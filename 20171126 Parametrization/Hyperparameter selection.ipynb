{
 "cells": [
  {
   "cell_type": "markdown",
   "metadata": {},
   "source": [
    "# Method for selection of hyperparameters of parametrization"
   ]
  },
  {
   "cell_type": "code",
   "execution_count": null,
   "metadata": {
    "collapsed": false
   },
   "outputs": [],
   "source": [
    "import numpy as np\n",
    "import pickle\n",
    "from spline_inter1d import SplineInter1D, _Spline\n",
    "import matplotlib.pyplot as plt\n",
    "%matplotlib inline\n",
    "from kde import KDE\n",
    "from tqdm import tqdm_notebook as tqdm\n",
    "from sklearn.preprocessing import StandardScaler\n",
    "import os\n",
    "overwrite = False"
   ]
  },
  {
   "cell_type": "markdown",
   "metadata": {},
   "source": [
    "## Simplified example"
   ]
  },
  {
   "cell_type": "code",
   "execution_count": null,
   "metadata": {
    "collapsed": false
   },
   "outputs": [],
   "source": [
    "# Define the spline function that we later need\n",
    "spl_event = SplineInter1D([0, 1/2, 1], left_constraints=[1], right_constraints=[0])\n",
    "spl = _Spline(spl_event.t, spl_event.d, spl_event.thetafixed)\n",
    "def theta(thetatilde):\n",
    "    return spl_event.thetafixed + np.dot(spl_event.v2, thetatilde)\n",
    "def thetatilde(theta):\n",
    "    return np.dot(spl_event.v2.T, theta - spl_event.thetafixed)"
   ]
  },
  {
   "cell_type": "code",
   "execution_count": null,
   "metadata": {
    "collapsed": true
   },
   "outputs": [],
   "source": [
    "# This is the error function that measures how good the parameters 'z' fit with the curve y\n",
    "def error(y, z, sigma=0.1):\n",
    "    \"\"\"Determine the error\n",
    "    y is an test curve, evaluated at default x values\n",
    "    z is a vector containing the parameters from the kde\n",
    "    sigma 'Standard deviation', kind of allowed error\n",
    "    \"\"\"\n",
    "    # Construct spline and evaluate\n",
    "    spl.theta = theta(z)\n",
    "    yz = spl()\n",
    "    \n",
    "    # Return the function\n",
    "    # return np.mean(np.exp(-(y - yz)**2 / (2 * sigma**2))) / (sigma * np.sqrt(2*np.pi))\n",
    "    # return np.mean(-np.abs(y - yz) / sigma) - np.log(2 * sigma)\n",
    "    # return np.exp(-np.mean((y - yz)**2 / (2 * sigma * sigma)) / np.sqrt(2 * np.pi * sigma))\n",
    "    return np.exp(-np.mean(np.abs(y - yz) / sigma))"
   ]
  },
  {
   "cell_type": "code",
   "execution_count": null,
   "metadata": {
    "collapsed": false
   },
   "outputs": [],
   "source": [
    "# Do it for a very simple case\n",
    "t = np.linspace(0, 1, 100)\n",
    "spl(t)  # Sets the x-values\n",
    "v1 = -t**2 + 1\n",
    "v2 = t**2 -2*t + 1\n",
    "v3 = -t + 1\n",
    "coef_train = np.array([thetatilde(spl_event.fit(t, v1).theta), thetatilde(spl_event.fit(t, v2).theta)])\n",
    "plt.plot(t, v1, 'b', label='Training curve')\n",
    "plt.plot(t, v2, 'b')\n",
    "plt.plot(t, v3, 'r', label='Test curve')\n",
    "plt.xlabel('t')\n",
    "plt.ylabel('y')\n",
    "plt.legend()\n",
    "plt.grid('on')"
   ]
  },
  {
   "cell_type": "code",
   "execution_count": null,
   "metadata": {
    "collapsed": false
   },
   "outputs": [],
   "source": [
    "H = [0.01, 0.1, 0.2, 0.5, 1, 2]\n",
    "f, axs = plt.subplots(2, 3, figsize=(16, 8))\n",
    "for h, ax in zip(H, np.ravel(axs)):\n",
    "    kde = KDE(coef_train, bandwidth=h, scale_data=False)\n",
    "    kde.compute_kde()\n",
    "    for i in range(40):\n",
    "        z = kde.draw_random_sample(1)[0]\n",
    "        spl.theta = theta(z)\n",
    "        ax.plot(t, spl(t), color=[.5, .5, 1])\n",
    "    ax.set_title('h = {:.2f}'.format(h))\n",
    "    ax.set_xlabel('t')\n",
    "    ax.set_ylabel('y')\n",
    "    ax.grid('on')\n",
    "plt.tight_layout()"
   ]
  },
  {
   "cell_type": "code",
   "execution_count": null,
   "metadata": {
    "collapsed": false
   },
   "outputs": [],
   "source": [
    "savefile = os.path.join('pickles', 'artificial_example.p')\n",
    "N = 1000\n",
    "H = np.logspace(-2, 1, 31)\n",
    "Sigma = [0.005, 0.01, 0.05, 0.1, 0.5, 1]\n",
    "\n",
    "E = np.zeros((len(Sigma), len(H)))\n",
    "if overwrite or not os.path.exists(savefile):\n",
    "    for isigma, sigma in enumerate(tqdm(Sigma)):\n",
    "        for ih, h in enumerate(tqdm(H, leave=False)):\n",
    "            kde = KDE(coef_train, bandwidth=h, scale_data=False)\n",
    "            kde.compute_kde()\n",
    "            e = np.zeros(N)\n",
    "            for i in range(N):\n",
    "                z = kde.draw_random_sample(1)[0]\n",
    "                e[i] = error(v3, z, sigma=sigma)\n",
    "            E[isigma, ih] = np.mean(e, axis=0)\n",
    "    if not os.path.exists(os.path.dirname(savefile)):\n",
    "        os.mkdir(os.path.dirname(savefile))\n",
    "    with open(savefile, 'wb') as f:\n",
    "        pickle.dump(E, f)\n",
    "else:\n",
    "    with open(savefile, 'rb') as f:\n",
    "        E = pickle.load(f)"
   ]
  },
  {
   "cell_type": "code",
   "execution_count": null,
   "metadata": {
    "collapsed": false
   },
   "outputs": [],
   "source": [
    "f, (ax1, ax2) = plt.subplots(1, 2, figsize=(16, 4))\n",
    "for sigma, e in zip(Sigma, E):\n",
    "    plthandle = ax1.semilogx(H, e, label='sigma = {:.3f}'.format(sigma))\n",
    "    ax1.plot(H[np.argmax(e)], np.max(e), 'x', color=plthandle[0].get_color(), ms=10, mew=3)\n",
    "    plthandle = ax2.semilogx(H, (e - np.min(e)) / (np.max(e) - np.min(e)), label='sigma = {:.3f}'.format(sigma))\n",
    "    ax2.plot(H[np.argmax(e)], 1, 'x', color=plthandle[0].get_color(), ms=10, mew=3)\n",
    "ax1.grid('on')\n",
    "ax1.set_xlabel('Bandwidth')\n",
    "ax1.set_ylabel('Score')\n",
    "ax2.grid('on')\n",
    "ax2.set_xlabel('Bandwidth')\n",
    "ax2.set_ylabel('Score normalized per curve')\n",
    "ax1.legend()"
   ]
  },
  {
   "cell_type": "markdown",
   "metadata": {},
   "source": [
    "## Real example"
   ]
  },
  {
   "cell_type": "code",
   "execution_count": null,
   "metadata": {
    "collapsed": true
   },
   "outputs": [],
   "source": [
    "with open('df.p', 'rb') as f:\n",
    "    (dfs, scaling) = pickle.load(f)\n",
    "# Only use first n profiles\n",
    "n = 400\n",
    "dfs = dfs[:n].copy()\n",
    "scaling = scaling.T[:n].copy()"
   ]
  },
  {
   "cell_type": "code",
   "execution_count": null,
   "metadata": {
    "collapsed": false
   },
   "outputs": [],
   "source": [
    "# Interpolate all curves\n",
    "profiles = np.zeros((len(dfs), len(t)))\n",
    "for i, df in enumerate(dfs):\n",
    "    profiles[i] = np.interp(t, df['time'], df['vel'])"
   ]
  },
  {
   "cell_type": "markdown",
   "metadata": {},
   "source": [
    "### Influence of number of knots"
   ]
  },
  {
   "cell_type": "code",
   "execution_count": null,
   "metadata": {
    "collapsed": false
   },
   "outputs": [],
   "source": [
    "savefile = os.path.join('pickles', 'test_nknots.p')\n",
    "sigma = 0.001\n",
    "N = 2000\n",
    "NKNOTS = [0, 1, 2, 3, 4]\n",
    "H = np.logspace(-3, 0, 10)\n",
    "J = np.zeros((len(NKNOTS), len(H)))\n",
    "ntest = 25\n",
    "\n",
    "if overwrite or not os.path.exists(savefile):\n",
    "    for inknots, nknots in enumerate(tqdm(NKNOTS)):\n",
    "        print(\"Number of interior knots: {:d}\".format(nknots))\n",
    "        # Define spline function. Note the +2 because of extra exterior knots\n",
    "        spl_event = SplineInter1D(np.linspace(0, 1, nknots+2), left_constraints=[1], right_constraints=[0])\n",
    "        spl = _Spline(spl_event.t, spl_event.d, spl_event.thetafixed)\n",
    "        spl(t)  # Sets the x-values\n",
    "\n",
    "        # Compute the spline coefficients\n",
    "        ncoefs = spl_event.v2.shape[1]\n",
    "        coefs = np.zeros((len(dfs), ncoefs))\n",
    "        for i, df in enumerate(dfs):\n",
    "            coefs[i] = thetatilde(spl_event.fit(df['time'], df['vel']).theta)\n",
    "        scaler = StandardScaler()\n",
    "        scaler.fit(coefs)\n",
    "\n",
    "        # Perform the cross validation\n",
    "        for ih, h in enumerate(tqdm(H, leave=False)):\n",
    "            for idf, profile in enumerate(tqdm(profiles[:ntest], leave=False)):\n",
    "                # Construct the KDE\n",
    "                kde = KDE(scaler.transform(np.concatenate((coefs[:idf], coefs[idf+1:]))), bandwidth=h, scale_data=False)\n",
    "                kde.compute_kde()\n",
    "\n",
    "                # Generate curves and compare\n",
    "                e = np.zeros(N)\n",
    "                for i in range(N):\n",
    "                    z = scaler.inverse_transform(kde.draw_random_sample(1))[0]\n",
    "                    e[i] = error(profile, z, sigma=sigma)\n",
    "                #plt.plot(e)\n",
    "\n",
    "                # Add result to final score\n",
    "                J[inknots, ih] += np.log(np.mean(e))\n",
    "                print(\"\\rh = {:.2e}, J = {:.1f}\".format(h, J[inknots, ih]/(idf+1)*ntest), end=\"\")\n",
    "            print(\"\\rh = {:.2e}, J = {:.1f}\".format(h, J[inknots, ih]))\n",
    "            print()\n",
    "    with open(savefile, 'wb') as f:\n",
    "        pickle.dump(J, f)\n",
    "else:\n",
    "    with open(savefile, 'rb') as f:\n",
    "        J = pickle.load(f)"
   ]
  },
  {
   "cell_type": "code",
   "execution_count": null,
   "metadata": {
    "collapsed": false
   },
   "outputs": [],
   "source": [
    "for inknots, nknots in enumerate(NKNOTS):\n",
    "    plthandle = plt.semilogx(H, J[inknots], label='nknots={:d}'.format(nknots))\n",
    "    plt.plot(H[np.argmax(J[inknots])], np.max(J[inknots]), 'x', color=plthandle[0].get_color(), ms=10, mew=3)\n",
    "plt.grid('on')\n",
    "plt.xlabel('Bandwidth')\n",
    "plt.ylabel('Score')\n",
    "plt.legend()"
   ]
  },
  {
   "cell_type": "markdown",
   "metadata": {},
   "source": [
    "### Influence of number of coefficients with SVD"
   ]
  },
  {
   "cell_type": "code",
   "execution_count": null,
   "metadata": {
    "collapsed": false,
    "scrolled": false
   },
   "outputs": [],
   "source": [
    "savefile = os.path.join('pickles', 'test_svd.p')\n",
    "NKNOTS2 = [2, 3, 4]\n",
    "H2 = np.logspace(-2, 1, 10)\n",
    "\n",
    "if overwrite or not os.path.exists(savefile):\n",
    "    JJ = []\n",
    "    # Loop through all number of knots\n",
    "    for inknots, nknots in enumerate(tqdm(NKNOTS2)):\n",
    "        print(\"Number of interior knots: {:d}\".format(nknots))\n",
    "        # Define spline function. Note the +2 because of extra exterior knots\n",
    "        spl_event = SplineInter1D(np.linspace(0, 1, nknots+2), left_constraints=[1], right_constraints=[0])\n",
    "        spl = _Spline(spl_event.t, spl_event.d, spl_event.thetafixed)\n",
    "        spl(t)  # Sets the x-values\n",
    "\n",
    "        # Compute the spline coefficients\n",
    "        ncoefs = spl_event.v2.shape[1]\n",
    "        coefs = np.zeros((len(dfs), ncoefs))\n",
    "        for i, df in enumerate(dfs):\n",
    "            coefs[i] = thetatilde(spl_event.fit(df['time'], df['vel']).theta)\n",
    "        scaler = StandardScaler()\n",
    "        scaler.fit(coefs)\n",
    "\n",
    "        # Perform SVD\n",
    "        mu = np.mean(coefs, axis=0)\n",
    "        u, s, v = np.linalg.svd(coefs-mu, full_matrices=False)\n",
    "\n",
    "        # Initialize result matrix\n",
    "        jj = np.zeros((ncoefs, len(H)))\n",
    "\n",
    "        # Try all different amount of coefficients\n",
    "        for incoef, ncoef in enumerate(tqdm(range(1, ncoefs+1), leave=False)):\n",
    "            print(\"Number of coefficients: {:d}\".format(ncoef))\n",
    "            # Define the scaler\n",
    "            scaler = StandardScaler()\n",
    "            scaler.fit(u[:, :ncoef])\n",
    "            # Perform the cross validation\n",
    "            for ih, h in enumerate(tqdm(H2, leave=False)):\n",
    "                for idf, profile in enumerate(tqdm(profiles[:ntest], leave=False)):\n",
    "                    # Construct the KDE\n",
    "                    kde = KDE(scaler.transform(np.concatenate((u[:idf, :ncoef], u[idf+1:, :ncoef]))), \n",
    "                              bandwidth=h, scale_data=False)\n",
    "                    kde.compute_kde()\n",
    "\n",
    "                    # Generate curves and compare\n",
    "                    e = np.zeros(N)\n",
    "                    for i in range(N):\n",
    "                        z = scaler.inverse_transform(kde.draw_random_sample(1))[0]\n",
    "                        e[i] = error(profile, mu + np.dot(z*s[:ncoef], v[:ncoef]), sigma=sigma)\n",
    "                    #plt.plot(e)\n",
    "\n",
    "                    # Add result to final score\n",
    "                    jj[incoef, ih] += np.log(np.mean(e))\n",
    "                    print(\"\\rh = {:.2e}, J = {:.1f}\".format(h, jj[incoef, ih]/(idf+1)*ntest), end=\"\")\n",
    "                print(\"\\rh = {:.2e}, J = {:.1f}\".format(h, jj[incoef, ih]))\n",
    "                print()\n",
    "        JJ.append(jj)\n",
    "    with open(savefile, 'wb') as f:\n",
    "        pickle.dump(JJ, f)\n",
    "else:\n",
    "    with open(savefile, 'rb') as f:\n",
    "        JJ = pickle.load(f)"
   ]
  },
  {
   "cell_type": "code",
   "execution_count": null,
   "metadata": {
    "collapsed": false
   },
   "outputs": [],
   "source": [
    "f, axs = plt.subplots(1, len(JJ), figsize=(5*len(JJ), 4))\n",
    "for ax, jj, nknots in zip(axs, JJ, NKNOTS2):\n",
    "    for incoef, ncoef in enumerate(range(1, len(jj)+1)):\n",
    "        plthandle = ax.semilogx(H2, jj[incoef], label='ncoef={:d}'.format(ncoef))\n",
    "        ax.plot(H2[np.argmax(jj[incoef])], np.max(jj[incoef]), 'x', color=plthandle[0].get_color(), ms=10, mew=3)\n",
    "    ax.grid('on')\n",
    "    ax.set_xlabel('Bandwidth')\n",
    "    ax.set_ylabel('Score')\n",
    "    ax.set_title('Number of interior knots: {:d}'.format(nknots))\n",
    "    ax.legend()\n",
    "plt.tight_layout()"
   ]
  },
  {
   "cell_type": "code",
   "execution_count": null,
   "metadata": {
    "collapsed": false,
    "scrolled": false
   },
   "outputs": [],
   "source": [
    "f, axs = plt.subplots(1, len(JJ), figsize=(5*len(JJ), 4))\n",
    "for ax, j, jj, nknots in zip(axs, [J[i] for i in np.searchsorted(NKNOTS, NKNOTS2)], JJ, NKNOTS2):\n",
    "    plthandle = ax.semilogx(H, j, label='orig'.format(ncoef))\n",
    "    ax.plot(H[np.argmax(j)], np.max(j), 'x', color=plthandle[0].get_color(), ms=10, mew=3)\n",
    "    plthandle = ax.semilogx(H2, jj[-1], label='svd'.format(ncoef))\n",
    "    ax.plot(H2[np.argmax(jj[-1])], np.max(jj[-1]), 'x', color=plthandle[0].get_color(), ms=10, mew=3)\n",
    "    ax.grid('on')\n",
    "    ax.set_xlabel('Bandwidth')\n",
    "    ax.set_ylabel('Score')\n",
    "    ax.set_title('Number of interior knots: {:d}'.format(nknots))\n",
    "    ax.legend()\n",
    "plt.tight_layout()"
   ]
  },
  {
   "cell_type": "markdown",
   "metadata": {},
   "source": [
    "### Copulas"
   ]
  },
  {
   "cell_type": "code",
   "execution_count": null,
   "metadata": {
    "collapsed": false
   },
   "outputs": [],
   "source": [
    "nknots = 1\n",
    "\n",
    "spl_event = SplineInter1D(np.linspace(0, 1, nknots+2), left_constraints=[1], right_constraints=[0])\n",
    "spl = _Spline(spl_event.t, spl_event.d, spl_event.thetafixed)\n",
    "spl(t)  # Sets the x-values\n",
    "\n",
    "# Compute the spline coefficients\n",
    "ncoefs = spl_event.v2.shape[1]\n",
    "coefs = np.zeros((len(dfs), ncoefs))\n",
    "for i, df in enumerate(dfs):\n",
    "    coefs[i] = thetatilde(spl_event.fit(df['time'], df['vel']).theta)\n",
    "scaler = StandardScaler()\n",
    "scaler.fit(coefs)"
   ]
  },
  {
   "cell_type": "code",
   "execution_count": null,
   "metadata": {
    "collapsed": true
   },
   "outputs": [],
   "source": [
    "scoefs = scaler.transform(coefs)\n",
    "normcoefs = np.zeros_like(scoefs)  # Normalized coefficients, such that marginals are uniform distributions\n",
    "x = np.linspace(-5, 5, 1000)\n",
    "cdf = np.zeros((len(x), ncoefs))\n",
    "h = 0.05\n",
    "for i in range(scoefs.shape[1]):\n",
    "    kde = KDE(data=scoefs[:, i:i+1], scale_data=False, bandwidth=h)\n",
    "    kde.compute_kde()\n",
    "    y = np.exp(kde.kde.score_samples(x[:, np.newaxis]))\n",
    "    cdf[:, i] = np.cumsum(y * np.gradient(x))\n",
    "    cdf[:, i] /= cdf[-1, i]\n",
    "    normcoefs[:, i] = np.interp(scoefs[:, i], x, cdf[:, i])"
   ]
  },
  {
   "cell_type": "code",
   "execution_count": null,
   "metadata": {
    "collapsed": false
   },
   "outputs": [],
   "source": [
    "H = np.logspace(-5, -2, 10)\n",
    "\n",
    "J = np.zeros_like(H)\n",
    "for ih, h in enumerate(tqdm(H)):\n",
    "    kde = KDE(data=normcoefs, scale_data=False, bandwidth=h)\n",
    "    kde.compute_kde()\n",
    "    for idf, profile in enumerate(tqdm(profiles[:ntest], leave=False)):\n",
    "        e = np.zeros(N)\n",
    "        for i in range(N):\n",
    "            X = kde.draw_random_sample(1)[0]\n",
    "            X = np.min([np.mod(X, 2), 2-np.mod(X, 2)], axis=0)\n",
    "            Xscaled = [np.interp(X[i], cdf[:, i], x) for i in range(ncoefs)]\n",
    "            z = scaler.inverse_transform(Xscaled)\n",
    "            e[i] = error(profiles[0], z, sigma=sigma)\n",
    "        J[ih] += np.log(np.mean(e))\n",
    "        print(\"\\rh = {:.2e}, J = {:.1f}\".format(h, J[ih]/(idf+1)*ntest), end=\"\")\n",
    "    print(\"\\rh = {:.2e}, J = {:.1f}\".format(h, J[ih]))\n",
    "    print()"
   ]
  },
  {
   "cell_type": "code",
   "execution_count": null,
   "metadata": {
    "collapsed": false
   },
   "outputs": [],
   "source": [
    "X = kde.draw_random_sample(1)[0]\n",
    "X"
   ]
  },
  {
   "cell_type": "code",
   "execution_count": null,
   "metadata": {
    "collapsed": false
   },
   "outputs": [],
   "source": [
    "np.min([np.mod(X, 2), 2-np.mod(X, 2)], axis=0)"
   ]
  },
  {
   "cell_type": "code",
   "execution_count": null,
   "metadata": {
    "collapsed": false
   },
   "outputs": [],
   "source": [
    "np.min([np.mod(X, 2), np.mod(2-X, 2)], axis=0)"
   ]
  },
  {
   "cell_type": "code",
   "execution_count": null,
   "metadata": {
    "collapsed": false
   },
   "outputs": [],
   "source": [
    "gausscoefs = np.zeros_like(scoefs)\n",
    "cdf_norm = (erf(x)+1)/2\n",
    "for i in range(ncoefs):\n",
    "    gausscoefs[:, i] = np.interp(normcoefs[:, i], cdf_norm, x)\n",
    "cov = np.cov(gausscoefs.T)"
   ]
  },
  {
   "cell_type": "code",
   "execution_count": null,
   "metadata": {
    "collapsed": false,
    "scrolled": true
   },
   "outputs": [],
   "source": [
    "from scipy.stats import gaussian_kde\n",
    "\n",
    "# Calculate the point density\n",
    "i = 0\n",
    "j = 1\n",
    "xy = np.vstack([normcoefs[:, i], normcoefs[:, j]])\n",
    "z = gaussian_kde(xy)(xy)\n",
    "\n",
    "fig, ax = plt.subplots()\n",
    "ax.scatter(normcoefs[:, i], normcoefs[:, j], c=z, s=100, edgecolor='')\n",
    "plt.xlim([0, 1])\n",
    "plt.ylim([0, 1])"
   ]
  },
  {
   "cell_type": "code",
   "execution_count": null,
   "metadata": {
    "collapsed": false
   },
   "outputs": [],
   "source": [
    "J = 0\n",
    "for profile in tqdm(profiles[:ntest], leave=False):\n",
    "    e = np.zeros(N)\n",
    "    for i in range(N):\n",
    "        X = np.random.multivariate_normal(np.zeros(ncoefs), cov)\n",
    "        Xuniform = np.interp(X, x, cdf_norm)\n",
    "        Xscaled = [np.interp(Xuniform[i], cdf[:, i], x) for i in range(ncoefs)]\n",
    "        z = scaler.inverse_transform(Xscaled)\n",
    "        e[i] = error(profiles[0], z, sigma=sigma)\n",
    "    J += np.log(np.mean(e))"
   ]
  },
  {
   "cell_type": "code",
   "execution_count": null,
   "metadata": {
    "collapsed": false
   },
   "outputs": [],
   "source": [
    "plt.hist(normcoefs[:, 1], normed=True)"
   ]
  },
  {
   "cell_type": "code",
   "execution_count": null,
   "metadata": {
    "collapsed": false
   },
   "outputs": [],
   "source": [
    "plt.plot(x, np.gradient(cdf[:, 0]))"
   ]
  },
  {
   "cell_type": "code",
   "execution_count": null,
   "metadata": {
    "collapsed": false,
    "scrolled": true
   },
   "outputs": [],
   "source": [
    "# Show copula density\n",
    "kde = KDE(data=normcoefs, scale_data=False, bandwidth=0.1)\n",
    "kde.compute_kde()\n",
    "n = 50\n",
    "q = np.linspace(0, 1, n)\n",
    "qq, rr, ss = [x.ravel() for x in np.meshgrid(q, q, q)]\n",
    "scores = np.zeros((n, n, n))\n",
    "for q in tqdm([-qq, qq, 2-qq]):\n",
    "    for r in tqdm([-rr, rr, 2-rr], leave=False):\n",
    "        for s in tqdm([-ss, ss, 2-ss], leave=False):\n",
    "            pp = np.array([q, r, s]).T\n",
    "            scores += np.reshape(np.exp(kde.kde.score_samples(pp)), (n, n, n))"
   ]
  },
  {
   "cell_type": "code",
   "execution_count": null,
   "metadata": {
    "collapsed": false
   },
   "outputs": [],
   "source": [
    "from matplotlib import animation, rc\n",
    "from IPython.display import HTML\n",
    "\n",
    "# First set up the figure, the axis, and the plot element we want to animate\n",
    "fig = plt.figure()\n",
    "ax = plt.axes(xlim=(0, n), ylim=(0, n))\n",
    "im = ax.imshow(scores[0])\n",
    "\n",
    "# initialization function: plot the background of each frame\n",
    "def init():\n",
    "    im.set_data(scores[0])\n",
    "    return (im,)\n",
    "\n",
    "# animation function.  This is called sequentially\n",
    "def animate(i):\n",
    "    im.set_data(scores[i])\n",
    "    return (im,)\n",
    "\n",
    "# call the animator.  blit=True means only re-draw the parts that have changed.\n",
    "anim = animation.FuncAnimation(fig, animate, init_func=init,\n",
    "                               frames=n, interval=200, blit=True)\n",
    "\n",
    "# call our new function to display the animation\n",
    "HTML(anim.to_html5_video())"
   ]
  },
  {
   "cell_type": "code",
   "execution_count": null,
   "metadata": {
    "collapsed": false
   },
   "outputs": [],
   "source": [
    "from matplotlib import animation, rc\n",
    "from IPython.display import HTML\n",
    "\n",
    "# First set up the figure, the axis, and the plot element we want to animate\n",
    "fig = plt.figure()\n",
    "ax = plt.axes(xlim=(0, n), ylim=(0, n))\n",
    "im = ax.imshow(scores[0])\n",
    "\n",
    "# initialization function: plot the background of each frame\n",
    "def init():\n",
    "    im.set_data(scores[0])\n",
    "    return (im,)\n",
    "\n",
    "# animation function.  This is called sequentially\n",
    "def animate(i):\n",
    "    im.set_data(scores[i])\n",
    "    return (im,)\n",
    "\n",
    "# call the animator.  blit=True means only re-draw the parts that have changed.\n",
    "anim = animation.FuncAnimation(fig, animate, init_func=init,\n",
    "                               frames=n, interval=50, blit=True)\n",
    "\n",
    "# call our new function to display the animation\n",
    "HTML(anim.to_html5_video())"
   ]
  },
  {
   "cell_type": "code",
   "execution_count": null,
   "metadata": {
    "collapsed": true
   },
   "outputs": [],
   "source": []
  }
 ],
 "metadata": {
  "anaconda-cloud": {},
  "kernelspec": {
   "display_name": "Python [conda root]",
   "language": "python",
   "name": "conda-root-py"
  },
  "language_info": {
   "codemirror_mode": {
    "name": "ipython",
    "version": 3
   },
   "file_extension": ".py",
   "mimetype": "text/x-python",
   "name": "python",
   "nbconvert_exporter": "python",
   "pygments_lexer": "ipython3",
   "version": "3.5.2"
  },
  "widgets": {
   "state": {
    "006157cb141841d5ac6689c67f4ba432": {
     "views": [
      {
       "cell_index": 16
      }
     ]
    },
    "01d4e715e4eb44cd8a1f3882c26ad74e": {
     "views": [
      {
       "cell_index": 16
      }
     ]
    },
    "022595c70ccc42e888d5b7843b922826": {
     "views": [
      {
       "cell_index": 16
      }
     ]
    },
    "039a0beebea64e59816555e2c9fbc366": {
     "views": [
      {
       "cell_index": 16
      }
     ]
    },
    "0432b60300274d36b2e03238e4a1e5a3": {
     "views": [
      {
       "cell_index": 16
      }
     ]
    },
    "04e94b78eba54c64a7f26ed2306908cc": {
     "views": [
      {
       "cell_index": 16
      }
     ]
    },
    "062b6d0f38b04729ad733c4afe8e3153": {
     "views": [
      {
       "cell_index": 16
      }
     ]
    },
    "066c4be5dbcd4e07bc1b05f250749ef1": {
     "views": [
      {
       "cell_index": 16
      }
     ]
    },
    "07ae9bfeec1f4c9c9517f7adb20f4d90": {
     "views": [
      {
       "cell_index": 12
      }
     ]
    },
    "07ce0651d509437fa061608600c16e91": {
     "views": [
      {
       "cell_index": 16
      }
     ]
    },
    "08b3c78775dc4668911f3e9c4071972d": {
     "views": [
      {
       "cell_index": 22
      }
     ]
    },
    "094f34cadb5c484f9063a90d1242f520": {
     "views": [
      {
       "cell_index": 16
      }
     ]
    },
    "09528513c92949adaedca7b710a1d89f": {
     "views": [
      {
       "cell_index": 12
      }
     ]
    },
    "09ca20227eac488486c46be94ebcaac9": {
     "views": [
      {
       "cell_index": 13
      }
     ]
    },
    "0b5c5c7084c04f7c92d483003dbc52f0": {
     "views": [
      {
       "cell_index": 7
      }
     ]
    },
    "0b97dd893acf4e7d8a1a0f9a58caf638": {
     "views": [
      {
       "cell_index": 31
      }
     ]
    },
    "0c1054bf72e3448db1c52d7cdd246054": {
     "views": [
      {
       "cell_index": 16
      }
     ]
    },
    "0c1b001d3c4d4a29a41af10955d83b46": {
     "views": [
      {
       "cell_index": 16
      }
     ]
    },
    "0c3bf96cf4c14b1a94b9f2751f4dde45": {
     "views": [
      {
       "cell_index": 16
      }
     ]
    },
    "0c53a25c58c14394a2bb6406833cc163": {
     "views": [
      {
       "cell_index": 15
      }
     ]
    },
    "0d0f710ba5824b5fa5cf65fc07dff6b2": {
     "views": [
      {
       "cell_index": 16
      }
     ]
    },
    "0f0f3f733e90488c9cd134bbaa1bd5bf": {
     "views": [
      {
       "cell_index": 16
      }
     ]
    },
    "1035a0894ade49b985f1757fbc85658a": {
     "views": [
      {
       "cell_index": 16
      }
     ]
    },
    "104392ccd39f4a62b4d86e65d0c5224f": {
     "views": [
      {
       "cell_index": 12
      }
     ]
    },
    "10eadd2d9b7f4817804e2db1472766fe": {
     "views": [
      {
       "cell_index": 31
      }
     ]
    },
    "11c7c46d66ab4263a53b11bc069ea342": {
     "views": [
      {
       "cell_index": 16
      }
     ]
    },
    "11f8d35023334f569883ec68db94c07f": {
     "views": [
      {
       "cell_index": 16
      }
     ]
    },
    "136fe30a0c6141a79ddbf52acf4388b7": {
     "views": [
      {
       "cell_index": 22
      }
     ]
    },
    "137f7578cdc5468ca5d791b9ab58f0c7": {
     "views": [
      {
       "cell_index": 22
      }
     ]
    },
    "14f81d7e5ed44d9f889aa45cd85be6bd": {
     "views": [
      {
       "cell_index": 22
      }
     ]
    },
    "17aeb1cb69ad4d05a796bf355459cbbe": {
     "views": [
      {
       "cell_index": 16
      }
     ]
    },
    "17d1d4b5ac134cfe8d64a4c5e46fb135": {
     "views": [
      {
       "cell_index": 13
      }
     ]
    },
    "18ca2eb1cee240978bc5167379d14fb3": {
     "views": [
      {
       "cell_index": 16
      }
     ]
    },
    "1929e49da8fa41eba062fdb6830b0374": {
     "views": [
      {
       "cell_index": 12
      }
     ]
    },
    "199122b8ba0c4ae88dd8f5224f2c320b": {
     "views": [
      {
       "cell_index": 12
      }
     ]
    },
    "19be3d8e67ca42f299e742ab688191e6": {
     "views": [
      {
       "cell_index": 23
      }
     ]
    },
    "1aa43e50d6234a53991272a038379acf": {
     "views": [
      {
       "cell_index": 16
      }
     ]
    },
    "1aba8815e49e4a43af441328e2a6c33d": {
     "views": [
      {
       "cell_index": 16
      }
     ]
    },
    "1adb97b3cfcc4390a73d0a396b8539d9": {
     "views": [
      {
       "cell_index": 23
      }
     ]
    },
    "1ca03f12c7384115a864f28591eae615": {
     "views": [
      {
       "cell_index": 13
      }
     ]
    },
    "1d64a026ce994f94a6391501cf1f13b1": {
     "views": [
      {
       "cell_index": 16
      }
     ]
    },
    "1ddfebc7772d48d3a9bfd6d722d50308": {
     "views": [
      {
       "cell_index": 12
      }
     ]
    },
    "1e2758d95ae646ebba78f2f901aa083d": {
     "views": [
      {
       "cell_index": 16
      }
     ]
    },
    "1f4052f7ab1440188a652960eb94ad82": {
     "views": [
      {
       "cell_index": 13
      }
     ]
    },
    "23bd3c62ea144f84b46d9103346fb695": {
     "views": [
      {
       "cell_index": 16
      }
     ]
    },
    "24d6254fd91741c8b7eda0203b68dd66": {
     "views": [
      {
       "cell_index": 16
      }
     ]
    },
    "2536a9b02b7343f1a3baa91659f9bf12": {
     "views": [
      {
       "cell_index": 16
      }
     ]
    },
    "2688e3ac7d5a4deda5182f57953d4807": {
     "views": [
      {
       "cell_index": 16
      }
     ]
    },
    "26a10ac796f04df198f4984b3dcb6d42": {
     "views": [
      {
       "cell_index": 16
      }
     ]
    },
    "26e1468c74a54303a3f2b9f03aceb3be": {
     "views": [
      {
       "cell_index": 16
      }
     ]
    },
    "2734a2a1c9f8496081d409303896f852": {
     "views": [
      {
       "cell_index": 23
      }
     ]
    },
    "27e3d2a265b74eb2943782164be79fc4": {
     "views": [
      {
       "cell_index": 14
      }
     ]
    },
    "285af5554738429ab7c94acecb6fce95": {
     "views": [
      {
       "cell_index": 16
      }
     ]
    },
    "2aea8d835123461296d1c6fa21fbaab2": {
     "views": [
      {
       "cell_index": 16
      }
     ]
    },
    "2bb5b158737b4ca6b523efc12778b2a7": {
     "views": [
      {
       "cell_index": 22
      }
     ]
    },
    "2bfeb15a6fcc4215adacbb521c7c8db5": {
     "views": [
      {
       "cell_index": 16
      }
     ]
    },
    "2c0f14175d0d47529200e51d7ac07eb4": {
     "views": [
      {
       "cell_index": 16
      }
     ]
    },
    "2c1c7ed51b7d448c935c32e5703c4c41": {
     "views": [
      {
       "cell_index": 16
      }
     ]
    },
    "2f37013d75444a008c3f7f0f4a41d363": {
     "views": [
      {
       "cell_index": 14
      }
     ]
    },
    "2f38a1bf71b94dafa18d082609685b3d": {
     "views": [
      {
       "cell_index": 16
      }
     ]
    },
    "305d2ad26d2d4daebb98d8648b1e47b1": {
     "views": [
      {
       "cell_index": 16
      }
     ]
    },
    "32be597134974a3fafe1385ca2379620": {
     "views": [
      {
       "cell_index": 7
      }
     ]
    },
    "33ba16ab039a4618bf850037e3da9495": {
     "views": [
      {
       "cell_index": 12
      }
     ]
    },
    "33f184dc26f34606b7b351065442ef56": {
     "views": [
      {
       "cell_index": 16
      }
     ]
    },
    "3426111a9c994c9a95847adc55943881": {
     "views": [
      {
       "cell_index": 16
      }
     ]
    },
    "34c8763c79b545f3ae31ffd81e26c86d": {
     "views": [
      {
       "cell_index": 16
      }
     ]
    },
    "35f9eb45606e43f888400246ba665a84": {
     "views": [
      {
       "cell_index": 12
      }
     ]
    },
    "3716947fb57a4883b7de8df797f8326c": {
     "views": [
      {
       "cell_index": 16
      }
     ]
    },
    "373621f890554b37b73143c6c21c7f53": {
     "views": [
      {
       "cell_index": 16
      }
     ]
    },
    "37e4b93cf7724e9a8cbdbd4aaf69e323": {
     "views": [
      {
       "cell_index": 16
      }
     ]
    },
    "3923c65e12e9487c9f0e8c570daac71c": {
     "views": [
      {
       "cell_index": 14
      }
     ]
    },
    "3a26dd61dee74e7db6b89478f6f7804b": {
     "views": [
      {
       "cell_index": 15
      }
     ]
    },
    "3ad314860e51482bbe65d075e8f1e3d4": {
     "views": [
      {
       "cell_index": 31
      }
     ]
    },
    "3b076684fc814cef8ce1d6eb9f1072d4": {
     "views": [
      {
       "cell_index": 12
      }
     ]
    },
    "3c0b2768eba74d399bc85b8e4ecd9bc5": {
     "views": [
      {
       "cell_index": 16
      }
     ]
    },
    "3d70e530c7a64ac8ae49b54b3337f81e": {
     "views": [
      {
       "cell_index": 16
      }
     ]
    },
    "3dbca985c89b4ef4ae5661b10dcfe165": {
     "views": [
      {
       "cell_index": 7
      }
     ]
    },
    "3dc1042bec32478aab86efab2f20f6bb": {
     "views": [
      {
       "cell_index": 16
      }
     ]
    },
    "3ef3e36571af4dcc994fe155c804cbdc": {
     "views": [
      {
       "cell_index": 16
      }
     ]
    },
    "41da85ede16c4037bdeff58f59faeca3": {
     "views": [
      {
       "cell_index": 16
      }
     ]
    },
    "425cac95e4614b5f82a4a1a3fa54420c": {
     "views": [
      {
       "cell_index": 12
      }
     ]
    },
    "43223f2ad8bd416fa8c97db3dbb4e229": {
     "views": [
      {
       "cell_index": 31
      }
     ]
    },
    "44be710bc02c4705a17a128c9c0f1779": {
     "views": [
      {
       "cell_index": 16
      }
     ]
    },
    "45dbb8b7e20d486b90a9ba33ff1e0b2c": {
     "views": [
      {
       "cell_index": 16
      }
     ]
    },
    "45e943aee6334a658eb35dad4d5a8f8f": {
     "views": [
      {
       "cell_index": 31
      }
     ]
    },
    "4636e34766f94b65923ccc614b119d0e": {
     "views": [
      {
       "cell_index": 12
      }
     ]
    },
    "468247db78ca40afadad80ceeb8526c1": {
     "views": [
      {
       "cell_index": 12
      }
     ]
    },
    "4758bd42dade4161bfef680a8f3bc0c0": {
     "views": [
      {
       "cell_index": 7
      }
     ]
    },
    "47d5fad0d299455d85006dc816864d04": {
     "views": [
      {
       "cell_index": 23
      }
     ]
    },
    "485df826bb1e4c1f82f3e19f7bd2eebb": {
     "views": [
      {
       "cell_index": 13
      }
     ]
    },
    "48626dc78a334bd788c7ef72bf5944cc": {
     "views": [
      {
       "cell_index": 13
      }
     ]
    },
    "4984051ba1294416977a1b81e7073218": {
     "views": [
      {
       "cell_index": 23
      }
     ]
    },
    "49d3bbf52993499d8c9da48fa8283ae9": {
     "views": [
      {
       "cell_index": 16
      }
     ]
    },
    "4acd9474e6334d3998ef26d699a94054": {
     "views": [
      {
       "cell_index": 12
      }
     ]
    },
    "4b296adbaf5d4f64862cbb1600b58465": {
     "views": [
      {
       "cell_index": 16
      }
     ]
    },
    "4b46760960284a228a9dac050ccc57d5": {
     "views": [
      {
       "cell_index": 13
      }
     ]
    },
    "4c0166a7bd6a475b96456628af984fd5": {
     "views": [
      {
       "cell_index": 12
      }
     ]
    },
    "4d570dd040564626851942e667f7cbfc": {
     "views": [
      {
       "cell_index": 13
      }
     ]
    },
    "4d71e073400247bbb9418b43b638516b": {
     "views": [
      {
       "cell_index": 31
      }
     ]
    },
    "4e5e882e48be440c9bf5cacc1f53b41f": {
     "views": [
      {
       "cell_index": 12
      }
     ]
    },
    "4ed636448b8648ecb7e829c8777981ba": {
     "views": [
      {
       "cell_index": 16
      }
     ]
    },
    "4f0503a0002b40eca0a64987b9c4787d": {
     "views": [
      {
       "cell_index": 22
      }
     ]
    },
    "4f18009dbe4c4cd8be1f591d3268e33d": {
     "views": [
      {
       "cell_index": 12
      }
     ]
    },
    "4f9ff29e31774232a4c015192497f64f": {
     "views": [
      {
       "cell_index": 22
      }
     ]
    },
    "4fbe7cca4bb1493da1c248025ab66593": {
     "views": [
      {
       "cell_index": 7
      }
     ]
    },
    "5035f60ac887478e934e8c18eb54940a": {
     "views": [
      {
       "cell_index": 13
      }
     ]
    },
    "52c6fd1f94a148ae8a59dbbdf32a55b2": {
     "views": [
      {
       "cell_index": 22
      }
     ]
    },
    "530ed3a2c64343c9b642ea161965941c": {
     "views": [
      {
       "cell_index": 16
      }
     ]
    },
    "532e31d2375b459bb50105045525138f": {
     "views": [
      {
       "cell_index": 13
      }
     ]
    },
    "5380bdaecee04a8f91eccf2e5912f7b7": {
     "views": [
      {
       "cell_index": 16
      }
     ]
    },
    "53eb15368ee343b39ccdfd0a1fe22673": {
     "views": [
      {
       "cell_index": 16
      }
     ]
    },
    "54c5dcc714d74fa2a613088ab3bb67f6": {
     "views": [
      {
       "cell_index": 13
      }
     ]
    },
    "54ee7ed0e7a042d692475fc7d68ffbd8": {
     "views": [
      {
       "cell_index": 16
      }
     ]
    },
    "5583dc3a24ab4dcbb674e2da6df1a55f": {
     "views": [
      {
       "cell_index": 16
      }
     ]
    },
    "55904a9583114f08ad409db4ff87e2b3": {
     "views": [
      {
       "cell_index": 14
      }
     ]
    },
    "562c72593f9a419f98537f7a0b3e6c64": {
     "views": [
      {
       "cell_index": 16
      }
     ]
    },
    "56b6e51d9b8444b083ce14f576cc2ecd": {
     "views": [
      {
       "cell_index": 31
      }
     ]
    },
    "57de46a4f6a2428187ac3c61720898c4": {
     "views": [
      {
       "cell_index": 16
      }
     ]
    },
    "58a3b12d405d484fa8733c257e88888e": {
     "views": [
      {
       "cell_index": 13
      }
     ]
    },
    "591891741ef141f1b792e0ce5d34b3e3": {
     "views": [
      {
       "cell_index": 31
      }
     ]
    },
    "5931228d958e4a8789e51013ba82663f": {
     "views": [
      {
       "cell_index": 16
      }
     ]
    },
    "59d31bcb801a4ea2a0aac34eeeeb484b": {
     "views": [
      {
       "cell_index": 7
      }
     ]
    },
    "5b94222bfdde4036882169cd3505895c": {
     "views": [
      {
       "cell_index": 16
      }
     ]
    },
    "5cc1bf99a0a045e6923807403c898702": {
     "views": [
      {
       "cell_index": 16
      }
     ]
    },
    "5d1c2f73dbff48778cf092dc4074c4c8": {
     "views": [
      {
       "cell_index": 12
      }
     ]
    },
    "5dff24975e99467491447ad21a5a10e7": {
     "views": [
      {
       "cell_index": 16
      }
     ]
    },
    "5e00742125614c9bad0408e6ff5b6809": {
     "views": [
      {
       "cell_index": 22
      }
     ]
    },
    "5e5fda45280c4bb690fa21381f38a832": {
     "views": [
      {
       "cell_index": 31
      }
     ]
    },
    "5f21477e826f42908cb188199aa7c519": {
     "views": [
      {
       "cell_index": 16
      }
     ]
    },
    "5ff28607c0e34d399aec53cf3142f175": {
     "views": [
      {
       "cell_index": 16
      }
     ]
    },
    "60ad4cc364d04554850cb5b9ab6c3dcf": {
     "views": [
      {
       "cell_index": 14
      }
     ]
    },
    "633553c9b0ab47cc88b2f847f053b8ff": {
     "views": [
      {
       "cell_index": 16
      }
     ]
    },
    "637b0df431b34cef91b144f3e0f48f87": {
     "views": [
      {
       "cell_index": 16
      }
     ]
    },
    "639324e970604f3b9d42fab5eade76b0": {
     "views": [
      {
       "cell_index": 12
      }
     ]
    },
    "63c8db2888fc4c58bb8b124a1f91cf29": {
     "views": [
      {
       "cell_index": 16
      }
     ]
    },
    "643e2d0d71844672a006336851543eee": {
     "views": [
      {
       "cell_index": 14
      }
     ]
    },
    "64eff3955cf4483893aff06c13253d1c": {
     "views": [
      {
       "cell_index": 16
      }
     ]
    },
    "65d4da6c2a4749b2ad3d1462a4a286e4": {
     "views": [
      {
       "cell_index": 16
      }
     ]
    },
    "666b9dd084d14e55a53964512f8d11ae": {
     "views": [
      {
       "cell_index": 14
      }
     ]
    },
    "66ddfac652394ccf97c058f661d08590": {
     "views": [
      {
       "cell_index": 16
      }
     ]
    },
    "672ac98705cb4f40a4293306db539161": {
     "views": [
      {
       "cell_index": 16
      }
     ]
    },
    "6737e7c783a34c958f549083658b09c3": {
     "views": [
      {
       "cell_index": 23
      }
     ]
    },
    "67859d7276a644229370ebac0bc644c4": {
     "views": [
      {
       "cell_index": 16
      }
     ]
    },
    "6845334cd9404488a47907e029731ef2": {
     "views": [
      {
       "cell_index": 16
      }
     ]
    },
    "685ac6733e2d4e608f39b6c619ff3783": {
     "views": [
      {
       "cell_index": 13
      }
     ]
    },
    "6bb3a5b14bc748b1b18905be8d3714d5": {
     "views": [
      {
       "cell_index": 12
      }
     ]
    },
    "6be7ba42b50249f79769722319e3d776": {
     "views": [
      {
       "cell_index": 12
      }
     ]
    },
    "6c51096a0a7542da9ffba38b8d44ca63": {
     "views": [
      {
       "cell_index": 7
      }
     ]
    },
    "6d58d28eacad42129fefa28d6743129b": {
     "views": [
      {
       "cell_index": 23
      }
     ]
    },
    "6de92e23209d4518b87e97a7ab2582be": {
     "views": [
      {
       "cell_index": 12
      }
     ]
    },
    "6efb3515fa854d169f4959e9f66ffa79": {
     "views": [
      {
       "cell_index": 16
      }
     ]
    },
    "6f257788751d4960a55e3d645b90a7b4": {
     "views": [
      {
       "cell_index": 16
      }
     ]
    },
    "6f2ab41e5e5446c8ab3abbe9669d72a6": {
     "views": [
      {
       "cell_index": 16
      }
     ]
    },
    "6f92faebee364b41b2cd90d965033c0f": {
     "views": [
      {
       "cell_index": 16
      }
     ]
    },
    "6f95a0c7f28849ebb0f92bca805a9bfe": {
     "views": [
      {
       "cell_index": 12
      }
     ]
    },
    "6fb3bfc824b2411b9d0bef6acf5de27a": {
     "views": [
      {
       "cell_index": 16
      }
     ]
    },
    "706646e947714f28b16fd108ee7febb0": {
     "views": [
      {
       "cell_index": 16
      }
     ]
    },
    "719b82d50f9f45f6b653851377645841": {
     "views": [
      {
       "cell_index": 22
      }
     ]
    },
    "719cf6be7d0d48de8f5a1d4e44a41371": {
     "views": [
      {
       "cell_index": 16
      }
     ]
    },
    "71cad93f5051424591d96806cfc4e1a5": {
     "views": [
      {
       "cell_index": 16
      }
     ]
    },
    "7239f6e1ce584f798d4e2d99721942d3": {
     "views": [
      {
       "cell_index": 13
      }
     ]
    },
    "723e42a1215d4cf6bda0617784bd577b": {
     "views": [
      {
       "cell_index": 16
      }
     ]
    },
    "727be2793d0f4ef0980ef19631429531": {
     "views": [
      {
       "cell_index": 16
      }
     ]
    },
    "72dfa82e9e36495b8dcb3a657edf192b": {
     "views": [
      {
       "cell_index": 16
      }
     ]
    },
    "741e68866d2e4bd2b58b669e9023a731": {
     "views": [
      {
       "cell_index": 14
      }
     ]
    },
    "75ab7bca5f81426e80fb564dfc3db94f": {
     "views": [
      {
       "cell_index": 16
      }
     ]
    },
    "77850e5283104e368641972f1d020a64": {
     "views": [
      {
       "cell_index": 23
      }
     ]
    },
    "77fb97ab671b4101a45e51ecdb01b690": {
     "views": [
      {
       "cell_index": null
      }
     ]
    },
    "783fac18a35f48f9a5e296eca2c4bc0b": {
     "views": [
      {
       "cell_index": 16
      }
     ]
    },
    "792f1855eccc41d9b6443f5fe2671b5c": {
     "views": [
      {
       "cell_index": 16
      }
     ]
    },
    "7a15c218899a4fb9bc9a5c7bf62e9568": {
     "views": [
      {
       "cell_index": 16
      }
     ]
    },
    "7a80c1769c204c218da55c6f9d7d5980": {
     "views": [
      {
       "cell_index": 16
      }
     ]
    },
    "7c3154cdff2643808c517ef3bb98ce15": {
     "views": [
      {
       "cell_index": 16
      }
     ]
    },
    "7c46b16603ea4aae8ca222eb71e1740b": {
     "views": [
      {
       "cell_index": 16
      }
     ]
    },
    "7c73a1ccdd584435bfaaf9fb64d0d58b": {
     "views": [
      {
       "cell_index": 22
      }
     ]
    },
    "7c8ea99c77bd4aa79490675e40a14952": {
     "views": [
      {
       "cell_index": 15
      }
     ]
    },
    "7ce6383438f84dbab1cd6f283bd47fe8": {
     "views": [
      {
       "cell_index": 7
      }
     ]
    },
    "7f0cdaca74c24ffcbf0bd532716d5458": {
     "views": [
      {
       "cell_index": 15
      }
     ]
    },
    "7f18e4a6fb374dfbae128528185c6ec5": {
     "views": [
      {
       "cell_index": 12
      }
     ]
    },
    "7fbc7c61207f4e45ab562b19c22a63fd": {
     "views": [
      {
       "cell_index": 23
      }
     ]
    },
    "801a858136be4b798a11748272ab3405": {
     "views": [
      {
       "cell_index": 16
      }
     ]
    },
    "8074e892800f4a27a76a2b709d9be54f": {
     "views": [
      {
       "cell_index": 13
      }
     ]
    },
    "817fa5d41b3548129b2192484102e869": {
     "views": [
      {
       "cell_index": 12
      }
     ]
    },
    "81e0f023f4a84223a8a371b9e52d2c6f": {
     "views": [
      {
       "cell_index": 12
      }
     ]
    },
    "824cb154816941c8a4f3d8ac499912cd": {
     "views": [
      {
       "cell_index": 23
      }
     ]
    },
    "83891de26288414a969ed24ff9ae9f3b": {
     "views": [
      {
       "cell_index": 16
      }
     ]
    },
    "854246a7ec834631812020589a2df6c1": {
     "views": [
      {
       "cell_index": 7
      }
     ]
    },
    "856e8f02b9ac4daa93f31e40e6aec87a": {
     "views": [
      {
       "cell_index": 16
      }
     ]
    },
    "85def42cbc3747e09dea9dd866e3d750": {
     "views": [
      {
       "cell_index": 12
      }
     ]
    },
    "86d8be9d3db6483a9af358b416fa6026": {
     "views": [
      {
       "cell_index": 16
      }
     ]
    },
    "87361efeb18c41c8885cbdf713b17267": {
     "views": [
      {
       "cell_index": 16
      }
     ]
    },
    "886e34329afd443baa01f68ed151e203": {
     "views": [
      {
       "cell_index": 16
      }
     ]
    },
    "887f3b8361d2438fa64a84ad344fae0e": {
     "views": [
      {
       "cell_index": 16
      }
     ]
    },
    "88bf81b7da2a458896a2e0c0387e6ca4": {
     "views": [
      {
       "cell_index": 12
      }
     ]
    },
    "8900a01b01d34e588003cb1811464a0b": {
     "views": [
      {
       "cell_index": 23
      }
     ]
    },
    "8a185050996a4d10b63257d5929c9fd7": {
     "views": [
      {
       "cell_index": 12
      }
     ]
    },
    "8aca71eb83894109ba4572c8787b7c56": {
     "views": [
      {
       "cell_index": 16
      }
     ]
    },
    "8b2117ba4e364977aba010c80e80a2fb": {
     "views": [
      {
       "cell_index": 16
      }
     ]
    },
    "8b365f54c2954deb80dc5efdb8e9857a": {
     "views": [
      {
       "cell_index": 16
      }
     ]
    },
    "8c83e86beb6347489ed78fe290224b35": {
     "views": [
      {
       "cell_index": 16
      }
     ]
    },
    "8c8da3578dc34593bb1f12fdd8a7d3c8": {
     "views": [
      {
       "cell_index": 31
      }
     ]
    },
    "8cc15947efd445a0b83e88d283fb92e5": {
     "views": [
      {
       "cell_index": 16
      }
     ]
    },
    "8cca50d099bc48219905289453af13bb": {
     "views": [
      {
       "cell_index": 12
      }
     ]
    },
    "8cfe5f850a084531881e2703c4c6618e": {
     "views": [
      {
       "cell_index": 16
      }
     ]
    },
    "8db853bf324c42d8ad4fd75da59aa40e": {
     "views": [
      {
       "cell_index": 16
      }
     ]
    },
    "8e67185aacb24aac806060dc1000adb7": {
     "views": [
      {
       "cell_index": 13
      }
     ]
    },
    "8e74e0bb9aae4ae0b95c6d5311968187": {
     "views": [
      {
       "cell_index": 13
      }
     ]
    },
    "8f51d6efd2044a5abeff761e4e18ced7": {
     "views": [
      {
       "cell_index": 16
      }
     ]
    },
    "8f854f303cf7493080d145db3f9b5bcc": {
     "views": [
      {
       "cell_index": 12
      }
     ]
    },
    "8f893315726b439eb63c3e415100fdd2": {
     "views": [
      {
       "cell_index": 12
      }
     ]
    },
    "9008da07aea24686ba06ad99993e68f2": {
     "views": [
      {
       "cell_index": 12
      }
     ]
    },
    "90bea6b1e4e04479a0c46934cbb2c006": {
     "views": [
      {
       "cell_index": 16
      }
     ]
    },
    "90f2f1a13a8c4e1d8fe9b3e61491be89": {
     "views": [
      {
       "cell_index": 12
      }
     ]
    },
    "922350ab6cff4dfea3591d312628b2c1": {
     "views": [
      {
       "cell_index": 12
      }
     ]
    },
    "9224c1ec399d476a8c4706e8b396c72f": {
     "views": [
      {
       "cell_index": 22
      }
     ]
    },
    "92a3f734fc4c4896891fb6053b24e5e3": {
     "views": [
      {
       "cell_index": 16
      }
     ]
    },
    "936be26249874108ae1ba69deb6ba004": {
     "views": [
      {
       "cell_index": 13
      }
     ]
    },
    "96c953dccda748baa42ebaead45d2455": {
     "views": [
      {
       "cell_index": 16
      }
     ]
    },
    "97539a997d3640409a9f91ffe9145e2f": {
     "views": [
      {
       "cell_index": 16
      }
     ]
    },
    "983d149429c34ee2a01f0814e19b81fb": {
     "views": [
      {
       "cell_index": 16
      }
     ]
    },
    "986233dd7cd7453f86cebd164017c094": {
     "views": [
      {
       "cell_index": 16
      }
     ]
    },
    "9a10f3fff50046a4863068918631c39f": {
     "views": [
      {
       "cell_index": 16
      }
     ]
    },
    "9a1d16079a644b59b16acbaa3dd5a1fb": {
     "views": [
      {
       "cell_index": 16
      }
     ]
    },
    "9a46d5c18d0540958e0d14fef6e1280c": {
     "views": [
      {
       "cell_index": 12
      }
     ]
    },
    "9a84ab77afa441ce9931b49ec66dbbc8": {
     "views": [
      {
       "cell_index": 16
      }
     ]
    },
    "9b6ec45a449042c7969900f875dfa6c8": {
     "views": [
      {
       "cell_index": 16
      }
     ]
    },
    "9bb8d67ab65e420d893b66be7693afbe": {
     "views": [
      {
       "cell_index": 16
      }
     ]
    },
    "9bc2c4d783dd4296810a3e82998f8bcd": {
     "views": [
      {
       "cell_index": 16
      }
     ]
    },
    "9bcf1acf751c43539565752b5cf03b26": {
     "views": [
      {
       "cell_index": 13
      }
     ]
    },
    "9ce6db1856834d74806a625f18f8bb88": {
     "views": [
      {
       "cell_index": 31
      }
     ]
    },
    "9d4b019c71f9408482d5a52d2706857a": {
     "views": [
      {
       "cell_index": 16
      }
     ]
    },
    "9dc499835a6c4f93b1b9d9e22b47ada4": {
     "views": [
      {
       "cell_index": 22
      }
     ]
    },
    "9dc4aa2d9671402abfc580f571c0748d": {
     "views": [
      {
       "cell_index": 31
      }
     ]
    },
    "9eb617ee0d0c4fa18a04185c8d50aaf4": {
     "views": [
      {
       "cell_index": 22
      }
     ]
    },
    "9f430f6a87a14ce8bd96ce7667176605": {
     "views": [
      {
       "cell_index": 16
      }
     ]
    },
    "a00dfd093f8043ab8cdea9b3aae895c6": {
     "views": [
      {
       "cell_index": 12
      }
     ]
    },
    "a1af72c6d59d45b19e1001f8fec1f7f1": {
     "views": [
      {
       "cell_index": 16
      }
     ]
    },
    "a1c0a9f92e8840fbb0aa59253a9d1d5e": {
     "views": [
      {
       "cell_index": 16
      }
     ]
    },
    "a1ec2fb5e3714c8fbb268d50a09c1caf": {
     "views": [
      {
       "cell_index": 16
      }
     ]
    },
    "a2c7b10d1d8f4227957cc9b7c39dd93a": {
     "views": [
      {
       "cell_index": 13
      }
     ]
    },
    "a2d4b7b1f7e84d8ca0a2c899140d6a5b": {
     "views": [
      {
       "cell_index": 12
      }
     ]
    },
    "a2f0dba1303047539bd7f098dc154168": {
     "views": [
      {
       "cell_index": 16
      }
     ]
    },
    "a3300cf96ae84672b133a510f231e75c": {
     "views": [
      {
       "cell_index": 12
      }
     ]
    },
    "a39bab1a3e0e4726a1a08e067d914686": {
     "views": [
      {
       "cell_index": 16
      }
     ]
    },
    "a3d73af265b9484dbe4a9fadaa316db5": {
     "views": [
      {
       "cell_index": 16
      }
     ]
    },
    "a46edccaf4ac416490b2abc7b227e3fb": {
     "views": [
      {
       "cell_index": 16
      }
     ]
    },
    "a6b1efbb3ce7483ab52beabcbfaf5640": {
     "views": [
      {
       "cell_index": 12
      }
     ]
    },
    "a8927dbb9dc943f2b6eed660f0616d76": {
     "views": [
      {
       "cell_index": 22
      }
     ]
    },
    "a90723508b83467baffd79003d7e7226": {
     "views": [
      {
       "cell_index": 16
      }
     ]
    },
    "a90d5a6c2fd241a7816c53dce81de75f": {
     "views": [
      {
       "cell_index": 23
      }
     ]
    },
    "a9291496fa51422bab1ea4837e6435de": {
     "views": [
      {
       "cell_index": 22
      }
     ]
    },
    "abe3534ded214eb79ab8a83fe3d75945": {
     "views": [
      {
       "cell_index": 12
      }
     ]
    },
    "ac2cb21e50714bb29ba4986af352c848": {
     "views": [
      {
       "cell_index": 16
      }
     ]
    },
    "acb5d0d1b0c34b249f937304db284488": {
     "views": [
      {
       "cell_index": 15
      }
     ]
    },
    "ada4c9ef714e49bb837b593d1d4b4c9b": {
     "views": [
      {
       "cell_index": 12
      }
     ]
    },
    "addcc5d49df84c76b6031614e9dbe0f9": {
     "views": [
      {
       "cell_index": 22
      }
     ]
    },
    "ae0ba62a8a9b4bb08c861dd425dd8a75": {
     "views": [
      {
       "cell_index": 16
      }
     ]
    },
    "af48f3cfdb844d62b814974729e42cfe": {
     "views": [
      {
       "cell_index": 16
      }
     ]
    },
    "af53e64f57e243679f46fe45bccbaf32": {
     "views": [
      {
       "cell_index": 12
      }
     ]
    },
    "af5636d02dc74e73bdd0647ee4a9bdfe": {
     "views": [
      {
       "cell_index": 22
      }
     ]
    },
    "af5fee77d5dc480088e33f221292cd7d": {
     "views": [
      {
       "cell_index": 16
      }
     ]
    },
    "af820a112a5e4bf790ad4e0323c8babb": {
     "views": [
      {
       "cell_index": 22
      }
     ]
    },
    "b021252b19704e9a9533219b9be841d1": {
     "views": [
      {
       "cell_index": 13
      }
     ]
    },
    "b068d48db63f4907969f055da20df77b": {
     "views": [
      {
       "cell_index": 13
      }
     ]
    },
    "b0a67804d6234f5699e466edbb0b3892": {
     "views": [
      {
       "cell_index": 13
      }
     ]
    },
    "b12025f541284bb686419671807a03ae": {
     "views": [
      {
       "cell_index": 16
      }
     ]
    },
    "b13c245aab9046b3a4575eb5ea807ab6": {
     "views": [
      {
       "cell_index": 16
      }
     ]
    },
    "b1572fa839d24125ba83a64127c91e24": {
     "views": [
      {
       "cell_index": 16
      }
     ]
    },
    "b1b2b43fce6d45078f4ca150ca4c867b": {
     "views": [
      {
       "cell_index": 16
      }
     ]
    },
    "b1ea5f07aa204d7a878e5d58d9b3fd4b": {
     "views": [
      {
       "cell_index": 31
      }
     ]
    },
    "b2f3e2f676a44202b7e845b401002654": {
     "views": [
      {
       "cell_index": 16
      }
     ]
    },
    "b30cf3611d7640d8a406c60ed3b446f7": {
     "views": [
      {
       "cell_index": 16
      }
     ]
    },
    "b3fef8920eed4205b701da0e64f7bae1": {
     "views": [
      {
       "cell_index": 23
      }
     ]
    },
    "b4b0982888ae4b06b346d17059bd19df": {
     "views": [
      {
       "cell_index": 16
      }
     ]
    },
    "b4faa06496e845b89682fd982a89ed40": {
     "views": [
      {
       "cell_index": 13
      }
     ]
    },
    "b5e6188a94b44bb39db22943b8a7efa9": {
     "views": [
      {
       "cell_index": 16
      }
     ]
    },
    "b706613514814013ab608771e141de42": {
     "views": [
      {
       "cell_index": 16
      }
     ]
    },
    "b7289a02fd92479498793d46af5e910e": {
     "views": [
      {
       "cell_index": 31
      }
     ]
    },
    "b7831572432a4c4fb5919c10d8b1b864": {
     "views": [
      {
       "cell_index": 14
      }
     ]
    },
    "b7e71999413d4efc8e0518e7e47e288f": {
     "views": [
      {
       "cell_index": 13
      }
     ]
    },
    "b99c93ead8b744e7b0ad7ac33291d00f": {
     "views": [
      {
       "cell_index": 16
      }
     ]
    },
    "b9c416aa8cca499a86576555a9832a45": {
     "views": [
      {
       "cell_index": 16
      }
     ]
    },
    "b9d74de314804ab5aa141a13444f187e": {
     "views": [
      {
       "cell_index": 16
      }
     ]
    },
    "ba07351031e14802b08898cdcea5b16c": {
     "views": [
      {
       "cell_index": 16
      }
     ]
    },
    "ba7cc0b27b804ca7b1344775e973efc7": {
     "views": [
      {
       "cell_index": 22
      }
     ]
    },
    "baa2acbc86f0479fa92781e76e73373a": {
     "views": [
      {
       "cell_index": 16
      }
     ]
    },
    "bcd2d84db3d74a559269ea2ff80553b9": {
     "views": [
      {
       "cell_index": 16
      }
     ]
    },
    "bd1b2a1c26ba4428ba442769e1011a35": {
     "views": [
      {
       "cell_index": 16
      }
     ]
    },
    "bd46429afefe40bd8fac44f78d86f089": {
     "views": [
      {
       "cell_index": 13
      }
     ]
    },
    "c016c36c58af4b6eacb2cb9b0eccf498": {
     "views": [
      {
       "cell_index": 16
      }
     ]
    },
    "c05c1ae92f6749e58e61889b442c5978": {
     "views": [
      {
       "cell_index": 31
      }
     ]
    },
    "c08cef4d795d48dcb8fb75c9fb848760": {
     "views": [
      {
       "cell_index": 16
      }
     ]
    },
    "c11439db57e4449f8e770e184edee8f4": {
     "views": [
      {
       "cell_index": 13
      }
     ]
    },
    "c24cb59a77fd4564b4daa6a9c769b58c": {
     "views": [
      {
       "cell_index": 16
      }
     ]
    },
    "c27c3969a22d4bb480225e263d248fc8": {
     "views": [
      {
       "cell_index": 16
      }
     ]
    },
    "c2a5cb1cf67a43fbbdc68b3d5ac64e66": {
     "views": [
      {
       "cell_index": 13
      }
     ]
    },
    "c3434d39067243b58376b51ecedd3c44": {
     "views": [
      {
       "cell_index": 16
      }
     ]
    },
    "c3dbfc268c26465c85cc484e3a974a56": {
     "views": [
      {
       "cell_index": 23
      }
     ]
    },
    "c4886557840b4c788372fc82a7786261": {
     "views": [
      {
       "cell_index": 22
      }
     ]
    },
    "c58f623741614bc28859711688bbb58c": {
     "views": [
      {
       "cell_index": 12
      }
     ]
    },
    "c5c0555b64db46a4bb8ffc516acb4b33": {
     "views": [
      {
       "cell_index": 12
      }
     ]
    },
    "c5c63ccebeb045cba29e5603019b06f7": {
     "views": [
      {
       "cell_index": 22
      }
     ]
    },
    "c5e543e911074aab8a5c812705784833": {
     "views": [
      {
       "cell_index": 16
      }
     ]
    },
    "c5e77f1beb344af5b9b2f5f713f7eab4": {
     "views": [
      {
       "cell_index": 16
      }
     ]
    },
    "c6be1deb46684ebcb66fc746a7311e97": {
     "views": [
      {
       "cell_index": 16
      }
     ]
    },
    "c78917d6bb984e9f850e146dab3e9f74": {
     "views": [
      {
       "cell_index": 16
      }
     ]
    },
    "c7aacc2ee8cd45e8b646b30796dbc083": {
     "views": [
      {
       "cell_index": 16
      }
     ]
    },
    "cafa08d517f44246aa0e1a9cf8d6f5fa": {
     "views": [
      {
       "cell_index": 31
      }
     ]
    },
    "cb8d900744ca4724ba9c6e95e9fe6466": {
     "views": [
      {
       "cell_index": 16
      }
     ]
    },
    "cbb54ff630a045db991983877adce1bb": {
     "views": [
      {
       "cell_index": 16
      }
     ]
    },
    "cc4f864139924d7080ceaad9a3291f3d": {
     "views": [
      {
       "cell_index": 16
      }
     ]
    },
    "cd09dee86d7b4f4285b269a87c9f5537": {
     "views": [
      {
       "cell_index": 22
      }
     ]
    },
    "cdc9f6e6b7fb452a885f9fc452716017": {
     "views": [
      {
       "cell_index": 14
      }
     ]
    },
    "ce520787cd3544e68e67c7e6a66217cc": {
     "views": [
      {
       "cell_index": 12
      }
     ]
    },
    "cf1d4f5e4a8743cd9da622a5f0db0416": {
     "views": [
      {
       "cell_index": 15
      }
     ]
    },
    "d07f7286959a4762b02f100248c6683e": {
     "views": [
      {
       "cell_index": 16
      }
     ]
    },
    "d0ad80120d394965a726fd0d677fd6ba": {
     "views": [
      {
       "cell_index": 16
      }
     ]
    },
    "d1b6e14078874709b27bda383c852f7e": {
     "views": [
      {
       "cell_index": 16
      }
     ]
    },
    "d2108a66bc7b4958818c57f40084b96a": {
     "views": [
      {
       "cell_index": 14
      }
     ]
    },
    "d33b240485dd4fe69b63fb8826ca64d3": {
     "views": [
      {
       "cell_index": 7
      }
     ]
    },
    "d4000e2545ea4798b268924194b579eb": {
     "views": [
      {
       "cell_index": 7
      }
     ]
    },
    "d4c40abec7114817b80f66d7e3885abd": {
     "views": [
      {
       "cell_index": 16
      }
     ]
    },
    "d5182886adf447d29674159c3d4fd81d": {
     "views": [
      {
       "cell_index": 16
      }
     ]
    },
    "d58d70c66ded4383beabab98ff12c196": {
     "views": [
      {
       "cell_index": 16
      }
     ]
    },
    "d5c0fea98b0d4f05a34521766ba4e77b": {
     "views": [
      {
       "cell_index": 12
      }
     ]
    },
    "d5c965c6e36f452da83550448f909309": {
     "views": [
      {
       "cell_index": 14
      }
     ]
    },
    "d72d77e62a4f477c82ca20d0d7e42545": {
     "views": [
      {
       "cell_index": 16
      }
     ]
    },
    "d75f500def5640f58af398a165394fed": {
     "views": [
      {
       "cell_index": 16
      }
     ]
    },
    "d78af5b4fdb14be29b1dc959054b096a": {
     "views": [
      {
       "cell_index": 16
      }
     ]
    },
    "d810a1d06d1f47b88c22f13bed2b15e6": {
     "views": [
      {
       "cell_index": 16
      }
     ]
    },
    "d85ed93e6adc4300b760e024ec301eb7": {
     "views": [
      {
       "cell_index": 16
      }
     ]
    },
    "d88bed6e7815461097bc9f89d6837313": {
     "views": [
      {
       "cell_index": 16
      }
     ]
    },
    "d91716fc9a4047a98fd361111ee11418": {
     "views": [
      {
       "cell_index": 16
      }
     ]
    },
    "d95824ecc3d1440da4db5d8c04fa4068": {
     "views": [
      {
       "cell_index": 16
      }
     ]
    },
    "d9f465d68472414cacad73218205c9b8": {
     "views": [
      {
       "cell_index": 12
      }
     ]
    },
    "dac07a949f2d4f69aa65186ce0e54fbe": {
     "views": [
      {
       "cell_index": 13
      }
     ]
    },
    "daee64e43f64437b968e55e2658a782e": {
     "views": [
      {
       "cell_index": 16
      }
     ]
    },
    "ddf97d65bd6e4e8b8ae0a18b8ff9aa1f": {
     "views": [
      {
       "cell_index": 12
      }
     ]
    },
    "de0cd792297247e4a1155c6e58cd283a": {
     "views": [
      {
       "cell_index": 14
      }
     ]
    },
    "de15f7c9d19c46a5ac28619e8069bb80": {
     "views": [
      {
       "cell_index": 16
      }
     ]
    },
    "de288aff4cde4e7fb5506ee8a3d81585": {
     "views": [
      {
       "cell_index": 16
      }
     ]
    },
    "dedce3ea92ce4336a7999dd66c96d96e": {
     "views": [
      {
       "cell_index": 12
      }
     ]
    },
    "df0a1468cb414386be9753493bd1e0e2": {
     "views": [
      {
       "cell_index": 12
      }
     ]
    },
    "df773e1dc8404845b5a86d72324df85f": {
     "views": [
      {
       "cell_index": 22
      }
     ]
    },
    "e0d5037ba0cc4c729316e1d242ca9630": {
     "views": [
      {
       "cell_index": 16
      }
     ]
    },
    "e2b6f3e2fc5e4013a4f8b227c1111336": {
     "views": [
      {
       "cell_index": 16
      }
     ]
    },
    "e307635a5fcb4db8aa0a0d260db9ea48": {
     "views": [
      {
       "cell_index": 16
      }
     ]
    },
    "e3cd2bfe673a4b1cada150f002452a3c": {
     "views": [
      {
       "cell_index": 12
      }
     ]
    },
    "e45c1304d97d45639daea375fac1d0b0": {
     "views": [
      {
       "cell_index": 15
      }
     ]
    },
    "e4e75018a6144dd589af1d906f575691": {
     "views": [
      {
       "cell_index": 16
      }
     ]
    },
    "e4ef969400b94fc38ff4e264db950b89": {
     "views": [
      {
       "cell_index": 15
      }
     ]
    },
    "e5bc19260e3340b7bc1b4e5068eaca8d": {
     "views": [
      {
       "cell_index": 16
      }
     ]
    },
    "e625c0ece05f427881ceb648670aab6a": {
     "views": [
      {
       "cell_index": 23
      }
     ]
    },
    "e66131b845814bb98b43fb55d5967087": {
     "views": [
      {
       "cell_index": 16
      }
     ]
    },
    "e6e5f70f6f9c4f85a9d2231660a47acf": {
     "views": [
      {
       "cell_index": 12
      }
     ]
    },
    "e72cff8a140b4dfcbda515322d724fc1": {
     "views": [
      {
       "cell_index": 7
      }
     ]
    },
    "e8cf2916eaac4ecc99bb65c7a95e2766": {
     "views": [
      {
       "cell_index": 16
      }
     ]
    },
    "e96780bfd6e14d20abfddae227d6cdf5": {
     "views": [
      {
       "cell_index": 13
      }
     ]
    },
    "e9c5cc5139bd430b89737874bf900348": {
     "views": [
      {
       "cell_index": 16
      }
     ]
    },
    "ea3e81e3aa7042759807f9febe43a2d1": {
     "views": [
      {
       "cell_index": 16
      }
     ]
    },
    "ecfdee686e774086b68517ae95ca5a9c": {
     "views": [
      {
       "cell_index": 7
      }
     ]
    },
    "ed0dd4ee374d4cae810fd7c5ec69d365": {
     "views": [
      {
       "cell_index": 16
      }
     ]
    },
    "ee22959aea4344aa9b51a69818ae3db0": {
     "views": [
      {
       "cell_index": 31
      }
     ]
    },
    "eee36bbc10fd438daa2d71c9bc2f9a45": {
     "views": [
      {
       "cell_index": 12
      }
     ]
    },
    "efe0aa494803499aa71f520196398809": {
     "views": [
      {
       "cell_index": 16
      }
     ]
    },
    "f03c99ae5ae7452b9ae30e7f07819480": {
     "views": [
      {
       "cell_index": 16
      }
     ]
    },
    "f14114ad39c74d1f907a1c315ce2e97e": {
     "views": [
      {
       "cell_index": 16
      }
     ]
    },
    "f1468e884daa45fdadc3f00072a0c94e": {
     "views": [
      {
       "cell_index": 16
      }
     ]
    },
    "f288fa4accee470d893d633844ed178a": {
     "views": [
      {
       "cell_index": 16
      }
     ]
    },
    "f3218616aac043c0a098d63c4ce52adb": {
     "views": [
      {
       "cell_index": 31
      }
     ]
    },
    "f34512f460fe4047a9c8e96300054440": {
     "views": [
      {
       "cell_index": 16
      }
     ]
    },
    "f50dc77d1cbf479d9cd5a08ab54d2545": {
     "views": [
      {
       "cell_index": 16
      }
     ]
    },
    "f5688e54aae64e7fb582bff38497bd77": {
     "views": [
      {
       "cell_index": 31
      }
     ]
    },
    "f57f131f279c46029391eec7ae616b77": {
     "views": [
      {
       "cell_index": 16
      }
     ]
    },
    "f5830520d38f4cafbfb32d09e67bc2af": {
     "views": [
      {
       "cell_index": 16
      }
     ]
    },
    "f6b61cffa20748858ba1c9060aec065a": {
     "views": [
      {
       "cell_index": 16
      }
     ]
    },
    "f6cfa9bdde554f3bb0c010582080b448": {
     "views": [
      {
       "cell_index": 22
      }
     ]
    },
    "f706e80fd72a4018b37fe3272b0ec1e9": {
     "views": [
      {
       "cell_index": 16
      }
     ]
    },
    "f78ed97589074d5e80ce718af69b4362": {
     "views": [
      {
       "cell_index": 12
      }
     ]
    },
    "f88718e17ab74598addb4551c46a50a8": {
     "views": [
      {
       "cell_index": 16
      }
     ]
    },
    "f9c0f9e4bfe84c6dbb7f536452d74cee": {
     "views": [
      {
       "cell_index": 16
      }
     ]
    },
    "fa3adc0868e544d9abac2e0673966675": {
     "views": [
      {
       "cell_index": 7
      }
     ]
    },
    "fb07135c2592482cab2f78702aaa41a6": {
     "views": [
      {
       "cell_index": 16
      }
     ]
    },
    "fb3c0ba118c146fc829a0f81dbdbad15": {
     "views": [
      {
       "cell_index": 16
      }
     ]
    },
    "fb4a70cf2aa44ff391a48be1ad23d44e": {
     "views": [
      {
       "cell_index": 16
      }
     ]
    },
    "fc69c583e58446f4a44c5a1d54d8872b": {
     "views": [
      {
       "cell_index": 16
      }
     ]
    },
    "fc6c3e218ac34bae891bdfd934c10eb0": {
     "views": [
      {
       "cell_index": 22
      }
     ]
    },
    "fdf34af8e41c4f3fa925a4edacbcc81c": {
     "views": [
      {
       "cell_index": 16
      }
     ]
    },
    "fe1819d8e62642e681c74d99af963a06": {
     "views": [
      {
       "cell_index": 7
      }
     ]
    },
    "fe280f57ae854ed7b96a756d70a2fe7f": {
     "views": [
      {
       "cell_index": 13
      }
     ]
    },
    "ffbc3535f12a4ae4bc5e82a8014dc963": {
     "views": [
      {
       "cell_index": 13
      }
     ]
    },
    "ffdd46e9978e476da2aa0a89143b5397": {
     "views": [
      {
       "cell_index": 16
      }
     ]
    }
   },
   "version": "1.2.0"
  }
 },
 "nbformat": 4,
 "nbformat_minor": 1
}
