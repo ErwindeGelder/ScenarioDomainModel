{
 "cells": [
  {
   "cell_type": "markdown",
   "metadata": {},
   "source": [
    "# Method for selection of hyperparameters of parametrization"
   ]
  },
  {
   "cell_type": "code",
   "execution_count": null,
   "metadata": {},
   "outputs": [],
   "source": [
    "import numpy as np\n",
    "import pickle\n",
    "from spline_inter1d import SplineInter1D, _Spline\n",
    "import matplotlib.pyplot as plt\n",
    "from matplotlib2tikz import save as tikz_save\n",
    "%matplotlib inline\n",
    "from kde import KDE\n",
    "from tqdm import tqdm_notebook as tqdm\n",
    "from sklearn.preprocessing import StandardScaler\n",
    "import os\n",
    "from matplotlib import animation, rc\n",
    "from IPython.display import HTML\n",
    "overwrite = True"
   ]
  },
  {
   "cell_type": "code",
   "execution_count": null,
   "metadata": {},
   "outputs": [],
   "source": [
    "tikz_path = os.path.join('..', '20171126 Parametrization', 'figures')\n",
    "def tikz(name, extras=None):\n",
    "    # Convert to tikz\n",
    "    tikz_save(os.path.join(tikz_path, '{:s}.tikz'.format(name)),\n",
    "              figureheight='\\\\figureheight', figurewidth='\\\\figurewidth',\n",
    "              extra_axis_parameters=extras) "
   ]
  },
  {
   "cell_type": "markdown",
   "metadata": {},
   "source": [
    "## Simplified example"
   ]
  },
  {
   "cell_type": "code",
   "execution_count": null,
   "metadata": {},
   "outputs": [],
   "source": [
    "# Define the spline function that we later need\n",
    "spl_event = SplineInter1D([0, 1], d=2, left_constraints=[1], right_constraints=[0])\n",
    "spl = _Spline(spl_event.t, spl_event.d, spl_event.thetafixed)\n",
    "def theta(thetatilde):\n",
    "    return spl_event.thetafixed + np.dot(spl_event.v2, thetatilde)\n",
    "def thetatilde(theta):\n",
    "    return np.dot(spl_event.v2.T, theta - spl_event.thetafixed)"
   ]
  },
  {
   "cell_type": "code",
   "execution_count": null,
   "metadata": {},
   "outputs": [],
   "source": [
    "# This is the error function that measures how good the parameters 'z' fit with the curve y\n",
    "def error(y, z, sigma=0.1):\n",
    "    \"\"\"Determine the error\n",
    "    y is an test curve, evaluated at default x values\n",
    "    z is a vector containing the parameters from the kde\n",
    "    sigma 'Standard deviation', kind of allowed error\n",
    "    \"\"\"\n",
    "    # Construct spline and evaluate\n",
    "    spl.theta = theta(z)\n",
    "    yz = spl()\n",
    "    \n",
    "    # Return the function\n",
    "    # return np.mean(np.exp(-(y - yz)**2 / (2 * sigma**2))) / (sigma * np.sqrt(2*np.pi))\n",
    "    # return np.mean(-np.abs(y - yz) / sigma) - np.log(2 * sigma)\n",
    "    return np.exp(-np.log(2*np.pi)/2 - np.log(sigma) - np.mean((y - yz)**2) / (2 * sigma * sigma))\n",
    "    # return np.exp(-np.mean(np.abs(y - yz) / sigma))"
   ]
  },
  {
   "cell_type": "code",
   "execution_count": null,
   "metadata": {},
   "outputs": [],
   "source": [
    "# Do it for a very simple case\n",
    "t = np.linspace(0, 1, 20)\n",
    "spl(t)  # Sets the x-values\n",
    "v1 = -t**2 + 1\n",
    "v2 = t**2 -2*t + 1\n",
    "v3 = -t + 1\n",
    "coef_train = np.array([thetatilde(spl_event.fit(t, v1).theta), thetatilde(spl_event.fit(t, v2).theta)])\n",
    "plt.plot(t, v1, 'b', label='Training curve')\n",
    "plt.plot(t, v2, 'b')\n",
    "plt.plot(t, v3, 'r', label='Test curve')\n",
    "plt.xlabel('t')\n",
    "plt.ylabel('y')\n",
    "plt.legend()\n",
    "plt.grid('on')\n",
    "tikz('simple_case_overview') "
   ]
  },
  {
   "cell_type": "code",
   "execution_count": null,
   "metadata": {
    "scrolled": false
   },
   "outputs": [],
   "source": [
    "H = [0.01, 0.1, 0.2, 0.5, 1, 2]\n",
    "f, axs = plt.subplots(2, 3, figsize=(16, 8))\n",
    "for h, ax in zip(H, np.ravel(axs)):\n",
    "    kde = KDE(coef_train, bandwidth=h, scale_data=False)\n",
    "    kde.compute_kde()\n",
    "    for i in range(40):\n",
    "        z = kde.draw_random_sample(1)[0]\n",
    "        spl.theta = theta(z)\n",
    "        ax.plot(t, spl(t), color=[.5, .5, 1])\n",
    "    #ax.set_title('h = {:.2f}'.format(h))\n",
    "    ax.set_xlabel('t')\n",
    "    ax.set_ylabel('y')\n",
    "    ax.grid('on')\n",
    "plt.tight_layout()"
   ]
  },
  {
   "cell_type": "code",
   "execution_count": null,
   "metadata": {},
   "outputs": [],
   "source": [
    "for j, h in enumerate(H):\n",
    "    kde = KDE(coef_train, bandwidth=h, scale_data=False)\n",
    "    kde.compute_kde()\n",
    "    for i in range(40):\n",
    "        z = kde.draw_random_sample(1)[0]\n",
    "        spl.theta = theta(z)\n",
    "        plt.plot(t, spl(t), color=[.5, .5, 1])\n",
    "    plt.xlabel('t')\n",
    "    plt.ylabel('y')\n",
    "    plt.grid('on')\n",
    "    tikz('simple_case_test_h{:d}'.format(j+1))\n",
    "    plt.cla()"
   ]
  },
  {
   "cell_type": "code",
   "execution_count": null,
   "metadata": {},
   "outputs": [],
   "source": [
    "savefile = os.path.join('pickles', 'artificial_example.p')\n",
    "N = 10000\n",
    "H = np.logspace(-2, 1, 61)\n",
    "Sigma = [0.005, 0.01, 0.05, 0.1, 0.5, 1]\n",
    "\n",
    "E = np.zeros((len(Sigma), len(H)))\n",
    "if overwrite or not os.path.exists(savefile):\n",
    "    for isigma, sigma in enumerate(tqdm(Sigma)):\n",
    "        for ih, h in enumerate(tqdm(H, leave=False)):\n",
    "            kde = KDE(coef_train, bandwidth=h, scale_data=False)\n",
    "            kde.compute_kde()\n",
    "            e = np.zeros(N)\n",
    "            for i in range(N):\n",
    "                z = kde.draw_random_sample(1)[0]\n",
    "                e[i] = error(v3, z, sigma=sigma)\n",
    "            E[isigma, ih] = np.mean(e, axis=0)\n",
    "    if not os.path.exists(os.path.dirname(savefile)):\n",
    "        os.mkdir(os.path.dirname(savefile))\n",
    "    with open(savefile, 'wb') as f:\n",
    "        pickle.dump(E, f)\n",
    "else:\n",
    "    with open(savefile, 'rb') as f:\n",
    "        E = pickle.load(f)"
   ]
  },
  {
   "cell_type": "code",
   "execution_count": null,
   "metadata": {},
   "outputs": [],
   "source": [
    "f, (ax1, ax2) = plt.subplots(1, 2, figsize=(16, 4))\n",
    "for sigma, e in zip(Sigma, E):\n",
    "    plthandle = ax1.semilogx(H, e, label='$\\sigma = {:.3f}$'.format(sigma))\n",
    "    ax1.plot(H[np.argmax(e)], np.max(e), 'x', color=plthandle[0].get_color(), ms=10, mew=3)\n",
    "    plthandle = ax2.semilogx(H, (e - np.min(e)) / (np.max(e) - np.min(e)), label='sigma = {:.3f}'.format(sigma))\n",
    "    ax2.plot(H[np.argmax(e)], 1, 'x', color=plthandle[0].get_color(), ms=10, mew=3)\n",
    "ax1.grid('on')\n",
    "ax1.set_xlabel('Bandwidth')\n",
    "ax1.set_ylabel('Score')\n",
    "ax2.grid('on')\n",
    "ax2.set_xlabel('Bandwidth')\n",
    "ax2.set_ylabel('Score normalized per curve')\n",
    "ax1.legend()"
   ]
  },
  {
   "cell_type": "code",
   "execution_count": null,
   "metadata": {
    "scrolled": false
   },
   "outputs": [],
   "source": [
    "for sigma, e in zip(Sigma, E):\n",
    "    plthandle = plt.semilogx(H, e, label='$\\sigma = {:.3f}$'.format(sigma))\n",
    "    plt.plot(H[np.argmax(e)], np.max(e), 'x', color=plthandle[0].get_color(), ms=10, mew=3)\n",
    "plt.grid('on')\n",
    "plt.xlabel('Bandwidth')\n",
    "plt.ylabel('Score')\n",
    "plt.legend(loc='upper left')\n",
    "tikz('simple_case_scores')"
   ]
  },
  {
   "cell_type": "code",
   "execution_count": null,
   "metadata": {
    "scrolled": false
   },
   "outputs": [],
   "source": [
    "# Compare with maximum likelihood method\n",
    "x = thetatilde(spl_event.fit(t, v3).theta)\n",
    "Jml = np.zeros_like(H)\n",
    "for i, h in enumerate(H):\n",
    "    kde = KDE(coef_train, bandwidth=h, scale_data=False)\n",
    "    kde.compute_kde()\n",
    "    Jml[i] = np.exp(kde.kde.score_samples(x[np.newaxis, :]))\n",
    "plthandle = plt.semilogx(H, Jml)\n",
    "plt.plot(H[np.argmax(Jml)], np.max(Jml), 'x', color=plthandle[0].get_color(), ms=10, mew=3)\n",
    "plt.grid('on')\n",
    "plt.xlabel('Bandwidth')\n",
    "plt.ylabel('Likelihood')\n",
    "tikz('simple_case_likelihood')"
   ]
  },
  {
   "cell_type": "code",
   "execution_count": null,
   "metadata": {
    "scrolled": false
   },
   "outputs": [],
   "source": [
    "hplot = [0.5, 1, np.sqrt(2), 2]\n",
    "hlabel = ['$h=1/2$', '$h=1$', '$h=\\sqrt{2}$', '$h=2$']\n",
    "beta = np.linspace(-5, 5, 100)\n",
    "for h, hl in zip(hplot, hlabel):\n",
    "    kde = KDE(coef_train, bandwidth=h, scale_data=False)\n",
    "    kde.compute_kde()\n",
    "    plt.plot(beta, np.exp(kde.kde.score_samples(beta[:, np.newaxis])), label=hl)\n",
    "plt.axvline(np.sqrt(2)/2, c='b')\n",
    "plt.axvline(-3*np.sqrt(2)/2, c='b')\n",
    "plt.axvline(-np.sqrt(2)/2, c='r')\n",
    "plt.xlabel('$\\\\beta$')\n",
    "plt.ylabel('$p(\\\\beta)$')\n",
    "plt.grid('on')\n",
    "plt.legend()\n",
    "plt.xlim([np.min(beta), np.max(beta)])\n",
    "tikz('simple_case_pdf')"
   ]
  },
  {
   "cell_type": "markdown",
   "metadata": {},
   "source": [
    "## Real example"
   ]
  },
  {
   "cell_type": "code",
   "execution_count": null,
   "metadata": {},
   "outputs": [],
   "source": [
    "with open('df.p', 'rb') as f:\n",
    "    (dfs, scaling) = pickle.load(f)\n",
    "# Only use first n profiles\n",
    "n = 400\n",
    "dfs = dfs[:n].copy()\n",
    "scaling = scaling.T[:n].copy()"
   ]
  },
  {
   "cell_type": "code",
   "execution_count": null,
   "metadata": {},
   "outputs": [],
   "source": [
    "for df in dfs[:200]:\n",
    "    plt.plot(t, np.interp(t, df['time'], df['vel']), color=[0.5, 0.5, 1], alpha=0.7)\n",
    "plt.xlabel('Normalized time')\n",
    "plt.ylabel('Normalized velocity')\n",
    "plt.grid('on')\n",
    "tikz('profiles')"
   ]
  },
  {
   "cell_type": "code",
   "execution_count": null,
   "metadata": {},
   "outputs": [],
   "source": [
    "# Interpolate all curves\n",
    "profiles = np.zeros((len(dfs), len(t)))\n",
    "for i, df in enumerate(dfs):\n",
    "    profiles[i] = np.interp(t, df['time'], df['vel'])"
   ]
  },
  {
   "cell_type": "code",
   "execution_count": null,
   "metadata": {
    "scrolled": false
   },
   "outputs": [],
   "source": [
    "# Show a profile\n",
    "i = 1\n",
    "plt.plot(dfs[i]['time']*scaling[i, 0], (dfs[i]['vel']*(scaling[i, 1] - scaling[i, 2]) + scaling[i,2])*3.6)\n",
    "plt.grid('on')\n",
    "plt.xlabel('Time [s]')\n",
    "plt.ylabel('Velocity [km/h]')\n",
    "tikz('velocity_profile_example')"
   ]
  },
  {
   "cell_type": "code",
   "execution_count": null,
   "metadata": {},
   "outputs": [],
   "source": [
    "plt.plot(dfs[i]['time'], dfs[i]['vel'])\n",
    "plt.grid('on')\n",
    "plt.xlabel('Normalized time')\n",
    "plt.ylabel('Normalized velocity')\n",
    "tikz('velocity_profile_example_normalized')"
   ]
  },
  {
   "cell_type": "markdown",
   "metadata": {},
   "source": [
    "### Influence of number of knots"
   ]
  },
  {
   "cell_type": "code",
   "execution_count": null,
   "metadata": {
    "scrolled": false
   },
   "outputs": [],
   "source": [
    "savefile = os.path.join('pickles', 'test_nknots.p')\n",
    "sigma = 0.005\n",
    "N = 10000\n",
    "NKNOTS = [0, 1, 2, 3, 4]\n",
    "H = np.logspace(-3, 0, 10)\n",
    "J = np.zeros((len(NKNOTS), len(H)))\n",
    "ntest = 10\n",
    "\n",
    "if overwrite or not os.path.exists(savefile):\n",
    "    for inknots, nknots in enumerate(tqdm(NKNOTS)):\n",
    "        print(\"Number of interior knots: {:d}\".format(nknots))\n",
    "        # Define spline function. Note the +2 because of extra exterior knots\n",
    "        spl_event = SplineInter1D(np.linspace(0, 1, nknots+2), left_constraints=[1], right_constraints=[0])\n",
    "        spl = _Spline(spl_event.t, spl_event.d, spl_event.thetafixed)\n",
    "        spl(t)  # Sets the x-values\n",
    "\n",
    "        # Compute the spline coefficients\n",
    "        ncoefs = spl_event.v2.shape[1]\n",
    "        coefs = np.zeros((len(dfs), ncoefs))\n",
    "        for i, df in enumerate(dfs):\n",
    "            coefs[i] = thetatilde(spl_event.fit(df['time'], df['vel']).theta)\n",
    "        scaler = StandardScaler()\n",
    "        scaler.fit(coefs)\n",
    "\n",
    "        # Perform the cross validation\n",
    "        for ih, h in enumerate(tqdm(H, leave=False)):\n",
    "            for idf, profile in enumerate(tqdm(profiles[:ntest], leave=False)):\n",
    "                # Construct the KDE\n",
    "                kde = KDE(scaler.transform(np.concatenate((coefs[:idf], coefs[idf+1:]))), bandwidth=h, scale_data=False)\n",
    "                kde.compute_kde()\n",
    "\n",
    "                # Generate curves and compare\n",
    "                e = np.zeros(N)\n",
    "                for i in range(N):\n",
    "                    z = scaler.inverse_transform(kde.draw_random_sample(1))[0]\n",
    "                    e[i] = error(profile, z, sigma=sigma)\n",
    "                #plt.plot(e)\n",
    "\n",
    "                # Add result to final score\n",
    "                J[inknots, ih] += np.log(np.mean(e))\n",
    "                # print(np.mean(e))\n",
    "                print(\"\\rh = {:.2e}, J = {:.1f}\".format(h, J[inknots, ih]/(idf+1)*ntest), end=\"\")\n",
    "            print(\"\\rh = {:.2e}, J = {:.1f}\".format(h, J[inknots, ih]))\n",
    "            print()\n",
    "    with open(savefile, 'wb') as f:\n",
    "        pickle.dump(J, f)\n",
    "else:\n",
    "    with open(savefile, 'rb') as f:\n",
    "        J = pickle.load(f)"
   ]
  },
  {
   "cell_type": "code",
   "execution_count": null,
   "metadata": {
    "scrolled": false
   },
   "outputs": [],
   "source": [
    "for inknots, nknots in enumerate(NKNOTS):\n",
    "    plthandle = plt.semilogx(H, J[inknots], label='nknots={:d}'.format(nknots))\n",
    "    plt.plot(H[np.argmax(J[inknots])], np.max(J[inknots]), 'x', color=plthandle[0].get_color(), ms=10, mew=3)\n",
    "plt.grid('on')\n",
    "plt.xlabel('Bandwidth')\n",
    "plt.ylabel('Log score')\n",
    "plt.legend()\n",
    "plt.ylim([np.min(J[0]), plt.ylim()[1]])\n",
    "tikz('score_nknots')"
   ]
  },
  {
   "cell_type": "markdown",
   "metadata": {},
   "source": [
    "### Influence of number of coefficients with SVD"
   ]
  },
  {
   "cell_type": "code",
   "execution_count": null,
   "metadata": {
    "scrolled": true
   },
   "outputs": [],
   "source": [
    "savefile = os.path.join('pickles', 'test_svd.p')\n",
    "NKNOTS2 = [2, 3, 4]\n",
    "H2 = np.logspace(-2, 1, 10)\n",
    "\n",
    "if overwrite or not os.path.exists(savefile):\n",
    "    JJ = []\n",
    "    # Loop through all number of knots\n",
    "    for inknots, nknots in enumerate(tqdm(NKNOTS2)):\n",
    "        print(\"Number of interior knots: {:d}\".format(nknots))\n",
    "        # Define spline function. Note the +2 because of extra exterior knots\n",
    "        spl_event = SplineInter1D(np.linspace(0, 1, nknots+2), left_constraints=[1], right_constraints=[0])\n",
    "        spl = _Spline(spl_event.t, spl_event.d, spl_event.thetafixed)\n",
    "        spl(t)  # Sets the x-values\n",
    "\n",
    "        # Compute the spline coefficients\n",
    "        ncoefs = spl_event.v2.shape[1]\n",
    "        coefs = np.zeros((len(dfs), ncoefs))\n",
    "        for i, df in enumerate(dfs):\n",
    "            coefs[i] = thetatilde(spl_event.fit(df['time'], df['vel']).theta)\n",
    "        scaler = StandardScaler()\n",
    "        scaler.fit(coefs)\n",
    "\n",
    "        # Perform SVD\n",
    "        mu = np.mean(coefs, axis=0)\n",
    "        u, s, v = np.linalg.svd(coefs-mu, full_matrices=False)\n",
    "\n",
    "        # Initialize result matrix\n",
    "        jj = np.zeros((ncoefs, len(H)))\n",
    "\n",
    "        # Try all different amount of coefficients\n",
    "        for incoef, ncoef in enumerate(tqdm(range(1, ncoefs+1), leave=False)):\n",
    "            print(\"Number of coefficients: {:d}\".format(ncoef))\n",
    "            # Define the scaler\n",
    "            scaler = StandardScaler()\n",
    "            scaler.fit(u[:, :ncoef])\n",
    "            # Perform the cross validation\n",
    "            for ih, h in enumerate(tqdm(H2, leave=False)):\n",
    "                for idf, profile in enumerate(tqdm(profiles[:ntest], leave=False)):\n",
    "                    # Construct the KDE\n",
    "                    kde = KDE(scaler.transform(np.concatenate((u[:idf, :ncoef], u[idf+1:, :ncoef]))), \n",
    "                              bandwidth=h, scale_data=False)\n",
    "                    kde.compute_kde()\n",
    "\n",
    "                    # Generate curves and compare\n",
    "                    e = np.zeros(N)\n",
    "                    for i in range(N):\n",
    "                        z = scaler.inverse_transform(kde.draw_random_sample(1))[0]\n",
    "                        e[i] = error(profile, mu + np.dot(z*s[:ncoef], v[:ncoef]), sigma=sigma)\n",
    "                    #plt.plot(e)\n",
    "\n",
    "                    # Add result to final score\n",
    "                    jj[incoef, ih] += np.log(np.mean(e))\n",
    "                    print(\"\\rh = {:.2e}, J = {:.1f}\".format(h, jj[incoef, ih]/(idf+1)*ntest), end=\"\")\n",
    "                print(\"\\rh = {:.2e}, J = {:.1f}\".format(h, jj[incoef, ih]))\n",
    "                print()\n",
    "        JJ.append(jj)\n",
    "    with open(savefile, 'wb') as f:\n",
    "        pickle.dump(JJ, f)\n",
    "else:\n",
    "    with open(savefile, 'rb') as f:\n",
    "        JJ = pickle.load(f)"
   ]
  },
  {
   "cell_type": "code",
   "execution_count": null,
   "metadata": {},
   "outputs": [],
   "source": [
    "f, axs = plt.subplots(1, len(JJ), figsize=(5*len(JJ), 4))\n",
    "for ax, jj, nknots in zip(axs, JJ, NKNOTS2):\n",
    "    for incoef, ncoef in enumerate(range(1, len(jj)+1)):\n",
    "        plthandle = ax.semilogx(H2, jj[incoef], label='ncoef={:d}'.format(ncoef))\n",
    "        ax.plot(H2[np.argmax(jj[incoef])], np.max(jj[incoef]), 'x', color=plthandle[0].get_color(), ms=10, mew=3)\n",
    "    ax.grid('on')\n",
    "    ax.set_xlabel('Bandwidth')\n",
    "    ax.set_ylabel('Score')\n",
    "    ax.set_title('Number of interior knots: {:d}'.format(nknots))\n",
    "    ax.legend()\n",
    "plt.tight_layout()"
   ]
  },
  {
   "cell_type": "code",
   "execution_count": null,
   "metadata": {
    "scrolled": false
   },
   "outputs": [],
   "source": [
    "f, axs = plt.subplots(1, len(JJ), figsize=(5*len(JJ), 4))\n",
    "for ax, j, jj, nknots in zip(axs, [J[i] for i in np.searchsorted(NKNOTS, NKNOTS2)], JJ, NKNOTS2):\n",
    "    plthandle = ax.semilogx(H, j, label='orig')\n",
    "    ax.plot(H[np.argmax(j)], np.max(j), 'x', color=plthandle[0].get_color(), ms=10, mew=3)\n",
    "    plthandle = ax.semilogx(H2, jj[-1], label='svd'.format(ncoef))\n",
    "    ax.plot(H2[np.argmax(jj[-1])], np.max(jj[-1]), 'x', color=plthandle[0].get_color(), ms=10, mew=3)\n",
    "    ax.grid('on')\n",
    "    ax.set_xlabel('Bandwidth')\n",
    "    ax.set_ylabel('Score')\n",
    "    ax.set_title('Number of interior knots: {:d}'.format(nknots))\n",
    "    ax.legend()\n",
    "plt.tight_layout()"
   ]
  },
  {
   "cell_type": "code",
   "execution_count": null,
   "metadata": {},
   "outputs": [],
   "source": [
    "knots = 2\n",
    "Jorig = [J[i] for i in np.searchsorted(NKNOTS, NKNOTS2)]\n",
    "i = np.searchsorted(NKNOTS2, knots)\n",
    "plthandle = plt.semilogx(H, Jorig[i], label='orig, max={:.1f}'.format(np.max(Jorig[i])))\n",
    "plt.plot(H[np.argmax(Jorig[i])], np.max(Jorig[i]), 'x', color=plthandle[0].get_color(), ms=10, mew=3)\n",
    "plthandle = plt.semilogx(H2, JJ[i][-1], label='svd, max={:.1f}'.format(np.max(JJ[i][-1])))\n",
    "plt.plot(H2[np.argmax(JJ[i][-1])], np.max(JJ[i][-1]), 'x', color=plthandle[0].get_color(), ms=10, mew=3)\n",
    "plt.xlabel('Bandwidth')\n",
    "plt.ylabel('Score')\n",
    "plt.title('Number of interior knots: {:d}'.format(knots))\n",
    "plt.legend()\n",
    "plt.grid('on')\n",
    "plt.ylim([np.min(Jorig[i]), plt.ylim()[1]])\n",
    "tikz('svd{:d}'.format(knots))"
   ]
  },
  {
   "cell_type": "markdown",
   "metadata": {},
   "source": [
    "### Copulas"
   ]
  },
  {
   "cell_type": "code",
   "execution_count": null,
   "metadata": {},
   "outputs": [],
   "source": [
    "nknots = 0\n",
    "\n",
    "spl_event = SplineInter1D(np.linspace(0, 1, nknots+2), left_constraints=[1], right_constraints=[0])\n",
    "spl = _Spline(spl_event.t, spl_event.d, spl_event.thetafixed)\n",
    "spl(t)  # Sets the x-values\n",
    "\n",
    "# Compute the spline coefficients\n",
    "ncoefs = spl_event.v2.shape[1]\n",
    "coefs = np.zeros((len(dfs), ncoefs))\n",
    "for i, df in enumerate(dfs):\n",
    "    coefs[i] = thetatilde(spl_event.fit(df['time'], df['vel']).theta)\n",
    "scaler = StandardScaler()\n",
    "scaler.fit(coefs)"
   ]
  },
  {
   "cell_type": "code",
   "execution_count": null,
   "metadata": {},
   "outputs": [],
   "source": [
    "# For comparison, compute score when very small bandwidth is used\n",
    "J = 0\n",
    "J2 = 0\n",
    "kde = KDE(data=scaler.transform(coefs), scale_data=False, bandwidth=1e-6)\n",
    "for idf, profile in enumerate(tqdm(profiles[:ntest], leave=True)):\n",
    "    #kde = KDE(data=scaler.transform(np.concatenate((coefs[:idf], coefs[idf+1:]))), scale_data=False, bandwidth=1e-6)\n",
    "    kde.compute_kde()\n",
    "    e = np.zeros(N)\n",
    "    for i in range(N):\n",
    "        X = kde.draw_random_sample(1)[0]\n",
    "        z = scaler.inverse_transform(X)\n",
    "        J2 += np.min(np.sum((coefs - z)**2, axis=1))\n",
    "        e[i] = error(profile, z, sigma=sigma)\n",
    "    J += np.log(np.mean(e))\n",
    "print(J)\n",
    "print(J2)"
   ]
  },
  {
   "cell_type": "code",
   "execution_count": null,
   "metadata": {},
   "outputs": [],
   "source": [
    "scoefs = scaler.transform(coefs)\n",
    "normcoefs = np.zeros_like(scoefs)  # Normalized coefficients, such that marginals are uniform distributions\n",
    "x = np.linspace(-5, 5, 10001)\n",
    "cdf = np.zeros((len(x), ncoefs))\n",
    "h = 0.001\n",
    "for i in range(scoefs.shape[1]):\n",
    "    kde = KDE(data=scoefs[:, i:i+1], scale_data=False, bandwidth=h)\n",
    "    kde.compute_kde()\n",
    "    y = np.exp(kde.kde.score_samples(x[:, np.newaxis]))\n",
    "    cdf[:, i] = np.cumsum(y * np.gradient(x))\n",
    "    cdf[:, i] /= cdf[-1, i]\n",
    "    normcoefs[:, i] = np.interp(scoefs[:, i], x, cdf[:, i])"
   ]
  },
  {
   "cell_type": "code",
   "execution_count": null,
   "metadata": {},
   "outputs": [],
   "source": [
    "H = np.logspace(-5, -1, 5)\n",
    "\n",
    "J = np.zeros_like(H)\n",
    "J2 = 0\n",
    "for ih, h in enumerate(tqdm(H)):\n",
    "    kde = KDE(data=normcoefs, scale_data=False, bandwidth=h)\n",
    "    kde.compute_kde()\n",
    "    for idf, profile in enumerate(tqdm(profiles[:ntest], leave=False)):\n",
    "        e = np.zeros(N)\n",
    "        for i in range(N):\n",
    "            X = kde.draw_random_sample(1)[0]\n",
    "            X = np.min([np.mod(X, 2), 2-np.mod(X, 2)], axis=0)\n",
    "            #while np.any(X <= 0) or np.any(X >= 1):\n",
    "            #    X = kde.draw_random_sample(1)[0]\n",
    "            Xscaled = [np.interp(X[i], cdf[:, i], x) for i in range(ncoefs)]\n",
    "            z = scaler.inverse_transform(Xscaled)\n",
    "            J2 += np.min(np.sum((coefs - z)**2, axis=1))\n",
    "            e[i] = error(profile, z, sigma=sigma)\n",
    "        J[ih] += np.log(np.mean(e))\n",
    "        print(\"\\rh = {:.2e}, J = {:.1f}\".format(h, J[ih]/(idf+1)*ntest), end=\"\")\n",
    "    print(\"\\rh = {:.2e}, J = {:.1f}\".format(h, J[ih]))\n",
    "    print()"
   ]
  },
  {
   "cell_type": "code",
   "execution_count": null,
   "metadata": {},
   "outputs": [],
   "source": [
    "J2"
   ]
  },
  {
   "cell_type": "code",
   "execution_count": null,
   "metadata": {},
   "outputs": [],
   "source": [
    "f, (ax1, ax2) = plt.subplots(1, 2, figsize=(10, 4))\n",
    "for i in range(ncoefs):\n",
    "    ax1.plot(x, cdf[:, i])\n",
    "    ax2.plot(x, np.gradient(cdf[:, i])/np.gradient(x))"
   ]
  },
  {
   "cell_type": "code",
   "execution_count": null,
   "metadata": {
    "scrolled": true
   },
   "outputs": [],
   "source": [
    "# Show copula density\n",
    "kde = KDE(data=normcoefs, scale_data=False, bandwidth=0.001)\n",
    "kde.compute_kde()\n",
    "n = 50\n",
    "q = np.linspace(0, 1, n)\n",
    "if ncoefs == 2:\n",
    "    qq, rr = [x.ravel() for x in np.meshgrid(q, q)]\n",
    "    scores = np.zeros((n, n))\n",
    "    for q in tqdm([-qq, qq, 2-qq]):\n",
    "        for r in tqdm([-rr, rr, 2-rr], leave=False):\n",
    "            pp = np.array([q, r]).T\n",
    "            scores += np.reshape(np.exp(kde.kde.score_samples(pp)), (n, n))\n",
    "    #scores = np.reshape(np.exp(kde.kde.score_samples(np.array([qq, rr]).T)), (n, n))\n",
    "    plt.imshow(scores)\n",
    "    \n",
    "elif ncoefs == 3:\n",
    "    qq, rr, ss = [x.ravel() for x in np.meshgrid(q, q, q)]\n",
    "    scores = np.zeros((n, n, n))\n",
    "    for q in tqdm([-qq, qq, 2-qq]):\n",
    "        for r in tqdm([-rr, rr, 2-rr], leave=False):\n",
    "            for s in tqdm([-ss, ss, 2-ss], leave=False):\n",
    "                pp = np.array([q, r, s]).T\n",
    "                scores += np.reshape(np.exp(kde.kde.score_samples(pp)), (n, n, n))\n",
    "\n",
    "    # First set up the figure, the axis, and the plot element we want to animate\n",
    "    fig = plt.figure()\n",
    "    ax = plt.axes(xlim=(0, n-1), ylim=(0, n-1))\n",
    "    im = ax.imshow(scores[0])\n",
    "\n",
    "    # initialization function: plot the background of each frame\n",
    "    def init():\n",
    "        im.set_data(scores[0])\n",
    "        return (im,)\n",
    "\n",
    "    # animation function.  This is called sequentially\n",
    "    def animate(i):\n",
    "        im.set_data(scores[i])\n",
    "        return (im,)\n",
    "\n",
    "    # call the animator.  blit=True means only re-draw the parts that have changed.\n",
    "    anim = animation.FuncAnimation(fig, animate, init_func=init,\n",
    "                                   frames=n, interval=50, blit=True)\n",
    "\n",
    "    # call our new function to display the animation\n",
    "    HTML(anim.to_html5_video())"
   ]
  },
  {
   "cell_type": "code",
   "execution_count": null,
   "metadata": {},
   "outputs": [],
   "source": [
    "np.meshgrid((q, q))[0].shape"
   ]
  },
  {
   "cell_type": "code",
   "execution_count": null,
   "metadata": {},
   "outputs": [],
   "source": [
    "x = np.meshgrid(*(q for _ in range(2)))"
   ]
  },
  {
   "cell_type": "code",
   "execution_count": null,
   "metadata": {},
   "outputs": [],
   "source": []
  }
 ],
 "metadata": {
  "anaconda-cloud": {},
  "kernelspec": {
   "display_name": "Python 3",
   "language": "python",
   "name": "python3"
  },
  "language_info": {
   "codemirror_mode": {
    "name": "ipython",
    "version": 3
   },
   "file_extension": ".py",
   "mimetype": "text/x-python",
   "name": "python",
   "nbconvert_exporter": "python",
   "pygments_lexer": "ipython3",
   "version": "3.6.4"
  }
 },
 "nbformat": 4,
 "nbformat_minor": 1
}
