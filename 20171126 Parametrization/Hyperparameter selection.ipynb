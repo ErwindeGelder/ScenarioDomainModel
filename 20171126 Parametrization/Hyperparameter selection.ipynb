{
 "cells": [
  {
   "cell_type": "markdown",
   "metadata": {},
   "source": [
    "# Method for selection of hyperparameters of parametrization"
   ]
  },
  {
   "cell_type": "code",
   "execution_count": null,
   "metadata": {
    "collapsed": true
   },
   "outputs": [],
   "source": [
    "import numpy as np\n",
    "import pickle\n",
    "from spline_inter1d import SplineInter1D, _Spline\n",
    "import matplotlib.pyplot as plt\n",
    "%matplotlib inline\n",
    "from kde import KDE\n",
    "from tqdm import tqdm_notebook as tqdm\n",
    "from sklearn.preprocessing import StandardScaler\n",
    "import os"
   ]
  },
  {
   "cell_type": "markdown",
   "metadata": {},
   "source": [
    "## Simplified example"
   ]
  },
  {
   "cell_type": "code",
   "execution_count": null,
   "metadata": {
    "collapsed": false
   },
   "outputs": [],
   "source": [
    "# Define the spline function that we later need\n",
    "spl_event = SplineInter1D([0, 1/2, 1], left_constraints=[1], right_constraints=[0])\n",
    "spl = _Spline(spl_event.t, spl_event.d, spl_event.thetafixed)\n",
    "def theta(thetatilde):\n",
    "    return spl_event.thetafixed + np.dot(spl_event.v2, thetatilde)\n",
    "def thetatilde(theta):\n",
    "    return np.dot(spl_event.v2.T, theta - spl_event.thetafixed)"
   ]
  },
  {
   "cell_type": "code",
   "execution_count": null,
   "metadata": {
    "collapsed": true
   },
   "outputs": [],
   "source": [
    "# This is the error function that measures how good the parameters 'z' fit with the curve y\n",
    "def error(y, z, sigma=0.1):\n",
    "    \"\"\"Determine the error\n",
    "    y is an test curve, evaluated at default x values\n",
    "    z is a vector containing the parameters from the kde\n",
    "    sigma 'Standard deviation', kind of allowed error\n",
    "    \"\"\"\n",
    "    # Construct spline and evaluate\n",
    "    spl.theta = theta(z)\n",
    "    yz = spl()\n",
    "    \n",
    "    # Return the function\n",
    "    # return np.mean(np.exp(-(y - yz)**2 / (2 * sigma**2))) / (sigma * np.sqrt(2*np.pi))\n",
    "    # return np.mean(-np.abs(y - yz) / sigma) - np.log(2 * sigma)\n",
    "    # return np.exp(-np.mean((y - yz)**2 / (2 * sigma * sigma)) / np.sqrt(2 * np.pi * sigma))\n",
    "    return np.exp(-np.mean(np.abs(y - yz) / sigma))"
   ]
  },
  {
   "cell_type": "code",
   "execution_count": null,
   "metadata": {
    "collapsed": false
   },
   "outputs": [],
   "source": [
    "# Do it for a very simple case\n",
    "t = np.linspace(0, 1, 100)\n",
    "spl(t)  # Sets the x-values\n",
    "v1 = -t**2 + 1\n",
    "v2 = t**2 -2*t + 1\n",
    "v3 = -t + 1\n",
    "coef_train = np.array([thetatilde(spl_event.fit(t, v1).theta), thetatilde(spl_event.fit(t, v2).theta)])\n",
    "plt.plot(t, v1, 'b', label='Training curve')\n",
    "plt.plot(t, v2, 'b')\n",
    "plt.plot(t, v3, 'r', label='Test curve')\n",
    "plt.xlabel('t')\n",
    "plt.ylabel('y')\n",
    "plt.legend()\n",
    "plt.grid('on')"
   ]
  },
  {
   "cell_type": "code",
   "execution_count": null,
   "metadata": {
    "collapsed": false
   },
   "outputs": [],
   "source": [
    "H = [0.01, 0.1, 0.2, 0.5, 1, 2]\n",
    "f, axs = plt.subplots(2, 3, figsize=(16, 8))\n",
    "for h, ax in zip(H, np.ravel(axs)):\n",
    "    kde = KDE(coef_train, bandwidth=h, scale_data=False)\n",
    "    kde.compute_kde()\n",
    "    for i in range(40):\n",
    "        z = kde.draw_random_sample(1)[0]\n",
    "        spl.theta = theta(z)\n",
    "        ax.plot(t, spl(t), color=[.5, .5, 1])\n",
    "    ax.set_title('h = {:.2f}'.format(h))\n",
    "    ax.set_xlabel('t')\n",
    "    ax.set_ylabel('y')\n",
    "    ax.grid('on')\n",
    "plt.tight_layout()"
   ]
  },
  {
   "cell_type": "code",
   "execution_count": null,
   "metadata": {
    "collapsed": false
   },
   "outputs": [],
   "source": [
    "savefile = os.path.join('pickles', 'artificial_example.p')\n",
    "overwrite = False\n",
    "N = 1000\n",
    "H = np.logspace(-2, 1, 31)\n",
    "Sigma = [0.005, 0.01, 0.05, 0.1, 0.5, 1]\n",
    "\n",
    "E = np.zeros((len(Sigma), len(H)))\n",
    "if overwrite or not os.path.exists(savefile):\n",
    "    for isigma, sigma in enumerate(tqdm(Sigma)):\n",
    "        for ih, h in enumerate(tqdm(H, leave=False)):\n",
    "            kde = KDE(coef_train, bandwidth=h, scale_data=False)\n",
    "            kde.compute_kde()\n",
    "            e = np.zeros(N)\n",
    "            for i in range(N):\n",
    "                z = kde.draw_random_sample(1)[0]\n",
    "                e[i] = error(v3, z, sigma=sigma)\n",
    "            E[isigma, ih] = np.mean(e, axis=0)\n",
    "    if not os.path.exists(os.path.dirname(savefile)):\n",
    "        os.mkdir(os.path.dirname(savefile))\n",
    "    with open(savefile, 'wb') as f:\n",
    "        pickle.dump(E, f)\n",
    "else:\n",
    "    with open(savefile, 'rb') as f:\n",
    "        E = pickle.load(f)"
   ]
  },
  {
   "cell_type": "code",
   "execution_count": null,
   "metadata": {
    "collapsed": false
   },
   "outputs": [],
   "source": [
    "f, (ax1, ax2) = plt.subplots(1, 2, figsize=(16, 4))\n",
    "for sigma, e in zip(Sigma, E):\n",
    "    plthandle = ax1.semilogx(H, e, label='sigma = {:.3f}'.format(sigma))\n",
    "    ax1.plot(H[np.argmax(e)], np.max(e), 'x', color=plthandle[0].get_color(), ms=10, mew=3)\n",
    "    plthandle = ax2.semilogx(H, (e - np.min(e)) / (np.max(e) - np.min(e)), label='sigma = {:.3f}'.format(sigma))\n",
    "    ax2.plot(H[np.argmax(e)], 1, 'x', color=plthandle[0].get_color(), ms=10, mew=3)\n",
    "ax1.grid('on')\n",
    "ax1.set_xlabel('Bandwidth')\n",
    "ax1.set_ylabel('Score')\n",
    "ax2.grid('on')\n",
    "ax2.set_xlabel('Bandwidth')\n",
    "ax2.set_ylabel('Score normalized per curve')\n",
    "ax1.legend()"
   ]
  },
  {
   "cell_type": "markdown",
   "metadata": {},
   "source": [
    "## Real example"
   ]
  },
  {
   "cell_type": "code",
   "execution_count": null,
   "metadata": {
    "collapsed": true
   },
   "outputs": [],
   "source": [
    "with open('df.p', 'rb') as f:\n",
    "    (dfs, scaling) = pickle.load(f)\n",
    "# Only use first 100 profiles\n",
    "dfs = dfs[:100].copy()\n",
    "scaling = scaling.T[:100].copy()"
   ]
  },
  {
   "cell_type": "code",
   "execution_count": null,
   "metadata": {
    "collapsed": false
   },
   "outputs": [],
   "source": [
    "# Interpolate all curves\n",
    "profiles = np.zeros((len(dfs), len(t)))\n",
    "for i, df in enumerate(dfs):\n",
    "    profiles[i] = np.interp(t, df['time'], df['vel'])"
   ]
  },
  {
   "cell_type": "code",
   "execution_count": null,
   "metadata": {
    "collapsed": false
   },
   "outputs": [],
   "source": [
    "savefile = os.path.join('pickles', 'test_nknots.p')\n",
    "overwrite = False\n",
    "sigma = 0.001\n",
    "N = 2000\n",
    "NKNOTS = [0, 1, 2, 3, 4]\n",
    "H = np.logspace(-3, 0, 10)\n",
    "J = np.zeros((len(NKNOTS), len(H)))\n",
    "ntest = 25\n",
    "\n",
    "if overwrite or not os.path.exists(savefile):\n",
    "    for inknots, nknots in enumerate(tqdm(NKNOTS)):\n",
    "        print(\"Number of interior knots: {:d}\".format(nknots))\n",
    "\n",
    "        # Define spline function. Note the +2 because of exytra exterior knots\n",
    "        spl_event = SplineInter1D(np.linspace(0, 1, nknots+2), left_constraints=[1], right_constraints=[0])\n",
    "        spl = _Spline(spl_event.t, spl_event.d, spl_event.thetafixed)\n",
    "        spl(t)  # Sets the x-values\n",
    "\n",
    "        # Compute the spline coefficients\n",
    "        ncoefs = spl_event.v2.shape[1]\n",
    "        coefs = np.zeros((len(dfs), ncoefs))\n",
    "        for i, df in enumerate(dfs):\n",
    "            coefs[i] = thetatilde(spl_event.fit(df['time'], df['vel']).theta)\n",
    "        scaler = StandardScaler()\n",
    "        scaler.fit(coefs)\n",
    "\n",
    "        # Perform the cross validation\n",
    "        for ih, h in enumerate(tqdm(H, leave=False)):\n",
    "            for idf, profile in enumerate(tqdm(profiles[:ntest], leave=False)):\n",
    "                # Construct the KDE\n",
    "                kde = KDE(scaler.transform(np.concatenate((coefs[:idf], coefs[idf+1:]))), bandwidth=h, scale_data=False)\n",
    "                kde.compute_kde()\n",
    "\n",
    "                # Generate curves and compare\n",
    "                e = np.zeros(N)\n",
    "                for i in range(N):\n",
    "                    z = scaler.inverse_transform(kde.draw_random_sample(1))[0]\n",
    "                    e[i] = error(profile, z, sigma=sigma)\n",
    "                #plt.plot(e)\n",
    "\n",
    "                # Add result to final score\n",
    "                J[inknots, ih] += np.log(np.mean(e))\n",
    "                print(\"\\rh = {:.2e}, J = {:.1f}\".format(h, J[inknots, ih]/(idf+1)*ntest), end=\"\")\n",
    "            print(\"\\rh = {:.2e}, J = {:.1f}\".format(h, J[inknots, ih]))\n",
    "            print()\n",
    "    with open(savefile, 'wb') as f:\n",
    "        pickle.dump(J, f)\n",
    "else:\n",
    "    with open(savefile, 'rb') as f:\n",
    "        J = pickle.load(f)"
   ]
  },
  {
   "cell_type": "code",
   "execution_count": null,
   "metadata": {
    "collapsed": false
   },
   "outputs": [],
   "source": [
    "for inknots, nknots in enumerate(NKNOTS):\n",
    "    plthandle = plt.semilogx(H, J[inknots], label='nknots={:d}'.format(nknots))\n",
    "    plt.plot(H[np.argmax(J[inknots])], np.max(J[inknots]), 'x', color=plthandle[0].get_color(), ms=10, mew=3)\n",
    "plt.grid('on')\n",
    "plt.xlabel('Bandwidth')\n",
    "plt.ylabel('Score')\n",
    "plt.legend()"
   ]
  },
  {
   "cell_type": "code",
   "execution_count": null,
   "metadata": {
    "collapsed": true
   },
   "outputs": [],
   "source": []
  }
 ],
 "metadata": {
  "anaconda-cloud": {},
  "kernelspec": {
   "display_name": "Python [conda root]",
   "language": "python",
   "name": "conda-root-py"
  },
  "language_info": {
   "codemirror_mode": {
    "name": "ipython",
    "version": 3
   },
   "file_extension": ".py",
   "mimetype": "text/x-python",
   "name": "python",
   "nbconvert_exporter": "python",
   "pygments_lexer": "ipython3",
   "version": "3.5.2"
  },
  "widgets": {
   "state": {
    "07ae9bfeec1f4c9c9517f7adb20f4d90": {
     "views": [
      {
       "cell_index": 12
      }
     ]
    },
    "09528513c92949adaedca7b710a1d89f": {
     "views": [
      {
       "cell_index": 12
      }
     ]
    },
    "0b5c5c7084c04f7c92d483003dbc52f0": {
     "views": [
      {
       "cell_index": 7
      }
     ]
    },
    "0c53a25c58c14394a2bb6406833cc163": {
     "views": [
      {
       "cell_index": 15
      }
     ]
    },
    "104392ccd39f4a62b4d86e65d0c5224f": {
     "views": [
      {
       "cell_index": 12
      }
     ]
    },
    "1929e49da8fa41eba062fdb6830b0374": {
     "views": [
      {
       "cell_index": 12
      }
     ]
    },
    "199122b8ba0c4ae88dd8f5224f2c320b": {
     "views": [
      {
       "cell_index": 12
      }
     ]
    },
    "1ddfebc7772d48d3a9bfd6d722d50308": {
     "views": [
      {
       "cell_index": 12
      }
     ]
    },
    "27e3d2a265b74eb2943782164be79fc4": {
     "views": [
      {
       "cell_index": 14
      }
     ]
    },
    "2f37013d75444a008c3f7f0f4a41d363": {
     "views": [
      {
       "cell_index": 14
      }
     ]
    },
    "32be597134974a3fafe1385ca2379620": {
     "views": [
      {
       "cell_index": 7
      }
     ]
    },
    "33ba16ab039a4618bf850037e3da9495": {
     "views": [
      {
       "cell_index": 12
      }
     ]
    },
    "35f9eb45606e43f888400246ba665a84": {
     "views": [
      {
       "cell_index": 12
      }
     ]
    },
    "3923c65e12e9487c9f0e8c570daac71c": {
     "views": [
      {
       "cell_index": 14
      }
     ]
    },
    "3a26dd61dee74e7db6b89478f6f7804b": {
     "views": [
      {
       "cell_index": 15
      }
     ]
    },
    "3b076684fc814cef8ce1d6eb9f1072d4": {
     "views": [
      {
       "cell_index": 12
      }
     ]
    },
    "3dbca985c89b4ef4ae5661b10dcfe165": {
     "views": [
      {
       "cell_index": 7
      }
     ]
    },
    "425cac95e4614b5f82a4a1a3fa54420c": {
     "views": [
      {
       "cell_index": 12
      }
     ]
    },
    "4636e34766f94b65923ccc614b119d0e": {
     "views": [
      {
       "cell_index": 12
      }
     ]
    },
    "468247db78ca40afadad80ceeb8526c1": {
     "views": [
      {
       "cell_index": 12
      }
     ]
    },
    "4758bd42dade4161bfef680a8f3bc0c0": {
     "views": [
      {
       "cell_index": 7
      }
     ]
    },
    "4acd9474e6334d3998ef26d699a94054": {
     "views": [
      {
       "cell_index": 12
      }
     ]
    },
    "4c0166a7bd6a475b96456628af984fd5": {
     "views": [
      {
       "cell_index": 12
      }
     ]
    },
    "4e5e882e48be440c9bf5cacc1f53b41f": {
     "views": [
      {
       "cell_index": 12
      }
     ]
    },
    "4f18009dbe4c4cd8be1f591d3268e33d": {
     "views": [
      {
       "cell_index": 12
      }
     ]
    },
    "4fbe7cca4bb1493da1c248025ab66593": {
     "views": [
      {
       "cell_index": 7
      }
     ]
    },
    "55904a9583114f08ad409db4ff87e2b3": {
     "views": [
      {
       "cell_index": 14
      }
     ]
    },
    "59d31bcb801a4ea2a0aac34eeeeb484b": {
     "views": [
      {
       "cell_index": 7
      }
     ]
    },
    "5d1c2f73dbff48778cf092dc4074c4c8": {
     "views": [
      {
       "cell_index": 12
      }
     ]
    },
    "60ad4cc364d04554850cb5b9ab6c3dcf": {
     "views": [
      {
       "cell_index": 14
      }
     ]
    },
    "639324e970604f3b9d42fab5eade76b0": {
     "views": [
      {
       "cell_index": 12
      }
     ]
    },
    "643e2d0d71844672a006336851543eee": {
     "views": [
      {
       "cell_index": 14
      }
     ]
    },
    "666b9dd084d14e55a53964512f8d11ae": {
     "views": [
      {
       "cell_index": 14
      }
     ]
    },
    "6bb3a5b14bc748b1b18905be8d3714d5": {
     "views": [
      {
       "cell_index": 12
      }
     ]
    },
    "6be7ba42b50249f79769722319e3d776": {
     "views": [
      {
       "cell_index": 12
      }
     ]
    },
    "6c51096a0a7542da9ffba38b8d44ca63": {
     "views": [
      {
       "cell_index": 7
      }
     ]
    },
    "6de92e23209d4518b87e97a7ab2582be": {
     "views": [
      {
       "cell_index": 12
      }
     ]
    },
    "6f95a0c7f28849ebb0f92bca805a9bfe": {
     "views": [
      {
       "cell_index": 12
      }
     ]
    },
    "741e68866d2e4bd2b58b669e9023a731": {
     "views": [
      {
       "cell_index": 14
      }
     ]
    },
    "7c8ea99c77bd4aa79490675e40a14952": {
     "views": [
      {
       "cell_index": 15
      }
     ]
    },
    "7ce6383438f84dbab1cd6f283bd47fe8": {
     "views": [
      {
       "cell_index": 7
      }
     ]
    },
    "7f0cdaca74c24ffcbf0bd532716d5458": {
     "views": [
      {
       "cell_index": 15
      }
     ]
    },
    "7f18e4a6fb374dfbae128528185c6ec5": {
     "views": [
      {
       "cell_index": 12
      }
     ]
    },
    "817fa5d41b3548129b2192484102e869": {
     "views": [
      {
       "cell_index": 12
      }
     ]
    },
    "81e0f023f4a84223a8a371b9e52d2c6f": {
     "views": [
      {
       "cell_index": 12
      }
     ]
    },
    "854246a7ec834631812020589a2df6c1": {
     "views": [
      {
       "cell_index": 7
      }
     ]
    },
    "85def42cbc3747e09dea9dd866e3d750": {
     "views": [
      {
       "cell_index": 12
      }
     ]
    },
    "88bf81b7da2a458896a2e0c0387e6ca4": {
     "views": [
      {
       "cell_index": 12
      }
     ]
    },
    "8a185050996a4d10b63257d5929c9fd7": {
     "views": [
      {
       "cell_index": 12
      }
     ]
    },
    "8cca50d099bc48219905289453af13bb": {
     "views": [
      {
       "cell_index": 12
      }
     ]
    },
    "8f854f303cf7493080d145db3f9b5bcc": {
     "views": [
      {
       "cell_index": 12
      }
     ]
    },
    "8f893315726b439eb63c3e415100fdd2": {
     "views": [
      {
       "cell_index": 12
      }
     ]
    },
    "9008da07aea24686ba06ad99993e68f2": {
     "views": [
      {
       "cell_index": 12
      }
     ]
    },
    "90f2f1a13a8c4e1d8fe9b3e61491be89": {
     "views": [
      {
       "cell_index": 12
      }
     ]
    },
    "922350ab6cff4dfea3591d312628b2c1": {
     "views": [
      {
       "cell_index": 12
      }
     ]
    },
    "9a46d5c18d0540958e0d14fef6e1280c": {
     "views": [
      {
       "cell_index": 12
      }
     ]
    },
    "a00dfd093f8043ab8cdea9b3aae895c6": {
     "views": [
      {
       "cell_index": 12
      }
     ]
    },
    "a2d4b7b1f7e84d8ca0a2c899140d6a5b": {
     "views": [
      {
       "cell_index": 12
      }
     ]
    },
    "a3300cf96ae84672b133a510f231e75c": {
     "views": [
      {
       "cell_index": 12
      }
     ]
    },
    "a6b1efbb3ce7483ab52beabcbfaf5640": {
     "views": [
      {
       "cell_index": 12
      }
     ]
    },
    "abe3534ded214eb79ab8a83fe3d75945": {
     "views": [
      {
       "cell_index": 12
      }
     ]
    },
    "acb5d0d1b0c34b249f937304db284488": {
     "views": [
      {
       "cell_index": 15
      }
     ]
    },
    "ada4c9ef714e49bb837b593d1d4b4c9b": {
     "views": [
      {
       "cell_index": 12
      }
     ]
    },
    "af53e64f57e243679f46fe45bccbaf32": {
     "views": [
      {
       "cell_index": 12
      }
     ]
    },
    "b7831572432a4c4fb5919c10d8b1b864": {
     "views": [
      {
       "cell_index": 14
      }
     ]
    },
    "c58f623741614bc28859711688bbb58c": {
     "views": [
      {
       "cell_index": 12
      }
     ]
    },
    "c5c0555b64db46a4bb8ffc516acb4b33": {
     "views": [
      {
       "cell_index": 12
      }
     ]
    },
    "cdc9f6e6b7fb452a885f9fc452716017": {
     "views": [
      {
       "cell_index": 14
      }
     ]
    },
    "ce520787cd3544e68e67c7e6a66217cc": {
     "views": [
      {
       "cell_index": 12
      }
     ]
    },
    "cf1d4f5e4a8743cd9da622a5f0db0416": {
     "views": [
      {
       "cell_index": 15
      }
     ]
    },
    "d2108a66bc7b4958818c57f40084b96a": {
     "views": [
      {
       "cell_index": 14
      }
     ]
    },
    "d33b240485dd4fe69b63fb8826ca64d3": {
     "views": [
      {
       "cell_index": 7
      }
     ]
    },
    "d5c0fea98b0d4f05a34521766ba4e77b": {
     "views": [
      {
       "cell_index": 12
      }
     ]
    },
    "d5c965c6e36f452da83550448f909309": {
     "views": [
      {
       "cell_index": 14
      }
     ]
    },
    "d9f465d68472414cacad73218205c9b8": {
     "views": [
      {
       "cell_index": 12
      }
     ]
    },
    "ddf97d65bd6e4e8b8ae0a18b8ff9aa1f": {
     "views": [
      {
       "cell_index": 12
      }
     ]
    },
    "de0cd792297247e4a1155c6e58cd283a": {
     "views": [
      {
       "cell_index": 14
      }
     ]
    },
    "dedce3ea92ce4336a7999dd66c96d96e": {
     "views": [
      {
       "cell_index": 12
      }
     ]
    },
    "df0a1468cb414386be9753493bd1e0e2": {
     "views": [
      {
       "cell_index": 12
      }
     ]
    },
    "e3cd2bfe673a4b1cada150f002452a3c": {
     "views": [
      {
       "cell_index": 12
      }
     ]
    },
    "e45c1304d97d45639daea375fac1d0b0": {
     "views": [
      {
       "cell_index": 15
      }
     ]
    },
    "e4ef969400b94fc38ff4e264db950b89": {
     "views": [
      {
       "cell_index": 15
      }
     ]
    },
    "e6e5f70f6f9c4f85a9d2231660a47acf": {
     "views": [
      {
       "cell_index": 12
      }
     ]
    },
    "e72cff8a140b4dfcbda515322d724fc1": {
     "views": [
      {
       "cell_index": 7
      }
     ]
    },
    "eee36bbc10fd438daa2d71c9bc2f9a45": {
     "views": [
      {
       "cell_index": 12
      }
     ]
    },
    "f78ed97589074d5e80ce718af69b4362": {
     "views": [
      {
       "cell_index": 12
      }
     ]
    },
    "fe1819d8e62642e681c74d99af963a06": {
     "views": [
      {
       "cell_index": 7
      }
     ]
    }
   },
   "version": "1.2.0"
  }
 },
 "nbformat": 4,
 "nbformat_minor": 1
}
