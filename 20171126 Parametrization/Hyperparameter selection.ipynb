{
 "cells": [
  {
   "cell_type": "markdown",
   "metadata": {},
   "source": [
    "# Method for selection of hyperparameters of parametrization"
   ]
  },
  {
   "cell_type": "code",
   "execution_count": null,
   "metadata": {
    "collapsed": false
   },
   "outputs": [],
   "source": [
    "import numpy as np\n",
    "import pickle\n",
    "from spline_inter1d import SplineInter1D, _Spline\n",
    "import matplotlib.pyplot as plt\n",
    "from matplotlib2tikz import save as tikz_save\n",
    "%matplotlib inline\n",
    "from kde import KDE\n",
    "from tqdm import tqdm_notebook as tqdm\n",
    "from sklearn.preprocessing import StandardScaler\n",
    "import os\n",
    "from matplotlib import animation, rc\n",
    "from IPython.display import HTML\n",
    "overwrite = False"
   ]
  },
  {
   "cell_type": "code",
   "execution_count": null,
   "metadata": {
    "collapsed": true
   },
   "outputs": [],
   "source": [
    "tikz_path = os.path.join('..', '20171126 Parametrization', 'figures')\n",
    "def tikz(name, extras=None):\n",
    "    # Convert to tikz\n",
    "    tikz_save(os.path.join(tikz_path, '{:s}.tikz'.format(name)),\n",
    "              figureheight='\\\\figureheight', figurewidth='\\\\figurewidth',\n",
    "              extra_axis_parameters=extras) "
   ]
  },
  {
   "cell_type": "markdown",
   "metadata": {},
   "source": [
    "## Simplified example"
   ]
  },
  {
   "cell_type": "code",
   "execution_count": null,
   "metadata": {
    "collapsed": false
   },
   "outputs": [],
   "source": [
    "# Define the spline function that we later need\n",
    "spl_event = SplineInter1D([0, 1/2, 1], left_constraints=[1], right_constraints=[0])\n",
    "spl = _Spline(spl_event.t, spl_event.d, spl_event.thetafixed)\n",
    "def theta(thetatilde):\n",
    "    return spl_event.thetafixed + np.dot(spl_event.v2, thetatilde)\n",
    "def thetatilde(theta):\n",
    "    return np.dot(spl_event.v2.T, theta - spl_event.thetafixed)"
   ]
  },
  {
   "cell_type": "code",
   "execution_count": null,
   "metadata": {
    "collapsed": true
   },
   "outputs": [],
   "source": [
    "# This is the error function that measures how good the parameters 'z' fit with the curve y\n",
    "def error(y, z, sigma=0.1):\n",
    "    \"\"\"Determine the error\n",
    "    y is an test curve, evaluated at default x values\n",
    "    z is a vector containing the parameters from the kde\n",
    "    sigma 'Standard deviation', kind of allowed error\n",
    "    \"\"\"\n",
    "    # Construct spline and evaluate\n",
    "    spl.theta = theta(z)\n",
    "    yz = spl()\n",
    "    \n",
    "    # Return the function\n",
    "    # return np.mean(np.exp(-(y - yz)**2 / (2 * sigma**2))) / (sigma * np.sqrt(2*np.pi))\n",
    "    # return np.mean(-np.abs(y - yz) / sigma) - np.log(2 * sigma)\n",
    "    # return np.exp(-np.mean((y - yz)**2 / (2 * sigma * sigma)) / np.sqrt(2 * np.pi * sigma))\n",
    "    return np.exp(-np.mean(np.abs(y - yz) / sigma))"
   ]
  },
  {
   "cell_type": "code",
   "execution_count": null,
   "metadata": {
    "collapsed": false
   },
   "outputs": [],
   "source": [
    "# Do it for a very simple case\n",
    "t = np.linspace(0, 1, 20)\n",
    "spl(t)  # Sets the x-values\n",
    "v1 = -t**2 + 1\n",
    "v2 = t**2 -2*t + 1\n",
    "v3 = -t + 1\n",
    "coef_train = np.array([thetatilde(spl_event.fit(t, v1).theta), thetatilde(spl_event.fit(t, v2).theta)])\n",
    "plt.plot(t, v1, 'b', label='Training curve')\n",
    "plt.plot(t, v2, 'b')\n",
    "plt.plot(t, v3, 'r', label='Test curve')\n",
    "plt.xlabel('t')\n",
    "plt.ylabel('y')\n",
    "plt.legend()\n",
    "plt.grid('on')\n",
    "tikz('simple_case_overview') "
   ]
  },
  {
   "cell_type": "code",
   "execution_count": null,
   "metadata": {
    "collapsed": false,
    "scrolled": false
   },
   "outputs": [],
   "source": [
    "H = [0.01, 0.1, 0.2, 0.5, 1, 2]\n",
    "f, axs = plt.subplots(2, 3, figsize=(16, 8))\n",
    "for h, ax in zip(H, np.ravel(axs)):\n",
    "    kde = KDE(coef_train, bandwidth=h, scale_data=False)\n",
    "    kde.compute_kde()\n",
    "    for i in range(40):\n",
    "        z = kde.draw_random_sample(1)[0]\n",
    "        spl.theta = theta(z)\n",
    "        ax.plot(t, spl(t), color=[.5, .5, 1])\n",
    "    #ax.set_title('h = {:.2f}'.format(h))\n",
    "    ax.set_xlabel('t')\n",
    "    ax.set_ylabel('y')\n",
    "    ax.grid('on')\n",
    "plt.tight_layout()"
   ]
  },
  {
   "cell_type": "code",
   "execution_count": null,
   "metadata": {
    "collapsed": false
   },
   "outputs": [],
   "source": [
    "for j, h in enumerate(H):\n",
    "    kde = KDE(coef_train, bandwidth=h, scale_data=False)\n",
    "    kde.compute_kde()\n",
    "    for i in range(40):\n",
    "        z = kde.draw_random_sample(1)[0]\n",
    "        spl.theta = theta(z)\n",
    "        plt.plot(t, spl(t), color=[.5, .5, 1])\n",
    "    plt.xlabel('t')\n",
    "    plt.ylabel('y')\n",
    "    plt.grid('on')\n",
    "    tikz('simple_case_test_h{:d}'.format(j+1))\n",
    "    plt.cla()"
   ]
  },
  {
   "cell_type": "code",
   "execution_count": null,
   "metadata": {
    "collapsed": false
   },
   "outputs": [],
   "source": [
    "savefile = os.path.join('pickles', 'artificial_example.p')\n",
    "N = 1000\n",
    "H = np.logspace(-2, 1, 31)\n",
    "Sigma = [0.005, 0.01, 0.05, 0.1, 0.5, 1]\n",
    "\n",
    "E = np.zeros((len(Sigma), len(H)))\n",
    "if overwrite or not os.path.exists(savefile):\n",
    "    for isigma, sigma in enumerate(tqdm(Sigma)):\n",
    "        for ih, h in enumerate(tqdm(H, leave=False)):\n",
    "            kde = KDE(coef_train, bandwidth=h, scale_data=False)\n",
    "            kde.compute_kde()\n",
    "            e = np.zeros(N)\n",
    "            for i in range(N):\n",
    "                z = kde.draw_random_sample(1)[0]\n",
    "                e[i] = error(v3, z, sigma=sigma)\n",
    "            E[isigma, ih] = np.mean(e, axis=0)\n",
    "    if not os.path.exists(os.path.dirname(savefile)):\n",
    "        os.mkdir(os.path.dirname(savefile))\n",
    "    with open(savefile, 'wb') as f:\n",
    "        pickle.dump(E, f)\n",
    "else:\n",
    "    with open(savefile, 'rb') as f:\n",
    "        E = pickle.load(f)"
   ]
  },
  {
   "cell_type": "code",
   "execution_count": null,
   "metadata": {
    "collapsed": false
   },
   "outputs": [],
   "source": [
    "f, (ax1, ax2) = plt.subplots(1, 2, figsize=(16, 4))\n",
    "for sigma, e in zip(Sigma, E):\n",
    "    plthandle = ax1.semilogx(H, e, label='sigma = {:.3f}'.format(sigma))\n",
    "    ax1.plot(H[np.argmax(e)], np.max(e), 'x', color=plthandle[0].get_color(), ms=10, mew=3)\n",
    "    plthandle = ax2.semilogx(H, (e - np.min(e)) / (np.max(e) - np.min(e)), label='sigma = {:.3f}'.format(sigma))\n",
    "    ax2.plot(H[np.argmax(e)], 1, 'x', color=plthandle[0].get_color(), ms=10, mew=3)\n",
    "ax1.grid('on')\n",
    "ax1.set_xlabel('Bandwidth')\n",
    "ax1.set_ylabel('Score')\n",
    "ax2.grid('on')\n",
    "ax2.set_xlabel('Bandwidth')\n",
    "ax2.set_ylabel('Score normalized per curve')\n",
    "ax1.legend()"
   ]
  },
  {
   "cell_type": "code",
   "execution_count": null,
   "metadata": {
    "collapsed": false
   },
   "outputs": [],
   "source": [
    "for sigma, e in zip(Sigma, E):\n",
    "    plthandle = plt.semilogx(H, (e - np.min(e)) / (np.max(e) - np.min(e)), label='sigma = {:.3f}'.format(sigma))\n",
    "    plt.plot(H[np.argmax(e)], 1, 'x', color=plthandle[0].get_color(), ms=10, mew=3)\n",
    "plt.grid('on')\n",
    "plt.xlabel('Bandwidth')\n",
    "plt.ylabel('Score normalized per curve')\n",
    "plt.legend()\n",
    "tikz('simple_case_scores')"
   ]
  },
  {
   "cell_type": "markdown",
   "metadata": {},
   "source": [
    "## Real example"
   ]
  },
  {
   "cell_type": "code",
   "execution_count": null,
   "metadata": {
    "collapsed": true
   },
   "outputs": [],
   "source": [
    "with open('df.p', 'rb') as f:\n",
    "    (dfs, scaling) = pickle.load(f)\n",
    "# Only use first n profiles\n",
    "n = 400\n",
    "dfs = dfs[:n].copy()\n",
    "scaling = scaling.T[:n].copy()"
   ]
  },
  {
   "cell_type": "code",
   "execution_count": null,
   "metadata": {
    "collapsed": false
   },
   "outputs": [],
   "source": [
    "# Interpolate all curves\n",
    "profiles = np.zeros((len(dfs), len(t)))\n",
    "for i, df in enumerate(dfs):\n",
    "    profiles[i] = np.interp(t, df['time'], df['vel'])"
   ]
  },
  {
   "cell_type": "code",
   "execution_count": null,
   "metadata": {
    "collapsed": false,
    "scrolled": false
   },
   "outputs": [],
   "source": [
    "# Show a profile\n",
    "i = 1\n",
    "plt.plot(dfs[i]['time']*scaling[i, 0], (dfs[i]['vel']*(scaling[i, 1] - scaling[i, 2]) + scaling[i,2])*3.6)\n",
    "plt.grid('on')\n",
    "plt.xlabel('Time [s]')\n",
    "plt.ylabel('Velocity [km/h]')\n",
    "tikz('velocity_profile_example')"
   ]
  },
  {
   "cell_type": "code",
   "execution_count": null,
   "metadata": {
    "collapsed": false
   },
   "outputs": [],
   "source": [
    "plt.plot(dfs[i]['time'], dfs[i]['vel'])\n",
    "plt.grid('on')\n",
    "plt.xlabel('Normalized time')\n",
    "plt.ylabel('Normalized velocity')\n",
    "tikz('velocity_profile_example_normalized')"
   ]
  },
  {
   "cell_type": "markdown",
   "metadata": {},
   "source": [
    "### Influence of number of knots"
   ]
  },
  {
   "cell_type": "code",
   "execution_count": null,
   "metadata": {
    "collapsed": false,
    "scrolled": true
   },
   "outputs": [],
   "source": [
    "savefile = os.path.join('pickles', 'test_nknots.p')\n",
    "sigma = 0.001\n",
    "N = 2000\n",
    "NKNOTS = [0, 1, 2, 3, 4]\n",
    "H = np.logspace(-3, 0, 10)\n",
    "J = np.zeros((len(NKNOTS), len(H)))\n",
    "ntest = 10\n",
    "\n",
    "if overwrite or not os.path.exists(savefile):\n",
    "    for inknots, nknots in enumerate(tqdm(NKNOTS)):\n",
    "        print(\"Number of interior knots: {:d}\".format(nknots))\n",
    "        # Define spline function. Note the +2 because of extra exterior knots\n",
    "        spl_event = SplineInter1D(np.linspace(0, 1, nknots+2), left_constraints=[1], right_constraints=[0])\n",
    "        spl = _Spline(spl_event.t, spl_event.d, spl_event.thetafixed)\n",
    "        spl(t)  # Sets the x-values\n",
    "\n",
    "        # Compute the spline coefficients\n",
    "        ncoefs = spl_event.v2.shape[1]\n",
    "        coefs = np.zeros((len(dfs), ncoefs))\n",
    "        for i, df in enumerate(dfs):\n",
    "            coefs[i] = thetatilde(spl_event.fit(df['time'], df['vel']).theta)\n",
    "        scaler = StandardScaler()\n",
    "        scaler.fit(coefs)\n",
    "\n",
    "        # Perform the cross validation\n",
    "        for ih, h in enumerate(tqdm(H, leave=False)):\n",
    "            for idf, profile in enumerate(tqdm(profiles[:ntest], leave=False)):\n",
    "                # Construct the KDE\n",
    "                kde = KDE(scaler.transform(np.concatenate((coefs[:idf], coefs[idf+1:]))), bandwidth=h, scale_data=False)\n",
    "                kde.compute_kde()\n",
    "\n",
    "                # Generate curves and compare\n",
    "                e = np.zeros(N)\n",
    "                for i in range(N):\n",
    "                    z = scaler.inverse_transform(kde.draw_random_sample(1))[0]\n",
    "                    e[i] = error(profile, z, sigma=sigma)\n",
    "                #plt.plot(e)\n",
    "\n",
    "                # Add result to final score\n",
    "                J[inknots, ih] += np.log(np.mean(e))\n",
    "                print(\"\\rh = {:.2e}, J = {:.1f}\".format(h, J[inknots, ih]/(idf+1)*ntest), end=\"\")\n",
    "            print(\"\\rh = {:.2e}, J = {:.1f}\".format(h, J[inknots, ih]))\n",
    "            print()\n",
    "    with open(savefile, 'wb') as f:\n",
    "        pickle.dump(J, f)\n",
    "else:\n",
    "    with open(savefile, 'rb') as f:\n",
    "        J = pickle.load(f)"
   ]
  },
  {
   "cell_type": "code",
   "execution_count": null,
   "metadata": {
    "collapsed": false
   },
   "outputs": [],
   "source": [
    "for inknots, nknots in enumerate(NKNOTS):\n",
    "    plthandle = plt.semilogx(H, J[inknots], label='nknots={:d}'.format(nknots))\n",
    "    plt.plot(H[np.argmax(J[inknots])], np.max(J[inknots]), 'x', color=plthandle[0].get_color(), ms=10, mew=3)\n",
    "plt.grid('on')\n",
    "plt.xlabel('Bandwidth')\n",
    "plt.ylabel('Score')\n",
    "plt.legend()"
   ]
  },
  {
   "cell_type": "markdown",
   "metadata": {},
   "source": [
    "### Influence of number of coefficients with SVD"
   ]
  },
  {
   "cell_type": "code",
   "execution_count": null,
   "metadata": {
    "collapsed": false,
    "scrolled": true
   },
   "outputs": [],
   "source": [
    "savefile = os.path.join('pickles', 'test_svd.p')\n",
    "NKNOTS2 = [2, 3, 4]\n",
    "H2 = np.logspace(-2, 1, 10)\n",
    "\n",
    "if overwrite or not os.path.exists(savefile):\n",
    "    JJ = []\n",
    "    # Loop through all number of knots\n",
    "    for inknots, nknots in enumerate(tqdm(NKNOTS2)):\n",
    "        print(\"Number of interior knots: {:d}\".format(nknots))\n",
    "        # Define spline function. Note the +2 because of extra exterior knots\n",
    "        spl_event = SplineInter1D(np.linspace(0, 1, nknots+2), left_constraints=[1], right_constraints=[0])\n",
    "        spl = _Spline(spl_event.t, spl_event.d, spl_event.thetafixed)\n",
    "        spl(t)  # Sets the x-values\n",
    "\n",
    "        # Compute the spline coefficients\n",
    "        ncoefs = spl_event.v2.shape[1]\n",
    "        coefs = np.zeros((len(dfs), ncoefs))\n",
    "        for i, df in enumerate(dfs):\n",
    "            coefs[i] = thetatilde(spl_event.fit(df['time'], df['vel']).theta)\n",
    "        scaler = StandardScaler()\n",
    "        scaler.fit(coefs)\n",
    "\n",
    "        # Perform SVD\n",
    "        mu = np.mean(coefs, axis=0)\n",
    "        u, s, v = np.linalg.svd(coefs-mu, full_matrices=False)\n",
    "\n",
    "        # Initialize result matrix\n",
    "        jj = np.zeros((ncoefs, len(H)))\n",
    "\n",
    "        # Try all different amount of coefficients\n",
    "        for incoef, ncoef in enumerate(tqdm(range(1, ncoefs+1), leave=False)):\n",
    "            print(\"Number of coefficients: {:d}\".format(ncoef))\n",
    "            # Define the scaler\n",
    "            scaler = StandardScaler()\n",
    "            scaler.fit(u[:, :ncoef])\n",
    "            # Perform the cross validation\n",
    "            for ih, h in enumerate(tqdm(H2, leave=False)):\n",
    "                for idf, profile in enumerate(tqdm(profiles[:ntest], leave=False)):\n",
    "                    # Construct the KDE\n",
    "                    kde = KDE(scaler.transform(np.concatenate((u[:idf, :ncoef], u[idf+1:, :ncoef]))), \n",
    "                              bandwidth=h, scale_data=False)\n",
    "                    kde.compute_kde()\n",
    "\n",
    "                    # Generate curves and compare\n",
    "                    e = np.zeros(N)\n",
    "                    for i in range(N):\n",
    "                        z = scaler.inverse_transform(kde.draw_random_sample(1))[0]\n",
    "                        e[i] = error(profile, mu + np.dot(z*s[:ncoef], v[:ncoef]), sigma=sigma)\n",
    "                    #plt.plot(e)\n",
    "\n",
    "                    # Add result to final score\n",
    "                    jj[incoef, ih] += np.log(np.mean(e))\n",
    "                    print(\"\\rh = {:.2e}, J = {:.1f}\".format(h, jj[incoef, ih]/(idf+1)*ntest), end=\"\")\n",
    "                print(\"\\rh = {:.2e}, J = {:.1f}\".format(h, jj[incoef, ih]))\n",
    "                print()\n",
    "        JJ.append(jj)\n",
    "    with open(savefile, 'wb') as f:\n",
    "        pickle.dump(JJ, f)\n",
    "else:\n",
    "    with open(savefile, 'rb') as f:\n",
    "        JJ = pickle.load(f)"
   ]
  },
  {
   "cell_type": "code",
   "execution_count": null,
   "metadata": {
    "collapsed": false
   },
   "outputs": [],
   "source": [
    "f, axs = plt.subplots(1, len(JJ), figsize=(5*len(JJ), 4))\n",
    "for ax, jj, nknots in zip(axs, JJ, NKNOTS2):\n",
    "    for incoef, ncoef in enumerate(range(1, len(jj)+1)):\n",
    "        plthandle = ax.semilogx(H2, jj[incoef], label='ncoef={:d}'.format(ncoef))\n",
    "        ax.plot(H2[np.argmax(jj[incoef])], np.max(jj[incoef]), 'x', color=plthandle[0].get_color(), ms=10, mew=3)\n",
    "    ax.grid('on')\n",
    "    ax.set_xlabel('Bandwidth')\n",
    "    ax.set_ylabel('Score')\n",
    "    ax.set_title('Number of interior knots: {:d}'.format(nknots))\n",
    "    ax.legend()\n",
    "plt.tight_layout()"
   ]
  },
  {
   "cell_type": "code",
   "execution_count": null,
   "metadata": {
    "collapsed": false,
    "scrolled": false
   },
   "outputs": [],
   "source": [
    "f, axs = plt.subplots(1, len(JJ), figsize=(5*len(JJ), 4))\n",
    "for ax, j, jj, nknots in zip(axs, [J[i] for i in np.searchsorted(NKNOTS, NKNOTS2)], JJ, NKNOTS2):\n",
    "    plthandle = ax.semilogx(H, j, label='orig'.format(ncoef))\n",
    "    ax.plot(H[np.argmax(j)], np.max(j), 'x', color=plthandle[0].get_color(), ms=10, mew=3)\n",
    "    plthandle = ax.semilogx(H2, jj[-1], label='svd'.format(ncoef))\n",
    "    ax.plot(H2[np.argmax(jj[-1])], np.max(jj[-1]), 'x', color=plthandle[0].get_color(), ms=10, mew=3)\n",
    "    ax.grid('on')\n",
    "    ax.set_xlabel('Bandwidth')\n",
    "    ax.set_ylabel('Score')\n",
    "    ax.set_title('Number of interior knots: {:d}'.format(nknots))\n",
    "    ax.legend()\n",
    "plt.tight_layout()"
   ]
  },
  {
   "cell_type": "markdown",
   "metadata": {},
   "source": [
    "### Copulas"
   ]
  },
  {
   "cell_type": "code",
   "execution_count": null,
   "metadata": {
    "collapsed": false
   },
   "outputs": [],
   "source": [
    "nknots = 0\n",
    "\n",
    "spl_event = SplineInter1D(np.linspace(0, 1, nknots+2), left_constraints=[1], right_constraints=[0])\n",
    "spl = _Spline(spl_event.t, spl_event.d, spl_event.thetafixed)\n",
    "spl(t)  # Sets the x-values\n",
    "\n",
    "# Compute the spline coefficients\n",
    "ncoefs = spl_event.v2.shape[1]\n",
    "coefs = np.zeros((len(dfs), ncoefs))\n",
    "for i, df in enumerate(dfs):\n",
    "    coefs[i] = thetatilde(spl_event.fit(df['time'], df['vel']).theta)\n",
    "scaler = StandardScaler()\n",
    "scaler.fit(coefs)"
   ]
  },
  {
   "cell_type": "code",
   "execution_count": null,
   "metadata": {
    "collapsed": false
   },
   "outputs": [],
   "source": [
    "# For comparison, compute score when very small bandwidth is used\n",
    "J = 0\n",
    "J2 = 0\n",
    "for idf, profile in enumerate(tqdm(profiles[:ntest], leave=True)):\n",
    "    kde = KDE(data=scaler.transform(np.concatenate((coefs[:idf], coefs[idf+1:]))), scale_data=False, bandwidth=1e-3)\n",
    "    kde.compute_kde()\n",
    "    e = np.zeros(N)\n",
    "    for i in range(N):\n",
    "        X = kde.draw_random_sample(1)[0]\n",
    "        z = scaler.inverse_transform(X)\n",
    "        J2 += np.min(np.sum((coefs - z)**2, axis=1))\n",
    "        e[i] = error(profile, z, sigma=sigma)\n",
    "    J += np.log(np.mean(e))\n",
    "print(J)\n",
    "print(J2)"
   ]
  },
  {
   "cell_type": "code",
   "execution_count": null,
   "metadata": {
    "collapsed": true
   },
   "outputs": [],
   "source": [
    "scoefs = scaler.transform(coefs)\n",
    "normcoefs = np.zeros_like(scoefs)  # Normalized coefficients, such that marginals are uniform distributions\n",
    "x = np.linspace(-5, 5, 10001)\n",
    "cdf = np.zeros((len(x), ncoefs))\n",
    "h = 0.001\n",
    "for i in range(scoefs.shape[1]):\n",
    "    kde = KDE(data=scoefs[:, i:i+1], scale_data=False, bandwidth=h)\n",
    "    kde.compute_kde()\n",
    "    y = np.exp(kde.kde.score_samples(x[:, np.newaxis]))\n",
    "    cdf[:, i] = np.cumsum(y * np.gradient(x))\n",
    "    cdf[:, i] /= cdf[-1, i]\n",
    "    normcoefs[:, i] = np.interp(scoefs[:, i], x, cdf[:, i])"
   ]
  },
  {
   "cell_type": "code",
   "execution_count": null,
   "metadata": {
    "collapsed": false
   },
   "outputs": [],
   "source": [
    "H = np.logspace(-5, -2, 2)\n",
    "\n",
    "J = np.zeros_like(H)\n",
    "J2 = 0\n",
    "for ih, h in enumerate(tqdm(H)):\n",
    "    kde = KDE(data=normcoefs, scale_data=False, bandwidth=h)\n",
    "    kde.compute_kde()\n",
    "    for idf, profile in enumerate(tqdm(profiles[:ntest], leave=False)):\n",
    "        e = np.zeros(N)\n",
    "        for i in range(N):\n",
    "            X = kde.draw_random_sample(1)[0]\n",
    "            X = np.min([np.mod(X, 2), 2-np.mod(X, 2)], axis=0)\n",
    "            #while np.any(X <= 0) or np.any(X >= 1):\n",
    "            #    X = kde.draw_random_sample(1)[0]\n",
    "            Xscaled = [np.interp(X[i], cdf[:, i], x) for i in range(ncoefs)]\n",
    "            z = scaler.inverse_transform(Xscaled)\n",
    "            J2 += np.min(np.sum((coefs - z)**2, axis=1))\n",
    "            e[i] = error(profiles[0], z, sigma=sigma)\n",
    "        J[ih] += np.log(np.mean(e))\n",
    "        print(\"\\rh = {:.2e}, J = {:.1f}\".format(h, J[ih]/(idf+1)*ntest), end=\"\")\n",
    "    break\n",
    "    print(\"\\rh = {:.2e}, J = {:.1f}\".format(h, J[ih]))\n",
    "    print()"
   ]
  },
  {
   "cell_type": "code",
   "execution_count": null,
   "metadata": {
    "collapsed": false
   },
   "outputs": [],
   "source": [
    "J2"
   ]
  },
  {
   "cell_type": "code",
   "execution_count": null,
   "metadata": {
    "collapsed": false
   },
   "outputs": [],
   "source": [
    "f, (ax1, ax2) = plt.subplots(1, 2, figsize=(10, 4))\n",
    "for i in range(ncoefs):\n",
    "    ax1.plot(x, cdf[:, i])\n",
    "    ax2.plot(x, np.gradient(cdf[:, i])/np.gradient(x))"
   ]
  },
  {
   "cell_type": "code",
   "execution_count": null,
   "metadata": {
    "collapsed": false,
    "scrolled": true
   },
   "outputs": [],
   "source": [
    "# Show copula density\n",
    "kde = KDE(data=normcoefs, scale_data=False, bandwidth=0.001)\n",
    "kde.compute_kde()\n",
    "n = 50\n",
    "q = np.linspace(0, 1, n)\n",
    "if ncoefs == 2:\n",
    "    qq, rr = [x.ravel() for x in np.meshgrid(q, q)]\n",
    "    scores = np.zeros((n, n))\n",
    "    for q in tqdm([-qq, qq, 2-qq]):\n",
    "        for r in tqdm([-rr, rr, 2-rr], leave=False):\n",
    "            pp = np.array([q, r]).T\n",
    "            scores += np.reshape(np.exp(kde.kde.score_samples(pp)), (n, n))\n",
    "    #scores = np.reshape(np.exp(kde.kde.score_samples(np.array([qq, rr]).T)), (n, n))\n",
    "    plt.imshow(scores)\n",
    "    \n",
    "elif ncoefs == 3:\n",
    "    qq, rr, ss = [x.ravel() for x in np.meshgrid(q, q, q)]\n",
    "    scores = np.zeros((n, n, n))\n",
    "    for q in tqdm([-qq, qq, 2-qq]):\n",
    "        for r in tqdm([-rr, rr, 2-rr], leave=False):\n",
    "            for s in tqdm([-ss, ss, 2-ss], leave=False):\n",
    "                pp = np.array([q, r, s]).T\n",
    "                scores += np.reshape(np.exp(kde.kde.score_samples(pp)), (n, n, n))\n",
    "\n",
    "    # First set up the figure, the axis, and the plot element we want to animate\n",
    "    fig = plt.figure()\n",
    "    ax = plt.axes(xlim=(0, n-1), ylim=(0, n-1))\n",
    "    im = ax.imshow(scores[0])\n",
    "\n",
    "    # initialization function: plot the background of each frame\n",
    "    def init():\n",
    "        im.set_data(scores[0])\n",
    "        return (im,)\n",
    "\n",
    "    # animation function.  This is called sequentially\n",
    "    def animate(i):\n",
    "        im.set_data(scores[i])\n",
    "        return (im,)\n",
    "\n",
    "    # call the animator.  blit=True means only re-draw the parts that have changed.\n",
    "    anim = animation.FuncAnimation(fig, animate, init_func=init,\n",
    "                                   frames=n, interval=50, blit=True)\n",
    "\n",
    "    # call our new function to display the animation\n",
    "    HTML(anim.to_html5_video())"
   ]
  },
  {
   "cell_type": "code",
   "execution_count": null,
   "metadata": {
    "collapsed": false
   },
   "outputs": [],
   "source": [
    "np.meshgrid((q, q))[0].shape"
   ]
  },
  {
   "cell_type": "code",
   "execution_count": null,
   "metadata": {
    "collapsed": false
   },
   "outputs": [],
   "source": [
    "x = np.meshgrid(*(q for _ in range(2)))"
   ]
  },
  {
   "cell_type": "code",
   "execution_count": null,
   "metadata": {
    "collapsed": false
   },
   "outputs": [],
   "source": []
  }
 ],
 "metadata": {
  "anaconda-cloud": {},
  "kernelspec": {
   "display_name": "Python [conda root]",
   "language": "python",
   "name": "conda-root-py"
  },
  "language_info": {
   "codemirror_mode": {
    "name": "ipython",
    "version": 3
   },
   "file_extension": ".py",
   "mimetype": "text/x-python",
   "name": "python",
   "nbconvert_exporter": "python",
   "pygments_lexer": "ipython3",
   "version": "3.5.2"
  },
  "widgets": {
   "state": {
    "006157cb141841d5ac6689c67f4ba432": {
     "views": [
      {
       "cell_index": 16
      }
     ]
    },
    "01cc1491227a4f2285762acef9e8a2fe": {
     "views": [
      {
       "cell_index": 16
      }
     ]
    },
    "01d4e715e4eb44cd8a1f3882c26ad74e": {
     "views": [
      {
       "cell_index": 16
      }
     ]
    },
    "022595c70ccc42e888d5b7843b922826": {
     "views": [
      {
       "cell_index": 16
      }
     ]
    },
    "0228e0cbee0e4ba6bd5db6bf47e29a29": {
     "views": [
      {
       "cell_index": 16
      }
     ]
    },
    "031a8dc7c2f44738a4cebb781b084103": {
     "views": [
      {
       "cell_index": 16
      }
     ]
    },
    "039a0beebea64e59816555e2c9fbc366": {
     "views": [
      {
       "cell_index": 16
      }
     ]
    },
    "0432b60300274d36b2e03238e4a1e5a3": {
     "views": [
      {
       "cell_index": 16
      }
     ]
    },
    "04707123b88e410094644e17d59b3891": {
     "views": [
      {
       "cell_index": 13
      }
     ]
    },
    "04e94b78eba54c64a7f26ed2306908cc": {
     "views": [
      {
       "cell_index": 16
      }
     ]
    },
    "062b6d0f38b04729ad733c4afe8e3153": {
     "views": [
      {
       "cell_index": 16
      }
     ]
    },
    "066c4be5dbcd4e07bc1b05f250749ef1": {
     "views": [
      {
       "cell_index": 16
      }
     ]
    },
    "079aa72379e4419d898eb285e926f79e": {
     "views": [
      {
       "cell_index": 16
      }
     ]
    },
    "07ae9bfeec1f4c9c9517f7adb20f4d90": {
     "views": [
      {
       "cell_index": 12
      }
     ]
    },
    "07c8ca4819534c29b702b688c919198f": {
     "views": [
      {
       "cell_index": 13
      }
     ]
    },
    "07ce0651d509437fa061608600c16e91": {
     "views": [
      {
       "cell_index": 16
      }
     ]
    },
    "0826942f87b04dae9d89df84a773bdd6": {
     "views": [
      {
       "cell_index": 16
      }
     ]
    },
    "085f84b27e7c4666a5a217fe20eed752": {
     "views": [
      {
       "cell_index": 16
      }
     ]
    },
    "08b3c78775dc4668911f3e9c4071972d": {
     "views": [
      {
       "cell_index": 22
      }
     ]
    },
    "094f34cadb5c484f9063a90d1242f520": {
     "views": [
      {
       "cell_index": 16
      }
     ]
    },
    "09528513c92949adaedca7b710a1d89f": {
     "views": [
      {
       "cell_index": 12
      }
     ]
    },
    "097ad37aeb6a4a95b11648fea0e0abfd": {
     "views": [
      {
       "cell_index": 16
      }
     ]
    },
    "09ca20227eac488486c46be94ebcaac9": {
     "views": [
      {
       "cell_index": 13
      }
     ]
    },
    "09e26c1372914f3c9e89c9de8db60b1e": {
     "views": [
      {
       "cell_index": 16
      }
     ]
    },
    "0ad8f55ddec446fba0b92790ad761f89": {
     "views": [
      {
       "cell_index": 29
      }
     ]
    },
    "0b5c5c7084c04f7c92d483003dbc52f0": {
     "views": [
      {
       "cell_index": 7
      }
     ]
    },
    "0b5ca8ab526941d68e0d2041accd7393": {
     "views": [
      {
       "cell_index": 13
      }
     ]
    },
    "0b79cf7a2409489d8b20dc56756423c3": {
     "views": [
      {
       "cell_index": 16
      }
     ]
    },
    "0bfeac1851814827b01dabb24335dfcf": {
     "views": [
      {
       "cell_index": 16
      }
     ]
    },
    "0c1054bf72e3448db1c52d7cdd246054": {
     "views": [
      {
       "cell_index": 16
      }
     ]
    },
    "0c1b001d3c4d4a29a41af10955d83b46": {
     "views": [
      {
       "cell_index": 16
      }
     ]
    },
    "0c3bf96cf4c14b1a94b9f2751f4dde45": {
     "views": [
      {
       "cell_index": 16
      }
     ]
    },
    "0c53a25c58c14394a2bb6406833cc163": {
     "views": [
      {
       "cell_index": 15
      }
     ]
    },
    "0d0471e78e3d4ca7a5e48810efa20998": {
     "views": [
      {
       "cell_index": 16
      }
     ]
    },
    "0d0f710ba5824b5fa5cf65fc07dff6b2": {
     "views": [
      {
       "cell_index": 16
      }
     ]
    },
    "0d9bde0052b6406d9e339649c5683e9b": {
     "views": [
      {
       "cell_index": 22
      }
     ]
    },
    "0e3f900eb28844f7b6cb4542e3c94edd": {
     "views": [
      {
       "cell_index": 26
      }
     ]
    },
    "0f0f3f733e90488c9cd134bbaa1bd5bf": {
     "views": [
      {
       "cell_index": 16
      }
     ]
    },
    "1035a0894ade49b985f1757fbc85658a": {
     "views": [
      {
       "cell_index": 16
      }
     ]
    },
    "104392ccd39f4a62b4d86e65d0c5224f": {
     "views": [
      {
       "cell_index": 12
      }
     ]
    },
    "10eadd2d9b7f4817804e2db1472766fe": {
     "views": [
      {
       "cell_index": 31
      }
     ]
    },
    "11340df9fcf543bd8dec9a3e6b234200": {
     "views": [
      {
       "cell_index": 26
      }
     ]
    },
    "11c7c46d66ab4263a53b11bc069ea342": {
     "views": [
      {
       "cell_index": 16
      }
     ]
    },
    "11f8d35023334f569883ec68db94c07f": {
     "views": [
      {
       "cell_index": 16
      }
     ]
    },
    "137f7578cdc5468ca5d791b9ab58f0c7": {
     "views": [
      {
       "cell_index": 22
      }
     ]
    },
    "13829a697c0d4ad5ad3248f28a6a60ca": {
     "views": [
      {
       "cell_index": 13
      }
     ]
    },
    "14d85abff13448c19ecc8881dd1b4bb2": {
     "views": [
      {
       "cell_index": 16
      }
     ]
    },
    "1501ef5dd88d422d95cc9acb2ed4b881": {
     "views": [
      {
       "cell_index": 29
      }
     ]
    },
    "1516ae9311474fbb8d438833a447aaf4": {
     "views": [
      {
       "cell_index": 16
      }
     ]
    },
    "15269bb8f7984c55ba450a376d880e1d": {
     "views": [
      {
       "cell_index": 16
      }
     ]
    },
    "15f1a6fb9022456b8e38763729cf119a": {
     "views": [
      {
       "cell_index": 16
      }
     ]
    },
    "166a52922b814d899b61e34beddf0a2a": {
     "views": [
      {
       "cell_index": 16
      }
     ]
    },
    "16b311c197f14e22b641bc3a2bae8438": {
     "views": [
      {
       "cell_index": 26
      }
     ]
    },
    "16d3c4f924864d2f81ffd093bcf3894d": {
     "views": [
      {
       "cell_index": 26
      }
     ]
    },
    "17524a701e1d4bbeacb9bf1ff723d7cc": {
     "views": [
      {
       "cell_index": 16
      }
     ]
    },
    "17aeb1cb69ad4d05a796bf355459cbbe": {
     "views": [
      {
       "cell_index": 16
      }
     ]
    },
    "17d1d4b5ac134cfe8d64a4c5e46fb135": {
     "views": [
      {
       "cell_index": 13
      }
     ]
    },
    "189bb34d945e462d9ef1b57198fe2006": {
     "views": [
      {
       "cell_index": 13
      }
     ]
    },
    "18c43eb16c91494da8c19ca0b92b3981": {
     "views": [
      {
       "cell_index": 29
      }
     ]
    },
    "18ca2eb1cee240978bc5167379d14fb3": {
     "views": [
      {
       "cell_index": 16
      }
     ]
    },
    "18dfd6e439664447866e07f49564bf44": {
     "views": [
      {
       "cell_index": 16
      }
     ]
    },
    "1929e49da8fa41eba062fdb6830b0374": {
     "views": [
      {
       "cell_index": 12
      }
     ]
    },
    "194edeaffb574d8498e24e463c33ac3c": {
     "views": [
      {
       "cell_index": 16
      }
     ]
    },
    "199122b8ba0c4ae88dd8f5224f2c320b": {
     "views": [
      {
       "cell_index": 12
      }
     ]
    },
    "1999a57029144f6abeeb044372c9f3ef": {
     "views": [
      {
       "cell_index": 13
      }
     ]
    },
    "19be3d8e67ca42f299e742ab688191e6": {
     "views": [
      {
       "cell_index": 23
      }
     ]
    },
    "1aa43e50d6234a53991272a038379acf": {
     "views": [
      {
       "cell_index": 16
      }
     ]
    },
    "1aba8815e49e4a43af441328e2a6c33d": {
     "views": [
      {
       "cell_index": 16
      }
     ]
    },
    "1adb97b3cfcc4390a73d0a396b8539d9": {
     "views": [
      {
       "cell_index": 23
      }
     ]
    },
    "1b0526292e024e3a90e28f0f97f58e40": {
     "views": [
      {
       "cell_index": 13
      }
     ]
    },
    "1b0bc58c29a84e01936197589f8fe320": {
     "views": [
      {
       "cell_index": 13
      }
     ]
    },
    "1c703033920e4691a37146db701cdd0a": {
     "views": [
      {
       "cell_index": 16
      }
     ]
    },
    "1ca03f12c7384115a864f28591eae615": {
     "views": [
      {
       "cell_index": 13
      }
     ]
    },
    "1d64a026ce994f94a6391501cf1f13b1": {
     "views": [
      {
       "cell_index": 16
      }
     ]
    },
    "1d6d24a3512c4db2984aa3edf43bb8dd": {
     "views": [
      {
       "cell_index": 13
      }
     ]
    },
    "1ddfebc7772d48d3a9bfd6d722d50308": {
     "views": [
      {
       "cell_index": 12
      }
     ]
    },
    "1e2758d95ae646ebba78f2f901aa083d": {
     "views": [
      {
       "cell_index": 16
      }
     ]
    },
    "1e3eeb3f95914218b84ddb108fce03ee": {
     "views": [
      {
       "cell_index": 16
      }
     ]
    },
    "1f4052f7ab1440188a652960eb94ad82": {
     "views": [
      {
       "cell_index": 13
      }
     ]
    },
    "202bdf2939404d6eba3202a25c908b99": {
     "views": [
      {
       "cell_index": 16
      }
     ]
    },
    "2155384ead324652b7d3f29455d5ef67": {
     "views": [
      {
       "cell_index": 26
      }
     ]
    },
    "2363917f28da4cbd921bf9e5ba7292ba": {
     "views": [
      {
       "cell_index": 16
      }
     ]
    },
    "23bd3c62ea144f84b46d9103346fb695": {
     "views": [
      {
       "cell_index": 16
      }
     ]
    },
    "244b6717e793495abc9b7bedd69586f5": {
     "views": [
      {
       "cell_index": 16
      }
     ]
    },
    "247bdd4a6c53417283c5e9b409858463": {
     "views": [
      {
       "cell_index": 27
      }
     ]
    },
    "24d6254fd91741c8b7eda0203b68dd66": {
     "views": [
      {
       "cell_index": 16
      }
     ]
    },
    "2536a9b02b7343f1a3baa91659f9bf12": {
     "views": [
      {
       "cell_index": 16
      }
     ]
    },
    "2688e3ac7d5a4deda5182f57953d4807": {
     "views": [
      {
       "cell_index": 16
      }
     ]
    },
    "26960e539123428ebbb606745e8fe608": {
     "views": [
      {
       "cell_index": 16
      }
     ]
    },
    "26a10ac796f04df198f4984b3dcb6d42": {
     "views": [
      {
       "cell_index": 16
      }
     ]
    },
    "26e1468c74a54303a3f2b9f03aceb3be": {
     "views": [
      {
       "cell_index": 16
      }
     ]
    },
    "2734a2a1c9f8496081d409303896f852": {
     "views": [
      {
       "cell_index": 23
      }
     ]
    },
    "27e3d2a265b74eb2943782164be79fc4": {
     "views": [
      {
       "cell_index": 14
      }
     ]
    },
    "285af5554738429ab7c94acecb6fce95": {
     "views": [
      {
       "cell_index": 16
      }
     ]
    },
    "28b51f6866fb49838536524d81ccbace": {
     "views": [
      {
       "cell_index": 27
      }
     ]
    },
    "2aea8d835123461296d1c6fa21fbaab2": {
     "views": [
      {
       "cell_index": 16
      }
     ]
    },
    "2b52f76e285c45a39bee34d26c300d6d": {
     "views": [
      {
       "cell_index": 22
      }
     ]
    },
    "2bb5b158737b4ca6b523efc12778b2a7": {
     "views": [
      {
       "cell_index": 22
      }
     ]
    },
    "2bfeb15a6fcc4215adacbb521c7c8db5": {
     "views": [
      {
       "cell_index": 16
      }
     ]
    },
    "2c0f14175d0d47529200e51d7ac07eb4": {
     "views": [
      {
       "cell_index": 16
      }
     ]
    },
    "2c1c7ed51b7d448c935c32e5703c4c41": {
     "views": [
      {
       "cell_index": 16
      }
     ]
    },
    "2c2ef8f5ee0e4857b0c798e55fe927f2": {
     "views": [
      {
       "cell_index": 16
      }
     ]
    },
    "2d8408dadb38476cbd720151a745dcd5": {
     "views": [
      {
       "cell_index": 16
      }
     ]
    },
    "2e944be8d2d14b54935f0278664e9f60": {
     "views": [
      {
       "cell_index": 16
      }
     ]
    },
    "2f37013d75444a008c3f7f0f4a41d363": {
     "views": [
      {
       "cell_index": 14
      }
     ]
    },
    "2f38a1bf71b94dafa18d082609685b3d": {
     "views": [
      {
       "cell_index": 16
      }
     ]
    },
    "2f6f2ffb72334084ab23876ed91f358b": {
     "views": [
      {
       "cell_index": 26
      }
     ]
    },
    "305856348d744f48959ca6862afc2d08": {
     "views": [
      {
       "cell_index": 22
      }
     ]
    },
    "305d2ad26d2d4daebb98d8648b1e47b1": {
     "views": [
      {
       "cell_index": 16
      }
     ]
    },
    "318e831018d44492a62bf820dddb4098": {
     "views": [
      {
       "cell_index": 29
      }
     ]
    },
    "31aa51f986904bdca773e156fcd71589": {
     "views": [
      {
       "cell_index": 16
      }
     ]
    },
    "32be597134974a3fafe1385ca2379620": {
     "views": [
      {
       "cell_index": 7
      }
     ]
    },
    "33ba16ab039a4618bf850037e3da9495": {
     "views": [
      {
       "cell_index": 12
      }
     ]
    },
    "33f184dc26f34606b7b351065442ef56": {
     "views": [
      {
       "cell_index": 16
      }
     ]
    },
    "3426111a9c994c9a95847adc55943881": {
     "views": [
      {
       "cell_index": 16
      }
     ]
    },
    "344d27998a2b48e6bd9cba79ca49b175": {
     "views": [
      {
       "cell_index": 16
      }
     ]
    },
    "34c8763c79b545f3ae31ffd81e26c86d": {
     "views": [
      {
       "cell_index": 16
      }
     ]
    },
    "353f603006cb46a9b5b7d29958879e95": {
     "views": [
      {
       "cell_index": 22
      }
     ]
    },
    "355d923a2d5e4a1e9e978c612bdda48b": {
     "views": [
      {
       "cell_index": 16
      }
     ]
    },
    "356a68325ecc4dbeb659782ac221d550": {
     "views": [
      {
       "cell_index": 16
      }
     ]
    },
    "356ed84968364d618e9a691033391f18": {
     "views": [
      {
       "cell_index": 16
      }
     ]
    },
    "35bf0076eb8948d294210fe755657e83": {
     "views": [
      {
       "cell_index": 16
      }
     ]
    },
    "35f9eb45606e43f888400246ba665a84": {
     "views": [
      {
       "cell_index": 12
      }
     ]
    },
    "3716947fb57a4883b7de8df797f8326c": {
     "views": [
      {
       "cell_index": 16
      }
     ]
    },
    "373621f890554b37b73143c6c21c7f53": {
     "views": [
      {
       "cell_index": 16
      }
     ]
    },
    "375c453dd7184eb285f1b74a054338ac": {
     "views": [
      {
       "cell_index": 13
      }
     ]
    },
    "379439b7dc9843b09f3861af9c3a5dd3": {
     "views": [
      {
       "cell_index": 13
      }
     ]
    },
    "37e4b93cf7724e9a8cbdbd4aaf69e323": {
     "views": [
      {
       "cell_index": 16
      }
     ]
    },
    "37fef507547246dfbd596f92e407edfd": {
     "views": [
      {
       "cell_index": 16
      }
     ]
    },
    "3923c65e12e9487c9f0e8c570daac71c": {
     "views": [
      {
       "cell_index": 14
      }
     ]
    },
    "3a26dd61dee74e7db6b89478f6f7804b": {
     "views": [
      {
       "cell_index": 15
      }
     ]
    },
    "3ad314860e51482bbe65d075e8f1e3d4": {
     "views": [
      {
       "cell_index": 31
      }
     ]
    },
    "3b076684fc814cef8ce1d6eb9f1072d4": {
     "views": [
      {
       "cell_index": 12
      }
     ]
    },
    "3b103d778ba94cc1be00fc21b7286bce": {
     "views": [
      {
       "cell_index": 26
      }
     ]
    },
    "3c0b2768eba74d399bc85b8e4ecd9bc5": {
     "views": [
      {
       "cell_index": 16
      }
     ]
    },
    "3c1c580f161d485c89357239563f8931": {
     "views": [
      {
       "cell_index": 16
      }
     ]
    },
    "3c9687d273274d16b78c82cd03957ed6": {
     "views": [
      {
       "cell_index": 16
      }
     ]
    },
    "3ca9c15568f449e19ceab1bcef649768": {
     "views": [
      {
       "cell_index": 26
      }
     ]
    },
    "3d25125e98764035a00b3b1381e9831d": {
     "views": [
      {
       "cell_index": 13
      }
     ]
    },
    "3d3f2dc540434d57b97e48cc1b0310e3": {
     "views": [
      {
       "cell_index": 16
      }
     ]
    },
    "3d70e530c7a64ac8ae49b54b3337f81e": {
     "views": [
      {
       "cell_index": 16
      }
     ]
    },
    "3da89b94bad24da8b85c988d061457fa": {
     "views": [
      {
       "cell_index": 27
      }
     ]
    },
    "3dbca985c89b4ef4ae5661b10dcfe165": {
     "views": [
      {
       "cell_index": 7
      }
     ]
    },
    "3dc1042bec32478aab86efab2f20f6bb": {
     "views": [
      {
       "cell_index": 16
      }
     ]
    },
    "3e13406f35784e5aabe45ab9eec8abb3": {
     "views": [
      {
       "cell_index": 16
      }
     ]
    },
    "3e4229f854b14f2cab6e97c353243bb0": {
     "views": [
      {
       "cell_index": 22
      }
     ]
    },
    "3ebd1d41a91e488997eb2a8ff10fd2f0": {
     "views": [
      {
       "cell_index": 13
      }
     ]
    },
    "3ef3e36571af4dcc994fe155c804cbdc": {
     "views": [
      {
       "cell_index": 16
      }
     ]
    },
    "3fd5394a13084adeb1bfc22d0149122c": {
     "views": [
      {
       "cell_index": 27
      }
     ]
    },
    "4050fa1f83ae4dbf98a524648fdfcd2c": {
     "views": [
      {
       "cell_index": 26
      }
     ]
    },
    "4081f47e721641aca226fe1777656439": {
     "views": [
      {
       "cell_index": 22
      }
     ]
    },
    "41da85ede16c4037bdeff58f59faeca3": {
     "views": [
      {
       "cell_index": 16
      }
     ]
    },
    "42198c7ff63147ec8023d2f29a1c0622": {
     "views": [
      {
       "cell_index": 16
      }
     ]
    },
    "425cac95e4614b5f82a4a1a3fa54420c": {
     "views": [
      {
       "cell_index": 12
      }
     ]
    },
    "42823581a9d5434badbcc75737d41b5a": {
     "views": [
      {
       "cell_index": 16
      }
     ]
    },
    "42a8dbd54099468ba2e0d54bdd7a1e27": {
     "views": [
      {
       "cell_index": 16
      }
     ]
    },
    "44273f2818674c32a93c3dcc88fee451": {
     "views": [
      {
       "cell_index": 16
      }
     ]
    },
    "44be710bc02c4705a17a128c9c0f1779": {
     "views": [
      {
       "cell_index": 16
      }
     ]
    },
    "45dacbfa80dc406dbdbea6a30bc987f2": {
     "views": [
      {
       "cell_index": 16
      }
     ]
    },
    "45dbb8b7e20d486b90a9ba33ff1e0b2c": {
     "views": [
      {
       "cell_index": 16
      }
     ]
    },
    "45e943aee6334a658eb35dad4d5a8f8f": {
     "views": [
      {
       "cell_index": 31
      }
     ]
    },
    "4636e34766f94b65923ccc614b119d0e": {
     "views": [
      {
       "cell_index": 12
      }
     ]
    },
    "468247db78ca40afadad80ceeb8526c1": {
     "views": [
      {
       "cell_index": 12
      }
     ]
    },
    "46d7d0327d224a259f2b20a53d2b1d2a": {
     "views": [
      {
       "cell_index": 22
      }
     ]
    },
    "4758bd42dade4161bfef680a8f3bc0c0": {
     "views": [
      {
       "cell_index": 7
      }
     ]
    },
    "47aa9ddef3c64a22baf8ebfdb206a867": {
     "views": [
      {
       "cell_index": 22
      }
     ]
    },
    "47d5fad0d299455d85006dc816864d04": {
     "views": [
      {
       "cell_index": 23
      }
     ]
    },
    "481457b718534afeaa7d54f4a78510e4": {
     "views": [
      {
       "cell_index": 16
      }
     ]
    },
    "485df826bb1e4c1f82f3e19f7bd2eebb": {
     "views": [
      {
       "cell_index": 13
      }
     ]
    },
    "48626dc78a334bd788c7ef72bf5944cc": {
     "views": [
      {
       "cell_index": 13
      }
     ]
    },
    "48c25165cd8a4053b655d97d4a8665aa": {
     "views": [
      {
       "cell_index": 22
      }
     ]
    },
    "4984051ba1294416977a1b81e7073218": {
     "views": [
      {
       "cell_index": 23
      }
     ]
    },
    "4984572dfce84b5a874d43dd775072f1": {
     "views": [
      {
       "cell_index": 16
      }
     ]
    },
    "49d3bbf52993499d8c9da48fa8283ae9": {
     "views": [
      {
       "cell_index": 16
      }
     ]
    },
    "4a32afaea39d42d9920353bf0bd292b6": {
     "views": [
      {
       "cell_index": 23
      }
     ]
    },
    "4a45a712a583493088d4cf5b96d1ea6c": {
     "views": [
      {
       "cell_index": 16
      }
     ]
    },
    "4acd9474e6334d3998ef26d699a94054": {
     "views": [
      {
       "cell_index": 12
      }
     ]
    },
    "4b296adbaf5d4f64862cbb1600b58465": {
     "views": [
      {
       "cell_index": 16
      }
     ]
    },
    "4b46760960284a228a9dac050ccc57d5": {
     "views": [
      {
       "cell_index": 13
      }
     ]
    },
    "4c0166a7bd6a475b96456628af984fd5": {
     "views": [
      {
       "cell_index": 12
      }
     ]
    },
    "4d50e2778a0f4a9eb14103a9d354aa23": {
     "views": [
      {
       "cell_index": 16
      }
     ]
    },
    "4d570dd040564626851942e667f7cbfc": {
     "views": [
      {
       "cell_index": 13
      }
     ]
    },
    "4df790520e944da287634a28bebb12c7": {
     "views": [
      {
       "cell_index": 16
      }
     ]
    },
    "4e06ee45b40d462d87aef3f097eb45fc": {
     "views": [
      {
       "cell_index": 29
      }
     ]
    },
    "4e5e882e48be440c9bf5cacc1f53b41f": {
     "views": [
      {
       "cell_index": 12
      }
     ]
    },
    "4e889445c44b43a3b7e46e168f8ed3fa": {
     "views": [
      {
       "cell_index": 16
      }
     ]
    },
    "4ed636448b8648ecb7e829c8777981ba": {
     "views": [
      {
       "cell_index": 16
      }
     ]
    },
    "4edcca7842cd4924882175004a2fdb42": {
     "views": [
      {
       "cell_index": 16
      }
     ]
    },
    "4f0503a0002b40eca0a64987b9c4787d": {
     "views": [
      {
       "cell_index": 22
      }
     ]
    },
    "4f18009dbe4c4cd8be1f591d3268e33d": {
     "views": [
      {
       "cell_index": 12
      }
     ]
    },
    "4f65da70506d49f98b6e2dc4b878cbe8": {
     "views": [
      {
       "cell_index": 16
      }
     ]
    },
    "4fbe7cca4bb1493da1c248025ab66593": {
     "views": [
      {
       "cell_index": 7
      }
     ]
    },
    "4fe3c6110ab54765ae75e79d1f83d437": {
     "views": [
      {
       "cell_index": 7
      }
     ]
    },
    "50032d5ed35744c485a5d8ab1b18fc28": {
     "views": [
      {
       "cell_index": 16
      }
     ]
    },
    "5035f60ac887478e934e8c18eb54940a": {
     "views": [
      {
       "cell_index": 13
      }
     ]
    },
    "50737f29416e45bcaef04e465c45de7e": {
     "views": [
      {
       "cell_index": 13
      }
     ]
    },
    "50a054f601f54cca9540083f12930fd4": {
     "views": [
      {
       "cell_index": 13
      }
     ]
    },
    "522e7b91d2fe4dd2baa297d53f71b390": {
     "views": [
      {
       "cell_index": 16
      }
     ]
    },
    "52877d70f0db42389f3aff7318c785a4": {
     "views": [
      {
       "cell_index": 13
      }
     ]
    },
    "52bf72df701941a6815314a521332a5d": {
     "views": [
      {
       "cell_index": 16
      }
     ]
    },
    "52c6fd1f94a148ae8a59dbbdf32a55b2": {
     "views": [
      {
       "cell_index": 22
      }
     ]
    },
    "530ed3a2c64343c9b642ea161965941c": {
     "views": [
      {
       "cell_index": 16
      }
     ]
    },
    "532e31d2375b459bb50105045525138f": {
     "views": [
      {
       "cell_index": 13
      }
     ]
    },
    "5380bdaecee04a8f91eccf2e5912f7b7": {
     "views": [
      {
       "cell_index": 16
      }
     ]
    },
    "53eb15368ee343b39ccdfd0a1fe22673": {
     "views": [
      {
       "cell_index": 16
      }
     ]
    },
    "54c5dcc714d74fa2a613088ab3bb67f6": {
     "views": [
      {
       "cell_index": 13
      }
     ]
    },
    "54ee7ed0e7a042d692475fc7d68ffbd8": {
     "views": [
      {
       "cell_index": 16
      }
     ]
    },
    "552ca8dc493047c690c015cbaec90c1c": {
     "views": [
      {
       "cell_index": 16
      }
     ]
    },
    "5583dc3a24ab4dcbb674e2da6df1a55f": {
     "views": [
      {
       "cell_index": 16
      }
     ]
    },
    "558b331f31d24d86bcfad5281e6a9bec": {
     "views": [
      {
       "cell_index": 16
      }
     ]
    },
    "55904a9583114f08ad409db4ff87e2b3": {
     "views": [
      {
       "cell_index": 14
      }
     ]
    },
    "55ccfd03ca474445914eff55fc654dd4": {
     "views": [
      {
       "cell_index": 27
      }
     ]
    },
    "55fba0bd86cb4e169e38834cbd364d54": {
     "views": [
      {
       "cell_index": 13
      }
     ]
    },
    "562c72593f9a419f98537f7a0b3e6c64": {
     "views": [
      {
       "cell_index": 16
      }
     ]
    },
    "5636f908cd074761b92590e1728fb869": {
     "views": [
      {
       "cell_index": 16
      }
     ]
    },
    "56b6e51d9b8444b083ce14f576cc2ecd": {
     "views": [
      {
       "cell_index": 31
      }
     ]
    },
    "56e191f63f0d4b6cb33c8b524e821569": {
     "views": [
      {
       "cell_index": 16
      }
     ]
    },
    "56ed15407ac7497ca896af2276e6ce67": {
     "views": [
      {
       "cell_index": 13
      }
     ]
    },
    "57747be78e68438ebe00f8ae57430bc6": {
     "views": [
      {
       "cell_index": 16
      }
     ]
    },
    "57de46a4f6a2428187ac3c61720898c4": {
     "views": [
      {
       "cell_index": 16
      }
     ]
    },
    "57ee4d41f2d441ea9bfb1cad7dc2e645": {
     "views": [
      {
       "cell_index": 16
      }
     ]
    },
    "5894a3e3669c449e8be5d7209f1d548f": {
     "views": [
      {
       "cell_index": 16
      }
     ]
    },
    "58a3b12d405d484fa8733c257e88888e": {
     "views": [
      {
       "cell_index": 13
      }
     ]
    },
    "58a9b07ee72a4fa0a87831079234d973": {
     "views": [
      {
       "cell_index": 22
      }
     ]
    },
    "591891741ef141f1b792e0ce5d34b3e3": {
     "views": [
      {
       "cell_index": 31
      }
     ]
    },
    "5931228d958e4a8789e51013ba82663f": {
     "views": [
      {
       "cell_index": 16
      }
     ]
    },
    "59d31bcb801a4ea2a0aac34eeeeb484b": {
     "views": [
      {
       "cell_index": 7
      }
     ]
    },
    "5a2c0280bba749468886f491f15a16f4": {
     "views": [
      {
       "cell_index": 16
      }
     ]
    },
    "5a665730ae4c47e8bd1f9c3a734299fe": {
     "views": [
      {
       "cell_index": 16
      }
     ]
    },
    "5b94222bfdde4036882169cd3505895c": {
     "views": [
      {
       "cell_index": 16
      }
     ]
    },
    "5c2eae8455854932b2cf83647f28c0c5": {
     "views": [
      {
       "cell_index": 23
      }
     ]
    },
    "5cc1bf99a0a045e6923807403c898702": {
     "views": [
      {
       "cell_index": 16
      }
     ]
    },
    "5cfaf49a409844f9a6d25d0ec8c084a4": {
     "views": [
      {
       "cell_index": 16
      }
     ]
    },
    "5d1c2f73dbff48778cf092dc4074c4c8": {
     "views": [
      {
       "cell_index": 12
      }
     ]
    },
    "5dff24975e99467491447ad21a5a10e7": {
     "views": [
      {
       "cell_index": 16
      }
     ]
    },
    "5e00742125614c9bad0408e6ff5b6809": {
     "views": [
      {
       "cell_index": 22
      }
     ]
    },
    "5f21477e826f42908cb188199aa7c519": {
     "views": [
      {
       "cell_index": 16
      }
     ]
    },
    "5ff28607c0e34d399aec53cf3142f175": {
     "views": [
      {
       "cell_index": 16
      }
     ]
    },
    "60044ac829f942db813b7d23f22aed90": {
     "views": [
      {
       "cell_index": 13
      }
     ]
    },
    "6026905535004cf6a727bd3b216897b6": {
     "views": [
      {
       "cell_index": 16
      }
     ]
    },
    "605779a329654dcbafd65b1f730b7896": {
     "views": [
      {
       "cell_index": 26
      }
     ]
    },
    "606f46d0606e4c9989efc5bfce44f0c3": {
     "views": [
      {
       "cell_index": 16
      }
     ]
    },
    "60ad4cc364d04554850cb5b9ab6c3dcf": {
     "views": [
      {
       "cell_index": 14
      }
     ]
    },
    "617e91562cf842b7ab7d0551e47b6118": {
     "views": [
      {
       "cell_index": 26
      }
     ]
    },
    "62d6624e6f174229b86850da67f2b3f1": {
     "views": [
      {
       "cell_index": 22
      }
     ]
    },
    "62e6d3ba63484abb8228b8e04a9f436e": {
     "views": [
      {
       "cell_index": 16
      }
     ]
    },
    "62e900a658234a978cbe7b28fa5a69e9": {
     "views": [
      {
       "cell_index": 22
      }
     ]
    },
    "633553c9b0ab47cc88b2f847f053b8ff": {
     "views": [
      {
       "cell_index": 16
      }
     ]
    },
    "637b0df431b34cef91b144f3e0f48f87": {
     "views": [
      {
       "cell_index": 16
      }
     ]
    },
    "639324e970604f3b9d42fab5eade76b0": {
     "views": [
      {
       "cell_index": 12
      }
     ]
    },
    "63c8db2888fc4c58bb8b124a1f91cf29": {
     "views": [
      {
       "cell_index": 16
      }
     ]
    },
    "643e2d0d71844672a006336851543eee": {
     "views": [
      {
       "cell_index": 14
      }
     ]
    },
    "64eff3955cf4483893aff06c13253d1c": {
     "views": [
      {
       "cell_index": 16
      }
     ]
    },
    "64fdb750f87044b7aef584db2263bf0d": {
     "views": [
      {
       "cell_index": 16
      }
     ]
    },
    "65d4da6c2a4749b2ad3d1462a4a286e4": {
     "views": [
      {
       "cell_index": 16
      }
     ]
    },
    "666b9dd084d14e55a53964512f8d11ae": {
     "views": [
      {
       "cell_index": 14
      }
     ]
    },
    "669501a4a9394fabbc47814964a19563": {
     "views": [
      {
       "cell_index": 13
      }
     ]
    },
    "66ddfac652394ccf97c058f661d08590": {
     "views": [
      {
       "cell_index": 16
      }
     ]
    },
    "672ac98705cb4f40a4293306db539161": {
     "views": [
      {
       "cell_index": 16
      }
     ]
    },
    "6737e7c783a34c958f549083658b09c3": {
     "views": [
      {
       "cell_index": 23
      }
     ]
    },
    "67859d7276a644229370ebac0bc644c4": {
     "views": [
      {
       "cell_index": 16
      }
     ]
    },
    "6841039f49844f78856ec387bf04ac11": {
     "views": [
      {
       "cell_index": 16
      }
     ]
    },
    "6845334cd9404488a47907e029731ef2": {
     "views": [
      {
       "cell_index": 16
      }
     ]
    },
    "685ac6733e2d4e608f39b6c619ff3783": {
     "views": [
      {
       "cell_index": 13
      }
     ]
    },
    "6926d4aee00c4cd5b410d296424a7c37": {
     "views": [
      {
       "cell_index": 16
      }
     ]
    },
    "6bb3a5b14bc748b1b18905be8d3714d5": {
     "views": [
      {
       "cell_index": 12
      }
     ]
    },
    "6bba05ea96924d6d85d6b7c379560f01": {
     "views": [
      {
       "cell_index": 26
      }
     ]
    },
    "6be7ba42b50249f79769722319e3d776": {
     "views": [
      {
       "cell_index": 12
      }
     ]
    },
    "6c51096a0a7542da9ffba38b8d44ca63": {
     "views": [
      {
       "cell_index": 7
      }
     ]
    },
    "6c7f9484a7194d8ea6df5fd3c3439ab5": {
     "views": [
      {
       "cell_index": 16
      }
     ]
    },
    "6ca76c9ead2b4efe9e1faef8092f22ce": {
     "views": [
      {
       "cell_index": 24
      }
     ]
    },
    "6d58d28eacad42129fefa28d6743129b": {
     "views": [
      {
       "cell_index": 23
      }
     ]
    },
    "6d8bb0982f27435a96be4d62eade86a8": {
     "views": [
      {
       "cell_index": 16
      }
     ]
    },
    "6de92e23209d4518b87e97a7ab2582be": {
     "views": [
      {
       "cell_index": 12
      }
     ]
    },
    "6ed209eddfd94261853019776e650b75": {
     "views": [
      {
       "cell_index": 13
      }
     ]
    },
    "6efb3515fa854d169f4959e9f66ffa79": {
     "views": [
      {
       "cell_index": 16
      }
     ]
    },
    "6f257788751d4960a55e3d645b90a7b4": {
     "views": [
      {
       "cell_index": 16
      }
     ]
    },
    "6f2ab41e5e5446c8ab3abbe9669d72a6": {
     "views": [
      {
       "cell_index": 16
      }
     ]
    },
    "6f4f10ec0f9846fb8fa8d2aa3ce0a6ed": {
     "views": [
      {
       "cell_index": 13
      }
     ]
    },
    "6f92faebee364b41b2cd90d965033c0f": {
     "views": [
      {
       "cell_index": 16
      }
     ]
    },
    "6f95a0c7f28849ebb0f92bca805a9bfe": {
     "views": [
      {
       "cell_index": 12
      }
     ]
    },
    "6fb3bfc824b2411b9d0bef6acf5de27a": {
     "views": [
      {
       "cell_index": 16
      }
     ]
    },
    "703e63949c944b7795c2ec9a25205e96": {
     "views": [
      {
       "cell_index": 13
      }
     ]
    },
    "706646e947714f28b16fd108ee7febb0": {
     "views": [
      {
       "cell_index": 16
      }
     ]
    },
    "719b82d50f9f45f6b653851377645841": {
     "views": [
      {
       "cell_index": 22
      }
     ]
    },
    "719cf6be7d0d48de8f5a1d4e44a41371": {
     "views": [
      {
       "cell_index": 16
      }
     ]
    },
    "71cad93f5051424591d96806cfc4e1a5": {
     "views": [
      {
       "cell_index": 16
      }
     ]
    },
    "7239f6e1ce584f798d4e2d99721942d3": {
     "views": [
      {
       "cell_index": 13
      }
     ]
    },
    "723e42a1215d4cf6bda0617784bd577b": {
     "views": [
      {
       "cell_index": 16
      }
     ]
    },
    "727be2793d0f4ef0980ef19631429531": {
     "views": [
      {
       "cell_index": 16
      }
     ]
    },
    "72dfa82e9e36495b8dcb3a657edf192b": {
     "views": [
      {
       "cell_index": 16
      }
     ]
    },
    "741e68866d2e4bd2b58b669e9023a731": {
     "views": [
      {
       "cell_index": 14
      }
     ]
    },
    "75ab7bca5f81426e80fb564dfc3db94f": {
     "views": [
      {
       "cell_index": 16
      }
     ]
    },
    "761823ea94dc497f9863ef508f669115": {
     "views": [
      {
       "cell_index": 16
      }
     ]
    },
    "76589b480d064459bbdd8aae3bf83202": {
     "views": [
      {
       "cell_index": 26
      }
     ]
    },
    "77850e5283104e368641972f1d020a64": {
     "views": [
      {
       "cell_index": 23
      }
     ]
    },
    "77fb97ab671b4101a45e51ecdb01b690": {
     "views": [
      {
       "cell_index": null
      }
     ]
    },
    "781f61eaf9e04d8889d9916895db86de": {
     "views": [
      {
       "cell_index": 16
      }
     ]
    },
    "783fac18a35f48f9a5e296eca2c4bc0b": {
     "views": [
      {
       "cell_index": 16
      }
     ]
    },
    "78551994f1994cec993cbb840037da5c": {
     "views": [
      {
       "cell_index": 16
      }
     ]
    },
    "78570fd4909b401ebca63b19a50ae873": {
     "views": [
      {
       "cell_index": 13
      }
     ]
    },
    "78638313b19c4bd1903d30ffee062dba": {
     "views": [
      {
       "cell_index": 16
      }
     ]
    },
    "789ef1d100694f67a194d177cf16fa81": {
     "views": [
      {
       "cell_index": 13
      }
     ]
    },
    "792f1855eccc41d9b6443f5fe2671b5c": {
     "views": [
      {
       "cell_index": 16
      }
     ]
    },
    "7a15c218899a4fb9bc9a5c7bf62e9568": {
     "views": [
      {
       "cell_index": 16
      }
     ]
    },
    "7a80c1769c204c218da55c6f9d7d5980": {
     "views": [
      {
       "cell_index": 16
      }
     ]
    },
    "7bbfabf0bb86407cafbb90f61cdf5316": {
     "views": [
      {
       "cell_index": 16
      }
     ]
    },
    "7c3154cdff2643808c517ef3bb98ce15": {
     "views": [
      {
       "cell_index": 16
      }
     ]
    },
    "7c46b16603ea4aae8ca222eb71e1740b": {
     "views": [
      {
       "cell_index": 16
      }
     ]
    },
    "7c73a1ccdd584435bfaaf9fb64d0d58b": {
     "views": [
      {
       "cell_index": 22
      }
     ]
    },
    "7c8ea99c77bd4aa79490675e40a14952": {
     "views": [
      {
       "cell_index": 15
      }
     ]
    },
    "7cc4eb11954e4005a117c015a345af87": {
     "views": [
      {
       "cell_index": 16
      }
     ]
    },
    "7ce6383438f84dbab1cd6f283bd47fe8": {
     "views": [
      {
       "cell_index": 7
      }
     ]
    },
    "7cfee1bbaec644f6963f10c5d904bd54": {
     "views": [
      {
       "cell_index": 13
      }
     ]
    },
    "7dd970d5566244feade1546b0c690b57": {
     "views": [
      {
       "cell_index": 13
      }
     ]
    },
    "7e27a4dca7e045388f62af30fb7565f9": {
     "views": [
      {
       "cell_index": 13
      }
     ]
    },
    "7ec2ba959d854170bd54f93d3d0926d2": {
     "views": [
      {
       "cell_index": 13
      }
     ]
    },
    "7ee8d426f0f34257ba5005b20efd1ea3": {
     "views": [
      {
       "cell_index": 22
      }
     ]
    },
    "7f0a268bef9048d29562e49c82037a00": {
     "views": [
      {
       "cell_index": 22
      }
     ]
    },
    "7f0cdaca74c24ffcbf0bd532716d5458": {
     "views": [
      {
       "cell_index": 15
      }
     ]
    },
    "7f18e4a6fb374dfbae128528185c6ec5": {
     "views": [
      {
       "cell_index": 12
      }
     ]
    },
    "7f65baa1a1ab4ca2b88b5cae7a287e1f": {
     "views": [
      {
       "cell_index": 29
      }
     ]
    },
    "7f972858544447f19a2888b01c543488": {
     "views": [
      {
       "cell_index": 26
      }
     ]
    },
    "7fbc7c61207f4e45ab562b19c22a63fd": {
     "views": [
      {
       "cell_index": 23
      }
     ]
    },
    "801a858136be4b798a11748272ab3405": {
     "views": [
      {
       "cell_index": 16
      }
     ]
    },
    "8063cdbb8bf24e3e89106788eaf922dd": {
     "views": [
      {
       "cell_index": 13
      }
     ]
    },
    "8074e892800f4a27a76a2b709d9be54f": {
     "views": [
      {
       "cell_index": 13
      }
     ]
    },
    "817fa5d41b3548129b2192484102e869": {
     "views": [
      {
       "cell_index": 12
      }
     ]
    },
    "81e0f023f4a84223a8a371b9e52d2c6f": {
     "views": [
      {
       "cell_index": 12
      }
     ]
    },
    "824cb154816941c8a4f3d8ac499912cd": {
     "views": [
      {
       "cell_index": 23
      }
     ]
    },
    "82e3dbd93bdb4a398522be81e2086c0f": {
     "views": [
      {
       "cell_index": 16
      }
     ]
    },
    "83524df943d74c329438f1821a908f56": {
     "views": [
      {
       "cell_index": 26
      }
     ]
    },
    "83891de26288414a969ed24ff9ae9f3b": {
     "views": [
      {
       "cell_index": 16
      }
     ]
    },
    "849e85892f9249669275284cfb6bbe3f": {
     "views": [
      {
       "cell_index": 23
      }
     ]
    },
    "85227836433e48b6a36c37c2fd781535": {
     "views": [
      {
       "cell_index": 22
      }
     ]
    },
    "854246a7ec834631812020589a2df6c1": {
     "views": [
      {
       "cell_index": 7
      }
     ]
    },
    "856e8f02b9ac4daa93f31e40e6aec87a": {
     "views": [
      {
       "cell_index": 16
      }
     ]
    },
    "856f28dee70841efb49b4d7c2ef0e70f": {
     "views": [
      {
       "cell_index": 13
      }
     ]
    },
    "85def42cbc3747e09dea9dd866e3d750": {
     "views": [
      {
       "cell_index": 12
      }
     ]
    },
    "861ce0c2c2714978a6db85751751f16d": {
     "views": [
      {
       "cell_index": 16
      }
     ]
    },
    "86ca794e27c04545820d1f2ca002899b": {
     "views": [
      {
       "cell_index": 16
      }
     ]
    },
    "86d8be9d3db6483a9af358b416fa6026": {
     "views": [
      {
       "cell_index": 16
      }
     ]
    },
    "87361efeb18c41c8885cbdf713b17267": {
     "views": [
      {
       "cell_index": 16
      }
     ]
    },
    "87a24c55a2c04922bd363d55c0e1a532": {
     "views": [
      {
       "cell_index": 16
      }
     ]
    },
    "87bed9077cd44fa99292a25d342e2545": {
     "views": [
      {
       "cell_index": 22
      }
     ]
    },
    "886e34329afd443baa01f68ed151e203": {
     "views": [
      {
       "cell_index": 16
      }
     ]
    },
    "887f3b8361d2438fa64a84ad344fae0e": {
     "views": [
      {
       "cell_index": 16
      }
     ]
    },
    "88bf81b7da2a458896a2e0c0387e6ca4": {
     "views": [
      {
       "cell_index": 12
      }
     ]
    },
    "8900a01b01d34e588003cb1811464a0b": {
     "views": [
      {
       "cell_index": 23
      }
     ]
    },
    "893b9a02e3ef4e40a9c782a0e32b3a12": {
     "views": [
      {
       "cell_index": 26
      }
     ]
    },
    "895e377fab94439caffeac79453a0da6": {
     "views": [
      {
       "cell_index": 16
      }
     ]
    },
    "89d8f75893ee4a7e81ace3290439eb00": {
     "views": [
      {
       "cell_index": 16
      }
     ]
    },
    "8a185050996a4d10b63257d5929c9fd7": {
     "views": [
      {
       "cell_index": 12
      }
     ]
    },
    "8aa3318b618848539798d67c630aaf27": {
     "views": [
      {
       "cell_index": 13
      }
     ]
    },
    "8ac8eea5649e40cab95213748ff12e2b": {
     "views": [
      {
       "cell_index": 16
      }
     ]
    },
    "8aca71eb83894109ba4572c8787b7c56": {
     "views": [
      {
       "cell_index": 16
      }
     ]
    },
    "8b2117ba4e364977aba010c80e80a2fb": {
     "views": [
      {
       "cell_index": 16
      }
     ]
    },
    "8b365f54c2954deb80dc5efdb8e9857a": {
     "views": [
      {
       "cell_index": 16
      }
     ]
    },
    "8b6c61ca9e92466da19b6f29d838c515": {
     "views": [
      {
       "cell_index": 13
      }
     ]
    },
    "8c83e86beb6347489ed78fe290224b35": {
     "views": [
      {
       "cell_index": 16
      }
     ]
    },
    "8c8da3578dc34593bb1f12fdd8a7d3c8": {
     "views": [
      {
       "cell_index": 31
      }
     ]
    },
    "8cc15947efd445a0b83e88d283fb92e5": {
     "views": [
      {
       "cell_index": 16
      }
     ]
    },
    "8cca50d099bc48219905289453af13bb": {
     "views": [
      {
       "cell_index": 12
      }
     ]
    },
    "8cfe5f850a084531881e2703c4c6618e": {
     "views": [
      {
       "cell_index": 16
      }
     ]
    },
    "8db853bf324c42d8ad4fd75da59aa40e": {
     "views": [
      {
       "cell_index": 16
      }
     ]
    },
    "8e67185aacb24aac806060dc1000adb7": {
     "views": [
      {
       "cell_index": 13
      }
     ]
    },
    "8e74e0bb9aae4ae0b95c6d5311968187": {
     "views": [
      {
       "cell_index": 13
      }
     ]
    },
    "8eae8a4d32d044a7a131925d4887f1a3": {
     "views": [
      {
       "cell_index": 16
      }
     ]
    },
    "8f1f480a5e6f4683bd21b0fe686d7b25": {
     "views": [
      {
       "cell_index": 16
      }
     ]
    },
    "8f51d6efd2044a5abeff761e4e18ced7": {
     "views": [
      {
       "cell_index": 16
      }
     ]
    },
    "8f854f303cf7493080d145db3f9b5bcc": {
     "views": [
      {
       "cell_index": 12
      }
     ]
    },
    "8f893315726b439eb63c3e415100fdd2": {
     "views": [
      {
       "cell_index": 12
      }
     ]
    },
    "8fd0caaac5934664b450ff6c169262c1": {
     "views": [
      {
       "cell_index": 16
      }
     ]
    },
    "9008da07aea24686ba06ad99993e68f2": {
     "views": [
      {
       "cell_index": 12
      }
     ]
    },
    "9085dc1ce5ae47e3993d133a372c549a": {
     "views": [
      {
       "cell_index": 22
      }
     ]
    },
    "9092701ef3314f068342385cefc37833": {
     "views": [
      {
       "cell_index": 13
      }
     ]
    },
    "90972f086a5a418597f7cd441fc9dc41": {
     "views": [
      {
       "cell_index": 16
      }
     ]
    },
    "90bea6b1e4e04479a0c46934cbb2c006": {
     "views": [
      {
       "cell_index": 16
      }
     ]
    },
    "90f2f1a13a8c4e1d8fe9b3e61491be89": {
     "views": [
      {
       "cell_index": 12
      }
     ]
    },
    "91d054e8dd914a07bec0ef61e658a9c2": {
     "views": [
      {
       "cell_index": 16
      }
     ]
    },
    "922350ab6cff4dfea3591d312628b2c1": {
     "views": [
      {
       "cell_index": 12
      }
     ]
    },
    "92771a8be8a74e549dae325cbc319f26": {
     "views": [
      {
       "cell_index": 16
      }
     ]
    },
    "92a3f734fc4c4896891fb6053b24e5e3": {
     "views": [
      {
       "cell_index": 16
      }
     ]
    },
    "92fed524e8674b67a44974217dfea3c7": {
     "views": [
      {
       "cell_index": 16
      }
     ]
    },
    "930d693b31bc4f988d52a2ef40acdad5": {
     "views": [
      {
       "cell_index": 16
      }
     ]
    },
    "936be26249874108ae1ba69deb6ba004": {
     "views": [
      {
       "cell_index": 13
      }
     ]
    },
    "93cbb627cdd944349a088dfe38d62156": {
     "views": [
      {
       "cell_index": 16
      }
     ]
    },
    "96c953dccda748baa42ebaead45d2455": {
     "views": [
      {
       "cell_index": 16
      }
     ]
    },
    "97539a997d3640409a9f91ffe9145e2f": {
     "views": [
      {
       "cell_index": 16
      }
     ]
    },
    "983d149429c34ee2a01f0814e19b81fb": {
     "views": [
      {
       "cell_index": 16
      }
     ]
    },
    "986233dd7cd7453f86cebd164017c094": {
     "views": [
      {
       "cell_index": 16
      }
     ]
    },
    "996adec74402447297cc0944d8192d3e": {
     "views": [
      {
       "cell_index": 16
      }
     ]
    },
    "9974e6feff144e0cb5e3c02a4e56b028": {
     "views": [
      {
       "cell_index": 16
      }
     ]
    },
    "99e8206ee2c943f7991e15c8e1df6921": {
     "views": [
      {
       "cell_index": 16
      }
     ]
    },
    "9a10f3fff50046a4863068918631c39f": {
     "views": [
      {
       "cell_index": 16
      }
     ]
    },
    "9a1d16079a644b59b16acbaa3dd5a1fb": {
     "views": [
      {
       "cell_index": 16
      }
     ]
    },
    "9a46d5c18d0540958e0d14fef6e1280c": {
     "views": [
      {
       "cell_index": 12
      }
     ]
    },
    "9a84ab77afa441ce9931b49ec66dbbc8": {
     "views": [
      {
       "cell_index": 16
      }
     ]
    },
    "9b6ec45a449042c7969900f875dfa6c8": {
     "views": [
      {
       "cell_index": 16
      }
     ]
    },
    "9bb8d67ab65e420d893b66be7693afbe": {
     "views": [
      {
       "cell_index": 16
      }
     ]
    },
    "9bc2c4d783dd4296810a3e82998f8bcd": {
     "views": [
      {
       "cell_index": 16
      }
     ]
    },
    "9bcae8476ca8456893b5b2184dc3358b": {
     "views": [
      {
       "cell_index": 13
      }
     ]
    },
    "9bcf1acf751c43539565752b5cf03b26": {
     "views": [
      {
       "cell_index": 13
      }
     ]
    },
    "9c324127e8d1438582c61e81c967074f": {
     "views": [
      {
       "cell_index": 16
      }
     ]
    },
    "9c4a5c50066c400788626ec6c4f68fc5": {
     "views": [
      {
       "cell_index": 16
      }
     ]
    },
    "9ce6db1856834d74806a625f18f8bb88": {
     "views": [
      {
       "cell_index": 31
      }
     ]
    },
    "9d033dd560734111b1fe8a3db7d15e36": {
     "views": [
      {
       "cell_index": 16
      }
     ]
    },
    "9d4b019c71f9408482d5a52d2706857a": {
     "views": [
      {
       "cell_index": 16
      }
     ]
    },
    "9da018296af3484da24ce79d0de35c6c": {
     "views": [
      {
       "cell_index": 16
      }
     ]
    },
    "9da15f8e7c4f473ca54f19fa9f5ccb17": {
     "views": [
      {
       "cell_index": 13
      }
     ]
    },
    "9dc499835a6c4f93b1b9d9e22b47ada4": {
     "views": [
      {
       "cell_index": 22
      }
     ]
    },
    "9dc4aa2d9671402abfc580f571c0748d": {
     "views": [
      {
       "cell_index": 31
      }
     ]
    },
    "9de402093ec44108b5483ca966a07095": {
     "views": [
      {
       "cell_index": 16
      }
     ]
    },
    "9e02ae56139a49308d1345105a021fc3": {
     "views": [
      {
       "cell_index": 16
      }
     ]
    },
    "9e340319f2824d268eee95ca753c3cac": {
     "views": [
      {
       "cell_index": 16
      }
     ]
    },
    "9e429bf6b1c9465a87164d99ddae68b0": {
     "views": [
      {
       "cell_index": 13
      }
     ]
    },
    "9eb617ee0d0c4fa18a04185c8d50aaf4": {
     "views": [
      {
       "cell_index": 22
      }
     ]
    },
    "9f1f5aae6a594a448fde26766bce67d9": {
     "views": [
      {
       "cell_index": 16
      }
     ]
    },
    "9f430f6a87a14ce8bd96ce7667176605": {
     "views": [
      {
       "cell_index": 16
      }
     ]
    },
    "a00dfd093f8043ab8cdea9b3aae895c6": {
     "views": [
      {
       "cell_index": 12
      }
     ]
    },
    "a14b051e3fac48f4b503fc929d297fd6": {
     "views": [
      {
       "cell_index": 16
      }
     ]
    },
    "a15a4358f51f4515bac5454c5a927930": {
     "views": [
      {
       "cell_index": 13
      }
     ]
    },
    "a1af72c6d59d45b19e1001f8fec1f7f1": {
     "views": [
      {
       "cell_index": 16
      }
     ]
    },
    "a1c0a9f92e8840fbb0aa59253a9d1d5e": {
     "views": [
      {
       "cell_index": 16
      }
     ]
    },
    "a1e12e0082be4ed6ab84987680b407e9": {
     "views": [
      {
       "cell_index": 16
      }
     ]
    },
    "a1ec2fb5e3714c8fbb268d50a09c1caf": {
     "views": [
      {
       "cell_index": 16
      }
     ]
    },
    "a2c7b10d1d8f4227957cc9b7c39dd93a": {
     "views": [
      {
       "cell_index": 13
      }
     ]
    },
    "a2d4b7b1f7e84d8ca0a2c899140d6a5b": {
     "views": [
      {
       "cell_index": 12
      }
     ]
    },
    "a2f0dba1303047539bd7f098dc154168": {
     "views": [
      {
       "cell_index": 16
      }
     ]
    },
    "a3300cf96ae84672b133a510f231e75c": {
     "views": [
      {
       "cell_index": 12
      }
     ]
    },
    "a3777d1c1e0d4a2cb808dd25e606388c": {
     "views": [
      {
       "cell_index": 22
      }
     ]
    },
    "a39bab1a3e0e4726a1a08e067d914686": {
     "views": [
      {
       "cell_index": 16
      }
     ]
    },
    "a3d73af265b9484dbe4a9fadaa316db5": {
     "views": [
      {
       "cell_index": 16
      }
     ]
    },
    "a46edccaf4ac416490b2abc7b227e3fb": {
     "views": [
      {
       "cell_index": 16
      }
     ]
    },
    "a4fd7636c00643a6ad6d1fd89ad3f19a": {
     "views": [
      {
       "cell_index": 22
      }
     ]
    },
    "a63fbc3c83fa46eeaea39c27bbb5d678": {
     "views": [
      {
       "cell_index": 26
      }
     ]
    },
    "a6b1efbb3ce7483ab52beabcbfaf5640": {
     "views": [
      {
       "cell_index": 12
      }
     ]
    },
    "a6b923bcc54f4264b477a8693ddf5865": {
     "views": [
      {
       "cell_index": 16
      }
     ]
    },
    "a824f3856d7f4471a728d7438f82b24a": {
     "views": [
      {
       "cell_index": 16
      }
     ]
    },
    "a8927dbb9dc943f2b6eed660f0616d76": {
     "views": [
      {
       "cell_index": 22
      }
     ]
    },
    "a90723508b83467baffd79003d7e7226": {
     "views": [
      {
       "cell_index": 16
      }
     ]
    },
    "a90d5a6c2fd241a7816c53dce81de75f": {
     "views": [
      {
       "cell_index": 23
      }
     ]
    },
    "aa3e290e34614b01bc3e791b1a1ab850": {
     "views": [
      {
       "cell_index": 22
      }
     ]
    },
    "aa879c3c5d5249dbb4119381851f1d07": {
     "views": [
      {
       "cell_index": 16
      }
     ]
    },
    "aac219f897894f3089239059f1fdd1a0": {
     "views": [
      {
       "cell_index": 16
      }
     ]
    },
    "abe3534ded214eb79ab8a83fe3d75945": {
     "views": [
      {
       "cell_index": 12
      }
     ]
    },
    "abeec3b4b7be41ee98187a699c7066b5": {
     "views": [
      {
       "cell_index": 22
      }
     ]
    },
    "ac2cb21e50714bb29ba4986af352c848": {
     "views": [
      {
       "cell_index": 16
      }
     ]
    },
    "ac43de42c78a4a3e9502a54d204dceea": {
     "views": [
      {
       "cell_index": 16
      }
     ]
    },
    "ac5ac7617f17482abda75baf0c8b399a": {
     "views": [
      {
       "cell_index": 16
      }
     ]
    },
    "acb5d0d1b0c34b249f937304db284488": {
     "views": [
      {
       "cell_index": 15
      }
     ]
    },
    "ad8671f66d6b428c98c755542fe54e51": {
     "views": [
      {
       "cell_index": 13
      }
     ]
    },
    "ada4c9ef714e49bb837b593d1d4b4c9b": {
     "views": [
      {
       "cell_index": 12
      }
     ]
    },
    "addb92f0513e4ef3b4a14c666323a217": {
     "views": [
      {
       "cell_index": 16
      }
     ]
    },
    "addcc5d49df84c76b6031614e9dbe0f9": {
     "views": [
      {
       "cell_index": 22
      }
     ]
    },
    "ae0ba62a8a9b4bb08c861dd425dd8a75": {
     "views": [
      {
       "cell_index": 16
      }
     ]
    },
    "ae974a7341124ff681efb1c1a4e0e726": {
     "views": [
      {
       "cell_index": 26
      }
     ]
    },
    "af48f3cfdb844d62b814974729e42cfe": {
     "views": [
      {
       "cell_index": 16
      }
     ]
    },
    "af53e64f57e243679f46fe45bccbaf32": {
     "views": [
      {
       "cell_index": 12
      }
     ]
    },
    "af5636d02dc74e73bdd0647ee4a9bdfe": {
     "views": [
      {
       "cell_index": 22
      }
     ]
    },
    "af5fee77d5dc480088e33f221292cd7d": {
     "views": [
      {
       "cell_index": 16
      }
     ]
    },
    "af820a112a5e4bf790ad4e0323c8babb": {
     "views": [
      {
       "cell_index": 22
      }
     ]
    },
    "b021252b19704e9a9533219b9be841d1": {
     "views": [
      {
       "cell_index": 13
      }
     ]
    },
    "b04cc6ae790f4d3e9dd7b550aeb1a964": {
     "views": [
      {
       "cell_index": 27
      }
     ]
    },
    "b068d48db63f4907969f055da20df77b": {
     "views": [
      {
       "cell_index": 13
      }
     ]
    },
    "b0a67804d6234f5699e466edbb0b3892": {
     "views": [
      {
       "cell_index": 13
      }
     ]
    },
    "b0c123041806420aa6a480e20a048eef": {
     "views": [
      {
       "cell_index": 22
      }
     ]
    },
    "b12025f541284bb686419671807a03ae": {
     "views": [
      {
       "cell_index": 16
      }
     ]
    },
    "b12a32cf15b64ddd87355a97501b3e8b": {
     "views": [
      {
       "cell_index": 16
      }
     ]
    },
    "b13c245aab9046b3a4575eb5ea807ab6": {
     "views": [
      {
       "cell_index": 16
      }
     ]
    },
    "b1572fa839d24125ba83a64127c91e24": {
     "views": [
      {
       "cell_index": 16
      }
     ]
    },
    "b1a21c4a6e5a4e9a8ed5063b6da16903": {
     "views": [
      {
       "cell_index": 16
      }
     ]
    },
    "b1b2b43fce6d45078f4ca150ca4c867b": {
     "views": [
      {
       "cell_index": 16
      }
     ]
    },
    "b29250b88bd1414683085c692f963483": {
     "views": [
      {
       "cell_index": 16
      }
     ]
    },
    "b2f3e2f676a44202b7e845b401002654": {
     "views": [
      {
       "cell_index": 16
      }
     ]
    },
    "b30cf3611d7640d8a406c60ed3b446f7": {
     "views": [
      {
       "cell_index": 16
      }
     ]
    },
    "b3c64aad2e7349feac7c9cc976928245": {
     "views": [
      {
       "cell_index": 7
      }
     ]
    },
    "b3fef8920eed4205b701da0e64f7bae1": {
     "views": [
      {
       "cell_index": 23
      }
     ]
    },
    "b4b0982888ae4b06b346d17059bd19df": {
     "views": [
      {
       "cell_index": 16
      }
     ]
    },
    "b4faa06496e845b89682fd982a89ed40": {
     "views": [
      {
       "cell_index": 13
      }
     ]
    },
    "b540d09260504473b9c1c2e3dfb389d5": {
     "views": [
      {
       "cell_index": 13
      }
     ]
    },
    "b5bf4d37615b477aad5abe30c1c701b0": {
     "views": [
      {
       "cell_index": 13
      }
     ]
    },
    "b5e034ea6fcb4b3592599707a112e667": {
     "views": [
      {
       "cell_index": 13
      }
     ]
    },
    "b5e6188a94b44bb39db22943b8a7efa9": {
     "views": [
      {
       "cell_index": 16
      }
     ]
    },
    "b69b91232b4341dab66da9191dff05e1": {
     "views": [
      {
       "cell_index": 13
      }
     ]
    },
    "b706613514814013ab608771e141de42": {
     "views": [
      {
       "cell_index": 16
      }
     ]
    },
    "b7289a02fd92479498793d46af5e910e": {
     "views": [
      {
       "cell_index": 31
      }
     ]
    },
    "b74ea9579b964057bbeef8503467a8df": {
     "views": [
      {
       "cell_index": 16
      }
     ]
    },
    "b7831572432a4c4fb5919c10d8b1b864": {
     "views": [
      {
       "cell_index": 14
      }
     ]
    },
    "b7e71999413d4efc8e0518e7e47e288f": {
     "views": [
      {
       "cell_index": 13
      }
     ]
    },
    "b8cd654e904e418bb3390cd6774e470f": {
     "views": [
      {
       "cell_index": 16
      }
     ]
    },
    "b99c93ead8b744e7b0ad7ac33291d00f": {
     "views": [
      {
       "cell_index": 16
      }
     ]
    },
    "b9c416aa8cca499a86576555a9832a45": {
     "views": [
      {
       "cell_index": 16
      }
     ]
    },
    "b9d74de314804ab5aa141a13444f187e": {
     "views": [
      {
       "cell_index": 16
      }
     ]
    },
    "ba07351031e14802b08898cdcea5b16c": {
     "views": [
      {
       "cell_index": 16
      }
     ]
    },
    "ba7cc0b27b804ca7b1344775e973efc7": {
     "views": [
      {
       "cell_index": 22
      }
     ]
    },
    "baa2acbc86f0479fa92781e76e73373a": {
     "views": [
      {
       "cell_index": 16
      }
     ]
    },
    "bb98edb132d1457599846e7614b0ef78": {
     "views": [
      {
       "cell_index": 16
      }
     ]
    },
    "bbb1cfdeb8fc43b3a0941f269b01c994": {
     "views": [
      {
       "cell_index": 13
      }
     ]
    },
    "bcbc25e72d274c64ad93a65a37a0bdbb": {
     "views": [
      {
       "cell_index": 16
      }
     ]
    },
    "bcd2d84db3d74a559269ea2ff80553b9": {
     "views": [
      {
       "cell_index": 16
      }
     ]
    },
    "bce6a25026eb4df8ac935df6eb317348": {
     "views": [
      {
       "cell_index": 16
      }
     ]
    },
    "bd1b2a1c26ba4428ba442769e1011a35": {
     "views": [
      {
       "cell_index": 16
      }
     ]
    },
    "bd2ffde1545a4e6684aa83b67e7105f2": {
     "views": [
      {
       "cell_index": 16
      }
     ]
    },
    "bd46429afefe40bd8fac44f78d86f089": {
     "views": [
      {
       "cell_index": 13
      }
     ]
    },
    "bea4b472ae994ec4870d36f004bad66c": {
     "views": [
      {
       "cell_index": 13
      }
     ]
    },
    "bfb8272120ae4599aa8ec0ef4119c58a": {
     "views": [
      {
       "cell_index": 26
      }
     ]
    },
    "c016c36c58af4b6eacb2cb9b0eccf498": {
     "views": [
      {
       "cell_index": 16
      }
     ]
    },
    "c05c1ae92f6749e58e61889b442c5978": {
     "views": [
      {
       "cell_index": 31
      }
     ]
    },
    "c08cef4d795d48dcb8fb75c9fb848760": {
     "views": [
      {
       "cell_index": 16
      }
     ]
    },
    "c11439db57e4449f8e770e184edee8f4": {
     "views": [
      {
       "cell_index": 13
      }
     ]
    },
    "c140ebbd723b4cd0a6d2a713f8c2d41e": {
     "views": [
      {
       "cell_index": 26
      }
     ]
    },
    "c16e2900dfbe42f597a81abeb2ef3448": {
     "views": [
      {
       "cell_index": 16
      }
     ]
    },
    "c24cb59a77fd4564b4daa6a9c769b58c": {
     "views": [
      {
       "cell_index": 16
      }
     ]
    },
    "c27c3969a22d4bb480225e263d248fc8": {
     "views": [
      {
       "cell_index": 16
      }
     ]
    },
    "c2a5cb1cf67a43fbbdc68b3d5ac64e66": {
     "views": [
      {
       "cell_index": 13
      }
     ]
    },
    "c31fd80bee7348cba1c98d49ac965ebd": {
     "views": [
      {
       "cell_index": 13
      }
     ]
    },
    "c3434d39067243b58376b51ecedd3c44": {
     "views": [
      {
       "cell_index": 16
      }
     ]
    },
    "c3dbfc268c26465c85cc484e3a974a56": {
     "views": [
      {
       "cell_index": 23
      }
     ]
    },
    "c48552ff735949f5b3e8d0ed4c031ab1": {
     "views": [
      {
       "cell_index": 13
      }
     ]
    },
    "c4886557840b4c788372fc82a7786261": {
     "views": [
      {
       "cell_index": 22
      }
     ]
    },
    "c4f25721a2fe43d1accf98d42a1e9265": {
     "views": [
      {
       "cell_index": 24
      }
     ]
    },
    "c58f623741614bc28859711688bbb58c": {
     "views": [
      {
       "cell_index": 12
      }
     ]
    },
    "c5c0555b64db46a4bb8ffc516acb4b33": {
     "views": [
      {
       "cell_index": 12
      }
     ]
    },
    "c5c63ccebeb045cba29e5603019b06f7": {
     "views": [
      {
       "cell_index": 22
      }
     ]
    },
    "c5e543e911074aab8a5c812705784833": {
     "views": [
      {
       "cell_index": 16
      }
     ]
    },
    "c5e77f1beb344af5b9b2f5f713f7eab4": {
     "views": [
      {
       "cell_index": 16
      }
     ]
    },
    "c5ef27c988c04779b38fade832bdad42": {
     "views": [
      {
       "cell_index": 16
      }
     ]
    },
    "c63c1d29c7a34f2fb36e5d0cd0a290ab": {
     "views": [
      {
       "cell_index": 16
      }
     ]
    },
    "c6be1deb46684ebcb66fc746a7311e97": {
     "views": [
      {
       "cell_index": 16
      }
     ]
    },
    "c770ab57dffe4f82bbbf8ec9c7b6d4cf": {
     "views": [
      {
       "cell_index": 16
      }
     ]
    },
    "c78917d6bb984e9f850e146dab3e9f74": {
     "views": [
      {
       "cell_index": 16
      }
     ]
    },
    "c7aacc2ee8cd45e8b646b30796dbc083": {
     "views": [
      {
       "cell_index": 16
      }
     ]
    },
    "c8f1611c421242cb873b20dd8dc7e0cc": {
     "views": [
      {
       "cell_index": 16
      }
     ]
    },
    "caa58622381740e2a775a521e7f81e15": {
     "views": [
      {
       "cell_index": 16
      }
     ]
    },
    "cab132f4e91548a7b8d6b386c6f50408": {
     "views": [
      {
       "cell_index": 16
      }
     ]
    },
    "cafa08d517f44246aa0e1a9cf8d6f5fa": {
     "views": [
      {
       "cell_index": 31
      }
     ]
    },
    "cb8d900744ca4724ba9c6e95e9fe6466": {
     "views": [
      {
       "cell_index": 16
      }
     ]
    },
    "cbb54ff630a045db991983877adce1bb": {
     "views": [
      {
       "cell_index": 16
      }
     ]
    },
    "cc4f864139924d7080ceaad9a3291f3d": {
     "views": [
      {
       "cell_index": 16
      }
     ]
    },
    "cd09dee86d7b4f4285b269a87c9f5537": {
     "views": [
      {
       "cell_index": 22
      }
     ]
    },
    "cdb8e5499df744a1b2067d590a7232d1": {
     "views": [
      {
       "cell_index": 16
      }
     ]
    },
    "cdc9f6e6b7fb452a885f9fc452716017": {
     "views": [
      {
       "cell_index": 14
      }
     ]
    },
    "ce22555cda7e4812835a540302fac9a4": {
     "views": [
      {
       "cell_index": 16
      }
     ]
    },
    "ce520787cd3544e68e67c7e6a66217cc": {
     "views": [
      {
       "cell_index": 12
      }
     ]
    },
    "cf1d4f5e4a8743cd9da622a5f0db0416": {
     "views": [
      {
       "cell_index": 15
      }
     ]
    },
    "cfc722eac3f04e3db8c85ed10b13156f": {
     "views": [
      {
       "cell_index": 22
      }
     ]
    },
    "cfcbef00c4c64f5f875e821f476a5836": {
     "views": [
      {
       "cell_index": 13
      }
     ]
    },
    "d07f7286959a4762b02f100248c6683e": {
     "views": [
      {
       "cell_index": 16
      }
     ]
    },
    "d0a4a6aa8d8343a88b07a02d9b13c5cb": {
     "views": [
      {
       "cell_index": 16
      }
     ]
    },
    "d0ad80120d394965a726fd0d677fd6ba": {
     "views": [
      {
       "cell_index": 16
      }
     ]
    },
    "d1b6e14078874709b27bda383c852f7e": {
     "views": [
      {
       "cell_index": 16
      }
     ]
    },
    "d2108a66bc7b4958818c57f40084b96a": {
     "views": [
      {
       "cell_index": 14
      }
     ]
    },
    "d225992fd9df4ae19f381c532d4c0447": {
     "views": [
      {
       "cell_index": 26
      }
     ]
    },
    "d29b7d5261c240518e1e483647c133a0": {
     "views": [
      {
       "cell_index": 26
      }
     ]
    },
    "d33b240485dd4fe69b63fb8826ca64d3": {
     "views": [
      {
       "cell_index": 7
      }
     ]
    },
    "d3c31423bfee42b595a45135a7d38138": {
     "views": [
      {
       "cell_index": 16
      }
     ]
    },
    "d4000e2545ea4798b268924194b579eb": {
     "views": [
      {
       "cell_index": 7
      }
     ]
    },
    "d44d4df0397d49cfaa5c72e174a8e6cc": {
     "views": [
      {
       "cell_index": 13
      }
     ]
    },
    "d49753f5bced4cf392dbce18cf6e56bc": {
     "views": [
      {
       "cell_index": 13
      }
     ]
    },
    "d49eef0d0baf40d4a0d2ce4b0521f573": {
     "views": [
      {
       "cell_index": 13
      }
     ]
    },
    "d4c40abec7114817b80f66d7e3885abd": {
     "views": [
      {
       "cell_index": 16
      }
     ]
    },
    "d5182886adf447d29674159c3d4fd81d": {
     "views": [
      {
       "cell_index": 16
      }
     ]
    },
    "d58d70c66ded4383beabab98ff12c196": {
     "views": [
      {
       "cell_index": 16
      }
     ]
    },
    "d5c0fea98b0d4f05a34521766ba4e77b": {
     "views": [
      {
       "cell_index": 12
      }
     ]
    },
    "d5c965c6e36f452da83550448f909309": {
     "views": [
      {
       "cell_index": 14
      }
     ]
    },
    "d5dd133e5f3d40e396c97a0afc379b5d": {
     "views": [
      {
       "cell_index": 22
      }
     ]
    },
    "d6b7a3283b4842efb17ca23b831814a6": {
     "views": [
      {
       "cell_index": 16
      }
     ]
    },
    "d72d77e62a4f477c82ca20d0d7e42545": {
     "views": [
      {
       "cell_index": 16
      }
     ]
    },
    "d75f500def5640f58af398a165394fed": {
     "views": [
      {
       "cell_index": 16
      }
     ]
    },
    "d78af5b4fdb14be29b1dc959054b096a": {
     "views": [
      {
       "cell_index": 16
      }
     ]
    },
    "d7a1d44e896c4ce5b12a33e1a5643cab": {
     "views": [
      {
       "cell_index": 26
      }
     ]
    },
    "d810a1d06d1f47b88c22f13bed2b15e6": {
     "views": [
      {
       "cell_index": 16
      }
     ]
    },
    "d85ed93e6adc4300b760e024ec301eb7": {
     "views": [
      {
       "cell_index": 16
      }
     ]
    },
    "d88bed6e7815461097bc9f89d6837313": {
     "views": [
      {
       "cell_index": 16
      }
     ]
    },
    "d8f3c5567e5b4296bb41fd24f7122e7f": {
     "views": [
      {
       "cell_index": 16
      }
     ]
    },
    "d91716fc9a4047a98fd361111ee11418": {
     "views": [
      {
       "cell_index": 16
      }
     ]
    },
    "d95824ecc3d1440da4db5d8c04fa4068": {
     "views": [
      {
       "cell_index": 16
      }
     ]
    },
    "d9f465d68472414cacad73218205c9b8": {
     "views": [
      {
       "cell_index": 12
      }
     ]
    },
    "d9fbc0747b63486f97ca96beef5e2338": {
     "views": [
      {
       "cell_index": 16
      }
     ]
    },
    "da1696dfc6c8444dbe9a573df0b5b667": {
     "views": [
      {
       "cell_index": 7
      }
     ]
    },
    "da9aa151dcb745958bd18fd5099a8478": {
     "views": [
      {
       "cell_index": 16
      }
     ]
    },
    "dac07a949f2d4f69aa65186ce0e54fbe": {
     "views": [
      {
       "cell_index": 13
      }
     ]
    },
    "daee64e43f64437b968e55e2658a782e": {
     "views": [
      {
       "cell_index": 16
      }
     ]
    },
    "db3158f795c94c0285e9996a74766694": {
     "views": [
      {
       "cell_index": 22
      }
     ]
    },
    "dc2a18e5090047df875ec04266525c64": {
     "views": [
      {
       "cell_index": 16
      }
     ]
    },
    "dc613b2c0d154205acc8a904f6871dea": {
     "views": [
      {
       "cell_index": 16
      }
     ]
    },
    "ddf97d65bd6e4e8b8ae0a18b8ff9aa1f": {
     "views": [
      {
       "cell_index": 12
      }
     ]
    },
    "ddff90218eee40a2947cc895d1b48edf": {
     "views": [
      {
       "cell_index": 16
      }
     ]
    },
    "de0cd792297247e4a1155c6e58cd283a": {
     "views": [
      {
       "cell_index": 14
      }
     ]
    },
    "de15f7c9d19c46a5ac28619e8069bb80": {
     "views": [
      {
       "cell_index": 16
      }
     ]
    },
    "de288aff4cde4e7fb5506ee8a3d81585": {
     "views": [
      {
       "cell_index": 16
      }
     ]
    },
    "de4134d73d114e49b833e361a2ff7552": {
     "views": [
      {
       "cell_index": 13
      }
     ]
    },
    "dedce3ea92ce4336a7999dd66c96d96e": {
     "views": [
      {
       "cell_index": 12
      }
     ]
    },
    "df0a1468cb414386be9753493bd1e0e2": {
     "views": [
      {
       "cell_index": 12
      }
     ]
    },
    "df23617e512f4adda2234434472f9bc6": {
     "views": [
      {
       "cell_index": 13
      }
     ]
    },
    "df3ac82d687f4beab1e23693124b81df": {
     "views": [
      {
       "cell_index": 16
      }
     ]
    },
    "df6ea05dfcc542709db8c0cf10a2ac13": {
     "views": [
      {
       "cell_index": 16
      }
     ]
    },
    "e0d5037ba0cc4c729316e1d242ca9630": {
     "views": [
      {
       "cell_index": 16
      }
     ]
    },
    "e10d29b2ae634af2bbbd003195d8f0d9": {
     "views": [
      {
       "cell_index": 16
      }
     ]
    },
    "e126e70d67c9468c8e1e82c065bc2bfd": {
     "views": [
      {
       "cell_index": 13
      }
     ]
    },
    "e13418f473714c0493db2c873adb9c3c": {
     "views": [
      {
       "cell_index": 22
      }
     ]
    },
    "e1fd4214941b4b5ca12ac6bdbc196e11": {
     "views": [
      {
       "cell_index": 16
      }
     ]
    },
    "e2b6f3e2fc5e4013a4f8b227c1111336": {
     "views": [
      {
       "cell_index": 16
      }
     ]
    },
    "e307635a5fcb4db8aa0a0d260db9ea48": {
     "views": [
      {
       "cell_index": 16
      }
     ]
    },
    "e3cd2bfe673a4b1cada150f002452a3c": {
     "views": [
      {
       "cell_index": 12
      }
     ]
    },
    "e45c1304d97d45639daea375fac1d0b0": {
     "views": [
      {
       "cell_index": 15
      }
     ]
    },
    "e4e75018a6144dd589af1d906f575691": {
     "views": [
      {
       "cell_index": 16
      }
     ]
    },
    "e4ed26a35df64fcc88c97d1501321aea": {
     "views": [
      {
       "cell_index": 16
      }
     ]
    },
    "e4ef969400b94fc38ff4e264db950b89": {
     "views": [
      {
       "cell_index": 15
      }
     ]
    },
    "e56705d8d5e34294a99a48e2c55327f6": {
     "views": [
      {
       "cell_index": 16
      }
     ]
    },
    "e5bc19260e3340b7bc1b4e5068eaca8d": {
     "views": [
      {
       "cell_index": 16
      }
     ]
    },
    "e5ec122f8dc1491898abcf9810118ebf": {
     "views": [
      {
       "cell_index": 16
      }
     ]
    },
    "e625c0ece05f427881ceb648670aab6a": {
     "views": [
      {
       "cell_index": 23
      }
     ]
    },
    "e66131b845814bb98b43fb55d5967087": {
     "views": [
      {
       "cell_index": 16
      }
     ]
    },
    "e6e5f70f6f9c4f85a9d2231660a47acf": {
     "views": [
      {
       "cell_index": 12
      }
     ]
    },
    "e72cff8a140b4dfcbda515322d724fc1": {
     "views": [
      {
       "cell_index": 7
      }
     ]
    },
    "e7ddac5afcb34095ad7e1c65fe52aca1": {
     "views": [
      {
       "cell_index": 16
      }
     ]
    },
    "e85ec9ec3706495db909b2bd13aaa219": {
     "views": [
      {
       "cell_index": 13
      }
     ]
    },
    "e8cf2916eaac4ecc99bb65c7a95e2766": {
     "views": [
      {
       "cell_index": 16
      }
     ]
    },
    "e96780bfd6e14d20abfddae227d6cdf5": {
     "views": [
      {
       "cell_index": 13
      }
     ]
    },
    "e9c5cc5139bd430b89737874bf900348": {
     "views": [
      {
       "cell_index": 16
      }
     ]
    },
    "ea3e81e3aa7042759807f9febe43a2d1": {
     "views": [
      {
       "cell_index": 16
      }
     ]
    },
    "ebbe33d530464ae588647980e83bb3a8": {
     "views": [
      {
       "cell_index": 16
      }
     ]
    },
    "ec1956ffb875414897829e49648eed8a": {
     "views": [
      {
       "cell_index": 16
      }
     ]
    },
    "ec5a6aedb6b648a389b84876a4561a93": {
     "views": [
      {
       "cell_index": 21
      }
     ]
    },
    "ecfdee686e774086b68517ae95ca5a9c": {
     "views": [
      {
       "cell_index": 7
      }
     ]
    },
    "ed0dd4ee374d4cae810fd7c5ec69d365": {
     "views": [
      {
       "cell_index": 16
      }
     ]
    },
    "ed47d7e182e24dd79bc0754dd8d3ca31": {
     "views": [
      {
       "cell_index": 16
      }
     ]
    },
    "ed7bcbe323104a66a8ff057e9f7a9184": {
     "views": [
      {
       "cell_index": 29
      }
     ]
    },
    "eee36bbc10fd438daa2d71c9bc2f9a45": {
     "views": [
      {
       "cell_index": 12
      }
     ]
    },
    "ef48f237a64946c9bebbc41964b8123f": {
     "views": [
      {
       "cell_index": 16
      }
     ]
    },
    "ef4a06f11cb545c189d19eb23f5d1f39": {
     "views": [
      {
       "cell_index": 16
      }
     ]
    },
    "ef61aed86ce74af4a97948752edae581": {
     "views": [
      {
       "cell_index": 16
      }
     ]
    },
    "efdefe24992e4162adbc36cf687d549c": {
     "views": [
      {
       "cell_index": 16
      }
     ]
    },
    "efe0aa494803499aa71f520196398809": {
     "views": [
      {
       "cell_index": 16
      }
     ]
    },
    "f03c99ae5ae7452b9ae30e7f07819480": {
     "views": [
      {
       "cell_index": 16
      }
     ]
    },
    "f068c6f6c28e41b09f9891dc185279aa": {
     "views": [
      {
       "cell_index": 16
      }
     ]
    },
    "f14114ad39c74d1f907a1c315ce2e97e": {
     "views": [
      {
       "cell_index": 16
      }
     ]
    },
    "f1468e884daa45fdadc3f00072a0c94e": {
     "views": [
      {
       "cell_index": 16
      }
     ]
    },
    "f288fa4accee470d893d633844ed178a": {
     "views": [
      {
       "cell_index": 16
      }
     ]
    },
    "f33d1c9ff73d40d0902509b90d09351a": {
     "views": [
      {
       "cell_index": 16
      }
     ]
    },
    "f34512f460fe4047a9c8e96300054440": {
     "views": [
      {
       "cell_index": 16
      }
     ]
    },
    "f34f6a82cfbf4a2d91ad82b3629265ba": {
     "views": [
      {
       "cell_index": 16
      }
     ]
    },
    "f3bfff7ff98e460ab781230902a1304f": {
     "views": [
      {
       "cell_index": 16
      }
     ]
    },
    "f3e1471ad86e408ea1a8a0a8054ba188": {
     "views": [
      {
       "cell_index": 26
      }
     ]
    },
    "f483fa65c31e417bb29025b140d10781": {
     "views": [
      {
       "cell_index": 16
      }
     ]
    },
    "f50dc77d1cbf479d9cd5a08ab54d2545": {
     "views": [
      {
       "cell_index": 16
      }
     ]
    },
    "f5688e54aae64e7fb582bff38497bd77": {
     "views": [
      {
       "cell_index": 31
      }
     ]
    },
    "f57f131f279c46029391eec7ae616b77": {
     "views": [
      {
       "cell_index": 16
      }
     ]
    },
    "f5830520d38f4cafbfb32d09e67bc2af": {
     "views": [
      {
       "cell_index": 16
      }
     ]
    },
    "f64e72a787c946f6836309fd356136df": {
     "views": [
      {
       "cell_index": 16
      }
     ]
    },
    "f66a60dacdeb4192ad4c21353382133a": {
     "views": [
      {
       "cell_index": 16
      }
     ]
    },
    "f6b61cffa20748858ba1c9060aec065a": {
     "views": [
      {
       "cell_index": 16
      }
     ]
    },
    "f6cfa9bdde554f3bb0c010582080b448": {
     "views": [
      {
       "cell_index": 22
      }
     ]
    },
    "f706e80fd72a4018b37fe3272b0ec1e9": {
     "views": [
      {
       "cell_index": 16
      }
     ]
    },
    "f78ed97589074d5e80ce718af69b4362": {
     "views": [
      {
       "cell_index": 12
      }
     ]
    },
    "f7c9418499954d31b19eb46399153ef4": {
     "views": [
      {
       "cell_index": 16
      }
     ]
    },
    "f8466da0b00244a1899ad6fe9f287ea9": {
     "views": [
      {
       "cell_index": 29
      }
     ]
    },
    "f88718e17ab74598addb4551c46a50a8": {
     "views": [
      {
       "cell_index": 16
      }
     ]
    },
    "f89e632d134243acbb1b56bb439c6859": {
     "views": [
      {
       "cell_index": 16
      }
     ]
    },
    "f8ee191adc19467f972549698b5065dd": {
     "views": [
      {
       "cell_index": 16
      }
     ]
    },
    "f9c0f9e4bfe84c6dbb7f536452d74cee": {
     "views": [
      {
       "cell_index": 16
      }
     ]
    },
    "f9ebb362a6b947e0ad77be64f2e3c046": {
     "views": [
      {
       "cell_index": 16
      }
     ]
    },
    "fa3adc0868e544d9abac2e0673966675": {
     "views": [
      {
       "cell_index": 7
      }
     ]
    },
    "fb07135c2592482cab2f78702aaa41a6": {
     "views": [
      {
       "cell_index": 16
      }
     ]
    },
    "fb3c0ba118c146fc829a0f81dbdbad15": {
     "views": [
      {
       "cell_index": 16
      }
     ]
    },
    "fb4a70cf2aa44ff391a48be1ad23d44e": {
     "views": [
      {
       "cell_index": 16
      }
     ]
    },
    "fc4040859768455a90bd4f533215a7fe": {
     "views": [
      {
       "cell_index": 13
      }
     ]
    },
    "fc69c583e58446f4a44c5a1d54d8872b": {
     "views": [
      {
       "cell_index": 16
      }
     ]
    },
    "fc6c3e218ac34bae891bdfd934c10eb0": {
     "views": [
      {
       "cell_index": 22
      }
     ]
    },
    "fdf34af8e41c4f3fa925a4edacbcc81c": {
     "views": [
      {
       "cell_index": 16
      }
     ]
    },
    "fe1819d8e62642e681c74d99af963a06": {
     "views": [
      {
       "cell_index": 7
      }
     ]
    },
    "fe280f57ae854ed7b96a756d70a2fe7f": {
     "views": [
      {
       "cell_index": 13
      }
     ]
    },
    "fe66cf9500d74c7c87cb4b25c74f6936": {
     "views": [
      {
       "cell_index": 22
      }
     ]
    },
    "ff596ccb52a34247adf0cf9bfaa2851c": {
     "views": [
      {
       "cell_index": 16
      }
     ]
    },
    "ffbc3535f12a4ae4bc5e82a8014dc963": {
     "views": [
      {
       "cell_index": 13
      }
     ]
    },
    "ffdd46e9978e476da2aa0a89143b5397": {
     "views": [
      {
       "cell_index": 16
      }
     ]
    }
   },
   "version": "1.2.0"
  }
 },
 "nbformat": 4,
 "nbformat_minor": 1
}
