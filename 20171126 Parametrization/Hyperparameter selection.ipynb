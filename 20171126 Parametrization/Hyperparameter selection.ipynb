{
 "cells": [
  {
   "cell_type": "markdown",
   "metadata": {},
   "source": [
    "# Method for selection of hyperparameters of parametrization"
   ]
  },
  {
   "cell_type": "code",
   "execution_count": null,
   "metadata": {
    "collapsed": true
   },
   "outputs": [],
   "source": [
    "import numpy as np\n",
    "import pickle\n",
    "from spline_inter1d import SplineInter1D, _Spline\n",
    "import matplotlib.pyplot as plt\n",
    "%matplotlib inline\n",
    "from kde import KDE\n",
    "from tqdm import tqdm_notebook as tqdm\n",
    "from sklearn.preprocessing import StandardScaler\n",
    "import os\n",
    "overwrite = False"
   ]
  },
  {
   "cell_type": "markdown",
   "metadata": {},
   "source": [
    "## Simplified example"
   ]
  },
  {
   "cell_type": "code",
   "execution_count": null,
   "metadata": {
    "collapsed": false
   },
   "outputs": [],
   "source": [
    "# Define the spline function that we later need\n",
    "spl_event = SplineInter1D([0, 1/2, 1], left_constraints=[1], right_constraints=[0])\n",
    "spl = _Spline(spl_event.t, spl_event.d, spl_event.thetafixed)\n",
    "def theta(thetatilde):\n",
    "    return spl_event.thetafixed + np.dot(spl_event.v2, thetatilde)\n",
    "def thetatilde(theta):\n",
    "    return np.dot(spl_event.v2.T, theta - spl_event.thetafixed)"
   ]
  },
  {
   "cell_type": "code",
   "execution_count": null,
   "metadata": {
    "collapsed": true
   },
   "outputs": [],
   "source": [
    "# This is the error function that measures how good the parameters 'z' fit with the curve y\n",
    "def error(y, z, sigma=0.1):\n",
    "    \"\"\"Determine the error\n",
    "    y is an test curve, evaluated at default x values\n",
    "    z is a vector containing the parameters from the kde\n",
    "    sigma 'Standard deviation', kind of allowed error\n",
    "    \"\"\"\n",
    "    # Construct spline and evaluate\n",
    "    spl.theta = theta(z)\n",
    "    yz = spl()\n",
    "    \n",
    "    # Return the function\n",
    "    # return np.mean(np.exp(-(y - yz)**2 / (2 * sigma**2))) / (sigma * np.sqrt(2*np.pi))\n",
    "    # return np.mean(-np.abs(y - yz) / sigma) - np.log(2 * sigma)\n",
    "    # return np.exp(-np.mean((y - yz)**2 / (2 * sigma * sigma)) / np.sqrt(2 * np.pi * sigma))\n",
    "    return np.exp(-np.mean(np.abs(y - yz) / sigma))"
   ]
  },
  {
   "cell_type": "code",
   "execution_count": null,
   "metadata": {
    "collapsed": false
   },
   "outputs": [],
   "source": [
    "# Do it for a very simple case\n",
    "t = np.linspace(0, 1, 100)\n",
    "spl(t)  # Sets the x-values\n",
    "v1 = -t**2 + 1\n",
    "v2 = t**2 -2*t + 1\n",
    "v3 = -t + 1\n",
    "coef_train = np.array([thetatilde(spl_event.fit(t, v1).theta), thetatilde(spl_event.fit(t, v2).theta)])\n",
    "plt.plot(t, v1, 'b', label='Training curve')\n",
    "plt.plot(t, v2, 'b')\n",
    "plt.plot(t, v3, 'r', label='Test curve')\n",
    "plt.xlabel('t')\n",
    "plt.ylabel('y')\n",
    "plt.legend()\n",
    "plt.grid('on')"
   ]
  },
  {
   "cell_type": "code",
   "execution_count": null,
   "metadata": {
    "collapsed": false
   },
   "outputs": [],
   "source": [
    "H = [0.01, 0.1, 0.2, 0.5, 1, 2]\n",
    "f, axs = plt.subplots(2, 3, figsize=(16, 8))\n",
    "for h, ax in zip(H, np.ravel(axs)):\n",
    "    kde = KDE(coef_train, bandwidth=h, scale_data=False)\n",
    "    kde.compute_kde()\n",
    "    for i in range(40):\n",
    "        z = kde.draw_random_sample(1)[0]\n",
    "        spl.theta = theta(z)\n",
    "        ax.plot(t, spl(t), color=[.5, .5, 1])\n",
    "    ax.set_title('h = {:.2f}'.format(h))\n",
    "    ax.set_xlabel('t')\n",
    "    ax.set_ylabel('y')\n",
    "    ax.grid('on')\n",
    "plt.tight_layout()"
   ]
  },
  {
   "cell_type": "code",
   "execution_count": null,
   "metadata": {
    "collapsed": false
   },
   "outputs": [],
   "source": [
    "savefile = os.path.join('pickles', 'artificial_example.p')\n",
    "N = 1000\n",
    "H = np.logspace(-2, 1, 31)\n",
    "Sigma = [0.005, 0.01, 0.05, 0.1, 0.5, 1]\n",
    "\n",
    "E = np.zeros((len(Sigma), len(H)))\n",
    "if overwrite or not os.path.exists(savefile):\n",
    "    for isigma, sigma in enumerate(tqdm(Sigma)):\n",
    "        for ih, h in enumerate(tqdm(H, leave=False)):\n",
    "            kde = KDE(coef_train, bandwidth=h, scale_data=False)\n",
    "            kde.compute_kde()\n",
    "            e = np.zeros(N)\n",
    "            for i in range(N):\n",
    "                z = kde.draw_random_sample(1)[0]\n",
    "                e[i] = error(v3, z, sigma=sigma)\n",
    "            E[isigma, ih] = np.mean(e, axis=0)\n",
    "    if not os.path.exists(os.path.dirname(savefile)):\n",
    "        os.mkdir(os.path.dirname(savefile))\n",
    "    with open(savefile, 'wb') as f:\n",
    "        pickle.dump(E, f)\n",
    "else:\n",
    "    with open(savefile, 'rb') as f:\n",
    "        E = pickle.load(f)"
   ]
  },
  {
   "cell_type": "code",
   "execution_count": null,
   "metadata": {
    "collapsed": false
   },
   "outputs": [],
   "source": [
    "f, (ax1, ax2) = plt.subplots(1, 2, figsize=(16, 4))\n",
    "for sigma, e in zip(Sigma, E):\n",
    "    plthandle = ax1.semilogx(H, e, label='sigma = {:.3f}'.format(sigma))\n",
    "    ax1.plot(H[np.argmax(e)], np.max(e), 'x', color=plthandle[0].get_color(), ms=10, mew=3)\n",
    "    plthandle = ax2.semilogx(H, (e - np.min(e)) / (np.max(e) - np.min(e)), label='sigma = {:.3f}'.format(sigma))\n",
    "    ax2.plot(H[np.argmax(e)], 1, 'x', color=plthandle[0].get_color(), ms=10, mew=3)\n",
    "ax1.grid('on')\n",
    "ax1.set_xlabel('Bandwidth')\n",
    "ax1.set_ylabel('Score')\n",
    "ax2.grid('on')\n",
    "ax2.set_xlabel('Bandwidth')\n",
    "ax2.set_ylabel('Score normalized per curve')\n",
    "ax1.legend()"
   ]
  },
  {
   "cell_type": "markdown",
   "metadata": {},
   "source": [
    "## Real example"
   ]
  },
  {
   "cell_type": "code",
   "execution_count": null,
   "metadata": {
    "collapsed": true
   },
   "outputs": [],
   "source": [
    "with open('df.p', 'rb') as f:\n",
    "    (dfs, scaling) = pickle.load(f)\n",
    "# Only use first 100 profiles\n",
    "dfs = dfs[:100].copy()\n",
    "scaling = scaling.T[:100].copy()"
   ]
  },
  {
   "cell_type": "code",
   "execution_count": null,
   "metadata": {
    "collapsed": false
   },
   "outputs": [],
   "source": [
    "# Interpolate all curves\n",
    "profiles = np.zeros((len(dfs), len(t)))\n",
    "for i, df in enumerate(dfs):\n",
    "    profiles[i] = np.interp(t, df['time'], df['vel'])"
   ]
  },
  {
   "cell_type": "markdown",
   "metadata": {},
   "source": [
    "### Influence of number of knots"
   ]
  },
  {
   "cell_type": "code",
   "execution_count": null,
   "metadata": {
    "collapsed": false
   },
   "outputs": [],
   "source": [
    "savefile = os.path.join('pickles', 'test_nknots.p')\n",
    "sigma = 0.001\n",
    "N = 2000\n",
    "NKNOTS = [0, 1, 2, 3, 4]\n",
    "H = np.logspace(-3, 0, 10)\n",
    "J = np.zeros((len(NKNOTS), len(H)))\n",
    "ntest = 25\n",
    "\n",
    "if overwrite or not os.path.exists(savefile):\n",
    "    for inknots, nknots in enumerate(tqdm(NKNOTS)):\n",
    "        print(\"Number of interior knots: {:d}\".format(nknots))\n",
    "        # Define spline function. Note the +2 because of extra exterior knots\n",
    "        spl_event = SplineInter1D(np.linspace(0, 1, nknots+2), left_constraints=[1], right_constraints=[0])\n",
    "        spl = _Spline(spl_event.t, spl_event.d, spl_event.thetafixed)\n",
    "        spl(t)  # Sets the x-values\n",
    "\n",
    "        # Compute the spline coefficients\n",
    "        ncoefs = spl_event.v2.shape[1]\n",
    "        coefs = np.zeros((len(dfs), ncoefs))\n",
    "        for i, df in enumerate(dfs):\n",
    "            coefs[i] = thetatilde(spl_event.fit(df['time'], df['vel']).theta)\n",
    "        scaler = StandardScaler()\n",
    "        scaler.fit(coefs)\n",
    "\n",
    "        # Perform the cross validation\n",
    "        for ih, h in enumerate(tqdm(H, leave=False)):\n",
    "            for idf, profile in enumerate(tqdm(profiles[:ntest], leave=False)):\n",
    "                # Construct the KDE\n",
    "                kde = KDE(scaler.transform(np.concatenate((coefs[:idf], coefs[idf+1:]))), bandwidth=h, scale_data=False)\n",
    "                kde.compute_kde()\n",
    "\n",
    "                # Generate curves and compare\n",
    "                e = np.zeros(N)\n",
    "                for i in range(N):\n",
    "                    z = scaler.inverse_transform(kde.draw_random_sample(1))[0]\n",
    "                    e[i] = error(profile, z, sigma=sigma)\n",
    "                #plt.plot(e)\n",
    "\n",
    "                # Add result to final score\n",
    "                J[inknots, ih] += np.log(np.mean(e))\n",
    "                print(\"\\rh = {:.2e}, J = {:.1f}\".format(h, J[inknots, ih]/(idf+1)*ntest), end=\"\")\n",
    "            print(\"\\rh = {:.2e}, J = {:.1f}\".format(h, J[inknots, ih]))\n",
    "            print()\n",
    "    with open(savefile, 'wb') as f:\n",
    "        pickle.dump(J, f)\n",
    "else:\n",
    "    with open(savefile, 'rb') as f:\n",
    "        J = pickle.load(f)"
   ]
  },
  {
   "cell_type": "code",
   "execution_count": null,
   "metadata": {
    "collapsed": false
   },
   "outputs": [],
   "source": [
    "for inknots, nknots in enumerate(NKNOTS):\n",
    "    plthandle = plt.semilogx(H, J[inknots], label='nknots={:d}'.format(nknots))\n",
    "    plt.plot(H[np.argmax(J[inknots])], np.max(J[inknots]), 'x', color=plthandle[0].get_color(), ms=10, mew=3)\n",
    "plt.grid('on')\n",
    "plt.xlabel('Bandwidth')\n",
    "plt.ylabel('Score')\n",
    "plt.legend()"
   ]
  },
  {
   "cell_type": "markdown",
   "metadata": {},
   "source": [
    "### Influence of number of coefficients with SVD"
   ]
  },
  {
   "cell_type": "code",
   "execution_count": null,
   "metadata": {
    "collapsed": false,
    "scrolled": false
   },
   "outputs": [],
   "source": [
    "savefile = os.path.join('pickles', 'test_svd.p')\n",
    "NKNOTS2 = [2, 3, 4]\n",
    "H2 = np.logspace(-2, 1, 10)\n",
    "\n",
    "if overwrite or not os.path.exists(savefile):\n",
    "    JJ = []\n",
    "    # Loop through all number of knots\n",
    "    for inknots, nknots in enumerate(tqdm(NKNOTS2)):\n",
    "        print(\"Number of interior knots: {:d}\".format(nknots))\n",
    "        # Define spline function. Note the +2 because of extra exterior knots\n",
    "        spl_event = SplineInter1D(np.linspace(0, 1, nknots+2), left_constraints=[1], right_constraints=[0])\n",
    "        spl = _Spline(spl_event.t, spl_event.d, spl_event.thetafixed)\n",
    "        spl(t)  # Sets the x-values\n",
    "\n",
    "        # Compute the spline coefficients\n",
    "        ncoefs = spl_event.v2.shape[1]\n",
    "        coefs = np.zeros((len(dfs), ncoefs))\n",
    "        for i, df in enumerate(dfs):\n",
    "            coefs[i] = thetatilde(spl_event.fit(df['time'], df['vel']).theta)\n",
    "        scaler = StandardScaler()\n",
    "        scaler.fit(coefs)\n",
    "\n",
    "        # Perform SVD\n",
    "        mu = np.mean(coefs, axis=0)\n",
    "        u, s, v = np.linalg.svd(coefs-mu, full_matrices=False)\n",
    "\n",
    "        # Initialize result matrix\n",
    "        jj = np.zeros((ncoefs, len(H)))\n",
    "\n",
    "        # Try all different amount of coefficients\n",
    "        for incoef, ncoef in enumerate(tqdm(range(1, ncoefs+1), leave=False)):\n",
    "            print(\"Number of coefficients: {:d}\".format(ncoef))\n",
    "            # Define the scaler\n",
    "            scaler = StandardScaler()\n",
    "            scaler.fit(u[:, :ncoef])\n",
    "            # Perform the cross validation\n",
    "            for ih, h in enumerate(tqdm(H2, leave=False)):\n",
    "                for idf, profile in enumerate(tqdm(profiles[:ntest], leave=False)):\n",
    "                    # Construct the KDE\n",
    "                    kde = KDE(scaler.transform(np.concatenate((u[:idf, :ncoef], u[idf+1:, :ncoef]))), \n",
    "                              bandwidth=h, scale_data=False)\n",
    "                    kde.compute_kde()\n",
    "\n",
    "                    # Generate curves and compare\n",
    "                    e = np.zeros(N)\n",
    "                    for i in range(N):\n",
    "                        z = scaler.inverse_transform(kde.draw_random_sample(1))[0]\n",
    "                        e[i] = error(profile, mu + np.dot(z*s[:ncoef], v[:ncoef]), sigma=sigma)\n",
    "                    #plt.plot(e)\n",
    "\n",
    "                    # Add result to final score\n",
    "                    jj[incoef, ih] += np.log(np.mean(e))\n",
    "                    print(\"\\rh = {:.2e}, J = {:.1f}\".format(h, jj[incoef, ih]/(idf+1)*ntest), end=\"\")\n",
    "                print(\"\\rh = {:.2e}, J = {:.1f}\".format(h, jj[incoef, ih]))\n",
    "                print()\n",
    "        JJ.append(jj)\n",
    "    with open(savefile, 'wb') as f:\n",
    "        pickle.dump(JJ, f)\n",
    "else:\n",
    "    with open(savefile, 'rb') as f:\n",
    "        JJ = pickle.load(f)"
   ]
  },
  {
   "cell_type": "code",
   "execution_count": null,
   "metadata": {
    "collapsed": false
   },
   "outputs": [],
   "source": [
    "f, axs = plt.subplots(1, len(JJ), figsize=(5*len(JJ), 4))\n",
    "for ax, jj, nknots in zip(axs, JJ, NKNOTS2):\n",
    "    for incoef, ncoef in enumerate(range(1, len(jj)+1)):\n",
    "        plthandle = ax.semilogx(H2, jj[incoef], label='ncoef={:d}'.format(ncoef))\n",
    "        ax.plot(H2[np.argmax(jj[incoef])], np.max(jj[incoef]), 'x', color=plthandle[0].get_color(), ms=10, mew=3)\n",
    "    ax.grid('on')\n",
    "    ax.set_xlabel('Bandwidth')\n",
    "    ax.set_ylabel('Score')\n",
    "    ax.set_title('Number of interior knots: {:d}'.format(nknots))\n",
    "    ax.legend()\n",
    "plt.tight_layout()"
   ]
  },
  {
   "cell_type": "code",
   "execution_count": null,
   "metadata": {
    "collapsed": false,
    "scrolled": true
   },
   "outputs": [],
   "source": [
    "f, axs = plt.subplots(1, len(JJ), figsize=(5*len(JJ), 4))\n",
    "for ax, j, jj, nknots in zip(axs, [J[i] for i in np.searchsorted(NKNOTS, NKNOTS2)], JJ, NKNOTS2):\n",
    "    plthandle = ax.semilogx(H, j, label='orig'.format(ncoef))\n",
    "    ax.plot(H[np.argmax(j)], np.max(j), 'x', color=plthandle[0].get_color(), ms=10, mew=3)\n",
    "    plthandle = ax.semilogx(H2, jj[-1], label='svd'.format(ncoef))\n",
    "    ax.plot(H2[np.argmax(jj[-1])], np.max(jj[-1]), 'x', color=plthandle[0].get_color(), ms=10, mew=3)\n",
    "    ax.grid('on')\n",
    "    ax.set_xlabel('Bandwidth')\n",
    "    ax.set_ylabel('Score')\n",
    "    ax.set_title('Number of interior knots: {:d}'.format(nknots))\n",
    "    ax.legend()\n",
    "plt.tight_layout()"
   ]
  }
 ],
 "metadata": {
  "anaconda-cloud": {},
  "kernelspec": {
   "display_name": "Python [conda root]",
   "language": "python",
   "name": "conda-root-py"
  },
  "language_info": {
   "codemirror_mode": {
    "name": "ipython",
    "version": 3
   },
   "file_extension": ".py",
   "mimetype": "text/x-python",
   "name": "python",
   "nbconvert_exporter": "python",
   "pygments_lexer": "ipython3",
   "version": "3.5.2"
  },
  "widgets": {
   "state": {
    "006157cb141841d5ac6689c67f4ba432": {
     "views": [
      {
       "cell_index": 16
      }
     ]
    },
    "022595c70ccc42e888d5b7843b922826": {
     "views": [
      {
       "cell_index": 16
      }
     ]
    },
    "0432b60300274d36b2e03238e4a1e5a3": {
     "views": [
      {
       "cell_index": 16
      }
     ]
    },
    "04e94b78eba54c64a7f26ed2306908cc": {
     "views": [
      {
       "cell_index": 16
      }
     ]
    },
    "062b6d0f38b04729ad733c4afe8e3153": {
     "views": [
      {
       "cell_index": 16
      }
     ]
    },
    "066c4be5dbcd4e07bc1b05f250749ef1": {
     "views": [
      {
       "cell_index": 16
      }
     ]
    },
    "07ae9bfeec1f4c9c9517f7adb20f4d90": {
     "views": [
      {
       "cell_index": 12
      }
     ]
    },
    "07ce0651d509437fa061608600c16e91": {
     "views": [
      {
       "cell_index": 16
      }
     ]
    },
    "094f34cadb5c484f9063a90d1242f520": {
     "views": [
      {
       "cell_index": 16
      }
     ]
    },
    "09528513c92949adaedca7b710a1d89f": {
     "views": [
      {
       "cell_index": 12
      }
     ]
    },
    "0b5c5c7084c04f7c92d483003dbc52f0": {
     "views": [
      {
       "cell_index": 7
      }
     ]
    },
    "0c1b001d3c4d4a29a41af10955d83b46": {
     "views": [
      {
       "cell_index": 16
      }
     ]
    },
    "0c53a25c58c14394a2bb6406833cc163": {
     "views": [
      {
       "cell_index": 15
      }
     ]
    },
    "0d0f710ba5824b5fa5cf65fc07dff6b2": {
     "views": [
      {
       "cell_index": 16
      }
     ]
    },
    "0f0f3f733e90488c9cd134bbaa1bd5bf": {
     "views": [
      {
       "cell_index": 16
      }
     ]
    },
    "1035a0894ade49b985f1757fbc85658a": {
     "views": [
      {
       "cell_index": 16
      }
     ]
    },
    "104392ccd39f4a62b4d86e65d0c5224f": {
     "views": [
      {
       "cell_index": 12
      }
     ]
    },
    "11c7c46d66ab4263a53b11bc069ea342": {
     "views": [
      {
       "cell_index": 16
      }
     ]
    },
    "17aeb1cb69ad4d05a796bf355459cbbe": {
     "views": [
      {
       "cell_index": 16
      }
     ]
    },
    "1929e49da8fa41eba062fdb6830b0374": {
     "views": [
      {
       "cell_index": 12
      }
     ]
    },
    "199122b8ba0c4ae88dd8f5224f2c320b": {
     "views": [
      {
       "cell_index": 12
      }
     ]
    },
    "1aa43e50d6234a53991272a038379acf": {
     "views": [
      {
       "cell_index": 16
      }
     ]
    },
    "1aba8815e49e4a43af441328e2a6c33d": {
     "views": [
      {
       "cell_index": 16
      }
     ]
    },
    "1ddfebc7772d48d3a9bfd6d722d50308": {
     "views": [
      {
       "cell_index": 12
      }
     ]
    },
    "1e2758d95ae646ebba78f2f901aa083d": {
     "views": [
      {
       "cell_index": 16
      }
     ]
    },
    "24d6254fd91741c8b7eda0203b68dd66": {
     "views": [
      {
       "cell_index": 16
      }
     ]
    },
    "2536a9b02b7343f1a3baa91659f9bf12": {
     "views": [
      {
       "cell_index": 16
      }
     ]
    },
    "2688e3ac7d5a4deda5182f57953d4807": {
     "views": [
      {
       "cell_index": 16
      }
     ]
    },
    "27e3d2a265b74eb2943782164be79fc4": {
     "views": [
      {
       "cell_index": 14
      }
     ]
    },
    "2aea8d835123461296d1c6fa21fbaab2": {
     "views": [
      {
       "cell_index": 16
      }
     ]
    },
    "2f37013d75444a008c3f7f0f4a41d363": {
     "views": [
      {
       "cell_index": 14
      }
     ]
    },
    "32be597134974a3fafe1385ca2379620": {
     "views": [
      {
       "cell_index": 7
      }
     ]
    },
    "33ba16ab039a4618bf850037e3da9495": {
     "views": [
      {
       "cell_index": 12
      }
     ]
    },
    "33f184dc26f34606b7b351065442ef56": {
     "views": [
      {
       "cell_index": 16
      }
     ]
    },
    "3426111a9c994c9a95847adc55943881": {
     "views": [
      {
       "cell_index": 16
      }
     ]
    },
    "34c8763c79b545f3ae31ffd81e26c86d": {
     "views": [
      {
       "cell_index": 16
      }
     ]
    },
    "35f9eb45606e43f888400246ba665a84": {
     "views": [
      {
       "cell_index": 12
      }
     ]
    },
    "373621f890554b37b73143c6c21c7f53": {
     "views": [
      {
       "cell_index": 16
      }
     ]
    },
    "37e4b93cf7724e9a8cbdbd4aaf69e323": {
     "views": [
      {
       "cell_index": 16
      }
     ]
    },
    "3923c65e12e9487c9f0e8c570daac71c": {
     "views": [
      {
       "cell_index": 14
      }
     ]
    },
    "3a26dd61dee74e7db6b89478f6f7804b": {
     "views": [
      {
       "cell_index": 15
      }
     ]
    },
    "3b076684fc814cef8ce1d6eb9f1072d4": {
     "views": [
      {
       "cell_index": 12
      }
     ]
    },
    "3d70e530c7a64ac8ae49b54b3337f81e": {
     "views": [
      {
       "cell_index": 16
      }
     ]
    },
    "3dbca985c89b4ef4ae5661b10dcfe165": {
     "views": [
      {
       "cell_index": 7
      }
     ]
    },
    "3dc1042bec32478aab86efab2f20f6bb": {
     "views": [
      {
       "cell_index": 16
      }
     ]
    },
    "41da85ede16c4037bdeff58f59faeca3": {
     "views": [
      {
       "cell_index": 16
      }
     ]
    },
    "425cac95e4614b5f82a4a1a3fa54420c": {
     "views": [
      {
       "cell_index": 12
      }
     ]
    },
    "44be710bc02c4705a17a128c9c0f1779": {
     "views": [
      {
       "cell_index": 16
      }
     ]
    },
    "45dbb8b7e20d486b90a9ba33ff1e0b2c": {
     "views": [
      {
       "cell_index": 16
      }
     ]
    },
    "4636e34766f94b65923ccc614b119d0e": {
     "views": [
      {
       "cell_index": 12
      }
     ]
    },
    "468247db78ca40afadad80ceeb8526c1": {
     "views": [
      {
       "cell_index": 12
      }
     ]
    },
    "4758bd42dade4161bfef680a8f3bc0c0": {
     "views": [
      {
       "cell_index": 7
      }
     ]
    },
    "49d3bbf52993499d8c9da48fa8283ae9": {
     "views": [
      {
       "cell_index": 16
      }
     ]
    },
    "4acd9474e6334d3998ef26d699a94054": {
     "views": [
      {
       "cell_index": 12
      }
     ]
    },
    "4b296adbaf5d4f64862cbb1600b58465": {
     "views": [
      {
       "cell_index": 16
      }
     ]
    },
    "4c0166a7bd6a475b96456628af984fd5": {
     "views": [
      {
       "cell_index": 12
      }
     ]
    },
    "4e5e882e48be440c9bf5cacc1f53b41f": {
     "views": [
      {
       "cell_index": 12
      }
     ]
    },
    "4ed636448b8648ecb7e829c8777981ba": {
     "views": [
      {
       "cell_index": 16
      }
     ]
    },
    "4f18009dbe4c4cd8be1f591d3268e33d": {
     "views": [
      {
       "cell_index": 12
      }
     ]
    },
    "4fbe7cca4bb1493da1c248025ab66593": {
     "views": [
      {
       "cell_index": 7
      }
     ]
    },
    "53eb15368ee343b39ccdfd0a1fe22673": {
     "views": [
      {
       "cell_index": 16
      }
     ]
    },
    "55904a9583114f08ad409db4ff87e2b3": {
     "views": [
      {
       "cell_index": 14
      }
     ]
    },
    "562c72593f9a419f98537f7a0b3e6c64": {
     "views": [
      {
       "cell_index": 16
      }
     ]
    },
    "57de46a4f6a2428187ac3c61720898c4": {
     "views": [
      {
       "cell_index": 16
      }
     ]
    },
    "5931228d958e4a8789e51013ba82663f": {
     "views": [
      {
       "cell_index": 16
      }
     ]
    },
    "59d31bcb801a4ea2a0aac34eeeeb484b": {
     "views": [
      {
       "cell_index": 7
      }
     ]
    },
    "5cc1bf99a0a045e6923807403c898702": {
     "views": [
      {
       "cell_index": 16
      }
     ]
    },
    "5d1c2f73dbff48778cf092dc4074c4c8": {
     "views": [
      {
       "cell_index": 12
      }
     ]
    },
    "5f21477e826f42908cb188199aa7c519": {
     "views": [
      {
       "cell_index": 16
      }
     ]
    },
    "60ad4cc364d04554850cb5b9ab6c3dcf": {
     "views": [
      {
       "cell_index": 14
      }
     ]
    },
    "637b0df431b34cef91b144f3e0f48f87": {
     "views": [
      {
       "cell_index": 16
      }
     ]
    },
    "639324e970604f3b9d42fab5eade76b0": {
     "views": [
      {
       "cell_index": 12
      }
     ]
    },
    "63c8db2888fc4c58bb8b124a1f91cf29": {
     "views": [
      {
       "cell_index": 16
      }
     ]
    },
    "643e2d0d71844672a006336851543eee": {
     "views": [
      {
       "cell_index": 14
      }
     ]
    },
    "64eff3955cf4483893aff06c13253d1c": {
     "views": [
      {
       "cell_index": 16
      }
     ]
    },
    "666b9dd084d14e55a53964512f8d11ae": {
     "views": [
      {
       "cell_index": 14
      }
     ]
    },
    "66ddfac652394ccf97c058f661d08590": {
     "views": [
      {
       "cell_index": 16
      }
     ]
    },
    "672ac98705cb4f40a4293306db539161": {
     "views": [
      {
       "cell_index": 16
      }
     ]
    },
    "6845334cd9404488a47907e029731ef2": {
     "views": [
      {
       "cell_index": 16
      }
     ]
    },
    "6bb3a5b14bc748b1b18905be8d3714d5": {
     "views": [
      {
       "cell_index": 12
      }
     ]
    },
    "6be7ba42b50249f79769722319e3d776": {
     "views": [
      {
       "cell_index": 12
      }
     ]
    },
    "6c51096a0a7542da9ffba38b8d44ca63": {
     "views": [
      {
       "cell_index": 7
      }
     ]
    },
    "6de92e23209d4518b87e97a7ab2582be": {
     "views": [
      {
       "cell_index": 12
      }
     ]
    },
    "6f257788751d4960a55e3d645b90a7b4": {
     "views": [
      {
       "cell_index": 16
      }
     ]
    },
    "6f92faebee364b41b2cd90d965033c0f": {
     "views": [
      {
       "cell_index": 16
      }
     ]
    },
    "6f95a0c7f28849ebb0f92bca805a9bfe": {
     "views": [
      {
       "cell_index": 12
      }
     ]
    },
    "6fb3bfc824b2411b9d0bef6acf5de27a": {
     "views": [
      {
       "cell_index": 16
      }
     ]
    },
    "719cf6be7d0d48de8f5a1d4e44a41371": {
     "views": [
      {
       "cell_index": 16
      }
     ]
    },
    "71cad93f5051424591d96806cfc4e1a5": {
     "views": [
      {
       "cell_index": 16
      }
     ]
    },
    "723e42a1215d4cf6bda0617784bd577b": {
     "views": [
      {
       "cell_index": 16
      }
     ]
    },
    "727be2793d0f4ef0980ef19631429531": {
     "views": [
      {
       "cell_index": 16
      }
     ]
    },
    "72dfa82e9e36495b8dcb3a657edf192b": {
     "views": [
      {
       "cell_index": 16
      }
     ]
    },
    "741e68866d2e4bd2b58b669e9023a731": {
     "views": [
      {
       "cell_index": 14
      }
     ]
    },
    "792f1855eccc41d9b6443f5fe2671b5c": {
     "views": [
      {
       "cell_index": 16
      }
     ]
    },
    "7a80c1769c204c218da55c6f9d7d5980": {
     "views": [
      {
       "cell_index": 16
      }
     ]
    },
    "7c3154cdff2643808c517ef3bb98ce15": {
     "views": [
      {
       "cell_index": 16
      }
     ]
    },
    "7c8ea99c77bd4aa79490675e40a14952": {
     "views": [
      {
       "cell_index": 15
      }
     ]
    },
    "7ce6383438f84dbab1cd6f283bd47fe8": {
     "views": [
      {
       "cell_index": 7
      }
     ]
    },
    "7f0cdaca74c24ffcbf0bd532716d5458": {
     "views": [
      {
       "cell_index": 15
      }
     ]
    },
    "7f18e4a6fb374dfbae128528185c6ec5": {
     "views": [
      {
       "cell_index": 12
      }
     ]
    },
    "801a858136be4b798a11748272ab3405": {
     "views": [
      {
       "cell_index": 16
      }
     ]
    },
    "817fa5d41b3548129b2192484102e869": {
     "views": [
      {
       "cell_index": 12
      }
     ]
    },
    "81e0f023f4a84223a8a371b9e52d2c6f": {
     "views": [
      {
       "cell_index": 12
      }
     ]
    },
    "83891de26288414a969ed24ff9ae9f3b": {
     "views": [
      {
       "cell_index": 16
      }
     ]
    },
    "854246a7ec834631812020589a2df6c1": {
     "views": [
      {
       "cell_index": 7
      }
     ]
    },
    "85def42cbc3747e09dea9dd866e3d750": {
     "views": [
      {
       "cell_index": 12
      }
     ]
    },
    "86d8be9d3db6483a9af358b416fa6026": {
     "views": [
      {
       "cell_index": 16
      }
     ]
    },
    "87361efeb18c41c8885cbdf713b17267": {
     "views": [
      {
       "cell_index": 16
      }
     ]
    },
    "886e34329afd443baa01f68ed151e203": {
     "views": [
      {
       "cell_index": 16
      }
     ]
    },
    "887f3b8361d2438fa64a84ad344fae0e": {
     "views": [
      {
       "cell_index": 16
      }
     ]
    },
    "88bf81b7da2a458896a2e0c0387e6ca4": {
     "views": [
      {
       "cell_index": 12
      }
     ]
    },
    "8a185050996a4d10b63257d5929c9fd7": {
     "views": [
      {
       "cell_index": 12
      }
     ]
    },
    "8aca71eb83894109ba4572c8787b7c56": {
     "views": [
      {
       "cell_index": 16
      }
     ]
    },
    "8c83e86beb6347489ed78fe290224b35": {
     "views": [
      {
       "cell_index": 16
      }
     ]
    },
    "8cc15947efd445a0b83e88d283fb92e5": {
     "views": [
      {
       "cell_index": 16
      }
     ]
    },
    "8cca50d099bc48219905289453af13bb": {
     "views": [
      {
       "cell_index": 12
      }
     ]
    },
    "8db853bf324c42d8ad4fd75da59aa40e": {
     "views": [
      {
       "cell_index": 16
      }
     ]
    },
    "8f854f303cf7493080d145db3f9b5bcc": {
     "views": [
      {
       "cell_index": 12
      }
     ]
    },
    "8f893315726b439eb63c3e415100fdd2": {
     "views": [
      {
       "cell_index": 12
      }
     ]
    },
    "9008da07aea24686ba06ad99993e68f2": {
     "views": [
      {
       "cell_index": 12
      }
     ]
    },
    "90f2f1a13a8c4e1d8fe9b3e61491be89": {
     "views": [
      {
       "cell_index": 12
      }
     ]
    },
    "922350ab6cff4dfea3591d312628b2c1": {
     "views": [
      {
       "cell_index": 12
      }
     ]
    },
    "96c953dccda748baa42ebaead45d2455": {
     "views": [
      {
       "cell_index": 16
      }
     ]
    },
    "97539a997d3640409a9f91ffe9145e2f": {
     "views": [
      {
       "cell_index": 16
      }
     ]
    },
    "983d149429c34ee2a01f0814e19b81fb": {
     "views": [
      {
       "cell_index": 16
      }
     ]
    },
    "986233dd7cd7453f86cebd164017c094": {
     "views": [
      {
       "cell_index": 16
      }
     ]
    },
    "9a10f3fff50046a4863068918631c39f": {
     "views": [
      {
       "cell_index": 16
      }
     ]
    },
    "9a46d5c18d0540958e0d14fef6e1280c": {
     "views": [
      {
       "cell_index": 12
      }
     ]
    },
    "9a84ab77afa441ce9931b49ec66dbbc8": {
     "views": [
      {
       "cell_index": 16
      }
     ]
    },
    "9b6ec45a449042c7969900f875dfa6c8": {
     "views": [
      {
       "cell_index": 16
      }
     ]
    },
    "a00dfd093f8043ab8cdea9b3aae895c6": {
     "views": [
      {
       "cell_index": 12
      }
     ]
    },
    "a1c0a9f92e8840fbb0aa59253a9d1d5e": {
     "views": [
      {
       "cell_index": 16
      }
     ]
    },
    "a1ec2fb5e3714c8fbb268d50a09c1caf": {
     "views": [
      {
       "cell_index": 16
      }
     ]
    },
    "a2d4b7b1f7e84d8ca0a2c899140d6a5b": {
     "views": [
      {
       "cell_index": 12
      }
     ]
    },
    "a2f0dba1303047539bd7f098dc154168": {
     "views": [
      {
       "cell_index": 16
      }
     ]
    },
    "a3300cf96ae84672b133a510f231e75c": {
     "views": [
      {
       "cell_index": 12
      }
     ]
    },
    "a39bab1a3e0e4726a1a08e067d914686": {
     "views": [
      {
       "cell_index": 16
      }
     ]
    },
    "a46edccaf4ac416490b2abc7b227e3fb": {
     "views": [
      {
       "cell_index": 16
      }
     ]
    },
    "a6b1efbb3ce7483ab52beabcbfaf5640": {
     "views": [
      {
       "cell_index": 12
      }
     ]
    },
    "a90723508b83467baffd79003d7e7226": {
     "views": [
      {
       "cell_index": 16
      }
     ]
    },
    "abe3534ded214eb79ab8a83fe3d75945": {
     "views": [
      {
       "cell_index": 12
      }
     ]
    },
    "ac2cb21e50714bb29ba4986af352c848": {
     "views": [
      {
       "cell_index": 16
      }
     ]
    },
    "acb5d0d1b0c34b249f937304db284488": {
     "views": [
      {
       "cell_index": 15
      }
     ]
    },
    "ada4c9ef714e49bb837b593d1d4b4c9b": {
     "views": [
      {
       "cell_index": 12
      }
     ]
    },
    "af53e64f57e243679f46fe45bccbaf32": {
     "views": [
      {
       "cell_index": 12
      }
     ]
    },
    "af5fee77d5dc480088e33f221292cd7d": {
     "views": [
      {
       "cell_index": 16
      }
     ]
    },
    "b1572fa839d24125ba83a64127c91e24": {
     "views": [
      {
       "cell_index": 16
      }
     ]
    },
    "b4b0982888ae4b06b346d17059bd19df": {
     "views": [
      {
       "cell_index": 16
      }
     ]
    },
    "b5e6188a94b44bb39db22943b8a7efa9": {
     "views": [
      {
       "cell_index": 16
      }
     ]
    },
    "b706613514814013ab608771e141de42": {
     "views": [
      {
       "cell_index": 16
      }
     ]
    },
    "b7831572432a4c4fb5919c10d8b1b864": {
     "views": [
      {
       "cell_index": 14
      }
     ]
    },
    "b99c93ead8b744e7b0ad7ac33291d00f": {
     "views": [
      {
       "cell_index": 16
      }
     ]
    },
    "b9c416aa8cca499a86576555a9832a45": {
     "views": [
      {
       "cell_index": 16
      }
     ]
    },
    "ba07351031e14802b08898cdcea5b16c": {
     "views": [
      {
       "cell_index": 16
      }
     ]
    },
    "baa2acbc86f0479fa92781e76e73373a": {
     "views": [
      {
       "cell_index": 16
      }
     ]
    },
    "c08cef4d795d48dcb8fb75c9fb848760": {
     "views": [
      {
       "cell_index": 16
      }
     ]
    },
    "c27c3969a22d4bb480225e263d248fc8": {
     "views": [
      {
       "cell_index": 16
      }
     ]
    },
    "c3434d39067243b58376b51ecedd3c44": {
     "views": [
      {
       "cell_index": 16
      }
     ]
    },
    "c58f623741614bc28859711688bbb58c": {
     "views": [
      {
       "cell_index": 12
      }
     ]
    },
    "c5c0555b64db46a4bb8ffc516acb4b33": {
     "views": [
      {
       "cell_index": 12
      }
     ]
    },
    "c5e543e911074aab8a5c812705784833": {
     "views": [
      {
       "cell_index": 16
      }
     ]
    },
    "c5e77f1beb344af5b9b2f5f713f7eab4": {
     "views": [
      {
       "cell_index": 16
      }
     ]
    },
    "c78917d6bb984e9f850e146dab3e9f74": {
     "views": [
      {
       "cell_index": 16
      }
     ]
    },
    "c7aacc2ee8cd45e8b646b30796dbc083": {
     "views": [
      {
       "cell_index": 16
      }
     ]
    },
    "cb8d900744ca4724ba9c6e95e9fe6466": {
     "views": [
      {
       "cell_index": 16
      }
     ]
    },
    "cdc9f6e6b7fb452a885f9fc452716017": {
     "views": [
      {
       "cell_index": 14
      }
     ]
    },
    "ce520787cd3544e68e67c7e6a66217cc": {
     "views": [
      {
       "cell_index": 12
      }
     ]
    },
    "cf1d4f5e4a8743cd9da622a5f0db0416": {
     "views": [
      {
       "cell_index": 15
      }
     ]
    },
    "d07f7286959a4762b02f100248c6683e": {
     "views": [
      {
       "cell_index": 16
      }
     ]
    },
    "d0ad80120d394965a726fd0d677fd6ba": {
     "views": [
      {
       "cell_index": 16
      }
     ]
    },
    "d1b6e14078874709b27bda383c852f7e": {
     "views": [
      {
       "cell_index": 16
      }
     ]
    },
    "d2108a66bc7b4958818c57f40084b96a": {
     "views": [
      {
       "cell_index": 14
      }
     ]
    },
    "d33b240485dd4fe69b63fb8826ca64d3": {
     "views": [
      {
       "cell_index": 7
      }
     ]
    },
    "d4c40abec7114817b80f66d7e3885abd": {
     "views": [
      {
       "cell_index": 16
      }
     ]
    },
    "d5c0fea98b0d4f05a34521766ba4e77b": {
     "views": [
      {
       "cell_index": 12
      }
     ]
    },
    "d5c965c6e36f452da83550448f909309": {
     "views": [
      {
       "cell_index": 14
      }
     ]
    },
    "d75f500def5640f58af398a165394fed": {
     "views": [
      {
       "cell_index": 16
      }
     ]
    },
    "d810a1d06d1f47b88c22f13bed2b15e6": {
     "views": [
      {
       "cell_index": 16
      }
     ]
    },
    "d85ed93e6adc4300b760e024ec301eb7": {
     "views": [
      {
       "cell_index": 16
      }
     ]
    },
    "d95824ecc3d1440da4db5d8c04fa4068": {
     "views": [
      {
       "cell_index": 16
      }
     ]
    },
    "d9f465d68472414cacad73218205c9b8": {
     "views": [
      {
       "cell_index": 12
      }
     ]
    },
    "ddf97d65bd6e4e8b8ae0a18b8ff9aa1f": {
     "views": [
      {
       "cell_index": 12
      }
     ]
    },
    "de0cd792297247e4a1155c6e58cd283a": {
     "views": [
      {
       "cell_index": 14
      }
     ]
    },
    "de288aff4cde4e7fb5506ee8a3d81585": {
     "views": [
      {
       "cell_index": 16
      }
     ]
    },
    "dedce3ea92ce4336a7999dd66c96d96e": {
     "views": [
      {
       "cell_index": 12
      }
     ]
    },
    "df0a1468cb414386be9753493bd1e0e2": {
     "views": [
      {
       "cell_index": 12
      }
     ]
    },
    "e3cd2bfe673a4b1cada150f002452a3c": {
     "views": [
      {
       "cell_index": 12
      }
     ]
    },
    "e45c1304d97d45639daea375fac1d0b0": {
     "views": [
      {
       "cell_index": 15
      }
     ]
    },
    "e4ef969400b94fc38ff4e264db950b89": {
     "views": [
      {
       "cell_index": 15
      }
     ]
    },
    "e5bc19260e3340b7bc1b4e5068eaca8d": {
     "views": [
      {
       "cell_index": 16
      }
     ]
    },
    "e6e5f70f6f9c4f85a9d2231660a47acf": {
     "views": [
      {
       "cell_index": 12
      }
     ]
    },
    "e72cff8a140b4dfcbda515322d724fc1": {
     "views": [
      {
       "cell_index": 7
      }
     ]
    },
    "e8cf2916eaac4ecc99bb65c7a95e2766": {
     "views": [
      {
       "cell_index": 16
      }
     ]
    },
    "e9c5cc5139bd430b89737874bf900348": {
     "views": [
      {
       "cell_index": 16
      }
     ]
    },
    "ed0dd4ee374d4cae810fd7c5ec69d365": {
     "views": [
      {
       "cell_index": 16
      }
     ]
    },
    "eee36bbc10fd438daa2d71c9bc2f9a45": {
     "views": [
      {
       "cell_index": 12
      }
     ]
    },
    "f03c99ae5ae7452b9ae30e7f07819480": {
     "views": [
      {
       "cell_index": 16
      }
     ]
    },
    "f14114ad39c74d1f907a1c315ce2e97e": {
     "views": [
      {
       "cell_index": 16
      }
     ]
    },
    "f1468e884daa45fdadc3f00072a0c94e": {
     "views": [
      {
       "cell_index": 16
      }
     ]
    },
    "f34512f460fe4047a9c8e96300054440": {
     "views": [
      {
       "cell_index": 16
      }
     ]
    },
    "f50dc77d1cbf479d9cd5a08ab54d2545": {
     "views": [
      {
       "cell_index": 16
      }
     ]
    },
    "f57f131f279c46029391eec7ae616b77": {
     "views": [
      {
       "cell_index": 16
      }
     ]
    },
    "f5830520d38f4cafbfb32d09e67bc2af": {
     "views": [
      {
       "cell_index": 16
      }
     ]
    },
    "f6b61cffa20748858ba1c9060aec065a": {
     "views": [
      {
       "cell_index": 16
      }
     ]
    },
    "f706e80fd72a4018b37fe3272b0ec1e9": {
     "views": [
      {
       "cell_index": 16
      }
     ]
    },
    "f78ed97589074d5e80ce718af69b4362": {
     "views": [
      {
       "cell_index": 12
      }
     ]
    },
    "fb3c0ba118c146fc829a0f81dbdbad15": {
     "views": [
      {
       "cell_index": 16
      }
     ]
    },
    "fb4a70cf2aa44ff391a48be1ad23d44e": {
     "views": [
      {
       "cell_index": 16
      }
     ]
    },
    "fc69c583e58446f4a44c5a1d54d8872b": {
     "views": [
      {
       "cell_index": 16
      }
     ]
    },
    "fdf34af8e41c4f3fa925a4edacbcc81c": {
     "views": [
      {
       "cell_index": 16
      }
     ]
    },
    "fe1819d8e62642e681c74d99af963a06": {
     "views": [
      {
       "cell_index": 7
      }
     ]
    },
    "ffdd46e9978e476da2aa0a89143b5397": {
     "views": [
      {
       "cell_index": 16
      }
     ]
    }
   },
   "version": "1.2.0"
  }
 },
 "nbformat": 4,
 "nbformat_minor": 1
}
