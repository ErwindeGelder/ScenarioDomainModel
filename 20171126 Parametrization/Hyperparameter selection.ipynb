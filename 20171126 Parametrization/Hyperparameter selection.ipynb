{
 "cells": [
  {
   "cell_type": "markdown",
   "metadata": {},
   "source": [
    "# Method for selection of hyperparameters of parametrization"
   ]
  },
  {
   "cell_type": "code",
   "execution_count": null,
   "metadata": {
    "collapsed": true
   },
   "outputs": [],
   "source": [
    "import numpy as np\n",
    "import pickle\n",
    "from spline_inter1d import SplineInter1D, _Spline\n",
    "import matplotlib.pyplot as plt\n",
    "%matplotlib inline\n",
    "from kde import KDE\n",
    "from tqdm import tqdm_notebook as tqdm\n",
    "from sklearn.preprocessing import StandardScaler"
   ]
  },
  {
   "cell_type": "markdown",
   "metadata": {},
   "source": [
    "## Simplified example"
   ]
  },
  {
   "cell_type": "code",
   "execution_count": null,
   "metadata": {
    "collapsed": false
   },
   "outputs": [],
   "source": [
    "# Define the spline function that we later need\n",
    "spl_event = SplineInter1D([0, 1/2, 1], left_constraints=[1], right_constraints=[0])\n",
    "spl = _Spline(spl_event.t, spl_event.d, spl_event.thetafixed)\n",
    "def theta(thetatilde):\n",
    "    return spl_event.thetafixed + np.dot(spl_event.v2, thetatilde)\n",
    "def thetatilde(theta):\n",
    "    return np.dot(spl_event.v2.T, theta - spl_event.thetafixed)"
   ]
  },
  {
   "cell_type": "code",
   "execution_count": null,
   "metadata": {
    "collapsed": true
   },
   "outputs": [],
   "source": [
    "# This is the error function that measures how good the parameters 'z' fit with the curve y\n",
    "def error(y, z, sigma=0.1):\n",
    "    \"\"\"Determine the error\n",
    "    y is an test curve, evaluated at default x values\n",
    "    z is a vector containing the parameters from the kde\n",
    "    sigma 'Standard deviation', kind of allowed error\n",
    "    \"\"\"\n",
    "    # Construct spline and evaluate\n",
    "    spl.theta = theta(z)\n",
    "    yz = spl()\n",
    "    \n",
    "    # Return the function\n",
    "    # return np.mean(np.exp(-(y - yz)**2 / (2 * sigma**2))) / (sigma * np.sqrt(2*np.pi))\n",
    "    # return np.mean(-np.abs(y - yz) / sigma) - np.log(2 * sigma)\n",
    "    # return np.exp(-np.mean((y - yz)**2 / (2 * sigma * sigma)) / np.sqrt(2 * np.pi * sigma))\n",
    "    return np.exp(-np.mean(np.abs(y - yz) / sigma))"
   ]
  },
  {
   "cell_type": "code",
   "execution_count": null,
   "metadata": {
    "collapsed": false
   },
   "outputs": [],
   "source": [
    "# Do it for a very simple case\n",
    "t = np.linspace(0, 1, 100)\n",
    "spl(t)  # Sets the x-values\n",
    "v1 = -t**2 + 1\n",
    "v2 = t**2 -2*t + 1\n",
    "v3 = -t + 1\n",
    "coef_train = np.array([thetatilde(spl_event.fit(t, v1).theta), thetatilde(spl_event.fit(t, v2).theta)])\n",
    "plt.plot(t, v1, 'b', label='Training curve')\n",
    "plt.plot(t, v2, 'b')\n",
    "plt.plot(t, v3, 'r', label='Test curve')\n",
    "plt.xlabel('t')\n",
    "plt.ylabel('y')\n",
    "plt.legend()\n",
    "plt.grid('on')"
   ]
  },
  {
   "cell_type": "code",
   "execution_count": null,
   "metadata": {
    "collapsed": false
   },
   "outputs": [],
   "source": [
    "H = [0.01, 0.1, 0.2, 0.5, 1, 2]\n",
    "f, axs = plt.subplots(2, 3, figsize=(16, 8))\n",
    "for h, ax in zip(H, np.ravel(axs)):\n",
    "    kde = KDE(coef_train, bandwidth=h, scale_data=False)\n",
    "    kde.compute_kde()\n",
    "    for i in range(40):\n",
    "        z = kde.draw_random_sample(1)[0]\n",
    "        spl.theta = theta(z)\n",
    "        ax.plot(t, spl(t), color=[.5, .5, 1])\n",
    "    ax.set_title('h = {:.2f}'.format(h))\n",
    "    ax.set_xlabel('t')\n",
    "    ax.set_ylabel('y')\n",
    "    ax.grid('on')\n",
    "plt.tight_layout()"
   ]
  },
  {
   "cell_type": "code",
   "execution_count": null,
   "metadata": {
    "collapsed": false
   },
   "outputs": [],
   "source": [
    "N = 1000\n",
    "H = np.logspace(-2, 1, 31)\n",
    "Sigma = [0.005, 0.01, 0.05, 0.1, 0.5, 1]\n",
    "E = np.zeros((len(Sigma), len(H)))\n",
    "for isigma, sigma in enumerate(tqdm(Sigma)):\n",
    "    for ih, h in enumerate(tqdm(H, leave=False)):\n",
    "        kde = KDE(coef_train, bandwidth=h, scale_data=False)\n",
    "        kde.compute_kde()\n",
    "        e = np.zeros(N)\n",
    "        for i in range(N):\n",
    "            z = kde.draw_random_sample(1)[0]\n",
    "            e[i] = error(v3, z, sigma=sigma)\n",
    "        E[isigma, ih] = np.mean(e, axis=0)"
   ]
  },
  {
   "cell_type": "code",
   "execution_count": null,
   "metadata": {
    "collapsed": false
   },
   "outputs": [],
   "source": [
    "f, (ax1, ax2) = plt.subplots(1, 2, figsize=(16, 4))\n",
    "for sigma, e in zip(Sigma, E):\n",
    "    plthandle = ax1.semilogx(H, e, label='sigma = {:.3f}'.format(sigma))\n",
    "    ax1.plot(H[np.argmax(e)], np.max(e), 'x', color=plthandle[0].get_color(), ms=10, mew=3)\n",
    "    plthandle = ax2.semilogx(H, e / np.max(e), label='sigma = {:.3f}'.format(sigma))\n",
    "    ax2.plot(H[np.argmax(e)], 1, 'x', color=plthandle[0].get_color(), ms=10, mew=3)\n",
    "ax1.grid('on')\n",
    "ax1.set_xlabel('Bandwidth')\n",
    "ax1.set_ylabel('Score')\n",
    "ax2.grid('on')\n",
    "ax2.set_xlabel('Bandwidth')\n",
    "ax2.set_ylabel('Score normalized per curve')\n",
    "ax1.legend()"
   ]
  },
  {
   "cell_type": "markdown",
   "metadata": {},
   "source": [
    "## Real example"
   ]
  },
  {
   "cell_type": "code",
   "execution_count": null,
   "metadata": {
    "collapsed": true
   },
   "outputs": [],
   "source": [
    "with open('df.p', 'rb') as f:\n",
    "    (dfs, scaling) = pickle.load(f)"
   ]
  },
  {
   "cell_type": "code",
   "execution_count": null,
   "metadata": {
    "collapsed": false
   },
   "outputs": [],
   "source": [
    "# Compute the spline coefficients\n",
    "ncoefs = spl_event.v2.shape[1]\n",
    "coefs = np.zeros((len(dfs), ncoefs))\n",
    "for i, df in enumerate(tqdm(dfs)):\n",
    "    coefs[i] = thetatilde(spl_event.fit(df['time'], df['vel']).theta)\n",
    "scaler = StandardScaler()\n",
    "scaler.fit(np.concatenate((scaling.T, coefs)))"
   ]
  },
  {
   "cell_type": "code",
   "execution_count": null,
   "metadata": {
    "collapsed": false
   },
   "outputs": [],
   "source": [
    "np.corrcoef(np.random.randn(2, 5))"
   ]
  },
  {
   "cell_type": "code",
   "execution_count": null,
   "metadata": {
    "collapsed": true
   },
   "outputs": [],
   "source": []
  }
 ],
 "metadata": {
  "anaconda-cloud": {},
  "kernelspec": {
   "display_name": "Python [conda root]",
   "language": "python",
   "name": "conda-root-py"
  },
  "language_info": {
   "codemirror_mode": {
    "name": "ipython",
    "version": 3
   },
   "file_extension": ".py",
   "mimetype": "text/x-python",
   "name": "python",
   "nbconvert_exporter": "python",
   "pygments_lexer": "ipython3",
   "version": "3.5.2"
  }
 },
 "nbformat": 4,
 "nbformat_minor": 1
}
