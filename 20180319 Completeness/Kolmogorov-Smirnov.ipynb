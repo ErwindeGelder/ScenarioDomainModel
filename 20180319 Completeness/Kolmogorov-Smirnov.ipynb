{
 "cells": [
  {
   "cell_type": "markdown",
   "metadata": {},
   "source": [
    "# Kolmogorov-Smirnov"
   ]
  },
  {
   "cell_type": "code",
   "execution_count": null,
   "metadata": {},
   "outputs": [],
   "source": [
    "import numpy as np\n",
    "import time\n",
    "import matplotlib.pyplot as plt\n",
    "%matplotlib inline"
   ]
  },
  {
   "cell_type": "code",
   "execution_count": null,
   "metadata": {},
   "outputs": [],
   "source": [
    "# Define function for evaluating the KS-test\n",
    "# It is assumed that x contains y plus some more data\n",
    "def ks(x, y):\n",
    "    z = np.zeros_like(x)\n",
    "    x = np.sort(x)\n",
    "    y = np.sort(y)\n",
    "    x_cdf = np.linspace(1 / len(x), 1, len(x))\n",
    "    y_cdf = np.zeros_like(x_cdf)\n",
    "    j = 0\n",
    "    for i, xx in enumerate(x):\n",
    "        if y[j] <= xx:\n",
    "            j += 1\n",
    "            if j == len(y):\n",
    "                y_cdf[i:] = 1\n",
    "                break\n",
    "        y_cdf[i] = j / len(y)\n",
    "    return np.max(np.abs(x_cdf - y_cdf))"
   ]
  },
  {
   "cell_type": "markdown",
   "metadata": {},
   "source": [
    "## Show how the KS decays when 1 sample is added"
   ]
  },
  {
   "cell_type": "code",
   "execution_count": null,
   "metadata": {},
   "outputs": [],
   "source": [
    "N = 1000"
   ]
  },
  {
   "cell_type": "code",
   "execution_count": null,
   "metadata": {},
   "outputs": [],
   "source": [
    "# Compute the KS\n",
    "x = np.random.randn(N)\n",
    "ks1sample = np.zeros(N-1)\n",
    "for i in range(2, N+1):\n",
    "    ks1sample[i-2] = ks(x[:i], x[:i-1])"
   ]
  },
  {
   "cell_type": "code",
   "execution_count": null,
   "metadata": {},
   "outputs": [],
   "source": [
    "# Compute the bounds\n",
    "n = np.arange(2, N+1)\n",
    "upper_bound = 1 / n\n",
    "lower_bound = 1 / 2 / n"
   ]
  },
  {
   "cell_type": "code",
   "execution_count": null,
   "metadata": {},
   "outputs": [],
   "source": [
    "f, (ax1, ax2) = plt.subplots(1, 2, figsize=(12, 5))\n",
    "ax1.semilogy(n, ks1sample, '.')\n",
    "ax1.semilogy(n, upper_bound, 'r')\n",
    "ax1.semilogy(n, lower_bound, 'r')\n",
    "ax2.plot(n, (ks1sample - lower_bound) / (upper_bound - lower_bound), '.')\n",
    "ax2.plot(n, np.zeros_like(n), 'r')\n",
    "ax2.plot(n, np.ones_like(n), 'r')"
   ]
  },
  {
   "cell_type": "markdown",
   "metadata": {},
   "source": [
    "## Show how the KS decays when 2 samples are added"
   ]
  },
  {
   "cell_type": "code",
   "execution_count": null,
   "metadata": {},
   "outputs": [],
   "source": [
    "d = 2\n",
    "\n",
    "# Compute the KS\n",
    "x = np.random.randn(N)\n",
    "ksdsample = np.zeros(N-d)\n",
    "for i in range(1+d, N+1):\n",
    "    ksdsample[i-d-1] = ks(x[:i], x[:i-d])"
   ]
  },
  {
   "cell_type": "code",
   "execution_count": null,
   "metadata": {},
   "outputs": [],
   "source": [
    "# Compute the bounds\n",
    "n = np.arange(d+1, N+1)\n",
    "upper_bound = d / n\n",
    "lower_bound = 1 / 2 / n"
   ]
  },
  {
   "cell_type": "code",
   "execution_count": null,
   "metadata": {
    "scrolled": true
   },
   "outputs": [],
   "source": [
    "f, (ax1, ax2) = plt.subplots(1, 2, figsize=(12, 5))\n",
    "ax1.semilogy(n, ksdsample, '.')\n",
    "ax1.semilogy(n, upper_bound, 'r')\n",
    "ax1.semilogy(n, lower_bound, 'r')\n",
    "ax2.plot(n, (ksdsample - lower_bound) / (upper_bound - lower_bound), '.')\n",
    "ax2.plot(n, np.zeros_like(n), 'r')\n",
    "ax2.plot(n, np.ones_like(n), 'r')"
   ]
  },
  {
   "cell_type": "code",
   "execution_count": null,
   "metadata": {},
   "outputs": [],
   "source": [
    "N = 1000\n",
    "def show_for_d(d):\n",
    "    # Compute the KS\n",
    "    x = np.random.randn(N)\n",
    "    ksdsample = np.zeros(N-d)\n",
    "    for i in range(1+d, N+1):\n",
    "        ksdsample[i-d-1] = ks(x[:i], x[:i-d])\n",
    "        \n",
    "    # Compute the bounds\n",
    "    n = np.arange(d+1, N+1)\n",
    "    upper_bound = d / n\n",
    "    lower_bound = 1 / 2 / n\n",
    "    \n",
    "    # Plots\n",
    "    f, (ax1, ax2) = plt.subplots(1, 2, figsize=(12, 5))\n",
    "    ax1.semilogy(n, ksdsample, '.')\n",
    "    ax1.semilogy(n, upper_bound, 'r')\n",
    "    ax1.semilogy(n, lower_bound, 'r')\n",
    "    ax2.plot(n, (ksdsample - lower_bound) / (upper_bound - lower_bound), '.')\n",
    "    ax2.plot(n, np.zeros_like(n), 'r')\n",
    "    ax2.plot(n, np.ones_like(n), 'r')"
   ]
  },
  {
   "cell_type": "code",
   "execution_count": null,
   "metadata": {},
   "outputs": [],
   "source": [
    "show_for_d(100)"
   ]
  },
  {
   "cell_type": "code",
   "execution_count": null,
   "metadata": {},
   "outputs": [],
   "source": [
    "N = 10\n",
    "i = 5\n",
    "\n",
    "def ks(i, N):\n",
    "    n = np.arange(1, N+1)\n",
    "    F = n / N\n",
    "    g1 = n / (N - 1)\n",
    "    g2 = (n - 1) / (N - 1)\n",
    "    G = np.zeros_like(F)\n",
    "    G[:i] = g1[:i]\n",
    "    G[i:] = g2[i:]\n",
    "    return np.max(np.abs(F - G))"
   ]
  },
  {
   "cell_type": "code",
   "execution_count": null,
   "metadata": {},
   "outputs": [],
   "source": [
    "N = 9\n",
    "KS = [ks(i, N) for i in range(N)]\n",
    "plt.plot(KS)\n",
    "print(\"Max: {:.3f}\".format(np.max(KS)))\n",
    "print(\"Min: {:.3f}\".format(np.min(KS)))"
   ]
  },
  {
   "cell_type": "code",
   "execution_count": null,
   "metadata": {},
   "outputs": [],
   "source": [
    "def ks2(i, j, N):\n",
    "    n = np.arange(1, N+1)\n",
    "    F = n / N\n",
    "    g1 = n / (N - 2)\n",
    "    g2 = (n - 1) / (N - 2)\n",
    "    g3 = (n - 2) / (N - 2)\n",
    "    G = np.zeros_like(F)\n",
    "    G[:i] = g1[:i]\n",
    "    G[i:j] = g2[i:j]\n",
    "    G[j:] = g3[j:]\n",
    "    return(np.max(np.abs(F - G)))"
   ]
  },
  {
   "cell_type": "code",
   "execution_count": null,
   "metadata": {},
   "outputs": [],
   "source": [
    "N = 6\n",
    "KS = [[ks2(i, j, N) for i in range(j)] for j in range(1, N)]\n",
    "maxKS = np.max([np.max(x) for x in KS])\n",
    "minKS = np.min([np.min(x) for x in KS])\n",
    "print(\"Max: {:.10f}\".format(maxKS))\n",
    "print(\"Min: {:.10f}\".format(minKS))"
   ]
  },
  {
   "cell_type": "code",
   "execution_count": null,
   "metadata": {},
   "outputs": [],
   "source": [
    "KS"
   ]
  },
  {
   "cell_type": "code",
   "execution_count": null,
   "metadata": {},
   "outputs": [],
   "source": [
    "def ks3(i, j, k, N):\n",
    "    n = np.arange(1, N+1)\n",
    "    F = n / N\n",
    "    g1 = n / (N - 3)\n",
    "    g2 = (n - 1) / (N - 3)\n",
    "    g3 = (n - 2) / (N - 3)\n",
    "    g4 = (n - 3) / (N - 3)\n",
    "    G = np.zeros_like(F)\n",
    "    G[:i] = g1[:i]\n",
    "    G[i:j] = g2[i:j]\n",
    "    G[j:k] = g3[j:k]\n",
    "    G[k:] = g4[k:]\n",
    "    return(np.max(np.abs(F - G)))"
   ]
  },
  {
   "cell_type": "code",
   "execution_count": null,
   "metadata": {},
   "outputs": [],
   "source": [
    "N = 15\n",
    "KS = [[[ks3(i, j, k, N) for i in range(j)] for j in range(1, k)] for k in range(2, N)]\n",
    "maxKS = np.max([np.max([np.max(xx) for xx in x]) for x in KS])\n",
    "minKS = np.min([np.min([np.min(xx) for xx in x]) for x in KS])\n",
    "print(\"Max: {:.10f}\".format(maxKS))\n",
    "print(\"Min: {:.10f}\".format(minKS))"
   ]
  },
  {
   "cell_type": "code",
   "execution_count": null,
   "metadata": {
    "scrolled": false
   },
   "outputs": [],
   "source": [
    "KS"
   ]
  },
  {
   "cell_type": "code",
   "execution_count": null,
   "metadata": {},
   "outputs": [],
   "source": []
  },
  {
   "cell_type": "code",
   "execution_count": null,
   "metadata": {},
   "outputs": [],
   "source": []
  }
 ],
 "metadata": {
  "kernelspec": {
   "display_name": "Python 3",
   "language": "python",
   "name": "python3"
  },
  "language_info": {
   "codemirror_mode": {
    "name": "ipython",
    "version": 3
   },
   "file_extension": ".py",
   "mimetype": "text/x-python",
   "name": "python",
   "nbconvert_exporter": "python",
   "pygments_lexer": "ipython3",
   "version": "3.6.5"
  }
 },
 "nbformat": 4,
 "nbformat_minor": 2
}
