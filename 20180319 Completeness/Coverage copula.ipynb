{
 "cells": [
  {
   "cell_type": "code",
   "execution_count": null,
   "metadata": {},
   "outputs": [],
   "source": [
    "import numpy as np\n",
    "import matplotlib.pyplot as plt\n",
    "from fastkde import KDE\n",
    "from gaussianmixture import GaussianMixture\n",
    "from tqdm import tqdm_notebook as tqdm\n",
    "import scipy\n",
    "%matplotlib inline"
   ]
  },
  {
   "cell_type": "markdown",
   "metadata": {},
   "source": [
    "## Generate data"
   ]
  },
  {
   "cell_type": "code",
   "execution_count": null,
   "metadata": {},
   "outputs": [],
   "source": [
    "N = 200\n",
    "NPDF = 101\n",
    "SEED = 0\n",
    "XLIM = [-3, 3]\n",
    "MU = [[-1, -1], [1, 1]]\n",
    "SIGMA = [[[0.5, 0], [0, 0.5]]]*2\n",
    "\n",
    "# Create object for generating data from a Gaussian mixture\n",
    "GM = GaussianMixture(np.array(MU), np.array(SIGMA))\n",
    "\n",
    "# Generate data\n",
    "np.random.seed(SEED)\n",
    "X = GM.generate_samples(N)\n",
    "\n",
    "# Create the real pdfs\n",
    "(X1PDF, X2PDF), YPDFA = GM.pdf(minx=[XLIM[0], XLIM[0]], maxx=[XLIM[1], XLIM[1]], npoints=NPDF)"
   ]
  },
  {
   "cell_type": "markdown",
   "metadata": {},
   "source": [
    "## KDE fit"
   ]
  },
  {
   "cell_type": "code",
   "execution_count": null,
   "metadata": {},
   "outputs": [],
   "source": [
    "kde = KDE(X)\n",
    "kde.compute_bandwidth()\n",
    "kde.score_leave_one_out()"
   ]
  },
  {
   "cell_type": "code",
   "execution_count": null,
   "metadata": {},
   "outputs": [],
   "source": [
    "kdes = [KDE(X[:, i]) for i in range(2)]\n",
    "xpdf = np.linspace(XLIM[0], XLIM[1], NPDF)\n",
    "Xscaled = np.zeros_like(X)\n",
    "for i, k in enumerate(kdes):\n",
    "    k.compute_bandwidth()\n",
    "    k.set_score_samples(xpdf)\n",
    "    cdf = np.cumsum(k.score_samples())*np.gradient(xpdf)\n",
    "    Xscaled[:, i] = np.interp(X[:, i], xpdf, cdf)"
   ]
  },
  {
   "cell_type": "code",
   "execution_count": null,
   "metadata": {},
   "outputs": [],
   "source": [
    "copula = KDE(Xscaled)\n",
    "copula.compute_bandwidth()"
   ]
  },
  {
   "cell_type": "code",
   "execution_count": null,
   "metadata": {},
   "outputs": [],
   "source": [
    "copula.bandwidth"
   ]
  },
  {
   "cell_type": "code",
   "execution_count": null,
   "metadata": {},
   "outputs": [],
   "source": [
    "copula.score_leave_one_out()"
   ]
  },
  {
   "cell_type": "code",
   "execution_count": null,
   "metadata": {},
   "outputs": [],
   "source": [
    "kdes[0].score_leave_one_out() + kdes[1].score_leave_one_out()"
   ]
  },
  {
   "cell_type": "code",
   "execution_count": null,
   "metadata": {},
   "outputs": [],
   "source": [
    "kdes[0].set_score_samples(X[:, 0], compute_difference=True)\n",
    "kdes[1].set_score_samples(X[:, 1], compute_difference=True)"
   ]
  },
  {
   "cell_type": "code",
   "execution_count": null,
   "metadata": {},
   "outputs": [],
   "source": [
    "kdes[0].data_helpers['difference'].shape"
   ]
  },
  {
   "cell_type": "code",
   "execution_count": null,
   "metadata": {},
   "outputs": [],
   "source": [
    "np.sum(np.log(np.abs(kdes[0].gradient_samples())*np.abs(kdes[1].gradient_samples()))) + copula.score_leave_one_out()"
   ]
  },
  {
   "cell_type": "code",
   "execution_count": null,
   "metadata": {},
   "outputs": [],
   "source": []
  },
  {
   "cell_type": "code",
   "execution_count": null,
   "metadata": {},
   "outputs": [],
   "source": []
  },
  {
   "cell_type": "markdown",
   "metadata": {},
   "source": [
    "## One-dimensional case"
   ]
  },
  {
   "cell_type": "code",
   "execution_count": null,
   "metadata": {},
   "outputs": [],
   "source": [
    "N = 200\n",
    "NPDF = 1001\n",
    "SEED = 0\n",
    "XLIM = [-5, 5]\n",
    "MU = [-1, 1]\n",
    "SIGMA = [0.3, 0.5]\n",
    "NREPEATS = 5\n",
    "\n",
    "# Create object for generating data from a Gaussian mixture\n",
    "GM = GaussianMixture(np.array(MU), np.array(SIGMA))\n",
    "\n",
    "# Create the real pdfs\n",
    "(XPDF,), YPDF = GM.pdf(minx=[XLIM[0]], maxx=[XLIM[1]], npoints=NPDF)"
   ]
  },
  {
   "cell_type": "code",
   "execution_count": null,
   "metadata": {},
   "outputs": [],
   "source": [
    "# Functions needed for optimization\n",
    "def objective(alpha):\n",
    "    return 0.5*np.dot(np.dot(alpha, K), alpha)\n",
    "\n",
    "def jac(alpha):\n",
    "    return np.dot(alpha, K)\n",
    "\n",
    "def constraint(alpha):\n",
    "    return np.sum(alpha) - 1\n",
    "\n",
    "def jac_constraint(alpha):\n",
    "    return np.ones(N)\n",
    "\n",
    "def f(x):\n",
    "    if isinstance(x, (float, int)):\n",
    "        x = [x]\n",
    "    y = np.zeros(len(x))\n",
    "    for j, xx in enumerate(x):\n",
    "        summation = -rho\n",
    "        for i in range(N):\n",
    "            summation += alpha[i]*np.exp(-(X[i]-xx)**2/c)\n",
    "        y[j] = summation # np.sign(summation)\n",
    "    return y"
   ]
  },
  {
   "cell_type": "code",
   "execution_count": null,
   "metadata": {},
   "outputs": [],
   "source": [
    "np.random.seed(SEED)\n",
    "coverage = np.zeros(NREPEATS)\n",
    "size = np.zeros(NREPEATS)\n",
    "coverage2 = np.zeros(NREPEATS)\n",
    "size2 = np.zeros(NREPEATS)\n",
    "\n",
    "for i in tqdm(range(NREPEATS)):\n",
    "    # Generate data\n",
    "    X = GM.generate_samples(N)\n",
    "\n",
    "    # Estimate KDE\n",
    "    kde = KDE(X)\n",
    "    kde.compute_bandwidth()\n",
    "    kde.set_score_samples(XPDF)\n",
    "    ypdf_estimated = kde.score_samples()\n",
    "\n",
    "    # Estimate epsilon\n",
    "    dx = np.mean(np.diff(XPDF))\n",
    "    ypdf_sorted = np.sort(ypdf_estimated)\n",
    "    epsilon = np.interp(0.1, np.cumsum(ypdf_sorted*dx), ypdf_sorted)\n",
    "\n",
    "    # Calculate size of subset and its actual coverage\n",
    "    index = ypdf_estimated > epsilon\n",
    "    coverage[i] = np.sum(YPDF[index])*dx\n",
    "    size[i] = np.sum(index)*dx\n",
    "    \n",
    "    \n",
    "    # Constants that are used for optimization\n",
    "    c = 0.2\n",
    "    nu = 0.1\n",
    "    x0 = np.zeros(N)\n",
    "    random_indices = (np.random.rand(int(nu*N)+1)*N).astype(np.int)\n",
    "    x0[random_indices[:-1]] = 1/(nu*N)\n",
    "    x0[random_indices[-1]] = 1 - np.sum(x0)\n",
    "\n",
    "    # Compute Kernel matrix\n",
    "    K = np.eye(N)\n",
    "    for j in range(1, N):\n",
    "        for k in range(j):\n",
    "            K[j, k] = np.exp(-(X[j] - X[k])**2 / c)\n",
    "            K[k, j] = K[j, k]\n",
    "\n",
    "    # Perform optimization\n",
    "    result = scipy.optimize.minimize(objective, x0, bounds=((0, 1/(N*nu)),)*N, jac=jac,\n",
    "                                     constraints=dict(type='eq', fun=constraint, jac=jac_constraint))\n",
    "    \n",
    "    # Compute coverage and size\n",
    "    alpha = result.x\n",
    "    tmp = (0.2/(nu*N) < alpha)*(alpha < 0.8/(nu*N))\n",
    "    rho = np.dot(alpha, K)\n",
    "    rho = np.mean(rho[tmp])\n",
    "    y = f(XPDF)\n",
    "    index = y > 0\n",
    "    coverage2[i] = np.sum(YPDF[index])*dx\n",
    "    size2[i] = np.sum(index)*dx"
   ]
  },
  {
   "cell_type": "code",
   "execution_count": null,
   "metadata": {},
   "outputs": [],
   "source": [
    "coverage"
   ]
  },
  {
   "cell_type": "code",
   "execution_count": null,
   "metadata": {},
   "outputs": [],
   "source": [
    "coverage2"
   ]
  },
  {
   "cell_type": "code",
   "execution_count": null,
   "metadata": {},
   "outputs": [],
   "source": [
    "size"
   ]
  },
  {
   "cell_type": "code",
   "execution_count": null,
   "metadata": {},
   "outputs": [],
   "source": [
    "size2"
   ]
  }
 ],
 "metadata": {
  "kernelspec": {
   "display_name": "Python 3",
   "language": "python",
   "name": "python3"
  },
  "language_info": {
   "codemirror_mode": {
    "name": "ipython",
    "version": 3
   },
   "file_extension": ".py",
   "mimetype": "text/x-python",
   "name": "python",
   "nbconvert_exporter": "python",
   "pygments_lexer": "ipython3",
   "version": "3.7.3"
  }
 },
 "nbformat": 4,
 "nbformat_minor": 2
}
