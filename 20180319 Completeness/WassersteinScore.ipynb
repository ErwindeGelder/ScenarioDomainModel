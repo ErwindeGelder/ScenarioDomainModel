{
 "cells": [
  {
   "cell_type": "code",
   "execution_count": null,
   "metadata": {},
   "outputs": [],
   "source": [
    "import os\n",
    "import pickle\n",
    "import matplotlib.pyplot as plt\n",
    "import numpy as np\n",
    "import ot\n",
    "from tqdm import tqdm_notebook as tqdm\n",
    "from scipy.spatial import distance\n",
    "from scipy.stats import ttest_ind\n",
    "from sklearn.model_selection import train_test_split\n",
    "from stats import KDE"
   ]
  },
  {
   "cell_type": "code",
   "execution_count": null,
   "metadata": {},
   "outputs": [],
   "source": [
    "with open(os.path.join(\"pickles\", \"df.p\"), \"rb\") as file:\n",
    "    dfs, scaling = pickle.load(file)\n",
    "scaling = scaling.T   # [time vstart vend]"
   ]
  },
  {
   "cell_type": "code",
   "execution_count": null,
   "metadata": {},
   "outputs": [],
   "source": [
    "n = 50\n",
    "profiles = np.zeros((len(dfs), n))\n",
    "for i, df in enumerate(dfs):\n",
    "    profiles[i] = np.interp(np.linspace(0, 1, n), df[\"time\"], df[\"vel\"])\n",
    "profiles_scaled = np.zeros_like(profiles)\n",
    "for i in range(n):\n",
    "    profiles_scaled[:, i] = profiles[:, i]*(scaling[:, 1] - scaling[:, 2]) + scaling[:, 2]"
   ]
  },
  {
   "cell_type": "markdown",
   "metadata": {},
   "source": [
    "# Without scaling"
   ]
  },
  {
   "cell_type": "code",
   "execution_count": null,
   "metadata": {},
   "outputs": [],
   "source": [
    "indexa, indexb = train_test_split(np.arange(len(profiles)), test_size=.5, random_state=0)"
   ]
  },
  {
   "cell_type": "code",
   "execution_count": null,
   "metadata": {},
   "outputs": [],
   "source": [
    "scalinga, scalingb = scaling[indexa, :], scaling[indexb, :]\n",
    "profilesa, profilesb = profiles[indexa, :], profiles[indexb, :]\n",
    "pa, pb = profiles_scaled[indexa, :], profiles_scaled[indexb, :]\n",
    "ta, tb = scalinga[:, 0], scalingb[:, 0]"
   ]
  },
  {
   "cell_type": "code",
   "execution_count": null,
   "metadata": {},
   "outputs": [],
   "source": [
    "def approach0(profilesa):\n",
    "    return profilesa\n",
    "\n",
    "def approach1(profilesa):\n",
    "    return profilesa[np.random.choice(np.arange(len(profilesa)), len(profilesa)), :]\n",
    "\n",
    "def approach2(profilesa):\n",
    "    return np.array([np.linspace(1, 0, profilesa.shape[1]) for _ in range(profilesa.shape[0])])\n",
    "\n",
    "def approach3(profilesa):\n",
    "    profiles = np.zeros_like(profilesa)\n",
    "    x = np.linspace(0, 1, n)\n",
    "    for i in range(len(profilesa)):\n",
    "        b = -np.random.rand()*2\n",
    "        a = -1-b\n",
    "        profiles[i] = a*x**2 + b*x + 1\n",
    "    return profiles\n",
    "\n",
    "def approach4(profilesa, q=3):\n",
    "    profiles = np.zeros_like(profilesa)\n",
    "    mean = np.mean(profilesa, axis=0)\n",
    "    u,s,v = np.linalg.svd(profilesa-mean, full_matrices=False)\n",
    "    for i in range(len(profilesa)):\n",
    "        profiles[i] = np.dot(np.random.randn(q)*s[:q]/np.sqrt(profilesa.shape[0]), v[:q]) + mean\n",
    "    return profiles\n",
    "\n",
    "def approach5(profilesa):\n",
    "    profiles = approach1(profilesa)\n",
    "    x = np.linspace(0, 1, n)\n",
    "    for i in range(len(profilesa)):\n",
    "        b = (2*np.random.rand() - 1)*.1\n",
    "        a = -b\n",
    "        profiles[i] += a*x**2 + b*x\n",
    "    return profiles\n",
    "\n",
    "def approach6(profilesa, q=3):\n",
    "    profiles = np.zeros_like(profilesa)\n",
    "    mean = np.mean(profilesa, axis=0)\n",
    "    u,s,v = np.linalg.svd(profilesa-mean, full_matrices=False)\n",
    "    for i in range(len(profilesa)):\n",
    "        profiles[i] = np.dot(np.random.randn(q)*s[:q]/np.sqrt(profilesa.shape[0]), v[:q]) + mean\n",
    "    profiles[profiles > 1] = 1\n",
    "    profiles[profiles < 0] = 0\n",
    "    return profiles\n",
    "\n",
    "def approach7(profilesa, q=2):\n",
    "    profiles = np.zeros_like(profilesa)\n",
    "    mean = np.mean(profilesa, axis=0)\n",
    "    u,s,v = np.linalg.svd(profilesa-mean, full_matrices=False)\n",
    "    k = KDE(u[:, :q], scaling=True)\n",
    "    k.compute_bandwidth()\n",
    "    profiles = np.dot(k.sample(len(k.data)) * s[:q], v[:q]) + mean\n",
    "    profiles[profiles > 1] = 1\n",
    "    profiles[profiles < 0] = 0\n",
    "    return profiles"
   ]
  },
  {
   "cell_type": "code",
   "execution_count": null,
   "metadata": {},
   "outputs": [],
   "source": [
    "def score(approach, test):\n",
    "    return ot.emd2([], [], distance.cdist(test, approach))"
   ]
  },
  {
   "cell_type": "code",
   "execution_count": null,
   "metadata": {},
   "outputs": [],
   "source": [
    "np.random.seed(2)\n",
    "for i, method in enumerate([approach0, approach1, approach2, approach3, \n",
    "                            approach4, approach5, approach6, approach7]):\n",
    "    profiles = method(profilesa)\n",
    "    score1 = score(profiles, profilesb)\n",
    "    score2 = score(profiles, profilesa)\n",
    "    print(\"Method {:d}: {:.4f} {:.4f} {:.4f}\".format(i, score1, score2, 2*score1-score2))"
   ]
  },
  {
   "cell_type": "code",
   "execution_count": null,
   "metadata": {},
   "outputs": [],
   "source": [
    "np.random.seed(0)\n",
    "for i in range(30):\n",
    "    profiles = approach4(profilesa, q=i)\n",
    "    score1 = score(profiles, profilesb)\n",
    "    score2 = score(profiles, profilesa)\n",
    "    print(\"q={:2d}: {:.4f} {:.4f} {:.4f}\".format(i, score1, score2, 2*score1-score2))"
   ]
  },
  {
   "cell_type": "code",
   "execution_count": null,
   "metadata": {},
   "outputs": [],
   "source": [
    "np.random.seed(0)\n",
    "for i in range(10):\n",
    "    profiles = approach7(profilesa, q=i)\n",
    "    score1 = score(profiles, profilesb)\n",
    "    score2 = score(profiles, profilesa)\n",
    "    print(\"q={:2d}: {:.4f} {:.4f} {:.4f}\".format(i, score1, score2, 2*score1-score2))"
   ]
  },
  {
   "cell_type": "markdown",
   "metadata": {},
   "source": [
    "# With scaling"
   ]
  },
  {
   "cell_type": "code",
   "execution_count": null,
   "metadata": {},
   "outputs": [],
   "source": [
    "def score(p1, p2, t1, t2):\n",
    "    a = 50\n",
    "    s1 = np.hstack((t1[:, np.newaxis]*a, p1))\n",
    "    s2 = np.hstack((t2[:, np.newaxis]*a, p2))\n",
    "    return ot.emd2([], [], distance.cdist(s1, s2))"
   ]
  },
  {
   "cell_type": "code",
   "execution_count": null,
   "metadata": {},
   "outputs": [],
   "source": [
    "def approach0(pa, tt):\n",
    "    return pa, ta\n",
    "\n",
    "def approach1(pa, ta):\n",
    "    i = np.random.choice(np.arange(len(pa)), len(pa))\n",
    "    return pa[i, :], ta[i]\n",
    "\n",
    "def approach2(pa, ta):\n",
    "    data = np.array([pa[:, 0], pa[:, -1], np.log(ta)]).T\n",
    "    k = KDE(data, scaling=True)\n",
    "    k.compute_bandwidth()\n",
    "    p = np.zeros_like(pa)\n",
    "    t = np.zeros_like(ta)\n",
    "    for i in range(len(pa)):\n",
    "        pars = k.sample()[0]\n",
    "        pars[1] = max(pars[1], 0)\n",
    "        while pars[1] >= pars[0]:\n",
    "            pars = k.sample()[0]\n",
    "            pars[1] = max(pars[1], 0)\n",
    "        p[i] = np.linspace(pars[0], pars[1], pa.shape[1])\n",
    "        t[i] = np.exp(pars[2])\n",
    "    return p, t\n",
    "\n",
    "def approach3(pa, ta, q=2):\n",
    "    p = np.zeros_like(pa)\n",
    "    t = np.zeros_like(ta)\n",
    "    mean = np.mean(pa, axis=0)\n",
    "    u,s,v = np.linalg.svd(pa-mean, full_matrices=False)\n",
    "    k = KDE(np.hstack((np.log(ta)[:, np.newaxis], u[:, :q])), scaling=True)\n",
    "    k.compute_bandwidth(max_bw=k.silverman())\n",
    "    for i in range(len(pa)):\n",
    "        pars = k.sample()[0]\n",
    "        p[i] = np.dot(pars[1:]*s[:q], v[:q]) + mean\n",
    "        t[i] = np.exp(pars[0])\n",
    "    return p, t\n",
    "\n",
    "def approach4(pa, ta, q=2):\n",
    "    data = np.array([pa[:, 0], pa[:, -1], np.log(ta)]).T\n",
    "    k = KDE(data, scaling=True)\n",
    "    k.compute_bandwidth()\n",
    "    p = np.zeros_like(pa)\n",
    "    t = np.zeros_like(ta)\n",
    "    psvd = pa.copy()\n",
    "    for i in range(len(pa)):\n",
    "        psvd[i] = (psvd[i] - psvd[i, -1]) / (psvd[i, 0] - psvd[i, -1])\n",
    "    mean = np.mean(psvd, axis=0)\n",
    "    u,s,v = np.linalg.svd(psvd-mean, full_matrices=False)\n",
    "    for i in range(len(pa)):\n",
    "        pars = k.sample()[0]\n",
    "        pars[1] = max(pars[1], 0)\n",
    "        while pars[1] > pars[0] or pars[1] < 0:\n",
    "            pars = k.sample()[0]\n",
    "            pars[1] = max(pars[1], 0)\n",
    "        p[i] = np.dot(np.random.randn(q)*s[:q]/np.sqrt(pa.shape[0]), v[:q]) + mean\n",
    "        p[i] = p[i] * (pars[0] - pars[1]) + pars[1]\n",
    "        t[i] = np.exp(pars[2])\n",
    "    return p, t\n",
    "\n",
    "def approach5(pa, ta, q=3, a=50):\n",
    "    p = np.zeros_like(pa)\n",
    "    t = np.zeros_like(ta)\n",
    "    svd = np.hstack((a*np.log(ta)[:, np.newaxis], pa))\n",
    "    mean = np.mean(svd, axis=0)\n",
    "    u,s,v = np.linalg.svd(svd-mean, full_matrices=False)\n",
    "    k = KDE(u[:, :q], scaling=True)\n",
    "    k.compute_bandwidth()\n",
    "    for i in range(len(pa)):\n",
    "        pars = k.sample()[0]\n",
    "        tmp = np.dot(pars*s[:q], v[:q]) + mean\n",
    "        p[i] = tmp[1:]\n",
    "        t[i] = np.exp(tmp[0]/a)\n",
    "    return p, t"
   ]
  },
  {
   "cell_type": "code",
   "execution_count": null,
   "metadata": {
    "scrolled": false
   },
   "outputs": [],
   "source": [
    "for i, method in enumerate([approach0, approach1, approach2, approach3, approach4, approach5]):\n",
    "    np.random.seed(2)\n",
    "    p, t = method(pa, ta)\n",
    "    score1 = score(p, pb, t, tb)\n",
    "    score2 = score(p, pa, t, ta)\n",
    "    print(\"Method {:d}: {:.4f} {:.4f} {:.4f}\".format(i, score1, score2, 2*score1-score2))"
   ]
  },
  {
   "cell_type": "code",
   "execution_count": null,
   "metadata": {},
   "outputs": [],
   "source": [
    "np.random.seed(0)\n",
    "for i in range(0, 10):\n",
    "    p, t = approach5(pa, ta, q=i)\n",
    "    score1 = score(p, pb, t, tb)\n",
    "    score2 = score(p, pa, t, ta)\n",
    "    print(\"q={:2d}: {:.4f} {:.4f} {:.4f}\".format(i, score1, score2, 2*score1-score2))"
   ]
  },
  {
   "cell_type": "markdown",
   "metadata": {},
   "source": [
    "## Perform comparison multiple times"
   ]
  },
  {
   "cell_type": "code",
   "execution_count": null,
   "metadata": {},
   "outputs": [],
   "source": [
    "nrepeat = 50\n",
    "qmax = 4\n",
    "np.random.seed(0)\n",
    "scores1 = np.zeros((nrepeat, qmax+2))\n",
    "scores2 = np.zeros_like(scores1)\n",
    "for i in tqdm(range(nrepeat)):\n",
    "    indexa, indexb = train_test_split(np.arange(len(dfs)), test_size=.5, random_state=i)\n",
    "    scalinga, scalingb = scaling[indexa, :], scaling[indexb, :]\n",
    "    pa, pb = profiles_scaled[indexa, :], profiles_scaled[indexb, :]\n",
    "    ta, tb = scalinga[:, 0], scalingb[:, 0]\n",
    "    \n",
    "    # Using the default.\n",
    "    scores1[i, 0] = score(pa, pb, ta, tb)\n",
    "    \n",
    "    # Using approach 3 with different q values.\n",
    "    for q in range(0, qmax+1):\n",
    "        p, t = approach3(pa, ta, q=q)\n",
    "        scores1[i, q+1] = score(p, pb, t, tb)\n",
    "        scores2[i, q+1] = score(p, pa, t, ta)\n",
    "scores = 2*scores1 - scores2"
   ]
  },
  {
   "cell_type": "code",
   "execution_count": null,
   "metadata": {
    "scrolled": true
   },
   "outputs": [],
   "source": [
    "plt.boxplot(scores)\n",
    "_ = plt.xticks(np.arange(1, qmax+3), [\"Training set\"]+[\"q={:d}\".format(q) for q in range(qmax+2)])"
   ]
  },
  {
   "cell_type": "code",
   "execution_count": null,
   "metadata": {},
   "outputs": [],
   "source": [
    "score_difference = scores[:, 1:].copy()\n",
    "for q in range(qmax+1):\n",
    "    score_difference[:, q] = score_difference[:, q] - scores[:, 0]\n",
    "plt.boxplot(score_difference)\n",
    "_ = plt.xticks(np.arange(1, qmax+2), [\"q={:d}\".format(q) for q in range(qmax+1)])"
   ]
  },
  {
   "cell_type": "code",
   "execution_count": null,
   "metadata": {},
   "outputs": [],
   "source": [
    "import scipy.stats"
   ]
  },
  {
   "cell_type": "code",
   "execution_count": null,
   "metadata": {},
   "outputs": [],
   "source": [
    "a = np.random.randn(1000)"
   ]
  },
  {
   "cell_type": "code",
   "execution_count": null,
   "metadata": {},
   "outputs": [],
   "source": [
    "scipy.stats.iqr(a)"
   ]
  },
  {
   "cell_type": "code",
   "execution_count": null,
   "metadata": {},
   "outputs": [],
   "source": [
    "np.percentile(a, 75) - np.percentile(a, 25)"
   ]
  }
 ],
 "metadata": {
  "kernelspec": {
   "display_name": "Python 3",
   "language": "python",
   "name": "python3"
  },
  "language_info": {
   "codemirror_mode": {
    "name": "ipython",
    "version": 3
   },
   "file_extension": ".py",
   "mimetype": "text/x-python",
   "name": "python",
   "nbconvert_exporter": "python",
   "pygments_lexer": "ipython3",
   "version": "3.7.3"
  }
 },
 "nbformat": 4,
 "nbformat_minor": 2
}
