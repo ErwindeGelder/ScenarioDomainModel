{
 "cells": [
  {
   "cell_type": "markdown",
   "metadata": {},
   "source": [
    "# Completeness"
   ]
  },
  {
   "cell_type": "code",
   "execution_count": null,
   "metadata": {
    "collapsed": true
   },
   "outputs": [],
   "source": [
    "from profile_generation import ProfileGeneration\n",
    "import numpy as np\n",
    "import matplotlib.pyplot as plt\n",
    "from kde import KDE\n",
    "from tqdm import tqdm_notebook as tqdm\n",
    "%matplotlib inline\n",
    "from matplotlib2tikz import save as tikz_save\n",
    "import os\n",
    "import pickle\n",
    "\n",
    "import matplotlib\n",
    "matplotlib.rcParams['text.usetex'] = True\n",
    "matplotlib.rcParams['text.latex.unicode'] = True\n",
    "\n",
    "%load_ext autoreload\n",
    "%autoreload 2"
   ]
  },
  {
   "cell_type": "code",
   "execution_count": null,
   "metadata": {
    "collapsed": true
   },
   "outputs": [],
   "source": [
    "# General parameters\n",
    "overwrite = False"
   ]
  },
  {
   "cell_type": "code",
   "execution_count": null,
   "metadata": {
    "collapsed": true
   },
   "outputs": [],
   "source": [
    "# Method for converting figure to tikz\n",
    "tikz_folder = 'figures'\n",
    "def tikz(name, extras=None):\n",
    "    # Convert to tikz\n",
    "    if extras is None:\n",
    "        extras = []\n",
    "    tikz_save(os.path.join(tikz_folder, '{:s}.tikz'.format(name)),\n",
    "              figureheight='\\\\figureheight', figurewidth='\\\\figurewidth',\n",
    "              extra_axis_parameters=extras, show_info=False) "
   ]
  },
  {
   "cell_type": "code",
   "execution_count": null,
   "metadata": {
    "collapsed": false
   },
   "outputs": [],
   "source": [
    "# Generate profile\n",
    "pg = ProfileGeneration()\n",
    "pg.sigma_vel = 0\n",
    "v, y = pg.generate_profile(1000)\n",
    "t = np.arange(len(y)) * pg.ts\n",
    "def running_mean(x, N):\n",
    "    return np.convolve(x, np.ones((N,))/N, mode='same')\n",
    "a = running_mean(np.gradient(v, 2)/pg.ts, 5)  # Use second order"
   ]
  },
  {
   "cell_type": "code",
   "execution_count": null,
   "metadata": {
    "collapsed": false
   },
   "outputs": [],
   "source": [
    "tend = 500\n",
    "iend = np.searchsorted(t, tend)\n",
    "plt.plot(t[0:iend:10], v[0:iend:10], linewidth=5)\n",
    "plt.xlabel('Time [s]')\n",
    "plt.ylabel('Speed [m/s]')\n",
    "plt.grid('on')\n",
    "plt.xlim([0, tend])\n",
    "ievent = np.where(np.diff(y) != 0)[0]\n",
    "ylim = plt.ylim()\n",
    "for i in ievent:\n",
    "    if t[i] > tend:\n",
    "        break\n",
    "    else:\n",
    "        plt.plot([t[i], t[i]], ylim, 'k')\n",
    "plt.ylim(ylim)\n",
    "tikz('artificial_data')"
   ]
  },
  {
   "cell_type": "markdown",
   "metadata": {},
   "source": [
    "# Wang's method"
   ]
  },
  {
   "cell_type": "markdown",
   "metadata": {},
   "source": [
    "## Univariate distributions"
   ]
  },
  {
   "cell_type": "code",
   "execution_count": null,
   "metadata": {
    "collapsed": true
   },
   "outputs": [],
   "source": [
    "# Parameters\n",
    "mm = [500, 1000, 2000, 4000, 6000, 8000, 10000]\n",
    "eps = 1e-3\n",
    "tol = 1e-6\n",
    "\n",
    "evaluate_kde_v = np.linspace(np.min(v)-0.5*np.std(v), np.max(v)+0.5*np.std(v), 100)\n",
    "evaluate_kde_a = np.linspace(np.min(a)-0.5*np.std(a), np.max(a)+0.5*np.std(a), 100)"
   ]
  },
  {
   "cell_type": "code",
   "execution_count": null,
   "metadata": {
    "collapsed": true
   },
   "outputs": [],
   "source": [
    "def silverman(x):\n",
    "    return 1.06 * np.std(x) / (len(x) ** (1/5))"
   ]
  },
  {
   "cell_type": "code",
   "execution_count": null,
   "metadata": {
    "collapsed": false,
    "scrolled": false
   },
   "outputs": [],
   "source": [
    "pickle_file = os.path.join('pickles', 'kls.p')\n",
    "if os.path.exists(pickle_file) and not overwrite:\n",
    "    with open(pickle_file, 'rb') as f:\n",
    "        mm, klsv, klsa = pickle.load(f)\n",
    "else:\n",
    "    klsv, klsa = [], []\n",
    "    for m in tqdm(mm):\n",
    "        p_kdes_v = np.zeros((len(v)//m, len(evaluate_kde_v)))\n",
    "        p_kdes_a = np.zeros((len(a)//m, len(evaluate_kde_a)))\n",
    "        for i, n in enumerate(tqdm(range(m, len(v), m), leave=False)):\n",
    "            kde = KDE(data=v[:n, np.newaxis], bandwidth=silverman(v[:n]))\n",
    "            kde.compute_kde()\n",
    "            p_kdes_v[i] = np.exp(kde.kde.score_samples(evaluate_kde_v[:, np.newaxis]))\n",
    "            kde = KDE(data=a[:n, np.newaxis], bandwidth=silverman(a[:n]))\n",
    "            kde.compute_kde()\n",
    "            p_kdes_a[i] = np.exp(kde.kde.score_samples(evaluate_kde_a[:, np.newaxis]))\n",
    "        kl = [np.sum(f[f >= tol] * np.log(f[f >= tol] / g[f >= tol]))*np.mean(np.diff(evaluate_kde_v))\n",
    "              for g, f in zip(p_kdes_v[:-1], p_kdes_v[1:])]\n",
    "        klsv.append(kl)\n",
    "        kl = [np.sum(f[f >= tol] * np.log(f[f >= tol] / g[f >= tol]))*np.mean(np.diff(evaluate_kde_a))\n",
    "              for g, f in zip(p_kdes_a[:-1], p_kdes_a[1:])]\n",
    "        klsa.append(kl)\n",
    "    with open(pickle_file, 'wb') as f:\n",
    "        pickle.dump((mm, klsv, klsa), f)"
   ]
  },
  {
   "cell_type": "code",
   "execution_count": null,
   "metadata": {
    "collapsed": false
   },
   "outputs": [],
   "source": [
    "for m, kl in zip(mm, klsv):\n",
    "    plt.plot(t[np.arange(1, len(kl)+1, dtype=np.int)*m]/60, kl)\n",
    "    i = next((i for i, x in enumerate(np.abs(np.diff(kl))) if x < eps), -1)\n",
    "    print('{:9s} : '.format('m = {:d}'.format(m)), end='')\n",
    "    if i == -1:\n",
    "        print('Completeness not reached')\n",
    "    else:\n",
    "        print('Completeness reached at t={:.0f} min'.format(t[(i+1)*m]/60))\n",
    "plt.ylim([0, 1])\n",
    "plt.xlabel('Minutes')"
   ]
  },
  {
   "cell_type": "code",
   "execution_count": null,
   "metadata": {
    "collapsed": false,
    "scrolled": false
   },
   "outputs": [],
   "source": [
    "for m, kl in zip(mm, klsa):\n",
    "    plt.plot(t[np.arange(1, len(kl)+1, dtype=np.int)*m]/60, kl)\n",
    "    i = next((i for i, x in enumerate(np.abs(np.diff(kl))) if x < eps), -1)\n",
    "    print('{:9s} : '.format('m = {:d}'.format(m)), end='')\n",
    "    if i == -1:\n",
    "        print('Completeness not reached')\n",
    "    else:\n",
    "        print('Completeness reached at t={:.0f} min'.format(t[(i+1)*m]/60))\n",
    "plt.ylim([0, 0.01])\n",
    "plt.xlabel('Minutes')"
   ]
  },
  {
   "cell_type": "code",
   "execution_count": null,
   "metadata": {
    "collapsed": false
   },
   "outputs": [],
   "source": [
    "i = 2\n",
    "m = mm[i]\n",
    "print(\"Plot result for m = {:d}\".format(m))\n",
    "plt.plot(t[np.arange(1, len(klsv[i])+1, dtype=np.int)*m]/60, np.array(klsv[i])*1e3, 'b-', label='Speed')\n",
    "plt.plot(t[np.arange(1, len(klsa[i])+1, dtype=np.int)*m]/60, np.array(klsa[i])*1e3, 'r--', label='Acceleration')\n",
    "plt.legend()\n",
    "plt.xlabel(r'Time [min]')\n",
    "plt.ylabel(r'KL divergence $\\times$ $10^3$')\n",
    "plt.ylim([0, 10])\n",
    "plt.grid('on')\n",
    "tikz('kl_sample_based')"
   ]
  },
  {
   "cell_type": "markdown",
   "metadata": {},
   "source": [
    "## Likelihood of measurements"
   ]
  },
  {
   "cell_type": "code",
   "execution_count": null,
   "metadata": {
    "collapsed": true
   },
   "outputs": [],
   "source": [
    "# Parameters\n",
    "mm = [500, 1000, 2000, 4000, 6000, 8000, 10000]"
   ]
  },
  {
   "cell_type": "code",
   "execution_count": null,
   "metadata": {
    "collapsed": false
   },
   "outputs": [],
   "source": [
    "filename = 'likelihood_samples.p'\n",
    "if os.path.exists(filename) and not overwrite:\n",
    "    with open(filename, 'rb') as f:\n",
    "        JJ = pickle.load(f)\n",
    "else:\n",
    "    JJ = []\n",
    "    for m in tqdm(mm):\n",
    "        J = np.zeros(len(v)//m-1)\n",
    "        for i, n in enumerate(range(m, len(v)-m, m)):\n",
    "            std = np.std(v[:n])\n",
    "            kde = KDE(data=v[:n, np.newaxis]/std, bandwidth=silverman(v[:n]/std))\n",
    "            kde.compute_kde()\n",
    "            J[i] = kde.kde.score(v[n:n+m, np.newaxis]/std)\n",
    "        JJ.append(J)\n",
    "    with open(filename, 'wb') as f:\n",
    "        pickle.dump(JJ, f)"
   ]
  },
  {
   "cell_type": "code",
   "execution_count": null,
   "metadata": {
    "collapsed": false
   },
   "outputs": [],
   "source": [
    "kde = KDE(data=v[:, np.newaxis]/np.std(v), bandwidth=silverman(v/np.std(v)))\n",
    "kde.compute_kde()\n",
    "logp = kde.kde.score_samples(evaluate_kde_v[:, np.newaxis]/np.std(v))\n",
    "entropy = -np.trapz(np.exp(logp) * logp, x=evaluate_kde_v/np.std(v))\n",
    "plt.plot(evaluate_kde_v/np.std(v), np.exp(logp))\n",
    "print(\"Entropy: {:.3f}\".format(entropy))"
   ]
  },
  {
   "cell_type": "code",
   "execution_count": null,
   "metadata": {
    "collapsed": false
   },
   "outputs": [],
   "source": [
    "for m, J in zip(mm, JJ):\n",
    "    plt.plot(t[np.arange(1, len(J)+1, dtype=np.int)*m]/60, J/m)\n",
    "plt.ylim([-4, 0])"
   ]
  },
  {
   "cell_type": "code",
   "execution_count": null,
   "metadata": {
    "collapsed": false,
    "scrolled": true
   },
   "outputs": [],
   "source": [
    "i = 2\n",
    "m = mm[i]\n",
    "entropy = np.zeros(len(v) // m - 1)\n",
    "for j, n in enumerate(tqdm(range(m, len(v)-m, m))):\n",
    "    std = np.std(v[:n])\n",
    "    kde = KDE(data=v[:n, np.newaxis]/std, bandwidth=silverman(v[:n]/std))\n",
    "    kde.compute_kde()\n",
    "    logp = kde.kde.score_samples(evaluate_kde_v[:, np.newaxis]/np.std(v))\n",
    "    entropy[j] = -np.trapz(np.exp(logp) * logp, x=evaluate_kde_v/np.std(v))"
   ]
  },
  {
   "cell_type": "code",
   "execution_count": null,
   "metadata": {
    "collapsed": false
   },
   "outputs": [],
   "source": [
    "print('m = {:d}'.format(m))\n",
    "J = JJ[i]\n",
    "plt.plot(t[np.arange(1, len(J)+1, dtype=int)*m]/60, J/m, 'b-', label=r'$\\ln J(n)$')\n",
    "plt.plot(t[np.arange(1, len(J)+1, dtype=int)*m]/60, -entropy, 'r--', label=r'$-\\hat{\\textup{H}}[x;n]$')\n",
    "plt.ylim([-3, 0])\n",
    "plt.xlabel(r'Time [min]')\n",
    "plt.legend()\n",
    "plt.grid('on')\n",
    "tikz('likelihood_samplebased')"
   ]
  },
  {
   "cell_type": "markdown",
   "metadata": {
    "collapsed": true
   },
   "source": [
    "## Extract activities"
   ]
  },
  {
   "cell_type": "code",
   "execution_count": null,
   "metadata": {
    "collapsed": false
   },
   "outputs": [],
   "source": [
    "ievent = np.where(np.diff(y) != 0)[0]\n",
    "nevent = len(ievent)\n",
    "nfeatures = 3  # End speed, speed diff, time diff\n",
    "features = np.zeros((nevent, nfeatures))\n",
    "istart = 0\n",
    "for i, iend in enumerate(ievent):\n",
    "    vevent = v[istart:iend+1]\n",
    "    tevent = t[istart:iend+1]\n",
    "    features[i, 0] = vevent[-1]\n",
    "    features[i, 1] = vevent[-1] - vevent[0]\n",
    "    features[i, 2] = tevent[-1] - tevent[0]\n",
    "    istart = iend+1\n",
    "tevent = t[ievent+1]"
   ]
  },
  {
   "cell_type": "markdown",
   "metadata": {},
   "source": [
    "## KL for activities features"
   ]
  },
  {
   "cell_type": "code",
   "execution_count": null,
   "metadata": {
    "collapsed": true
   },
   "outputs": [],
   "source": [
    "# Parameters\n",
    "mm = [5, 10, 15, 20]"
   ]
  },
  {
   "cell_type": "code",
   "execution_count": null,
   "metadata": {
    "collapsed": false
   },
   "outputs": [],
   "source": [
    "feature_evaluate = np.zeros((100, nfeatures))\n",
    "for j in range(nfeatures):\n",
    "    feature_evaluate[:, j] = np.linspace(np.min(features[:, j]) - 0.5*np.std(features[:, j]), \n",
    "                                         np.max(features[:, j]) + 0.5*np.std(features[:, j]), \n",
    "                                         feature_evaluate.shape[0])\n",
    "pdfss = []\n",
    "for m in tqdm(mm):\n",
    "    pdfs = np.zeros((nevent//m-1, nfeatures, feature_evaluate.shape[0]))\n",
    "    for i, n in enumerate(range(m, nevent-m, m)):\n",
    "        for j in range(nfeatures):\n",
    "            kde = KDE(data=features[:n, j:j+1], bandwidth=silverman(features[:n, j]))\n",
    "            kde.compute_kde()\n",
    "            pdfs[i, j, :] = np.exp(kde.kde.score_samples(feature_evaluate[:, j:j+1]))\n",
    "    pdfss.append(pdfs)"
   ]
  },
  {
   "cell_type": "code",
   "execution_count": null,
   "metadata": {
    "collapsed": false,
    "scrolled": true
   },
   "outputs": [],
   "source": [
    "klss = []\n",
    "for m, pdfs in zip(mm, pdfss):\n",
    "    kls = np.zeros((nevent//m-2, nfeatures))\n",
    "    for j in range(nfeatures):\n",
    "        kls[:, j] = [np.sum(f[f >= tol] * np.log(f[f >= tol] / g[f >= tol]))*np.mean(np.diff(feature_evaluate[:, j]))\n",
    "                     for g, f in zip(pdfs[:-1, j], pdfs[1:, j])]\n",
    "    klss.append(kls)"
   ]
  },
  {
   "cell_type": "code",
   "execution_count": null,
   "metadata": {
    "collapsed": false
   },
   "outputs": [],
   "source": [
    "i = 1\n",
    "m = mm[i]\n",
    "kls = klss[i]\n",
    "style = ['b-', 'r--', 'g-.']\n",
    "labels = [r'$v_{\\textup{end}}$', r'$\\Delta v$', r'$\\Delta t$']\n",
    "for j in range(nfeatures):\n",
    "    plt.semilogy(tevent[np.arange(m, nevent-2*m, m, dtype=np.int)]/60, kls[:, j], style[j], label=labels[j])\n",
    "plt.legend()\n",
    "plt.grid('on')\n",
    "plt.xlabel('Time [min]')\n",
    "plt.ylabel('KL divergence')\n",
    "tikz('KL_activity_based')"
   ]
  },
  {
   "cell_type": "code",
   "execution_count": null,
   "metadata": {
    "collapsed": false
   },
   "outputs": [],
   "source": [
    "for m, kls in zip(mm, klss):\n",
    "    imin = [next((i for i, b in enumerate(kl < 1e-3) if b), -1) for kl in kls.T]\n",
    "    if np.any(imin == -1):\n",
    "        print(\"m = {:2d}: No completeness reached\".format(m))\n",
    "    else:\n",
    "        print(\"m = {:2d}: Completeness at {:.0f} min\".format(m, tevent[np.max(imin)*m]/60))\n",
    "        print(imin)\n",
    "        tt = tevent[np.array(imin)*m]/60\n",
    "        for t in tt:\n",
    "            print(\"{:.0f}  \".format(t), end=\"\")\n",
    "        print()"
   ]
  },
  {
   "cell_type": "markdown",
   "metadata": {},
   "source": [
    "## Likelihood for activities"
   ]
  },
  {
   "cell_type": "code",
   "execution_count": null,
   "metadata": {
    "collapsed": false
   },
   "outputs": [],
   "source": [
    "JJ = []\n",
    "for m in tqdm(mm):\n",
    "    J = np.zeros((nevent//m-1, nfeatures))\n",
    "    for i, n in enumerate(range(m, nevent-m, m)):\n",
    "        for j in range(nfeatures):\n",
    "            std = np.std(features[:n, j])\n",
    "            kde = KDE(data=features[:n, j:j+1]/std, bandwidth=silverman(features[:n, j]/std))\n",
    "            kde.compute_kde()\n",
    "            J[i, j] = kde.kde.score(features[n:n+m, j:j+1]/std) / m\n",
    "    JJ.append(J)"
   ]
  },
  {
   "cell_type": "code",
   "execution_count": null,
   "metadata": {
    "collapsed": false,
    "scrolled": true
   },
   "outputs": [],
   "source": [
    "i = 1\n",
    "j = 1\n",
    "m = mm[i]\n",
    "J = JJ[i]\n",
    "\n",
    "entropy = np.zeros(nevent//m - 1)\n",
    "for k, n in enumerate(range(m, nevent-m, m)):\n",
    "    std = np.std(features[:n, j])\n",
    "    kde = KDE(data=features[:n, j:j+1]/std, bandwidth=silverman(features[:n, j:j+1]/std))\n",
    "    kde.compute_kde()\n",
    "    logp = kde.kde.score_samples(feature_evaluate[:, j:j+1]/np.std(v))\n",
    "    entropy[k] = -np.trapz(np.exp(logp) * logp, x=feature_evaluate[:, j]/np.std(v))    \n",
    "\n",
    "plt.plot(tevent[np.arange(m, nevent-m, m, dtype=np.int)]/60, J[:, j], 'b-', label=r'$\\ln J(n)$')\n",
    "plt.plot(tevent[np.arange(m, nevent-m, m, dtype=np.int)]/60, -entropy, 'r--', label=r'$-\\hat{\\textup{H}}[x;n]$')\n",
    "plt.xlabel(r'Time [min]')\n",
    "plt.legend()\n",
    "plt.grid('on')\n",
    "tikz('likelihood_activitybased')"
   ]
  },
  {
   "cell_type": "code",
   "execution_count": null,
   "metadata": {
    "collapsed": false,
    "scrolled": true
   },
   "outputs": [],
   "source": [
    "plt.plot(h_silv)\n",
    "plt.plot(h)"
   ]
  },
  {
   "cell_type": "code",
   "execution_count": null,
   "metadata": {
    "collapsed": false
   },
   "outputs": [],
   "source": [
    "h/0.33037721"
   ]
  },
  {
   "cell_type": "code",
   "execution_count": null,
   "metadata": {
    "collapsed": false
   },
   "outputs": [],
   "source": [
    "i = 1\n",
    "j = 1\n",
    "m = mm[i]\n",
    "J = np.zeros(nevent//m-1)\n",
    "h_silv = np.zeros_like(J)\n",
    "h = np.zeros_like(J)\n",
    "entropy = np.zeros_like(J)\n",
    "for i, n in enumerate(tqdm(range(m, nevent-m, m))):\n",
    "    std = np.std(features[:n, j])\n",
    "    h_silv[i] = silverman(features[:n, j]/std)\n",
    "    kde = KDE(data=features[:n, j:j+1]/std)\n",
    "    if i == 0:\n",
    "        hold = h_silv[i]\n",
    "    else:\n",
    "        hold = h[i-1]\n",
    "    kde.compute_bandwidth(min_bandwidth=hold*0.75, max_bandwidth=hold*1.25, n_bandwidths=21)\n",
    "    kde.compute_kde()\n",
    "    h[i] = kde.bandwidth\n",
    "    J[i] = kde.kde.score(features[n:n+m, j:j+1]/std) / m\n",
    "    logp = kde.kde.score_samples(feature_evaluate[:, j:j+1]/np.std(v))\n",
    "    entropy[i] = -np.trapz(np.exp(logp) * logp, x=feature_evaluate[:, j]/np.std(v))    "
   ]
  },
  {
   "cell_type": "code",
   "execution_count": null,
   "metadata": {
    "collapsed": false,
    "scrolled": true
   },
   "outputs": [],
   "source": [
    "plt.plot(tevent[np.arange(m, nevent-m, m, dtype=np.int)]/60, J, 'b-', label=r'$\\ln J(n)$')\n",
    "plt.plot(tevent[np.arange(m, nevent-m, m, dtype=np.int)]/60, -entropy, 'r--', label=r'$-\\hat{\\textup{H}}[x;n]$')\n",
    "plt.xlabel(r'Time [min]')\n",
    "plt.legend()\n",
    "plt.grid('on')\n",
    "tikz('likelihood_activitybased_small_bandwidth')"
   ]
  },
  {
   "cell_type": "code",
   "execution_count": null,
   "metadata": {
    "collapsed": false
   },
   "outputs": [],
   "source": [
    "plt.plot(tevent[np.arange(m, nevent-m, m, dtype=np.int)]/60, h_silv, 'b-', label=r'Silverman bandwidth')\n",
    "plt.plot(tevent[np.arange(m, nevent-m, m, dtype=np.int)]/60, h, 'r--', label=r'Cross-validated bandwidth')\n",
    "plt.xlabel(r'Time [min]')\n",
    "plt.ylabel(r'$h$')\n",
    "plt.legend()\n",
    "plt.grid('on')\n",
    "tikz('bandwidth')"
   ]
  },
  {
   "cell_type": "code",
   "execution_count": null,
   "metadata": {
    "collapsed": false
   },
   "outputs": [],
   "source": [
    "plt.plot(feature_evaluate[:, j], np.exp(logp))"
   ]
  },
  {
   "cell_type": "markdown",
   "metadata": {},
   "source": [
    "# Dissimilarity"
   ]
  },
  {
   "cell_type": "code",
   "execution_count": null,
   "metadata": {
    "collapsed": false,
    "scrolled": false
   },
   "outputs": [],
   "source": [
    "def dissimilarity(xx, yy):\n",
    "    j = 0\n",
    "    for y in yy:\n",
    "        j = max(j, min([np.sqrt(np.sum((x - y)**2)) for x in xx]))\n",
    "    return j\n",
    "    \n",
    "JJ = []\n",
    "for m in tqdm(mm):\n",
    "    J = np.zeros(nevent//m-1)\n",
    "    for i, n in enumerate(range(m, nevent-m, m)):\n",
    "        std = np.std(features[:n], axis=0)\n",
    "        recorded = features[:n] / std\n",
    "        new_data = features[n:n+m] / std\n",
    "        J[i] = dissimilarity(recorded, new_data)\n",
    "    JJ.append(J)"
   ]
  },
  {
   "cell_type": "code",
   "execution_count": null,
   "metadata": {
    "collapsed": false
   },
   "outputs": [],
   "source": [
    "for m, J in zip(mm, JJ):\n",
    "    plt.plot(tevent[np.arange(m, nevent-m, m, dtype=np.int)]/60, J, label='m={:d}'.format(m))\n",
    "plt.xlabel('Time [min]')\n",
    "plt.ylabel('J')\n",
    "plt.legend()"
   ]
  },
  {
   "cell_type": "code",
   "execution_count": null,
   "metadata": {
    "collapsed": false
   },
   "outputs": [],
   "source": [
    "i = 1\n",
    "width = 5\n",
    "m = mm[i]\n",
    "J = JJ[i]\n",
    "plt.plot(tevent[np.arange(m, nevent-m, m, dtype=np.int)]/60, J)\n",
    "plt.xlabel(r'Time [min]')\n",
    "plt.grid('on')\n",
    "plt.ylabel(r'$J_d(n,m)$')\n",
    "tikz('dissimilarity')"
   ]
  },
  {
   "cell_type": "code",
   "execution_count": null,
   "metadata": {
    "collapsed": false
   },
   "outputs": [],
   "source": [
    "d = []\n",
    "for y in new_data:\n",
    "    dist = []\n",
    "    for x in recorded:\n",
    "        dist.append(np.sqrt(np.sum((x-y)**2)))\n",
    "    d.append(dist)\n",
    "d = np.array(d)"
   ]
  },
  {
   "cell_type": "code",
   "execution_count": null,
   "metadata": {
    "collapsed": false
   },
   "outputs": [],
   "source": [
    "plt.imshow(d)"
   ]
  },
  {
   "cell_type": "code",
   "execution_count": null,
   "metadata": {
    "collapsed": false
   },
   "outputs": [],
   "source": [
    "np.min(d, axis=1)"
   ]
  },
  {
   "cell_type": "code",
   "execution_count": null,
   "metadata": {
    "collapsed": true
   },
   "outputs": [],
   "source": [
    "y = new_data[0]"
   ]
  },
  {
   "cell_type": "code",
   "execution_count": null,
   "metadata": {
    "collapsed": true
   },
   "outputs": [],
   "source": [
    "dist = []\n",
    "for x in recorded:\n",
    "    dist.append(np.sqrt(np.sum((x-y)**2)))"
   ]
  },
  {
   "cell_type": "code",
   "execution_count": null,
   "metadata": {
    "collapsed": false
   },
   "outputs": [],
   "source": [
    "y"
   ]
  }
 ],
 "metadata": {
  "anaconda-cloud": {},
  "kernelspec": {
   "display_name": "Python [default]",
   "language": "python",
   "name": "python3"
  },
  "language_info": {
   "codemirror_mode": {
    "name": "ipython",
    "version": 3
   },
   "file_extension": ".py",
   "mimetype": "text/x-python",
   "name": "python",
   "nbconvert_exporter": "python",
   "pygments_lexer": "ipython3",
   "version": "3.5.2"
  },
  "widgets": {
   "state": {
    "06e31d41888d4dfa8cb078b1156fc9dd": {
     "views": [
      {
       "cell_index": 39
      }
     ]
    },
    "4303ff7ac2234e2fa6fc52e1d34ad014": {
     "views": [
      {
       "cell_index": 19
      }
     ]
    },
    "64457ba0f46748ddb4581ed8bf24bd09": {
     "views": [
      {
       "cell_index": 34
      }
     ]
    },
    "8ea48846c4274ec7a819018ec88ea096": {
     "views": [
      {
       "cell_index": 30
      }
     ]
    },
    "e6526b165a1d45d0b6f150a57573a52e": {
     "views": [
      {
       "cell_index": 25
      }
     ]
    }
   },
   "version": "1.2.0"
  }
 },
 "nbformat": 4,
 "nbformat_minor": 1
}
