{
 "cells": [
  {
   "cell_type": "code",
   "execution_count": null,
   "metadata": {},
   "outputs": [],
   "source": [
    "import numpy as np\n",
    "import matplotlib.pyplot as plt\n",
    "from fastkde import KDE\n",
    "from gaussianmixture import GaussianMixture\n",
    "from tqdm import tqdm_notebook as tqdm\n",
    "import scipy.stats\n",
    "%matplotlib inline"
   ]
  },
  {
   "cell_type": "code",
   "execution_count": null,
   "metadata": {},
   "outputs": [],
   "source": [
    "# Create object for generating data from a Gaussian mixture\n",
    "xlim = [-3, 3]\n",
    "gm = GaussianMixture([-1, 1], [0.5, 0.3])\n",
    "(xpdf,), ypdf = gm.pdf(minx=[xlim[0]], maxx=[xlim[1]], n=101)"
   ]
  },
  {
   "cell_type": "markdown",
   "metadata": {},
   "source": [
    "# Show KDE with confidence bands"
   ]
  },
  {
   "cell_type": "code",
   "execution_count": null,
   "metadata": {},
   "outputs": [],
   "source": [
    "# Parameters\n",
    "seed = 0\n",
    "ndatapoints = 500\n",
    "confidence = 0.95\n",
    "nrepeat = 1000  # Number of repeats for the bootstrap"
   ]
  },
  {
   "cell_type": "code",
   "execution_count": null,
   "metadata": {},
   "outputs": [],
   "source": [
    "# Use the plug-in method\n",
    "np.random.seed(seed)\n",
    "x = gm.generate_samples(ndatapoints)\n",
    "kde = KDE(data=x)\n",
    "kde.compute_bw()  # Compute the bandwidth using one-leave-out cross validation\n",
    "bandwidth = kde.bw  # Store the bandwidth for later usage\n",
    "print(\"Bandwidth: {:.5f}\".format(bandwidth))\n",
    "kde.compute_kde()\n",
    "ypdf_estimated = kde.score_samples(xpdf)\n",
    "low_plugin, up_plugin = kde.confidence_interval(xpdf, confidence=confidence)"
   ]
  },
  {
   "cell_type": "code",
   "execution_count": null,
   "metadata": {},
   "outputs": [],
   "source": [
    "# Use the bootstrap method for determining the confidence interval\n",
    "np.random.seed(seed)\n",
    "pdfs_bootstrap = np.zeros((nrepeat, len(xpdf)))\n",
    "for i in tqdm(range(nrepeat)):\n",
    "    kde = KDE(data=x[np.random.choice(len(x), size=len(x), replace=True)], bw=bandwidth)\n",
    "    kde.compute_kde()\n",
    "    pdfs_bootstrap[i] = kde.score_samples(xpdf)\n",
    "std = np.std(pdfs_bootstrap, axis=0)\n",
    "zvalue = scipy.stats.norm.ppf(confidence/2+0.5)\n",
    "low_bootstrap1 = ypdf_estimated - zvalue*std  # \"Bootstrap and plug-in approach\"\n",
    "up_bootstrap1 = ypdf_estimated + zvalue*std\n",
    "deviation = np.percentile(np.abs(pdfs_bootstrap - np.mean(pdfs_bootstrap, axis=0)), confidence*100, axis=0)\n",
    "low_bootstrap2 = ypdf_estimated - deviation\n",
    "up_bootstrap2 = ypdf_estimated + deviation"
   ]
  },
  {
   "cell_type": "code",
   "execution_count": null,
   "metadata": {},
   "outputs": [],
   "source": [
    "# Perform the KDE many times to see the real uncertainty\n",
    "np.random.seed(seed)\n",
    "pdfs = np.zeros((nrepeat, len(xpdf)))\n",
    "for i in tqdm(range(nrepeat)):\n",
    "    x = gm.generate_samples(ndatapoints)\n",
    "    kde = KDE(data=x)\n",
    "    kde.compute_bw(min_bw=0.05, max_bw=0.5)\n",
    "    kde.compute_kde()\n",
    "    pdfs[i] = kde.score_samples(xpdf)\n",
    "low_real = np.percentile(pdfs, (1-confidence)*50, axis=0)\n",
    "up_real = np.percentile(pdfs, (1+confidence)*50, axis=0)"
   ]
  },
  {
   "cell_type": "code",
   "execution_count": null,
   "metadata": {
    "scrolled": false
   },
   "outputs": [],
   "source": [
    "f, ax = plt.subplots(1, 1, figsize=(16, 10))\n",
    "\n",
    "# Plot the result of the plug-in method\n",
    "plt_pdf, = ax.plot(xpdf, ypdf)\n",
    "plt_estimated, = ax.plot(xpdf, ypdf_estimated)\n",
    "plt_plugin = ax.plot(np.array([xpdf, xpdf]).T, np.array([low_plugin, up_plugin]).T, '--', color=[1, .5, .5])\n",
    "plt_bootstrap1 = ax.plot(np.array([xpdf, xpdf]).T, np.array([low_bootstrap1, up_bootstrap1]).T, '--', color=[.5, 1, .5])\n",
    "plt_bootstrap2 = ax.plot(np.array([xpdf, xpdf]).T, np.array([low_bootstrap2, up_bootstrap2]).T, '--', color=[.5, .5, 1])\n",
    "plt_realconf = ax.fill_between(xpdf, low_real, up_real, facecolor=[.6, .6, .6], alpha=.5)\n",
    "ax.legend([plt_pdf, plt_estimated, plt_plugin[0], plt_bootstrap1[0], plt_bootstrap2[0], plt_realconf], \n",
    "          ['Real', 'Estimated', '{:.0f}% Confidence (plug-in)'.format(confidence*100),\n",
    "           '{:.0f}% Confidence (bootstrap and plug-in)'.format(confidence*100),\n",
    "           '{:.0f}% Confidence (bootstrap)'.format(confidence*100),\n",
    "           '{:.0f}% Confidence (real)'.format(confidence*100)])\n",
    "ax.grid(True)\n",
    "_ = ax.set_xlim(xlim)  # The \"_ =\" suppresses the output"
   ]
  },
  {
   "cell_type": "code",
   "execution_count": null,
   "metadata": {},
   "outputs": [],
   "source": []
  },
  {
   "cell_type": "code",
   "execution_count": null,
   "metadata": {},
   "outputs": [],
   "source": []
  }
 ],
 "metadata": {
  "kernelspec": {
   "display_name": "Python 3",
   "language": "python",
   "name": "python3"
  },
  "language_info": {
   "codemirror_mode": {
    "name": "ipython",
    "version": 3
   },
   "file_extension": ".py",
   "mimetype": "text/x-python",
   "name": "python",
   "nbconvert_exporter": "python",
   "pygments_lexer": "ipython3",
   "version": "3.6.5"
  }
 },
 "nbformat": 4,
 "nbformat_minor": 2
}
