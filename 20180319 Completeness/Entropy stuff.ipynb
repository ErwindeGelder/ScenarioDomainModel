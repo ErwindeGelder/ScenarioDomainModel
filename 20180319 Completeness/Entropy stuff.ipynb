{
 "cells": [
  {
   "cell_type": "code",
   "execution_count": null,
   "metadata": {},
   "outputs": [],
   "source": [
    "import numpy as np\n",
    "from kde import KDE\n",
    "import matplotlib.pyplot as plt\n",
    "import time\n",
    "import scipy\n",
    "import scipy.spatial.distance as dist\n",
    "from sklearn.neighbors import KernelDensity\n",
    "from statsmodels.nonparametric.kernel_density import KDEMultivariate"
   ]
  },
  {
   "cell_type": "markdown",
   "metadata": {},
   "source": [
    "# Simple example"
   ]
  },
  {
   "cell_type": "code",
   "execution_count": null,
   "metadata": {},
   "outputs": [],
   "source": [
    "# We use a uniform distribution on the interval of [0, 1]\n",
    "# This means that the entropy is 0\n",
    "H = 0\n",
    "\n",
    "# Values for which the pdf has to be evaluated\n",
    "xeval = np.linspace(-1, 2, 3000)\n",
    "\n",
    "# Other parameters\n",
    "n = 10000\n",
    "m = 100\n",
    "np.random.seed(0)"
   ]
  },
  {
   "cell_type": "code",
   "execution_count": null,
   "metadata": {},
   "outputs": [],
   "source": [
    "def silverman(x):\n",
    "    return 1.06 * np.std(x) / (len(x) ** (1/5))"
   ]
  },
  {
   "cell_type": "code",
   "execution_count": null,
   "metadata": {},
   "outputs": [],
   "source": [
    "x = np.random.rand(n)\n",
    "\n",
    "\n",
    "kde = KDE(data=x[:, np.newaxis], bandwidth=silverman(x))\n",
    "kde.compute_kde()"
   ]
  },
  {
   "cell_type": "code",
   "execution_count": null,
   "metadata": {},
   "outputs": [],
   "source": [
    "plt.plot(xeval, np.exp(kde.kde.score_samples(xeval[:, np.newaxis])))"
   ]
  },
  {
   "cell_type": "code",
   "execution_count": null,
   "metadata": {},
   "outputs": [],
   "source": [
    "def estimate_entropy(x, y):\n",
    "    z = np.zeros_like(y)\n",
    "    for i in range(len(y)):\n",
    "        if y[i] > 0:\n",
    "            z[i] = y[i] * np.log(y[i])\n",
    "    return -np.trapz(z, x=x)"
   ]
  },
  {
   "cell_type": "code",
   "execution_count": null,
   "metadata": {},
   "outputs": [],
   "source": [
    "np.random.seed(0)\n",
    "n = 1000\n",
    "x = np.random.randn(n)/5\n",
    "bandwidth = np.logspace(-2, -0.5, 100)\n",
    "h = np.zeros_like(bandwidth)\n",
    "minloglikelihood = np.zeros_like(bandwidth)\n",
    "\n",
    "for i, bw in enumerate(bandwidth):\n",
    "    kde = KDE(data=x[:, np.newaxis], bandwidth=bw)\n",
    "    kde.compute_kde()\n",
    "    pdf = np.exp(kde.kde.score_samples(xeval[:, np.newaxis]))\n",
    "    #plt.plot(xeval, pdf)\n",
    "    h[i] = estimate_entropy(xeval, pdf)\n",
    "    minloglikelihood[i] = -kde.kde.score(x[:, np.newaxis]) / n"
   ]
  },
  {
   "cell_type": "code",
   "execution_count": null,
   "metadata": {},
   "outputs": [],
   "source": [
    "plt.semilogx(bandwidth, h)\n",
    "plt.semilogx(bandwidth, minloglikelihood)\n",
    "plt.semilogx(bandwidth, h-minloglikelihood)\n",
    "plt.grid('on')\n",
    "print(\"Minimum add h={:.3f}\".format(bandwidth[np.argmin(h - minloglikelihood)]))"
   ]
  },
  {
   "cell_type": "markdown",
   "metadata": {},
   "source": [
    "# Compute bandwidth faster"
   ]
  },
  {
   "cell_type": "code",
   "execution_count": null,
   "metadata": {},
   "outputs": [],
   "source": [
    "n = 80\n",
    "np.random.seed(0)\n",
    "x = np.random.rand(n)\n",
    "xpdf = np.linspace(-1, 2, 301)"
   ]
  },
  {
   "cell_type": "code",
   "execution_count": null,
   "metadata": {},
   "outputs": [],
   "source": [
    "def method1(x):\n",
    "    bandwidth = np.linspace(0.001, 0.2, 200)\n",
    "    loglikelihood = np.zeros_like(bandwidth)\n",
    "    for i, h in enumerate(bandwidth):\n",
    "        for j in range(n):\n",
    "            kde = KDE(data=np.concatenate((x[:j], x[j+1:]))[:, np.newaxis], bandwidth=h)\n",
    "            kde.compute_kde()\n",
    "            loglikelihood[i] += kde.kde.score(x[j:j+1, np.newaxis])\n",
    "    #plt.plot(bandwidth, np.exp(loglikelihood))\n",
    "    #plt.xlabel('Bandwidth')\n",
    "    #print(\"Optimal bandwidth: {:.3f}\".format(bandwidth[np.argmax(loglikelihood)]))\n",
    "    return bandwidth[np.argmax(loglikelihood)]\n",
    "method1(x)"
   ]
  },
  {
   "cell_type": "code",
   "execution_count": null,
   "metadata": {},
   "outputs": [],
   "source": [
    "%%timeit\n",
    "method1(x)"
   ]
  },
  {
   "cell_type": "code",
   "execution_count": null,
   "metadata": {},
   "outputs": [],
   "source": [
    "def method2(x):\n",
    "    kde = KDE(data=x[:, np.newaxis])\n",
    "    kde.compute_kde(min_bandwidth=0.001, max_bandwidth=0.2, n_bandwidths=200, cv=n)\n",
    "    return kde.bandwidth\n",
    "method2(x)"
   ]
  },
  {
   "cell_type": "code",
   "execution_count": null,
   "metadata": {},
   "outputs": [],
   "source": [
    "%%timeit\n",
    "method2(x)"
   ]
  },
  {
   "cell_type": "code",
   "execution_count": null,
   "metadata": {},
   "outputs": [],
   "source": [
    "def method3(x):\n",
    "    bandwidth = np.linspace(0.001, 0.2, 200)\n",
    "    score = np.zeros_like(bandwidth)\n",
    "    mindists = -dist.squareform(dist.pdist(x[:, np.newaxis], metric='sqeuclidean')) / 2\n",
    "    for i, h in enumerate(bandwidth):\n",
    "        score[i] = np.sum(np.log(np.sum(np.exp(mindists / h**2), axis=0) - 1)) - n*np.log(h)# - n/2*np.log(2*np.pi) - n*np.log(n)\n",
    "    return bandwidth[np.argmax(score)]\n",
    "method3(x)         "
   ]
  },
  {
   "cell_type": "code",
   "execution_count": null,
   "metadata": {},
   "outputs": [],
   "source": [
    "%%timeit\n",
    "method3(x)"
   ]
  },
  {
   "cell_type": "code",
   "execution_count": null,
   "metadata": {},
   "outputs": [],
   "source": [
    "bandwidth = np.linspace(0.001, 0.2, 200)\n",
    "score = np.zeros_like(bandwidth)\n",
    "mindists = -dist.squareform(dist.pdist(x[:, np.newaxis], metric='sqeuclidean')) / 2\n",
    "for i, h in enumerate(bandwidth):\n",
    "    score[i] = np.sum(np.log(np.sum(np.exp(mindists / h**2), axis=0) - 1)) - n*np.log(h)# - n/2*np.log(2*np.pi) - n*np.log(n)\n",
    "plt.plot(bandwidth, np.exp(score / np.max(score)))"
   ]
  },
  {
   "cell_type": "code",
   "execution_count": null,
   "metadata": {},
   "outputs": [],
   "source": [
    "def opt(abc):\n",
    "    n = [10, 20, 30, 40, 50, 60, 70, 80]\n",
    "    #x = [1.79, 3.63, 5.63, 7.85, 10.6, 13.7, 16.6, 19.9]\n",
    "    x = [2.7, 3.45, 4.71, 6.38, 8.72, 10.9, 13.8, 17.1]\n",
    "    y = abc[0] + abc[1]*n**abc[2]\n",
    "    return np.sum((x - y)**2)"
   ]
  },
  {
   "cell_type": "code",
   "execution_count": null,
   "metadata": {
    "scrolled": true
   },
   "outputs": [],
   "source": [
    "scipy.optimize.minimize(opt, [1.6, 0.2, 1])"
   ]
  },
  {
   "cell_type": "code",
   "execution_count": null,
   "metadata": {
    "scrolled": true
   },
   "outputs": [],
   "source": [
    "def method4(x):\n",
    "    bandwidth = np.linspace(0.001, 0.2, 200)\n",
    "    loglikelihood = np.zeros_like(bandwidth)\n",
    "    \n",
    "    for i, h in enumerate(bandwidth):\n",
    "        kde_skl = KernelDensity(bandwidth=h)\n",
    "        for j in range(n):\n",
    "            kde_skl.fit(np.concatenate((x[:j], x[j+1:]))[:, np.newaxis])\n",
    "            loglikelihood[i] += kde_skl.score(x[j:j+1, np.newaxis])\n",
    "    return bandwidth[np.argmax(loglikelihood)]\n",
    "method4(x)"
   ]
  },
  {
   "cell_type": "code",
   "execution_count": null,
   "metadata": {},
   "outputs": [],
   "source": [
    "kde_skl = KernelDensity(bandwidth=0.045)\n",
    "kde_skl.fit(x[:, np.newaxis])\n",
    "plt.plot(xpdf, np.exp(kde_skl.score_samples(xpdf[:, np.newaxis])))"
   ]
  },
  {
   "cell_type": "code",
   "execution_count": null,
   "metadata": {},
   "outputs": [],
   "source": [
    "%%timeit\n",
    "method4(x)"
   ]
  },
  {
   "cell_type": "code",
   "execution_count": null,
   "metadata": {
    "scrolled": true
   },
   "outputs": [],
   "source": [
    "def method5(x):\n",
    "    kde = KDEMultivariate(x[:, np.newaxis], 'c', bw='cv_ml')\n",
    "    return kde\n",
    "kde = method5(x)\n",
    "plt.plot(xpdf, kde.pdf(xpdf[:, np.newaxis]))"
   ]
  },
  {
   "cell_type": "code",
   "execution_count": null,
   "metadata": {},
   "outputs": [],
   "source": [
    "%%timeit\n",
    "method5(x)"
   ]
  },
  {
   "cell_type": "markdown",
   "metadata": {},
   "source": [
    "# One-leave-out loglikelihood versus entropy"
   ]
  },
  {
   "cell_type": "code",
   "execution_count": null,
   "metadata": {},
   "outputs": [],
   "source": [
    "# Parameters\n",
    "n = 100\n",
    "H = np.linspace(0.01, 0.2, 20)\n",
    "xpdf = np.linspace(-3, 5, 8001)  # This is where the pdf will be evaluated"
   ]
  },
  {
   "cell_type": "code",
   "execution_count": null,
   "metadata": {},
   "outputs": [],
   "source": [
    "x = np.random.rand(n)\n",
    "e = np.zeros_like(H)\n",
    "for i, h in enumerate(H):\n",
    "    kde = KDE(data=x[:, np.newaxis], bandwidth=h)\n",
    "    kde.compute_kde()\n",
    "    y = np.exp(kde.kde.score_samples(xpdf[:, np.newaxis]))\n",
    "    e[i] = estimate_entropy(xpdf, y)"
   ]
  },
  {
   "cell_type": "code",
   "execution_count": null,
   "metadata": {},
   "outputs": [],
   "source": [
    "plt.plot(H, e)"
   ]
  },
  {
   "cell_type": "code",
   "execution_count": null,
   "metadata": {},
   "outputs": [],
   "source": [
    "score = np.zeros_like(H)\n",
    "mindists = -dist.squareform(dist.pdist(x[:, np.newaxis], metric='sqeuclidean')) / 2\n",
    "for i, h in enumerate(H):\n",
    "    score[i] = -np.sum(np.log(np.sum(np.exp(mindists / h**2), axis=0) - 1))/n + np.log(h)# - n/2*np.log(2*np.pi) - n*np.log(n)\n",
    "score += 1/2*np.log(2*np.pi) + np.log(n-1)"
   ]
  },
  {
   "cell_type": "code",
   "execution_count": null,
   "metadata": {},
   "outputs": [],
   "source": [
    "plt.plot(H, e)\n",
    "plt.plot(H, score)"
   ]
  },
  {
   "cell_type": "code",
   "execution_count": null,
   "metadata": {},
   "outputs": [],
   "source": []
  }
 ],
 "metadata": {
  "kernelspec": {
   "display_name": "Python 3",
   "language": "python",
   "name": "python3"
  },
  "language_info": {
   "codemirror_mode": {
    "name": "ipython",
    "version": 3
   },
   "file_extension": ".py",
   "mimetype": "text/x-python",
   "name": "python",
   "nbconvert_exporter": "python",
   "pygments_lexer": "ipython3",
   "version": "3.6.5"
  }
 },
 "nbformat": 4,
 "nbformat_minor": 2
}
