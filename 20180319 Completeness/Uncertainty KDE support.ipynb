{
 "cells": [
  {
   "cell_type": "markdown",
   "metadata": {},
   "source": [
    "# Uncertainty KDE support"
   ]
  },
  {
   "cell_type": "code",
   "execution_count": null,
   "metadata": {},
   "outputs": [],
   "source": [
    "import matplotlib.pyplot as plt\n",
    "import numpy as np\n",
    "from scipy.optimize import minimize\n",
    "from scipy.spatial import distance\n",
    "from stats import KDE, GaussianMixture"
   ]
  },
  {
   "cell_type": "code",
   "execution_count": null,
   "metadata": {},
   "outputs": [],
   "source": [
    "gm = GaussianMixture([-1, 1], [.5, .3])\n",
    "(xpdf,), ypdf = gm.pdf(500, [-5], [5])\n",
    "dx = np.mean(np.diff(xpdf))"
   ]
  },
  {
   "cell_type": "code",
   "execution_count": null,
   "metadata": {},
   "outputs": [],
   "source": [
    "plt.plot(xpdf, ypdf)"
   ]
  },
  {
   "cell_type": "code",
   "execution_count": null,
   "metadata": {},
   "outputs": [],
   "source": [
    "def total_probability(alpha, xpdf, ypdf):\n",
    "    total = 0\n",
    "    for i in range(len(xpdf)-1):\n",
    "        if ypdf[i] > alpha and ypdf[i+1] > alpha:\n",
    "            total += (xpdf[i+1] - xpdf[i]) * (ypdf[i] + ypdf[i+1]) / 2\n",
    "        elif ypdf[i] > alpha:\n",
    "            total += (ypdf[i]+alpha)*(ypdf[i]-alpha)*(xpdf[i+1]-xpdf[i])/(2*(ypdf[i]-ypdf[i+1]))\n",
    "        elif ypdf[i+1] > alpha:\n",
    "            total += (ypdf[i+1]+alpha)*(ypdf[i+1]-alpha)*(xpdf[i+1]-xpdf[i])/(2*(ypdf[i+1]-ypdf[i]))\n",
    "    return total"
   ]
  },
  {
   "cell_type": "code",
   "execution_count": null,
   "metadata": {},
   "outputs": [],
   "source": [
    "def f(alpha, level, xpdf, ypdf):\n",
    "    return (total_probability(alpha, xpdf, ypdf) - level)**2"
   ]
  },
  {
   "cell_type": "code",
   "execution_count": null,
   "metadata": {},
   "outputs": [],
   "source": [
    "result = minimize(f, 0.1, args=(.9, xpdf, ypdf))\n",
    "alpha = result.x"
   ]
  },
  {
   "cell_type": "code",
   "execution_count": null,
   "metadata": {},
   "outputs": [],
   "source": [
    "set1 = np.atleast_2d(xpdf[ypdf > alpha]).T"
   ]
  },
  {
   "cell_type": "code",
   "execution_count": null,
   "metadata": {},
   "outputs": [],
   "source": []
  },
  {
   "cell_type": "code",
   "execution_count": null,
   "metadata": {},
   "outputs": [],
   "source": [
    "np.random.seed(0)\n",
    "n = 40\n",
    "nrepeat = 100\n",
    "\n",
    "distances = np.zeros(nrepeat)\n",
    "for i in range(nrepeat):\n",
    "    x = gm.generate_samples(n)\n",
    "    k = KDE(x)\n",
    "    k.set_bandwidth(.3)\n",
    "    ykde = k.score_samples(xpdf)\n",
    "    r = minimize(f, 0.1, args=(.9, xpdf, ykde))\n",
    "    set2 = np.atleast_2d(xpdf[ykde > r.x]).T\n",
    "    distances[i] = distance.directed_hausdorff(set1, set2)[0]"
   ]
  },
  {
   "cell_type": "code",
   "execution_count": null,
   "metadata": {},
   "outputs": [],
   "source": [
    "np.mean(distances)"
   ]
  },
  {
   "cell_type": "code",
   "execution_count": null,
   "metadata": {},
   "outputs": [],
   "source": [
    "np.std(distances)"
   ]
  },
  {
   "cell_type": "code",
   "execution_count": null,
   "metadata": {},
   "outputs": [],
   "source": [
    "np.random.seed(0)\n",
    "x = gm.generate_samples(n)\n",
    "k = KDE(x)\n",
    "k.set_bandwidth(.3)\n",
    "ykde = k.score_samples(xpdf)\n",
    "r = minimize(f, 0.1, args=(.9, xpdf, ykde))\n",
    "set2 = np.atleast_2d(xpdf[ykde > r.x]).T\n",
    "\n",
    "distances2 = np.zeros(nrepeat)\n",
    "for i in range(nrepeat):\n",
    "    k = KDE(np.random.choice(x[:, 0], len(x)))\n",
    "    k.set_bandwidth(.3)\n",
    "    ykde = k.score_samples(xpdf)\n",
    "    r = minimize(f, 0.1, args=(.9, xpdf, ykde))\n",
    "    set3 = np.atleast_2d(xpdf[ykde > r.x]).T\n",
    "    distances2[i] = distance.directed_hausdorff(set2, set3)[0]"
   ]
  },
  {
   "cell_type": "code",
   "execution_count": null,
   "metadata": {},
   "outputs": [],
   "source": [
    "np.mean(distances2)"
   ]
  },
  {
   "cell_type": "code",
   "execution_count": null,
   "metadata": {},
   "outputs": [],
   "source": [
    "np.std(distances2)"
   ]
  },
  {
   "cell_type": "code",
   "execution_count": null,
   "metadata": {},
   "outputs": [],
   "source": []
  }
 ],
 "metadata": {
  "kernelspec": {
   "display_name": "Python 3",
   "language": "python",
   "name": "python3"
  },
  "language_info": {
   "codemirror_mode": {
    "name": "ipython",
    "version": 3
   },
   "file_extension": ".py",
   "mimetype": "text/x-python",
   "name": "python",
   "nbconvert_exporter": "python",
   "pygments_lexer": "ipython3",
   "version": "3.7.3"
  }
 },
 "nbformat": 4,
 "nbformat_minor": 2
}
