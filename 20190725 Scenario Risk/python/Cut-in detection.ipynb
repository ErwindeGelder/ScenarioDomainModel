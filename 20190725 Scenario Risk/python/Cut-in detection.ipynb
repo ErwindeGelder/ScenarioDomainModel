{
 "cells": [
  {
   "cell_type": "markdown",
   "metadata": {},
   "source": [
    "# Cut-in detection\n",
    "\n",
    "In this notebook, the cut ins are detected. Furthermore, the detected cut ins are written to a database using the domain model.\n",
    "\n",
    "Start the emulator.\n",
    "\n",
    "    netsh http add sslcert ipport=0.0.0.0:8081 appid={b4fb8546-7c4c-44bb-ac5b-9134d4f81626} certhash=<THUMBPRINT>\n",
    "\n",
    "Where `<THUMBPRINT>` can be found when going to the certificates (Manage computer certificates).\n",
    "    \n",
    "    netsh http add sslcert ipport=0.0.0.0:8081 appid={b4fb8546-7c4c-44bb-ac5b-9134d4f81626} certhash=95da5ca7196af4932259afba1f22507e1ddab936\n",
    "\n"
   ]
  },
  {
   "cell_type": "code",
   "execution_count": null,
   "metadata": {},
   "outputs": [],
   "source": [
    "from domain_model.document_management import DocumentManagement as dm\n",
    "import pydocumentdb\n",
    "import urllib3\n",
    "\n",
    "urllib3.disable_warnings(urllib3.exceptions.InsecureRequestWarning)"
   ]
  },
  {
   "cell_type": "code",
   "execution_count": null,
   "metadata": {},
   "outputs": [],
   "source": [
    "URI = \"https://localhost:8081\"\n",
    "PRIMARY_KEY = \\\n",
    "    \"C2y6yDjf5/R+ob0N8A7Cgv30VRDJIWEHLM+4QDU5DE2nQ9nDuVTqobD4b8mGGyPMbIZnqyMsEcaGQy67XIw/Jw==\""
   ]
  },
  {
   "cell_type": "code",
   "execution_count": null,
   "metadata": {},
   "outputs": [],
   "source": [
    "DM = dm(URI, PRIMARY_KEY)\n",
    "client = DM.client"
   ]
  },
  {
   "cell_type": "code",
   "execution_count": null,
   "metadata": {},
   "outputs": [],
   "source": [
    "DM.ids[\"database_id\"] = \"test\"\n",
    "DM.ids[\"collection_ids\"] = \"listofid\"\n",
    "DM.ids[\"ActorCategory\"] = \"actorcat\"\n",
    "DM.ids[\"ActivityCategory\"] = \"activitycat1\"\n",
    "DM.ids[\"StaticEnvironmentCategory\"] = \"staticenvcat\"\n",
    "DM.ids[\"ScenarioCategory\"] = \"scencat1\"\n",
    "DM.ids[\"Actor\"] = \"actor123\"\n",
    "DM.ids[\"Activity\"] = \"activity\"\n",
    "DM.ids[\"StaticEnvironment\"] = \"staticenv123\"\n",
    "DM.ids[\"Scenario\"] = \"scenario\""
   ]
  },
  {
   "cell_type": "code",
   "execution_count": null,
   "metadata": {
    "scrolled": true
   },
   "outputs": [],
   "source": [
    "try:\n",
    "    database = client.CreateDatabase(dict(id=DM.ids[\"database_id\"]))\n",
    "except pydocumentdb.errors.HTTPFailure as e:\n",
    "    if e.status_code == 409:\n",
    "        print(\"Database already exist\")\n",
    "    else:\n",
    "        raise e"
   ]
  },
  {
   "cell_type": "code",
   "execution_count": null,
   "metadata": {},
   "outputs": [],
   "source": [
    "collections = [DM.ids[\"collection_ids\"], \n",
    "               DM.ids[\"ActorCategory\"], DM.ids[\"ActivityCategory\"],\n",
    "               DM.ids[\"StaticEnvironmentCategory\"], DM.ids[\"ScenarioCategory\"],\n",
    "               DM.ids[\"Actor\"], DM.ids[\"Activity\"], DM.ids[\"StaticEnvironment\"], \n",
    "               DM.ids[\"Scenario\"]]\n",
    "for collection in collections:\n",
    "    try:\n",
    "        client.CreateCollection(\"dbs/test\", dict(id=collection))\n",
    "    except pydocumentdb.errors.HTTPFailure as e:\n",
    "        if e.status_code == 409:\n",
    "            print(\"Collection '{:s}' already exist\".format(collection))\n",
    "        else:\n",
    "            raise e"
   ]
  },
  {
   "cell_type": "code",
   "execution_count": null,
   "metadata": {},
   "outputs": [],
   "source": [
    "for collection in collections:\n",
    "    try:\n",
    "        last_id = DM.get_last_id(collection)\n",
    "        print(\"Last id for '{:s}': {:d}\".format(collection, last_id))\n",
    "    except pydocumentdb.errors.HTTPFailure as e:\n",
    "        if e.status_code != 404:\n",
    "            raise e\n",
    "\n",
    "        client.CreateDocument(\"dbs/\" + DM.ids[\"database_id\"] + \"/colls/\" + DM.ids[\"collection_ids\"],\n",
    "                              dict(id=collection, value=0))"
   ]
  },
  {
   "cell_type": "code",
   "execution_count": null,
   "metadata": {},
   "outputs": [],
   "source": [
    "x = client.GetDatabaseAccount(url_connection=URI)"
   ]
  },
  {
   "cell_type": "code",
   "execution_count": null,
   "metadata": {},
   "outputs": [],
   "source": [
    "import binascii"
   ]
  },
  {
   "cell_type": "code",
   "execution_count": null,
   "metadata": {},
   "outputs": [],
   "source": [
    "binascii.a2b_base64(\"listofid\")"
   ]
  }
 ],
 "metadata": {
  "kernelspec": {
   "display_name": "Python 3",
   "language": "python",
   "name": "python3"
  },
  "language_info": {
   "codemirror_mode": {
    "name": "ipython",
    "version": 3
   },
   "file_extension": ".py",
   "mimetype": "text/x-python",
   "name": "python",
   "nbconvert_exporter": "python",
   "pygments_lexer": "ipython3",
   "version": "3.7.3"
  }
 },
 "nbformat": 4,
 "nbformat_minor": 2
}
