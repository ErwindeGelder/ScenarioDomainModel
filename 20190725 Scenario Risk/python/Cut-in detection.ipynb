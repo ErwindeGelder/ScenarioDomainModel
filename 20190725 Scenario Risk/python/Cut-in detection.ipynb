{
 "cells": [
  {
   "cell_type": "markdown",
   "metadata": {},
   "source": [
    "# Cut-in detection\n",
    "\n",
    "In this notebook, the cut ins are detected. "
   ]
  },
  {
   "cell_type": "code",
   "execution_count": null,
   "metadata": {},
   "outputs": [],
   "source": [
    "import cutin_detection"
   ]
  },
  {
   "cell_type": "code",
   "execution_count": null,
   "metadata": {
    "scrolled": false
   },
   "outputs": [],
   "source": [
    "%debug"
   ]
  },
  {
   "cell_type": "code",
   "execution_count": null,
   "metadata": {},
   "outputs": [],
   "source": [
    "import os\n",
    "import time\n",
    "import matplotlib.pyplot as plt\n",
    "import numpy as np\n",
    "import pandas as pd\n",
    "from scipy.stats import ks_2samp, kendalltau, spearmanr\n",
    "from domain_model import StateVariable\n",
    "from databaseemulator import DataBaseEmulator"
   ]
  },
  {
   "cell_type": "code",
   "execution_count": null,
   "metadata": {},
   "outputs": [],
   "source": [
    "# Load the database with the cut-in scenarios.\n",
    "filename = os.path.join(\"data\", \"5_cutin_scenarios\", \"database.json\")\n",
    "DBE = DataBaseEmulator(filename)\n",
    "print(\"Number of scenarios: {:d}\".format(len(DBE.collections[\"scenario\"])))"
   ]
  },
  {
   "cell_type": "code",
   "execution_count": null,
   "metadata": {},
   "outputs": [],
   "source": [
    "def cutin_parameters(scenario):\n",
    "    # Obtain the duration of the lane change.\n",
    "    activity = next(activity for activity in scenario.activities \n",
    "                    if activity.activity_category.name == 'lane change target')\n",
    "    duration = activity.tduration\n",
    "    ystart = activity.get_state(time=scenario.time[\"start\"])[0]\n",
    "    yend = activity.get_state(time=scenario.time[\"end\"])[0]\n",
    "    tstart = activity.tstart\n",
    "    from_direction = 'r' if activity.name == \"left lane change\" else 'r'\n",
    "    \n",
    "    # Obtain longitudinal speed/position at time of start cut in.\n",
    "    vstart = None\n",
    "    xstart = None\n",
    "    init_activity_target = ''\n",
    "    for activity in scenario.activities:\n",
    "        if activity.activity_category.state == StateVariable.LON_TARGET and \\\n",
    "                activity.tstart <= scenario.time[\"start\"] <= activity.tend:\n",
    "            vstart = activity.get_state(time=scenario.time[\"start\"])[0][0]\n",
    "            xstart = activity.get_state(time=scenario.time[\"start\"])[1][0]\n",
    "            if activity.activity_category.name == \"deceleration target\":\n",
    "                init_activity_target = 'd'\n",
    "            elif activity.activity_category.name == \"acceleration target\":\n",
    "                init_activity_target = 'a'\n",
    "            else:\n",
    "                init_activity_target = 'c'\n",
    "            tstartlon = activity.tstart\n",
    "            tendlin = activity.tend\n",
    "            break\n",
    "            \n",
    "    # Obtain ego vehicle speed at time of start cut in.\n",
    "    vego = None\n",
    "    for actor, activity, _ in scenario.acts:\n",
    "        if actor.name == \"ego vehicle\" and \\\n",
    "            activity.activity_category.state == StateVariable.SPEED and \\\n",
    "                activity.tstart <= scenario.time[\"start\"] <= activity.tend:\n",
    "            vego = activity.get_state(time=scenario.time[\"start\"])[0]\n",
    "            \n",
    "    return [duration, ystart, yend, xstart, vstart, vego,\n",
    "            from_direction, init_activity_target, tstartlon, tendlin]"
   ]
  },
  {
   "cell_type": "code",
   "execution_count": null,
   "metadata": {},
   "outputs": [],
   "source": [
    "# Get parameters of the cut-in: [duration, ystart, yend, xstart]\n",
    "nscenarios = len(DBE.collections[\"scenario\"])\n",
    "#pars = [cutin_parameters(DBE.get_item(\"scenario\", i)) for i in range(nscenarios)]\n",
    "df = pd.DataFrame([cutin_parameters(DBE.get_item(\"scenario\", i)) for i in range(nscenarios)], \n",
    "                  columns=['duration', 'ystart', 'yend', 'xstart', 'vstart', 'vego',\n",
    "                           'from_direction', 'init_activity_target', 'tstartlon', 'tendlin'])\n",
    "df[\"vdiff\"] = df[\"vstart\"] - df[\"vego\"]\n",
    "df[\"ystartabs\"] = np.abs(df[\"ystart\"])"
   ]
  },
  {
   "cell_type": "markdown",
   "metadata": {},
   "source": [
    "# Plot a cut-in scenario"
   ]
  },
  {
   "cell_type": "code",
   "execution_count": null,
   "metadata": {},
   "outputs": [],
   "source": [
    "def plot_cutin(scenario, axes=None):\n",
    "    if axes is None:\n",
    "        _, axes = plt.subplots(1, 1)\n",
    "        axes.plot(0, 0, 'gx')\n",
    "    df = pd.DataFrame(index=np.arange(scenario.time[\"start\"], scenario.time[\"end\"], 0.01),\n",
    "                      columns=[\"x\", \"y\", \"act\"])\n",
    "    activity = next(activity for activity in scenario.activities \n",
    "                    if activity.activity_category.name == 'lane change target')\n",
    "    df[\"y\"] = activity.get_state(time=df.index.values)\n",
    "    \n",
    "    for activity in scenario.activities:\n",
    "        if activity.activity_category.state == StateVariable.LON_TARGET:\n",
    "            if activity.tstart < df.index[0]:\n",
    "                i = 0\n",
    "            else:\n",
    "                i = df.index.get_loc(activity.tstart, method='ffill')\n",
    "            if activity.tend > df.index[-1]:\n",
    "                j = len(df)\n",
    "            else:\n",
    "                j = df.index.get_loc(activity.tend, method='bfill')\n",
    "            df.loc[df.index[i]:df.index[j-1], \"x\"] = \\\n",
    "                activity.get_state(time=np.array(df.index[i:j]))[1]\n",
    "            if activity.activity_category.name == \"acceleration target\":\n",
    "                df.loc[df.index[i]:df.index[j-1], \"act\"] = \"a\"\n",
    "            elif activity.activity_category.name == \"deceleration target\":\n",
    "                df.loc[df.index[i]:df.index[j-1], \"act\"] = \"d\"\n",
    "            elif activity.activity_category.name == \"cruising target\":\n",
    "                df.loc[df.index[i]:df.index[j-1], \"act\"] = \"c\"\n",
    "            else:\n",
    "                raise ValueError(\"Unknown longitudinal activity\")\n",
    "    for act, color in zip([\"a\", \"d\", \"c\"], [\"g\", \"r\", \"b\"]):\n",
    "        mask = df[\"act\"] == act\n",
    "        if np.sum(mask):\n",
    "            axes.plot(df.loc[mask, \"x\"], df.loc[mask, \"y\"], color=color)\n",
    "    xmax = axes.get_xlim()[1]\n",
    "    axes.set_xlim([-10, xmax])\n",
    "    return axes"
   ]
  },
  {
   "cell_type": "code",
   "execution_count": null,
   "metadata": {},
   "outputs": [],
   "source": [
    "axes = plot_cutin(DBE.get_item(\"scenario\", 0))\n",
    "for i in range(1, 20):\n",
    "    plot_cutin(DBE.get_item(\"scenario\", i), axes=axes)"
   ]
  },
  {
   "cell_type": "markdown",
   "metadata": {},
   "source": [
    "# Step 1: Initial tags"
   ]
  },
  {
   "cell_type": "code",
   "execution_count": null,
   "metadata": {},
   "outputs": [],
   "source": [
    "for activity, abbr in zip([\"acceleration\", \"deceleration\", \"cruising\"], [\"a\", \"d\", \"c\"]):\n",
    "    print(\"Probability of {:12s}: {:4.1f} %\".\n",
    "          format(activity, np.sum(df[\"init_activity_target\"] == abbr)/nscenarios*100))"
   ]
  },
  {
   "cell_type": "markdown",
   "metadata": {},
   "source": [
    "Furthermore, the initial lateral activity is always a lane change.\n",
    "\n",
    "# Step 2: Initial parameters\n",
    "\n",
    "The initial parameters consists of:\n",
    "\n",
    "- `ystart`: Initial lateral position w.r.t. center lane of ego\n",
    "- `xstart`: Initial longitudinal offset w.r.t. ego vehicle\n",
    "- `tlongitudinal`: Time at which the longitudinal activity starts"
   ]
  },
  {
   "cell_type": "code",
   "execution_count": null,
   "metadata": {},
   "outputs": [],
   "source": [
    "# Determine if the parameters are correlated.\n",
    "print(\"Variable 1  Variable 2  Correlation   p-value\")\n",
    "pars = (\"ystart\", \"xstart\", \"tstartlon\")\n",
    "for i, par1 in enumerate(pars):\n",
    "    for par2 in pars[i+1:]:\n",
    "        kendall = kendalltau(df[par1], df[par2])\n",
    "        print(\"{:>10s}  {:>10s}  {:11.3f}  {:8.2e}\".format(par1, par2, kendall.correlation,\n",
    "                                                           kendall.pvalue),\n",
    "              \"  {:s}\".format(\"Correlated\" if kendall.pvalue < 0.05 else \"\"))"
   ]
  },
  {
   "cell_type": "code",
   "execution_count": null,
   "metadata": {},
   "outputs": [],
   "source": [
    "n = 100\n",
    "spearmanr(np.linspace(0, 1, n), np.abs(np.linspace(-1, 1, n)))"
   ]
  },
  {
   "cell_type": "code",
   "execution_count": null,
   "metadata": {},
   "outputs": [],
   "source": []
  },
  {
   "cell_type": "code",
   "execution_count": null,
   "metadata": {},
   "outputs": [],
   "source": []
  },
  {
   "cell_type": "code",
   "execution_count": null,
   "metadata": {},
   "outputs": [],
   "source": [
    "df['ystart']"
   ]
  },
  {
   "cell_type": "code",
   "execution_count": null,
   "metadata": {},
   "outputs": [],
   "source": [
    "def get_ks_result(act1, act2, signal):\n",
    "    values1 = df.loc[df[\"init_activity_target\"] == act1, signal].values\n",
    "    values2 = df.loc[df[\"init_activity_target\"] == act2, signal].values\n",
    "    result = ks_2samp(values1, values2)\n",
    "    return result.pvalue\n",
    "\n",
    "print(\"  Variable  KS test\")\n",
    "print(\"              a-d    a-c    d-c\")\n",
    "for signal in ['duration', 'ystart', 'yend', 'ystartabs']:\n",
    "    print(\"{:>10s}\".format(signal), end=\"\")\n",
    "    for act1, act2 in zip([\"a\", \"a\", \"d\"], [\"d\", \"c\", \"c\"]):\n",
    "        print(\"  {:5.3f}\".format(get_ks_result(act1, act2, signal)), end=\"\")\n",
    "    print(\"\")"
   ]
  },
  {
   "cell_type": "code",
   "execution_count": null,
   "metadata": {
    "scrolled": true
   },
   "outputs": [],
   "source": [
    "for act in ['a', 'd', 'c']:\n",
    "    n = np.sum(df[\"init_activity_target\"] == act)\n",
    "    plt.plot(np.sort(df.loc[df[\"init_activity_target\"] == act, \"ystart\"]),\n",
    "             np.linspace(0, 1, n), label=act)\n",
    "plt.legend()"
   ]
  },
  {
   "cell_type": "code",
   "execution_count": null,
   "metadata": {},
   "outputs": [],
   "source": [
    "# See if the lane change data is correlated.\n",
    "print(spearmanr(df[\"ystart\"], df[\"duration\"]))\n",
    "print(kendalltau(df[\"ystart\"], df[\"duration\"]))\n",
    "print(spearmanr(df[\"yend\"], df[\"duration\"]))\n",
    "print(kendalltau(df[\"yend\"], df[\"duration\"]))\n",
    "print(spearmanr(df[\"yend\"], df[\"ystart\"]))\n",
    "print(kendalltau(df[\"yend\"], df[\"ystart\"]))"
   ]
  },
  {
   "cell_type": "code",
   "execution_count": null,
   "metadata": {},
   "outputs": [],
   "source": []
  },
  {
   "cell_type": "code",
   "execution_count": null,
   "metadata": {},
   "outputs": [],
   "source": []
  },
  {
   "cell_type": "code",
   "execution_count": null,
   "metadata": {},
   "outputs": [],
   "source": []
  },
  {
   "cell_type": "code",
   "execution_count": null,
   "metadata": {},
   "outputs": [],
   "source": []
  },
  {
   "cell_type": "code",
   "execution_count": null,
   "metadata": {},
   "outputs": [],
   "source": []
  },
  {
   "cell_type": "code",
   "execution_count": null,
   "metadata": {},
   "outputs": [],
   "source": []
  },
  {
   "cell_type": "code",
   "execution_count": null,
   "metadata": {},
   "outputs": [],
   "source": []
  },
  {
   "cell_type": "code",
   "execution_count": null,
   "metadata": {},
   "outputs": [],
   "source": []
  },
  {
   "cell_type": "code",
   "execution_count": null,
   "metadata": {},
   "outputs": [],
   "source": []
  },
  {
   "cell_type": "code",
   "execution_count": null,
   "metadata": {},
   "outputs": [],
   "source": []
  },
  {
   "cell_type": "code",
   "execution_count": null,
   "metadata": {},
   "outputs": [],
   "source": []
  },
  {
   "cell_type": "code",
   "execution_count": null,
   "metadata": {},
   "outputs": [],
   "source": []
  }
 ],
 "metadata": {
  "kernelspec": {
   "display_name": "Python 3",
   "language": "python",
   "name": "python3"
  },
  "language_info": {
   "codemirror_mode": {
    "name": "ipython",
    "version": 3
   },
   "file_extension": ".py",
   "mimetype": "text/x-python",
   "name": "python",
   "nbconvert_exporter": "python",
   "pygments_lexer": "ipython3",
   "version": "3.7.3"
  }
 },
 "nbformat": 4,
 "nbformat_minor": 2
}
