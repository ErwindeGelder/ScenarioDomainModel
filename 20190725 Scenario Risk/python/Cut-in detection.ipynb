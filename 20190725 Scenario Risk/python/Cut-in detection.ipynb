{
 "cells": [
  {
   "cell_type": "markdown",
   "metadata": {},
   "source": [
    "# Cut-in detection\n",
    "\n",
    "In this notebook, the cut ins are detected. "
   ]
  },
  {
   "cell_type": "code",
   "execution_count": 26,
   "metadata": {},
   "outputs": [],
   "source": [
    "from glob import glob\n",
    "import os\n",
    "import matplotlib.pyplot as plt\n",
    "import numpy as np\n",
    "from domain_model import Activity, BSplines\n",
    "from activity_detector import LateralActivityHost, LateralActivityTarget, LeadVehicle\n",
    "from create_ngrams import FIELDNAMES_TARGET, FIELDNAMES_EGO, METADATA_TARGET, METADATA_EGO\n",
    "from data_handler import DataHandler\n",
    "from ngram import NGram\n",
    "from ngram_search import find_sequence"
   ]
  },
  {
   "cell_type": "code",
   "execution_count": 2,
   "metadata": {},
   "outputs": [],
   "source": [
    "# Load the data filenames\n",
    "i_file = 0\n",
    "datafiles = glob(os.path.join(\"data\", \"4_ngrams\", '*.hdf5'))\n",
    "data_handler = DataHandler(os.path.join(\"data\", \"1_hdf5\", os.path.basename(datafiles[i_file])))"
   ]
  },
  {
   "cell_type": "code",
   "execution_count": 3,
   "metadata": {},
   "outputs": [],
   "source": [
    "target_ngrams = NGram(FIELDNAMES_TARGET, METADATA_TARGET)\n",
    "target_ngrams.from_hdf(datafiles[i_file], \"targets\")\n",
    "ego_ngram = NGram(FIELDNAMES_EGO, METADATA_EGO)\n",
    "_ = ego_ngram.from_hdf(datafiles[i_file], \"ego\")"
   ]
  },
  {
   "cell_type": "code",
   "execution_count": 4,
   "metadata": {},
   "outputs": [],
   "source": [
    "target_tags = [dict(lateral_activity=[LateralActivityTarget.LEFT_CUT_IN.value, \n",
    "                                      LateralActivityTarget.RIGHT_CUT_IN.value],\n",
    "                    lead_vehicle=[LeadVehicle.NOLEAD.value]),\n",
    "               dict(lateral_activity=[LateralActivityTarget.LEFT_CUT_IN.value, \n",
    "                                      LateralActivityTarget.RIGHT_CUT_IN.value],\n",
    "                    lead_vehicle=[LeadVehicle.LEAD.value])]\n",
    "ego_tags = [dict(host_lateral_activity=[LateralActivityHost.LANE_FOLLOWING.value],\n",
    "                 is_highway=[True]),\n",
    "            dict(host_lateral_activity=[LateralActivityHost.LANE_FOLLOWING.value],\n",
    "                 is_highway=[True])]"
   ]
  },
  {
   "cell_type": "code",
   "execution_count": 5,
   "metadata": {},
   "outputs": [
    {
     "name": "stdout",
     "output_type": "stream",
     "text": [
      "3827 _StartEnd(is_found=True, t_start=1797.82, t_end=1801.15)\n",
      "4099 _StartEnd(is_found=True, t_start=1956.7, t_end=1960.39)\n",
      "4145 _StartEnd(is_found=True, t_start=1981.05, t_end=1983.72)\n",
      "4997 _StartEnd(is_found=True, t_start=2368.42, t_end=2373.06)\n",
      "5155 _StartEnd(is_found=True, t_start=2464.79, t_end=2465.22)\n",
      "5607 _StartEnd(is_found=True, t_start=2558.13, t_end=2558.89)\n",
      "5970 _StartEnd(is_found=True, t_start=2677.6, t_end=2677.96)\n"
     ]
    }
   ],
   "source": [
    "e = ego_ngram.ngram\n",
    "cutins = []\n",
    "for i, t in enumerate(target_ngrams.ngrams):\n",
    "    search = find_sequence((t, e), (target_tags, ego_tags))\n",
    "    while search.is_found:\n",
    "        cutins.append((i, search.t_start, search.t_end))\n",
    "        print(i, search)\n",
    "        search = find_sequence((t, e), (target_tags, ego_tags), t_start=search.t_end+5)"
   ]
  },
  {
   "cell_type": "code",
   "execution_count": 6,
   "metadata": {},
   "outputs": [],
   "source": [
    "cutin = cutins[0]"
   ]
  },
  {
   "cell_type": "code",
   "execution_count": 7,
   "metadata": {},
   "outputs": [],
   "source": [
    "target = target_ngrams.ngrams[cutin[0]]\n",
    "i_first_row = target.index[target.index.get_loc(cutin[1], method=\"pad\")]\n",
    "i_last_row = target.index[target.index.get_loc(cutin[2], method=\"backfill\")-1]\n",
    "type_of_activity = \"longitudinal_activity\"\n",
    "signal = \"vx\"\n",
    "current_activity = target.loc[i_first_row, type_of_activity]"
   ]
  },
  {
   "cell_type": "code",
   "execution_count": 8,
   "metadata": {},
   "outputs": [],
   "source": [
    "i_start = i_first_row\n",
    "for i, activity in target.loc[:i_first_row, type_of_activity][::-1].iteritems():\n",
    "    if not activity == current_activity:\n",
    "        break\n",
    "    i_start = i"
   ]
  },
  {
   "cell_type": "code",
   "execution_count": 9,
   "metadata": {},
   "outputs": [],
   "source": [
    "i_end = i_start\n",
    "for i, activity in target.loc[i_start:, type_of_activity].iteritems():\n",
    "    i_end = i\n",
    "    if not activity == current_activity:\n",
    "        break"
   ]
  },
  {
   "cell_type": "code",
   "execution_count": 27,
   "metadata": {},
   "outputs": [
    {
     "data": {
      "text/plain": [
       "[<matplotlib.lines.Line2D at 0x22a8812f780>]"
      ]
     },
     "execution_count": 27,
     "metadata": {},
     "output_type": "execute_result"
    },
    {
     "data": {
      "image/png": "[encoded data removed]",
      "text/plain": [
       "<Figure size 432x288 with 1 Axes>"
      ]
     },
     "metadata": {
      "needs_background": "light"
     },
     "output_type": "display_data"
    }
   ],
   "source": [
    "data = data_handler.targets[cutin[0]].loc[i_start:i_end, signal]\n",
    "our_model = BSplines()\n",
    "pars = our_model.fit(data.index.values, data.values)\n",
    "plt.plot(data)\n",
    "plt.plot(np.linspace(data.index[0], data.index[-1], 100), our_model.get_state(pars))"
   ]
  },
  {
   "cell_type": "code",
   "execution_count": 28,
   "metadata": {},
   "outputs": [
    {
     "data": {
      "text/plain": [
       "{'coefficients': [0.9064033248486114,\n",
       "  0.9160118870842414,\n",
       "  1.0428586093081809,\n",
       "  0.8861963241567581,\n",
       "  0.549548544240146,\n",
       "  0.08716189718522145,\n",
       "  0.016624970273834656,\n",
       "  0.003710443736786998],\n",
       " 'scaling': [[1796.79, 1799.11], [21.20886747287335, 22.960790836400566]],\n",
       " 'n_knots': 4,\n",
       " 'knot_positions': []}"
      ]
     },
     "execution_count": 28,
     "metadata": {},
     "output_type": "execute_result"
    }
   ],
   "source": [
    "pars"
   ]
  },
  {
   "cell_type": "code",
   "execution_count": 15,
   "metadata": {},
   "outputs": [],
   "source": []
  },
  {
   "cell_type": "code",
   "execution_count": 20,
   "metadata": {},
   "outputs": [],
   "source": []
  },
  {
   "cell_type": "code",
   "execution_count": 23,
   "metadata": {},
   "outputs": [
    {
     "data": {
      "text/plain": [
       "array([22.79681663, 22.80006342, 22.80460193, 22.810281  , 22.81694945,\n",
       "       22.8244561 , 22.83264979, 22.84137934, 22.85049357, 22.85984131,\n",
       "       22.86927139, 22.87863262, 22.88777384, 22.89654387, 22.90479154,\n",
       "       22.91236568, 22.9191151 , 22.92488863, 22.92953511, 22.93290334,\n",
       "       22.93484242, 22.93525481, 22.93416205, 22.93160185, 22.92761186,\n",
       "       22.92222978, 22.91549327, 22.90744003, 22.89810773, 22.88753404,\n",
       "       22.87575665, 22.86281324, 22.84874148, 22.83357905, 22.81736363,\n",
       "       22.80013291, 22.78192455, 22.76277624, 22.74272566, 22.72181049,\n",
       "       22.70006813, 22.67752544, 22.65419559, 22.63009081, 22.60522335,\n",
       "       22.57960545, 22.55324936, 22.52616731, 22.49837156, 22.46987434,\n",
       "       22.4406879 , 22.41082448, 22.38029633, 22.34911568, 22.31729478,\n",
       "       22.28484588, 22.25178121, 22.21811302, 22.18385355, 22.14901505,\n",
       "       22.11361324, 22.07771587, 22.04143079, 22.00486684, 21.96813287,\n",
       "       21.93133776, 21.89459034, 21.85799949, 21.82167405, 21.78572289,\n",
       "       21.75025486, 21.71537881, 21.68120361, 21.64783811, 21.61539116,\n",
       "       21.58397162, 21.55368836, 21.52465022, 21.49696607, 21.47074475,\n",
       "       21.44608156, 21.42297146, 21.40136445, 21.38121033, 21.36245889,\n",
       "       21.34505992, 21.32896321, 21.31411857, 21.30047577, 21.28798462,\n",
       "       21.27659491, 21.26625642, 21.25691895, 21.2485323 , 21.24104626,\n",
       "       21.23441061, 21.22857516, 21.22348969, 21.21910401, 21.21536789])"
      ]
     },
     "execution_count": 23,
     "metadata": {},
     "output_type": "execute_result"
    }
   ],
   "source": []
  }
 ],
 "metadata": {
  "kernelspec": {
   "display_name": "Python 3",
   "language": "python",
   "name": "python3"
  },
  "language_info": {
   "codemirror_mode": {
    "name": "ipython",
    "version": 3
   },
   "file_extension": ".py",
   "mimetype": "text/x-python",
   "name": "python",
   "nbconvert_exporter": "python",
   "pygments_lexer": "ipython3",
   "version": "3.7.3"
  }
 },
 "nbformat": 4,
 "nbformat_minor": 2
}
