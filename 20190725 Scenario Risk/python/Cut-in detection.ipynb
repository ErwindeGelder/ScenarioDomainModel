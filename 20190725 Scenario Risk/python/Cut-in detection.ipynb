{
 "cells": [
  {
   "cell_type": "markdown",
   "metadata": {},
   "source": [
    "# Cut-in detection\n",
    "\n",
    "In this notebook, the cut ins are detected. "
   ]
  },
  {
   "cell_type": "code",
   "execution_count": null,
   "metadata": {},
   "outputs": [],
   "source": [
    "# import cutin_detection"
   ]
  },
  {
   "cell_type": "code",
   "execution_count": null,
   "metadata": {
    "scrolled": false
   },
   "outputs": [],
   "source": [
    "%debug"
   ]
  },
  {
   "cell_type": "code",
   "execution_count": 2,
   "metadata": {},
   "outputs": [],
   "source": [
    "import os\n",
    "import time\n",
    "import matplotlib.pyplot as plt\n",
    "import numpy as np\n",
    "import pandas as pd\n",
    "from scipy.stats import ks_2samp, kendalltau, spearmanr\n",
    "from domain_model import StateVariable\n",
    "from databaseemulator import DataBaseEmulator\n",
    "from stats import KDE"
   ]
  },
  {
   "cell_type": "code",
   "execution_count": 3,
   "metadata": {},
   "outputs": [
    {
     "name": "stdout",
     "output_type": "stream",
     "text": [
      "Number of scenarios: 298\n"
     ]
    }
   ],
   "source": [
    "# Load the database with the cut-in scenarios.\n",
    "filename = os.path.join(\"data\", \"5_cutin_scenarios\", \"database.json\")\n",
    "DBE = DataBaseEmulator(filename)\n",
    "print(\"Number of scenarios: {:d}\".format(len(DBE.collections[\"scenario\"])))"
   ]
  },
  {
   "cell_type": "code",
   "execution_count": 4,
   "metadata": {},
   "outputs": [],
   "source": [
    "def cutin_parameters(scenario):\n",
    "    # Obtain the duration of the lane change.\n",
    "    activity = next(activity for activity in scenario.activities \n",
    "                    if activity.activity_category.name == 'lane change target')\n",
    "    duration = activity.tduration\n",
    "    ystart = activity.get_state(time=scenario.time[\"start\"])[0]\n",
    "    yend = activity.get_state(time=scenario.time[\"end\"])[0]\n",
    "    tstart = activity.tstart\n",
    "    from_direction = 'r' if activity.name == \"left lane change\" else 'r'\n",
    "    \n",
    "    # Obtain longitudinal speed/position at time of start cut in.\n",
    "    vstart, vend = None, None\n",
    "    xstart = None\n",
    "    init_activity_target = ''\n",
    "    for activity in scenario.activities:\n",
    "        if activity.activity_category.state == StateVariable.LON_TARGET and \\\n",
    "                activity.tstart <= scenario.time[\"start\"] <= activity.tend:\n",
    "            vstart = activity.get_state(time=scenario.time[\"start\"])[0][0]\n",
    "            vend = activity.get_state(time=activity.tend)[0][0]\n",
    "            xstart = activity.get_state(time=scenario.time[\"start\"])[1][0]\n",
    "            if activity.activity_category.name == \"deceleration target\":\n",
    "                init_activity_target = 'd'\n",
    "            elif activity.activity_category.name == \"acceleration target\":\n",
    "                init_activity_target = 'a'\n",
    "            else:\n",
    "                init_activity_target = 'c'\n",
    "            tstartlon = activity.tstart - scenario.time[\"start\"]\n",
    "            tendlin = activity.tend\n",
    "            break\n",
    "            \n",
    "    # Obtain ego vehicle speed at time of start cut in.\n",
    "    vego = None\n",
    "    for actor, activity, _ in scenario.acts:\n",
    "        if actor.name == \"ego vehicle\" and \\\n",
    "            activity.activity_category.state == StateVariable.SPEED and \\\n",
    "                activity.tstart <= scenario.time[\"start\"] <= activity.tend:\n",
    "            vego = activity.get_state(time=scenario.time[\"start\"])[0]\n",
    "            \n",
    "    return [duration, ystart, yend, xstart, vstart, vego,\n",
    "            from_direction, init_activity_target, tstartlon, tendlin]"
   ]
  },
  {
   "cell_type": "code",
   "execution_count": 5,
   "metadata": {},
   "outputs": [],
   "source": [
    "# Get parameters of the cut-in: [duration, ystart, yend, xstart]\n",
    "nscenarios = len(DBE.collections[\"scenario\"])\n",
    "#pars = [cutin_parameters(DBE.get_item(\"scenario\", i)) for i in range(nscenarios)]\n",
    "df = pd.DataFrame([cutin_parameters(DBE.get_item(\"scenario\", i)) for i in range(nscenarios)], \n",
    "                  columns=['duration', 'ystart', 'yend', 'xstart', 'vstart', 'vego',\n",
    "                           'from_direction', 'init_activity_target', 'tstartlon', 'tendlin'])\n",
    "df[\"vdiff\"] = df[\"vstart\"] - df[\"vego\"]\n",
    "df[\"ystartabs\"] = np.abs(df[\"ystart\"])\n",
    "df[\"yspeed\"] = (df[\"yend\"] - df[\"ystart\"]) / df[\"duration\"]\n",
    "df[\"yspeedabs\"] = np.abs(df[\"yspeed\"])\n",
    "df[\"tstartlonmap\"] = np.log(-df[\"tstartlon\"]+1)"
   ]
  },
  {
   "cell_type": "markdown",
   "metadata": {},
   "source": [
    "# Plot a cut-in scenario"
   ]
  },
  {
   "cell_type": "code",
   "execution_count": 6,
   "metadata": {},
   "outputs": [],
   "source": [
    "def plot_cutin(scenario, axes=None):\n",
    "    if axes is None:\n",
    "        _, axes = plt.subplots(1, 1)\n",
    "        axes.plot(0, 0, 'gx')\n",
    "    df = pd.DataFrame(index=np.arange(scenario.time[\"start\"], scenario.time[\"end\"], 0.01),\n",
    "                      columns=[\"x\", \"y\", \"act\"])\n",
    "    activity = next(activity for activity in scenario.activities \n",
    "                    if activity.activity_category.name == 'lane change target')\n",
    "    df[\"y\"] = activity.get_state(time=df.index.values)\n",
    "    \n",
    "    for activity in scenario.activities:\n",
    "        if activity.activity_category.state == StateVariable.LON_TARGET:\n",
    "            if activity.tstart < df.index[0]:\n",
    "                i = 0\n",
    "            else:\n",
    "                i = df.index.get_loc(activity.tstart, method='ffill')\n",
    "            if activity.tend > df.index[-1]:\n",
    "                j = len(df)\n",
    "            else:\n",
    "                j = df.index.get_loc(activity.tend, method='bfill')\n",
    "            df.loc[df.index[i]:df.index[j-1], \"x\"] = \\\n",
    "                activity.get_state(time=np.array(df.index[i:j]))[1]\n",
    "            if activity.activity_category.name == \"acceleration target\":\n",
    "                df.loc[df.index[i]:df.index[j-1], \"act\"] = \"a\"\n",
    "            elif activity.activity_category.name == \"deceleration target\":\n",
    "                df.loc[df.index[i]:df.index[j-1], \"act\"] = \"d\"\n",
    "            elif activity.activity_category.name == \"cruising target\":\n",
    "                df.loc[df.index[i]:df.index[j-1], \"act\"] = \"c\"\n",
    "            else:\n",
    "                raise ValueError(\"Unknown longitudinal activity\")\n",
    "    for act, color in zip([\"a\", \"d\", \"c\"], [\"g\", \"r\", \"b\"]):\n",
    "        mask = df[\"act\"] == act\n",
    "        if np.sum(mask):\n",
    "            axes.plot(df.loc[mask, \"x\"], df.loc[mask, \"y\"], color=color)\n",
    "    xmax = axes.get_xlim()[1]\n",
    "    axes.set_xlim([-10, xmax])\n",
    "    return axes"
   ]
  },
  {
   "cell_type": "code",
   "execution_count": 7,
   "metadata": {},
   "outputs": [
    {
     "data": {
      "text/plain": [
       "Text(0, 0.5, 'Lateral position [m]')"
      ]
     },
     "execution_count": 7,
     "metadata": {},
     "output_type": "execute_result"
    },
    {
     "data": {
      "image/png": "[encoded data removed]",
      "text/plain": [
       "<Figure size 432x288 with 1 Axes>"
      ]
     },
     "metadata": {
      "needs_background": "light"
     },
     "output_type": "display_data"
    }
   ],
   "source": [
    "axes = plot_cutin(DBE.get_item(\"scenario\", 0))\n",
    "for i in range(1, 20):\n",
    "    plot_cutin(DBE.get_item(\"scenario\", i), axes=axes)\n",
    "plt.xlabel(\"Longitudinal position [m]\")\n",
    "plt.ylabel(\"Lateral position [m]\")"
   ]
  },
  {
   "cell_type": "code",
   "execution_count": 8,
   "metadata": {},
   "outputs": [
    {
     "data": {
      "text/plain": [
       "{'id': 2904, 'filename': 'data\\\\1_hdf5\\\\20170524_PP_02_Run_3.hdf5'}"
      ]
     },
     "execution_count": 8,
     "metadata": {},
     "output_type": "execute_result"
    }
   ],
   "source": [
    "s = DBE.get_item(\"scenario\", 39)\n",
    "s.actors[1].properties"
   ]
  },
  {
   "cell_type": "markdown",
   "metadata": {},
   "source": [
    "# Step 1: Initial tags"
   ]
  },
  {
   "cell_type": "code",
   "execution_count": 9,
   "metadata": {},
   "outputs": [
    {
     "name": "stdout",
     "output_type": "stream",
     "text": [
      "Probability of acceleration:   19 %\n",
      "Probability of deceleration:   12 %\n",
      "Probability of cruising    :   68 %\n"
     ]
    }
   ],
   "source": [
    "for activity, abbr in zip([\"acceleration\", \"deceleration\", \"cruising\"], [\"a\", \"d\", \"c\"]):\n",
    "    print(\"Probability of {:12s}: {:4.0f} %\".\n",
    "          format(activity, np.sum(df[\"init_activity_target\"] == abbr)/nscenarios*100))"
   ]
  },
  {
   "cell_type": "markdown",
   "metadata": {},
   "source": [
    "Furthermore, the initial lateral activity is always a lane change.\n",
    "\n",
    "# Step 2: Initial parameters\n",
    "\n",
    "The initial parameters consists of:\n",
    "\n",
    "- `ystart`: Initial lateral position w.r.t. center lane of ego\n",
    "- `xstart`: Initial longitudinal offset w.r.t. ego vehicle\n",
    "- `tlongitudinal`: Time at which the longitudinal activity starts\n",
    "- `vego`: Initial speed ego vehicle\n",
    "- `vstart`: Initial speed target at the start of the scenario"
   ]
  },
  {
   "cell_type": "code",
   "execution_count": 149,
   "metadata": {},
   "outputs": [
    {
     "name": "stdout",
     "output_type": "stream",
     "text": [
      "     Variable  KS test\n",
      "                 a-d    a-c    d-c\n",
      "       ystart  0.053  0.064  0.580\n",
      "         yend  0.507  0.063  0.950\n",
      "    tstartlon  0.021  0.001  0.049\n",
      " tstartlonmap  0.021  0.001  0.049\n",
      "    ystartabs  0.003  0.079  0.105\n",
      "         vego  0.026  0.442  0.027\n",
      "       vstart  0.094  0.212  0.010\n"
     ]
    }
   ],
   "source": [
    "# Determine if the parameters depend on the initial longitudinal activity.\n",
    "def get_ks_result(act1, act2, signal):\n",
    "    values1 = df.loc[df[\"init_activity_target\"] == act1, signal].values\n",
    "    values2 = df.loc[df[\"init_activity_target\"] == act2, signal].values\n",
    "    result = ks_2samp(values1, values2)\n",
    "    return result.pvalue\n",
    "\n",
    "print(\"     Variable  KS test\")\n",
    "print(\"                 a-d    a-c    d-c\")\n",
    "for signal in ['ystart', 'yend', 'tstartlon', 'tstartlonmap', 'ystartabs', 'vego', 'vstart']:\n",
    "    print(\"{:>13s}\".format(signal), end=\"\")\n",
    "    for act1, act2 in zip([\"a\", \"a\", \"d\"], [\"d\", \"c\", \"c\"]):\n",
    "        print(\"  {:5.3f}\".format(get_ks_result(act1, act2, signal)), end=\"\")\n",
    "    print(\"\")"
   ]
  },
  {
   "cell_type": "markdown",
   "metadata": {},
   "source": [
    "Based on the KS-test, `ystart` is significantly differently distributed in case of acceleration activities. Similarly, `yend` is significantly differently distributed for acceleration activities when compared to cruising activities. When comparing deceleration and cruising activities, the parameter `tstartlon` seems to be differently distributed."
   ]
  },
  {
   "cell_type": "code",
   "execution_count": 151,
   "metadata": {},
   "outputs": [
    {
     "name": "stdout",
     "output_type": "stream",
     "text": [
      "     Variable  KDE test (positive means similarly distributed)\n",
      "                    a-d       a-c       d-c\n",
      "       ystart    -7.597    -7.633     2.565\n",
      "         yend    19.146    15.004    16.649\n",
      " tstartlonmap     0.001    -6.891    -7.236\n",
      "         vego    -2.547    12.475    -2.219\n",
      "       vstart    -9.406    -3.925    -1.651\n"
     ]
    }
   ],
   "source": [
    "def test_independent(data1, data2, verbose=False):\n",
    "    data = np.concatenate((data1, data2))\n",
    "    k, k1, k2 = KDE(data=data), KDE(data=data1), KDE(data=data2)\n",
    "    k.compute_bandwidth(), k1.compute_bandwidth(), k2.compute_bandwidth()\n",
    "    score1 = k.score_leave_one_out(include_const=True)\n",
    "    score2 = (k1.score_leave_one_out(include_const=True) + \n",
    "              k2.score_leave_one_out(include_const=True))\n",
    "    if verbose:\n",
    "        print(\"1 KDE:  {:7.2f}\".format(score1))\n",
    "        print(\"2 KDes: {:7.2f}\".format(score2))\n",
    "    return score1, score2\n",
    "\n",
    "print(\"     Variable  KDE test (positive means similarly distributed)\")\n",
    "print(\"                    a-d       a-c       d-c\")\n",
    "for signal in ['ystart', 'yend', 'tstartlonmap', 'vego', 'vstart']:\n",
    "    print(\"{:>13s}\".format(signal), end=\"\")\n",
    "    for act1, act2 in zip([\"a\", \"a\", \"d\"], [\"d\", \"c\", \"c\"]):\n",
    "        data1 = df.loc[df[\"init_activity_target\"] == act1, signal].values\n",
    "        data1 /= np.std(df[signal])\n",
    "        data2 = df.loc[df[\"init_activity_target\"] == act2, signal].values\n",
    "        data2 /= np.std(df[signal])\n",
    "        score1, score2 = test_independent(data1, data2)\n",
    "        print(\"  {:8.3f}\".format(score1 - score2), end=\"\")\n",
    "    print(\"\")"
   ]
  },
  {
   "cell_type": "code",
   "execution_count": 148,
   "metadata": {},
   "outputs": [
    {
     "name": "stdout",
     "output_type": "stream",
     "text": [
      "a=ystart, b=xstart, c=tstartlon\n",
      "Initial activity: a\n",
      "     (a,b,c):  -2.266e+02          \n",
      "   (a,b),(c):  -2.046e+02          \n",
      "   (a,c),(b):  -2.241e+02          \n",
      "   (a),(b,c):  -1.782e+02          \n",
      " (a),(b),(c):  -1.742e+02     Best!\n",
      "Initial activity: d\n",
      "     (a,b,c):  -1.278e+02          \n",
      "   (a,b),(c):  -1.257e+02          \n",
      "   (a,c),(b):  -1.298e+02          \n",
      "   (a),(b,c):  -1.274e+02          \n",
      " (a),(b),(c):  -1.233e+02     Best!\n",
      "Initial activity: c\n",
      "     (a,b,c):  -6.662e+02          \n",
      "   (a,b),(c):  -5.892e+02          \n",
      "   (a,c),(b):  -6.798e+02          \n",
      "   (a),(b,c):  -5.992e+02          \n",
      " (a),(b),(c):  -5.874e+02     Best!\n"
     ]
    }
   ],
   "source": [
    "def leave_one_out_score(data):\n",
    "    kde = KDE(data=data)\n",
    "    kde.compute_bandwidth()\n",
    "    return kde.score_leave_one_out(include_const=True)\n",
    "def compute_score(data, combinations):\n",
    "    score = 0\n",
    "    for combination in combinations:\n",
    "        score += leave_one_out_score(data[:, combination])\n",
    "    return score\n",
    "print(\"a=ystart, b=xstart, c=tstartlon\")\n",
    "combinations = [([0, 1, 2],), ([0, 1], 2), ([0, 2], 1), (0, [1, 2]), (0, 1, 2)]\n",
    "str_combinations = ['(a,b,c)', '(a,b),(c)', '(a,c),(b)', '(a),(b,c)', '(a),(b),(c)']\n",
    "for act in [\"a\", \"d\", \"c\"]:\n",
    "    print(\"Initial activity: {:s}\".format(act))\n",
    "    data = df.loc[df[\"init_activity_target\"] == act, \n",
    "                  [\"ystart\", \"xstart\", \"tstartlon\"]].values\n",
    "    data /= np.std(data, axis=0)\n",
    "    scores = [compute_score(data, combination) for combination in combinations]\n",
    "    i_best = np.argmax(scores)\n",
    "    for i, (text, score) in enumerate(zip(str_combinations, scores)):\n",
    "        print(\"{:>12s}:  {:.3e}{:>10s}\".format(text, score, \"Best!\" if i==i_best else \"\"))"
   ]
  },
  {
   "cell_type": "code",
   "execution_count": 1,
   "metadata": {},
   "outputs": [
    {
     "ename": "NameError",
     "evalue": "name 'spearmanr' is not defined",
     "output_type": "error",
     "traceback": [
      "\u001b[1;31m---------------------------------------------------------------------------\u001b[0m",
      "\u001b[1;31mNameError\u001b[0m                                 Traceback (most recent call last)",
      "\u001b[1;32m<ipython-input-1-37ec1b2ce527>\u001b[0m in \u001b[0;36m<module>\u001b[1;34m\u001b[0m\n\u001b[1;32m----> 1\u001b[1;33m \u001b[0mspearmanr\u001b[0m\u001b[1;33m(\u001b[0m\u001b[0mdata\u001b[0m\u001b[1;33m[\u001b[0m\u001b[1;33m:\u001b[0m\u001b[1;33m,\u001b[0m \u001b[1;36m0\u001b[0m\u001b[1;33m]\u001b[0m\u001b[1;33m,\u001b[0m \u001b[0mdata\u001b[0m\u001b[1;33m[\u001b[0m\u001b[1;33m:\u001b[0m\u001b[1;33m,\u001b[0m \u001b[1;36m1\u001b[0m\u001b[1;33m]\u001b[0m\u001b[1;33m)\u001b[0m\u001b[1;33m\u001b[0m\u001b[1;33m\u001b[0m\u001b[0m\n\u001b[0m",
      "\u001b[1;31mNameError\u001b[0m: name 'spearmanr' is not defined"
     ]
    }
   ],
   "source": [
    "spearmanr(data[:, 0], data[:, 1])"
   ]
  },
  {
   "cell_type": "markdown",
   "metadata": {},
   "source": [
    "Conclusion: The parameters `ystart`, `xstart` and `tstartlon` will be sampled independently from each other. Furthermore, a different KDE is used for each initial longitudinal activity.\n",
    "\n",
    "But what would the result be if we go through all possibilities?"
   ]
  },
  {
   "cell_type": "code",
   "execution_count": 129,
   "metadata": {},
   "outputs": [
    {
     "data": {
      "text/plain": [
       "[<matplotlib.lines.Line2D at 0x1677fc804a8>]"
      ]
     },
     "execution_count": 129,
     "metadata": {},
     "output_type": "execute_result"
    },
    {
     "data": {
      "image/png": "[encoded data removed]",
      "text/plain": [
       "<Figure size 432x288 with 1 Axes>"
      ]
     },
     "metadata": {
      "needs_background": "light"
     },
     "output_type": "display_data"
    }
   ],
   "source": [
    "plt.plot(data[:, 0], data[:, 2], '.')"
   ]
  },
  {
   "cell_type": "code",
   "execution_count": 145,
   "metadata": {},
   "outputs": [
    {
     "name": "stdout",
     "output_type": "stream",
     "text": [
      "     (a,b,c):    -inf \n",
      "   -inf \n",
      "   (a,b),(c):    -inf \n",
      "   -inf \n",
      " -409.8 \n",
      " -404.9 \n",
      "   (a,c),(b):  -897.0 \n",
      " -881.0 \n",
      "   -inf \n",
      "   -inf \n",
      "   (a),(b,c):  -472.6 \n",
      " -464.0 \n",
      "   -inf \n",
      "   -inf \n",
      " (a),(b),(c):  -472.6 \n",
      " -464.0 \n",
      "   -inf \n",
      "   -inf \n",
      " -409.8 \n",
      " -404.9 \n"
     ]
    }
   ],
   "source": [
    "data = df[[\"ystart\", \"xstart\", \"tstartlonmap\"]].values\n",
    "for combination, str_combination in zip(combinations, str_combinations):\n",
    "    print(\"{:>12s}: \".format(str_combination), end=\"\")\n",
    "    total = 0\n",
    "    for c in combination:\n",
    "        # Take all\n",
    "        subdata = data[:, c]\n",
    "        best = leave_one_out_score(subdata)\n",
    "        print(\"{:7.1f} \".format(best))\n",
    "        \n",
    "        # Take acceleration apart\n",
    "        subdata1 = data[:, c][df[\"init_activity_target\"] == \"a\"]\n",
    "        subdata2 = data[:, c][np.logical_not(df[\"init_activity_target\"] == \"a\")]\n",
    "        score = leave_one_out_score(subdata1) + leave_one_out_score(subdata2)\n",
    "        print(\"{:7.1f} \".format(score))\n",
    "        if score > best:\n",
    "            best = score"
   ]
  },
  {
   "cell_type": "markdown",
   "metadata": {},
   "source": [
    "# Parameters activities\n",
    "\n",
    "For the lane change, we have the parameters `yend` and `duration`. Alternatively, `yspeed` might be used instead of one of these.\n",
    "\n",
    "For the longitudinal activity, we have the parameters `tend`, `vstart`, and `vend`. "
   ]
  },
  {
   "cell_type": "code",
   "execution_count": 123,
   "metadata": {},
   "outputs": [
    {
     "name": "stdout",
     "output_type": "stream",
     "text": [
      "  Variable  KS test\n",
      "              a-d    a-c    d-c\n",
      "  duration  0.776  0.759  0.447\n",
      "      yend  0.507  0.063  0.950\n",
      "    yspeed  0.030  0.070  0.689\n"
     ]
    }
   ],
   "source": [
    "print(\"  Variable  KS test\")\n",
    "print(\"              a-d    a-c    d-c\")\n",
    "for signal in ['duration', 'yend', 'yspeed']:\n",
    "    print(\"{:>10s}\".format(signal), end=\"\")\n",
    "    for act1, act2 in zip([\"a\", \"a\", \"d\"], [\"d\", \"c\", \"c\"]):\n",
    "        print(\"  {:5.3f}\".format(get_ks_result(act1, act2, signal)), end=\"\")\n",
    "    print(\"\")"
   ]
  },
  {
   "cell_type": "code",
   "execution_count": null,
   "metadata": {
    "scrolled": true
   },
   "outputs": [],
   "source": [
    "for act in ['a', 'd', 'c']:\n",
    "    n = np.sum(df[\"init_activity_target\"] == act)\n",
    "    plt.plot(np.sort(df.loc[df[\"init_activity_target\"] == act, \"ystart\"]),\n",
    "             np.linspace(0, 1, n), label=act)\n",
    "plt.legend()"
   ]
  },
  {
   "cell_type": "code",
   "execution_count": null,
   "metadata": {},
   "outputs": [],
   "source": [
    "# See if the lane change data is correlated.\n",
    "print(spearmanr(df[\"ystart\"], df[\"duration\"]))\n",
    "print(kendalltau(df[\"ystart\"], df[\"duration\"]))\n",
    "print(spearmanr(df[\"yend\"], df[\"duration\"]))\n",
    "print(kendalltau(df[\"yend\"], df[\"duration\"]))\n",
    "print(spearmanr(df[\"yend\"], df[\"ystart\"]))\n",
    "print(kendalltau(df[\"yend\"], df[\"ystart\"]))"
   ]
  },
  {
   "cell_type": "code",
   "execution_count": null,
   "metadata": {},
   "outputs": [],
   "source": []
  },
  {
   "cell_type": "code",
   "execution_count": null,
   "metadata": {},
   "outputs": [],
   "source": []
  },
  {
   "cell_type": "code",
   "execution_count": null,
   "metadata": {},
   "outputs": [],
   "source": []
  },
  {
   "cell_type": "code",
   "execution_count": null,
   "metadata": {},
   "outputs": [],
   "source": []
  },
  {
   "cell_type": "code",
   "execution_count": null,
   "metadata": {},
   "outputs": [],
   "source": []
  },
  {
   "cell_type": "code",
   "execution_count": null,
   "metadata": {},
   "outputs": [],
   "source": []
  },
  {
   "cell_type": "code",
   "execution_count": null,
   "metadata": {},
   "outputs": [],
   "source": []
  },
  {
   "cell_type": "markdown",
   "metadata": {},
   "source": [
    "# Step 4: Next activity"
   ]
  },
  {
   "cell_type": "code",
   "execution_count": 152,
   "metadata": {},
   "outputs": [],
   "source": [
    "# Compute 'transition' matrix\n",
    "A = np.zeros((3, 3))  # 'a', 'd', 'c'\n",
    "for i in range(nscenarios):\n",
    "    s = DBE.get_item(\"scenario\", i)\n",
    "    t_acts = []\n",
    "    lon_acts = []\n",
    "    for actor, activity, tstart in s.acts:\n",
    "        if actor.actor_category.name == \"cut-in vehicle\":\n",
    "            if activity.activity_category.state == StateVariable.LON_TARGET:\n",
    "                t_acts.append(tstart)\n",
    "                lon_acts.append(activity)\n",
    "    if len(t_acts) <= 1:\n",
    "        continue\n",
    "    i_sorted = np.argsort(t_acts)\n",
    "    for i, j in zip(i_sorted[:-1], i_sorted[1:]):\n",
    "        ia = (0 if lon_acts[i].activity_category.name == \"acceleration target\" else\n",
    "              1 if lon_acts[i].activity_category.name == \"deceleration target\" else 2)\n",
    "        ja = (0 if lon_acts[j].activity_category.name == \"acceleration target\" else\n",
    "              1 if lon_acts[j].activity_category.name == \"deceleration target\" else 2)\n",
    "        A[ia, ja] += 1"
   ]
  },
  {
   "cell_type": "code",
   "execution_count": 153,
   "metadata": {},
   "outputs": [
    {
     "data": {
      "text/plain": [
       "array([[ 0.,  3., 17.],\n",
       "       [ 1.,  0.,  6.],\n",
       "       [18., 14.,  0.]])"
      ]
     },
     "execution_count": 153,
     "metadata": {},
     "output_type": "execute_result"
    }
   ],
   "source": [
    "A"
   ]
  },
  {
   "cell_type": "code",
   "execution_count": null,
   "metadata": {},
   "outputs": [],
   "source": []
  },
  {
   "cell_type": "code",
   "execution_count": null,
   "metadata": {},
   "outputs": [],
   "source": []
  }
 ],
 "metadata": {
  "kernelspec": {
   "display_name": "Python 3",
   "language": "python",
   "name": "python3"
  },
  "language_info": {
   "codemirror_mode": {
    "name": "ipython",
    "version": 3
   },
   "file_extension": ".py",
   "mimetype": "text/x-python",
   "name": "python",
   "nbconvert_exporter": "python",
   "pygments_lexer": "ipython3",
   "version": "3.7.3"
  }
 },
 "nbformat": 4,
 "nbformat_minor": 2
}
