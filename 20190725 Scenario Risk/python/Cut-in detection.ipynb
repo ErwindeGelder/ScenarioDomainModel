{
 "cells": [
  {
   "cell_type": "markdown",
   "metadata": {},
   "source": [
    "# Cut-in detection\n",
    "\n",
    "In this notebook, the cut ins are detected. "
   ]
  },
  {
   "cell_type": "code",
   "execution_count": null,
   "metadata": {},
   "outputs": [],
   "source": [
    "import os\n",
    "import time\n",
    "import matplotlib.pyplot as plt\n",
    "import numpy as np\n",
    "import pandas as pd\n",
    "from scipy.stats import ks_2samp, kendalltau, spearmanr\n",
    "from domain_model import StateVariable\n",
    "from databaseemulator import DataBaseEmulator\n",
    "from data_handler import DataHandler\n",
    "from stats import KDE"
   ]
  },
  {
   "cell_type": "code",
   "execution_count": null,
   "metadata": {},
   "outputs": [],
   "source": [
    "# Load the database with the cut-in scenarios.\n",
    "filename = os.path.join(\"data\", \"5_scenarios\", \"cut_in_scenarios.json\")\n",
    "cutins = DataBaseEmulator(filename)\n",
    "print(\"Number of scenarios: {:d}\".format(len(cutins.collections[\"scenario\"])))"
   ]
  },
  {
   "cell_type": "code",
   "execution_count": null,
   "metadata": {},
   "outputs": [],
   "source": [
    "# Load the database with the target scenarios.\n",
    "filename = os.path.join(\"data\", \"5_scenarios\", \"highway_target.json\")\n",
    "targets = DataBaseEmulator(filename)\n",
    "print(\"Number of scenarios: {:d}\".format(len(targets.collections[\"scenario\"])))"
   ]
  },
  {
   "cell_type": "markdown",
   "metadata": {},
   "source": [
    "# Obtain parameters"
   ]
  },
  {
   "cell_type": "code",
   "execution_count": null,
   "metadata": {},
   "outputs": [],
   "source": [
    "def cutin_parameters(scenario):\n",
    "    # Obtain the duration of the lane change.\n",
    "    activity = next(activity for activity in scenario.activities \n",
    "                    if activity.activity_category.name == 'lane change target')\n",
    "    duration = activity.tduration\n",
    "    ystart = activity.get_state(time=scenario.time[\"start\"])[0]\n",
    "    yend = activity.get_state(time=scenario.time[\"end\"])[0]\n",
    "    tstart = activity.tstart\n",
    "    from_direction = 'r' if activity.name == \"left lane change\" else 'r'\n",
    "    \n",
    "    # Obtain longitudinal speed/position at time of start cut in.\n",
    "    vstart, vend = None, None\n",
    "    xstart = None\n",
    "    init_activity_target = ''\n",
    "    for activity in scenario.activities:\n",
    "        if activity.activity_category.state == StateVariable.LON_TARGET and \\\n",
    "                activity.tstart <= scenario.time[\"start\"] <= activity.tend:\n",
    "            vstart = activity.get_state(time=scenario.time[\"start\"])[0][0]\n",
    "            vend = activity.get_state(time=activity.tend)[0][0]\n",
    "            xstart = activity.get_state(time=scenario.time[\"start\"])[1][0]\n",
    "            if activity.activity_category.name == \"deceleration target\":\n",
    "                init_activity_target = 'd'\n",
    "            elif activity.activity_category.name == \"acceleration target\":\n",
    "                init_activity_target = 'a'\n",
    "            else:\n",
    "                init_activity_target = 'c'\n",
    "            tstartlon = activity.tstart - scenario.time[\"start\"]\n",
    "            tendlin = activity.tend\n",
    "            break\n",
    "            \n",
    "    # Obtain ego vehicle speed at time of start cut in.\n",
    "    vego = None\n",
    "    for actor, activity, _ in scenario.acts:\n",
    "        if actor.name == \"ego vehicle\" and \\\n",
    "            activity.activity_category.state == StateVariable.SPEED and \\\n",
    "                activity.tstart <= scenario.time[\"start\"] <= activity.tend:\n",
    "            vego = activity.get_state(time=scenario.time[\"start\"])[0]\n",
    "            \n",
    "    return [duration, ystart, yend, xstart, vstart, vego,\n",
    "            from_direction, init_activity_target, tstartlon, tendlin]"
   ]
  },
  {
   "cell_type": "code",
   "execution_count": null,
   "metadata": {},
   "outputs": [],
   "source": [
    "# Get parameters of the cut-in: [duration, ystart, yend, xstart]\n",
    "nscenarios = len(DBE.collections[\"scenario\"])\n",
    "#pars = [cutin_parameters(DBE.get_item(\"scenario\", i)) for i in range(nscenarios)]\n",
    "df = pd.DataFrame([cutin_parameters(DBE.get_item(\"scenario\", i)) for i in range(nscenarios)], \n",
    "                  columns=['duration', 'ystart', 'yend', 'xstart', 'vstart', 'vego',\n",
    "                           'from_direction', 'init_activity_target', 'tstartlon', 'tendlin'])\n",
    "df[\"vdiff\"] = df[\"vstart\"] - df[\"vego\"]\n",
    "df[\"ystartabs\"] = np.abs(df[\"ystart\"])\n",
    "df[\"yspeed\"] = (df[\"yend\"] - df[\"ystart\"]) / df[\"duration\"]\n",
    "df[\"yspeedabs\"] = np.abs(df[\"yspeed\"])\n",
    "df[\"tstartlonmap\"] = np.log(-df[\"tstartlon\"]+1)"
   ]
  },
  {
   "cell_type": "code",
   "execution_count": null,
   "metadata": {},
   "outputs": [],
   "source": [
    "cutins.get_item(\"activity\", 0)"
   ]
  },
  {
   "cell_type": "code",
   "execution_count": null,
   "metadata": {},
   "outputs": [],
   "source": [
    "def shape_par(activity):\n",
    "    pars = activity.get_state(time=[activity.tstart, activity.tend])\n",
    "    return [pars[0], pars[1], activity.tend-activity.tstart]\n",
    "    \n",
    "def shape_pars(database: DataBaseEmulator, activity_name):\n",
    "    activities = []\n",
    "    for i in range(len(database.collections[\"activity\"])):\n",
    "        activity = database.get_item(\"activity\", i)\n",
    "        if activity.name == activity_name:\n",
    "            activities.append(activity)\n",
    "    return [shape_par(activity) for activity in activities]"
   ]
  },
  {
   "cell_type": "code",
   "execution_count": null,
   "metadata": {},
   "outputs": [],
   "source": [
    "cruising_cutins = shape_pars(cutins, \"cruising target\")\n",
    "cruising_cutins = np.array([np.concatenate((pars[0], [pars[2]])) for pars in cruising_cutins])\n",
    "cruising_targets = shape_pars(targets, \"cruising target\")\n",
    "cruising_targets = np.array([np.concatenate((pars[0], [pars[2]])) for pars in cruising_targets])\n",
    "cruising_targets = cruising_targets[cruising_targets[:, 0] != cruising_targets[:, 1]]\n",
    "deceleration_cutins = shape_pars(cutins, \"deceleration target\")\n",
    "deceleration_cutins = np.array([np.concatenate((pars[0], [pars[2]])) for pars in deceleration_cutins])\n",
    "deceleration_targets = shape_pars(targets, \"deceleration target\")\n",
    "deceleration_targets = np.array([np.concatenate((pars[0], [pars[2]])) \n",
    "                                 for pars in deceleration_targets])\n",
    "acceleration_cutins = shape_pars(cutins, \"acceleration target\")\n",
    "acceleration_cutins = np.array([np.concatenate((pars[0], [pars[2]])) for pars in acceleration_cutins])\n",
    "acceleration_targets = shape_pars(targets, \"acceleration target\")\n",
    "acceleration_targets = np.array([np.concatenate((pars[0], [pars[2]])) \n",
    "                                 for pars in acceleration_targets])"
   ]
  },
  {
   "cell_type": "code",
   "execution_count": null,
   "metadata": {},
   "outputs": [],
   "source": [
    "plt.plot(np.sort(cruising_cutins[:, 1]-cruising_cutins[:, 0]), \n",
    "         np.linspace(0, 1, len(cruising_cutins)))\n",
    "plt.plot(np.sort(cruising_targets[:, 1]-cruising_targets[:, 0]), \n",
    "         np.linspace(0, 1, len(cruising_targets)))\n",
    "plt.xlim([-5, 5])"
   ]
  },
  {
   "cell_type": "code",
   "execution_count": null,
   "metadata": {},
   "outputs": [],
   "source": [
    "for i in range(3):\n",
    "    print(ks_2samp(cruising_cutins[:, i], cruising_targets[:, i]))\n",
    "print(ks_2samp(cruising_cutins[:, 1]-cruising_cutins[:, 0], \n",
    "               cruising_targets[:, 1]-cruising_targets[:, 0]))"
   ]
  },
  {
   "cell_type": "code",
   "execution_count": null,
   "metadata": {},
   "outputs": [],
   "source": [
    "for i in range(3):\n",
    "    print(ks_2samp(deceleration_cutins[:, i], deceleration_targets[:, i]))"
   ]
  },
  {
   "cell_type": "code",
   "execution_count": null,
   "metadata": {},
   "outputs": [],
   "source": [
    "for i in range(3):\n",
    "    print(ks_2samp(acceleration_cutins[:, i], acceleration_targets[:, i]))"
   ]
  },
  {
   "cell_type": "markdown",
   "metadata": {},
   "source": [
    "# Plot a cut-in scenario"
   ]
  },
  {
   "cell_type": "code",
   "execution_count": null,
   "metadata": {},
   "outputs": [],
   "source": [
    "def plot_cutin(scenario, axes=None):\n",
    "    if axes is None:\n",
    "        _, axes = plt.subplots(1, 1)\n",
    "        axes.plot(0, 0, 'gx')\n",
    "    df = pd.DataFrame(index=np.arange(scenario.time[\"start\"], scenario.time[\"end\"], 0.01),\n",
    "                      columns=[\"x\", \"y\", \"act\"])\n",
    "    activity = next(activity for activity in scenario.activities \n",
    "                    if activity.activity_category.name == 'lane change target')\n",
    "    df[\"y\"] = activity.get_state(time=df.index.values)\n",
    "    \n",
    "    for activity in scenario.activities:\n",
    "        if activity.activity_category.state == StateVariable.LON_TARGET:\n",
    "            if activity.tstart < df.index[0]:\n",
    "                i = 0\n",
    "            else:\n",
    "                i = df.index.get_loc(activity.tstart, method='ffill')\n",
    "            if activity.tend > df.index[-1]:\n",
    "                j = len(df)\n",
    "            else:\n",
    "                j = df.index.get_loc(activity.tend, method='bfill')\n",
    "            df.loc[df.index[i]:df.index[j-1], \"x\"] = \\\n",
    "                activity.get_state(time=np.array(df.index[i:j]))[1]\n",
    "            if activity.activity_category.name == \"acceleration target\":\n",
    "                df.loc[df.index[i]:df.index[j-1], \"act\"] = \"a\"\n",
    "            elif activity.activity_category.name == \"deceleration target\":\n",
    "                df.loc[df.index[i]:df.index[j-1], \"act\"] = \"d\"\n",
    "            elif activity.activity_category.name == \"cruising target\":\n",
    "                df.loc[df.index[i]:df.index[j-1], \"act\"] = \"c\"\n",
    "            else:\n",
    "                raise ValueError(\"Unknown longitudinal activity\")\n",
    "                \n",
    "            if activity.tstart >= df.index[0]:\n",
    "                axes.plot(df.at[df.index[i], \"x\"], df.at[df.index[i], \"y\"], 'k.', ms=10)\n",
    "                \n",
    "    for act, color in zip([\"a\", \"d\", \"c\"], [\"g\", \"r\", \"b\"]):\n",
    "        mask = df[\"act\"] == act\n",
    "        if np.sum(mask):\n",
    "            axes.plot(df.loc[mask, \"x\"], df.loc[mask, \"y\"], color=color)\n",
    "    xmax = axes.get_xlim()[1]\n",
    "    axes.set_xlim([-10, xmax])\n",
    "    return axes"
   ]
  },
  {
   "cell_type": "code",
   "execution_count": null,
   "metadata": {},
   "outputs": [],
   "source": [
    "axes = plot_cutin(DBE.get_item(\"scenario\", 0))\n",
    "for i in range(1, 20):\n",
    "    plot_cutin(DBE.get_item(\"scenario\", i), axes=axes)\n",
    "plt.xlabel(\"Longitudinal position [m]\")\n",
    "plt.ylabel(\"Lateral position [m]\")"
   ]
  },
  {
   "cell_type": "markdown",
   "metadata": {},
   "source": [
    "# Step 1: Initial tags"
   ]
  },
  {
   "cell_type": "code",
   "execution_count": null,
   "metadata": {},
   "outputs": [],
   "source": [
    "for activity, abbr in zip([\"acceleration\", \"deceleration\", \"cruising\"], [\"a\", \"d\", \"c\"]):\n",
    "    print(\"Probability of {:12s}: {:4.0f} ({:d}/{:d})%\".\n",
    "          format(activity, np.sum(df[\"init_activity_target\"] == abbr)/nscenarios*100,\n",
    "                 np.sum(df[\"init_activity_target\"] == abbr), nscenarios))"
   ]
  },
  {
   "cell_type": "markdown",
   "metadata": {},
   "source": [
    "Furthermore, the initial lateral activity is always a lane change.\n",
    "\n",
    "# Step 2: Initial parameters\n",
    "\n",
    "The initial parameters consists of:\n",
    "\n",
    "- `ystart`: Initial lateral position w.r.t. center lane of ego\n",
    "- `xstart`: Initial longitudinal offset w.r.t. ego vehicle\n",
    "- `tlongitudinal`: Time at which the longitudinal activity starts\n",
    "- `vego`: Initial speed ego vehicle\n",
    "- `vstart`: Initial speed target at the start of the scenario"
   ]
  },
  {
   "cell_type": "code",
   "execution_count": null,
   "metadata": {},
   "outputs": [],
   "source": [
    "# Determine if the parameters depend on the initial longitudinal activity.\n",
    "def get_ks_result(act1, act2, signal):\n",
    "    values1 = df.loc[df[\"init_activity_target\"] == act1, signal].values\n",
    "    values2 = df.loc[df[\"init_activity_target\"] == act2, signal].values\n",
    "    result = ks_2samp(values1, values2)\n",
    "    return result.pvalue\n",
    "\n",
    "print(\"     Variable  KS test\")\n",
    "print(\"                 a-d    a-c    d-c\")\n",
    "for signal in ['ystart', 'yend', 'tstartlon', 'tstartlonmap', 'ystartabs', 'vego', 'vstart']:\n",
    "    print(\"{:>13s}\".format(signal), end=\"\")\n",
    "    for act1, act2 in zip([\"a\", \"a\", \"d\"], [\"d\", \"c\", \"c\"]):\n",
    "        print(\"  {:5.3f}\".format(get_ks_result(act1, act2, signal)), end=\"\")\n",
    "    print(\"\")"
   ]
  },
  {
   "cell_type": "markdown",
   "metadata": {},
   "source": [
    "Based on the KS-test, `ystart` is significantly differently distributed in case of acceleration activities. Similarly, `yend` is significantly differently distributed for acceleration activities when compared to cruising activities. When comparing deceleration and cruising activities, the parameter `tstartlon` seems to be differently distributed."
   ]
  },
  {
   "cell_type": "code",
   "execution_count": null,
   "metadata": {},
   "outputs": [],
   "source": [
    "def test_independent(data1, data2, verbose=False):\n",
    "    data = np.concatenate((data1, data2))\n",
    "    k, k1, k2 = KDE(data=data), KDE(data=data1), KDE(data=data2)\n",
    "    k.compute_bandwidth(), k1.compute_bandwidth(), k2.compute_bandwidth()\n",
    "    score1 = k.score_leave_one_out(include_const=True)\n",
    "    score2 = (k1.score_leave_one_out(include_const=True) + \n",
    "              k2.score_leave_one_out(include_const=True))\n",
    "    if verbose:\n",
    "        print(\"1 KDE:  {:7.2f}\".format(score1))\n",
    "        print(\"2 KDes: {:7.2f}\".format(score2))\n",
    "    return score1, score2\n",
    "\n",
    "print(\"     Variable  KDE test (positive means similarly distributed)\")\n",
    "print(\"                    a-d       a-c       d-c\")\n",
    "for signal in ['ystart', 'yend', 'tstartlonmap', 'vego', 'vstart']:\n",
    "    print(\"{:>13s}\".format(signal), end=\"\")\n",
    "    for act1, act2 in zip([\"a\", \"a\", \"d\"], [\"d\", \"c\", \"c\"]):\n",
    "        data1 = df.loc[df[\"init_activity_target\"] == act1, signal].values\n",
    "        data1 /= np.std(df[signal])\n",
    "        data2 = df.loc[df[\"init_activity_target\"] == act2, signal].values\n",
    "        data2 /= np.std(df[signal])\n",
    "        score1, score2 = test_independent(data1, data2)\n",
    "        print(\"  {:8.3f}\".format(score1 - score2), end=\"\")\n",
    "    print(\"\")"
   ]
  },
  {
   "cell_type": "code",
   "execution_count": null,
   "metadata": {},
   "outputs": [],
   "source": [
    "def leave_one_out_score(data):\n",
    "    kde = KDE(data=data)\n",
    "    kde.compute_bandwidth()\n",
    "    return kde.score_leave_one_out(include_const=True)\n",
    "def compute_score(data, combinations):\n",
    "    score = 0\n",
    "    for combination in combinations:\n",
    "        score += leave_one_out_score(data[:, combination])\n",
    "    return score\n",
    "print(\"a=ystart, b=xstart, c=tstartlon\")\n",
    "combinations = [([0, 1, 2],), ([0, 1], 2), ([0, 2], 1), (0, [1, 2]), (0, 1, 2)]\n",
    "str_combinations = ['(a,b,c)', '(a,b),(c)', '(a,c),(b)', '(a),(b,c)', '(a),(b),(c)']\n",
    "for act in [\"a\", \"d\", \"c\"]:\n",
    "    print(\"Initial activity: {:s}\".format(act))\n",
    "    data = df.loc[df[\"init_activity_target\"] == act, \n",
    "                  [\"ystart\", \"xstart\", \"tstartlon\"]].values\n",
    "    data /= np.std(data, axis=0)\n",
    "    scores = [compute_score(data, combination) for combination in combinations]\n",
    "    i_best = np.argmax(scores)\n",
    "    for i, (text, score) in enumerate(zip(str_combinations, scores)):\n",
    "        print(\"{:>12s}:  {:.3e}{:>10s}\".format(text, score, \"Best!\" if i==i_best else \"\"))"
   ]
  },
  {
   "cell_type": "code",
   "execution_count": null,
   "metadata": {},
   "outputs": [],
   "source": [
    "spearmanr(data[:, 0], data[:, 1])"
   ]
  },
  {
   "cell_type": "markdown",
   "metadata": {},
   "source": [
    "Conclusion: The parameters `ystart`, `xstart` and `tstartlon` will be sampled independently from each other. Furthermore, a different KDE is used for each initial longitudinal activity.\n",
    "\n",
    "But what would the result be if we go through all possibilities?"
   ]
  },
  {
   "cell_type": "code",
   "execution_count": null,
   "metadata": {},
   "outputs": [],
   "source": [
    "plt.plot(data[:, 0], data[:, 2], '.')"
   ]
  },
  {
   "cell_type": "code",
   "execution_count": null,
   "metadata": {},
   "outputs": [],
   "source": [
    "data = df[[\"ystart\", \"xstart\", \"tstartlonmap\"]].values\n",
    "for combination, str_combination in zip(combinations, str_combinations):\n",
    "    print(\"{:>12s}: \".format(str_combination), end=\"\")\n",
    "    total = 0\n",
    "    for c in combination:\n",
    "        # Take all\n",
    "        subdata = data[:, c]\n",
    "        best = leave_one_out_score(subdata)\n",
    "        print(\"{:7.1f} \".format(best))\n",
    "        \n",
    "        # Take acceleration apart\n",
    "        subdata1 = data[:, c][df[\"init_activity_target\"] == \"a\"]\n",
    "        subdata2 = data[:, c][np.logical_not(df[\"init_activity_target\"] == \"a\")]\n",
    "        score = leave_one_out_score(subdata1) + leave_one_out_score(subdata2)\n",
    "        print(\"{:7.1f} \".format(score))\n",
    "        if score > best:\n",
    "            best = score"
   ]
  },
  {
   "cell_type": "markdown",
   "metadata": {},
   "source": [
    "# Parameters activities\n",
    "\n",
    "For the lane change, we have the parameters `yend` and `duration`. Alternatively, `yspeed` might be used instead of one of these.\n",
    "\n",
    "For the longitudinal activity, we have the parameters `tend`, `vstart`, and `vend`. "
   ]
  },
  {
   "cell_type": "code",
   "execution_count": null,
   "metadata": {},
   "outputs": [],
   "source": [
    "print(\"  Variable  KS test\")\n",
    "print(\"              a-d    a-c    d-c\")\n",
    "for signal in ['duration', 'yend', 'yspeed']:\n",
    "    print(\"{:>10s}\".format(signal), end=\"\")\n",
    "    for act1, act2 in zip([\"a\", \"a\", \"d\"], [\"d\", \"c\", \"c\"]):\n",
    "        print(\"  {:5.3f}\".format(get_ks_result(act1, act2, signal)), end=\"\")\n",
    "    print(\"\")"
   ]
  },
  {
   "cell_type": "code",
   "execution_count": null,
   "metadata": {
    "scrolled": true
   },
   "outputs": [],
   "source": [
    "for act in ['a', 'd', 'c']:\n",
    "    n = np.sum(df[\"init_activity_target\"] == act)\n",
    "    plt.plot(np.sort(df.loc[df[\"init_activity_target\"] == act, \"ystart\"]),\n",
    "             np.linspace(0, 1, n), label=act)\n",
    "plt.legend()"
   ]
  },
  {
   "cell_type": "code",
   "execution_count": null,
   "metadata": {},
   "outputs": [],
   "source": [
    "# See if the lane change data is correlated.\n",
    "print(spearmanr(df[\"ystart\"], df[\"duration\"]))\n",
    "print(kendalltau(df[\"ystart\"], df[\"duration\"]))\n",
    "print(spearmanr(df[\"yend\"], df[\"duration\"]))\n",
    "print(kendalltau(df[\"yend\"], df[\"duration\"]))\n",
    "print(spearmanr(df[\"yend\"], df[\"ystart\"]))\n",
    "print(kendalltau(df[\"yend\"], df[\"ystart\"]))"
   ]
  },
  {
   "cell_type": "code",
   "execution_count": null,
   "metadata": {},
   "outputs": [],
   "source": [
    "print(spearmanr(np.abs(df[\"yend\"]), np.abs(df[\"ystart\"])))\n",
    "print(kendalltau(np.abs(df[\"yend\"]), np.abs(df[\"ystart\"])))"
   ]
  },
  {
   "cell_type": "code",
   "execution_count": null,
   "metadata": {},
   "outputs": [],
   "source": [
    "plt.plot(df[\"yend\"], df[\"ystart\"], '.')"
   ]
  },
  {
   "cell_type": "code",
   "execution_count": null,
   "metadata": {},
   "outputs": [],
   "source": [
    "x = df[\"ystart\"] - df[\"yend\"]\n",
    "x.loc[df[\"ystart\"] < 0] *= -1\n",
    "plt.plot(x, '.')"
   ]
  },
  {
   "cell_type": "code",
   "execution_count": null,
   "metadata": {},
   "outputs": [],
   "source": [
    "np.where(np.abs(df[\"ystart\"]) < 1)"
   ]
  },
  {
   "cell_type": "code",
   "execution_count": null,
   "metadata": {},
   "outputs": [],
   "source": [
    "plot_cutin(DBE.get_item(\"scenario\", 46))"
   ]
  },
  {
   "cell_type": "code",
   "execution_count": null,
   "metadata": {},
   "outputs": [],
   "source": [
    "s = DBE.get_item(\"scenario\", 46)"
   ]
  },
  {
   "cell_type": "code",
   "execution_count": null,
   "metadata": {},
   "outputs": [],
   "source": [
    "#plt.plot(s.activities[2].get_state())\n",
    "d = DataHandler(os.path.join(\"data\", \"1_hdf5\", \"20170530_PP_06_Run_1.hdf5\"))"
   ]
  },
  {
   "cell_type": "code",
   "execution_count": null,
   "metadata": {},
   "outputs": [],
   "source": [
    "t = d.targets[s.actors[1].properties[\"id\"]]\n",
    "plt.plot(t['line_left_next'])\n",
    "plt.plot(t['line_right_next'])"
   ]
  },
  {
   "cell_type": "code",
   "execution_count": null,
   "metadata": {},
   "outputs": [],
   "source": [
    "plt.plot(d.data[\"host_lateral_activity\"])\n",
    "plt.xlim([1940, 1960])"
   ]
  },
  {
   "cell_type": "code",
   "execution_count": null,
   "metadata": {},
   "outputs": [],
   "source": [
    "s.actors[1].properties"
   ]
  },
  {
   "cell_type": "code",
   "execution_count": null,
   "metadata": {},
   "outputs": [],
   "source": []
  },
  {
   "cell_type": "code",
   "execution_count": null,
   "metadata": {},
   "outputs": [],
   "source": []
  },
  {
   "cell_type": "code",
   "execution_count": null,
   "metadata": {},
   "outputs": [],
   "source": []
  },
  {
   "cell_type": "code",
   "execution_count": null,
   "metadata": {},
   "outputs": [],
   "source": []
  },
  {
   "cell_type": "code",
   "execution_count": null,
   "metadata": {},
   "outputs": [],
   "source": []
  },
  {
   "cell_type": "code",
   "execution_count": null,
   "metadata": {},
   "outputs": [],
   "source": []
  },
  {
   "cell_type": "code",
   "execution_count": null,
   "metadata": {},
   "outputs": [],
   "source": []
  },
  {
   "cell_type": "code",
   "execution_count": null,
   "metadata": {},
   "outputs": [],
   "source": []
  },
  {
   "cell_type": "code",
   "execution_count": null,
   "metadata": {},
   "outputs": [],
   "source": []
  },
  {
   "cell_type": "code",
   "execution_count": null,
   "metadata": {},
   "outputs": [],
   "source": []
  },
  {
   "cell_type": "code",
   "execution_count": null,
   "metadata": {},
   "outputs": [],
   "source": []
  },
  {
   "cell_type": "code",
   "execution_count": null,
   "metadata": {},
   "outputs": [],
   "source": []
  },
  {
   "cell_type": "code",
   "execution_count": null,
   "metadata": {},
   "outputs": [],
   "source": []
  },
  {
   "cell_type": "code",
   "execution_count": null,
   "metadata": {},
   "outputs": [],
   "source": []
  },
  {
   "cell_type": "code",
   "execution_count": null,
   "metadata": {},
   "outputs": [],
   "source": []
  },
  {
   "cell_type": "code",
   "execution_count": null,
   "metadata": {},
   "outputs": [],
   "source": []
  },
  {
   "cell_type": "code",
   "execution_count": null,
   "metadata": {},
   "outputs": [],
   "source": []
  },
  {
   "cell_type": "code",
   "execution_count": null,
   "metadata": {},
   "outputs": [],
   "source": []
  },
  {
   "cell_type": "code",
   "execution_count": null,
   "metadata": {},
   "outputs": [],
   "source": []
  },
  {
   "cell_type": "code",
   "execution_count": null,
   "metadata": {},
   "outputs": [],
   "source": []
  },
  {
   "cell_type": "code",
   "execution_count": null,
   "metadata": {},
   "outputs": [],
   "source": []
  },
  {
   "cell_type": "code",
   "execution_count": null,
   "metadata": {},
   "outputs": [],
   "source": []
  },
  {
   "cell_type": "code",
   "execution_count": null,
   "metadata": {},
   "outputs": [],
   "source": []
  },
  {
   "cell_type": "markdown",
   "metadata": {},
   "source": [
    "# Step 4: Next activity"
   ]
  },
  {
   "cell_type": "code",
   "execution_count": null,
   "metadata": {},
   "outputs": [],
   "source": [
    "# Compute 'transition' matrix\n",
    "A = np.zeros((3, 3))  # 'a', 'd', 'c'\n",
    "for i in range(nscenarios):\n",
    "    s = DBE.get_item(\"scenario\", i)\n",
    "    t_acts = []\n",
    "    lon_acts = []\n",
    "    for actor, activity, tstart in s.acts:\n",
    "        if actor.actor_category.name == \"cut-in vehicle\":\n",
    "            if activity.activity_category.state == StateVariable.LON_TARGET:\n",
    "                t_acts.append(tstart)\n",
    "                lon_acts.append(activity)\n",
    "    if len(t_acts) <= 1:\n",
    "        continue\n",
    "    i_sorted = np.argsort(t_acts)\n",
    "    for i, j in zip(i_sorted[:-1], i_sorted[1:]):\n",
    "        ia = (0 if lon_acts[i].activity_category.name == \"acceleration target\" else\n",
    "              1 if lon_acts[i].activity_category.name == \"deceleration target\" else 2)\n",
    "        ja = (0 if lon_acts[j].activity_category.name == \"acceleration target\" else\n",
    "              1 if lon_acts[j].activity_category.name == \"deceleration target\" else 2)\n",
    "        A[ia, ja] += 1"
   ]
  },
  {
   "cell_type": "code",
   "execution_count": null,
   "metadata": {},
   "outputs": [],
   "source": [
    "A"
   ]
  },
  {
   "cell_type": "code",
   "execution_count": null,
   "metadata": {},
   "outputs": [],
   "source": []
  },
  {
   "cell_type": "code",
   "execution_count": null,
   "metadata": {},
   "outputs": [],
   "source": [
    "import ot"
   ]
  },
  {
   "cell_type": "code",
   "execution_count": null,
   "metadata": {},
   "outputs": [],
   "source": []
  }
 ],
 "metadata": {
  "kernelspec": {
   "display_name": "Python 3",
   "language": "python",
   "name": "python3"
  },
  "language_info": {
   "codemirror_mode": {
    "name": "ipython",
    "version": 3
   },
   "file_extension": ".py",
   "mimetype": "text/x-python",
   "name": "python",
   "nbconvert_exporter": "python",
   "pygments_lexer": "ipython3",
   "version": "3.7.3"
  }
 },
 "nbformat": 4,
 "nbformat_minor": 2
}
