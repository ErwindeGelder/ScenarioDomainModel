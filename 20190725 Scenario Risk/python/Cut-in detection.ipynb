{
 "cells": [
  {
   "cell_type": "markdown",
   "metadata": {},
   "source": [
    "# Cut-in detection\n",
    "\n",
    "In this notebook, the cut ins are detected. "
   ]
  },
  {
   "cell_type": "code",
   "execution_count": null,
   "metadata": {},
   "outputs": [],
   "source": [
    "import cutin_detection"
   ]
  },
  {
   "cell_type": "code",
   "execution_count": null,
   "metadata": {
    "scrolled": false
   },
   "outputs": [],
   "source": [
    "%debug"
   ]
  },
  {
   "cell_type": "code",
   "execution_count": null,
   "metadata": {},
   "outputs": [],
   "source": [
    "import os\n",
    "import time\n",
    "import matplotlib.pyplot as plt\n",
    "import numpy as np\n",
    "import pandas as pd\n",
    "from scipy.stats import ks_2samp, kendalltau, spearmanr\n",
    "from domain_model import StateVariable\n",
    "from databaseemulator import DataBaseEmulator\n",
    "from stats import KDE"
   ]
  },
  {
   "cell_type": "code",
   "execution_count": null,
   "metadata": {},
   "outputs": [],
   "source": [
    "# Load the database with the cut-in scenarios.\n",
    "filename = os.path.join(\"data\", \"5_cutin_scenarios\", \"database.json\")\n",
    "DBE = DataBaseEmulator(filename)\n",
    "print(\"Number of scenarios: {:d}\".format(len(DBE.collections[\"scenario\"])))"
   ]
  },
  {
   "cell_type": "code",
   "execution_count": null,
   "metadata": {},
   "outputs": [],
   "source": [
    "def cutin_parameters(scenario):\n",
    "    # Obtain the duration of the lane change.\n",
    "    activity = next(activity for activity in scenario.activities \n",
    "                    if activity.activity_category.name == 'lane change target')\n",
    "    duration = activity.tduration\n",
    "    ystart = activity.get_state(time=scenario.time[\"start\"])[0]\n",
    "    yend = activity.get_state(time=scenario.time[\"end\"])[0]\n",
    "    tstart = activity.tstart\n",
    "    from_direction = 'r' if activity.name == \"left lane change\" else 'r'\n",
    "    \n",
    "    # Obtain longitudinal speed/position at time of start cut in.\n",
    "    vstart, vend = None, None\n",
    "    xstart = None\n",
    "    init_activity_target = ''\n",
    "    for activity in scenario.activities:\n",
    "        if activity.activity_category.state == StateVariable.LON_TARGET and \\\n",
    "                activity.tstart <= scenario.time[\"start\"] <= activity.tend:\n",
    "            vstart = activity.get_state(time=scenario.time[\"start\"])[0][0]\n",
    "            vend = activity.get_state(time=activity.tend)[0][0]\n",
    "            xstart = activity.get_state(time=scenario.time[\"start\"])[1][0]\n",
    "            if activity.activity_category.name == \"deceleration target\":\n",
    "                init_activity_target = 'd'\n",
    "            elif activity.activity_category.name == \"acceleration target\":\n",
    "                init_activity_target = 'a'\n",
    "            else:\n",
    "                init_activity_target = 'c'\n",
    "            tstartlon = activity.tstart\n",
    "            tendlin = activity.tend\n",
    "            break\n",
    "            \n",
    "    # Obtain ego vehicle speed at time of start cut in.\n",
    "    vego = None\n",
    "    for actor, activity, _ in scenario.acts:\n",
    "        if actor.name == \"ego vehicle\" and \\\n",
    "            activity.activity_category.state == StateVariable.SPEED and \\\n",
    "                activity.tstart <= scenario.time[\"start\"] <= activity.tend:\n",
    "            vego = activity.get_state(time=scenario.time[\"start\"])[0]\n",
    "            \n",
    "    return [duration, ystart, yend, xstart, vstart, vego,\n",
    "            from_direction, init_activity_target, tstartlon, tendlin]"
   ]
  },
  {
   "cell_type": "code",
   "execution_count": null,
   "metadata": {},
   "outputs": [],
   "source": [
    "# Get parameters of the cut-in: [duration, ystart, yend, xstart]\n",
    "nscenarios = len(DBE.collections[\"scenario\"])\n",
    "#pars = [cutin_parameters(DBE.get_item(\"scenario\", i)) for i in range(nscenarios)]\n",
    "df = pd.DataFrame([cutin_parameters(DBE.get_item(\"scenario\", i)) for i in range(nscenarios)], \n",
    "                  columns=['duration', 'ystart', 'yend', 'xstart', 'vstart', 'vego',\n",
    "                           'from_direction', 'init_activity_target', 'tstartlon', 'tendlin'])\n",
    "df[\"vdiff\"] = df[\"vstart\"] - df[\"vego\"]\n",
    "df[\"ystartabs\"] = np.abs(df[\"ystart\"])\n",
    "df[\"yspeed\"] = (df[\"yend\"] - df[\"ystart\"]) / df[\"duration\"]\n",
    "df[\"yspeedabs\"] = np.abs(df[\"yspeed\"])"
   ]
  },
  {
   "cell_type": "markdown",
   "metadata": {},
   "source": [
    "# Plot a cut-in scenario"
   ]
  },
  {
   "cell_type": "code",
   "execution_count": null,
   "metadata": {},
   "outputs": [],
   "source": [
    "def plot_cutin(scenario, axes=None):\n",
    "    if axes is None:\n",
    "        _, axes = plt.subplots(1, 1)\n",
    "        axes.plot(0, 0, 'gx')\n",
    "    df = pd.DataFrame(index=np.arange(scenario.time[\"start\"], scenario.time[\"end\"], 0.01),\n",
    "                      columns=[\"x\", \"y\", \"act\"])\n",
    "    activity = next(activity for activity in scenario.activities \n",
    "                    if activity.activity_category.name == 'lane change target')\n",
    "    df[\"y\"] = activity.get_state(time=df.index.values)\n",
    "    \n",
    "    for activity in scenario.activities:\n",
    "        if activity.activity_category.state == StateVariable.LON_TARGET:\n",
    "            if activity.tstart < df.index[0]:\n",
    "                i = 0\n",
    "            else:\n",
    "                i = df.index.get_loc(activity.tstart, method='ffill')\n",
    "            if activity.tend > df.index[-1]:\n",
    "                j = len(df)\n",
    "            else:\n",
    "                j = df.index.get_loc(activity.tend, method='bfill')\n",
    "            df.loc[df.index[i]:df.index[j-1], \"x\"] = \\\n",
    "                activity.get_state(time=np.array(df.index[i:j]))[1]\n",
    "            if activity.activity_category.name == \"acceleration target\":\n",
    "                df.loc[df.index[i]:df.index[j-1], \"act\"] = \"a\"\n",
    "            elif activity.activity_category.name == \"deceleration target\":\n",
    "                df.loc[df.index[i]:df.index[j-1], \"act\"] = \"d\"\n",
    "            elif activity.activity_category.name == \"cruising target\":\n",
    "                df.loc[df.index[i]:df.index[j-1], \"act\"] = \"c\"\n",
    "            else:\n",
    "                raise ValueError(\"Unknown longitudinal activity\")\n",
    "    for act, color in zip([\"a\", \"d\", \"c\"], [\"g\", \"r\", \"b\"]):\n",
    "        mask = df[\"act\"] == act\n",
    "        if np.sum(mask):\n",
    "            axes.plot(df.loc[mask, \"x\"], df.loc[mask, \"y\"], color=color)\n",
    "    xmax = axes.get_xlim()[1]\n",
    "    axes.set_xlim([-10, xmax])\n",
    "    return axes"
   ]
  },
  {
   "cell_type": "code",
   "execution_count": null,
   "metadata": {},
   "outputs": [],
   "source": [
    "axes = plot_cutin(DBE.get_item(\"scenario\", 0))\n",
    "for i in range(1, 20):\n",
    "    plot_cutin(DBE.get_item(\"scenario\", i), axes=axes)"
   ]
  },
  {
   "cell_type": "markdown",
   "metadata": {},
   "source": [
    "# Step 1: Initial tags"
   ]
  },
  {
   "cell_type": "code",
   "execution_count": null,
   "metadata": {},
   "outputs": [],
   "source": [
    "for activity, abbr in zip([\"acceleration\", \"deceleration\", \"cruising\"], [\"a\", \"d\", \"c\"]):\n",
    "    print(\"Probability of {:12s}: {:4.1f} %\".\n",
    "          format(activity, np.sum(df[\"init_activity_target\"] == abbr)/nscenarios*100))"
   ]
  },
  {
   "cell_type": "markdown",
   "metadata": {},
   "source": [
    "Furthermore, the initial lateral activity is always a lane change.\n",
    "\n",
    "# Step 2: Initial parameters\n",
    "\n",
    "The initial parameters consists of:\n",
    "\n",
    "- `ystart`: Initial lateral position w.r.t. center lane of ego\n",
    "- `xstart`: Initial longitudinal offset w.r.t. ego vehicle\n",
    "- `tlongitudinal`: Time at which the longitudinal activity starts"
   ]
  },
  {
   "cell_type": "code",
   "execution_count": null,
   "metadata": {},
   "outputs": [],
   "source": [
    "# Determine if the parameters depend on the initial longitudinal activity.\n",
    "def get_ks_result(act1, act2, signal):\n",
    "    values1 = df.loc[df[\"init_activity_target\"] == act1, signal].values\n",
    "    values2 = df.loc[df[\"init_activity_target\"] == act2, signal].values\n",
    "    result = ks_2samp(values1, values2)\n",
    "    return result.pvalue\n",
    "\n",
    "print(\"  Variable  KS test\")\n",
    "print(\"              a-d    a-c    d-c\")\n",
    "for signal in ['ystart', 'yend', 'tstartlon', 'ystartabs']:\n",
    "    print(\"{:>10s}\".format(signal), end=\"\")\n",
    "    for act1, act2 in zip([\"a\", \"a\", \"d\"], [\"d\", \"c\", \"c\"]):\n",
    "        print(\"  {:5.3f}\".format(get_ks_result(act1, act2, signal)), end=\"\")\n",
    "    print(\"\")"
   ]
  },
  {
   "cell_type": "code",
   "execution_count": null,
   "metadata": {},
   "outputs": [],
   "source": [
    "def test_independent(data1, data2):\n",
    "    data = np.concatenate((data1, data2))\n",
    "    k, k1, k2 = KDE(data=data), KDE(data=data1), KDE(data=data2)\n",
    "    k.compute_bandwidth(), k1.compute_bandwidth(), k2.compute_bandwidth()\n",
    "    print(\"1 KDE:  {:7.2f}\".format(k.score_leave_one_out(include_const=True)))\n",
    "    print(\"2 KDes: {:7.2f}\".format(k1.score_leave_one_out(include_const=True) + \n",
    "                                   k2.score_leave_one_out(include_const=True)))\n",
    "data1 = df.loc[df[\"init_activity_target\"] == \"d\", \"yend\"].values\n",
    "data2 = df.loc[df[\"init_activity_target\"] == \"c\", \"yend\"].values\n",
    "test_independent(data1, data2)"
   ]
  },
  {
   "cell_type": "code",
   "execution_count": null,
   "metadata": {},
   "outputs": [],
   "source": [
    "np.random.seed(0)\n",
    "data1 = np.random.randn(20) - 3\n",
    "data2 = np.random.randn(20) + 3\n",
    "data = np.concatenate((data1, data2))\n",
    "k, k1, k2 = KDE(data=data), KDE(data=data1), KDE(data=data2)\n",
    "k.compute_bandwidth(), k1.compute_bandwidth(), k2.compute_bandwidth()"
   ]
  },
  {
   "cell_type": "code",
   "execution_count": null,
   "metadata": {},
   "outputs": [],
   "source": [
    "xpdf = np.linspace(-7, 7, 100)\n",
    "ypdf, ypdf1, ypdf2 = k.score_samples(xpdf), k1.score_samples(xpdf), k2.score_samples(xpdf)\n",
    "plt.plot(xpdf, ypdf)\n",
    "plt.plot(xpdf, ypdf1)\n",
    "plt.plot(xpdf, ypdf2)"
   ]
  },
  {
   "cell_type": "code",
   "execution_count": null,
   "metadata": {},
   "outputs": [],
   "source": [
    "np.sum(np.log(k.score_samples(data)))"
   ]
  },
  {
   "cell_type": "code",
   "execution_count": null,
   "metadata": {},
   "outputs": [],
   "source": [
    "np.sum(np.log(k1.score_samples(data1)))"
   ]
  },
  {
   "cell_type": "code",
   "execution_count": null,
   "metadata": {},
   "outputs": [],
   "source": [
    "np.sum(np.log(k2.score_samples(data2)))"
   ]
  },
  {
   "cell_type": "code",
   "execution_count": null,
   "metadata": {},
   "outputs": [],
   "source": [
    "k2.score_leave_one_out(include_const=True)"
   ]
  },
  {
   "cell_type": "code",
   "execution_count": null,
   "metadata": {},
   "outputs": [],
   "source": []
  },
  {
   "cell_type": "code",
   "execution_count": null,
   "metadata": {},
   "outputs": [],
   "source": []
  },
  {
   "cell_type": "code",
   "execution_count": null,
   "metadata": {},
   "outputs": [],
   "source": []
  },
  {
   "cell_type": "code",
   "execution_count": null,
   "metadata": {},
   "outputs": [],
   "source": []
  },
  {
   "cell_type": "code",
   "execution_count": null,
   "metadata": {},
   "outputs": [],
   "source": []
  },
  {
   "cell_type": "code",
   "execution_count": null,
   "metadata": {},
   "outputs": [],
   "source": []
  },
  {
   "cell_type": "code",
   "execution_count": null,
   "metadata": {},
   "outputs": [],
   "source": []
  },
  {
   "cell_type": "code",
   "execution_count": null,
   "metadata": {},
   "outputs": [],
   "source": []
  },
  {
   "cell_type": "code",
   "execution_count": null,
   "metadata": {},
   "outputs": [],
   "source": []
  },
  {
   "cell_type": "code",
   "execution_count": null,
   "metadata": {},
   "outputs": [],
   "source": []
  },
  {
   "cell_type": "code",
   "execution_count": null,
   "metadata": {},
   "outputs": [],
   "source": []
  },
  {
   "cell_type": "code",
   "execution_count": null,
   "metadata": {},
   "outputs": [],
   "source": [
    "def compute_score(data, combinations):\n",
    "    score = 0\n",
    "    for combination in combinations:\n",
    "        kde = KDE(data=data[:, combination])\n",
    "        kde.compute_bandwidth()\n",
    "        score += kde.score_leave_one_out(include_const=True)\n",
    "    return score\n",
    "print(\"a=ystart, b=xstart, c=tstartlon\")\n",
    "for act in [\"a\", \"d\", \"c\"]:\n",
    "    print(\"Initial activity: {:s}\".format(act))\n",
    "    data = df.loc[df[\"init_activity_target\"] == act, \n",
    "                  [\"ystart\", \"xstart\", \"tstartlon\"]].values\n",
    "    data /= np.std(data, axis=0)\n",
    "    scores = [compute_score(data, combinations) \n",
    "              for combinations in [([0, 1, 2],), ([0, 1], 2), ([0, 2], 1), (0, [1, 2]), (0, 1, 2)]]\n",
    "    i_best = np.argmax(scores)\n",
    "    for i, (text, score) in \\\n",
    "            enumerate(zip(['(a,b,c)', '(a,b),(c)', '(a,c),(b)', '(a),(b,c)', '(a),(b),(c)'], scores)):\n",
    "        print(\"{:>12s}:  {:.3e}{:>10s}\".format(text, score, \"Best!\" if i==i_best else \"\"))"
   ]
  },
  {
   "cell_type": "markdown",
   "metadata": {},
   "source": [
    "Conclusion: The parameters `ystart`, `xstart` and `tstartlon` will be sampled independently from each other. Furthermore, a different KDE is used for each initial longitudinal activity.\n",
    "\n",
    "# Parameters activities\n",
    "\n",
    "For the lane change, we have the parameters `yend` and `duration`. Alternatively, `yspeed` might be used instead of one of these.\n",
    "\n",
    "For the longitudinal activity, we have the parameters `tend`, `vstart`, and `vend`. "
   ]
  },
  {
   "cell_type": "code",
   "execution_count": null,
   "metadata": {},
   "outputs": [],
   "source": [
    "# Determine if the parameters depend on the initial longitudinal activity.\n",
    "def get_ks_result(act1, act2, signal):\n",
    "    values1 = df.loc[df[\"init_activity_target\"] == act1, signal].values\n",
    "    values2 = df.loc[df[\"init_activity_target\"] == act2, signal].values\n",
    "    result = ks_2samp(values1, values2)\n",
    "    return result.pvalue\n",
    "\n",
    "print(\"  Variable  KS test\")\n",
    "print(\"              a-d    a-c    d-c\")\n",
    "for signal in ['duration', 'yend', 'yspeed', 'yspeedabs']:\n",
    "    print(\"{:>10s}\".format(signal), end=\"\")\n",
    "    for act1, act2 in zip([\"a\", \"a\", \"d\"], [\"d\", \"c\", \"c\"]):\n",
    "        print(\"  {:5.3f}\".format(get_ks_result(act1, act2, signal)), end=\"\")\n",
    "    print(\"\")"
   ]
  },
  {
   "cell_type": "code",
   "execution_count": null,
   "metadata": {},
   "outputs": [],
   "source": [
    "df['ystart']"
   ]
  },
  {
   "cell_type": "code",
   "execution_count": null,
   "metadata": {},
   "outputs": [],
   "source": [
    "def get_ks_result(act1, act2, signal):\n",
    "    values1 = df.loc[df[\"init_activity_target\"] == act1, signal].values\n",
    "    values2 = df.loc[df[\"init_activity_target\"] == act2, signal].values\n",
    "    result = ks_2samp(values1, values2)\n",
    "    return result.pvalue\n",
    "\n",
    "print(\"  Variable  KS test\")\n",
    "print(\"              a-d    a-c    d-c\")\n",
    "for signal in ['duration', 'ystart', 'yend', 'ystartabs']:\n",
    "    print(\"{:>10s}\".format(signal), end=\"\")\n",
    "    for act1, act2 in zip([\"a\", \"a\", \"d\"], [\"d\", \"c\", \"c\"]):\n",
    "        print(\"  {:5.3f}\".format(get_ks_result(act1, act2, signal)), end=\"\")\n",
    "    print(\"\")"
   ]
  },
  {
   "cell_type": "code",
   "execution_count": null,
   "metadata": {
    "scrolled": true
   },
   "outputs": [],
   "source": [
    "for act in ['a', 'd', 'c']:\n",
    "    n = np.sum(df[\"init_activity_target\"] == act)\n",
    "    plt.plot(np.sort(df.loc[df[\"init_activity_target\"] == act, \"ystart\"]),\n",
    "             np.linspace(0, 1, n), label=act)\n",
    "plt.legend()"
   ]
  },
  {
   "cell_type": "code",
   "execution_count": null,
   "metadata": {},
   "outputs": [],
   "source": [
    "# See if the lane change data is correlated.\n",
    "print(spearmanr(df[\"ystart\"], df[\"duration\"]))\n",
    "print(kendalltau(df[\"ystart\"], df[\"duration\"]))\n",
    "print(spearmanr(df[\"yend\"], df[\"duration\"]))\n",
    "print(kendalltau(df[\"yend\"], df[\"duration\"]))\n",
    "print(spearmanr(df[\"yend\"], df[\"ystart\"]))\n",
    "print(kendalltau(df[\"yend\"], df[\"ystart\"]))"
   ]
  },
  {
   "cell_type": "code",
   "execution_count": null,
   "metadata": {},
   "outputs": [],
   "source": []
  },
  {
   "cell_type": "code",
   "execution_count": null,
   "metadata": {},
   "outputs": [],
   "source": []
  },
  {
   "cell_type": "code",
   "execution_count": null,
   "metadata": {},
   "outputs": [],
   "source": []
  },
  {
   "cell_type": "code",
   "execution_count": null,
   "metadata": {},
   "outputs": [],
   "source": []
  },
  {
   "cell_type": "code",
   "execution_count": null,
   "metadata": {},
   "outputs": [],
   "source": []
  },
  {
   "cell_type": "code",
   "execution_count": null,
   "metadata": {},
   "outputs": [],
   "source": []
  },
  {
   "cell_type": "code",
   "execution_count": null,
   "metadata": {},
   "outputs": [],
   "source": []
  },
  {
   "cell_type": "markdown",
   "metadata": {},
   "source": [
    "# Step 4: Next activity"
   ]
  },
  {
   "cell_type": "code",
   "execution_count": null,
   "metadata": {},
   "outputs": [],
   "source": [
    "# Compute 'transition' matrix\n",
    "A = np.zeros((3, 3))  # 'a', 'd', 'c'\n",
    "for i in range(nscenarios):\n",
    "    s = DBE.get_item(\"scenario\", i)\n",
    "    t_acts = []\n",
    "    lon_acts = []\n",
    "    for actor, activity, tstart in s.acts:\n",
    "        if actor.actor_category.name == \"cut-in vehicle\":\n",
    "            if activity.activity_category.state == StateVariable.LON_TARGET:\n",
    "                t_acts.append(tstart)\n",
    "                lon_acts.append(activity)\n",
    "    if len(t_acts) <= 1:\n",
    "        continue\n",
    "    i_sorted = np.argsort(t_acts)\n",
    "    for i, j in zip(i_sorted[:-1], i_sorted[1:]):\n",
    "        ia = (0 if lon_acts[i].activity_category.name == \"acceleration target\" else\n",
    "              1 if lon_acts[i].activity_category.name == \"deceleration target\" else 2)\n",
    "        ja = (0 if lon_acts[j].activity_category.name == \"acceleration target\" else\n",
    "              1 if lon_acts[j].activity_category.name == \"deceleration target\" else 2)\n",
    "        A[ia, ja] += 1"
   ]
  },
  {
   "cell_type": "code",
   "execution_count": null,
   "metadata": {},
   "outputs": [],
   "source": [
    "A"
   ]
  },
  {
   "cell_type": "code",
   "execution_count": null,
   "metadata": {},
   "outputs": [],
   "source": []
  },
  {
   "cell_type": "code",
   "execution_count": null,
   "metadata": {},
   "outputs": [],
   "source": []
  }
 ],
 "metadata": {
  "kernelspec": {
   "display_name": "Python 3",
   "language": "python",
   "name": "python3"
  },
  "language_info": {
   "codemirror_mode": {
    "name": "ipython",
    "version": 3
   },
   "file_extension": ".py",
   "mimetype": "text/x-python",
   "name": "python",
   "nbconvert_exporter": "python",
   "pygments_lexer": "ipython3",
   "version": "3.7.3"
  }
 },
 "nbformat": 4,
 "nbformat_minor": 2
}
