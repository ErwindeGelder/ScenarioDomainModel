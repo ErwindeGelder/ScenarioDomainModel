{
 "cells": [
  {
   "cell_type": "markdown",
   "metadata": {},
   "source": [
    "# Experiments for paper on surrogate metric"
   ]
  },
  {
   "cell_type": "code",
   "execution_count": null,
   "metadata": {},
   "outputs": [],
   "source": [
    "import os\n",
    "import matplotlib.pyplot as plt\n",
    "import numpy as np\n",
    "import pickle\n",
    "from simulation import WangStamatiadis, WSDriver, SimulationApproaching, ws_approaching_pars"
   ]
  },
  {
   "cell_type": "markdown",
   "metadata": {},
   "source": [
    "### Parameters"
   ]
  },
  {
   "cell_type": "code",
   "execution_count": null,
   "metadata": {},
   "outputs": [],
   "source": [
    "OVERWRITE = True"
   ]
  },
  {
   "cell_type": "markdown",
   "metadata": {},
   "source": [
    "## Show that our metric is a generalisation of W&S' metric"
   ]
  },
  {
   "cell_type": "code",
   "execution_count": null,
   "metadata": {},
   "outputs": [],
   "source": [
    "N_MONTE_CARLO_WS = 500\n",
    "WS_TTCS = np.linspace(.5, 4, 36)\n",
    "WS_SPEED_DIFFS = [10, 20, 30]\n",
    "WS_LINESTYLES = ['-', '--', ':']\n",
    "WS_COLORS = [(0, 0, 0), (.3, .3, .3)]\n",
    "WS_LINEWIDTHS = [3, 2]\n",
    "WS_FILENAME = os.path.join(\"data\", \"7_simulation_results\", \"ws_comparison.p\")"
   ]
  },
  {
   "cell_type": "code",
   "execution_count": null,
   "metadata": {},
   "outputs": [],
   "source": [
    "driver = WSDriver()\n",
    "simulation = SimulationApproaching([driver], [ws_approaching_pars])\n",
    "simulation.min_simulations = 30\n",
    "def ws_with_our_method(ttc: float, speed_diff: float):\n",
    "    return simulation.get_probability(dict(vego=speed_diff, ratio_vtar_vego=0, \n",
    "                                           init_position=ttc*speed_diff))\n",
    "    \n",
    "ws = WangStamatiadis()"
   ]
  },
  {
   "cell_type": "code",
   "execution_count": null,
   "metadata": {},
   "outputs": [],
   "source": [
    "if os.path.exists(WS_FILENAME):\n",
    "    with open(FILENAME, \"rb\") as file:\n",
    "        result = pickle.load(file)\n",
    "if not os.path.exists(WS_FILENAME) or overwrite or \\\n",
    "        not result.shape == (len(WS_TTCS), len(WS_SPEED_DIFFS), 2):\n",
    "    result = np.zeros((len(WS_TTCS), len(WS_SPEED_DIFFS), 2))\n",
    "    np.random.seed(0)\n",
    "    for i, ttc in enumerate(WS_TTCS):\n",
    "        for j, speed_diff in enumerate(WS_SPEED_DIFFS):\n",
    "            result[i, j, 0] = ws.prob_collision(ttc, speed_diff)\n",
    "            result[i, j, 1] = ws_with_our_method(ttc, speed_diff)"
   ]
  },
  {
   "cell_type": "code",
   "execution_count": null,
   "metadata": {},
   "outputs": [],
   "source": [
    "for i, speed_diff in enumerate(WS_SPEED_DIFFS):\n",
    "    plt.plot(WS_TTCS, result[:, i, 0], ls=WS_LINESTYLES[i], color=WS_COLORS[0], \n",
    "             lw=WS_LINEWIDTHS[0])\n",
    "    plt.plot(WS_TTCS, result[:, i, 1], ls=WS_LINESTYLES[i], color=WS_COLORS[1],\n",
    "             lw=WS_LINEWIDTHS[1])\n",
    "plt.xlabel(\"TTC [s]\")\n",
    "plt.ylabel(\"$P(C|x)$ according to the WS metric\")"
   ]
  },
  {
   "cell_type": "code",
   "execution_count": null,
   "metadata": {},
   "outputs": [],
   "source": []
  }
 ],
 "metadata": {
  "kernelspec": {
   "display_name": "Python 3",
   "language": "python",
   "name": "python3"
  },
  "language_info": {
   "codemirror_mode": {
    "name": "ipython",
    "version": 3
   },
   "file_extension": ".py",
   "mimetype": "text/x-python",
   "name": "python",
   "nbconvert_exporter": "python",
   "pygments_lexer": "ipython3",
   "version": "3.7.3"
  }
 },
 "nbformat": 4,
 "nbformat_minor": 2
}
