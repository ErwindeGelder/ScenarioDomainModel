{
 "cells": [
  {
   "cell_type": "code",
   "execution_count": null,
   "metadata": {},
   "outputs": [],
   "source": [
    "import time\n",
    "import os\n",
    "import pandas as pd\n",
    "import numpy as np\n",
    "from glob import glob\n",
    "from activity_detector import ActivityDetector\n",
    "import lateral_events\n",
    "import longitudinal_events\n",
    "%matplotlib inline\n",
    "%load_ext autoreload\n",
    "%autoreload 2"
   ]
  },
  {
   "cell_type": "code",
   "execution_count": null,
   "metadata": {},
   "outputs": [],
   "source": [
    "data_folder = os.path.join('..', '..', '..', '..', '..', 'TNO', 'Manders, T.M.C. (Jeroen) - ERP2017Release')\n",
    "datafiles = glob(os.path.join(data_folder, 'Data', '*.hdf5'))\n",
    "signal_descriptions = pd.read_csv(os.path.join(data_folder, 'signal_descriptions.csv'), \n",
    "                                  index_col=0).squeeze().to_dict()"
   ]
  },
  {
   "cell_type": "code",
   "execution_count": null,
   "metadata": {},
   "outputs": [],
   "source": [
    "df = pd.read_hdf(datafiles[0])\n",
    "df.keys()\n",
    "AD = ActivityDetector(df.copy())"
   ]
  },
  {
   "cell_type": "markdown",
   "metadata": {},
   "source": [
    "# Longitudinal activities host vehicle"
   ]
  },
  {
   "cell_type": "code",
   "execution_count": null,
   "metadata": {},
   "outputs": [],
   "source": [
    "# Prepare dataframe for usage of \"longitudinal_events\"\n",
    "settings = dict(fps=100)\n",
    "df['odom_vx'] = df['Host_vx']*3.6"
   ]
  },
  {
   "cell_type": "code",
   "execution_count": null,
   "metadata": {},
   "outputs": [],
   "source": [
    "tstart = time.time()\n",
    "_, events = longitudinal_events.get_ego(settings, df)\n",
    "print(\"Elapsed time: {:.2f} s\".format(time.time() - tstart))"
   ]
  },
  {
   "cell_type": "code",
   "execution_count": null,
   "metadata": {},
   "outputs": [],
   "source": [
    "tstart = time.time()\n",
    "events2 = AD.long_activities_host()\n",
    "print(\"Elapsed time: {:.2f} s\".format(time.time() - tstart))\n",
    "assert events == events2, \"Events not the same :(\""
   ]
  },
  {
   "cell_type": "markdown",
   "metadata": {},
   "source": [
    "# Lateral activities host vehicle"
   ]
  },
  {
   "cell_type": "code",
   "execution_count": null,
   "metadata": {},
   "outputs": [],
   "source": [
    "# Prepare dataframe for usage of \"longitudinal_events\"\n",
    "df = df.rename(columns={'Host_line_left_c0': 'line_left_y',\n",
    "                        'Host_line_right_c0': 'line_right_y',\n",
    "                        'Host_line_left_quality': 'lines_0_confidence',\n",
    "                        'Host_line_right_quality': 'lines_1_confidence'})"
   ]
  },
  {
   "cell_type": "code",
   "execution_count": null,
   "metadata": {},
   "outputs": [],
   "source": [
    "tstart = time.time()\n",
    "_, events = lateral_events.get_ego(settings, df)\n",
    "print(\"Elapsed time: {:.2f} s\".format(time.time() - tstart))"
   ]
  },
  {
   "cell_type": "code",
   "execution_count": null,
   "metadata": {},
   "outputs": [],
   "source": [
    "tstart = time.time()\n",
    "events2 = AD.lat_activities_host()\n",
    "print(\"Elapsed time: {:.2f} s\".format(time.time() - tstart))\n",
    "assert events == events2, \"Events not the same :(\""
   ]
  },
  {
   "cell_type": "markdown",
   "metadata": {},
   "source": [
    "# Longitudinal activities target"
   ]
  },
  {
   "cell_type": "code",
   "execution_count": null,
   "metadata": {},
   "outputs": [],
   "source": [
    "i_target = 1\n",
    "target_df = df[['Target_{:d}_vx'.format(i_target)]].copy()\n",
    "# target_df['odom_vx'] = target_df['Target_{:d}_vx'.format(i_target)]*3.6\n",
    "target_df['odom_vx'] = target_df['Target_{:d}_vx'.format(i_target)]*3.6"
   ]
  },
  {
   "cell_type": "code",
   "execution_count": null,
   "metadata": {},
   "outputs": [],
   "source": [
    "tstart = time.time()\n",
    "_, events = longitudinal_events.get_target(settings, target_df)\n",
    "print(\"Elapsed time: {:.2f} s\".format(time.time() - tstart))"
   ]
  },
  {
   "cell_type": "code",
   "execution_count": null,
   "metadata": {
    "scrolled": false
   },
   "outputs": [],
   "source": [
    "tstart = time.time()\n",
    "events2 = AD.long_activities_target_i(i_target)\n",
    "print(\"Elapsed time: {:.2f} s\".format(time.time() - tstart))\n",
    "assert events == events2, \"Events not the same :(\""
   ]
  },
  {
   "cell_type": "markdown",
   "metadata": {},
   "source": [
    "# Lateral activities target"
   ]
  },
  {
   "cell_type": "code",
   "execution_count": null,
   "metadata": {},
   "outputs": [],
   "source": [
    "i_target = 1\n",
    "target_df = df[['Target_{:d}_id'.format(i_target), \n",
    "                'Target_{:d}_age'.format(i_target), \n",
    "                'Target_{:d}_dx'.format(i_target), \n",
    "                'Target_{:d}_dy'.format(i_target), \n",
    "                'Target_{:d}_vx'.format(i_target), \n",
    "                'Target_{:d}_ax'.format(i_target)]]\n",
    "target_df = target_df.rename(columns={'Target_{:d}_dx'.format(i_target): 'pose_x', \n",
    "                                      'Target_{:d}_dy'.format(i_target): 'pose_y'})\n",
    "df = df.rename(columns={'Host_line_left_c1': 'lines_0_c1',\n",
    "                        'Host_line_left_c2': 'lines_0_c2', \n",
    "                        'Host_line_left_c3': 'lines_0_c3',\n",
    "                        'Host_line_right_c1': 'lines_1_c1',\n",
    "                        'Host_line_right_c2': 'lines_1_c2', \n",
    "                        'Host_line_right_c3': 'lines_1_c3'})"
   ]
  },
  {
   "cell_type": "code",
   "execution_count": null,
   "metadata": {},
   "outputs": [],
   "source": [
    "tstart = time.time()\n",
    "_, events = lateral_events.get_target(settings, df, target_df)\n",
    "print(\"Elapsed time: {:.2f} s\".format(time.time() - tstart))"
   ]
  },
  {
   "cell_type": "code",
   "execution_count": null,
   "metadata": {
    "scrolled": false
   },
   "outputs": [],
   "source": [
    "tstart = time.time()\n",
    "events2 = AD.lat_activities_target_i(i_target)\n",
    "print(\"Elapsed time: {:.2f} s\".format(time.time() - tstart))\n",
    "assert events == events2, \"Events not the same :(\""
   ]
  }
 ],
 "metadata": {
  "kernelspec": {
   "display_name": "Python 3",
   "language": "python",
   "name": "python3"
  },
  "language_info": {
   "codemirror_mode": {
    "name": "ipython",
    "version": 3
   },
   "file_extension": ".py",
   "mimetype": "text/x-python",
   "name": "python",
   "nbconvert_exporter": "python",
   "pygments_lexer": "ipython3",
   "version": "3.6.5"
  }
 },
 "nbformat": 4,
 "nbformat_minor": 2
}
