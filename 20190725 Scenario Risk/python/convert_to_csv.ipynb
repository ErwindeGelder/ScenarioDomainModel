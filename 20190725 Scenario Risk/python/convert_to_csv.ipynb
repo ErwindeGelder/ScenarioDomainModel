{
 "cells": [
  {
   "cell_type": "code",
   "execution_count": null,
   "metadata": {},
   "outputs": [],
   "source": [
    "import glob\n",
    "import os\n",
    "import matplotlib.pyplot as plt\n",
    "import numpy as np\n",
    "from tqdm import tqdm\n",
    "from data_handler import DataHandler"
   ]
  },
  {
   "cell_type": "code",
   "execution_count": null,
   "metadata": {},
   "outputs": [],
   "source": [
    "directory = os.path.join(\"data\", \"csv_host_vx\")\n",
    "if not os.path.exists(directory):\n",
    "    os.mkdir(directory)"
   ]
  },
  {
   "cell_type": "code",
   "execution_count": null,
   "metadata": {},
   "outputs": [],
   "source": [
    "filenames = glob.glob(os.path.join(\"data\", \"1_hdf5\", \"*.hdf5\"))\n",
    "for filename in tqdm(filenames):\n",
    "    dh = DataHandler(filename)\n",
    "    data = dh.data[[\"Host_vx\", \"host_longitudinal_activity\"]]\n",
    "    \n",
    "    mask = np.zeros(len(data), dtype=np.bool)\n",
    "    mask[0] = True\n",
    "    for i, row in enumerate(data.itertuples(index=False)):\n",
    "        if i > 0:\n",
    "            if prev_row != row:\n",
    "                mask[i] = True\n",
    "        prev_row = row\n",
    "    data = data.loc[mask]\n",
    "    \n",
    "    new_filename = os.path.join(directory, \"{:s}.csv\".\n",
    "                                format(os.path.splitext(os.path.basename(filename))[0]))\n",
    "    \n",
    "    data.to_csv(new_filename)"
   ]
  }
 ],
 "metadata": {
  "kernelspec": {
   "display_name": "Python 3",
   "language": "python",
   "name": "python3"
  },
  "language_info": {
   "codemirror_mode": {
    "name": "ipython",
    "version": 3
   },
   "file_extension": ".py",
   "mimetype": "text/x-python",
   "name": "python",
   "nbconvert_exporter": "python",
   "pygments_lexer": "ipython3",
   "version": "3.7.3"
  }
 },
 "nbformat": 4,
 "nbformat_minor": 2
}
