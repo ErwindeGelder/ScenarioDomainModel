{
 "cells": [
  {
   "cell_type": "code",
   "execution_count": null,
   "metadata": {},
   "outputs": [],
   "source": [
    "import os\n",
    "import matplotlib.pyplot as plt\n",
    "import numpy as np\n",
    "import pickle\n",
    "import pandas as pd\n",
    "from simulation import WangStamatiadis\n",
    "from scipy.stats import ks_2samp"
   ]
  },
  {
   "cell_type": "markdown",
   "metadata": {},
   "source": [
    "## Wang Stamatiadis TTC measure"
   ]
  },
  {
   "cell_type": "code",
   "execution_count": null,
   "metadata": {},
   "outputs": [],
   "source": [
    "ttc = np.linspace(0.01, 4, 100)\n",
    "ws = WangStamatiadis()\n",
    "pcollision = ws.groupa(ttc)"
   ]
  },
  {
   "cell_type": "code",
   "execution_count": null,
   "metadata": {},
   "outputs": [],
   "source": [
    "plt.plot(ttc, pcollision)\n",
    "plt.xlabel(\"TTC [s]\")\n",
    "plt.ylabel(\"Probability of collision\")\n",
    "plt.title(\"Group A\")\n",
    "plt.xlim(0, np.max(ttc))\n",
    "plt.show()"
   ]
  },
  {
   "cell_type": "code",
   "execution_count": null,
   "metadata": {},
   "outputs": [],
   "source": [
    "ttc = np.linspace(0.01, 4, 100)\n",
    "vdiff = np.linspace(0, 30, 50)\n",
    "groupb2 = np.zeros((len(ttc), len(vdiff)))\n",
    "pcollision = np.zeros_like(groupb2)\n",
    "for i, t in enumerate(ttc):\n",
    "    for j, v in enumerate(vdiff):\n",
    "        groupb2[i, j] = ws.groupb2(t, v)\n",
    "        pcollision[i, j] = ws.prob_collision(t, v)"
   ]
  },
  {
   "cell_type": "code",
   "execution_count": null,
   "metadata": {},
   "outputs": [],
   "source": [
    "f, ax = plt.subplots()\n",
    "cf = ax.contourf(ttc, vdiff, groupb2.T, levels=np.linspace(0, 1, 11))\n",
    "plt.xlabel(\"TTC [s]\")\n",
    "plt.ylabel(\"Speed difference [m/s]\")\n",
    "plt.title(\"Group B2\")\n",
    "f.colorbar(cf)"
   ]
  },
  {
   "cell_type": "code",
   "execution_count": null,
   "metadata": {
    "scrolled": true
   },
   "outputs": [],
   "source": [
    "f, ax = plt.subplots()\n",
    "cf = ax.contourf(ttc, vdiff, pcollision.T, levels=np.linspace(0, 1, 11))\n",
    "plt.xlabel(\"TTC [s]\")\n",
    "plt.ylabel(\"Speed difference [m/s]\")\n",
    "plt.title(\"Group A + Group B2\")\n",
    "f.colorbar(cf)"
   ]
  },
  {
   "cell_type": "markdown",
   "metadata": {},
   "source": [
    "## Comparison of metrics"
   ]
  },
  {
   "cell_type": "code",
   "execution_count": null,
   "metadata": {},
   "outputs": [],
   "source": [
    "# Load data.\n",
    "filename = os.path.join(\"data\", \"8_interactions_v3\", \"interactions_wi10.pkl\")\n",
    "with open(filename, 'rb') as file:\n",
    "    all_interactions = pickle.load(file)\n",
    "locations = sorted(all_interactions.keys())"
   ]
  },
  {
   "cell_type": "code",
   "execution_count": null,
   "metadata": {},
   "outputs": [],
   "source": [
    "columns = ['TTC', 'CPM_TTC', 'CPM_WS', 'prob_collision', 'Anomaly_Reconstruction',\n",
    "           'TTC2', 'TTC2_filtered', 'CPM_TTC2', 'CPM_TTC2_filtered', 'CPM_WS2',\n",
    "           'CPM_WS2_filtered']\n",
    "scores = []\n",
    "for location in locations:\n",
    "    for interaction in all_interactions[location].values():\n",
    "        if \"scores\" not in interaction:\n",
    "            continue\n",
    "        if \"prob_collision\" not in interaction['scores']:\n",
    "            continue\n",
    "        scores.append(interaction['scores'][columns])\n",
    "df_scores = pd.DataFrame(np.concatenate(scores), columns=columns)"
   ]
  },
  {
   "cell_type": "markdown",
   "metadata": {},
   "source": [
    "## Percentiles"
   ]
  },
  {
   "cell_type": "code",
   "execution_count": null,
   "metadata": {},
   "outputs": [],
   "source": [
    "def plot_percentile(p):\n",
    "    plt.plot(p, np.percentile(df_scores[\"CPM_TTC2\"], p), label=\"CPM_TTC\")\n",
    "    plt.plot(p, np.percentile(df_scores[\"CPM_WS2\"], p), label=\"CPM_WS\")\n",
    "    plt.plot(p, np.percentile(df_scores[\"prob_collision\"], p), label=\"Erwin\")\n",
    "    plt.legend()\n",
    "    plt.xlabel(\"Percentile\")\n",
    "    plt.ylabel(\"Probability of collision\")\n",
    "plot_percentile(np.linspace(0, 100, 101))"
   ]
  },
  {
   "cell_type": "code",
   "execution_count": null,
   "metadata": {},
   "outputs": [],
   "source": [
    "plot_percentile(np.linspace(99, 100, 101))\n",
    "plt.ylim(-0.01, 1)"
   ]
  },
  {
   "cell_type": "code",
   "execution_count": null,
   "metadata": {},
   "outputs": [],
   "source": [
    "plot_percentile(np.linspace(99.9, 100, 101))\n",
    "plt.ylim(-0.01, 1)"
   ]
  },
  {
   "cell_type": "code",
   "execution_count": null,
   "metadata": {},
   "outputs": [],
   "source": [
    "def plot_percentile2(p):\n",
    "    plt.plot(p, np.percentile(df_scores[\"Anomaly_Reconstruction\"], p))\n",
    "    plt.xlabel(\"Percentile\")\n",
    "    plt.ylabel(\"Anomaly reconstruction\")\n",
    "plot_percentile2(np.linspace(0, 100, 101))"
   ]
  },
  {
   "cell_type": "code",
   "execution_count": null,
   "metadata": {},
   "outputs": [],
   "source": [
    "plot_percentile2(np.linspace(99, 100, 101))"
   ]
  },
  {
   "cell_type": "markdown",
   "metadata": {},
   "source": [
    "## Correlation"
   ]
  },
  {
   "cell_type": "code",
   "execution_count": null,
   "metadata": {},
   "outputs": [],
   "source": [
    "plt.plot(df_scores[\"CPM_WS2\"], df_scores[\"prob_collision\"], '.')\n",
    "plt.xlabel(\"Wang Stamatiadis metric\")\n",
    "plt.ylabel(\"Erwin's metric\")\n",
    "plt.title(\"Correlation: {:.4f}\".format(np.corrcoef(df_scores[\"CPM_WS2\"], \n",
    "                                                   df_scores[\"prob_collision\"])[0][1]))"
   ]
  },
  {
   "cell_type": "code",
   "execution_count": null,
   "metadata": {},
   "outputs": [],
   "source": [
    "plt.plot(df_scores[\"CPM_WS2\"], df_scores[\"Anomaly_Reconstruction\"], '.')\n",
    "plt.xlabel(\"Wang Stamatiadis metric\")\n",
    "plt.ylabel(\"Anomaly reconstruction error\")\n",
    "plt.title(\"Correlation: {:.4f}\".format(np.corrcoef(df_scores[\"CPM_WS2\"], \n",
    "                                                   df_scores[\"Anomaly_Reconstruction\"])[0][1]))"
   ]
  },
  {
   "cell_type": "code",
   "execution_count": null,
   "metadata": {},
   "outputs": [],
   "source": [
    "plt.plot(df_scores[\"CPM_WS2\"], df_scores[\"Anomaly_Reconstruction\"], '.')\n",
    "plt.xlabel(\"Wang Stamatiadis metric\")\n",
    "plt.ylabel(\"Anomaly reconstruction error\")\n",
    "plt.title(\"Correlation: {:.4f}\".format(np.corrcoef(df_scores[\"CPM_WS2\"], \n",
    "                                                   df_scores[\"Anomaly_Reconstruction\"])[0][1]))\n",
    "plt.ylim(0, 10)"
   ]
  },
  {
   "cell_type": "code",
   "execution_count": null,
   "metadata": {
    "scrolled": true
   },
   "outputs": [],
   "source": [
    "plt.plot(df_scores[\"prob_collision\"], df_scores[\"Anomaly_Reconstruction\"], '.')\n",
    "plt.xlabel(\"Erwin's metric\")\n",
    "plt.ylabel(\"Anomaly reconstruction error\")\n",
    "plt.title(\"Correlation: {:.4f}\".format(np.corrcoef(df_scores[\"CPM_WS2\"], \n",
    "                                                   df_scores[\"Anomaly_Reconstruction\"])[0][1]))"
   ]
  },
  {
   "cell_type": "code",
   "execution_count": null,
   "metadata": {},
   "outputs": [],
   "source": []
  }
 ],
 "metadata": {
  "kernelspec": {
   "display_name": "Python 3",
   "language": "python",
   "name": "python3"
  },
  "language_info": {
   "codemirror_mode": {
    "name": "ipython",
    "version": 3
   },
   "file_extension": ".py",
   "mimetype": "text/x-python",
   "name": "python",
   "nbconvert_exporter": "python",
   "pygments_lexer": "ipython3",
   "version": "3.7.3"
  }
 },
 "nbformat": 4,
 "nbformat_minor": 2
}
