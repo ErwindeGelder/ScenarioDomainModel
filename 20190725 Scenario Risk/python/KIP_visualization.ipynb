{
 "cells": [
  {
   "cell_type": "code",
   "execution_count": null,
   "metadata": {},
   "outputs": [],
   "source": [
    "import os\n",
    "import matplotlib.pyplot as plt\n",
    "import numpy as np\n",
    "import pickle\n",
    "import pandas as pd\n",
    "from simulation import WangStamatiadis"
   ]
  },
  {
   "cell_type": "markdown",
   "metadata": {},
   "source": [
    "## Wang Stamatiadis TTC measure"
   ]
  },
  {
   "cell_type": "code",
   "execution_count": null,
   "metadata": {},
   "outputs": [],
   "source": [
    "ttc = np.linspace(0.01, 4, 100)\n",
    "ws = WangStamatiadis()\n",
    "pcollision = ws.groupa(ttc)"
   ]
  },
  {
   "cell_type": "code",
   "execution_count": null,
   "metadata": {},
   "outputs": [],
   "source": [
    "plt.plot(ttc, pcollision)\n",
    "plt.xlabel(\"TTC [s]\")\n",
    "plt.ylabel(\"Probability of collision\")\n",
    "plt.title(\"Group A\")\n",
    "plt.xlim(0, np.max(ttc))\n",
    "plt.show()"
   ]
  },
  {
   "cell_type": "code",
   "execution_count": null,
   "metadata": {},
   "outputs": [],
   "source": [
    "ttc = np.linspace(0.01, 4, 100)\n",
    "vdiff = np.linspace(0, 30, 50)\n",
    "groupb2 = np.zeros((len(ttc), len(vdiff)))\n",
    "pcollision = np.zeros_like(groupb2)\n",
    "for i, t in enumerate(ttc):\n",
    "    for j, v in enumerate(vdiff):\n",
    "        groupb2[i, j] = ws.groupb2(t, v)\n",
    "        pcollision[i, j] = ws.prob_collision(t, v)"
   ]
  },
  {
   "cell_type": "code",
   "execution_count": null,
   "metadata": {},
   "outputs": [],
   "source": [
    "f, ax = plt.subplots()\n",
    "cf = ax.contourf(ttc, vdiff, groupb2.T, levels=np.linspace(0, 1, 11))\n",
    "plt.xlabel(\"TTC [s]\")\n",
    "plt.ylabel(\"Speed difference [m/s]\")\n",
    "plt.title(\"Group B2\")\n",
    "f.colorbar(cf)"
   ]
  },
  {
   "cell_type": "code",
   "execution_count": null,
   "metadata": {
    "scrolled": true
   },
   "outputs": [],
   "source": [
    "f, ax = plt.subplots()\n",
    "cf = ax.contourf(ttc, vdiff, pcollision.T, levels=np.linspace(0, 1, 11))\n",
    "plt.xlabel(\"TTC [s]\")\n",
    "plt.ylabel(\"Speed difference [m/s]\")\n",
    "plt.title(\"Group A + Group B2\")\n",
    "f.colorbar(cf)"
   ]
  },
  {
   "cell_type": "markdown",
   "metadata": {},
   "source": [
    "## Comparison of metrics"
   ]
  },
  {
   "cell_type": "code",
   "execution_count": null,
   "metadata": {},
   "outputs": [],
   "source": [
    "# Load data.\n",
    "filename = os.path.join(\"data\", \"8_interactions_v3\", \"interactions_wi10.pkl\")\n",
    "with open(filename, 'rb') as file:\n",
    "    all_interactions = pickle.load(file)\n",
    "locations = sorted(all_interactions.keys())"
   ]
  },
  {
   "cell_type": "code",
   "execution_count": null,
   "metadata": {},
   "outputs": [],
   "source": [
    "columns = ['TTC', 'CPM_TTC', 'CPM_WS', 'prob_collision', 'Anomaly_Reconstruction']\n",
    "scores = []\n",
    "for location in locations:\n",
    "    for interaction in all_interactions[location].values():\n",
    "        if \"scores\" not in interaction:\n",
    "            continue\n",
    "        if \"prob_collision\" not in interaction['scores']:\n",
    "            continue\n",
    "        scores.append(interaction['scores'][columns])\n",
    "df_scores = pd.DataFrame(np.concatenate(scores), columns=columns)"
   ]
  },
  {
   "cell_type": "code",
   "execution_count": null,
   "metadata": {},
   "outputs": [],
   "source": [
    "def plot_percentile(p):\n",
    "    plt.plot(p, np.percentile(df_scores[\"CPM_TTC\"], p), label=\"CPM_TTC\")\n",
    "    plt.plot(p, np.percentile(df_scores[\"CPM_WS\"], p), label=\"CPM_WS\")\n",
    "    plt.plot(p, np.percentile(df_scores[\"prob_collision\"], p), label=\"Erwin\")\n",
    "    plt.legend()\n",
    "    plt.xlabel(\"Percentile\")\n",
    "    plt.ylabel(\"Probability of collision\")\n",
    "plot_percentile(np.linspace(0, 100, 101))"
   ]
  },
  {
   "cell_type": "code",
   "execution_count": null,
   "metadata": {},
   "outputs": [],
   "source": [
    "plot_percentile(np.linspace(0, 95, 101))\n",
    "plt.xlim(0, 95)\n",
    "plt.ylim(-0.01, 0.03)"
   ]
  },
  {
   "cell_type": "code",
   "execution_count": null,
   "metadata": {},
   "outputs": [],
   "source": [
    "plot_percentile(np.linspace(99, 100, 101))\n",
    "plt.ylim(-0.01, 1)"
   ]
  },
  {
   "cell_type": "code",
   "execution_count": null,
   "metadata": {},
   "outputs": [],
   "source": [
    "for location in locations:\n",
    "    for i, interaction in all_interactions[location].items():\n",
    "        if \"scores\" not in interaction:\n",
    "            continue\n",
    "        if \"prob_collision\" not in interaction['scores']:\n",
    "            continue\n",
    "        if np.any(interaction[\"scores\"][\"CPM_TTC\"] > .1):\n",
    "            if np.any(interaction[\"scores\"][\"CPM_TTC\"] - interaction[\"scores\"][\"CPM_WS\"] > .1):\n",
    "                asfdasdfasdf"
   ]
  },
  {
   "cell_type": "code",
   "execution_count": null,
   "metadata": {},
   "outputs": [],
   "source": [
    "plt.plot(interaction['scores'][\"CPM_WS\"] - interaction['scores'][\"CPM_TTC\"])"
   ]
  },
  {
   "cell_type": "code",
   "execution_count": null,
   "metadata": {},
   "outputs": [],
   "source": [
    "plt.plot(interaction['scores'][\"CPM_TTC\"])"
   ]
  },
  {
   "cell_type": "code",
   "execution_count": null,
   "metadata": {},
   "outputs": [],
   "source": [
    "interaction[\"scores\"].index[11]"
   ]
  },
  {
   "cell_type": "code",
   "execution_count": null,
   "metadata": {},
   "outputs": [],
   "source": [
    "interaction[\"scores\"].loc[61.8]"
   ]
  },
  {
   "cell_type": "code",
   "execution_count": null,
   "metadata": {},
   "outputs": [],
   "source": [
    "ws.groupa(.224295)"
   ]
  },
  {
   "cell_type": "code",
   "execution_count": null,
   "metadata": {},
   "outputs": [],
   "source": [
    "location"
   ]
  },
  {
   "cell_type": "code",
   "execution_count": null,
   "metadata": {},
   "outputs": [],
   "source": [
    "i"
   ]
  },
  {
   "cell_type": "code",
   "execution_count": null,
   "metadata": {},
   "outputs": [],
   "source": [
    "interaction[\"leader\"].loc[61.8]"
   ]
  },
  {
   "cell_type": "code",
   "execution_count": null,
   "metadata": {},
   "outputs": [],
   "source": [
    "interaction[\"follower\"].loc[61.8]"
   ]
  },
  {
   "cell_type": "code",
   "execution_count": null,
   "metadata": {},
   "outputs": [],
   "source": [
    "d = interaction['leader']['Position_X'] - interaction['follower']['Position_X']"
   ]
  },
  {
   "cell_type": "code",
   "execution_count": null,
   "metadata": {},
   "outputs": [],
   "source": [
    "dv = interaction['leader']['Velocity_X'] - interaction['follower']['Velocity_X']"
   ]
  },
  {
   "cell_type": "code",
   "execution_count": null,
   "metadata": {},
   "outputs": [],
   "source": [
    "plt.plot(interaction['scores']['THW'], label=\"THW in data set\")\n",
    "plt.plot(d / interaction['follower']['Velocity_X'], label=\"Recalculated THW\")\n",
    "plt.legend()\n",
    "plt.xlabel(\"Time [s]\")\n",
    "plt.ylabel(\"THW [s]\")"
   ]
  },
  {
   "cell_type": "code",
   "execution_count": null,
   "metadata": {},
   "outputs": [],
   "source": [
    "plt.plot(interaction['scores']['TTC'], label=\"TTC in data set\")\n",
    "plt.plot(d / dv, '.', label=\"Recalculated TTC\")\n",
    "plt.legend()\n",
    "plt.xlabel(\"Time [s]\")\n",
    "plt.ylabel(\"TTC [s]\")\n",
    "plt.ylim(0, 20)"
   ]
  },
  {
   "cell_type": "code",
   "execution_count": null,
   "metadata": {},
   "outputs": [],
   "source": []
  }
 ],
 "metadata": {
  "kernelspec": {
   "display_name": "Python 3",
   "language": "python",
   "name": "python3"
  },
  "language_info": {
   "codemirror_mode": {
    "name": "ipython",
    "version": 3
   },
   "file_extension": ".py",
   "mimetype": "text/x-python",
   "name": "python",
   "nbconvert_exporter": "python",
   "pygments_lexer": "ipython3",
   "version": "3.7.3"
  }
 },
 "nbformat": 4,
 "nbformat_minor": 2
}
