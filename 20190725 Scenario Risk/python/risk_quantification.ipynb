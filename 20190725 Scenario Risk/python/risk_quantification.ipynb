{
 "cells": [
  {
   "cell_type": "code",
   "execution_count": null,
   "metadata": {},
   "outputs": [],
   "source": [
    "import os\n",
    "import numpy as np\n",
    "from domain_model import DocumentManagement\n",
    "from simulation import HDM, hdm_approaching_pars, SimulationApproaching"
   ]
  },
  {
   "cell_type": "markdown",
   "metadata": {},
   "source": [
    "## Show number of scenarios found"
   ]
  },
  {
   "cell_type": "code",
   "execution_count": null,
   "metadata": {},
   "outputs": [],
   "source": [
    "leaddec = DocumentManagement(os.path.join(\"data\", \"5_scenarios\", \"lead_braking2.json\"))\n",
    "print(\"Number of lead vehicle decelerating scenarios: {:d}\"\n",
    "      .format(len(leaddec.collections[\"scenario\"])))"
   ]
  },
  {
   "cell_type": "code",
   "execution_count": null,
   "metadata": {},
   "outputs": [],
   "source": [
    "approaching = DocumentManagement(os.path.join(\"data\", \"5_scenarios\", \"approaching_vehicle2.json\"))\n",
    "print(\"Number of approaching slower vehicle scenarios: {:d}\"\n",
    "      .format(len(approaching.collections[\"scenario\"])))"
   ]
  },
  {
   "cell_type": "code",
   "execution_count": null,
   "metadata": {},
   "outputs": [],
   "source": [
    "cutins = DocumentManagement(os.path.join(\"data\", \"5_scenarios\", \"cut_in_scenarios2.json\"))\n",
    "print(\"Number of cut-in scenarios: {:d}\".format(len(cutins.collections[\"scenario\"])))"
   ]
  },
  {
   "cell_type": "markdown",
   "metadata": {},
   "source": [
    "## Simulations"
   ]
  },
  {
   "cell_type": "code",
   "execution_count": null,
   "metadata": {},
   "outputs": [],
   "source": [
    "\n",
    "DEFAULT_PARS = dict(overwrite=ARGS.overwrite,\n",
    "                    func_parameters=parameters_approaching,\n",
    "                    func_validity_parameters=check_validity_approaching,\n",
    "                    func_process_result=default_process_result,\n",
    "                    parameters=[\"vego\", \"ratio_vtar_vego\"],\n",
    "                    default_parameters=dict(amin=-3),\n",
    "                    do_importance_sampling_mcmc=True,\n",
    "                    do_importance_sampling_direct=False,\n",
    "                    init_par_is=[45, 0],\n",
    "                    mcmc_step=np.array([4.0, 0.1]),\n",
    "                    nmc=1000,\n",
    "                    grid_parameters=[np.linspace(10, 50, 17),\n",
    "                                     np.linspace(0.1, 1, 19)])\n",
    "\n",
    "print(\"HDM:\")\n",
    "HDM_PARS = dict(filename_prefix=\"approaching_hdm\",\n",
    "                simulator=SimulationApproaching(follower=HDM(),\n",
    "                                                follower_parameters=hdm_approaching_pars))\n",
    "HDM_PARS.update(DEFAULT_PARS)\n",
    "CASE_STUDY = CaseStudy(CaseStudyOptions(**HDM_PARS))"
   ]
  },
  {
   "cell_type": "code",
   "execution_count": null,
   "metadata": {},
   "outputs": [],
   "source": [
    "s = SimulationApproaching(follower=HDM(), follower_parameters=hdm_approaching_pars)"
   ]
  },
  {
   "cell_type": "code",
   "execution_count": null,
   "metadata": {},
   "outputs": [],
   "source": [
    "s.simulation(dict(vego=20, ratio_vtar_vego=.1, amin=-3), plot=True)"
   ]
  },
  {
   "cell_type": "code",
   "execution_count": null,
   "metadata": {},
   "outputs": [],
   "source": []
  }
 ],
 "metadata": {
  "kernelspec": {
   "display_name": "Python 3",
   "language": "python",
   "name": "python3"
  },
  "language_info": {
   "codemirror_mode": {
    "name": "ipython",
    "version": 3
   },
   "file_extension": ".py",
   "mimetype": "text/x-python",
   "name": "python",
   "nbconvert_exporter": "python",
   "pygments_lexer": "ipython3",
   "version": "3.7.3"
  }
 },
 "nbformat": 4,
 "nbformat_minor": 2
}
