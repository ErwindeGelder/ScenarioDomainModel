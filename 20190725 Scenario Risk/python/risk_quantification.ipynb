{
 "cells": [
  {
   "cell_type": "code",
   "execution_count": null,
   "metadata": {},
   "outputs": [],
   "source": [
    "import os\n",
    "import matplotlib.pyplot as plt\n",
    "import numpy as np\n",
    "import pickle\n",
    "from tqdm import tqdm_notebook as tqdm\n",
    "from scipy.special import erf\n",
    "from domain_model import DocumentManagement\n",
    "from simulation import ACC, idm_approaching_pars, IDMPlus, acc_approaching_pars, \\\n",
    "    SimulationApproaching"
   ]
  },
  {
   "cell_type": "markdown",
   "metadata": {},
   "source": [
    "## Show number of scenarios found"
   ]
  },
  {
   "cell_type": "code",
   "execution_count": null,
   "metadata": {},
   "outputs": [],
   "source": [
    "leaddec = DocumentManagement(os.path.join(\"data\", \"5_scenarios\", \"lead_braking2.json\"))\n",
    "print(\"Number of lead vehicle decelerating scenarios: {:d}\"\n",
    "      .format(len(leaddec.collections[\"scenario\"])))"
   ]
  },
  {
   "cell_type": "code",
   "execution_count": null,
   "metadata": {},
   "outputs": [],
   "source": [
    "approaching = DocumentManagement(os.path.join(\"data\", \"5_scenarios\", \"approaching_vehicle2.json\"))\n",
    "print(\"Number of approaching slower vehicle scenarios: {:d}\"\n",
    "      .format(len(approaching.collections[\"scenario\"])))"
   ]
  },
  {
   "cell_type": "code",
   "execution_count": null,
   "metadata": {},
   "outputs": [],
   "source": [
    "cutins = DocumentManagement(os.path.join(\"data\", \"5_scenarios\", \"cut_in_scenarios2.json\"))\n",
    "print(\"Number of cut-in scenarios: {:d}\".format(len(cutins.collections[\"scenario\"])))"
   ]
  },
  {
   "cell_type": "markdown",
   "metadata": {},
   "source": [
    "## Simulations\n",
    "\n",
    "#### Approaching stopped vehicle (false positive) with 2 vehicles"
   ]
  },
  {
   "cell_type": "code",
   "execution_count": null,
   "metadata": {},
   "outputs": [],
   "source": [
    "s = SimulationApproaching([ACC(), IDMPlus()], [acc_approaching_pars, idm_approaching_pars],\n",
    "                          min_simulation_time=5)"
   ]
  },
  {
   "cell_type": "code",
   "execution_count": null,
   "metadata": {},
   "outputs": [],
   "source": [
    "s.simulation(dict(vego=20, ratio_vtar_vego=0, amin=-6, init_position=20, reactiontime=13),\n",
    "             plot=True, ignore_stop=[True, False])"
   ]
  },
  {
   "cell_type": "markdown",
   "metadata": {},
   "source": [
    "## Estimating risk for false positives\n",
    "\n",
    "A vehicle is detected at distance X\n",
    "Ego is at speed V\n",
    "Vehicle behind with same speed (modelled using IDM+, with delay)"
   ]
  },
  {
   "cell_type": "code",
   "execution_count": null,
   "metadata": {},
   "outputs": [],
   "source": [
    "mu_lognormal = np.log(.92**2/np.sqrt(.92**2+.28**2))\n",
    "sigma_lognormal = np.sqrt(np.log(1+.28**2/.92**2))\n",
    "def cdf(x):\n",
    "    return 0.5*(1 + erf((np.log(x) - mu_lognormal) / (sigma_lognormal*np.sqrt(2))))"
   ]
  },
  {
   "cell_type": "code",
   "execution_count": null,
   "metadata": {},
   "outputs": [],
   "source": [
    "simulation = SimulationApproaching([ACC(), IDMPlus()], \n",
    "                                   [acc_approaching_pars, idm_approaching_pars],\n",
    "                                   min_simulation_time=5)\n",
    "def fp_simulation(speed, distance, reactiontime, thw):\n",
    "     return simulation.simulation(dict(vego=speed, ratio_vtar_vego=0, thw=thw,\n",
    "                                       amin=-6, init_position=distance, reactiontime=reactiontime),\n",
    "                                  ignore_stop=[True, False])\n",
    "\n",
    "def is_collision(speed, distance, reactiontime, thw):\n",
    "    result = fp_simulation(speed, distance, reactiontime, thw)\n",
    "    if result[1] < 0.0:\n",
    "        return True\n",
    "    return False"
   ]
  },
  {
   "cell_type": "code",
   "execution_count": null,
   "metadata": {},
   "outputs": [],
   "source": [
    "def prob_of_collision(speed, distance, thw):\n",
    "    minimum = 0.3\n",
    "    maximum = 4\n",
    "    if is_collision(speed, distance, minimum, thw):\n",
    "        return 1.0\n",
    "    if not is_collision(speed, distance, maximum, thw):\n",
    "        return 0.0\n",
    "    while cdf(maximum) - cdf(minimum) > 0.00001:\n",
    "        if is_collision(speed, distance, (maximum + minimum) / 2, thw):\n",
    "            maximum = (maximum + minimum) / 2\n",
    "        else:\n",
    "            minimum = (maximum + minimum) / 2\n",
    "    return 1 - cdf((maximum + minimum) / 2)"
   ]
  },
  {
   "cell_type": "code",
   "execution_count": null,
   "metadata": {},
   "outputs": [],
   "source": [
    "def make_heatplot_fp(dmin, dmax, vmin, vmax, thw=1.0, overwrite=False):\n",
    "    name = \"fp_prob_{:d}_{:d}_{:d}_{:d}_{:02.0f}\".format(dmin, dmax, vmin, vmax, 10*thw)\n",
    "    filename = os.path.join(\"data\", \"7_simulation_results\", \"{:s}.p\".format(name))\n",
    "    \n",
    "    distances = np.linspace(dmin, dmax, 50)\n",
    "    speeds = np.linspace(vmin, vmax, 50)\n",
    "        \n",
    "    if not overwrite and os.path.exists(filename):\n",
    "        with open(filename, \"rb\") as file:\n",
    "            prob_collision = pickle.load(file)\n",
    "    else:\n",
    "        prob_collision = np.zeros((len(distances), len(speeds)))\n",
    "        for i, distance in enumerate(tqdm(distances)):\n",
    "            for j, speed in enumerate(speeds):\n",
    "                prob_collision[i, j] = prob_of_collision(speed, distance, thw)\n",
    "        with open(filename, \"wb\") as file:\n",
    "            pickle.dump(prob_collision, file)\n",
    "    \n",
    "    f, ax = plt.subplots(1, 1)\n",
    "    heatmap = plt.contourf(speeds, distances, prob_collision, cmap='hot')\n",
    "    cbar = f.colorbar(heatmap)\n",
    "    plt.title(\"THW of follower is {:3.1f} s\".format(thw))\n",
    "    plt.xlabel(\"Speed [m/s]\")\n",
    "    plt.ylabel(\"Initial distance of false positive [m]\")\n",
    "    cbar.ax.set_ylabel(\"Probability of collision rear vehicle\")\n",
    "    \n",
    "    f.savefig(os.path.join(\"figs\", \"{:s}.png\".format(name)))"
   ]
  },
  {
   "cell_type": "markdown",
   "metadata": {},
   "source": [
    "False P (resulting from triggering condition)\n",
    " - Obtain impact speed heatmap\n",
    "False N (resulting from triggering condition)  (3 -> 2 (ego) -> 1 (stationary, not detection))\n",
    " - Focus on this one\n",
    "\n",
    "Low-mu (triggering condition) -> lead vehicle braking, approaching, cut-in, cut-out (scenario)\n",
    "Slope (triggering condition) -> lead vehicle braking, approaching, cut-in, cut-out (scenario)"
   ]
  },
  {
   "cell_type": "markdown",
   "metadata": {},
   "source": [
    "gap(t) = inital_gap(thw=1.1s) - 0.5*a*t^2\n",
    "Make heatmap of impact speed"
   ]
  },
  {
   "cell_type": "code",
   "execution_count": null,
   "metadata": {},
   "outputs": [],
   "source": [
    "make_heatplot_fp(10, 100, 5, 40, 1.0)"
   ]
  },
  {
   "cell_type": "code",
   "execution_count": null,
   "metadata": {},
   "outputs": [],
   "source": [
    "make_heatplot_fp(10, 100, 5, 40, 0.6)"
   ]
  },
  {
   "cell_type": "code",
   "execution_count": null,
   "metadata": {},
   "outputs": [],
   "source": [
    "make_heatplot_fp(10, 100, 5, 40, 0.3)"
   ]
  },
  {
   "cell_type": "markdown",
   "metadata": {},
   "source": [
    "#### Heatmap for impact speed"
   ]
  },
  {
   "cell_type": "code",
   "execution_count": null,
   "metadata": {},
   "outputs": [],
   "source": [
    "def find_reaction_time_collision(speed, distance, thw):\n",
    "    minimum = 0.1\n",
    "    maximum = 10\n",
    "    if not is_collision(speed, distance, maximum, thw):\n",
    "        return -1\n",
    "    if is_collision(speed, distance, minimum, thw):\n",
    "        return minimum\n",
    "    while (maximum - minimum) >= 0.01:\n",
    "        if is_collision(speed, distance, (maximum+minimum)/2, thw):\n",
    "            maximum = (maximum + minimum) / 2\n",
    "        else:\n",
    "            minimum = (maximum + minimum) / 2\n",
    "    return maximum"
   ]
  },
  {
   "cell_type": "code",
   "execution_count": null,
   "metadata": {},
   "outputs": [],
   "source": [
    "def get_new_cdf(xmin, xmax=5):\n",
    "    x = np.linspace(xmin, xmax, 100)\n",
    "    y = np.array([cdf(xx) for xx in x])\n",
    "    y -= y[0]\n",
    "    y /= y[-1]\n",
    "    return x, y"
   ]
  },
  {
   "cell_type": "code",
   "execution_count": null,
   "metadata": {},
   "outputs": [],
   "source": [
    "def make_heatplot_fp_vimpact(dmin, dmax, vmin, vmax, thw=1.0, overwrite=False):\n",
    "    name = \"fp_vimpact_{:d}_{:d}_{:d}_{:d}_{:02.0f}\".format(dmin, dmax, vmin, vmax, 10*thw)\n",
    "    filename = os.path.join(\"data\", \"7_simulation_results\", \"{:s}.p\".format(name))\n",
    "    \n",
    "    distances = np.linspace(dmin, dmax, 50)\n",
    "    speeds = np.linspace(vmin, vmax, 50)\n",
    "    n_monte_carlo = 20\n",
    "        \n",
    "    if not overwrite and os.path.exists(filename):\n",
    "        with open(filename, \"rb\") as file:\n",
    "            vimpact = pickle.load(file)\n",
    "    else:\n",
    "        np.random.seed(0)\n",
    "        vimpact = np.zeros((len(distances), len(speeds), n_monte_carlo))\n",
    "        for i, distance in enumerate(tqdm(distances)):\n",
    "            for j, speed in enumerate(speeds):\n",
    "                min_reaction_time = find_reaction_time_collision(speed, distance, thw)\n",
    "                if min_reaction_time < 0:\n",
    "                    continue\n",
    "                cdfx, cdfy = get_new_cdf(min_reaction_time)\n",
    "                for k in range(n_monte_carlo):\n",
    "                    reaction_time = np.interp(np.random.rand(), cdfy, cdfx)\n",
    "                    result = fp_simulation(speed, distance, reaction_time, thw)[1]\n",
    "                    if result < 0:  # Only use result if there is an impact.\n",
    "                        vimpact[i, j, k] = -result\n",
    "        with open(filename, \"wb\") as file:\n",
    "            pickle.dump(vimpact, file)\n",
    "    \n",
    "    f, ax = plt.subplots(1, 1)\n",
    "    heatmap = plt.contourf(speeds, distances, np.mean(vimpact, axis=2), cmap='hot')\n",
    "    cbar = f.colorbar(heatmap)\n",
    "    plt.title(\"THW of follower is {:3.1f} s\".format(thw))\n",
    "    plt.xlabel(\"Speed [m/s]\")\n",
    "    plt.ylabel(\"Initial distance of false positive [m]\")\n",
    "    cbar.ax.set_ylabel(\"Expected impact speed with collision [m/s]\")\n",
    "    \n",
    "    f.savefig(os.path.join(\"figs\", \"{:s}.png\".format(name)))"
   ]
  },
  {
   "cell_type": "code",
   "execution_count": null,
   "metadata": {},
   "outputs": [],
   "source": [
    "make_heatplot_fp_vimpact(10, 100, 5, 40, 1.0)"
   ]
  },
  {
   "cell_type": "code",
   "execution_count": null,
   "metadata": {},
   "outputs": [],
   "source": [
    "make_heatplot_fp_vimpact(10, 100, 5, 40, 0.6)"
   ]
  },
  {
   "cell_type": "code",
   "execution_count": null,
   "metadata": {
    "scrolled": true
   },
   "outputs": [],
   "source": [
    "make_heatplot_fp_vimpact(10, 100, 5, 40, 0.3)"
   ]
  },
  {
   "cell_type": "markdown",
   "metadata": {},
   "source": [
    "## Estimating risk for false negatives"
   ]
  },
  {
   "cell_type": "code",
   "execution_count": null,
   "metadata": {},
   "outputs": [],
   "source": []
  },
  {
   "cell_type": "code",
   "execution_count": null,
   "metadata": {},
   "outputs": [],
   "source": []
  },
  {
   "cell_type": "code",
   "execution_count": null,
   "metadata": {},
   "outputs": [],
   "source": []
  },
  {
   "cell_type": "code",
   "execution_count": null,
   "metadata": {},
   "outputs": [],
   "source": []
  },
  {
   "cell_type": "code",
   "execution_count": null,
   "metadata": {},
   "outputs": [],
   "source": []
  },
  {
   "cell_type": "code",
   "execution_count": null,
   "metadata": {},
   "outputs": [],
   "source": []
  },
  {
   "cell_type": "code",
   "execution_count": null,
   "metadata": {},
   "outputs": [],
   "source": []
  },
  {
   "cell_type": "code",
   "execution_count": null,
   "metadata": {},
   "outputs": [],
   "source": []
  },
  {
   "cell_type": "code",
   "execution_count": null,
   "metadata": {},
   "outputs": [],
   "source": []
  },
  {
   "cell_type": "code",
   "execution_count": null,
   "metadata": {},
   "outputs": [],
   "source": []
  },
  {
   "cell_type": "code",
   "execution_count": null,
   "metadata": {},
   "outputs": [],
   "source": []
  },
  {
   "cell_type": "code",
   "execution_count": null,
   "metadata": {},
   "outputs": [],
   "source": []
  },
  {
   "cell_type": "code",
   "execution_count": null,
   "metadata": {},
   "outputs": [],
   "source": []
  },
  {
   "cell_type": "code",
   "execution_count": null,
   "metadata": {},
   "outputs": [],
   "source": []
  },
  {
   "cell_type": "code",
   "execution_count": null,
   "metadata": {},
   "outputs": [],
   "source": []
  }
 ],
 "metadata": {
  "kernelspec": {
   "display_name": "Python 3",
   "language": "python",
   "name": "python3"
  },
  "language_info": {
   "codemirror_mode": {
    "name": "ipython",
    "version": 3
   },
   "file_extension": ".py",
   "mimetype": "text/x-python",
   "name": "python",
   "nbconvert_exporter": "python",
   "pygments_lexer": "ipython3",
   "version": "3.7.3"
  }
 },
 "nbformat": 4,
 "nbformat_minor": 2
}
