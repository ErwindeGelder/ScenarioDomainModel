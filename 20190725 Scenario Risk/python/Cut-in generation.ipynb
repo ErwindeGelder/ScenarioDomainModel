{
 "cells": [
  {
   "cell_type": "code",
   "execution_count": null,
   "metadata": {},
   "outputs": [],
   "source": [
    "import os\n",
    "import matplotlib.pyplot as plt\n",
    "import numpy as np\n",
    "import ot\n",
    "import pandas as pd\n",
    "from domain_model import StateVariable\n",
    "from databaseemulator import DataBaseEmulator\n",
    "from stats.fastkde import KDE"
   ]
  },
  {
   "cell_type": "code",
   "execution_count": null,
   "metadata": {},
   "outputs": [],
   "source": [
    "# Load the database with the cut-in scenarios.\n",
    "filename = os.path.join(\"data\", \"5_scenarios\", \"cut_in_scenarios.json\")\n",
    "cutins = DataBaseEmulator(filename)\n",
    "print(\"Number of scenarios: {:d}\".format(len(cutins.collections[\"scenario\"])))"
   ]
  },
  {
   "cell_type": "code",
   "execution_count": null,
   "metadata": {},
   "outputs": [],
   "source": [
    "def cutin_parameters(scenario):\n",
    "    # Obtain the duration of the lane change.\n",
    "    activity = next(activity for activity in scenario.activities \n",
    "                    if activity.activity_category.name == 'lane change target')\n",
    "    duration = activity.tduration\n",
    "    ystart = activity.get_state(time=scenario.time[\"start\"])[0]\n",
    "    yend = activity.get_state(time=scenario.time[\"end\"])[0]\n",
    "    tstart = activity.tstart\n",
    "    from_direction = 'r' if activity.name == \"left lane change\" else 'r'\n",
    "    \n",
    "    # Obtain longitudinal speed/position at time of start cut in.\n",
    "    vstart, vend = None, None\n",
    "    xstart = None\n",
    "    init_activity_target = ''\n",
    "    for activity in scenario.activities:\n",
    "        if activity.activity_category.state == StateVariable.LON_TARGET and \\\n",
    "                activity.tstart <= scenario.time[\"start\"] <= activity.tend:\n",
    "            vstart = activity.get_state(time=scenario.time[\"start\"])[0][0]\n",
    "            vend = activity.get_state(time=activity.tend)[0][0]\n",
    "            xstart = activity.get_state(time=scenario.time[\"start\"])[1][0]\n",
    "            if activity.activity_category.name == \"deceleration target\":\n",
    "                init_activity_target = 'd'\n",
    "            elif activity.activity_category.name == \"acceleration target\":\n",
    "                init_activity_target = 'a'\n",
    "            else:\n",
    "                init_activity_target = 'c'\n",
    "            tstartlon = activity.tstart - scenario.time[\"start\"]\n",
    "            tendlin = activity.tend - scenario.time[\"start\"]\n",
    "            break\n",
    "            \n",
    "    # Obtain ego vehicle speed at time of start cut in.\n",
    "    vego = None\n",
    "    for actor, activity, _ in scenario.acts:\n",
    "        if actor.name == \"ego vehicle\" and \\\n",
    "            activity.activity_category.state == StateVariable.SPEED and \\\n",
    "                activity.tstart <= scenario.time[\"start\"] <= activity.tend:\n",
    "            vego = activity.get_state(time=scenario.time[\"start\"])[0]\n",
    "            \n",
    "    return [duration, ystart, yend, xstart, vstart, vend, vego,\n",
    "            from_direction, init_activity_target, tstartlon, tendlin]"
   ]
  },
  {
   "cell_type": "code",
   "execution_count": null,
   "metadata": {},
   "outputs": [],
   "source": [
    "class CutInGenerator:\n",
    "    def __init__(self, database):\n",
    "        self.nscenarios = len(database.collections[\"scenario\"])\n",
    "        \n",
    "        # Obtain various parameters for later use.\n",
    "        df = pd.DataFrame([cutin_parameters(database.get_item(\"scenario\", i)) \n",
    "                           for i in range(self.nscenarios)], \n",
    "                          columns=['duration', 'ystart', 'yend', 'xstart', 'vstart', 'vend', 'vego',\n",
    "                                   'from_direction', 'init_activity_target', 'tstartlon', 'tendlon'])\n",
    "        df[\"vdiff\"] = df[\"vstart\"] - df[\"vego\"]\n",
    "        df[\"ystartabs\"] = np.abs(df[\"ystart\"])\n",
    "        df[\"yspeed\"] = (df[\"yend\"] - df[\"ystart\"]) / df[\"duration\"]\n",
    "        df[\"yspeedabs\"] = np.abs(df[\"yspeed\"])\n",
    "        df[\"tstartlonmap\"] = np.log(-df[\"tstartlon\"]+1)\n",
    "        self.df = df\n",
    "        \n",
    "        # Determine the probabilities of the initial activities.\n",
    "        # [prob of accelerating, prob of decelerating, prob of cruising]\n",
    "        self.prob_init_activity = np.array([np.sum(df[\"init_activity_target\"] == \"a\"),\n",
    "                                            np.sum(df[\"init_activity_target\"] == \"d\"),\n",
    "                                            np.sum(df[\"init_activity_target\"] == \"c\")])\n",
    "        self.prob_init_activity = self.prob_init_activity / self.nscenarios\n",
    "        \n",
    "        # Construct the KDEs for the initial parameters.\n",
    "        self.kdes = dict()\n",
    "        self.kdes[\"ystart\"] = KDE(data=df[\"ystart\"].values, scaling=True)\n",
    "        for act in ['a', 'd', 'c']:\n",
    "            self.kdes[\"{:s}_xstart\".format(act)] = KDE(data=df.loc[df[\"init_activity_target\"] == act, \n",
    "                                                                   \"xstart\"].values,\n",
    "                                                       scaling=True)\n",
    "            self.kdes[\"{:s}_tstartlon\".format(act)] = KDE(data=df.loc[df[\"init_activity_target\"] == act, \n",
    "                                                                      \"tstartlon\"].values,\n",
    "                                                          scaling=True)\n",
    "            self.kdes[\"{:s}_speeds\".format(act)] = KDE(data=df.loc[df[\"init_activity_target\"] == act,\n",
    "                                                                      [\"vstart\", \"vego\"]].values,\n",
    "                                                       scaling=True)\n",
    "        \n",
    "        # Construct the KDEs for the parameters of the initial activities.\n",
    "        self.kdes[\"duration\"] = KDE(data=df[\"duration\"])\n",
    "        self.kdes[\"yend\"] = KDE(data=df[\"yend\"])\n",
    "        for act in ['a', 'd', 'c']:\n",
    "            self.kdes[\"{:s}_tendlon\".format(act)] = \\\n",
    "                KDE(data=df.loc[df[\"init_activity_target\"] == act, \"tendlon\"].values,\n",
    "                    scaling=True)\n",
    "            self.kdes[\"{:s}_vend\".format(act)] = \\\n",
    "                KDE(data=df.loc[df[\"init_activity_target\"] == act, [\"vstart\", \"vend\"]].values,\n",
    "                    scaling=True)\n",
    "        \n",
    "        # Compute the bandwidth for all KDEs.\n",
    "        for _, kde in self.kdes.items():\n",
    "            kde.compute_bandwidth()\n",
    "            \n",
    "        # Compute 'transition' matrix\n",
    "        A = np.zeros((3, 3))  # 'a', 'd', 'c'\n",
    "        for i in range(self.nscenarios):\n",
    "            s = database.get_item(\"scenario\", i)\n",
    "            t_acts = []\n",
    "            lon_acts = []\n",
    "            for actor, activity, tstart in s.acts:\n",
    "                if actor.actor_category.name == \"cut-in vehicle\":\n",
    "                    if activity.activity_category.state == StateVariable.LON_TARGET:\n",
    "                        t_acts.append(tstart)\n",
    "                        lon_acts.append(activity)\n",
    "            if len(t_acts) <= 1:\n",
    "                continue\n",
    "            i_sorted = np.argsort(t_acts)\n",
    "            for i, j in zip(i_sorted[:-1], i_sorted[1:]):\n",
    "                ia = (0 if lon_acts[i].activity_category.name == \"acceleration target\" else\n",
    "                      1 if lon_acts[i].activity_category.name == \"deceleration target\" else 2)\n",
    "                ja = (0 if lon_acts[j].activity_category.name == \"acceleration target\" else\n",
    "                      1 if lon_acts[j].activity_category.name == \"deceleration target\" else 2)\n",
    "                A[ia, ja] += 1\n",
    "        \n",
    "    def generate(self):\n",
    "        while True:\n",
    "            # Step 1: Determine initial longitudinal activity.\n",
    "            first_lon = ['a', 'd', 'c'][np.argmax(np.random.rand() < np.cumsum(self.prob_init_activity))]\n",
    "\n",
    "            # Step 2: Initial parameters.\n",
    "            ystart = self.kdes[\"ystart\"].sample()[0][0]\n",
    "            xstart = self.kdes[\"{:s}_xstart\".format(first_lon)].sample()[0][0]\n",
    "            tstartlon = self.kdes[\"{:s}_tstartlon\".format(first_lon)].sample()[0][0]\n",
    "            vstart, vego = self.kdes[\"{:s}_speeds\".format(first_lon)].sample()[0]\n",
    "            if tstartlon >= 0 or vstart <= 0 or vego <= 0 or np.abs(ystart) < 1:\n",
    "                continue\n",
    "\n",
    "            # Step 3: Parameters of initial activities.\n",
    "            duration = self.kdes[\"duration\"].sample()[0][0]\n",
    "            yend = self.kdes[\"yend\"].sample()[0][0]\n",
    "            tendlon = self.kdes[\"{:s}_tendlon\".format(first_lon)].sample()[0][0]\n",
    "            kde = self.kdes[\"{:s}_vend\".format(first_lon)]\n",
    "            cdf_vend = (kde.cdf(np.vstack((np.ones(100)*(vstart+1e-4), np.linspace(0, 40, 100))).T) -\n",
    "                        kde.cdf(np.vstack((np.ones(100)*vstart, np.linspace(0, 40, 100))).T)) / 1e-4\n",
    "            vend = np.interp(np.random.rand()*cdf_vend[-1], cdf_vend, np.linspace(0, 40, 100))\n",
    "            \n",
    "            if tendlon <= 0 or (vstart >= vend and first_lon == 'a') or \\\n",
    "                    (vstart <= vend and first_lon == 'd') or vend <= 0 or duration < 1:\n",
    "                continue\n",
    "            \n",
    "            # We have succesfully generated a test case!\n",
    "            break\n",
    "        \n",
    "        return first_lon, duration, tendlon, vstart, vend\n",
    "        \n",
    "CIG = CutInGenerator(cutins)\n",
    "CIG.prob_init_activity\n",
    "CIG.generate()"
   ]
  },
  {
   "cell_type": "code",
   "execution_count": null,
   "metadata": {},
   "outputs": [],
   "source": [
    "CIG.generate()"
   ]
  },
  {
   "cell_type": "code",
   "execution_count": null,
   "metadata": {},
   "outputs": [],
   "source": []
  },
  {
   "cell_type": "code",
   "execution_count": null,
   "metadata": {},
   "outputs": [],
   "source": [
    "v0, v1 = CIG.kdes[\"a_speeds\"].sample()[0]"
   ]
  },
  {
   "cell_type": "code",
   "execution_count": null,
   "metadata": {},
   "outputs": [],
   "source": [
    "v0"
   ]
  },
  {
   "cell_type": "code",
   "execution_count": null,
   "metadata": {},
   "outputs": [],
   "source": []
  },
  {
   "cell_type": "code",
   "execution_count": null,
   "metadata": {},
   "outputs": [],
   "source": [
    "x = np.array([[1, 2], [0, 0], [2, 0]])\n",
    "y = np.array([[0, 2], [1, 1], [2, 2]])\n",
    "M = ot.dist(x,y, metric='euclidean')"
   ]
  },
  {
   "cell_type": "code",
   "execution_count": null,
   "metadata": {},
   "outputs": [],
   "source": [
    "n = 200\n",
    "n2 = 400\n",
    "ot.emd2(np.ones(n)/n, np.ones(n2)/n2, np.random.rand(n, n2))"
   ]
  },
  {
   "cell_type": "code",
   "execution_count": null,
   "metadata": {},
   "outputs": [],
   "source": [
    "1 + np.sqrt(2)/3"
   ]
  }
 ],
 "metadata": {
  "kernelspec": {
   "display_name": "Python 3",
   "language": "python",
   "name": "python3"
  },
  "language_info": {
   "codemirror_mode": {
    "name": "ipython",
    "version": 3
   },
   "file_extension": ".py",
   "mimetype": "text/x-python",
   "name": "python",
   "nbconvert_exporter": "python",
   "pygments_lexer": "ipython3",
   "version": "3.7.3"
  }
 },
 "nbformat": 4,
 "nbformat_minor": 2
}
