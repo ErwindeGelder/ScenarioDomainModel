{
 "cells": [
  {
   "cell_type": "markdown",
   "metadata": {},
   "source": [
    "# Case study for KIP project"
   ]
  },
  {
   "cell_type": "code",
   "execution_count": null,
   "metadata": {},
   "outputs": [],
   "source": [
    "import case_study_lead_braking_2d"
   ]
  },
  {
   "cell_type": "code",
   "execution_count": null,
   "metadata": {},
   "outputs": [],
   "source": [
    "%debug"
   ]
  },
  {
   "cell_type": "code",
   "execution_count": null,
   "metadata": {},
   "outputs": [],
   "source": []
  },
  {
   "cell_type": "code",
   "execution_count": null,
   "metadata": {},
   "outputs": [],
   "source": []
  },
  {
   "cell_type": "code",
   "execution_count": null,
   "metadata": {},
   "outputs": [],
   "source": [
    "from simulation import SimulationLeadBraking\n",
    "import matplotlib.pyplot as plt\n",
    "import numpy as np\n",
    "from tqdm import tqdm\n",
    "%matplotlib inline"
   ]
  },
  {
   "cell_type": "code",
   "execution_count": null,
   "metadata": {},
   "outputs": [],
   "source": [
    "s = SimulationLeadBraking(min_simulations=5)"
   ]
  },
  {
   "cell_type": "code",
   "execution_count": null,
   "metadata": {},
   "outputs": [],
   "source": [
    "s.simulation(dict(v0=20, amean=2, dv=20), plot=True, seed=2)"
   ]
  },
  {
   "cell_type": "code",
   "execution_count": null,
   "metadata": {},
   "outputs": [],
   "source": [
    "# Parameters: (starting speed, average deceleration, speed difference)\n",
    "s.get_probability(dict(v0=20, amean=2, dv=20), plot=True, seed=1)"
   ]
  },
  {
   "cell_type": "code",
   "execution_count": null,
   "metadata": {},
   "outputs": [],
   "source": [
    "ameans = np.arange(0.5, 5.0, 0.1)\n",
    "deltavs = np.arange(5, 20, 1)"
   ]
  },
  {
   "cell_type": "code",
   "execution_count": null,
   "metadata": {},
   "outputs": [],
   "source": [
    "result = np.zeros((len(ameans), len(deltavs)))\n",
    "for i, amean in enumerate(tqdm(ameans)):\n",
    "    for j, deltav in enumerate(deltavs):\n",
    "        result[i, j] = s.get_probability((20, amean, deltav), seed=0)"
   ]
  },
  {
   "cell_type": "code",
   "execution_count": null,
   "metadata": {},
   "outputs": [],
   "source": [
    "f, ax = plt.subplots(1, 1)\n",
    "contourplot = ax.contourf(deltavs, ameans, result)\n",
    "ax.set_ylabel(\"Mean deceleration [m/s$^2$]\")\n",
    "ax.set_xlabel(\"Speed difference [m/s]\")\n",
    "cbar = f.colorbar(contourplot)\n",
    "cbar.ax.set_ylabel(\"Probability of collision\")"
   ]
  },
  {
   "cell_type": "code",
   "execution_count": null,
   "metadata": {},
   "outputs": [],
   "source": []
  },
  {
   "cell_type": "code",
   "execution_count": null,
   "metadata": {},
   "outputs": [],
   "source": []
  },
  {
   "cell_type": "code",
   "execution_count": null,
   "metadata": {},
   "outputs": [],
   "source": []
  },
  {
   "cell_type": "code",
   "execution_count": null,
   "metadata": {},
   "outputs": [],
   "source": []
  },
  {
   "cell_type": "code",
   "execution_count": null,
   "metadata": {},
   "outputs": [],
   "source": []
  },
  {
   "cell_type": "code",
   "execution_count": null,
   "metadata": {},
   "outputs": [],
   "source": [
    "import case_study_risk_paper"
   ]
  },
  {
   "cell_type": "code",
   "execution_count": null,
   "metadata": {},
   "outputs": [],
   "source": [
    "%debug"
   ]
  },
  {
   "cell_type": "code",
   "execution_count": null,
   "metadata": {},
   "outputs": [],
   "source": [
    "import os\n",
    "from typing import Tuple\n",
    "import time\n",
    "import collections\n",
    "import matplotlib.pyplot as plt\n",
    "import numpy as np\n",
    "import pickle\n",
    "from tqdm import tqdm_notebook as tqdm\n",
    "from domain_model import Scenario, BSplines\n",
    "from stats.fastkde import KDE\n",
    "from databaseemulator import DataBaseEmulator"
   ]
  },
  {
   "cell_type": "code",
   "execution_count": null,
   "metadata": {},
   "outputs": [],
   "source": [
    "# Load the database with the cut-in scenarios.\n",
    "filename = os.path.join(\"data\", \"5_scenarios\", \"ego_braking.json\")\n",
    "DBE = DataBaseEmulator(filename)\n",
    "print(\"Number of scenarios: {:d}\".format(len(DBE.collections[\"scenario\"])))"
   ]
  },
  {
   "cell_type": "markdown",
   "metadata": {},
   "source": [
    "## Get scenario parameters"
   ]
  },
  {
   "cell_type": "code",
   "execution_count": null,
   "metadata": {},
   "outputs": [],
   "source": [
    "def parameters(scenario: Scenario) -> np.ndarray:\n",
    "    \"\"\" Get the parameters of the ego-braking scenario. \n",
    "    \n",
    "    It is assumed that the secnario contains only one scenario.\n",
    "    This activity describes the braking activity of the ego\n",
    "    vehicle. The following parameters are obtained:\n",
    "    - Initial speed\n",
    "    - Average deceleration\n",
    "    - Speed difference\n",
    "    \n",
    "    :param scenario: The scenario describing the braking activity\n",
    "        of the ego vehicle.\n",
    "    :return: The mentioned parameters.\n",
    "    \"\"\"\n",
    "    activity = scenario.activities[0]\n",
    "    vstart_vend = activity.get_state(time=[activity.tstart, activity.tend])\n",
    "    vstart = vstart_vend[0]\n",
    "    vdiff = (vstart - vstart_vend[1])\n",
    "    amean = vdiff / (activity.tend - activity.tstart)\n",
    "    return np.array([vstart, amean, vdiff])"
   ]
  },
  {
   "cell_type": "code",
   "execution_count": null,
   "metadata": {},
   "outputs": [],
   "source": [
    "nscenarios = len(DBE.collections[\"scenario\"])\n",
    "pars = np.array([parameters(DBE.get_item(\"scenario\", i)) for i in range(nscenarios)])"
   ]
  },
  {
   "cell_type": "code",
   "execution_count": null,
   "metadata": {},
   "outputs": [],
   "source": [
    "plt.plot(pars[:, 2]*3.6, pars[:, 1], '.')\n",
    "plt.xlabel(\"Speed difference [km/h]\")\n",
    "plt.ylabel(\"Mean deceleration [m/s$^2$]\")"
   ]
  },
  {
   "cell_type": "markdown",
   "metadata": {},
   "source": [
    "## Estimate probability density function"
   ]
  },
  {
   "cell_type": "code",
   "execution_count": null,
   "metadata": {},
   "outputs": [],
   "source": [
    "pars_std = np.std(pars, axis=0)\n",
    "pars_mean = np.mean(pars, axis=0)\n",
    "pars_scaled = (pars - pars_mean) / pars_std\n",
    "kde = KDE(pars_scaled)\n",
    "_ = kde.compute_bandwidth()"
   ]
  },
  {
   "cell_type": "code",
   "execution_count": null,
   "metadata": {},
   "outputs": [],
   "source": [
    "ameans = np.linspace(0, 4, 50)\n",
    "speeds = np.linspace(10, 110, 11)\n",
    "x, y = np.meshgrid(ameans, speeds)\n",
    "xpdf = np.concatenate((x[:, :, np.newaxis], \n",
    "                       y[:, :, np.newaxis],\n",
    "                       np.ones_like(x)*1000), axis=2)\n",
    "cdf = kde.cdf(xpdf)"
   ]
  },
  {
   "cell_type": "code",
   "execution_count": null,
   "metadata": {},
   "outputs": [],
   "source": []
  },
  {
   "cell_type": "code",
   "execution_count": null,
   "metadata": {},
   "outputs": [],
   "source": []
  },
  {
   "cell_type": "code",
   "execution_count": null,
   "metadata": {},
   "outputs": [],
   "source": [
    "def sample(vinit: float) -> Tuple[float, float]:\n",
    "    \"\"\" Sample the remaining two parameters of the KDE, given the first parameter.\n",
    "    \n",
    "    :param vinit: The initial speed.\n",
    "    :return: Average deceleration and speed difference. \n",
    "    \"\"\"\n",
    "    #a = np.random.rand()\n",
    "    b = np.random.rand()\n",
    "    c = np.random.rand()\n",
    "    \n",
    "    lim = 10\n",
    "    n = 200\n",
    "    xmar = np.linspace(-lim, lim, n)\n",
    "    xone = np.ones(n)\n",
    "    #ycdf = kde.cdf(np.vstack((xmar, xone*lim, xone*lim)).T)\n",
    "    #x1 = np.interp(a, ycdf, xmar)\n",
    "    x1 = vinit\n",
    "    \n",
    "    ycdf = (kde.cdf(np.vstack((xone*(x1+1e-4), xmar, xone*lim)).T) -\n",
    "            kde.cdf(np.vstack((xone*x1, xmar, xone*lim)).T)) / 1e-4\n",
    "    x2 = np.interp(b*ycdf[-1], ycdf, xmar)\n",
    "    \n",
    "    ycdf = (kde.cdf(np.vstack((xone*(x1+1e-4), xone*(x2+1e-4), xmar)).T) -\n",
    "            kde.cdf(np.vstack((xone*(x1+1e-4), xone*(x2-1e-4), xmar)).T) -\n",
    "            kde.cdf(np.vstack((xone*(x1-1e-4), xone*(x2+1e-4), xmar)).T) +\n",
    "            kde.cdf(np.vstack((xone*(x1-1e-4), xone*(x2-1e-4), xmar)).T)) / (4*1e-8)\n",
    "    x3 = np.interp(c*ycdf[-1], ycdf, xmar)\n",
    "    \n",
    "    return (x2, x3)"
   ]
  },
  {
   "cell_type": "markdown",
   "metadata": {},
   "source": [
    "## Run a single simulation"
   ]
  },
  {
   "cell_type": "code",
   "execution_count": null,
   "metadata": {},
   "outputs": [],
   "source": [
    "class IDM:\n",
    "    def __init__(self, a, b, delta, s0, T, amin, tr):\n",
    "        self.a = a\n",
    "        self.b = b\n",
    "        self.delta = delta\n",
    "        self.s0 = s0\n",
    "        self.T = T\n",
    "        self.amin = amin\n",
    "        self.tr = tr\n",
    "        \n",
    "        self.t, self.v, self.x = 0, 0, 0\n",
    "        self.v0 = 0\n",
    "        \n",
    "        self.times = collections.deque(maxlen=int(self.tr*200))\n",
    "        self.accelerations = collections.deque(maxlen=len(self.times))\n",
    "    \n",
    "    def init_simulation(self, x0, v0):\n",
    "        self.times = collections.deque(maxlen=int(self.tr*100))\n",
    "        self.accelerations = collections.deque(maxlen=int(self.tr*100))\n",
    "        self.times.append(-1000)\n",
    "        self.times.append(-0.01)\n",
    "        self.accelerations.append(0)\n",
    "        self.accelerations.append(0)\n",
    "        self.t, self.v, self.x = 0, v0, x0\n",
    "        self.v0 = v0*10\n",
    "    \n",
    "    def step_simulation(self, t, xlead, vlead):\n",
    "        # Update speed\n",
    "        a = np.max((self.amin, np.interp(t-self.tr, self.times, self.accelerations)))\n",
    "        self.v += a*(t - self.t)\n",
    "        \n",
    "        # Update position\n",
    "        self.x += self.v*(t - self.t)\n",
    "        \n",
    "        # Calculate acceleration based on IDM\n",
    "        sstar = self.s0 + self.v*self.T + self.v*(self.v-vlead)/(2*np.sqrt(self.a*self.b))\n",
    "        self.accelerations.append(self.a*(1 - (self.v/self.v0)**self.delta -\n",
    "                                          (sstar / (xlead - self.x))**2))\n",
    "        self.times.append(t)\n",
    "        self.t = t\n",
    "        \n",
    "        return self.x, self.v"
   ]
  },
  {
   "cell_type": "code",
   "execution_count": null,
   "metadata": {},
   "outputs": [],
   "source": [
    "class leader:\n",
    "    def __init__(self, tconst):\n",
    "        self.x0, self.v0 = 0, 0\n",
    "        self.dv, self.T = 0, 0\n",
    "        self.tconst = tconst\n",
    "        \n",
    "    def init_simulation(self, x0, v0, amean, dv):\n",
    "        self.dv = dv\n",
    "        self.T = dv / amean\n",
    "        self.x0, self.v0 = x0, v0\n",
    "        \n",
    "    def step_simulation(self, t):\n",
    "        if t <= self.tconst:\n",
    "            speed = self.v0\n",
    "            distance = self.x0 + self.v0*t\n",
    "        elif t < self.tconst + self.T:\n",
    "            speed = self.v0 - self.dv/2*(1 - np.cos(np.pi*(t - self.tconst) / self.T))\n",
    "            distance = self.x0 + self.v0*t - \\\n",
    "                self.dv/2*(t-self.tconst - self.T/np.pi*np.sin(np.pi*(t-self.tconst)/self.T))\n",
    "        else:\n",
    "            speed = self.v0 - self.dv\n",
    "            distance = self.x0 + self.dv*(self.T/2+self.tconst) + (self.v0-self.dv)*t\n",
    "        return distance, speed        "
   ]
  },
  {
   "cell_type": "code",
   "execution_count": null,
   "metadata": {},
   "outputs": [],
   "source": [
    "L = leader(5)\n",
    "F = IDM(0.73, 1.67, 4, 2, 1, -3, 0.5)\n",
    "\n",
    "def simulation(v0, amean, dv):\n",
    "    L.init_simulation(F.s0+v0*F.T, v0, amean, dv)\n",
    "    F.init_simulation(0, v0)\n",
    "    t = 0\n",
    "    prev_dist = 0\n",
    "    xl, xf = 1, 0\n",
    "    while t < 10 or prev_dist > xl - xf:\n",
    "        prev_dist = xl - xf\n",
    "        t += 0.01\n",
    "        xl, vl = L.step_simulation(t)\n",
    "        xf, vf = F.step_simulation(t, xl, vl)\n",
    "        \n",
    "        if xf > xl:\n",
    "            # Collision!\n",
    "            return 1\n",
    "    return 0"
   ]
  },
  {
   "cell_type": "code",
   "execution_count": null,
   "metadata": {},
   "outputs": [],
   "source": [
    "v0 = 30\n",
    "amean = 2\n",
    "dv = 20\n",
    "simulation(v0, amean, dv)"
   ]
  },
  {
   "cell_type": "code",
   "execution_count": null,
   "metadata": {},
   "outputs": [],
   "source": [
    "L.init_simulation(2+v0*1, v0, amean, dv)\n",
    "F.init_simulation(0, v0)\n",
    "t = np.arange(0.01, 20, 0.01)\n",
    "xl = np.zeros_like(t)\n",
    "vl = np.zeros_like(t)\n",
    "xf = np.zeros_like(t)\n",
    "vf = np.zeros_like(t)\n",
    "for i, time in enumerate(t):\n",
    "    xl[i], vl[i] = L.step_simulation(time)\n",
    "    xf[i], vf[i] = F.step_simulation(time, xl[i], vl[i])"
   ]
  },
  {
   "cell_type": "code",
   "execution_count": null,
   "metadata": {},
   "outputs": [],
   "source": [
    "plt.plot(t, vl*3.6, label=\"Leader\")\n",
    "plt.plot(t, vf*3.6, label=\"Ego\")\n",
    "plt.xlabel(\"Time [s]\")\n",
    "plt.ylabel(\"Speed [km/h]\")\n",
    "_ = plt.legend()"
   ]
  },
  {
   "cell_type": "code",
   "execution_count": null,
   "metadata": {},
   "outputs": [],
   "source": [
    "plt.plot(t, xl - xf)\n",
    "plt.xlabel(\"Time [s]\")\n",
    "_ = plt.ylabel(\"Distance\")"
   ]
  },
  {
   "cell_type": "code",
   "execution_count": null,
   "metadata": {},
   "outputs": [],
   "source": [
    "plt.plot(t, np.gradient(vl) / np.gradient(t), label=\"Leader\")\n",
    "plt.plot(t, np.gradient(vf) / np.gradient(t), label=\"Ego\")\n",
    "plt.xlabel(\"Time [s]\")\n",
    "plt.ylabel(\"Deceleration [m/s$^2$]\")\n",
    "_ = plt.legend()"
   ]
  },
  {
   "cell_type": "code",
   "execution_count": null,
   "metadata": {},
   "outputs": [],
   "source": [
    "speeds = np.linspace(10, 30, 21)\n",
    "ameans = np.linspace(0.1, 5, 50)\n",
    "deltavs = np.linspace(0, 30, 16)\n",
    "thws = np.linspace(0.1, 1.5, 15)"
   ]
  },
  {
   "cell_type": "code",
   "execution_count": null,
   "metadata": {},
   "outputs": [],
   "source": [
    "result = np.zeros((len(thws), len(speeds), len(deltavs), len(ameans)), dtype=np.bool)"
   ]
  },
  {
   "cell_type": "code",
   "execution_count": null,
   "metadata": {},
   "outputs": [],
   "source": [
    "filename = os.path.join(\"data\", \"KIP result.p\")\n",
    "if os.path.exists(filename):\n",
    "    with open(filename, 'rb') as file:\n",
    "        result = pickle.load(file)\n",
    "else:\n",
    "    for i, thw in enumerate(tqdm(thws)):\n",
    "        F = IDM(0.73, 1.67, 4, 2, thw, -3, 0.5)\n",
    "        for j, speed in enumerate(tqdm(speeds, leave=False)):\n",
    "            for k, deltav in enumerate(deltavs):\n",
    "                if deltav > speed:\n",
    "                    continue\n",
    "                for m, amean in enumerate(ameans):\n",
    "                    result[i, j, k, m] = simulation(speed, amean, deltav)\n",
    "    with open(filename, 'wb') as file:\n",
    "        pickle.dump(result, file)"
   ]
  },
  {
   "cell_type": "code",
   "execution_count": null,
   "metadata": {},
   "outputs": [],
   "source": [
    "r = np.zeros((len(thws), len(speeds)))\n",
    "for i in tqdm(range(len(thws))):\n",
    "    for j, speed in enumerate(speeds):\n",
    "        p = 0\n",
    "        bb, cc = np.meshgrid(ameans, deltavs[deltavs <= speed])\n",
    "        aa = np.ones_like(bb) * speed\n",
    "        samples = np.concatenate((aa[:, :, np.newaxis], \n",
    "                                  bb[:, :, np.newaxis], \n",
    "                                  cc[:, :, np.newaxis]), axis=2)\n",
    "        probs = kde.score_samples((samples - pars_mean) / pars_std)\n",
    "        r[i, j] = np.sum(probs * result[i][j][deltavs <= speed]) / np.sum(probs)"
   ]
  },
  {
   "cell_type": "code",
   "execution_count": null,
   "metadata": {},
   "outputs": [],
   "source": [
    "fig, ax = plt.subplots(1, 1)\n",
    "cs = plt.contourf(thws, speeds*3.6, r.T)\n",
    "plt.xlabel(\"Time headway [s]\")\n",
    "plt.ylabel(\"Speed [km/h]\")\n",
    "plt.title(\"Likelihood of collision if preceding vehicle brakes.\")\n",
    "fig.colorbar(cs, ax=ax)"
   ]
  }
 ],
 "metadata": {
  "kernelspec": {
   "display_name": "Python 3",
   "language": "python",
   "name": "python3"
  },
  "language_info": {
   "codemirror_mode": {
    "name": "ipython",
    "version": 3
   },
   "file_extension": ".py",
   "mimetype": "text/x-python",
   "name": "python",
   "nbconvert_exporter": "python",
   "pygments_lexer": "ipython3",
   "version": "3.7.3"
  }
 },
 "nbformat": 4,
 "nbformat_minor": 2
}
