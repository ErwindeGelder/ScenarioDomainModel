{
 "cells": [
  {
   "cell_type": "code",
   "execution_count": null,
   "metadata": {},
   "outputs": [],
   "source": [
    "import os\n",
    "import matplotlib.pyplot as plt\n",
    "import numpy as np\n",
    "import pandas as pd\n",
    "from tqdm import tqdm_notebook as tqdm\n",
    "from domain_model import Scenario\n",
    "from simulation import ACC, acc_parameters, hdm_parameters, SimulationLeadBraking, HDM\n",
    "from stats import KDE, kde_from_file\n",
    "from databaseemulator import DataBaseEmulator\n",
    "%matplotlib inline"
   ]
  },
  {
   "cell_type": "markdown",
   "metadata": {},
   "source": [
    "# Test driver model, ACC, and CACC"
   ]
  },
  {
   "cell_type": "code",
   "execution_count": null,
   "metadata": {},
   "outputs": [],
   "source": [
    "s = SimulationLeadBraking(follower=HDM(), follower_parameters=hdm_parameters)"
   ]
  },
  {
   "cell_type": "code",
   "execution_count": null,
   "metadata": {},
   "outputs": [],
   "source": [
    "np.random.seed(0)\n",
    "s.simulation(dict(v0=20, amean=1.72155613, dv=18.159153), plot=True, seed=0)"
   ]
  },
  {
   "cell_type": "code",
   "execution_count": null,
   "metadata": {},
   "outputs": [],
   "source": [
    "s2 = SimulationLeadBraking(follower=ACC(), follower_parameters=acc_parameters)\n",
    "np.random.seed(0)\n",
    "s2.simulation(dict(v0=20, amean=2, dv=15), plot=True)"
   ]
  },
  {
   "cell_type": "code",
   "execution_count": null,
   "metadata": {},
   "outputs": [],
   "source": []
  },
  {
   "cell_type": "code",
   "execution_count": null,
   "metadata": {},
   "outputs": [],
   "source": [
    "kde = kde_from_file(os.path.join(\"data\", \"6_kde\", \"lead_braking.p\"))\n",
    "kde.set_bandwidth(kde.bandwidth)\n",
    "kde2d = kde_from_file(os.path.join(\"data\", \"6_kde\", \"lead_braking_2d.p\"))\n",
    "kde2d.set_bandwidth(kde2d.bandwidth)\n",
    "np.random.seed(0)\n",
    "x = kde.conditional_sample(i_given=0, values=20, n_samples=1000)\n",
    "k = KDE(data=x, scaling=True)\n",
    "k.set_bandwidth(kde2d.bandwidth)"
   ]
  },
  {
   "cell_type": "code",
   "execution_count": null,
   "metadata": {},
   "outputs": [],
   "source": [
    "INIT_SPEED = 20\n",
    "def plot_2d_kde(k, amean_lim=(0., 3.), dv_lim=(0., 20.)):\n",
    "    scaling_kde = (k.cdf(np.array([[400., dv_lim[1]]]))[0]-\n",
    "                   k.cdf(np.array([[400., dv_lim[0]]]))[0]-\n",
    "                   k.cdf(np.array([[amean_lim[0], dv_lim[1]]]))[0]+\n",
    "                   k.cdf(np.array([[amean_lim[0], dv_lim[0]]]))[0])\n",
    "    AMEANS, DVS = np.meshgrid(np.linspace(amean_lim[0], amean_lim[1], 100),\n",
    "                              np.linspace(dv_lim[0], dv_lim[1], 50))\n",
    "    pdf = k.score_samples(np.concatenate((AMEANS[:, :, np.newaxis],\n",
    "                                          DVS[:, :, np.newaxis]), axis=2))\n",
    "    FIG, AXES = plt.subplots(1, 1)\n",
    "    CONTOUR = AXES.contourf(AMEANS, DVS, pdf/scaling_kde)\n",
    "    FIG.colorbar(CONTOUR)\n",
    "    AXES.set_xlabel(\"Mean deceleration [m/s$^2$]\")\n",
    "    AXES.set_ylabel(\"Speed difference [m/s]\")\n",
    "    AXES.set_title(\"Probability density\")\n",
    "    return pdf/scaling_kde\n",
    "pdf = plot_2d_kde(k)"
   ]
  },
  {
   "cell_type": "markdown",
   "metadata": {},
   "source": [
    "# Monte Carlo"
   ]
  },
  {
   "cell_type": "code",
   "execution_count": null,
   "metadata": {},
   "outputs": [],
   "source": [
    "np.random.seed(0)\n",
    "n = 1000\n",
    "x_mc = np.zeros((n, 2))\n",
    "r_mc = np.zeros(n)\n",
    "for i in tqdm(range(n)):\n",
    "    while True:\n",
    "        sample = kde2d.sample()\n",
    "        amean, vdiff = sample[0][0], sample[0][1]\n",
    "        if amean > 0 and 0 < vdiff <= 20:\n",
    "            break\n",
    "    x_mc[i] = [amean, vdiff]\n",
    "    r_mc[i] = s.simulation(dict(v0=20, amean=amean, dv=vdiff))\n",
    "    i += 1"
   ]
  },
  {
   "cell_type": "code",
   "execution_count": null,
   "metadata": {},
   "outputs": [],
   "source": [
    "prob = np.mean(r_mc < 0)\n",
    "sigma = np.sqrt(np.mean(((r_mc < 0) - prob)**2) / n)\n",
    "print(\"Probability of collision: {:.2f} %\".format(prob*100), end=\"\")\n",
    "print(\" +/- {:.2f} %\".format(sigma*100))"
   ]
  },
  {
   "cell_type": "code",
   "execution_count": null,
   "metadata": {},
   "outputs": [],
   "source": [
    "plt.scatter(x_mc[:, 0], x_mc[:, 1], c=(r_mc<0))"
   ]
  },
  {
   "cell_type": "markdown",
   "metadata": {},
   "source": [
    "# Importance sampling with MCMC"
   ]
  },
  {
   "cell_type": "code",
   "execution_count": null,
   "metadata": {},
   "outputs": [],
   "source": [
    "n_is = 2000\n",
    "np.random.seed(0)\n",
    "x_is, r_is = np.zeros((n_is, 2)), np.zeros(n_is)\n",
    "istart = -1\n",
    "amean, vdiff = 2, 20\n",
    "result = s.simulation(dict(v0=20, amean=amean, dv=vdiff))\n",
    "std_amean = 0.3\n",
    "std_vdiff = 2.0\n",
    "current_prob = kde2d.score_samples(np.array([[amean, vdiff]]))\n",
    "\n",
    "np.random.seed(0)\n",
    "for i in range(istart, n_is):\n",
    "    amean_candidate = amean + np.random.randn()*std_amean\n",
    "    vdiff_candidate = vdiff + np.random.randn()*std_vdiff\n",
    "    if vdiff_candidate > 20 or vdiff_candidate <= 0 or amean_candidate <= 0:\n",
    "        candidate_prob = 0\n",
    "    else:\n",
    "        candidate_prob = kde2d.score_samples(np.array([[amean_candidate, vdiff_candidate]]))\n",
    "    prob_mcmc = np.random.rand()\n",
    "    if prob_mcmc < candidate_prob/current_prob:\n",
    "        # In this case, if there is a collision, this is a good candidate.\n",
    "        result_candidate = s.simulation(dict(v0=20, amean=amean_candidate, dv=vdiff_candidate))\n",
    "        if result_candidate < 0:        \n",
    "            amean = amean_candidate\n",
    "            vdiff = vdiff_candidate\n",
    "            current_prob = candidate_prob\n",
    "            result = result_candidate\n",
    "\n",
    "    if i >= 0:\n",
    "        x_is[i] = [amean, vdiff]\n",
    "        r_is[i] = result"
   ]
  },
  {
   "cell_type": "code",
   "execution_count": null,
   "metadata": {},
   "outputs": [],
   "source": [
    "np.unique(r_is).shape"
   ]
  },
  {
   "cell_type": "code",
   "execution_count": null,
   "metadata": {},
   "outputs": [],
   "source": [
    "ktmp = KDE(x_is, scaling=True)\n",
    "ktmp.clustering()\n",
    "ktmp.compute_bandwidth()\n",
    "ktmp.bandwidth"
   ]
  },
  {
   "cell_type": "code",
   "execution_count": null,
   "metadata": {},
   "outputs": [],
   "source": [
    "pdf = plot_2d_kde(ktmp, amean_lim=(1.0, 3.7), dv_lim=(15.5, 21.0))\n",
    "plt.scatter(ktmp.data[:, 0] * ktmp.data_helpers.std[0], \n",
    "            ktmp.data[:, 1] * ktmp.data_helpers.std[1],\n",
    "            c=ktmp.data_helpers.weights)"
   ]
  },
  {
   "cell_type": "code",
   "execution_count": null,
   "metadata": {},
   "outputs": [],
   "source": [
    "def get_scaling(k):\n",
    "    scaling_kde = (k.cdf(np.array([[400., 20.0]]))[0]-\n",
    "                   k.cdf(np.array([[400., 0.0]]))[0]-\n",
    "                   k.cdf(np.array([[0.0, 20.0]]))[0]+\n",
    "                   k.cdf(np.array([[0.0, 0.0]]))[0])\n",
    "    return scaling_kde"
   ]
  },
  {
   "cell_type": "code",
   "execution_count": null,
   "metadata": {},
   "outputs": [],
   "source": [
    "importance_density = ktmp.score_samples(x_is) / get_scaling(ktmp)\n",
    "orig_density = kde2d.score_samples(x_is) / get_scaling(kde2d)"
   ]
  },
  {
   "cell_type": "code",
   "execution_count": null,
   "metadata": {},
   "outputs": [],
   "source": [
    "prob = np.mean(orig_density / importance_density)\n",
    "sigma = np.sqrt(np.mean((orig_density / importance_density - prob)**2) / n_is)\n",
    "print(\"Probability of collision: {:.2f} %\".format(prob*100), end=\"\")\n",
    "print(\" +/- {:.2f} %\".format(sigma*100))"
   ]
  },
  {
   "cell_type": "markdown",
   "metadata": {},
   "source": [
    "# Other stuff"
   ]
  },
  {
   "cell_type": "code",
   "execution_count": null,
   "metadata": {},
   "outputs": [],
   "source": [
    "x = pd.read_csv(os.path.join(\"data\", \"7_simulation_results\", \"lead_braking_is_2d.csv\"))"
   ]
  },
  {
   "cell_type": "code",
   "execution_count": null,
   "metadata": {},
   "outputs": [],
   "source": [
    "np.unique(x[[\"amean\", \"dv\"]].values, axis=0, return_counts=True)"
   ]
  },
  {
   "cell_type": "code",
   "execution_count": null,
   "metadata": {},
   "outputs": [],
   "source": [
    "x.loc[50:]"
   ]
  },
  {
   "cell_type": "code",
   "execution_count": null,
   "metadata": {},
   "outputs": [],
   "source": []
  },
  {
   "cell_type": "code",
   "execution_count": null,
   "metadata": {},
   "outputs": [],
   "source": []
  },
  {
   "cell_type": "code",
   "execution_count": null,
   "metadata": {},
   "outputs": [],
   "source": []
  },
  {
   "cell_type": "code",
   "execution_count": null,
   "metadata": {},
   "outputs": [],
   "source": []
  }
 ],
 "metadata": {
  "kernelspec": {
   "display_name": "Python 3",
   "language": "python",
   "name": "python3"
  },
  "language_info": {
   "codemirror_mode": {
    "name": "ipython",
    "version": 3
   },
   "file_extension": ".py",
   "mimetype": "text/x-python",
   "name": "python",
   "nbconvert_exporter": "python",
   "pygments_lexer": "ipython3",
   "version": "3.7.3"
  }
 },
 "nbformat": 4,
 "nbformat_minor": 2
}
