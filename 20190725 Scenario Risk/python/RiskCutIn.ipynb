{
 "cells": [
  {
   "cell_type": "code",
   "execution_count": null,
   "metadata": {},
   "outputs": [],
   "source": [
    "import os\n",
    "import matplotlib.pyplot as plt\n",
    "import numpy as np\n",
    "import pandas as pd\n",
    "from tqdm import tqdm_notebook as tqdm\n",
    "from domain_model import Scenario, StateVariable\n",
    "from simulation import ACC, acc_lead_braking_pars, ACCHDM, acc_hdm_lead_braking_pars, \\\n",
    "    hdm_lead_braking_pars, SimulationLeadBraking, HDM, EIDM, eidm_lead_braking_pars, \\\n",
    "    IDMPlus, IDMParameters, HDMParameters, SimulationApproaching, hdm_approaching_pars, \\\n",
    "    acc_approaching_pars, acc_hdm_approaching_pars, SimulationCutIn, hdm_cutin_pars, \\\n",
    "    acc_cutin_pars, acc_hdm_cutin_pars\n",
    "from stats import KDE, kde_from_file\n",
    "from databaseemulator import DataBaseEmulator\n",
    "%matplotlib inline"
   ]
  },
  {
   "cell_type": "markdown",
   "metadata": {},
   "source": [
    "# Test driver model, ACC, and CACC"
   ]
  },
  {
   "cell_type": "code",
   "execution_count": null,
   "metadata": {},
   "outputs": [],
   "source": [
    "s = SimulationLeadBraking(follower=HDM(), follower_parameters=hdm_lead_braking_pars)"
   ]
  },
  {
   "cell_type": "code",
   "execution_count": null,
   "metadata": {},
   "outputs": [],
   "source": [
    "np.random.seed(0)\n",
    "s.simulation(dict(v0=20, amean=2.5, dv=20), plot=True, seed=0)"
   ]
  },
  {
   "cell_type": "code",
   "execution_count": null,
   "metadata": {},
   "outputs": [],
   "source": [
    "s2 = SimulationLeadBraking(follower=EIDM(), follower_parameters=eidm_lead_braking_pars)\n",
    "s2.simulation(dict(v0=20, amean=2, dv=20), plot=True, seed=0)"
   ]
  },
  {
   "cell_type": "code",
   "execution_count": null,
   "metadata": {},
   "outputs": [],
   "source": [
    "s2 = SimulationLeadBraking(follower=ACC(), follower_parameters=acc_lead_braking_pars)\n",
    "s2.simulation(dict(v0=5, amean=1, dv=4), plot=True, seed=0)"
   ]
  },
  {
   "cell_type": "code",
   "execution_count": null,
   "metadata": {},
   "outputs": [],
   "source": [
    "s3 = SimulationLeadBraking(follower=ACCHDM(), follower_parameters=acc_hdm_lead_braking_pars)\n",
    "s3.simulation(dict(v0=20, amean=6, dv=18), plot=True, seed=0)"
   ]
  },
  {
   "cell_type": "markdown",
   "metadata": {},
   "source": [
    "# Approaching vehicle"
   ]
  },
  {
   "cell_type": "code",
   "execution_count": null,
   "metadata": {},
   "outputs": [],
   "source": [
    "s1 = SimulationApproaching(follower=HDM(), follower_parameters=hdm_approaching_pars)\n",
    "s1.simulation(dict(ratio_vtar_vego=0, vego=20), plot=True, seed=0)"
   ]
  },
  {
   "cell_type": "code",
   "execution_count": null,
   "metadata": {},
   "outputs": [],
   "source": [
    "s2 = SimulationApproaching(follower=ACC(), follower_parameters=acc_approaching_pars)\n",
    "s2.simulation(dict(ratio_vtar_vego=0, vego=20), plot=True, seed=0)"
   ]
  },
  {
   "cell_type": "code",
   "execution_count": null,
   "metadata": {},
   "outputs": [],
   "source": [
    "s3 = SimulationApproaching(follower=ACCHDM(), follower_parameters=acc_hdm_approaching_pars)\n",
    "s3.simulation(dict(ratio_vtar_vego=0.1, vego=15), plot=True, seed=0)"
   ]
  },
  {
   "cell_type": "markdown",
   "metadata": {},
   "source": [
    "# Cut-in"
   ]
  },
  {
   "cell_type": "code",
   "execution_count": null,
   "metadata": {},
   "outputs": [],
   "source": [
    "s1 = SimulationCutIn(follower=HDM(), follower_parameters=hdm_cutin_pars)\n",
    "s1.simulation(dict(vego=40, ratio_vtar_vego=0.8, dinit=20), plot=True, seed=0)"
   ]
  },
  {
   "cell_type": "code",
   "execution_count": null,
   "metadata": {},
   "outputs": [],
   "source": [
    "s2 = SimulationCutIn(follower=ACC(), follower_parameters=acc_cutin_pars)\n",
    "s2.simulation(dict(vego=20, ratio_vtar_vego=0.8, dinit=20), plot=True, seed=0)"
   ]
  },
  {
   "cell_type": "code",
   "execution_count": null,
   "metadata": {},
   "outputs": [],
   "source": [
    "s3 = SimulationCutIn(follower=ACCHDM(), follower_parameters=acc_hdm_cutin_pars)\n",
    "s3.simulation(dict(vego=20, ratio_vtar_vego=0.7, dinit=20), plot=True, seed=0)"
   ]
  },
  {
   "cell_type": "code",
   "execution_count": null,
   "metadata": {},
   "outputs": [],
   "source": [
    "d = DataBaseEmulator(os.path.join(\"data\", \"5_scenarios\", \"cut_in_scenarios.json\"))"
   ]
  },
  {
   "cell_type": "code",
   "execution_count": null,
   "metadata": {},
   "outputs": [],
   "source": [
    "s = d.get_ordered_item(\"scenario\", 0)"
   ]
  },
  {
   "cell_type": "code",
   "execution_count": null,
   "metadata": {},
   "outputs": [],
   "source": [
    "x = []\n",
    "for i in range(len(d.collections[\"scenario\"])):\n",
    "    s = d.get_ordered_item(\"scenario\", i)\n",
    "    t = np.linspace(s.time[\"start\"], s.time[\"end\"], 100)\n",
    "    y = s.get_state(s.get_actor_by_name(\"target vehicle\"), StateVariable.LAT_TARGET, t)\n",
    "    y = np.abs(y)\n",
    "    t = t[np.gradient(y) < 0]\n",
    "    y = y[np.gradient(y) < 0]\n",
    "    time_cutin = np.interp(2, y, t)\n",
    "    vtarget, dinit = s.get_state(s.get_actor_by_name(\"target vehicle\"), \n",
    "                                 StateVariable.LON_TARGET, time_cutin)\n",
    "    vego = s.get_state(s.get_actor_by_name(\"ego vehicle\"), StateVariable.SPEED, time_cutin)\n",
    "    if 0 < vtarget < vego:\n",
    "        x.append([vego, dinit, vtarget/vego])\n",
    "x = np.array(x)"
   ]
  },
  {
   "cell_type": "code",
   "execution_count": null,
   "metadata": {},
   "outputs": [],
   "source": [
    "plt.plot(x[:, 0], x[:, 1], '.')"
   ]
  },
  {
   "cell_type": "code",
   "execution_count": null,
   "metadata": {},
   "outputs": [],
   "source": [
    "np.sort(x[:, 1])"
   ]
  },
  {
   "cell_type": "code",
   "execution_count": null,
   "metadata": {},
   "outputs": [],
   "source": [
    "plt.plot(x[:, 2], x[:, 1], '.')"
   ]
  },
  {
   "cell_type": "code",
   "execution_count": null,
   "metadata": {},
   "outputs": [],
   "source": [
    "tt = np.linspace(1.5, 2, 51)\n",
    "c = np.zeros(51)\n",
    "for i, t in enumerate(tt):\n",
    "    c[i] = np.sum(np.logical_and(x[:, 0] > t, x[:, 1] < t))"
   ]
  },
  {
   "cell_type": "code",
   "execution_count": null,
   "metadata": {},
   "outputs": [],
   "source": [
    "plt.plot(tt, c)"
   ]
  },
  {
   "cell_type": "code",
   "execution_count": null,
   "metadata": {},
   "outputs": [],
   "source": [
    "len(x)"
   ]
  },
  {
   "cell_type": "code",
   "execution_count": null,
   "metadata": {},
   "outputs": [],
   "source": []
  },
  {
   "cell_type": "code",
   "execution_count": null,
   "metadata": {},
   "outputs": [],
   "source": []
  },
  {
   "cell_type": "code",
   "execution_count": null,
   "metadata": {},
   "outputs": [],
   "source": []
  },
  {
   "cell_type": "code",
   "execution_count": null,
   "metadata": {},
   "outputs": [],
   "source": []
  },
  {
   "cell_type": "code",
   "execution_count": null,
   "metadata": {},
   "outputs": [],
   "source": [
    "dfdsfsafdf"
   ]
  },
  {
   "cell_type": "code",
   "execution_count": null,
   "metadata": {},
   "outputs": [],
   "source": [
    "%debug"
   ]
  },
  {
   "cell_type": "code",
   "execution_count": null,
   "metadata": {},
   "outputs": [],
   "source": [
    "d = DataBaseEmulator(os.path.join(\"data\", \"5_scenarios\", \"ego_braking.json\"))\n",
    "print(len(d.collections[\"scenario\"]))\n",
    "d = DataBaseEmulator(os.path.join(\"data\", \"5_scenarios\", \"lead_braking.json\"))\n",
    "print(len(d.collections[\"scenario\"]))  # 1310\n",
    "d = DataBaseEmulator(os.path.join(\"data\", \"5_scenarios\", \"approaching_vehicle.json\"))\n",
    "print(len(d.collections[\"scenario\"]))  # 655"
   ]
  },
  {
   "cell_type": "code",
   "execution_count": null,
   "metadata": {},
   "outputs": [],
   "source": [
    "d = DataBaseEmulator(os.path.join(\"data\", \"5_scenarios\", \"ego_braking.json\"))\n",
    "print(len(d.collections[\"scenario\"]))\n",
    "d = DataBaseEmulator(os.path.join(\"data\", \"5_scenarios\", \"lead_braking.json\"))\n",
    "print(len(d.collections[\"scenario\"]))  # 1310\n",
    "d = DataBaseEmulator(os.path.join(\"data\", \"5_scenarios\", \"approaching_vehicle.json\"))\n",
    "print(len(d.collections[\"scenario\"]))  # 655"
   ]
  },
  {
   "cell_type": "code",
   "execution_count": null,
   "metadata": {},
   "outputs": [],
   "source": [
    "def parameters_lead_braking() -> np.ndarray:\n",
    "    \"\"\" Return the parameters for lead vehicle braking.\n",
    "\n",
    "    The parameters are:\n",
    "    1. Initial speed\n",
    "    2. Average deceleration\n",
    "    3. Speed difference (positive means braking, i.e., vstart-vend)\n",
    "\n",
    "    :return: The numpy array with the parameters.\n",
    "    \"\"\"\n",
    "    data = DataBaseEmulator(os.path.join(\"data\", \"5_scenarios\", \"lead_braking - Copy.json\"))\n",
    "    pars = []\n",
    "    for i in range(len(data.collections[\"scenario\"])):\n",
    "        scenario = data.get_ordered_item(\"scenario\", i)\n",
    "        vstart, vdiff, amean = 0, 0, 0\n",
    "        for activity in scenario.activities:\n",
    "            if activity.name == \"deceleration target\":\n",
    "                vstart, vend = activity.get_state(time=[activity.tstart, activity.tend])[0]\n",
    "                vdiff = vstart-vend\n",
    "                amean = vdiff/(activity.tend-activity.tstart)\n",
    "                break\n",
    "\n",
    "        if vstart > 0 and vdiff > 0 and amean > 0:\n",
    "            pars.append([vstart, amean, vdiff])\n",
    "    return np.array(pars)"
   ]
  },
  {
   "cell_type": "code",
   "execution_count": null,
   "metadata": {},
   "outputs": [],
   "source": [
    "x = parameters_lead_braking()"
   ]
  },
  {
   "cell_type": "code",
   "execution_count": null,
   "metadata": {},
   "outputs": [],
   "source": [
    "y = parameters_lead_braking()"
   ]
  },
  {
   "cell_type": "code",
   "execution_count": null,
   "metadata": {},
   "outputs": [],
   "source": [
    "i = 0\n",
    "j = 1\n",
    "plt.plot(y[:, i], y[:, j], 's')\n",
    "plt.plot(x[:, i], x[:, j], '.')"
   ]
  },
  {
   "cell_type": "code",
   "execution_count": null,
   "metadata": {},
   "outputs": [],
   "source": []
  },
  {
   "cell_type": "markdown",
   "metadata": {},
   "source": [
    "# Approaching vehicle scenario"
   ]
  },
  {
   "cell_type": "code",
   "execution_count": null,
   "metadata": {},
   "outputs": [],
   "source": [
    "import glob\n",
    "import os\n",
    "from activity_detector import LeadVehicle, LateralStateTarget, LongitudinalStateTarget, \\\n",
    "    TargetNear\n",
    "from data_handler import DataHandler\n",
    "from create_ngrams import FIELDNAMES_EGO, METADATA_EGO, FIELDNAMES_TARGET, METADATA_TARGET\n",
    "from ngram import NGram\n",
    "from ngram_search import find_sequence"
   ]
  },
  {
   "cell_type": "code",
   "execution_count": null,
   "metadata": {},
   "outputs": [],
   "source": [
    "d = DataBaseEmulator(os.path.join(\"data\", \"5_scenarios\", \"approaching_vehicle.json\"))"
   ]
  },
  {
   "cell_type": "code",
   "execution_count": null,
   "metadata": {},
   "outputs": [],
   "source": [
    "s.get_actor_by_name(\"target vehicle\")"
   ]
  },
  {
   "cell_type": "code",
   "execution_count": null,
   "metadata": {},
   "outputs": [],
   "source": [
    "vtars = []\n",
    "vegos = []\n",
    "for i in range(len(d.collections[\"scenario\"])):\n",
    "    s = d.get_ordered_item(\"scenario\", i)\n",
    "    vego = s.get_state(s.actors[0], StateVariable.SPEED, s.time[\"start\"])\n",
    "    vtar = s.get_state(s.actors[1], StateVariable.LON_TARGET, s.time[\"start\"])[0]\n",
    "    if vego > vtar:\n",
    "        vtars.append(vtar)\n",
    "        vegos.append(vego)\n",
    "vtars = np.array(vtars)\n",
    "vegos = np.array(vegos)"
   ]
  },
  {
   "cell_type": "code",
   "execution_count": null,
   "metadata": {},
   "outputs": [],
   "source": [
    "plt.plot(vegos, vtars/vegos, '.')"
   ]
  },
  {
   "cell_type": "code",
   "execution_count": null,
   "metadata": {},
   "outputs": [],
   "source": [
    "t = np.linspace(s.time[\"start\"], s.time[\"end\"], 100)\n",
    "vego = s.get_state(s.actors[0], StateVariable.SPEED, t)\n",
    "vtar = s.get_state(s.actors[1], StateVariable.LON_TARGET, t)[:, 0]\n",
    "dtar = s.get_state(s.actors[1], StateVariable.LON_TARGET, t)[:, 1]"
   ]
  },
  {
   "cell_type": "code",
   "execution_count": null,
   "metadata": {},
   "outputs": [],
   "source": [
    "plt.plot(t, vego, label=\"Ego\")\n",
    "plt.plot(t, vtar, label=\"Target\")\n",
    "plt.legend()"
   ]
  },
  {
   "cell_type": "code",
   "execution_count": null,
   "metadata": {},
   "outputs": [],
   "source": [
    "vtar[0]"
   ]
  },
  {
   "cell_type": "code",
   "execution_count": null,
   "metadata": {},
   "outputs": [],
   "source": [
    "plt.plot(t, np.cumsum(vtar-vego)*np.gradient(t)-(np.cumsum(vtar-vego)*np.gradient(t))[0])\n",
    "plt.plot(t, dtar-dtar[0])"
   ]
  },
  {
   "cell_type": "code",
   "execution_count": null,
   "metadata": {},
   "outputs": [],
   "source": [
    "np.gradient(t)"
   ]
  },
  {
   "cell_type": "code",
   "execution_count": null,
   "metadata": {},
   "outputs": [],
   "source": [
    "np.cumsum(vtar-vego)*np.gradient(t)"
   ]
  }
 ],
 "metadata": {
  "kernelspec": {
   "display_name": "Python 3",
   "language": "python",
   "name": "python3"
  },
  "language_info": {
   "codemirror_mode": {
    "name": "ipython",
    "version": 3
   },
   "file_extension": ".py",
   "mimetype": "text/x-python",
   "name": "python",
   "nbconvert_exporter": "python",
   "pygments_lexer": "ipython3",
   "version": "3.7.3"
  }
 },
 "nbformat": 4,
 "nbformat_minor": 2
}
