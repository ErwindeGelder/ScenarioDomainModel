{
 "cells": [
  {
   "cell_type": "code",
   "execution_count": null,
   "metadata": {},
   "outputs": [],
   "source": [
    "import os\n",
    "import numpy as np\n",
    "from databaseemulator import DataBaseEmulator\n",
    "from domain_model import StateVariable, Activity\n",
    "from stats import KDE"
   ]
  },
  {
   "cell_type": "code",
   "execution_count": null,
   "metadata": {},
   "outputs": [],
   "source": [
    "# Load the database with the cut-in scenarios.\n",
    "filename = os.path.join(\"data\", \"5_scenarios\", \"cut_in_scenarios.json\")\n",
    "cutins = DataBaseEmulator(filename)\n",
    "for i in [39, 130, 258, 288]:\n",
    "    \n",
    "    cutins.delete_item(\"scenario\", i)\n",
    "nscenarios = len(cutins.collections[\"scenario\"])\n",
    "print(\"Number of scenarios: {:d}\".format(nscenarios))"
   ]
  },
  {
   "cell_type": "markdown",
   "metadata": {},
   "source": [
    "# Step 1: Item generation"
   ]
  },
  {
   "cell_type": "code",
   "execution_count": null,
   "metadata": {},
   "outputs": [],
   "source": [
    "# Go through all cut-ins and store the sequence of longitudinal activities.\n",
    "activities = []\n",
    "for i in range(nscenarios):\n",
    "    # Get the acts in chronological order.\n",
    "    scenario = cutins.get_ordered_item(\"scenario\", i)\n",
    "    acts = [scenario.acts[i] for i in np.argsort([act[2] for act in scenario.acts])]\n",
    "    \n",
    "    # List the longitudinal activities of the target vehicle.\n",
    "    curr_activities = []\n",
    "    for act in acts:\n",
    "        if act[0].name == \"target vehicle\" and \\\n",
    "                act[1].activity_category.state == StateVariable.LON_TARGET:\n",
    "            curr_activities.append(act[1].name[0])\n",
    "    activities.append(curr_activities)"
   ]
  },
  {
   "cell_type": "code",
   "execution_count": null,
   "metadata": {},
   "outputs": [],
   "source": [
    "# Store in a dictionary the possibilities of 'item' sequences.\n",
    "# 'af' means \"accelerating and lane following\"\n",
    "# 'dl' means \"decelerating and lane changing\"\n",
    "# 'cf', 'df', 'al', and 'cl' are similarly defined.\n",
    "def get_transition(activities, main_act, other_acts):\n",
    "    counter = np.zeros(1+len(other_acts), dtype=np.int)\n",
    "    for activity in activities:\n",
    "        try:\n",
    "            i = activity.index(main_act)\n",
    "        except ValueError:\n",
    "            pass\n",
    "        else:\n",
    "            if i == len(activity)-1:\n",
    "                counter[len(other_acts)] += 1\n",
    "                continue\n",
    "            for j, other_act in enumerate(other_acts):\n",
    "                if activity[i+1] == other_act:\n",
    "                    counter[j] += 1\n",
    "    counter = counter / np.sum(counter)\n",
    "    probs = dict()\n",
    "    probs['end'] = counter[-1]\n",
    "    for i, other_act in enumerate(other_acts):\n",
    "        probs[other_act+'l'] = counter[i]\n",
    "    return probs\n",
    "transition = dict(af=dict(al=1),\n",
    "                  cf=dict(cl=1),\n",
    "                  df=dict(dl=1),\n",
    "                  al=get_transition(activities, 'a', ['c', 'd']),\n",
    "                  cl=get_transition(activities, 'c', ['a', 'd']),\n",
    "                  dl=get_transition(activities, 'd', ['a', 'c']))"
   ]
  },
  {
   "cell_type": "code",
   "execution_count": null,
   "metadata": {},
   "outputs": [],
   "source": [
    "acts, counts = np.unique([activity[0] for activity in activities], return_counts=True)\n",
    "transition['start'] = dict()\n",
    "for act, count in zip(acts, counts/np.sum(counts)):\n",
    "    transition['start'][act+'f'] = count\n",
    "transition"
   ]
  },
  {
   "cell_type": "code",
   "execution_count": null,
   "metadata": {},
   "outputs": [],
   "source": [
    "def next_item(probs):\n",
    "    \"\"\" It is important that the probabilities in probs add up to 1. \"\"\"\n",
    "    rand = np.random.rand()\n",
    "    for key, value in probs.items():\n",
    "        if rand <= value:\n",
    "            return key\n",
    "        rand -= value\n",
    "\n",
    "def generate_sequence(transitions, seed=None):\n",
    "    if seed is not None:\n",
    "        np.random.seed(0)\n",
    "    sequence = ['start']\n",
    "    while not sequence[-1] == 'end':\n",
    "        sequence.append(next_item(transitions[sequence[-1]]))\n",
    "    return sequence[1:-1]\n",
    "\n",
    "def probability_sequence(transitions, sequence):\n",
    "    sequence = ['start'] + sequence + ['end']\n",
    "    prob = 1\n",
    "    for act1, act2 in zip(sequence[:-1], sequence[1:]):\n",
    "        prob *= transitions[act1][act2]\n",
    "    return prob"
   ]
  },
  {
   "cell_type": "code",
   "execution_count": null,
   "metadata": {},
   "outputs": [],
   "source": [
    "np.random.seed(0)\n",
    "n = 10000\n",
    "seqs = [generate_sequence(transition) for _ in range(n)]"
   ]
  },
  {
   "cell_type": "code",
   "execution_count": null,
   "metadata": {},
   "outputs": [],
   "source": [
    "sequences = [['cf', 'cl'],\n",
    "             ['af', 'al'],\n",
    "             ['df', 'dl'],\n",
    "             ['cf', 'cl', 'al'],\n",
    "             ['cf', 'cl', 'dl'],\n",
    "             ['af', 'al', 'cl'],\n",
    "             ['af', 'al', 'dl'],\n",
    "             ['df', 'dl', 'al'],\n",
    "             ['df', 'dl', 'cl']] #,\n",
    "x=[             ['cf', 'cl', 'al', 'cl'],\n",
    "             ['cf', 'cl', 'al', 'dl'],\n",
    "             ['cf', 'cl', 'dl', 'cl'],\n",
    "             ['cf', 'cl', 'dl', 'al'],\n",
    "             ['af', 'al', 'cl', 'al'],\n",
    "             ['af', 'al', 'cl', 'dl'],\n",
    "             ['af', 'al', 'dl', 'al'],\n",
    "             ['af', 'al', 'dl', 'cl'],\n",
    "             ['df', 'dl', 'al', 'cl'],\n",
    "             ['df', 'dl', 'al', 'dl'],\n",
    "             ['df', 'dl', 'cl', 'al'],\n",
    "             ['df', 'dl', 'cl', 'dl']]\n",
    "probs = [probability_sequence(transition, seq) for seq in sequences]\n",
    "# .count() is very slow like this, but fine for now...\n",
    "mc_probs = [seqs.count(seq)/n for seq in sequences]\n",
    "real_seqs = [[y[0]+'f']+[x+'l' for x in y] for y in activities]\n",
    "real_probs = [real_seqs.count(seq)/len(real_seqs) for seq in sequences]\n",
    "for seq, prob, mc_prob, real_prob in zip(sequences, probs, mc_probs, real_probs):\n",
    "    print(\"{:13s} {:.4f} {:.4f} {:.4f}\".format(' '.join(seq), prob, mc_prob, real_prob))\n",
    "print()\n",
    "print(\"{:13s} {:.4f} {:.4f} {:.4f}\".format(\"Total\", np.sum(probs), np.sum(mc_probs), \n",
    "                                           np.sum(real_probs)))"
   ]
  },
  {
   "cell_type": "markdown",
   "metadata": {},
   "source": [
    "# Step 2: Parameter generation"
   ]
  },
  {
   "cell_type": "code",
   "execution_count": null,
   "metadata": {},
   "outputs": [],
   "source": [
    "# Functions for obtaining the important parameters.\n",
    "def parm_acc_dec(activity: Activity):\n",
    "    \"\"\" Get initial speed, mean acceleration, and speed difference. \"\"\"\n",
    "    vstart, vend = activity.get_state(time=[activity.tstart, activity.tend])[0]\n",
    "    amean = (vend - vstart) / (activity.tend - activity.tstart)\n",
    "    return vstart, amean, vend-vstart\n",
    "\n",
    "def parm_cruise(activity: Activity):\n",
    "    \"\"\" Get initial speed, log(duration), and speed difference. \"\"\"\n",
    "    vstart, vend = activity.get_state(time=[activity.tstart, activity.tend])[0]\n",
    "    return vstart, np.log(activity.tend-activity.tstart), vend-vstart\n",
    "\n",
    "def parm_lc(activity: Activity):\n",
    "    \"\"\" Get initial position, end position, and log(duration). \"\"\"\n",
    "    ystart, yend = activity.get_state(time=[activity.tstart, activity.tend])\n",
    "    return ystart, yend, activity.tend-activity.tstart"
   ]
  },
  {
   "cell_type": "code",
   "execution_count": null,
   "metadata": {},
   "outputs": [],
   "source": [
    "# Get the parameters of the longitudinal activities.\n",
    "par_acc = []\n",
    "par_cru = []\n",
    "par_dec = []\n",
    "par_lc = []\n",
    "for i in range(len(cutins.collections[\"activity\"])):\n",
    "    activity = cutins.get_item(\"activity\", i)\n",
    "    if activity.name == \"acceleration target\":\n",
    "        par_acc.append(parm_acc_dec(activity))\n",
    "    elif activity.name == \"deceleration target\":\n",
    "        par_dec.append(parm_acc_dec(activity))\n",
    "    elif activity.name == \"cruising target\":\n",
    "        par_cru.append(parm_cruise(activity))\n",
    "    elif activity.name in [\"right lane change\", \"left lane change\"]:\n",
    "        par_lc.append(parm_lc(activity))"
   ]
  },
  {
   "cell_type": "code",
   "execution_count": null,
   "metadata": {},
   "outputs": [],
   "source": [
    "par_initx = np.zeros(nscenarios)\n",
    "par_egov = np.zeros(nscenarios)\n",
    "par_tarv = np.zeros(nscenarios)\n",
    "for i in range(nscenarios):\n",
    "    scenario = cutins.get_ordered_item(\"scenario\", i)\n",
    "    for actor in scenario.actors:\n",
    "        if actor.name == \"ego vehicle\":\n",
    "            break\n",
    "    par_egov[i] = scenario.get_state(actor, StateVariable.SPEED, scenario.time[\"start\"])\n",
    "    \n",
    "    for actor in scenario.actors:\n",
    "        if actor.name == \"target vehicle\":\n",
    "            break\n",
    "    par_tarv[i], par_initx[i] = scenario.get_state(actor, StateVariable.LON_TARGET, \n",
    "                                                   scenario.time[\"start\"])"
   ]
  },
  {
   "cell_type": "code",
   "execution_count": null,
   "metadata": {},
   "outputs": [],
   "source": [
    "class Approach1:\n",
    "    def __init__(self):\n",
    "        # Create KDEs of initial parameters.\n",
    "        self.kde_egov = KDE(par_egov)\n",
    "        self.kde_initx = KDE(par_initx)\n",
    "        \n",
    "        # Create KDE of individual lane changes parameters.\n",
    "        self.kde_lc_ystart = KDE(np.array(par_lc)[:, 0])\n",
    "        self.kde_lc_yend = KDE(np.array(par_lc)[:, 1])\n",
    "        self.kde_lc_dt = KDE(np.array(par_lc)[:, 2])\n",
    "        \n",
    "        # Create KDE of each of the longitudinal activities.\n",
    "        self.kde_a = KDE(np.array(par_acc))\n",
    "        self.kde_c = KDE(np.array(par_cru))\n",
    "        self.kde_d = KDE(np.array(par_dec))\n",
    "        \n",
    "        # Compute the bandwidths\n",
    "        for kde in (self.kde_egov, self.kde_initx, self.kde_lc_ystart, self.kde_lc_yend,\n",
    "                    self.kde_lc_dt, self.kde_a, self.kde_c, self.kde_d):\n",
    "            kde.compute_bandwidth()\n",
    "    \n",
    "    def generate(self, items):\n",
    "        inits = [self.kde_egov.sample()[0][0], self.kde_initx.sample()[0][0],\n",
    "                 np.random.rand()]\n",
    "        lc = [self.kde_lc_ystart.sample()[0][0], self.kde_lc_yend.sample()[0][0], \n",
    "              self.kde_lc_dt.sample()[0][0]]\n",
    "        lon = []\n",
    "        for item in items[1:]:\n",
    "            if item[0] == \"a\":\n",
    "                lon.append(self.kde_a.sample()[0])\n",
    "            elif item[0] == \"c\":\n",
    "                lon.append(self.kde_c.sample()[0])\n",
    "                lon[-1][1] = np.exp(lon[-1][1])\n",
    "            else:\n",
    "                lon.append(self.kde_d.sample()[0])\n",
    "        return (inits, lc, lon)\n",
    "A1 = Approach1()"
   ]
  },
  {
   "cell_type": "code",
   "execution_count": null,
   "metadata": {},
   "outputs": [],
   "source": [
    "np.random.seed(4)\n",
    "sequence = generate_sequence(transition)\n",
    "parameters = A1.generate(sequence)\n",
    "while not valid_cutin(sequence, parameters, verbose=True):\n",
    "    parameters = A1.generate(sequence)\n",
    "print(sequence)\n",
    "print(parameters)\n",
    "valid_cutin(sequence, parameters)"
   ]
  },
  {
   "cell_type": "code",
   "execution_count": null,
   "metadata": {},
   "outputs": [],
   "source": [
    "def valid_cutin(sequence, parameters, verbose=False):\n",
    "    # Ego speed should be positive.\n",
    "    if parameters[0][0] < 0:\n",
    "        if verbose:\n",
    "            print(\"Negative ego speed\")\n",
    "        return False\n",
    "    \n",
    "    # Start y should be at least 2 m away from ego lane. End should be less than 1.5 m.\n",
    "    if np.abs(parameters[1][0]) < 2 or np.abs(parameters[1][1]) > 1.5:\n",
    "        if verbose:\n",
    "            print(\"Wrong lane change parameters\")\n",
    "        return False\n",
    "    \n",
    "    durations = np.zeros(len(sequence) - 1)\n",
    "    for i, (item, par) in enumerate(zip(sequence[1:], parameters[2])):\n",
    "        # Each longitudinal activity should be longer than 0. \n",
    "        # For acc/dec, it means than amean is pos/neg.\n",
    "        if (item[0] == \"a\" and par[1] <= 0) or (item[0] == \"d\" and par[1] >= 0):\n",
    "            if verbose:\n",
    "                print(\"Wrong acceleration/deceleration\")\n",
    "            return False\n",
    "        if item[0] == \"c\" and par[1] <= 0:\n",
    "            if verbose:\n",
    "                print(\"Wrong cruising\", sequence, parameters)\n",
    "            return False\n",
    "        \n",
    "        # With acceleration/deceleration, there should be a speed increase/decrease.\n",
    "        if (item[0] == \"a\" and par[2] <= 0) or (item[0] == \"d\" and par[2] >= 0):\n",
    "            return False\n",
    "        \n",
    "        if item[0] in [\"a\", \"d\"]:\n",
    "            durations[i] = par[2] / par[1]\n",
    "        else:\n",
    "            durations[i] = par[1]\n",
    "        \n",
    "    # Last lon activity should start before end lane change and end after it.\n",
    "    total_duration = -durations[0] * parameters[0][2]\n",
    "    total_duration += np.sum(durations[:-2])\n",
    "    if total_duration > parameters[1][2]:\n",
    "        if verbose:\n",
    "            print(\"Longitudinal activities too long\")\n",
    "        return False\n",
    "    if total_duration + durations[-1] < parameters[1][2]:\n",
    "        if verbose:\n",
    "            print(\"Longitudinal activities too short\")\n",
    "        return False\n",
    "    \n",
    "    return True\n",
    "valid_cutin(sequence, parameters)"
   ]
  },
  {
   "cell_type": "code",
   "execution_count": null,
   "metadata": {},
   "outputs": [],
   "source": [
    "plt.hist(np.log(np.array(par_cru)[:, 1]))"
   ]
  },
  {
   "cell_type": "code",
   "execution_count": null,
   "metadata": {},
   "outputs": [],
   "source": []
  },
  {
   "cell_type": "code",
   "execution_count": null,
   "metadata": {},
   "outputs": [],
   "source": []
  },
  {
   "cell_type": "code",
   "execution_count": null,
   "metadata": {},
   "outputs": [],
   "source": []
  },
  {
   "cell_type": "code",
   "execution_count": null,
   "metadata": {},
   "outputs": [],
   "source": []
  },
  {
   "cell_type": "code",
   "execution_count": null,
   "metadata": {},
   "outputs": [],
   "source": []
  },
  {
   "cell_type": "code",
   "execution_count": null,
   "metadata": {},
   "outputs": [],
   "source": []
  },
  {
   "cell_type": "code",
   "execution_count": null,
   "metadata": {},
   "outputs": [],
   "source": []
  },
  {
   "cell_type": "code",
   "execution_count": null,
   "metadata": {},
   "outputs": [],
   "source": []
  },
  {
   "cell_type": "code",
   "execution_count": null,
   "metadata": {},
   "outputs": [],
   "source": []
  },
  {
   "cell_type": "code",
   "execution_count": null,
   "metadata": {},
   "outputs": [],
   "source": []
  },
  {
   "cell_type": "code",
   "execution_count": null,
   "metadata": {},
   "outputs": [],
   "source": []
  },
  {
   "cell_type": "code",
   "execution_count": null,
   "metadata": {},
   "outputs": [],
   "source": []
  },
  {
   "cell_type": "code",
   "execution_count": null,
   "metadata": {},
   "outputs": [],
   "source": []
  },
  {
   "cell_type": "code",
   "execution_count": null,
   "metadata": {},
   "outputs": [],
   "source": []
  },
  {
   "cell_type": "code",
   "execution_count": null,
   "metadata": {},
   "outputs": [],
   "source": []
  },
  {
   "cell_type": "code",
   "execution_count": null,
   "metadata": {},
   "outputs": [],
   "source": []
  }
 ],
 "metadata": {
  "kernelspec": {
   "display_name": "Python 3",
   "language": "python",
   "name": "python3"
  },
  "language_info": {
   "codemirror_mode": {
    "name": "ipython",
    "version": 3
   },
   "file_extension": ".py",
   "mimetype": "text/x-python",
   "name": "python",
   "nbconvert_exporter": "python",
   "pygments_lexer": "ipython3",
   "version": "3.7.3"
  }
 },
 "nbformat": 4,
 "nbformat_minor": 2
}
