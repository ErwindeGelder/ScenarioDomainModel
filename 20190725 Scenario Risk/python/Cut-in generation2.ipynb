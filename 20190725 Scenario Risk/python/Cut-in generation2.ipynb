{
 "cells": [
  {
   "cell_type": "code",
   "execution_count": null,
   "metadata": {},
   "outputs": [],
   "source": [
    "import os\n",
    "import matplotlib.pyplot as plt\n",
    "import numpy as np\n",
    "from databaseemulator import DataBaseEmulator\n",
    "from domain_model import StateVariable, Activity, ActivityCategory, Scenario, Actor, \\\n",
    "    ActorCategory, Sinusoidal, EgoVehicle, State, Tag, DetectedActivity, Linear\n",
    "from stats import KDE\n",
    "from cutin_detection import TARGET, STAT, EGO_CATEGORY\n",
    "%matplotlib inline"
   ]
  },
  {
   "cell_type": "code",
   "execution_count": null,
   "metadata": {},
   "outputs": [],
   "source": [
    "# Load the database with the cut-in scenarios.\n",
    "filename = os.path.join(\"data\", \"5_scenarios\", \"cut_in_scenarios.json\")\n",
    "cutins = DataBaseEmulator(filename)\n",
    "\n",
    "# Delete a few items for which we know they are not really cut ins.\n",
    "for i in [39, 130, 258, 288]:\n",
    "    cutins.delete_item(\"scenario\", i)\n",
    "    \n",
    "nscenarios = len(cutins.collections[\"scenario\"])\n",
    "print(\"Number of scenarios: {:d}\".format(nscenarios))"
   ]
  },
  {
   "cell_type": "markdown",
   "metadata": {},
   "source": [
    "# Step 1: Item generation\n",
    "\n",
    "An item denotes a combination of tags. In this case study, we consider tags for the longitudinal activities and tags for the lateral activities. For the longitudinal activities, we have:\n",
    "\n",
    "- A: Accelerating\n",
    "- C: Cruising\n",
    "- D: Decelerating\n",
    "\n",
    "For the lateral activities, we have:\n",
    "\n",
    "- F: Lane following\n",
    "- L: Lane changing\n",
    "\n",
    "When combining these different tags, there are six possibilities: AF, CF, DF, AL, CL, and DL.\n",
    "\n",
    "Our goal is to determine the so-called transition probabilities: what is the probability to go from one item to another item. To calculate this probability, use is made of the Markov assumption. This means that it is assumed that the probability of going from item $X_i$ to item $X_{i+1}$ only depends on item $X_i$ and not on any previous items."
   ]
  },
  {
   "cell_type": "code",
   "execution_count": null,
   "metadata": {},
   "outputs": [],
   "source": [
    "# Go through all cut-ins and store the sequence of longitudinal activities.\n",
    "activities = []\n",
    "for i in range(nscenarios):\n",
    "    # Get the acts in chronological order.\n",
    "    scenario = cutins.get_ordered_item(\"scenario\", i)\n",
    "    acts = [scenario.acts[i] for i in np.argsort([act[2] for act in scenario.acts])]\n",
    "    \n",
    "    # List the longitudinal activities of the target vehicle.\n",
    "    curr_activities = []\n",
    "    for act in acts:\n",
    "        if act[0].name == \"target vehicle\" and \\\n",
    "                act[1].activity_category.state == StateVariable.LON_TARGET:\n",
    "            curr_activities.append(act[1].name[0])\n",
    "    activities.append(curr_activities)"
   ]
  },
  {
   "cell_type": "code",
   "execution_count": null,
   "metadata": {},
   "outputs": [],
   "source": [
    "# Store in a dictionary the possibilities of 'item' sequences.\n",
    "# 'af' means \"accelerating and lane following\"\n",
    "# 'dl' means \"decelerating and lane changing\"\n",
    "# 'cf', 'df', 'al', and 'cl' are similarly defined.\n",
    "def get_transition(activities, main_act, other_acts):\n",
    "    counter = np.zeros(1+len(other_acts), dtype=np.int)\n",
    "    for activity in activities:\n",
    "        try:\n",
    "            i = activity.index(main_act)\n",
    "        except ValueError:\n",
    "            pass\n",
    "        else:\n",
    "            if i == len(activity)-1:\n",
    "                counter[len(other_acts)] += 1\n",
    "                continue\n",
    "            for j, other_act in enumerate(other_acts):\n",
    "                if activity[i+1] == other_act:\n",
    "                    counter[j] += 1\n",
    "    counter = counter / np.sum(counter)\n",
    "    probs = dict()\n",
    "    probs['end'] = counter[-1]\n",
    "    for i, other_act in enumerate(other_acts):\n",
    "        probs[other_act+'l'] = counter[i]\n",
    "    return probs\n",
    "transition = dict(af=dict(al=1),\n",
    "                  cf=dict(cl=1),\n",
    "                  df=dict(dl=1),\n",
    "                  al=get_transition(activities, 'a', ['c', 'd']),\n",
    "                  cl=get_transition(activities, 'c', ['a', 'd']),\n",
    "                  dl=get_transition(activities, 'd', ['a', 'c']))"
   ]
  },
  {
   "cell_type": "code",
   "execution_count": null,
   "metadata": {},
   "outputs": [],
   "source": [
    "acts, counts = np.unique([activity[0] for activity in activities], return_counts=True)\n",
    "transition['start'] = dict()\n",
    "for act, count in zip(acts, counts/np.sum(counts)):\n",
    "    transition['start'][act+'f'] = count\n",
    "transition"
   ]
  },
  {
   "cell_type": "markdown",
   "metadata": {},
   "source": [
    "The dictionary above shows the transition probabilities. We always start at \"start\". From the \"start\", we go through either of the items AF, CF, or DF. Once we are at item - let's say - AF, we can look what the probabilities are for the next possible items. In the case of AF, we go with probability 1 to AL. This is by the definition of the scenario. From item AL, we can either go to item CL or DL or we can end the scenario.\n",
    "\n",
    "The next code is used to randomly generate sequence of items based on the above defined transition probabilities. It also calculates the probability of a given sequence. "
   ]
  },
  {
   "cell_type": "code",
   "execution_count": null,
   "metadata": {},
   "outputs": [],
   "source": [
    "def next_item(probs):\n",
    "    \"\"\" It is important that the probabilities in probs add up to 1. \"\"\"\n",
    "    rand = np.random.rand()\n",
    "    for key, value in probs.items():\n",
    "        if rand <= value:\n",
    "            return key\n",
    "        rand -= value\n",
    "\n",
    "def generate_sequence(transitions, seed=None):\n",
    "    if seed is not None:\n",
    "        np.random.seed(0)\n",
    "    sequence = ['start']\n",
    "    while not sequence[-1] == 'end':\n",
    "        sequence.append(next_item(transitions[sequence[-1]]))\n",
    "    return sequence[1:-1]\n",
    "\n",
    "def probability_sequence(transitions, sequence):\n",
    "    sequence = ['start'] + sequence + ['end']\n",
    "    prob = 1\n",
    "    for act1, act2 in zip(sequence[:-1], sequence[1:]):\n",
    "        prob *= transitions[act1][act2]\n",
    "    return prob"
   ]
  },
  {
   "cell_type": "code",
   "execution_count": null,
   "metadata": {},
   "outputs": [],
   "source": [
    "np.random.seed(0)\n",
    "n = 10000\n",
    "seqs = [generate_sequence(transition) for _ in range(n)]"
   ]
  },
  {
   "cell_type": "code",
   "execution_count": null,
   "metadata": {
    "scrolled": true
   },
   "outputs": [],
   "source": [
    "sequences = [['cf', 'cl'],\n",
    "             ['af', 'al'],\n",
    "             ['df', 'dl'],\n",
    "             ['cf', 'cl', 'al'],\n",
    "             ['cf', 'cl', 'dl'],\n",
    "             ['af', 'al', 'cl'],\n",
    "             ['af', 'al', 'dl'],\n",
    "             ['df', 'dl', 'al'],\n",
    "             ['df', 'dl', 'cl']] #,\n",
    "x=[             ['cf', 'cl', 'al', 'cl'],\n",
    "             ['cf', 'cl', 'al', 'dl'],\n",
    "             ['cf', 'cl', 'dl', 'cl'],\n",
    "             ['cf', 'cl', 'dl', 'al'],\n",
    "             ['af', 'al', 'cl', 'al'],\n",
    "             ['af', 'al', 'cl', 'dl'],\n",
    "             ['af', 'al', 'dl', 'al'],\n",
    "             ['af', 'al', 'dl', 'cl'],\n",
    "             ['df', 'dl', 'al', 'cl'],\n",
    "             ['df', 'dl', 'al', 'dl'],\n",
    "             ['df', 'dl', 'cl', 'al'],\n",
    "             ['df', 'dl', 'cl', 'dl']]\n",
    "probs = [probability_sequence(transition, seq) for seq in sequences]\n",
    "# .count() is very slow like this, but fine for now...\n",
    "mc_probs = [seqs.count(seq)/n for seq in sequences]\n",
    "real_seqs = [[y[0]+'f']+[x+'l' for x in y] for y in activities]\n",
    "real_probs = [real_seqs.count(seq)/len(real_seqs) for seq in sequences]\n",
    "for seq, prob, mc_prob, real_prob in zip(sequences, probs, mc_probs, real_probs):\n",
    "    print(\"{:13s} {:.4f} {:.4f} {:.4f}\".format(' '.join(seq), prob, mc_prob, real_prob))\n",
    "print()\n",
    "print(\"{:13s} {:.4f} {:.4f} {:.4f}\".format(\"Total\", np.sum(probs), np.sum(mc_probs), \n",
    "                                           np.sum(real_probs)))"
   ]
  },
  {
   "cell_type": "markdown",
   "metadata": {},
   "source": [
    "Each columns has the following meaning:\n",
    "\n",
    "1. The corresponding sequence of items.\n",
    "2. The probability of this sequence based on the transition probabilities and the Markov assumption.\n",
    "3. The number this sequence is generated divided over the total number of generated sequences.\n",
    "4. The probability of this sequence based on the real data.\n",
    "\n",
    "The similarity between the second and third column demonstrate that sequences are generated according to the calculated probability. Still, these probabilities are significantly different from the real probabilities (fourth column). The inaccuracy is introduced by the Markov assumption. "
   ]
  },
  {
   "cell_type": "markdown",
   "metadata": {},
   "source": [
    "# Step 2: Parameter generation\n",
    "\n",
    "For each of the activities accelerating, cruising, decelerating, and lane changing, parameters are determined. Furthermore, some initial parameters are determined. For each of these parameters, a Kernel Density Estimation (KDE) is used to estimate the probability density. These KDEs are used to generate the parameters.\n",
    "\n",
    "The following parameters are considered:\n",
    "\n",
    "- Accelerating: Initial speed, mean acceleration, speed difference\n",
    "- Cruising: Initial speed, log(duration), speed difference\n",
    "- Decelerating: Initial speed, mean acceleration, speed difference\n",
    "- Changing lane: Initial lateral position, Final lateral position, and duration\n",
    "\n",
    "Note: For cruising, the log of the duration is used, because then the values are better behaved for constructing the KDE."
   ]
  },
  {
   "cell_type": "code",
   "execution_count": null,
   "metadata": {},
   "outputs": [],
   "source": [
    "# Functions for obtaining the important parameters.\n",
    "def parm_acc_dec(activity: Activity):\n",
    "    \"\"\" Get initial speed, mean acceleration, and speed difference. \"\"\"\n",
    "    vstart, vend = activity.get_state(time=[activity.tstart, activity.tend])[0]\n",
    "    amean = (vend - vstart) / (activity.tend - activity.tstart)\n",
    "    return vstart, amean, vend-vstart\n",
    "\n",
    "def parm_cruise(activity: Activity):\n",
    "    \"\"\" Get initial speed, log(duration), and speed difference. \"\"\"\n",
    "    vstart, vend = activity.get_state(time=[activity.tstart, activity.tend])[0]\n",
    "    return vstart, np.log(activity.tend-activity.tstart), vend-vstart\n",
    "\n",
    "def parm_lc(activity: Activity):\n",
    "    \"\"\" Get initial position, end position, and duration. \"\"\"\n",
    "    ystart, yend = activity.get_state(time=[activity.tstart, activity.tend])\n",
    "    return ystart, yend, activity.tend-activity.tstart"
   ]
  },
  {
   "cell_type": "code",
   "execution_count": null,
   "metadata": {},
   "outputs": [],
   "source": [
    "# Get the parameters of the longitudinal activities.\n",
    "par_acc = []\n",
    "par_cru = []\n",
    "par_dec = []\n",
    "par_lc = []\n",
    "for i in range(len(cutins.collections[\"activity\"])):\n",
    "    activity = cutins.get_item(\"activity\", i)\n",
    "    if activity.name == \"acceleration target\":\n",
    "        par_acc.append(parm_acc_dec(activity))\n",
    "    elif activity.name == \"deceleration target\":\n",
    "        par_dec.append(parm_acc_dec(activity))\n",
    "    elif activity.name == \"cruising target\":\n",
    "        par_cru.append(parm_cruise(activity))\n",
    "    elif activity.name in [\"right lane change\", \"left lane change\"]:\n",
    "        par_lc.append(parm_lc(activity))"
   ]
  },
  {
   "cell_type": "code",
   "execution_count": null,
   "metadata": {},
   "outputs": [],
   "source": [
    "par_initx = np.zeros(nscenarios)\n",
    "par_egov = np.zeros(nscenarios)\n",
    "par_tarv = np.zeros(nscenarios)\n",
    "for i in range(nscenarios):\n",
    "    scenario = cutins.get_ordered_item(\"scenario\", i)\n",
    "    for actor in scenario.actors:\n",
    "        if actor.name == \"ego vehicle\":\n",
    "            break\n",
    "    par_egov[i] = scenario.get_state(actor, StateVariable.SPEED, scenario.time[\"start\"])\n",
    "    \n",
    "    for actor in scenario.actors:\n",
    "        if actor.name == \"target vehicle\":\n",
    "            break\n",
    "    par_tarv[i], par_initx[i] = scenario.get_state(actor, StateVariable.LON_TARGET, \n",
    "                                                   scenario.time[\"start\"])"
   ]
  },
  {
   "cell_type": "markdown",
   "metadata": {},
   "source": [
    "The following code is used to generate a scenario. It is a rather naive approach in the sense that it is assumed that the parameters of each of the activities are independent of all other parameters."
   ]
  },
  {
   "cell_type": "code",
   "execution_count": null,
   "metadata": {},
   "outputs": [],
   "source": [
    "class Approach1:\n",
    "    def __init__(self):\n",
    "        # Create KDEs of initial parameters.\n",
    "        self.kde_egov = KDE(par_egov)\n",
    "        self.kde_initx = KDE(par_initx)\n",
    "        \n",
    "        # Create KDE of individual lane changes parameters.\n",
    "        self.kde_lc_ystart = KDE(np.array(par_lc)[:, 0])\n",
    "        self.kde_lc_yend = KDE(np.array(par_lc)[:, 1])\n",
    "        self.kde_lc_dt = KDE(np.array(par_lc)[:, 2])\n",
    "        \n",
    "        # Create KDE of each of the longitudinal activities.\n",
    "        self.kde_a = KDE(np.array(par_acc))\n",
    "        self.kde_c = KDE(np.array(par_cru))\n",
    "        self.kde_d = KDE(np.array(par_dec))\n",
    "        \n",
    "        # Compute the bandwidths\n",
    "        for kde in (self.kde_egov, self.kde_initx, self.kde_lc_ystart, self.kde_lc_yend,\n",
    "                    self.kde_lc_dt, self.kde_a, self.kde_c, self.kde_d):\n",
    "            kde.compute_bandwidth()\n",
    "    \n",
    "    def generate(self, items):\n",
    "        inits = [self.kde_egov.sample()[0][0], self.kde_initx.sample()[0][0],\n",
    "                 np.random.rand()]\n",
    "        lc = [self.kde_lc_ystart.sample()[0][0], self.kde_lc_yend.sample()[0][0], \n",
    "              self.kde_lc_dt.sample()[0][0]]\n",
    "        lon = []\n",
    "        for item in items[1:]:\n",
    "            if item[0] == \"a\":\n",
    "                lon.append(self.kde_a.sample()[0])\n",
    "            elif item[0] == \"c\":\n",
    "                lon.append(self.kde_c.sample()[0])\n",
    "                lon[-1][1] = np.exp(lon[-1][1])\n",
    "            else:\n",
    "                lon.append(self.kde_d.sample()[0])\n",
    "        return (inits, lc, lon)\n",
    "A1 = Approach1()"
   ]
  },
  {
   "cell_type": "markdown",
   "metadata": {},
   "source": [
    "It might be possible that the generated parameters are invalid for the given sequence of items. For example, consider the case that we have the items AF and AL. In that case, it means that the lane change activity ends *before* the acceleration activity ends. So if the parameters are such that the lane change activity ends *after* the acceleration activity ends, the parameters are invalid. \n",
    "\n",
    "The following checks are done:\n",
    "\n",
    "- The initial speed of the ego vehicle should be strictly positive.\n",
    "- The initial lateral position of the target vehicle should be 2 meters away from the center of the ego lane.\n",
    "- Each activity should be strictly longer than 0 seconds.\n",
    "- The mean acceleration and the speed difference for an acceleration activity should be strictly positive.\n",
    "- The mean acceleration and the speed difference for a deceleration activity should be strictly negative.\n",
    "- The last longitudinal activity should start before the end of the lane change.\n",
    "- The last longitudinal activity should end after the end of the lane change."
   ]
  },
  {
   "cell_type": "code",
   "execution_count": null,
   "metadata": {},
   "outputs": [],
   "source": [
    "def valid_cutin(sequence, parameters, verbose=False):\n",
    "    # Ego speed should be positive.\n",
    "    if parameters[0][0] < 0:\n",
    "        if verbose:\n",
    "            print(\"Negative ego speed\")\n",
    "        return False\n",
    "    \n",
    "    # Start y should be at least 2 m away from ego lane. End should be less than 1.5 m.\n",
    "    if np.abs(parameters[1][0]) < 2 or np.abs(parameters[1][1]) > 1.5:\n",
    "        if verbose:\n",
    "            print(\"Wrong lane change parameters\")\n",
    "        return False\n",
    "    \n",
    "    durations = np.zeros(len(sequence) - 1)\n",
    "    for i, (item, par) in enumerate(zip(sequence[1:], parameters[2])):\n",
    "        # Each longitudinal activity should be longer than 0. \n",
    "        # For acc/dec, it means than amean is pos/neg.\n",
    "        if (item[0] == \"a\" and par[1] <= 0) or (item[0] == \"d\" and par[1] >= 0):\n",
    "            if verbose:\n",
    "                print(\"Wrong acceleration/deceleration\")\n",
    "            return False\n",
    "        if item[0] == \"c\" and par[1] <= 0:\n",
    "            if verbose:\n",
    "                print(\"Wrong cruising\", sequence, parameters)\n",
    "            return False\n",
    "        \n",
    "        # With acceleration/deceleration, there should be a speed increase/decrease.\n",
    "        if (item[0] == \"a\" and par[2] <= 0) or (item[0] == \"d\" and par[2] >= 0):\n",
    "            return False\n",
    "        \n",
    "        if item[0] in [\"a\", \"d\"]:\n",
    "            durations[i] = par[2] / par[1]\n",
    "        else:\n",
    "            durations[i] = par[1]\n",
    "        \n",
    "    # Last lon activity should start before end lane change and end after it.\n",
    "    total_duration = -durations[0] * parameters[0][2]\n",
    "    total_duration += np.sum(durations[:-2])\n",
    "    if total_duration > parameters[1][2]:\n",
    "        if verbose:\n",
    "            print(\"Longitudinal activities too long\")\n",
    "        return False\n",
    "    if total_duration + durations[-1] < parameters[1][2]:\n",
    "        if verbose:\n",
    "            print(\"Longitudinal activities too short\")\n",
    "        return False\n",
    "    \n",
    "    return True"
   ]
  },
  {
   "cell_type": "markdown",
   "metadata": {},
   "source": [
    "The next code is an example of a generated \"scenario\", where the scenario is now presented by a sequence of items and the parameters."
   ]
  },
  {
   "cell_type": "code",
   "execution_count": null,
   "metadata": {},
   "outputs": [],
   "source": [
    "np.random.seed(4)\n",
    "sequence = generate_sequence(transition)\n",
    "parameters = A1.generate(sequence)\n",
    "while not valid_cutin(sequence, parameters, verbose=True):\n",
    "    parameters = A1.generate(sequence)\n",
    "print(sequence)\n",
    "print(parameters)\n",
    "valid_cutin(sequence, parameters)"
   ]
  },
  {
   "cell_type": "markdown",
   "metadata": {},
   "source": [
    "# Step 3: Create Scenario object\n",
    "\n",
    "Now that we have the code to generate a sequence of items and the corresponding parameters, we can also represent this sequence of items and list of parameters as a Scenario object. The following code converts the sequence of items and the list of parameters to a Scenario object. The following assumptions are used:\n",
    "\n",
    "- For all activities other than cruising, a sinusoidal model is used.\n",
    "- For cruising, a linear model is used.\n",
    "- The scenario happens at a straight road.\n",
    "- No other actors are involved than the ego vehicle and the target vehicle."
   ]
  },
  {
   "cell_type": "code",
   "execution_count": null,
   "metadata": {},
   "outputs": [],
   "source": [
    "LC_TARGET = ActivityCategory(Sinusoidal(), StateVariable.LAT_TARGET, \n",
    "                             name=\"lane change target\",\n",
    "                             tags=[Tag.VehicleLateralActivity_ChangingLane])\n",
    "DEC_TARGET = ActivityCategory(Sinusoidal(), StateVariable.SPEED, name=\"deceleration target\",\n",
    "                              tags=[Tag.VehicleLongitudinalActivity_DrivingForward_Braking])\n",
    "ACC_TARGET = ActivityCategory(Sinusoidal(), StateVariable.SPEED, name=\"acceleration target\",\n",
    "                              tags=[Tag.VehicleLongitudinalActivity_DrivingForward_Accelerating])\n",
    "CRU_TARGET = ActivityCategory(Linear(), StateVariable.SPEED, name=\"cruising target\",\n",
    "                              tags=[Tag.VehicleLongitudinalActivity_DrivingForward_Cruising])\n",
    "\n",
    "def create_scenario(sequence, parameters):\n",
    "    # Create actors.\n",
    "    ego = EgoVehicle(EGO_CATEGORY, \n",
    "                     initial_states=[State(StateVariable.SPEED, parameters[0][0]),\n",
    "                                     State(StateVariable.LONGITUDINAL_POSITION, 0)],\n",
    "                     name=\"ego vehicle\")\n",
    "    target = Actor(TARGET,\n",
    "                   initial_states=[State(StateVariable.LONGITUDINAL_POSITION, parameters[0][1])],\n",
    "                   name=\"target vehicle\")\n",
    "    \n",
    "    # Create lane change activity of the target.\n",
    "    lane_change = DetectedActivity(LC_TARGET, 0, parameters[1][2],\n",
    "                                   parameters=dict(xstart=parameters[1][0],\n",
    "                                                   xend=parameters[1][1]))\n",
    "    \n",
    "    # Create longitudinal activities of the target.\n",
    "    lon_activities = []\n",
    "    tstart = 0\n",
    "    for item, pars in zip(sequence[1:], parameters[2]):\n",
    "        if len(lon_activities) == 0:\n",
    "            # Determine the start time for this one.\n",
    "            if item[0] == \"c\":\n",
    "                tstart = -parameters[0][2] * pars[1]\n",
    "            else:\n",
    "                tstart = -parameters[0][2] * pars[2] / pars[1]\n",
    "        if item[0] == \"a\":\n",
    "            lon_activities.append(DetectedActivity(ACC_TARGET, tstart, pars[2]/pars[1],\n",
    "                                                   parameters=dict(xstart=pars[0],\n",
    "                                                                   xend=pars[0]+pars[2])))\n",
    "            tstart += pars[2] / pars[1]\n",
    "        elif item[0] == \"d\":\n",
    "            lon_activities.append(DetectedActivity(DEC_TARGET, tstart, pars[2]/pars[1],\n",
    "                                                   parameters=dict(xstart=pars[0],\n",
    "                                                                   xend=pars[0]+pars[2])))\n",
    "            tstart += pars[2] / pars[1]\n",
    "        else:\n",
    "            lon_activities.append(DetectedActivity(CRU_TARGET, tstart, pars[1],\n",
    "                                                   parameters=dict(xstart=pars[0],\n",
    "                                                                   xend=pars[0]+pars[2])))\n",
    "            tstart += pars[1]\n",
    "        lon_activities[-1].parameters.update(dict(tstart=lon_activities[-1].tstart,\n",
    "                                                  tend=tstart))\n",
    "            \n",
    "    # Create the scenario\n",
    "    scenario = Scenario(lane_change.tstart, lane_change.tend, STAT)\n",
    "    scenario.set_activities([lane_change]+lon_activities)\n",
    "    scenario.set_actors([ego, target])\n",
    "    scenario.set_acts([(target, activity, activity.tstart) \n",
    "                       for activity in [lane_change]+lon_activities])\n",
    "    return scenario            \n",
    "\n",
    "s2 = create_scenario(sequence, parameters)\n",
    "s1 = cutins.get_item(\"scenario\", 0)"
   ]
  },
  {
   "cell_type": "markdown",
   "metadata": {},
   "source": [
    "# Step 4: Compare two scenarios\n",
    "\n",
    "Now that we are able to generate a Scenario object, we are able to compare the generated scenario with an original scenario. To do this, we collect \"features\" of the scenarios. This is a very much a manual process. As an alternative, a more generalizable metric could be used to define the \"difference\" between two scenarios, but an earlier study showed that it is better to have a more \"manual\" approach, such that \"the expert\" can choose what is an important difference and what is not.\n",
    "\n",
    "In the case of the cut-in scenario, the following \"features\" are used:\n",
    "\n",
    "1. The initial longitudinal position of the target vehicle with respect to the ego vehicle.\n",
    "2. The total duration of the scenario.\n",
    "3. The lateral position of the target vehicle with respect to the ego vehicle's lane center.\n",
    "4. The speed of the target vehicle.\n",
    "5. The initial speed of the ego vehicle.\n",
    "\n",
    "Note that the first, second, and fifth features are scalars and the third and fourth features are vectors."
   ]
  },
  {
   "cell_type": "code",
   "execution_count": null,
   "metadata": {},
   "outputs": [],
   "source": [
    "# Define the different 'measures'.\n",
    "# Measure 1: Initial longitudinal position of target vehicle.\n",
    "def get_initial_lon_position(scenario: Scenario):\n",
    "    actor = scenario.get_actor_by_name(\"target vehicle\")\n",
    "    if actor.initial_states:\n",
    "        return actor.initial_states[0].value[0]\n",
    "    return scenario.get_state(actor, StateVariable.LON_TARGET, time=scenario.time[\"start\"])[1]\n",
    "\n",
    "# Meaure 2: Total duration of the scenario.\n",
    "def get_duration(scenario: Scenario):\n",
    "    return scenario.time[\"end\"] - scenario.time[\"start\"]\n",
    "\n",
    "# Measure 3: Get vector of y positions.\n",
    "def get_lateral_position(scenario: Scenario):\n",
    "    for activity in scenario.activities:\n",
    "        if activity.activity_category.state == StateVariable.LAT_TARGET:\n",
    "            return activity.get_state(npoints=20)\n",
    "\n",
    "# Measure 4: Get vector of speeds of target vehicle.\n",
    "def get_speed_target(scenario: Scenario):\n",
    "    actor = scenario.get_actor_by_name(\"target vehicle\")\n",
    "    speed = scenario.get_state(actor, StateVariable.SPEED,\n",
    "                               np.linspace(scenario.time[\"start\"], scenario.time[\"end\"], 50))\n",
    "    if speed is not None:\n",
    "        return speed\n",
    "    return scenario.get_state(actor, StateVariable.LON_TARGET,\n",
    "                              np.linspace(scenario.time[\"start\"], scenario.time[\"end\"], 50))[:, 1]\n",
    "\n",
    "# Measure 5: Get initial speed of ego vehicle.\n",
    "def get_initial_speed_ego(scenario: Scenario):\n",
    "    actor = scenario.get_actor_by_name(\"ego vehicle\")\n",
    "    if actor.initial_states:\n",
    "        return actor.initial_states[0].value[0]\n",
    "    return scenario.get_state(actor, StateVariable.SPEED, scenario.time[\"start\"])"
   ]
  },
  {
   "cell_type": "code",
   "execution_count": null,
   "metadata": {},
   "outputs": [],
   "source": [
    "features = [(get_initial_lon_position(scenario),\n",
    "             get_duration(scenario),\n",
    "             get_lateral_position(scenario),\n",
    "             get_speed_target(scenario),\n",
    "             get_initial_speed_ego(scenario)) for scenario in\n",
    "            [cutins.get_ordered_item(\"scenario\", i) for i in range(nscenarios)]]"
   ]
  },
  {
   "cell_type": "code",
   "execution_count": null,
   "metadata": {},
   "outputs": [],
   "source": [
    "i, j, k = 0, 0, 1\n",
    "difference = np.zeros((nscenarios*(nscenarios-1)//2, 5))\n",
    "for i in range(nscenarios*(nscenarios-1)//2):\n",
    "    for m in range(5):\n",
    "        difference[i, m] = np.sqrt(np.mean((features[j][m] - features[k][m])**2))\n",
    "    k += 1\n",
    "    if k == nscenarios:\n",
    "        j += 1\n",
    "        k = j + 1"
   ]
  },
  {
   "cell_type": "code",
   "execution_count": null,
   "metadata": {},
   "outputs": [],
   "source": [
    "np.std(difference, axis=0)"
   ]
  },
  {
   "cell_type": "code",
   "execution_count": null,
   "metadata": {},
   "outputs": [],
   "source": [
    "features[7]"
   ]
  },
  {
   "cell_type": "code",
   "execution_count": null,
   "metadata": {},
   "outputs": [],
   "source": [
    "s = cutins.get_ordered_item(\"scenario\", 7)"
   ]
  },
  {
   "cell_type": "code",
   "execution_count": null,
   "metadata": {},
   "outputs": [],
   "source": [
    "s.get_state(s.get_actor_by_name(\"target vehicle\"), StateVariable.LAT_TARGET,\n",
    "            np.linspace(scenario.time[\"start\"], scenario.time[\"end\"], 50))"
   ]
  },
  {
   "cell_type": "code",
   "execution_count": null,
   "metadata": {
    "scrolled": true
   },
   "outputs": [],
   "source": [
    "s.activities[0].tend"
   ]
  },
  {
   "cell_type": "code",
   "execution_count": null,
   "metadata": {},
   "outputs": [],
   "source": [
    "s.get_actor_by_name(\"target vehicle\").properties"
   ]
  }
 ],
 "metadata": {
  "kernelspec": {
   "display_name": "Python 3",
   "language": "python",
   "name": "python3"
  },
  "language_info": {
   "codemirror_mode": {
    "name": "ipython",
    "version": 3
   },
   "file_extension": ".py",
   "mimetype": "text/x-python",
   "name": "python",
   "nbconvert_exporter": "python",
   "pygments_lexer": "ipython3",
   "version": "3.7.3"
  }
 },
 "nbformat": 4,
 "nbformat_minor": 2
}
