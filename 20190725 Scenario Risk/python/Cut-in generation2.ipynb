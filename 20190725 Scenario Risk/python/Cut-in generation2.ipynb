{
 "cells": [
  {
   "cell_type": "code",
   "execution_count": null,
   "metadata": {},
   "outputs": [],
   "source": [
    "import os\n",
    "import numpy as np\n",
    "from databaseemulator import DataBaseEmulator\n",
    "from domain_model import StateVariable, Activity"
   ]
  },
  {
   "cell_type": "code",
   "execution_count": null,
   "metadata": {},
   "outputs": [],
   "source": [
    "# Load the database with the cut-in scenarios.\n",
    "filename = os.path.join(\"data\", \"5_scenarios\", \"cut_in_scenarios.json\")\n",
    "cutins = DataBaseEmulator(filename)\n",
    "nscenarios = len(cutins.collections[\"scenario\"])\n",
    "print(\"Number of scenarios: {:d}\".format(nscenarios))"
   ]
  },
  {
   "cell_type": "code",
   "execution_count": null,
   "metadata": {},
   "outputs": [],
   "source": [
    "# Go through all cut-ins and store the sequence of longitudinal activities.\n",
    "activities = []\n",
    "for i in range(nscenarios):\n",
    "    # Get the acts in chronological order.\n",
    "    scenario = cutins.get_item(\"scenario\", i)\n",
    "    acts = [scenario.acts[i] for i in np.argsort([act[2] for act in scenario.acts])]\n",
    "    \n",
    "    # List the longitudinal activities of the target vehicle.\n",
    "    curr_activities = []\n",
    "    for act in acts:\n",
    "        if act[0].name == \"target vehicle\" and \\\n",
    "                act[1].activity_category.state == StateVariable.LON_TARGET:\n",
    "            curr_activities.append(act[1].name[0])\n",
    "    activities.append(curr_activities)"
   ]
  },
  {
   "cell_type": "code",
   "execution_count": null,
   "metadata": {},
   "outputs": [],
   "source": [
    "# Store in a dictionary the possibilities of 'item' sequences.\n",
    "# 'af' means \"accelerating and lane following\"\n",
    "# 'dl' means \"decelerating and lane changing\"\n",
    "# 'cf', 'df', 'al', and 'cl' are similarly defined.\n",
    "def get_transition(activities, main_act, other_acts):\n",
    "    counter = np.zeros(1+len(other_acts), dtype=np.int)\n",
    "    for activity in activities:\n",
    "        try:\n",
    "            i = activity.index(main_act)\n",
    "        except ValueError:\n",
    "            pass\n",
    "        else:\n",
    "            if i == len(activity)-1:\n",
    "                counter[len(other_acts)] += 1\n",
    "                continue\n",
    "            for j, other_act in enumerate(other_acts):\n",
    "                if activity[i+1] == other_act:\n",
    "                    counter[j] += 1\n",
    "    counter = counter / np.sum(counter)\n",
    "    probs = dict()\n",
    "    probs['end'] = counter[-1]\n",
    "    for i, other_act in enumerate(other_acts):\n",
    "        probs[other_act+'l'] = counter[i]\n",
    "    return probs\n",
    "transition = dict(af=dict(al=1),\n",
    "                  cf=dict(cl=1),\n",
    "                  df=dict(dl=1),\n",
    "                  al=get_transition(activities, 'a', ['c', 'd']),\n",
    "                  cl=get_transition(activities, 'c', ['a', 'd']),\n",
    "                  dl=get_transition(activities, 'd', ['a', 'c']))"
   ]
  },
  {
   "cell_type": "code",
   "execution_count": null,
   "metadata": {},
   "outputs": [],
   "source": [
    "acts, counts = np.unique([activity[0] for activity in activities], return_counts=True)\n",
    "transition['start'] = dict()\n",
    "for act, count in zip(acts, counts/np.sum(counts)):\n",
    "    transition['start'][act+'f'] = count\n",
    "transition"
   ]
  },
  {
   "cell_type": "code",
   "execution_count": null,
   "metadata": {},
   "outputs": [],
   "source": [
    "def next_item(probs):\n",
    "    \"\"\" It is important that the probabilities in probs add up to 1. \"\"\"\n",
    "    rand = np.random.rand()\n",
    "    for key, value in probs.items():\n",
    "        if rand <= value:\n",
    "            return key\n",
    "        rand -= value\n",
    "\n",
    "def generate_sequence(transitions, seed=None):\n",
    "    if seed is not None:\n",
    "        np.random.seed(0)\n",
    "    sequence = ['start']\n",
    "    while not sequence[-1] == 'end':\n",
    "        sequence.append(next_item(transitions[sequence[-1]]))\n",
    "    return sequence[1:-1]\n",
    "\n",
    "def probability_sequence(transitions, sequence):\n",
    "    sequence = ['start'] + sequence + ['end']\n",
    "    prob = 1\n",
    "    for act1, act2 in zip(sequence[:-1], sequence[1:]):\n",
    "        prob *= transitions[act1][act2]\n",
    "    return prob"
   ]
  },
  {
   "cell_type": "code",
   "execution_count": null,
   "metadata": {},
   "outputs": [],
   "source": [
    "np.random.seed(0)\n",
    "n = 10000\n",
    "seqs = [generate_sequence(transition) for _ in range(n)]"
   ]
  },
  {
   "cell_type": "code",
   "execution_count": null,
   "metadata": {},
   "outputs": [],
   "source": [
    "sequences = [['cf', 'cl'],\n",
    "             ['af', 'al'],\n",
    "             ['df', 'dl'],\n",
    "             ['cf', 'cl', 'al'],\n",
    "             ['cf', 'cl', 'dl'],\n",
    "             ['af', 'al', 'cl'],\n",
    "             ['af', 'al', 'dl'],\n",
    "             ['df', 'dl', 'al'],\n",
    "             ['df', 'dl', 'cl']] #,\n",
    "x=[             ['cf', 'cl', 'al', 'cl'],\n",
    "             ['cf', 'cl', 'al', 'dl'],\n",
    "             ['cf', 'cl', 'dl', 'cl'],\n",
    "             ['cf', 'cl', 'dl', 'al'],\n",
    "             ['af', 'al', 'cl', 'al'],\n",
    "             ['af', 'al', 'cl', 'dl'],\n",
    "             ['af', 'al', 'dl', 'al'],\n",
    "             ['af', 'al', 'dl', 'cl'],\n",
    "             ['df', 'dl', 'al', 'cl'],\n",
    "             ['df', 'dl', 'al', 'dl'],\n",
    "             ['df', 'dl', 'cl', 'al'],\n",
    "             ['df', 'dl', 'cl', 'dl']]\n",
    "probs = [probability_sequence(transition, seq) for seq in sequences]\n",
    "# .count() is very slow like this, but fine for now...\n",
    "mc_probs = [seqs.count(seq)/n for seq in sequences]\n",
    "real_seqs = [[y[0]+'f']+[x+'l' for x in y] for y in activities]\n",
    "real_probs = [real_seqs.count(seq)/len(real_seqs) for seq in sequences]\n",
    "for seq, prob, mc_prob, real_prob in zip(sequences, probs, mc_probs, real_probs):\n",
    "    print(\"{:13s} {:.4f} {:.4f} {:.4f}\".format(' '.join(seq), prob, mc_prob, real_prob))\n",
    "print()\n",
    "print(\"{:13s} {:.4f} {:.4f} {:.4f}\".format(\"Total\", np.sum(probs), np.sum(mc_probs), \n",
    "                                           np.sum(real_probs)))"
   ]
  },
  {
   "cell_type": "code",
   "execution_count": null,
   "metadata": {},
   "outputs": [],
   "source": [
    "# Get the parameters of the different activities.\n",
    "def parm_acc_dec(activity: Activity):\n",
    "    \"\"\" Get initial speed, mean acceleration, and speed difference. \"\"\"\n",
    "    vstart, vend = activity.get_state(time=[activity.tstart, activity.tend])[0]\n",
    "    amean = (vend - vstart) / (activity.tend - activity.tstart)\n",
    "    return vstart, amean, vend-vstart\n",
    "\n",
    "def parm_cruise(activity: Activity):\n",
    "    \"\"\" Get initial speed, speed difference\"\"\""
   ]
  },
  {
   "cell_type": "code",
   "execution_count": null,
   "metadata": {},
   "outputs": [],
   "source": [
    "a = cutins.get_item(\"activity\", 1)"
   ]
  },
  {
   "cell_type": "code",
   "execution_count": null,
   "metadata": {},
   "outputs": [],
   "source": [
    "vstart, vend = a.get_state(time=[a.tstart, a.tend])[0]"
   ]
  },
  {
   "cell_type": "code",
   "execution_count": null,
   "metadata": {},
   "outputs": [],
   "source": [
    "parm_acc_dec(cutins.get_item(\"activity\", 1))"
   ]
  },
  {
   "cell_type": "code",
   "execution_count": null,
   "metadata": {},
   "outputs": [],
   "source": [
    "vend"
   ]
  },
  {
   "cell_type": "code",
   "execution_count": null,
   "metadata": {},
   "outputs": [],
   "source": []
  },
  {
   "cell_type": "code",
   "execution_count": null,
   "metadata": {},
   "outputs": [],
   "source": []
  }
 ],
 "metadata": {
  "kernelspec": {
   "display_name": "Python 3",
   "language": "python",
   "name": "python3"
  },
  "language_info": {
   "codemirror_mode": {
    "name": "ipython",
    "version": 3
   },
   "file_extension": ".py",
   "mimetype": "text/x-python",
   "name": "python",
   "nbconvert_exporter": "python",
   "pygments_lexer": "ipython3",
   "version": "3.7.3"
  }
 },
 "nbformat": 4,
 "nbformat_minor": 2
}
