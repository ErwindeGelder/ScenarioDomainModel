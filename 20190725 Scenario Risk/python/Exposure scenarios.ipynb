{
 "cells": [
  {
   "cell_type": "code",
   "execution_count": null,
   "metadata": {},
   "outputs": [],
   "source": [
    "import time\n",
    "import os\n",
    "import pandas as pd\n",
    "import numpy as np\n",
    "from glob import glob\n",
    "import matplotlib.pyplot as plt\n",
    "import json\n",
    "from activity_detector import ActivityDetector, LateralActivityHost, LateralActivityTarget, \\\n",
    "    LeadVehicle, ActivityDetectorParameters, LineData\n",
    "from find_index_from_video import approx_index\n",
    "from ngram import NGram\n",
    "import seaborn as sns\n",
    "from tqdm import tqdm\n",
    "from typing import List, NamedTuple, Tuple\n",
    "%matplotlib inline\n",
    "#%load_ext autoreload\n",
    "#%autoreload 2"
   ]
  },
  {
   "cell_type": "code",
   "execution_count": null,
   "metadata": {
    "scrolled": true
   },
   "outputs": [],
   "source": [
    "# Load the data\n",
    "i_file = 0\n",
    "datafiles = glob(os.path.join(\"data\", \"1_hdf5\", '*.hdf5'))\n",
    "AD = ActivityDetector(datafiles[i_file])"
   ]
  },
  {
   "cell_type": "code",
   "execution_count": null,
   "metadata": {},
   "outputs": [],
   "source": [
    "AD.set_lon_activities_host()"
   ]
  },
  {
   "cell_type": "code",
   "execution_count": null,
   "metadata": {},
   "outputs": [],
   "source": [
    "AD.set_lat_activities_host()"
   ]
  },
  {
   "cell_type": "markdown",
   "metadata": {},
   "source": [
    "The following codes checks the recall of the lane changed detection. It shows the activity at the index at which a lane change occurs. These indices are obtained after looking at the video. \n",
    "\n",
    "It shows that all left lane changes are detected. Two right lane changes are missed. "
   ]
  },
  {
   "cell_type": "code",
   "execution_count": null,
   "metadata": {},
   "outputs": [],
   "source": [
    "# Jeroen's code does not detect the lane change at 1963.60.\n",
    "i_left_lane_change = [203.35, 217.29, 1738.83, 1813.3, 1900.71, 1963.60,\n",
    "                      2000.3, 2171.98, 2310.65, 2318.23, 2546.01, 2650.02]\n",
    "print([AD.get(\"host_lateral_activity\", i) for i in i_left_lane_change])\n",
    "# Jeroen's code does not detect the lane change at 2193.44 and 2236.72.\n",
    "# These lane changes are also difficult to see by eye, so these indices\n",
    "# are approximate.\n",
    "i_right_lane_change = [251.46, 304.95, 1846.39, 1858.69, 1927.05, 2040.03,\n",
    "                       2193.44, 2236.72, 2487.13, 2568.65, 2668.15, 2675.00]\n",
    "print([AD.get(\"host_lateral_activity\", i) for i in i_right_lane_change])"
   ]
  },
  {
   "cell_type": "markdown",
   "metadata": {},
   "source": [
    "The following code shows the recall of the cut-in detection at the highway. There are six cut-ins identified from the videos. The lateral activities for these six target vehicles are determined. \n",
    "All cut-ins are detected. For some strange reason, the lane changes are detected 3 seconds before the timing that is obtained from the video. That might be a syncing error?"
   ]
  },
  {
   "cell_type": "code",
   "execution_count": null,
   "metadata": {},
   "outputs": [],
   "source": [
    "# Cut-in targets:\n",
    "# 3850: Motorbike from right (29:47, index=1802)\n",
    "# 4171: Dark passenger car from right (quite far) (32:50, index=1985)\n",
    "# 5028: Silver passenger car from right (39:18, index=2373)\n",
    "# 5191: Black van from left (40:53, index=2468)\n",
    "# 5645: Black passenger car from left (42:26, index=2562)\n",
    "# 6008: Gray VW from left (44:26, index=2681)\n",
    "for i_target, index in zip([3850, 4171, 5028, 5191, 5645, 6008],\n",
    "                           [1802., 1985., 2373., 2468., 2562., 2681.]):\n",
    "    AD.set_target_activities(i_target)\n",
    "    print(\"Activity of target {:d} at index {:.2f}: {:s}\".\n",
    "          format(i_target, index-3, AD.targets[i_target].at[index-3, \"lateral_activity\"]))"
   ]
  },
  {
   "cell_type": "markdown",
   "metadata": {},
   "source": [
    "Compute all events for the targets. This takes quite some time, around 13 minutes on the zBook laptop."
   ]
  },
  {
   "cell_type": "code",
   "execution_count": null,
   "metadata": {
    "scrolled": false
   },
   "outputs": [],
   "source": [
    "# This takes round 13 minutes!\n",
    "AD.set_target_activities()"
   ]
  },
  {
   "cell_type": "markdown",
   "metadata": {},
   "source": [
    "## Create or load n-grams for target vehicles"
   ]
  },
  {
   "cell_type": "code",
   "execution_count": null,
   "metadata": {},
   "outputs": [],
   "source": [
    "filename = os.path.join(\"data\", \"4_json\", \"{:s}_targets.json\".\n",
    "                        format(os.path.splitext(os.path.basename(datafiles[i_file]))[0]))\n",
    "fieldnames = [\"longitudinal_activity\", \"lateral_activity\", \"longitudinal_state\", \n",
    "              \"lateral_state\", \"lead_vehicle\"]\n",
    "metadata = ((\"tstart\", float), (\"tend\", float), (\"target_id\", int), (\"target_tracker\", int))\n",
    "target_ngrams = NGram(fieldnames, metadata)"
   ]
  },
  {
   "cell_type": "code",
   "execution_count": null,
   "metadata": {},
   "outputs": [],
   "source": [
    "if os.path.exists(filename):\n",
    "    target_ngrams.from_json(filename)\n",
    "else:\n",
    "    for i_target in range(8):\n",
    "        t_field_names = [AD.target_signal(i_target, fieldname) for fieldname in fieldnames]\n",
    "        mapper = dict()\n",
    "        for oldname, newname in zip(t_field_names, fieldnames):\n",
    "            mapper[oldname] = newname\n",
    "        dftargets = df[t_field_names].rename(columns=mapper)\n",
    "        targetids = AD.get_t(i_target, \"id\")\n",
    "        ids = np.unique(targetids)\n",
    "\n",
    "        for targetid in ids[1:]:  # Skip the first one, which is always 0.\n",
    "            dftarget = dftargets.loc[targetids == targetid]\n",
    "            target_ngrams.ngram_from_data(dftarget, tstart=dftarget.index[0], tend=dftarget.index[-1],\n",
    "                                          target_id=int(targetid), target_tracker=i_target)\n",
    "    target_ngrams.sort_ngrams(\"tstart\")\n",
    "    target_ngrams.to_json(filename)"
   ]
  },
  {
   "cell_type": "markdown",
   "metadata": {},
   "source": [
    "## Create or load n-gram for ego vehicle"
   ]
  },
  {
   "cell_type": "code",
   "execution_count": null,
   "metadata": {},
   "outputs": [],
   "source": [
    "filename = os.path.join(\"data\", \"4_json\", \"{:s}_ego.json\".\n",
    "                        format(os.path.splitext(os.path.basename(datafiles[i_file]))[0]))\n",
    "fieldnames = [\"host_longitudinal_activity\", \"host_lateral_activity\",\n",
    "              \"is_highway\"]\n",
    "metadata = ((\"tstart\", float), (\"tend\", float))\n",
    "ego_ngram = NGram(fieldnames, metadata)"
   ]
  },
  {
   "cell_type": "code",
   "execution_count": null,
   "metadata": {
    "scrolled": false
   },
   "outputs": [],
   "source": [
    "if os.path.exists(filename):\n",
    "    ego_ngram.from_json(filename)\n",
    "else:\n",
    "    ego_ngram.ngram_from_data(df, tstart=df.index[0], tend=df.index[-1])\n",
    "    ego_ngram.to_json(filename)"
   ]
  },
  {
   "cell_type": "markdown",
   "metadata": {},
   "source": [
    "## Extract cut-in scenario\n",
    "\n",
    "For target vehicle, we need:\n",
    "1. Lateral activity `li` or `ri`.\n",
    "2. Lateral activity `fl` and lead vehicle `y`.\n",
    "\n",
    "For the ego vehicle, we need it to go straight during step 2 of the target vehicle."
   ]
  },
  {
   "cell_type": "code",
   "execution_count": null,
   "metadata": {},
   "outputs": [],
   "source": [
    "def check_row(row, dict_tags: dict):\n",
    "    \"\"\" Check if a row of a dataframe contains the provided tags. \n",
    "    \n",
    "    Each item of the dictionary needs to contain a list. \n",
    "    \n",
    "    :param row: The row that is obtained through pd.DataFrame.itertuples().\n",
    "    :param dict_tags: The dictionary of tags.\n",
    "    \"\"\"\n",
    "    for key, tags in dict_tags.items():\n",
    "        if getattr(row, key) not in tags:\n",
    "            return False\n",
    "    return True"
   ]
  },
  {
   "cell_type": "code",
   "execution_count": null,
   "metadata": {},
   "outputs": [],
   "source": [
    "target_tags = [dict(lateral_activity=[LateralActivityTarget.LEFT_CUT_IN.value, \n",
    "                                      LateralActivityTarget.RIGHT_CUT_IN.value]),\n",
    "               dict(lateral_activity=[LateralActivityTarget.LANE_FOLLOWING.value], \n",
    "                    lead_vehicle=[LeadVehicle.LEAD.value])]\n",
    "ego_tags = [dict(lateral_activity=[LateralActivityHost.LANE_FOLLOWING.value],\n",
    "                 is_highway=[True]),\n",
    "            dict(lateral_activity=[LateralActivityHost.LANE_FOLLOWING.value],\n",
    "                 is_highway=[True])]"
   ]
  },
  {
   "cell_type": "code",
   "execution_count": null,
   "metadata": {},
   "outputs": [],
   "source": [
    "i_start, i_step = 0, 0\n",
    "\n",
    "ngram = target_ngrams.ngrams[365]\n",
    "for row in ngram.data.itertuples():\n",
    "    if i_step < len(target_tags) and check_row(row, target_tags[i_step]):\n",
    "        print(\"Step {:d} at time {:.2f}\".format(i_step+1, row.Index))"
   ]
  },
  {
   "cell_type": "code",
   "execution_count": null,
   "metadata": {},
   "outputs": [],
   "source": [
    "# Tracker id is 1 and 4.\n",
    "tstart = 2466\n",
    "tend = 2466.5\n",
    "for i in range(8):\n",
    "    plt.plot(df.loc[tstart:tend, \"Target_{:d}_dy\".format(i)],\n",
    "             df.loc[tstart:tend, \"Target_{:d}_dx\".format(i)], '.')\n",
    "plt.xlim(-5, 5)\n",
    "plt.ylim(0, 50)"
   ]
  },
  {
   "cell_type": "code",
   "execution_count": null,
   "metadata": {},
   "outputs": [],
   "source": [
    "target_ngrams.ngrams[4000].meta[\"tstart\"]"
   ]
  },
  {
   "cell_type": "code",
   "execution_count": null,
   "metadata": {
    "scrolled": false
   },
   "outputs": [],
   "source": [
    "df.loc[tstart:tend, [\"Target_1_dx\", \"Target_4_dx\", \"Target_1_id\", \"Target_4_id\"]]"
   ]
  },
  {
   "cell_type": "code",
   "execution_count": null,
   "metadata": {},
   "outputs": [],
   "source": [
    "ego_ngram.ngrams[0].meta"
   ]
  },
  {
   "cell_type": "code",
   "execution_count": null,
   "metadata": {},
   "outputs": [],
   "source": [
    "plt.plot(df.loc[2870:, \"Host_vx\"])"
   ]
  },
  {
   "cell_type": "code",
   "execution_count": null,
   "metadata": {},
   "outputs": [],
   "source": []
  },
  {
   "cell_type": "code",
   "execution_count": null,
   "metadata": {},
   "outputs": [],
   "source": []
  },
  {
   "cell_type": "code",
   "execution_count": null,
   "metadata": {},
   "outputs": [],
   "source": []
  },
  {
   "cell_type": "code",
   "execution_count": null,
   "metadata": {},
   "outputs": [],
   "source": []
  },
  {
   "cell_type": "code",
   "execution_count": null,
   "metadata": {},
   "outputs": [],
   "source": []
  },
  {
   "cell_type": "code",
   "execution_count": null,
   "metadata": {},
   "outputs": [],
   "source": []
  },
  {
   "cell_type": "code",
   "execution_count": null,
   "metadata": {},
   "outputs": [],
   "source": []
  }
 ],
 "metadata": {
  "kernelspec": {
   "display_name": "Python 3",
   "language": "python",
   "name": "python3"
  },
  "language_info": {
   "codemirror_mode": {
    "name": "ipython",
    "version": 3
   },
   "file_extension": ".py",
   "mimetype": "text/x-python",
   "name": "python",
   "nbconvert_exporter": "python",
   "pygments_lexer": "ipython3",
   "version": "3.7.3"
  }
 },
 "nbformat": 4,
 "nbformat_minor": 2
}
