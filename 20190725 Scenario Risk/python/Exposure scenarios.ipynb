{
 "cells": [
  {
   "cell_type": "code",
   "execution_count": null,
   "metadata": {},
   "outputs": [],
   "source": [
    "import time\n",
    "import os\n",
    "import pandas as pd\n",
    "import numpy as np\n",
    "from glob import glob\n",
    "import matplotlib.pyplot as plt\n",
    "import json\n",
    "from activity_detector import ActivityDetector, LateralActivityHost, LateralActivityTarget, LeadVehicle\n",
    "from ngram import NGram\n",
    "%matplotlib inline\n",
    "#%load_ext autoreload\n",
    "#%autoreload 2"
   ]
  },
  {
   "cell_type": "code",
   "execution_count": null,
   "metadata": {},
   "outputs": [],
   "source": [
    "i_file = 0\n",
    "datafiles = glob(os.path.join(\"data\", \"1_hdf5\", '*.hdf5'))\n",
    "df = pd.read_hdf(datafiles[i_file])\n",
    "AD = ActivityDetector(df)"
   ]
  },
  {
   "cell_type": "markdown",
   "metadata": {},
   "source": [
    "## Create or load n-grams for target vehicles"
   ]
  },
  {
   "cell_type": "code",
   "execution_count": null,
   "metadata": {},
   "outputs": [],
   "source": [
    "filename = os.path.join(\"data\", \"4_json\", \"{:s}_targets.json\".\n",
    "                        format(os.path.splitext(os.path.basename(datafiles[i_file]))[0]))\n",
    "fieldnames = [\"longitudinal_activity\", \"lateral_activity\", \"longitudinal_state\", \n",
    "              \"lateral_state\", \"lead_vehicle\"]\n",
    "metadata = ((\"tstart\", float), (\"tend\", float), (\"target_id\", int), (\"target_tracker\", int))\n",
    "target_ngrams = NGram(fieldnames, metadata)"
   ]
  },
  {
   "cell_type": "code",
   "execution_count": null,
   "metadata": {},
   "outputs": [],
   "source": [
    "if os.path.exists(filename):\n",
    "    target_ngrams.from_json(filename)\n",
    "else:\n",
    "    for i_target in range(8):\n",
    "        t_field_names = [AD.target_signal(i_target, fieldname) for fieldname in fieldnames]\n",
    "        mapper = dict()\n",
    "        for oldname, newname in zip(t_field_names, fieldnames):\n",
    "            mapper[oldname] = newname\n",
    "        dftargets = df[t_field_names].rename(columns=mapper)\n",
    "        targetids = AD.get_t(i_target, \"id\")\n",
    "        ids = np.unique(targetids)\n",
    "\n",
    "        for targetid in ids[1:]:  # Skip the first one, which is always 0.\n",
    "            dftarget = dftargets.loc[targetids == targetid]\n",
    "            target_ngrams.ngram_from_data(dftarget, tstart=dftarget.index[0], tend=dftarget.index[-1],\n",
    "                                          target_id=int(targetid), target_tracker=i_target)\n",
    "    target_ngrams.sort_ngrams(\"tstart\")\n",
    "    target_ngrams.to_json(filename)"
   ]
  },
  {
   "cell_type": "markdown",
   "metadata": {},
   "source": [
    "## Create or load n-gram for ego vehicle"
   ]
  },
  {
   "cell_type": "code",
   "execution_count": null,
   "metadata": {},
   "outputs": [],
   "source": [
    "filename = os.path.join(\"data\", \"4_json\", \"{:s}_ego.json\".\n",
    "                        format(os.path.splitext(os.path.basename(datafiles[i_file]))[0]))\n",
    "fieldnames = [\"host_longitudinal_activity\", \"host_lateral_activity\",\n",
    "              \"is_highway\"]\n",
    "metadata = ((\"tstart\", float), (\"tend\", float))\n",
    "ego_ngram = NGram(fieldnames, metadata)"
   ]
  },
  {
   "cell_type": "code",
   "execution_count": null,
   "metadata": {
    "scrolled": false
   },
   "outputs": [],
   "source": [
    "if os.path.exists(filename):\n",
    "    ego_ngram.from_json(filename)\n",
    "else:\n",
    "    ego_ngram.ngram_from_data(df, tstart=df.index[0], tend=df.index[-1])\n",
    "    ego_ngram.to_json(filename)"
   ]
  },
  {
   "cell_type": "markdown",
   "metadata": {},
   "source": [
    "## Extract cut-in scenario\n",
    "\n",
    "For target vehicle, we need:\n",
    "1. Lateral activity `li` or `ri`.\n",
    "2. Lateral activity `fl` and lead vehicle `y`.\n",
    "\n",
    "For the ego vehicle, we need it to go straight during step 2 of the target vehicle."
   ]
  },
  {
   "cell_type": "code",
   "execution_count": null,
   "metadata": {},
   "outputs": [],
   "source": [
    "def check_row(row, dict_tags: dict):\n",
    "    \"\"\" Check if a row of a dataframe contains the provided tags. \n",
    "    \n",
    "    Each item of the dictionary needs to contain a list. \n",
    "    \n",
    "    :param row: The row that is obtained through pd.DataFrame.itertuples().\n",
    "    :param dict_tags: The dictionary of tags.\n",
    "    \"\"\"\n",
    "    for key, tags in dict_tags.items():\n",
    "        if getattr(row, key) not in tags:\n",
    "            return False\n",
    "    return True"
   ]
  },
  {
   "cell_type": "code",
   "execution_count": null,
   "metadata": {},
   "outputs": [],
   "source": [
    "target_tags = [dict(lateral_activity=[LateralActivityTarget.LEFT_CUT_IN.value, \n",
    "                                      LateralActivityTarget.RIGHT_CUT_IN.value]),\n",
    "               dict(lateral_activity=[LateralActivityTarget.LANE_FOLLOWING.value], \n",
    "                    lead_vehicle=[LeadVehicle.LEAD.value])]\n",
    "ego_tags = [dict(lateral_activity=[LateralActivityHost.LANE_FOLLOWING.value],\n",
    "                 is_highway=[True]),\n",
    "            dict(lateral_activity=[LateralActivityHost.LANE_FOLLOWING.value],\n",
    "                 is_highway=[True])]"
   ]
  },
  {
   "cell_type": "code",
   "execution_count": null,
   "metadata": {},
   "outputs": [],
   "source": [
    "i_start, i_step = 0, 0\n",
    "\n",
    "ngram = target_ngrams.ngrams[365]\n",
    "for row in ngram.data.itertuples():\n",
    "    if i_step < len(target_tags) and check_row(row, target_tags[i_step]):\n",
    "        print(\"Step {:d} at time {:.2f}\".format(i_step+1, row.Index))"
   ]
  },
  {
   "cell_type": "code",
   "execution_count": null,
   "metadata": {},
   "outputs": [],
   "source": [
    "# Tracker id is 1 and 4.\n",
    "tstart = 2466\n",
    "tend = 2466.5\n",
    "for i in range(8):\n",
    "    plt.plot(df.loc[tstart:tend, \"Target_{:d}_dy\".format(i)],\n",
    "             df.loc[tstart:tend, \"Target_{:d}_dx\".format(i)], '.')\n",
    "plt.xlim(-5, 5)\n",
    "plt.ylim(0, 50)"
   ]
  },
  {
   "cell_type": "code",
   "execution_count": null,
   "metadata": {},
   "outputs": [],
   "source": [
    "target_ngrams.ngrams[4000].meta[\"tstart\"]"
   ]
  },
  {
   "cell_type": "code",
   "execution_count": null,
   "metadata": {
    "scrolled": false
   },
   "outputs": [],
   "source": [
    "df.loc[tstart:tend, [\"Target_1_dx\", \"Target_4_dx\", \"Target_1_id\", \"Target_4_id\"]]"
   ]
  },
  {
   "cell_type": "code",
   "execution_count": null,
   "metadata": {},
   "outputs": [],
   "source": [
    "ego_ngram.ngrams[0].meta"
   ]
  },
  {
   "cell_type": "code",
   "execution_count": null,
   "metadata": {},
   "outputs": [],
   "source": [
    "plt.plot(df.loc[2870:, \"Host_vx\"])"
   ]
  },
  {
   "cell_type": "code",
   "execution_count": null,
   "metadata": {},
   "outputs": [],
   "source": [
    "47*60+46"
   ]
  },
  {
   "cell_type": "code",
   "execution_count": null,
   "metadata": {},
   "outputs": [],
   "source": [
    "47*60+55"
   ]
  },
  {
   "cell_type": "code",
   "execution_count": null,
   "metadata": {},
   "outputs": [],
   "source": []
  },
  {
   "cell_type": "code",
   "execution_count": null,
   "metadata": {},
   "outputs": [],
   "source": []
  },
  {
   "cell_type": "code",
   "execution_count": null,
   "metadata": {},
   "outputs": [],
   "source": []
  },
  {
   "cell_type": "code",
   "execution_count": null,
   "metadata": {},
   "outputs": [],
   "source": []
  },
  {
   "cell_type": "code",
   "execution_count": null,
   "metadata": {},
   "outputs": [],
   "source": [
    "# lon_events = AD.lon_activities_host()\n",
    "lat_events = AD.lat_activities_host()"
   ]
  },
  {
   "cell_type": "code",
   "execution_count": null,
   "metadata": {},
   "outputs": [],
   "source": [
    "df.iloc[1:4][\"line_left_y_conf\"]"
   ]
  },
  {
   "cell_type": "code",
   "execution_count": null,
   "metadata": {},
   "outputs": [],
   "source": [
    "tmp = np.zeros(len(df))\n",
    "for i in range(len(df)):\n",
    "    istart = max(0, i - 100)\n",
    "    iend = i+1\n",
    "    tmp[i] = np.max(df.iloc[istart:iend][\"line_left_y_conf\"])"
   ]
  },
  {
   "cell_type": "code",
   "execution_count": null,
   "metadata": {},
   "outputs": [],
   "source": [
    "#plt.plot(df[\"line_left_y_conf_down\"])\n",
    "plt.plot(df[\"line_left_y_conf\"] - tmp - df[\"line_left_y_conf_down\"])"
   ]
  },
  {
   "cell_type": "code",
   "execution_count": null,
   "metadata": {},
   "outputs": [],
   "source": [
    "x = pd.DataFrame([0, 1, 2, 3, 4, 5, 4, 3, 2, 8, 2, 3, 10])"
   ]
  },
  {
   "cell_type": "code",
   "execution_count": null,
   "metadata": {},
   "outputs": [],
   "source": [
    "x.rolling(window=3).max()"
   ]
  },
  {
   "cell_type": "code",
   "execution_count": null,
   "metadata": {},
   "outputs": [],
   "source": [
    "n = 10000\n",
    "tmp = np.zeros(n)\n",
    "for i in range(n):\n",
    "    istart = max(0, i - 100+1)\n",
    "    iend = i+1\n",
    "    tmp[i] = np.max(df.iloc[istart:iend][\"line_left_y_conf\"])"
   ]
  },
  {
   "cell_type": "code",
   "execution_count": null,
   "metadata": {},
   "outputs": [],
   "source": [
    "plt.plot(df[\"lines_0_c0\"].iloc[10000:30000])\n",
    "i = 203.05\n",
    "plt.plot(i, df.at[i, \"line_left_y_conf\"], \"r.\")"
   ]
  },
  {
   "cell_type": "code",
   "execution_count": null,
   "metadata": {},
   "outputs": [],
   "source": [
    "lat_events"
   ]
  },
  {
   "cell_type": "code",
   "execution_count": null,
   "metadata": {},
   "outputs": [],
   "source": [
    "def find_neighbours(value):\n",
    "    exactmatch = df[df.video_time == value]\n",
    "    if not exactmatch.empty:\n",
    "        return exactmatch.index[0]\n",
    "    lowerneighbour_ind = df[df.video_time < value].idxmax()\n",
    "    return lowerneighbour_ind\n",
    "\n",
    "def approx_index(minute, second):\n",
    "    iframe = (minute*60 + second)*10\n",
    "    print(\"Seconds: {:.0f}\".format(minute*60+second))\n",
    "    print(\"Index: {:.2f}\".format(find_neighbours(iframe)))\n",
    "    return find_neighbours(iframe)\n",
    "          \n",
    "_ = approx_index(44,23)"
   ]
  },
  {
   "cell_type": "code",
   "execution_count": null,
   "metadata": {},
   "outputs": [],
   "source": [
    "i = approx_index(37,5)\n",
    "istart = i - 10\n",
    "iend = i + 10\n",
    "plt.plot(df.loc[istart:iend, \"lines_0_c0\"], color=[.8, .8, 1])\n",
    "plt.plot(df.loc[istart:iend, \"lines_1_c0\"], color=[1, .8, .8])\n",
    "plt.plot(df.loc[istart:iend, \"line_left_y_conf\"], color=[0, 0, 1])\n",
    "plt.plot(df.loc[istart:iend, \"line_right_y_conf\"], color=[1, 0, 0])\n",
    "plt.plot([istart, iend], [0, 0], 'k')"
   ]
  },
  {
   "cell_type": "code",
   "execution_count": null,
   "metadata": {},
   "outputs": [],
   "source": [
    "plt.plot(df.loc[istart:iend, \"lines_0_quality\"])\n",
    "plt.plot(df.loc[istart:iend, \"lines_1_quality\"])"
   ]
  },
  {
   "cell_type": "code",
   "execution_count": null,
   "metadata": {},
   "outputs": [],
   "source": []
  },
  {
   "cell_type": "code",
   "execution_count": null,
   "metadata": {},
   "outputs": [],
   "source": []
  },
  {
   "cell_type": "code",
   "execution_count": null,
   "metadata": {},
   "outputs": [],
   "source": [
    "left_y = df[\"lines_0_c0\"]\n",
    "left_dy = df[\"line_left_y_conf_down\"]\n",
    "right_y = df[\"lines_0_c1\"]\n",
    "right_dy = df[\"line_right_y_conf_up\"]"
   ]
  },
  {
   "cell_type": "code",
   "execution_count": null,
   "metadata": {
    "scrolled": true
   },
   "outputs": [],
   "source": [
    "previous_y = (left_y.iloc[0], right_y.iloc[1])\n",
    "lane_changes = 0\n",
    "for row in df.itertuples():\n",
    "    # Left lane change (out of ego lane).\n",
    "    lane_change = True\n",
    "    if row.lines_0_c0 >= 0:\n",
    "        lane_change = False\n",
    "    if previous_y[0] < 0:\n",
    "        lane_change = False\n",
    "    if np.isnan(row.line_left_y_conf_down):\n",
    "        lane_change = False\n",
    "    if np.abs(previous_y[0] - row.lines_0_c0) >= 1:\n",
    "        lane_change = False\n",
    "    previous_y = (row.lines_0_c0, row.lines_0_c1)\n",
    "    if lane_change:\n",
    "        print(\"Potential left lane change at i={:.2f}\".format(row.Index))\n",
    "        lane_changes += 1\n",
    "        if lane_changes >= 20:\n",
    "            break\n",
    "        \n",
    "        # Find start of the lane change."
   ]
  },
  {
   "cell_type": "code",
   "execution_count": null,
   "metadata": {},
   "outputs": [],
   "source": []
  }
 ],
 "metadata": {
  "kernelspec": {
   "display_name": "Python 3",
   "language": "python",
   "name": "python3"
  },
  "language_info": {
   "codemirror_mode": {
    "name": "ipython",
    "version": 3
   },
   "file_extension": ".py",
   "mimetype": "text/x-python",
   "name": "python",
   "nbconvert_exporter": "python",
   "pygments_lexer": "ipython3",
   "version": "3.7.3"
  }
 },
 "nbformat": 4,
 "nbformat_minor": 2
}
