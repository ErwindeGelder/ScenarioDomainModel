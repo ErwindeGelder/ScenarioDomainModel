{
 "cells": [
  {
   "cell_type": "code",
   "execution_count": null,
   "metadata": {},
   "outputs": [],
   "source": [
    "import time\n",
    "import os\n",
    "import pandas as pd\n",
    "import numpy as np\n",
    "from glob import glob\n",
    "import matplotlib.pyplot as plt\n",
    "import json\n",
    "from activity_detector import ActivityDetector, LateralActivityHost, LateralActivityTarget, \\\n",
    "    LeadVehicle, ActivityDetectorParameters, LineData\n",
    "from find_index_from_video import approx_index\n",
    "from ngram import NGram\n",
    "import seaborn as sns\n",
    "from tqdm import tqdm\n",
    "from typing import Iterable, List, NamedTuple, Tuple\n",
    "%matplotlib inline\n",
    "#%load_ext autoreload\n",
    "#%autoreload 2"
   ]
  },
  {
   "cell_type": "code",
   "execution_count": null,
   "metadata": {
    "scrolled": true
   },
   "outputs": [],
   "source": [
    "# Load the data\n",
    "i_file = 0\n",
    "datafiles = glob(os.path.join(\"data\", \"1_hdf5\", '*.hdf5'))\n",
    "AD = ActivityDetector(datafiles[i_file])"
   ]
  },
  {
   "cell_type": "code",
   "execution_count": null,
   "metadata": {},
   "outputs": [],
   "source": [
    "AD.set_lon_activities_host()"
   ]
  },
  {
   "cell_type": "code",
   "execution_count": null,
   "metadata": {},
   "outputs": [],
   "source": [
    "AD.set_lat_activities_host()"
   ]
  },
  {
   "cell_type": "markdown",
   "metadata": {},
   "source": [
    "The following codes checks the recall of the lane changed detection. It shows the activity at the index at which a lane change occurs. These indices are obtained after looking at the video. \n",
    "\n",
    "It shows that all left lane changes are detected. Two right lane changes are missed. "
   ]
  },
  {
   "cell_type": "code",
   "execution_count": null,
   "metadata": {},
   "outputs": [],
   "source": [
    "# Jeroen's code does not detect the lane change at 1963.60.\n",
    "i_left_lane_change = [203.35, 217.29, 1738.83, 1813.3, 1900.71, 1963.60,\n",
    "                      2000.3, 2171.98, 2310.65, 2318.23, 2546.01, 2650.02]\n",
    "print([AD.get(\"host_lateral_activity\", i) for i in i_left_lane_change])\n",
    "# Jeroen's code does not detect the lane change at 2193.44 and 2236.72.\n",
    "# These lane changes are also difficult to see by eye, so these indices\n",
    "# are approximate.\n",
    "i_right_lane_change = [251.46, 304.95, 1846.39, 1858.69, 1927.05, 2040.03,\n",
    "                       2193.44, 2236.72, 2487.13, 2568.65, 2668.15, 2675.00]\n",
    "print([AD.get(\"host_lateral_activity\", i) for i in i_right_lane_change])"
   ]
  },
  {
   "cell_type": "markdown",
   "metadata": {},
   "source": [
    "The following code shows the recall of the cut-in detection at the highway. There are six cut-ins identified from the videos. The lateral activities for these six target vehicles are determined. \n",
    "All cut-ins are detected. For some strange reason, the lane changes are detected 3 seconds before the timing that is obtained from the video. That might be a syncing error?"
   ]
  },
  {
   "cell_type": "code",
   "execution_count": null,
   "metadata": {},
   "outputs": [],
   "source": [
    "# Cut-in targets:\n",
    "# 3850: Motorbike from right (29:47, index=1802)\n",
    "# 4171: Dark passenger car from right (quite far) (32:50, index=1985)\n",
    "# 5028: Silver passenger car from right (39:18, index=2373)\n",
    "# 5191: Black van from left (40:53, index=2468)\n",
    "# 5645: Black passenger car from left (42:26, index=2562)\n",
    "# 6008: Gray VW from left (44:26, index=2681)\n",
    "for i_target, index in zip([3850, 4171, 5028, 5191, 5645, 6008],\n",
    "                           [1802., 1985., 2373., 2468., 2562., 2681.]):\n",
    "    AD.set_target_activities(i_target)\n",
    "    print(\"Activity of target {:d} at index {:.2f}: {:s}\".\n",
    "          format(i_target, index-3, AD.targets[i_target].at[index-3, \"lateral_activity\"]))"
   ]
  },
  {
   "cell_type": "markdown",
   "metadata": {},
   "source": [
    "Compute all events for the targets. This takes quite some time, around 13 minutes on the zBook laptop."
   ]
  },
  {
   "cell_type": "code",
   "execution_count": null,
   "metadata": {
    "scrolled": false
   },
   "outputs": [],
   "source": [
    "# This takes round 13 minutes!\n",
    "AD.set_target_activities()"
   ]
  },
  {
   "cell_type": "markdown",
   "metadata": {},
   "source": [
    "Set the tags for the longitudinal and lateral state of each target vehicle at each time instant. Furthermore, tags are added that specify whether a target vehicle is a lead vehicle at a certain time instant. The states of the targets (i.e., `set_states_targets()`) can only be done after the lateral events (through `set_target_activities()`), because the lateral position of the targets with respect to the lane lines is needed. Similarly, the determination of the lead vehicle (`set_lead_vehicle()`) can only be done after the other states (`set_states_targets()`), because it makes use of the result of the previous step.\n",
    "\n",
    "`set_states_targets()` is really fast, `set_lead_vehicle()` takes around 3 minutes on the zBook laptop."
   ]
  },
  {
   "cell_type": "code",
   "execution_count": null,
   "metadata": {},
   "outputs": [],
   "source": [
    "AD.set_states_targets()\n",
    "AD.set_lead_vehicle()"
   ]
  },
  {
   "cell_type": "markdown",
   "metadata": {},
   "source": [
    "## Create or load n-grams for target vehicles"
   ]
  },
  {
   "cell_type": "code",
   "execution_count": null,
   "metadata": {},
   "outputs": [],
   "source": [
    "filename = os.path.join(\"data\", \"4_ngrams\", \"{:s}_targets.hdf5\".\n",
    "                        format(os.path.splitext(os.path.basename(datafiles[i_file]))[0]))\n",
    "fieldnames = [\"longitudinal_activity\", \"lateral_activity\", \"longitudinal_state\", \n",
    "              \"lateral_state\", \"lead_vehicle\", \"id\"]\n",
    "metadata = ((\"tstart\", float), (\"tend\", float), (\"target_id\", int))\n",
    "target_ngrams = NGram(fieldnames, metadata)"
   ]
  },
  {
   "cell_type": "code",
   "execution_count": null,
   "metadata": {},
   "outputs": [],
   "source": [
    "if not target_ngrams.from_hdf(filename, \"targets\"):\n",
    "    for target in AD.targets:\n",
    "        target_ngrams.ngram_from_data(target, \n",
    "                                      tstart=target.index[0],\n",
    "                                      tend=target.index[-1],\n",
    "                                      target_id=int(target[\"id\"].values[0]))\n",
    "    target_ngrams.sort_ngrams(\"tstart\")\n",
    "    target_ngrams.to_hdf(filename, \"targets\", mode=\"w\")"
   ]
  },
  {
   "cell_type": "markdown",
   "metadata": {},
   "source": [
    "## Create or load n-gram for ego vehicle"
   ]
  },
  {
   "cell_type": "code",
   "execution_count": null,
   "metadata": {},
   "outputs": [],
   "source": [
    "fieldnames = [\"host_longitudinal_activity\", \"host_lateral_activity\", \"is_highway\"]\n",
    "metadata = ((\"tstart\", float), (\"tend\", float))\n",
    "ego_ngram = NGram(fieldnames, metadata)"
   ]
  },
  {
   "cell_type": "code",
   "execution_count": null,
   "metadata": {
    "scrolled": false
   },
   "outputs": [],
   "source": [
    "if not ego_ngram.from_hdf(filename, \"ego\"):\n",
    "    ego_ngram.ngram_from_data(AD.data, tstart=AD.data.index[0], tend=AD.data.index[-1])\n",
    "    ego_ngram.to_hdf(filename, \"ego\")"
   ]
  },
  {
   "cell_type": "markdown",
   "metadata": {},
   "source": [
    "## Extract cut-in scenario\n",
    "\n",
    "For target vehicle, we need:\n",
    "1. Lateral activity `li` or `ri`.\n",
    "2. Lateral activity `fl` and lead vehicle `y`.\n",
    "\n",
    "For the ego vehicle, we need it to go straight during step 2 of the target vehicle."
   ]
  },
  {
   "cell_type": "code",
   "execution_count": null,
   "metadata": {},
   "outputs": [],
   "source": [
    "def check_row(row, dict_tags: dict):\n",
    "    \"\"\" Check if a row of a dataframe contains the provided tags. \n",
    "    \n",
    "    Each item of the dictionary needs to contain a list. \n",
    "    \n",
    "    :param row: The row that is obtained through pd.DataFrame.itertuples().\n",
    "    :param dict_tags: The dictionary of tags.\n",
    "    \"\"\"\n",
    "    for key, tags in dict_tags.items():\n",
    "        if getattr(row, key) not in tags:\n",
    "            return False\n",
    "    return True"
   ]
  },
  {
   "cell_type": "code",
   "execution_count": null,
   "metadata": {},
   "outputs": [],
   "source": [
    "target_tags = [dict(lateral_activity=[LateralActivityTarget.LEFT_CUT_IN.value, \n",
    "                                      LateralActivityTarget.RIGHT_CUT_IN.value]),\n",
    "               dict(lateral_activity=[LateralActivityTarget.LANE_FOLLOWING.value], \n",
    "                    lead_vehicle=[LeadVehicle.LEAD.value])]\n",
    "ego_tags = [dict(host_lateral_activity=[LateralActivityHost.LANE_FOLLOWING.value],\n",
    "                 is_highway=[True]),\n",
    "            dict(host_lateral_activity=[LateralActivityHost.LANE_FOLLOWING.value],\n",
    "                 is_highway=[True])]"
   ]
  },
  {
   "cell_type": "code",
   "execution_count": null,
   "metadata": {},
   "outputs": [],
   "source": [
    "class _NGramSearch(NamedTuple):\n",
    "    is_found: bool\n",
    "    index: int = 0\n",
    "    time: float = 0.0\n",
    "        \n",
    "class _StartEnd(NamedTuple):\n",
    "    is_found: bool\n",
    "    t_start: float = None\n",
    "    t_end: float = None\n",
    "\n",
    "def determine_start(ngram: pd.DataFrame, tags: Iterable[dict], \n",
    "                    t_start: float = None, tend: float = None) -> _NGramSearch:\n",
    "    # Check if the n-gram has data within [tstart, tend].\n",
    "    if t_start is not None and tend is not None:\n",
    "        if t_start > ngram.index[-1] or tend < ngram.index[0]:\n",
    "            return _NGramSearch(False)\n",
    "    \n",
    "    i_start = 0\n",
    "    if t_start is not None and t_start > ngram.index[0]:\n",
    "        i_start = ngram.index.get_loc(t_start, method='pad')\n",
    "        ngram = ngram.iloc[i_start:]\n",
    "    for i, row in enumerate(ngram.itertuples(), start=i_start):\n",
    "        if check_row(row, tags):\n",
    "            break\n",
    "    if t_start is not None and t_start > row.Index:\n",
    "        return _NGramSearch(True, i, t_start)\n",
    "    return _NGramSearch(True, i, row.Index)\n",
    "        \n",
    "def determine_end(ngram, tags, istart, tend=None):\n",
    "    row = None\n",
    "    for i, row in enumerate(ngram.iloc[istart+1:].itertuples(), start=istart+1):\n",
    "        if not check_row(row, tags):\n",
    "            break\n",
    "        if tend is not None and row.Index > tend:\n",
    "            break\n",
    "    if row is None:  # This might happen if istart+1 == len(ngram).\n",
    "        return _NGramSearch(False)\n",
    "    if tend is not None and tend < row.Index:\n",
    "        return _NGramSearch(True, i, tend)\n",
    "    return _NGramSearch(True, i, row.Index)\n",
    "\n",
    "def determine_start_end(ngram, tags, previous_search=None):\n",
    "    if previous_search is None:\n",
    "        previous_search = _StartEnd(False)\n",
    "    start = determine_start(ngram, tags, previous_search.t_start, previous_search.t_end)\n",
    "    if not start.is_found:\n",
    "        return _StartEnd(False)\n",
    "    end = determine_end(ngram, tags, start.index, previous_search.t_end)\n",
    "    if not end.is_found:\n",
    "        return _StartEnd(False)\n",
    "    return _StartEnd(True, start.time, end.time)\n",
    "\n",
    "def find_part_of_sequence(ngrams: Iterable[pd.DataFrame], tags: Iterable[dict],\n",
    "                          t_start: float = None, force_start: bool = False):\n",
    "    # Check for the first tag of first n-gram.\n",
    "    searches = np.zeros(len(ngrams), dtype=_StartEnd)\n",
    "    searches[0] = _StartEnd(True, t_start, ngrams[0].index[-1])\n",
    "    level = 0\n",
    "    while True:\n",
    "        # Four possible results:\n",
    "        # 1. Tag found and not at highest level.\n",
    "        # 2. Tag found and at highest level, so return True.\n",
    "        # 3. Tag not found and not at lowest level, so go one level up and start search from the \n",
    "        #    previous end.\n",
    "        # 4. Tag not found and at lowest level, so return False.\n",
    "        search = determine_start_end(ngrams[level], tags[level], previous_search=searches[level])\n",
    "        if search.is_found:  # Possibility 1 or 2.\n",
    "            #print(\"0, {:d}: tstart={:.2f}, tend={:.2f}\".format(level, search.t_start, search.t_end))\n",
    "            if force_start and search.t_start > t_start:\n",
    "                return _StartEnd(False)\n",
    "            level += 1\n",
    "            if level < len(ngrams):  # Possibility 1.\n",
    "                searches[level] = search\n",
    "            else:  # Possibility 2.\n",
    "                return _StartEnd(True, search.t_start, search.t_end)\n",
    "        else:  # Possibility 3 or 4.\n",
    "            level -= 1\n",
    "            if level >= 0:  # Possibility 3.\n",
    "                # We need to go one level up and start searching from the previous end\n",
    "                # to see if we can find a new match. However, it might be possible that\n",
    "                # the new window has length 0. In that case, we need to go one level up.\n",
    "                # This might continue until we reach the lowest level. In that case, we\n",
    "                # will not find a match, so we can return a False\n",
    "                while searches[level+1].t_end >= searches[level].t_end:\n",
    "                    level -= 1\n",
    "                    if level < 0:\n",
    "                        return _StartEnd(False)\n",
    "                searches[level] = _StartEnd(False, searches[level+1].t_end, searches[level].t_end)\n",
    "            else:  # Possibility 4.\n",
    "                return _StartEnd(False)\n",
    "\n",
    "def find_sequence(ngrams: Iterable[pd.DataFrame], tags: Iterable[Iterable[dict]], \n",
    "                  t_start: float = None) -> _StartEnd:\n",
    "    # Check for the first tag of first n-gram.\n",
    "    search = find_part_of_sequence(ngrams, [tag[0] for tag in tags], t_start)\n",
    "    if not search.is_found:\n",
    "        return _StartEnd(False)\n",
    "    t_start = search.t_start\n",
    "\n",
    "    # Go through remaining steps.\n",
    "    for j in range(1, len(tags[0])):\n",
    "        search = find_part_of_sequence(ngrams, [tag[j] for tag in tags], search.t_end,\n",
    "                                       force_start=True)\n",
    "        if not search.is_found:\n",
    "            return _StartEnd(False)\n",
    "    return _StartEnd(True, t_start, search.t_end)\n",
    "\n",
    "t = target_ngrams.ngrams[554]\n",
    "e = ego_ngram.ngram\n",
    "print(find_sequence((t, e), (target_tags, ego_tags)))"
   ]
  },
  {
   "cell_type": "code",
   "execution_count": null,
   "metadata": {},
   "outputs": [],
   "source": [
    "# Cut-in targets:\n",
    "# 3850: Motorbike from right (29:47, index=1802)\n",
    "# 4171: Dark passenger car from right (quite far) (32:50, index=1985)\n",
    "# 5028: Silver passenger car from right (39:18, index=2373)\n",
    "# 5191: Black van from left (40:53, index=2468)\n",
    "# 5645: Black passenger car from left (42:26, index=2562)\n",
    "# 6008: Gray VW from left (44:26, index=2681)\n",
    "e = ego_ngram.ngram\n",
    "for i, t in enumerate(target_ngrams.ngrams):\n",
    "    search = find_sequence((t, e), (target_tags, ego_tags))\n",
    "    if search.is_found:\n",
    "        print(i, search)"
   ]
  },
  {
   "cell_type": "code",
   "execution_count": null,
   "metadata": {},
   "outputs": [],
   "source": [
    "i = 4012\n",
    "target_ngrams.ngrams[i]"
   ]
  },
  {
   "cell_type": "code",
   "execution_count": null,
   "metadata": {},
   "outputs": [],
   "source": [
    "e.loc[target_ngrams.ngrams[i].index[0]-10:target_ngrams.ngrams[i].index[-1]+10]"
   ]
  },
  {
   "cell_type": "code",
   "execution_count": null,
   "metadata": {},
   "outputs": [],
   "source": [
    "plt.plot(AD.targets[i][\"line_left\"])\n",
    "plt.plot(AD.targets[i][\"line_right\"])"
   ]
  },
  {
   "cell_type": "code",
   "execution_count": null,
   "metadata": {},
   "outputs": [],
   "source": [
    "plt.plot(-AD.targets[i][\"dy\"], AD.targets[i][\"dx\"], '.')"
   ]
  },
  {
   "cell_type": "code",
   "execution_count": null,
   "metadata": {},
   "outputs": [],
   "source": [
    "approx_index(31, 30, AD.data)"
   ]
  },
  {
   "cell_type": "code",
   "execution_count": null,
   "metadata": {},
   "outputs": [],
   "source": []
  }
 ],
 "metadata": {
  "kernelspec": {
   "display_name": "Python 3",
   "language": "python",
   "name": "python3"
  },
  "language_info": {
   "codemirror_mode": {
    "name": "ipython",
    "version": 3
   },
   "file_extension": ".py",
   "mimetype": "text/x-python",
   "name": "python",
   "nbconvert_exporter": "python",
   "pygments_lexer": "ipython3",
   "version": "3.7.3"
  }
 },
 "nbformat": 4,
 "nbformat_minor": 2
}
