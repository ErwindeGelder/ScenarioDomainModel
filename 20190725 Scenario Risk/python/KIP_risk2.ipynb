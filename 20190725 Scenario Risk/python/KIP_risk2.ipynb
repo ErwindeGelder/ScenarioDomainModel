{
 "cells": [
  {
   "cell_type": "code",
   "execution_count": null,
   "metadata": {},
   "outputs": [],
   "source": [
    "from glob import glob\n",
    "import os\n",
    "import matplotlib.pyplot as plt\n",
    "import numpy as np\n",
    "import scipy.signal\n",
    "from tqdm import tqdm\n",
    "from simulation import SimulationLongitudinal, LeaderInteraction, LeaderInteractionParameters, \\\n",
    "    IDMPlus, IDMParameters\n",
    "from load_interactions import load_interaction\n",
    "from stats import KDE\n",
    "%matplotlib inline"
   ]
  },
  {
   "cell_type": "markdown",
   "metadata": {},
   "source": [
    "# Estimate probability density function"
   ]
  },
  {
   "cell_type": "code",
   "execution_count": null,
   "metadata": {},
   "outputs": [],
   "source": [
    "files = glob(os.path.join(\"data\", \"8_interactions\", \"*.hdf5\"))"
   ]
  },
  {
   "cell_type": "code",
   "execution_count": null,
   "metadata": {},
   "outputs": [],
   "source": [
    "# Show example\n",
    "y = load_interaction(files[0])['vehicle_front']\n",
    "i = y.index[scipy.signal.find_peaks(-y['vel_x'], prominence=1)[0]]\n",
    "plt.plot(y['vel_x'])\n",
    "plt.plot(y.loc[i, 'vel_x'], 'r.', ms=20)\n",
    "plt.xlabel(\"Time [s]\")\n",
    "plt.ylabel(\"Speed [m/s]\")"
   ]
  },
  {
   "cell_type": "code",
   "execution_count": null,
   "metadata": {},
   "outputs": [],
   "source": [
    "def get_pars(vel_acc):\n",
    "    if np.max(np.abs(np.diff(vel_acc['vel_x']))) > 1.5:\n",
    "        return np.zeros((0, 4))\n",
    "    \n",
    "    data = vel_acc.copy()\n",
    "    i = data.index[scipy.signal.find_peaks(-data['vel_x'], prominence=1)[0]]\n",
    "    data['endspeed'] = np.nan\n",
    "    data['endtime'] = np.nan\n",
    "    data.loc[i, 'endspeed'] = data.loc[i, 'vel_x']\n",
    "    data.loc[i, 'endtime'] = i\n",
    "    data = data.fillna(method='backfill')\n",
    "    data = data.dropna()\n",
    "\n",
    "    data['duration'] = (data['endtime'] - data.index) / 10\n",
    "    data['reduction'] = data['vel_x'] - data['endspeed']\n",
    "    data['dmean'] = data['reduction'] / data['duration']\n",
    "    data = data.drop(i)\n",
    "    return data[['vel_x', 'acc_x', 'reduction', 'dmean']].values[::10]"
   ]
  },
  {
   "cell_type": "code",
   "execution_count": null,
   "metadata": {},
   "outputs": [],
   "source": [
    "parameters = [get_pars(load_interaction(file)['vehicle_front']) for file in files[:100]]"
   ]
  },
  {
   "cell_type": "code",
   "execution_count": null,
   "metadata": {},
   "outputs": [],
   "source": [
    "kde = KDE(np.concatenate(parameters), scaling=True)\n",
    "kde.clustering()\n",
    "kde.compute_bandwidth()"
   ]
  },
  {
   "cell_type": "markdown",
   "metadata": {},
   "source": [
    "# Simulation"
   ]
  },
  {
   "cell_type": "code",
   "execution_count": null,
   "metadata": {},
   "outputs": [],
   "source": [
    "def leader_parameters(**kwargs):\n",
    "    return LeaderInteractionParameters(init_position=kwargs[\"gap\"],\n",
    "                                       init_speed=kwargs[\"v0_lead\"],\n",
    "                                       init_acceleration=kwargs[\"a0_lead\"],\n",
    "                                       speed_difference=kwargs[\"dv\"],\n",
    "                                       duration=kwargs[\"duration\"])"
   ]
  },
  {
   "cell_type": "code",
   "execution_count": null,
   "metadata": {},
   "outputs": [],
   "source": [
    "def follower_parameters(**kwargs):\n",
    "    return IDMParameters(amin=kwargs[\"amin\"],\n",
    "                         speed=kwargs[\"v0_host\"],\n",
    "                         n_reaction=int(kwargs[\"tr\"]*100),\n",
    "                         init_speed=kwargs[\"v0_host\"],\n",
    "                         init_position=0)"
   ]
  },
  {
   "cell_type": "code",
   "execution_count": null,
   "metadata": {},
   "outputs": [],
   "source": [
    "s = SimulationLongitudinal(LeaderInteraction(), leader_parameters, IDMPlus(), follower_parameters)"
   ]
  },
  {
   "cell_type": "code",
   "execution_count": null,
   "metadata": {},
   "outputs": [],
   "source": [
    "s.simulation(dict(gap=20, v0_lead=10, a0_lead=0, dv=0, duration=5, v0_host=20, amin=-3, tr=1),\n",
    "             plot=True)"
   ]
  },
  {
   "cell_type": "code",
   "execution_count": null,
   "metadata": {},
   "outputs": [],
   "source": []
  }
 ],
 "metadata": {
  "kernelspec": {
   "display_name": "Python 3",
   "language": "python",
   "name": "python3"
  },
  "language_info": {
   "codemirror_mode": {
    "name": "ipython",
    "version": 3
   },
   "file_extension": ".py",
   "mimetype": "text/x-python",
   "name": "python",
   "nbconvert_exporter": "python",
   "pygments_lexer": "ipython3",
   "version": "3.7.3"
  }
 },
 "nbformat": 4,
 "nbformat_minor": 2
}
