{
 "cells": [
  {
   "cell_type": "code",
   "execution_count": null,
   "metadata": {},
   "outputs": [],
   "source": [
    "from glob import glob\n",
    "import os\n",
    "import matplotlib.pyplot as plt\n",
    "import multiprocessing as mp\n",
    "import numpy as np\n",
    "import pandas as pd\n",
    "import scipy.signal\n",
    "import scipy.spatial.distance as dist\n",
    "from tqdm import tqdm\n",
    "from simulation import SimulationLongitudinal, LeaderInteraction, LeaderInteractionParameters, \\\n",
    "    IDMPlus, IDMParameters\n",
    "from load_interactions import load_interaction, save_interaction\n",
    "from stats import KDE, kde_from_file\n",
    "%matplotlib inline"
   ]
  },
  {
   "cell_type": "markdown",
   "metadata": {},
   "source": [
    "# Estimate probability density function"
   ]
  },
  {
   "cell_type": "code",
   "execution_count": null,
   "metadata": {},
   "outputs": [],
   "source": [
    "files = glob(os.path.join(\"data\", \"8_interactions\", \"*.hdf5\"))"
   ]
  },
  {
   "cell_type": "code",
   "execution_count": null,
   "metadata": {},
   "outputs": [],
   "source": [
    "# Show example\n",
    "y = load_interaction(files[0])['vehicle_front']\n",
    "i = y.index[scipy.signal.find_peaks(-y['vel_x_savgol'], prominence=1)[0]]\n",
    "plt.plot(y['vel_x_savgol'])\n",
    "plt.plot(y.loc[i, 'vel_x_savgol'], 'r.', ms=20)\n",
    "plt.xlabel(\"Time [s]\")\n",
    "plt.ylabel(\"Speed [m/s]\")"
   ]
  },
  {
   "cell_type": "code",
   "execution_count": null,
   "metadata": {},
   "outputs": [],
   "source": [
    "def get_pars(vel_acc):\n",
    "    if np.max(np.abs(np.diff(vel_acc['vel_x']))) > 1.5:\n",
    "        return np.zeros((0, 4))\n",
    "    \n",
    "    data = vel_acc.copy()\n",
    "    i = data.index[scipy.signal.find_peaks(-data['vel_x_savgol'], prominence=1)[0]]\n",
    "    data['endspeed'] = np.nan\n",
    "    data['endtime'] = np.nan\n",
    "    data.loc[i, 'endspeed'] = data.loc[i, 'vel_x_savgol']\n",
    "    data.loc[i, 'endtime'] = i\n",
    "    data = data.fillna(method='backfill')\n",
    "    data = data.dropna()\n",
    "\n",
    "    data['duration'] = (data['endtime'] - data.index) / 10\n",
    "    data['vdiff'] = data['endspeed'] - data['vel_x_savgol']\n",
    "    data['amean'] = data['vdiff'] / data['duration']\n",
    "    data = data.drop(i)\n",
    "    return data[['vel_x', 'acc_x_savgol', 'vdiff', 'amean']].values[::10]"
   ]
  },
  {
   "cell_type": "code",
   "execution_count": null,
   "metadata": {},
   "outputs": [],
   "source": [
    "filename_kde = os.path.join(\"data\", \"6_kde\", \"NGSIM_lead_interaction.p\")\n",
    "overwrite = False\n",
    "if overwrite or not os.path.exists(filename_kde):\n",
    "    parameters = [get_pars(load_interaction(file)['vehicle_front']) for file in files]\n",
    "    kde = KDE(np.concatenate(parameters), scaling=True)\n",
    "    kde.clustering(kde._maxdist()*2)\n",
    "    kde.compute_bandwidth()\n",
    "    print(\"Bandwidth: {:.4f}\".format(kde.bandwidth))\n",
    "    kde.pickle(filename_kde)\n",
    "else:\n",
    "    kde = kde_from_file(filename_kde)"
   ]
  },
  {
   "cell_type": "markdown",
   "metadata": {},
   "source": [
    "# Simulation"
   ]
  },
  {
   "cell_type": "code",
   "execution_count": null,
   "metadata": {},
   "outputs": [],
   "source": [
    "def leader_parameters(**kwargs):\n",
    "    return LeaderInteractionParameters(init_position=kwargs[\"gap\"],\n",
    "                                       init_speed=kwargs[\"v0_lead\"],\n",
    "                                       init_acceleration=kwargs[\"a0_lead\"],\n",
    "                                       speed_difference=kwargs[\"dv\"],\n",
    "                                       duration=kwargs[\"duration\"])"
   ]
  },
  {
   "cell_type": "code",
   "execution_count": null,
   "metadata": {},
   "outputs": [],
   "source": [
    "def follower_parameters(**kwargs):\n",
    "    return IDMParameters(amin=kwargs[\"amin\"],\n",
    "                         speed=kwargs[\"v0_host\"],\n",
    "                         n_reaction=int(kwargs[\"tr\"]*100),\n",
    "                         init_speed=kwargs[\"v0_host\"],\n",
    "                         init_position=0)"
   ]
  },
  {
   "cell_type": "code",
   "execution_count": null,
   "metadata": {},
   "outputs": [],
   "source": [
    "s = SimulationLongitudinal(LeaderInteraction(), leader_parameters, IDMPlus(), follower_parameters)\n",
    "s.min_simulation_time = 2"
   ]
  },
  {
   "cell_type": "code",
   "execution_count": null,
   "metadata": {},
   "outputs": [],
   "source": [
    "s.simulation(dict(gap=100, v0_lead=0, a0_lead=-3, dv=0, duration=5, v0_host=30, amin=-8, tr=1),\n",
    "             plot=True)"
   ]
  },
  {
   "cell_type": "markdown",
   "metadata": {},
   "source": [
    "# Multiple simulations"
   ]
  },
  {
   "cell_type": "code",
   "execution_count": null,
   "metadata": {},
   "outputs": [],
   "source": [
    "def get_other_pars(**kwargs):\n",
    "    # Get the speed difference and the mean acceleration from the KDE.\n",
    "    while True:\n",
    "        (kwargs[\"dv\"], kwargs[\"amean\"]), = kde.conditional_sample([0, 1], [kwargs[\"v0_lead\"], \n",
    "                                                                           kwargs[\"a0_lead\"]])\n",
    "        if np.sign(kwargs[\"dv\"]) == np.sign(kwargs[\"amean\"]):\n",
    "            break\n",
    "    kwargs[\"duration\"] = kwargs[\"dv\"] / kwargs[\"amean\"]\n",
    "    \n",
    "    # Get reaction time from a lognormal distribution with mean=.92, std=0.28\n",
    "    kwargs[\"tr\"] = np.random.lognormal(np.log(.92), .28)\n",
    "    \n",
    "    # Get the braking capacity from a truncated normal distribution\n",
    "    while True:\n",
    "        kwargs[\"amin\"] = np.random.normal(-9.7, 1.3)\n",
    "        if -12.7 < kwargs[\"amin\"] < -4.2:\n",
    "            break\n",
    "    \n",
    "    return kwargs"
   ]
  },
  {
   "cell_type": "code",
   "execution_count": null,
   "metadata": {},
   "outputs": [],
   "source": [
    "def get_probability(**kwargs):\n",
    "    min_sim = 10\n",
    "    max_sim = 100\n",
    "    results = np.zeros(max_sim)\n",
    "    for i in range(max_sim):\n",
    "        parameters = get_other_pars(**kwargs)\n",
    "        results[i] = s.simulation(parameters)\n",
    "        \n",
    "        if i+1 >= min_sim:\n",
    "            kde_result = KDE(results[:i+1], scaling=True)\n",
    "            kde_result.compute_bandwidth()\n",
    "            cdf_zero = kde_result.cdf(np.array([0.0]))[0]\n",
    "            if np.sqrt(cdf_zero*(1-cdf_zero)/(i+1)) < 0.01:\n",
    "                break\n",
    "    return cdf_zero"
   ]
  },
  {
   "cell_type": "code",
   "execution_count": null,
   "metadata": {},
   "outputs": [],
   "source": [
    "get_probability(v0_lead=10, a0_lead=0, gap=20, v0_host=10)"
   ]
  },
  {
   "cell_type": "markdown",
   "metadata": {},
   "source": [
    "# Show probabilities depending on 1 variable"
   ]
  },
  {
   "cell_type": "code",
   "execution_count": null,
   "metadata": {
    "scrolled": false
   },
   "outputs": [],
   "source": [
    "pars = dict(a0_lead=0, v0_host=20)\n",
    "v0_leads = [10, 15, 20]\n",
    "gaps = np.linspace(1, 25, 25)\n",
    "for v0_lead in v0_leads:\n",
    "    pars[\"v0_lead\"] = v0_lead\n",
    "    results = [get_probability(gap=gap, **pars) for gap in gaps]\n",
    "    plt.plot(gaps, results, label=\"$v_{0,\\mathrm{lead}}$=\"+\"{:.0f} km/h, \".format(pars[\"v0_lead\"]*3.6))\n",
    "plt.xlabel(\"Initial gap [m]\")\n",
    "plt.ylabel(\"Collision probability\")\n",
    "plt.title(\"$a_{0,\\mathrm{lead}}$=\" + \"{:.0f} m/s$^2$, \".format(pars[\"a0_lead\"]) +\n",
    "          \"$v_{0,\\mathrm{host}}$=\" + \"{:.0f} km/h\".format(pars[\"v0_host\"]*3.6))\n",
    "plt.legend()"
   ]
  },
  {
   "cell_type": "markdown",
   "metadata": {},
   "source": [
    "# Create grid to evaluate the collision probability\n",
    "\n",
    "The parameters are:\n",
    "\n",
    "- `v0_lead`: The lead speed at $t=0$;\n",
    "- `a0_lead`: The lead acceleration at $t=0$;\n",
    "- `v0_host`: The host speed at $t=0$;\n",
    "- `loggap`: The log of the initial distance between the host and the leader."
   ]
  },
  {
   "cell_type": "code",
   "execution_count": null,
   "metadata": {},
   "outputs": [],
   "source": [
    "def grid_pars(interaction):\n",
    "    pars = pd.DataFrame(interaction[\"vehicle_front\"][[\"vel_x_savgol\", \"acc_x_savgol\"]].values,\n",
    "                        columns=[\"v0_lead\", \"a0_lead\"], index=interaction[\"vehicle_front\"].index)\n",
    "    pars[\"v0_host\"] = interaction[\"vehicle_rear\"][\"vel_x_savgol\"]\n",
    "    pars[\"loggap\"] = np.log(interaction[\"interaction\"][\"relative_distance\"])\n",
    "    return pars"
   ]
  },
  {
   "cell_type": "code",
   "execution_count": null,
   "metadata": {},
   "outputs": [],
   "source": [
    "filename = os.path.join(\"data\", \"7_simulation_results\", \"prob_collision.csv\")\n",
    "overwrite = False\n",
    "if overwrite or not os.path.exists(filename):\n",
    "    parameters = np.concatenate([grid_pars(load_interaction(file)) for file in files])\n",
    "    grid = parameters.copy()\n",
    "    scaling = [2, .5, 2, .25]\n",
    "    grid[:, 0] = np.clip(grid[:, 0], 0, 26)\n",
    "    grid[:, 1] = np.clip(grid[:, 1], -5, 5)\n",
    "    grid[:, 2] = np.clip(grid[:, 2], 0, 26)\n",
    "    grid[:, 3] = np.clip(grid[:, 3], 0, 5)\n",
    "    grid = np.round(grid / scaling)\n",
    "    grid = np.unique(grid, axis=0)\n",
    "    grid = grid * scaling\n",
    "else:\n",
    "    df = pd.read_csv(filename)\n",
    "    grid = df[[\"v0_lead\", \"a0_lead\", \"v0_host\", \"loggap\"]].values"
   ]
  },
  {
   "cell_type": "markdown",
   "metadata": {},
   "source": [
    "# Evaluate collision probability for grid"
   ]
  },
  {
   "cell_type": "code",
   "execution_count": null,
   "metadata": {},
   "outputs": [],
   "source": [
    "def get_probability_grid_pars(row):\n",
    "    return get_probability(v0_lead=row[0], a0_lead=row[1],\n",
    "                           v0_host=row[2], gap=np.exp(row[3]))"
   ]
  },
  {
   "cell_type": "code",
   "execution_count": null,
   "metadata": {},
   "outputs": [],
   "source": [
    "if overwrite or not os.path.exists(filename):\n",
    "    prob_collision = [get_probability_grid_pars(row) for row in tqdm(grid)]\n",
    "    df = pd.DataFrame(grid, columns=(\"v0_lead\", \"a0_lead\", \"v0_host\", \"loggap\"))\n",
    "    df[\"prob_collision\"] = prob_collision\n",
    "    df.to_csv(filename)\n",
    "else:\n",
    "    prob_collision = df[\"prob_collision\"].values"
   ]
  },
  {
   "cell_type": "markdown",
   "metadata": {},
   "source": [
    "# Interpolate collision probability for an interaction"
   ]
  },
  {
   "cell_type": "code",
   "execution_count": null,
   "metadata": {},
   "outputs": [],
   "source": [
    "scaling = np.std(grid, axis=0)\n",
    "grid_scaled = grid / scaling"
   ]
  },
  {
   "cell_type": "code",
   "execution_count": null,
   "metadata": {},
   "outputs": [],
   "source": [
    "def prob_interaction(interaction):\n",
    "    scaled_parameters = grid_pars(interaction) / scaling\n",
    "    sq_distance = dist.cdist(grid_scaled, scaled_parameters, metric='sqeuclidean')\n",
    "    weights = np.exp(-sq_distance / 2 / (0.3**2))  # Bandwidth of .3\n",
    "    probability = np.dot(prob_collision, weights) / np.sum(weights, axis=0)\n",
    "    return probability"
   ]
  },
  {
   "cell_type": "code",
   "execution_count": null,
   "metadata": {},
   "outputs": [],
   "source": [
    "for file in tqdm(files):\n",
    "    interaction = load_interaction(file)\n",
    "    interaction[\"interaction\"][\"prob_collision\"] = prob_interaction(interaction)\n",
    "    save_interaction(interaction)"
   ]
  },
  {
   "cell_type": "code",
   "execution_count": null,
   "metadata": {},
   "outputs": [],
   "source": []
  },
  {
   "cell_type": "code",
   "execution_count": null,
   "metadata": {},
   "outputs": [],
   "source": []
  },
  {
   "cell_type": "code",
   "execution_count": null,
   "metadata": {},
   "outputs": [],
   "source": []
  },
  {
   "cell_type": "code",
   "execution_count": null,
   "metadata": {},
   "outputs": [],
   "source": []
  },
  {
   "cell_type": "code",
   "execution_count": null,
   "metadata": {},
   "outputs": [],
   "source": []
  },
  {
   "cell_type": "code",
   "execution_count": null,
   "metadata": {},
   "outputs": [],
   "source": []
  },
  {
   "cell_type": "code",
   "execution_count": null,
   "metadata": {},
   "outputs": [],
   "source": []
  }
 ],
 "metadata": {
  "kernelspec": {
   "display_name": "Python 3",
   "language": "python",
   "name": "python3"
  },
  "language_info": {
   "codemirror_mode": {
    "name": "ipython",
    "version": 3
   },
   "file_extension": ".py",
   "mimetype": "text/x-python",
   "name": "python",
   "nbconvert_exporter": "python",
   "pygments_lexer": "ipython3",
   "version": "3.7.3"
  }
 },
 "nbformat": 4,
 "nbformat_minor": 2
}
