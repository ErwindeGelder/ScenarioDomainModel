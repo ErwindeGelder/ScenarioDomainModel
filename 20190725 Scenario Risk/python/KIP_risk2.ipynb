{
 "cells": [
  {
   "cell_type": "code",
   "execution_count": null,
   "metadata": {},
   "outputs": [],
   "source": [
    "from glob import glob\n",
    "import os\n",
    "import matplotlib.pyplot as plt\n",
    "import numpy as np\n",
    "from tqdm import tqdm\n",
    "from simulation import SimulationLeadInteraction\n",
    "from load_interactions import load_interaction\n",
    "%matplotlib inline"
   ]
  },
  {
   "cell_type": "code",
   "execution_count": null,
   "metadata": {},
   "outputs": [],
   "source": [
    "files = glob(os.path.join(\"data\", \"8_interactions\", \"*.hdf5\"))"
   ]
  },
  {
   "cell_type": "code",
   "execution_count": null,
   "metadata": {},
   "outputs": [],
   "source": [
    "x = load_interaction(files[0])"
   ]
  },
  {
   "cell_type": "code",
   "execution_count": null,
   "metadata": {},
   "outputs": [],
   "source": [
    "def get_pars(vel_acc):\n",
    "    end_v = vel_acc['vel_x'].iat[-1]\n",
    "    end_frame = vel_acc.index[-1]\n",
    "    vel_acc = vel_acc.drop_duplicates()\n",
    "    duration = (end_frame - vel_acc.index) / 10\n",
    "    velocity = vel_acc[\"vel_x\"].iloc[:-1].values\n",
    "    reduction = velocity - vel_acc[\"vel_x\"].iat[-1]\n",
    "    dmean = reduction / duration[:-1]\n",
    "    acceleration = vel_acc[\"acc_x\"].iloc[:-1].values\n",
    "    return np.array([velocity, acceleration, reduction, dmean]).T\n",
    "\n",
    "y = x['vehicle_front'][['vel_x', 'acc_x']].iloc[10:72]\n",
    "z = get_pars(y)"
   ]
  },
  {
   "cell_type": "code",
   "execution_count": null,
   "metadata": {},
   "outputs": [],
   "source": [
    "z"
   ]
  },
  {
   "cell_type": "code",
   "execution_count": null,
   "metadata": {},
   "outputs": [],
   "source": [
    "plt.plot(x['vehicle_front']['acc_x'], label=\"Acceleration\")\n",
    "plt.plot(x['vehicle_front'].index, np.gradient(x['vehicle_front']['vel_x'])*10, \n",
    "         label=\"Speed difference\")\n",
    "plt.xlabel(\"Time [s]\")\n",
    "plt.ylabel(\"Acceleration x [m/s$^2$]\")\n",
    "plt.legend()"
   ]
  },
  {
   "cell_type": "code",
   "execution_count": null,
   "metadata": {},
   "outputs": [],
   "source": [
    "plt.plot(x['vehicle_front']['vel_x'])\n",
    "plt.xlabel(\"Time [s]\")\n",
    "plt.ylabel(\"Velocity x [m/s]\")"
   ]
  },
  {
   "cell_type": "code",
   "execution_count": null,
   "metadata": {},
   "outputs": [],
   "source": []
  }
 ],
 "metadata": {
  "kernelspec": {
   "display_name": "Python 3",
   "language": "python",
   "name": "python3"
  },
  "language_info": {
   "codemirror_mode": {
    "name": "ipython",
    "version": 3
   },
   "file_extension": ".py",
   "mimetype": "text/x-python",
   "name": "python",
   "nbconvert_exporter": "python",
   "pygments_lexer": "ipython3",
   "version": "3.7.3"
  }
 },
 "nbformat": 4,
 "nbformat_minor": 2
}
