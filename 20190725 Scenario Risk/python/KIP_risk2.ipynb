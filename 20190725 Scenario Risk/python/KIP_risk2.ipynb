{
 "cells": [
  {
   "cell_type": "code",
   "execution_count": null,
   "metadata": {},
   "outputs": [],
   "source": [
    "import os\n",
    "import matplotlib.pyplot as plt\n",
    "import multiprocessing as mp\n",
    "import numpy as np\n",
    "import pandas as pd\n",
    "import pickle\n",
    "import scipy.signal\n",
    "import scipy.spatial.distance as dist\n",
    "from tqdm import tqdm\n",
    "from simulation import SimulationLongitudinal, LeaderInteraction, LeaderInteractionParameters, \\\n",
    "    IDMPlus, IDMParameters, WangStamatiadis\n",
    "from load_interactions import load_interaction, save_interaction\n",
    "from stats import KDE, kde_from_file\n",
    "%matplotlib inline"
   ]
  },
  {
   "cell_type": "markdown",
   "metadata": {},
   "source": [
    "# Estimate probability density function"
   ]
  },
  {
   "cell_type": "code",
   "execution_count": null,
   "metadata": {},
   "outputs": [],
   "source": [
    "# Load data.\n",
    "filename = os.path.join(\"data\", \"8_interactions_v3\", \"interactions_wi10.pkl\")\n",
    "with open(filename, 'rb') as file:\n",
    "    all_interactions = pickle.load(file)\n",
    "locations = sorted(all_interactions.keys())"
   ]
  },
  {
   "cell_type": "code",
   "execution_count": null,
   "metadata": {},
   "outputs": [],
   "source": [
    "# Filter for speed and acceleration\n",
    "def filter_signal(signal):\n",
    "    return scipy.signal.savgol_filter(signal, 15, 1)"
   ]
  },
  {
   "cell_type": "code",
   "execution_count": null,
   "metadata": {
    "scrolled": true
   },
   "outputs": [],
   "source": [
    "# Show example\n",
    "y = all_interactions[locations[0]][sorted(all_interactions[locations[0]].keys())[3]]['leader']\n",
    "y['vx_savgol'] = filter_signal(y[\"Velocity_X\"])\n",
    "i = y.index[scipy.signal.find_peaks(-y['vx_savgol'], prominence=1)[0]]\n",
    "plt.plot(y['vx_savgol'])\n",
    "plt.plot(y.loc[i, 'vx_savgol'], 'r.', ms=20)\n",
    "plt.xlabel(\"Time [s]\")\n",
    "plt.ylabel(\"Speed [m/s]\")"
   ]
  },
  {
   "cell_type": "code",
   "execution_count": null,
   "metadata": {},
   "outputs": [],
   "source": [
    "def get_pars(vel_acc):\n",
    "    if len(vel_acc) < 15:\n",
    "        return np.zeros((0, 4))\n",
    "    if np.max(np.abs(np.diff(vel_acc['Velocity_X']))) > 1.5:\n",
    "        return np.zeros((0, 4))\n",
    "    \n",
    "    data = vel_acc.copy()\n",
    "    data['ax_savgol'] = filter_signal(data[\"Acceleration_X\"])\n",
    "    data['vx_savgol'] = filter_signal(data[\"Velocity_X\"])\n",
    "    i = data.index[scipy.signal.find_peaks(-data['vx_savgol'], prominence=1)[0]]\n",
    "    data['endspeed'] = np.nan\n",
    "    data['endtime'] = np.nan\n",
    "    data.loc[i, 'endspeed'] = data.loc[i, 'vx_savgol']\n",
    "    data.loc[i, 'endtime'] = i\n",
    "    data = data.fillna(method='backfill')\n",
    "    data = data.dropna()\n",
    "\n",
    "    data['duration'] = data['endtime'] - data.index\n",
    "    data['vdiff'] = data['endspeed'] - data['vx_savgol']\n",
    "    data['amean'] = data['vdiff'] / data['duration']\n",
    "    data = data.drop(i)\n",
    "    return data[['vx_savgol', 'ax_savgol', 'vdiff', 'amean']].values[::10]"
   ]
  },
  {
   "cell_type": "code",
   "execution_count": null,
   "metadata": {},
   "outputs": [],
   "source": [
    "filename_kde = os.path.join(\"data\", \"6_kde\", \"NGSIM_lead_interaction2.p\")\n",
    "overwrite = False\n",
    "if overwrite or not os.path.exists(filename_kde):\n",
    "    parameters = []\n",
    "    for location in locations:\n",
    "        parameters += [get_pars(interaction['leader']) for interaction in \n",
    "                       all_interactions[location].values()]\n",
    "    kde = KDE(np.concatenate(parameters), scaling=True)\n",
    "    kde.clustering(kde._maxdist()*5)\n",
    "    kde.compute_bandwidth()\n",
    "    print(\"Bandwidth: {:.4f}\".format(kde.bandwidth))\n",
    "    kde.pickle(filename_kde)\n",
    "else:\n",
    "    kde = kde_from_file(filename_kde)"
   ]
  },
  {
   "cell_type": "code",
   "execution_count": null,
   "metadata": {},
   "outputs": [],
   "source": [
    "def plot_data(i, j):\n",
    "    labels = ['Lead speed [m/s]', 'Lead acceleration [m/s$^2$]', \n",
    "              'Speed difference [m/s]', 'Mean acceleration [m/s$^2$]']\n",
    "    data = kde.data[:, [i, j]]\n",
    "    udata = np.unique(data, axis=0)\n",
    "    counts = [np.sum(kde.data_helpers.weights[np.where(np.all(data == udata[i], axis=1))])\n",
    "              for i in range(len(udata))]\n",
    "    udata[:, 0] = udata[:, 0]*kde.data_helpers.std[i]\n",
    "    udata[:, 1] = udata[:, 1]*kde.data_helpers.std[j]\n",
    "    f, ax = plt.subplots(figsize=(8, 6))\n",
    "    cs = ax.scatter(udata[:, 0], udata[:, 1], c=np.log(counts))\n",
    "    ax.set_xlabel(labels[i])\n",
    "    ax.set_ylabel(labels[j])\n",
    "    cbar = f.colorbar(cs)\n",
    "    cbar.set_label(\"log $n$\")\n",
    "plot_data(0, 1)"
   ]
  },
  {
   "cell_type": "code",
   "execution_count": null,
   "metadata": {},
   "outputs": [],
   "source": [
    "plot_data(2, 3)"
   ]
  },
  {
   "cell_type": "markdown",
   "metadata": {},
   "source": [
    "# Simulation"
   ]
  },
  {
   "cell_type": "code",
   "execution_count": null,
   "metadata": {},
   "outputs": [],
   "source": [
    "def leader_parameters(**kwargs):\n",
    "    return LeaderInteractionParameters(init_position=kwargs[\"gap\"],\n",
    "                                       init_speed=kwargs[\"v0_lead\"],\n",
    "                                       init_acceleration=kwargs[\"a0_lead\"],\n",
    "                                       speed_difference=kwargs[\"dv\"],\n",
    "                                       duration=kwargs[\"duration\"])"
   ]
  },
  {
   "cell_type": "code",
   "execution_count": null,
   "metadata": {},
   "outputs": [],
   "source": [
    "def follower_parameters(**kwargs):\n",
    "    return IDMParameters(amin=kwargs[\"amin\"],\n",
    "                         speed=kwargs[\"v0_host\"],\n",
    "                         n_reaction=int(kwargs[\"tr\"]*100),\n",
    "                         init_speed=kwargs[\"v0_host\"],\n",
    "                         init_position=0)"
   ]
  },
  {
   "cell_type": "code",
   "execution_count": null,
   "metadata": {},
   "outputs": [],
   "source": [
    "s = SimulationLongitudinal(LeaderInteraction(), leader_parameters, IDMPlus(), follower_parameters)\n",
    "s.min_simulation_time = 2"
   ]
  },
  {
   "cell_type": "code",
   "execution_count": null,
   "metadata": {},
   "outputs": [],
   "source": [
    "s.simulation(dict(gap=30, v0_lead=20, a0_lead=-1, dv=-10, duration=5, v0_host=25, amin=-8, tr=1),\n",
    "             plot=True)"
   ]
  },
  {
   "cell_type": "markdown",
   "metadata": {},
   "source": [
    "# Multiple simulations"
   ]
  },
  {
   "cell_type": "code",
   "execution_count": null,
   "metadata": {},
   "outputs": [],
   "source": [
    "def get_other_pars(**kwargs):\n",
    "    # Get the speed difference and the mean acceleration from the KDE.\n",
    "    while True:\n",
    "        (kwargs[\"dv\"], kwargs[\"amean\"]), = kde.conditional_sample([0, 1], [kwargs[\"v0_lead\"], \n",
    "                                                                           kwargs[\"a0_lead\"]])\n",
    "        if np.sign(kwargs[\"dv\"]) == np.sign(kwargs[\"amean\"]):\n",
    "            break\n",
    "    kwargs[\"duration\"] = kwargs[\"dv\"] / kwargs[\"amean\"]\n",
    "    \n",
    "    # Get reaction time from a lognormal distribution with mean=.92, std=0.28\n",
    "    kwargs[\"tr\"] = np.random.lognormal(np.log(.92), .28)\n",
    "    \n",
    "    # Get the braking capacity from a truncated normal distribution\n",
    "    while True:\n",
    "        kwargs[\"amin\"] = np.random.normal(-9.7, 1.3)\n",
    "        if -12.7 < kwargs[\"amin\"] < -4.2:\n",
    "            break\n",
    "    \n",
    "    return kwargs"
   ]
  },
  {
   "cell_type": "code",
   "execution_count": null,
   "metadata": {},
   "outputs": [],
   "source": [
    "def get_probability(**kwargs):\n",
    "    # If the host speed is zero, always return 0.0\n",
    "    if \"v0_host\" in kwargs:\n",
    "        if kwargs[\"v0_host\"] <= 0.0:\n",
    "            return 0.0\n",
    "    \n",
    "    min_sim = 10\n",
    "    max_sim = 100\n",
    "    results = np.zeros(max_sim)\n",
    "    for i in range(max_sim):\n",
    "        parameters = get_other_pars(**kwargs)\n",
    "        results[i] = s.simulation(parameters)\n",
    "        \n",
    "        if i+1 >= min_sim:\n",
    "            # If results are all the same, return either 0.0 or 1.0\n",
    "            if np.std(results[:i+1]) < 1e-8:\n",
    "                if results[0] > 0.0:\n",
    "                    return 0.0\n",
    "                return 1.0\n",
    "            \n",
    "            kde_result = KDE(results[:i+1], scaling=True)\n",
    "            kde_result.compute_bandwidth()\n",
    "            cdf_zero = kde_result.cdf(np.array([0.0]))[0]\n",
    "            if np.sqrt(cdf_zero*(1-cdf_zero)/(i+1)) < 0.01:\n",
    "                break\n",
    "    return cdf_zero"
   ]
  },
  {
   "cell_type": "markdown",
   "metadata": {},
   "source": [
    "# Show probabilities depending on 1 variable"
   ]
  },
  {
   "cell_type": "code",
   "execution_count": null,
   "metadata": {
    "scrolled": false
   },
   "outputs": [],
   "source": [
    "pars = dict(a0_lead=0, v0_host=20)\n",
    "v0_leads = [10, 15, 20]\n",
    "gaps = np.linspace(1, 25, 25)\n",
    "for v0_lead in v0_leads:\n",
    "    pars[\"v0_lead\"] = v0_lead\n",
    "    results = [get_probability(gap=gap, **pars) for gap in gaps]\n",
    "    plt.plot(gaps, results, label=\"$v_{0,\\mathrm{lead}}$=\"+\"{:.0f} km/h, \".format(pars[\"v0_lead\"]*3.6))\n",
    "plt.xlabel(\"Initial gap [m]\")\n",
    "plt.ylabel(\"Collision probability\")\n",
    "plt.title(\"$a_{0,\\mathrm{lead}}$=\" + \"{:.0f} m/s$^2$, \".format(pars[\"a0_lead\"]) +\n",
    "          \"$v_{0,\\mathrm{host}}$=\" + \"{:.0f} km/h\".format(pars[\"v0_host\"]*3.6))\n",
    "plt.legend()"
   ]
  },
  {
   "cell_type": "markdown",
   "metadata": {},
   "source": [
    "# Create grid to evaluate the collision probability\n",
    "\n",
    "The parameters are:\n",
    "\n",
    "- `v0_lead`: The lead speed at $t=0$;\n",
    "- `a0_lead`: The lead acceleration at $t=0$;\n",
    "- `v0_host`: The host speed at $t=0$;\n",
    "- `loggap`: The log of the initial distance between the host and the leader."
   ]
  },
  {
   "cell_type": "code",
   "execution_count": null,
   "metadata": {},
   "outputs": [],
   "source": [
    "def grid_pars(interaction):\n",
    "    if len(interaction['leader']) < 15:\n",
    "        return np.zeros((0, 4))\n",
    "    interaction['leader']['ax_savgol'] = filter_signal(interaction['leader'][\"Acceleration_X\"])\n",
    "    interaction['leader']['vx_savgol'] = filter_signal(interaction['leader'][\"Velocity_X\"])\n",
    "    pars = pd.DataFrame(interaction[\"leader\"][[\"vx_savgol\", \"ax_savgol\"]].values,\n",
    "                        columns=[\"v0_lead\", \"a0_lead\"], index=interaction[\"leader\"].index)\n",
    "    interaction['follower']['vx_savgol'] = filter_signal(interaction['follower'][\"Velocity_X\"])\n",
    "    pars[\"v0_host\"] = interaction[\"follower\"][\"vx_savgol\"]\n",
    "    pars[\"loggap\"] = np.log(interaction[\"leader\"][\"Position_X\"] - \n",
    "                            interaction[\"follower\"][\"Position_X\"])\n",
    "    return pars"
   ]
  },
  {
   "cell_type": "code",
   "execution_count": null,
   "metadata": {},
   "outputs": [],
   "source": [
    "filename = os.path.join(\"data\", \"7_simulation_results\", \"prob_collision_v2.csv\")\n",
    "overwrite = True\n",
    "if overwrite or not os.path.exists(filename):\n",
    "    parameters = []\n",
    "    for location in locations:\n",
    "        parameters += [grid_pars(interaction) for interaction in \n",
    "                       all_interactions[location].values()]\n",
    "    parameters = np.concatenate(parameters)\n",
    "    \n",
    "    grid = parameters.copy()\n",
    "    scaling = [2, .5, 2, .25]\n",
    "    grid[:, 0] = np.clip(grid[:, 0], 0, 26)\n",
    "    grid[:, 1] = np.clip(grid[:, 1], -5, 5)\n",
    "    grid[:, 2] = np.clip(grid[:, 2], 0, 26)\n",
    "    grid[:, 3] = np.clip(grid[:, 3], 0, 5)\n",
    "    grid = np.round(grid / scaling)\n",
    "    grid = np.unique(grid, axis=0)\n",
    "    grid = grid * scaling\n",
    "else:\n",
    "    df = pd.read_csv(filename)\n",
    "    grid = df[[\"v0_lead\", \"a0_lead\", \"v0_host\", \"loggap\"]].values"
   ]
  },
  {
   "cell_type": "markdown",
   "metadata": {},
   "source": [
    "# Evaluate collision probability for grid"
   ]
  },
  {
   "cell_type": "code",
   "execution_count": null,
   "metadata": {},
   "outputs": [],
   "source": [
    "def get_probability_grid_pars(row):\n",
    "    return get_probability(v0_lead=row[0], a0_lead=row[1],\n",
    "                           v0_host=row[2], gap=np.exp(row[3]))"
   ]
  },
  {
   "cell_type": "code",
   "execution_count": null,
   "metadata": {},
   "outputs": [],
   "source": [
    "if overwrite or not os.path.exists(filename):\n",
    "    prob_collision = [get_probability_grid_pars(row) for row in tqdm(grid)]\n",
    "    df = pd.DataFrame(grid, columns=(\"v0_lead\", \"a0_lead\", \"v0_host\", \"loggap\"))\n",
    "    df[\"prob_collision\"] = prob_collision\n",
    "    df.to_csv(filename)\n",
    "else:\n",
    "    prob_collision = df[\"prob_collision\"].values"
   ]
  },
  {
   "cell_type": "markdown",
   "metadata": {},
   "source": [
    "# Interpolate collision probability for an interaction"
   ]
  },
  {
   "cell_type": "code",
   "execution_count": null,
   "metadata": {},
   "outputs": [],
   "source": [
    "scaling = np.std(grid, axis=0)\n",
    "grid_scaled = grid / scaling"
   ]
  },
  {
   "cell_type": "code",
   "execution_count": null,
   "metadata": {},
   "outputs": [],
   "source": [
    "def prob_interaction(interaction):\n",
    "    scaled_parameters = grid_pars(interaction) / scaling\n",
    "    if scaled_parameters.size == 0:\n",
    "        return\n",
    "    sq_distance = dist.cdist(grid_scaled, scaled_parameters.loc[interaction['scores'].index], \n",
    "                             metric='sqeuclidean')\n",
    "    weights = np.exp(-sq_distance / 2 / (0.3**2))  # Bandwidth of .3\n",
    "    probability = np.dot(prob_collision, weights) / np.sum(weights, axis=0)\n",
    "    return probability"
   ]
  },
  {
   "cell_type": "code",
   "execution_count": null,
   "metadata": {
    "scrolled": true
   },
   "outputs": [],
   "source": [
    "for location in locations:\n",
    "    for interaction in all_interactions[location].values():\n",
    "        if \"scores\" not in interaction:\n",
    "            continue\n",
    "        probs = prob_interaction(interaction)\n",
    "        if probs is not None:\n",
    "            interaction['scores'][\"prob_collision\"] = probs"
   ]
  },
  {
   "cell_type": "code",
   "execution_count": null,
   "metadata": {},
   "outputs": [],
   "source": [
    "i = 0\n",
    "keys = sorted(all_interactions[locations[i]].keys())\n",
    "maxx = 0\n",
    "for j in range(len(keys)):\n",
    "    interaction = all_interactions[locations[i]][keys[j]]\n",
    "    if \"scores\" not in interaction:\n",
    "        continue\n",
    "    if \"prob_collision\" not in interaction[\"scores\"]:\n",
    "        continue\n",
    "    if np.max(interaction[\"scores\"][\"prob_collision\"]) > .3:\n",
    "        maxx = np.max(interaction[\"scores\"][\"prob_collision\"])\n",
    "        print(j, maxx, len(interaction[\"scores\"]))"
   ]
  },
  {
   "cell_type": "code",
   "execution_count": null,
   "metadata": {},
   "outputs": [],
   "source": [
    "i = 0\n",
    "j = 1199\n",
    "keys = sorted(all_interactions[locations[i]].keys())\n",
    "interaction = all_interactions[locations[i]][keys[j]]\n",
    "plt.plot(interaction[\"scores\"][\"prob_collision\"], label=\"$P(C|x)$\")\n",
    "plt.plot(interaction[\"scores\"][\"Anomaly_Reconstruction\"], label=\"Anomaly\")\n",
    "plt.xlabel(\"Time [s]\")\n",
    "plt.ylabel(\"Score\")\n",
    "plt.legend()"
   ]
  },
  {
   "cell_type": "markdown",
   "metadata": {},
   "source": [
    "# Recalculate THW and TTC"
   ]
  },
  {
   "cell_type": "code",
   "execution_count": null,
   "metadata": {},
   "outputs": [],
   "source": [
    "interaction[\"leader\"].keys()"
   ]
  },
  {
   "cell_type": "code",
   "execution_count": null,
   "metadata": {},
   "outputs": [],
   "source": [
    "for location in locations:\n",
    "    for interaction in all_interactions[location].values():\n",
    "        if \"scores\" not in interaction:\n",
    "            continue\n",
    "        lead_speed = interaction[\"leader\"].loc[interaction[\"scores\"].index, \"Velocity_X\"]\n",
    "        follow_speed = interaction[\"follower\"].loc[interaction[\"scores\"].index, \"Velocity_X\"]\n",
    "        lead_x = interaction[\"leader\"].loc[interaction[\"scores\"].index, \"Position_X\"]\n",
    "        follow_x = interaction[\"follower\"].loc[interaction[\"scores\"].index, \"Position_X\"]\n",
    "        ttc = (lead_x - follow_x) / (lead_speed - follow_speed)\n",
    "        ttc[ttc < 0] = 20\n",
    "        ttc[ttc > 20] = 20\n",
    "        interaction[\"scores\"][\"TTC2\"] = ttc\n",
    "        interaction[\"scores\"][\"THW2\"] = np.abs((lead_x - follow_x) / lead_speed)\n",
    "        if \"vx_savgol\" not in interaction[\"follower\"]:\n",
    "            continue\n",
    "        lead_speed = interaction[\"leader\"].loc[interaction[\"scores\"].index, \"vx_savgol\"]\n",
    "        follow_speed = interaction[\"follower\"].loc[interaction[\"scores\"].index, \"vx_savgol\"]\n",
    "        ttc = (lead_x - follow_x) / (lead_speed - follow_speed)\n",
    "        ttc[ttc < 0] = 20\n",
    "        ttc[ttc > 20] = 20\n",
    "        interaction[\"scores\"][\"TTC2_filtered\"] = ttc\n",
    "        interaction[\"scores\"][\"THW2_filtered\"] = np.abs((lead_x - follow_x) / lead_speed)"
   ]
  },
  {
   "cell_type": "markdown",
   "metadata": {},
   "source": [
    "# Add Wang-Stamatiadis score"
   ]
  },
  {
   "cell_type": "code",
   "execution_count": null,
   "metadata": {},
   "outputs": [],
   "source": [
    "WS = WangStamatiadis()"
   ]
  },
  {
   "cell_type": "code",
   "execution_count": null,
   "metadata": {},
   "outputs": [],
   "source": [
    "for location in locations:\n",
    "    for interaction in all_interactions[location].values():\n",
    "        if \"scores\" not in interaction:\n",
    "            continue\n",
    "        interaction['scores'][\"CPM_TTC\"] = interaction['scores']['TTC'].apply(WS.groupa)\n",
    "        interaction['scores'][\"CPM_TTC2\"] = interaction['scores']['TTC2'].apply(WS.groupa)\n",
    "        if \"vx_savgol\" in interaction[\"follower\"]:\n",
    "            interaction['scores'][\"CPM_TTC2_filtered\"] = \\\n",
    "                interaction['scores']['TTC2_filtered'].apply(WS.groupa)\n",
    "            interaction['scores']['CPM_WS'] = \\\n",
    "                [WS.prob_collision(ttc, vhost) for vhost, ttc in\n",
    "                 zip(interaction['follower'].loc[interaction['scores'].index, 'vx_savgol'].values -\n",
    "                     interaction['leader'].loc[interaction['scores'].index, 'vx_savgol'].values,\n",
    "                     interaction['scores']['TTC'].values)]\n",
    "            interaction['scores']['CPM_WS2'] = \\\n",
    "                [WS.prob_collision(ttc, vhost) for vhost, ttc in\n",
    "                 zip(interaction['follower'].loc[interaction['scores'].index, 'Velocity_X'].values -\n",
    "                     interaction['leader'].loc[interaction['scores'].index, 'Velocity_X'].values,\n",
    "                     interaction['scores']['TTC2'].values)]\n",
    "            interaction['scores']['CPM_WS2_filtered'] = \\\n",
    "                [WS.prob_collision(ttc, vhost) for vhost, ttc in\n",
    "                 zip(interaction['follower'].loc[interaction['scores'].index, 'vx_savgol'].values -\n",
    "                     interaction['leader'].loc[interaction['scores'].index, 'vx_savgol'].values,\n",
    "                     interaction['scores']['TTC2_filtered'].values)]"
   ]
  },
  {
   "cell_type": "code",
   "execution_count": null,
   "metadata": {
    "scrolled": true
   },
   "outputs": [],
   "source": [
    "i = 0\n",
    "keys = sorted(all_interactions[locations[i]].keys())\n",
    "maxx = 0\n",
    "for j in range(len(keys)):\n",
    "    interaction = all_interactions[locations[i]][keys[j]]\n",
    "    if \"scores\" not in interaction:\n",
    "        continue\n",
    "    if \"prob_collision\" not in interaction[\"scores\"]:\n",
    "        continue\n",
    "    if np.max(interaction[\"scores\"][\"CPM_TTC2\"]) > .3:\n",
    "        maxx = np.max(interaction[\"scores\"][\"CPM_TTC2\"])\n",
    "        print(j, maxx, len(interaction[\"scores\"]), np.max(interaction[\"scores\"][\"prob_collision\"]))"
   ]
  },
  {
   "cell_type": "code",
   "execution_count": null,
   "metadata": {},
   "outputs": [],
   "source": [
    "i = 0\n",
    "j = 899\n",
    "keys = sorted(all_interactions[locations[i]].keys())\n",
    "interaction = all_interactions[locations[i]][keys[j]]\n",
    "plt.plot(interaction[\"scores\"][\"prob_collision\"], label=\"$P(C|x)$\")\n",
    "plt.plot(interaction[\"scores\"][\"CPM_TTC2\"], label=\"WS\")\n",
    "plt.xlabel(\"Time [s]\")\n",
    "plt.ylabel(\"Score\")\n",
    "plt.legend()"
   ]
  },
  {
   "cell_type": "code",
   "execution_count": null,
   "metadata": {},
   "outputs": [],
   "source": [
    "interaction[\"scores\"].loc[interaction[\"scores\"][\"CPM_TTC2\"].idxmax()]"
   ]
  },
  {
   "cell_type": "markdown",
   "metadata": {},
   "source": [
    "# Save data"
   ]
  },
  {
   "cell_type": "code",
   "execution_count": null,
   "metadata": {},
   "outputs": [],
   "source": [
    "filename = os.path.join(\"data\", \"8_interactions_v3\", \"interactions_wi10.pkl\")\n",
    "with open(filename, 'wb') as file:\n",
    "    pickle.dump(all_interactions, file)"
   ]
  },
  {
   "cell_type": "markdown",
   "metadata": {},
   "source": [
    "# Aggregate all data for comparison"
   ]
  },
  {
   "cell_type": "code",
   "execution_count": null,
   "metadata": {},
   "outputs": [],
   "source": [
    "columns = ['TTC', 'CPM_TTC2', 'CPM_WS2', 'prob_collision', 'Anomaly_Reconstruction']\n",
    "scores = []\n",
    "for location in locations:\n",
    "    for interaction in all_interactions[location].values():\n",
    "        if \"scores\" not in interaction:\n",
    "            continue\n",
    "        if \"prob_collision\" not in interaction['scores']:\n",
    "            continue\n",
    "        scores.append(interaction['scores'][columns])"
   ]
  },
  {
   "cell_type": "code",
   "execution_count": null,
   "metadata": {},
   "outputs": [],
   "source": [
    "df_scores = pd.DataFrame(np.concatenate(scores), columns=columns)"
   ]
  },
  {
   "cell_type": "code",
   "execution_count": null,
   "metadata": {},
   "outputs": [],
   "source": [
    "# Plot the percentiles\n",
    "quantiles = df_scores.quantile(np.linspace(.99, 1, 50))\n",
    "quantiles[[\"CPM_TTC2\", \"CPM_WS2\", \"prob_collision\"]].plot()"
   ]
  },
  {
   "cell_type": "code",
   "execution_count": null,
   "metadata": {},
   "outputs": [],
   "source": [
    "plt.hist(df_scores[\"Anomaly_Reconstruction\"])"
   ]
  }
 ],
 "metadata": {
  "kernelspec": {
   "display_name": "Python 3",
   "language": "python",
   "name": "python3"
  },
  "language_info": {
   "codemirror_mode": {
    "name": "ipython",
    "version": 3
   },
   "file_extension": ".py",
   "mimetype": "text/x-python",
   "name": "python",
   "nbconvert_exporter": "python",
   "pygments_lexer": "ipython3",
   "version": "3.7.3"
  }
 },
 "nbformat": 4,
 "nbformat_minor": 2
}
