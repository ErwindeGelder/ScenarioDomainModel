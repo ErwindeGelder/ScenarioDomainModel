{
 "cells": [
  {
   "cell_type": "code",
   "execution_count": null,
   "metadata": {},
   "outputs": [],
   "source": [
    "from glob import glob\n",
    "import os\n",
    "import matplotlib.pyplot as plt\n",
    "import numpy as np\n",
    "import scipy.signal\n",
    "from tqdm import tqdm\n",
    "from simulation import SimulationLeadInteraction\n",
    "from load_interactions import load_interaction\n",
    "from stats import KDE\n",
    "%matplotlib inline"
   ]
  },
  {
   "cell_type": "code",
   "execution_count": null,
   "metadata": {},
   "outputs": [],
   "source": [
    "files = glob(os.path.join(\"data\", \"8_interactions\", \"*.hdf5\"))"
   ]
  },
  {
   "cell_type": "code",
   "execution_count": null,
   "metadata": {},
   "outputs": [],
   "source": [
    "x = load_interaction(files[0])"
   ]
  },
  {
   "cell_type": "code",
   "execution_count": null,
   "metadata": {},
   "outputs": [],
   "source": [
    "def get_pars(vel_acc):\n",
    "    if np.max(np.abs(np.diff(vel_acc['vel_x']))) > 1.5:\n",
    "        return np.zeros((0, 4))\n",
    "    \n",
    "    data = vel_acc.copy()\n",
    "    i = data.index[scipy.signal.find_peaks(-data['vel_x'], prominence=1)[0]]\n",
    "    data['endspeed'] = np.nan\n",
    "    data['endtime'] = np.nan\n",
    "    data.loc[i, 'endspeed'] = data.loc[i, 'vel_x']\n",
    "    data.loc[i, 'endtime'] = i\n",
    "    data = data.fillna(method='backfill')\n",
    "    data = data.dropna()\n",
    "\n",
    "    data['duration'] = (data['endtime'] - data.index) / 10\n",
    "    data['reduction'] = data['vel_x'] - data['endspeed']\n",
    "    data['dmean'] = data['reduction'] / data['duration']\n",
    "    data = data.drop(i)\n",
    "    return data[['vel_x', 'acc_x', 'reduction', 'dmean']].values[::10]"
   ]
  },
  {
   "cell_type": "code",
   "execution_count": null,
   "metadata": {},
   "outputs": [],
   "source": [
    "parameters = [get_pars(load_interaction(file)['vehicle_front']) for file in files[:100]]"
   ]
  },
  {
   "cell_type": "code",
   "execution_count": null,
   "metadata": {},
   "outputs": [],
   "source": [
    "kde = KDE(np.concatenate(parameters), scaling=True)\n",
    "kde.clustering()\n",
    "kde.compute_bandwidth()"
   ]
  },
  {
   "cell_type": "code",
   "execution_count": null,
   "metadata": {},
   "outputs": [],
   "source": [
    "pars = np.concatenate(parameters)"
   ]
  },
  {
   "cell_type": "code",
   "execution_count": null,
   "metadata": {},
   "outputs": [],
   "source": [
    "kde = KDE(pars, scaling=True)\n",
    "kde.clustering()\n",
    "kde.data.shape"
   ]
  },
  {
   "cell_type": "code",
   "execution_count": null,
   "metadata": {},
   "outputs": [],
   "source": [
    "kde.compute_bandwidth()"
   ]
  },
  {
   "cell_type": "code",
   "execution_count": null,
   "metadata": {},
   "outputs": [],
   "source": [
    "kde.bandwidth"
   ]
  },
  {
   "cell_type": "code",
   "execution_count": null,
   "metadata": {},
   "outputs": [],
   "source": []
  },
  {
   "cell_type": "code",
   "execution_count": null,
   "metadata": {},
   "outputs": [],
   "source": []
  },
  {
   "cell_type": "code",
   "execution_count": null,
   "metadata": {},
   "outputs": [],
   "source": []
  }
 ],
 "metadata": {
  "kernelspec": {
   "display_name": "Python 3",
   "language": "python",
   "name": "python3"
  },
  "language_info": {
   "codemirror_mode": {
    "name": "ipython",
    "version": 3
   },
   "file_extension": ".py",
   "mimetype": "text/x-python",
   "name": "python",
   "nbconvert_exporter": "python",
   "pygments_lexer": "ipython3",
   "version": "3.7.3"
  }
 },
 "nbformat": 4,
 "nbformat_minor": 2
}
