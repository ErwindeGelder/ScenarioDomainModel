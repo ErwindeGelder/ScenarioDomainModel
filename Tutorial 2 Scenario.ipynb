{
 "cells": [
  {
   "cell_type": "markdown",
   "metadata": {},
   "source": [
    "## Tutorial 2: Instatiating a *scenario*\n",
    "\n",
    "In this tutorial, we will cover the following items:\n",
    "\n",
    "1. Create *actors*, *activities*, *events*, and *static physical things*\n",
    "2. Instantiate a *scenario*\n",
    "3. Show all tags of the *scenario*\n",
    "4. Use the `comprises` function of a *scenario category*\n",
    "5. Export the objects"
   ]
  },
  {
   "cell_type": "code",
   "execution_count": null,
   "metadata": {},
   "outputs": [],
   "source": [
    "# Before starting, let us do the necessary imports\n",
    "from domain_model import Activity, Actor, ActorCategory, Scenario, \\\n",
    "    State, StateVariable, Tag, VehicleType"
   ]
  },
  {
   "cell_type": "markdown",
   "metadata": {},
   "source": [
    "## 1. Create *actors*, *activities*, *events*, and *static physical things*\n",
    "\n",
    "In this tutorial, we will create a *scenario* in which another vehicle changes lane such that it becomes the ego vehicle's leading vehicle. This is the quantitative counterpart of the *scenario category* that we created in the [previous tutorial](./Tutorial%201%20Scenario.ipynb). The *scenario* is depicted in the figure below. Here, the blue car represents the ego vehicle and the red car represents the vehicle that performs the cut in.\n",
    "\n",
    "<img src=\"./examples/images/cut-in.png\" alt=\"Cut in\" width=\"400\"/>\n",
    "\n",
    "Just as with a *scenario category*, we first need to create the components of a *scenario*. To create the *scenario*, we first need to create the *actors*, *activities*, *events*, and *static physical things*. Also, *dynamic physical things* could be part of a *scenario*, but for this tutorial, we do not consider *dynamic physical things* (other than the *actors*, which, technically speaking, are *dynamic physical things*). As we have already seen in the [previous tutorial](./Tutorial%201%20Scenario.ipynb), the objects have a `name`, a `uid` (a unique ID), and `tags`. Additionally, these quantitative building blocks contain a reference to their qualitative counterparts.\n",
    "\n",
    "Now let us create the *actors*. We need the qualitative counterparts, the *actor categories*, and we will use the *actor categories* from the [previous tutorial](./Tutorial%201%20Scenario.ipynb). Note that we can ignore the `uid` for now."
   ]
  },
  {
   "cell_type": "code",
   "execution_count": null,
   "metadata": {},
   "outputs": [],
   "source": [
    "# First create the actor categories\n",
    "EGO_VEHICLE_QUALITATIVE = ActorCategory(VehicleType.Vehicle, name=\"Ego vehicle\", \n",
    "                                        tags=[Tag.EgoVehicle, Tag.RoadUserType_Vehicle])\n",
    "TARGET_VEHICLE_QUALITATIVE = ActorCategory(VehicleType.Vehicle, name=\"Target vehicle\",\n",
    "                                           tags=[Tag.RoadUserType_Vehicle])"
   ]
  },
  {
   "cell_type": "markdown",
   "metadata": {},
   "source": [
    "To create the actors"
   ]
  },
  {
   "cell_type": "code",
   "execution_count": null,
   "metadata": {},
   "outputs": [],
   "source": [
    "# Now we can create the actors.\n",
    "EGO_VEHICLE = Actor(EGO_VEHICLE_QUALITATIVE, \n",
    "                    initial_states=[State(StateVariable.LONGITUDINAL_POSITION, 0),\n",
    "                                    State(StateVariable.SPEED, 10)],\n",
    "                    desired_states=[State(StateVariable.LONGITUDINAL_POSITION, 100),\n",
    "                                    State(StateVariable.SPEED, 10)],\n",
    "                    properties=dict(color=\"red\"),\n",
    "                    name=\"ego vehicle\")"
   ]
  },
  {
   "cell_type": "code",
   "execution_count": null,
   "metadata": {},
   "outputs": [],
   "source": []
  },
  {
   "cell_type": "code",
   "execution_count": null,
   "metadata": {},
   "outputs": [],
   "source": []
  },
  {
   "cell_type": "code",
   "execution_count": null,
   "metadata": {},
   "outputs": [],
   "source": [
    "import numpy as np"
   ]
  },
  {
   "cell_type": "code",
   "execution_count": null,
   "metadata": {},
   "outputs": [],
   "source": [
    "28*10-0.5*8*5"
   ]
  }
 ],
 "metadata": {
  "kernelspec": {
   "display_name": "Python 3",
   "language": "python",
   "name": "python3"
  },
  "language_info": {
   "codemirror_mode": {
    "name": "ipython",
    "version": 3
   },
   "file_extension": ".py",
   "mimetype": "text/x-python",
   "name": "python",
   "nbconvert_exporter": "python",
   "pygments_lexer": "ipython3",
   "version": "3.7.3"
  }
 },
 "nbformat": 4,
 "nbformat_minor": 2
}
