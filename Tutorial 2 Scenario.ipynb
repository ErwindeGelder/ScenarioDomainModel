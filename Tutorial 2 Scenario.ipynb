{
 "cells": [
  {
   "cell_type": "markdown",
   "metadata": {},
   "source": [
    "## Tutorial 2: Instatiating a *scenario*\n",
    "\n",
    "In this tutorial, we will cover the following items:\n",
    "\n",
    "1. Create *actors*, *activities*, *events*, and *static physical things*\n",
    "2. Instantiate a *scenario*\n",
    "3. Show all tags of the *scenario*\n",
    "4. Use the `comprises` function of a *scenario category*\n",
    "5. Export the objects"
   ]
  },
  {
   "cell_type": "code",
   "execution_count": 1,
   "metadata": {},
   "outputs": [],
   "source": [
    "# Before starting, let us do the necessary imports\n",
    "from domain_model import Activity, ActivityCategory, Actor, ActorCategory, Constant, Linear, \\\n",
    "    Scenario, \\\n",
    "    Sinusoidal, Spline3Knots, Splines, State, StateVariable, Tag, VehicleType"
   ]
  },
  {
   "cell_type": "markdown",
   "metadata": {},
   "source": [
    "## 1. Create *actors*, *activities*, *events*, and *static physical things*\n",
    "\n",
    "In this tutorial, we will create a *scenario* in which another vehicle changes lane such that it becomes the ego vehicle's leading vehicle. This is the quantitative counterpart of the *scenario category* that we created in the [previous tutorial](./Tutorial%201%20Scenario%20category.ipynb). The *scenario* is depicted in the figure below. Here, the blue car represents the ego vehicle and the red car represents the vehicle that performs the cut in.\n",
    "\n",
    "<img src=\"./examples/images/cut-in.png\" alt=\"Cut in\" width=\"400\"/>\n",
    "\n",
    "Just as with a *scenario category*, we first need to create the components of a *scenario*. To create the *scenario*, we first need to create the *actors*, *activities*, *events*, and *static physical things*. Also, *dynamic physical things* could be part of a *scenario*, but for this tutorial, we do not consider *dynamic physical things* (other than the *actors*, which, technically speaking, are *dynamic physical things*). As we have already seen in the [previous tutorial](./Tutorial%201%20Scenario%20category.ipynb), the objects have a `name`, a `uid` (a unique ID), and `tags`. Additionally, these quantitative building blocks contain a reference to their qualitative counterparts.\n",
    "\n",
    "### 1.1 Create *actors*\n",
    "\n",
    "Now let us create the *actors*. We need the qualitative counterparts, the *actor categories*, and we will use the *actor categories* from the [previous tutorial](./Tutorial%201%20Scenario%20category.ipynb). Note that we can ignore the `uid` for now."
   ]
  },
  {
   "cell_type": "code",
   "execution_count": 2,
   "metadata": {},
   "outputs": [],
   "source": [
    "# First create the actor categories\n",
    "EGO_VEHICLE_QUALITATIVE = ActorCategory(VehicleType.Vehicle, name=\"Ego vehicle\", \n",
    "                                        tags=[Tag.EgoVehicle, Tag.RoadUserType_Vehicle])\n",
    "TARGET_VEHICLE_QUALITATIVE = ActorCategory(VehicleType.Vehicle, name=\"Target vehicle\",\n",
    "                                           tags=[Tag.RoadUserType_Vehicle])"
   ]
  },
  {
   "cell_type": "markdown",
   "metadata": {},
   "source": [
    "To instantiate an *actor*, the following arguments can be used:\n",
    "\n",
    "- `category`: The corresponding *actor category* that we defined above.\n",
    "- `initial_states` (optional): To create the actors, we can define the initial state. Because we will later quantify the speed of both actors as well as the lateral position using the activities, we will not define this now. However, the longitudinal position will not be defined by the activities, so we will use the `initial_states` to specify the initial longitudinal position. The ego vehicle starts at $x=0$ m and the target vehicle starts at $x=70$ m.\n",
    "- `desired_states` (optional): For actors, the objective can be defined using the `desired_states`. For now, we will set the target for both vehicles at $x=400$ m and $y=0$ m. The ego vehicle's objective is to maintain the speed of $v=28$ m/s, while the target vehicle's objective is to drive at a speed of $v=22$ m/s. \n",
    "- `properties` (optional): Any properties can be described using a Python dictionary.\n",
    "- `name` (optional): You can give the activity a meaningful name.\n",
    "- `uid` (optional): If not given, a (random) unique ID will be created.\n",
    "- `tags` (optional): If not given, an empty list is assumed. A bit more on this later."
   ]
  },
  {
   "cell_type": "code",
   "execution_count": 3,
   "metadata": {},
   "outputs": [],
   "source": [
    "# Now we can create the actors.\n",
    "EGO_VEHICLE = Actor(EGO_VEHICLE_QUALITATIVE, \n",
    "                    initial_states=[State(StateVariable.LONGITUDINAL_POSITION, 0)],\n",
    "                    desired_states=[State(StateVariable.LONGITUDINAL_POSITION, 400),\n",
    "                                    State(StateVariable.LATERAL_POSITION, 0),\n",
    "                                    State(StateVariable.SPEED, 28)],\n",
    "                    properties=dict(color=\"blue\"),\n",
    "                    name=\"ego vehicle\")\n",
    "TARGET_VEHICLE = Actor(TARGET_VEHICLE_QUALITATIVE,\n",
    "                       initial_states=[State(StateVariable.LONGITUDINAL_POSITION, 70)],\n",
    "                       desired_states=[State(StateVariable.LONGITUDINAL_POSITION, 400),\n",
    "                                       State(StateVariable.LATERAL_POSITION, 0),\n",
    "                                       State(StateVariable.SPEED, 22)],\n",
    "                       properties=dict(color=\"red\"),\n",
    "                       name=\"target vehicle\")"
   ]
  },
  {
   "cell_type": "markdown",
   "metadata": {},
   "source": [
    "Note that we have not provided any tags to the *actors*. The idea behind that is that it would be inefficient if we would provide the tags for both the *actor categories* and the *actors*. Therefore, each object that can have tags (i.e., if the object is member of the `Thing` class), it has the functionality `get_tags()`. In case of the *actor categories*, this simply returns the tags of the *actor categories*. In case of the *actors*, however, it returns the tags of both the *actor* itself (in this case, we have not provided any tags directly) and the tags of the corresponding *actor categories*."
   ]
  },
  {
   "cell_type": "code",
   "execution_count": 4,
   "metadata": {},
   "outputs": [
    {
     "name": "stdout",
     "output_type": "stream",
     "text": [
      "[<Tag.EgoVehicle: 13>, <Tag.RoadUserType_Vehicle: 1>]\n"
     ]
    }
   ],
   "source": [
    "# Demonstrate the use of the `get_tags()` functionality.\n",
    "print(EGO_VEHICLE.get_tags())"
   ]
  },
  {
   "cell_type": "markdown",
   "metadata": {},
   "source": [
    "### 1.2 Create *activities* and *events*\n",
    "\n",
    "As with the actors, we first need to create the *activity categories*. We will create *activity categories* for the following type of activities:\n",
    "\n",
    "- Cruising\n",
    "- Decelerating\n",
    "- Accelerating\n",
    "- Following lane\n",
    "- Changing lane\n",
    "\n",
    "To demonstrate the use of the different models, we will use a different model for each *activity category*."
   ]
  },
  {
   "cell_type": "code",
   "execution_count": 5,
   "metadata": {},
   "outputs": [],
   "source": [
    "# First create the activity categories\n",
    "CRUISING_CATEGORY = ActivityCategory(\n",
    "    Constant(), StateVariable.SPEED, name=\"Cruising\",\n",
    "    description=\"Cruising at a constant positive speed\",\n",
    "    tags=[Tag.VehicleLongitudinalActivity_DrivingForward_Cruising])\n",
    "BRAKING_CATEGORY = ActivityCategory(\n",
    "    Sinusoidal(), StateVariable.SPEED, name=\"Braking\",\n",
    "    description=\"Decelerating to a lower speed\",\n",
    "    tags=[Tag.VehicleLongitudinalActivity_DrivingForward_Braking])\n",
    "ACCELERATING_CATEGORY = ActivityCategory(\n",
    "    Spline3Knots(), StateVariable.SPEED, name=\"Acccelerating\",\n",
    "    description=\"Accelerating to a higher speed\",\n",
    "    tags=[Tag.VehicleLongitudinalActivity_DrivingForward_Accelerating])\n",
    "FOLLOWING_LANE_CATEGORY = ActivityCategory(\n",
    "    Linear(), StateVariable.LATERAL_POSITION, name=\"Following lane\",\n",
    "    description=\"Stay in one lane\",\n",
    "    tags=[Tag.VehicleLateralActivity_GoingStraight])\n",
    "CHANGING_LANE_CATEGORY = ActivityCategory(\n",
    "    Splines(), StateVariable.LATERAL_POSITION, name=\"Changing lane\",\n",
    "    description=\"Change one lane to the left or to the right\",\n",
    "    tags=[Tag.VehicleLateralActivity_ChangingLane])"
   ]
  },
  {
   "cell_type": "markdown",
   "metadata": {},
   "source": [
    "To instantiate an *activity*, the following arguments can be used:\n",
    "\n",
    "- `category`: The corresponding *activity category* that we defined above.\n",
    "- `parameters`: A dictionary with the parameters that are used to evaluate the model that has been defined in the corresponding *activity category*. To see which parameters are required, type `help(model)`, where `model` is to be replaced by the actual model. For example, `help(Sinusoidal)` will print the documentation of the `Sinusoidal` model.\n",
    "- `start`: The starting event of the activity. Alternatively, instead of an `Event`, a single value can be passed. In that case, it is assumed that the activity starts when the time equals the provided value. In that case, an *event* is created at that particular time.\n",
    "- `end`: The end event. Just as with `start`, a single value can be provided in which case an *event* is automatically instantiated.\n",
    "- `name` (optional): You can give the activity a meaningful name.\n",
    "- `uid` (optional): If not given, a (random) unique ID will be created.\n",
    "- `tags` (optional): If not given, an empty list is assumed. Note that the `get_tags()` functionality works the same as for the *actors*, meaning that also the tags of the *activity category* are returned."
   ]
  },
  {
   "cell_type": "code",
   "execution_count": 6,
   "metadata": {
    "scrolled": false
   },
   "outputs": [],
   "source": [
    "CRUISING_EGO1 = Activity(CRUISING_CATEGORY, dict(xstart=28), start=0, end=5, \n",
    "                        name=\"Initial cruising ego\")\n",
    "BRAKING_EGO = Activity(BRAKING_CATEGORY, dict(xstart=28, xend=20), start=CRUISING_EGO1.end, \n",
    "                       end=10, name=\"Braking ego\")\n",
    "ACCELERATING_EGO = Activity(ACCELERATING_CATEGORY, \n",
    "                            dict(knots=[0, 0, 0, 0, .5, 1, 1, 1, 1],\n",
    "                                 coefficients=[20, 20, 21, 22, 22, 0, 0, 0, 0], degree=3),\n",
    "                            start=BRAKING_EGO.end, end=13, name=\"Accelerating ego\")\n",
    "CRUISING_EGO2 = Activity(CRUISING_CATEGORY, dict(xstart=22), start=ACCELERATING_EGO.end,\n",
    "                         end=15, name=\"Final cruising ego\")\n",
    "STRAIGHT_EGO = Activity(FOLLOWING_LANE_CATEGORY, dict(xstart=1.4, xend=1.6),\n",
    "                        start=CRUISING_EGO1.start, end=CRUISING_EGO2.end, name=\"Following lane ego\")\n",
    "CRUISING_TARGET = Activity(CRUISING_CATEGORY, dict(xstart=22), start=CRUISING_EGO1.start,\n",
    "                           end=CRUISING_EGO2.end, name=\"Cruising target\")\n",
    "STRAIGHT_TARGET1 = Activity(FOLLOWING_LANE_CATEGORY, dict(xstart=-1.6, xend=-1.5),\n",
    "                            start=CRUISING_EGO1.start, end=3, name=\"Initial following lane target\")\n",
    "LANE_CHANGE_TARGET = Activity(CHANGING_LANE_CATEGORY, \n",
    "                              dict(a1=12, b1=0, c1=0, d1=-1.5, a2=12, b2=-36, c2=36, d2=-10.5),\n",
    "                              start=STRAIGHT_TARGET1.end, end=7, name=\"Lane change target\")\n",
    "STRAIGHT_TARGET2 = Activity(FOLLOWING_LANE_CATEGORY, dict(xstart=1.5, xend=1.6),\n",
    "                            start=LANE_CHANGE_TARGET.end, end=CRUISING_EGO2.end,\n",
    "                            name=\"Final following lane target\")"
   ]
  },
  {
   "cell_type": "markdown",
   "metadata": {},
   "source": [
    "Note that the parameters for the `Spline3Knots` and `Splines` models (see `ACCELERATING_EGO` and `LANE_CHANGE_TARGET`) are not very intuitive. For now, you have to assume that these parameters make sense. In a later tutorial, we will see how these parameters can be determined in an alternative manner that might be more practical."
   ]
  },
  {
   "cell_type": "code",
   "execution_count": null,
   "metadata": {},
   "outputs": [],
   "source": []
  }
 ],
 "metadata": {
  "kernelspec": {
   "display_name": "Python 3",
   "language": "python",
   "name": "python3"
  },
  "language_info": {
   "codemirror_mode": {
    "name": "ipython",
    "version": 3
   },
   "file_extension": ".py",
   "mimetype": "text/x-python",
   "name": "python",
   "nbconvert_exporter": "python",
   "pygments_lexer": "ipython3",
   "version": "3.7.3"
  }
 },
 "nbformat": 4,
 "nbformat_minor": 2
}
