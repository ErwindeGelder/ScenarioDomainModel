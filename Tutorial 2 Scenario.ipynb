{
 "cells": [
  {
   "cell_type": "markdown",
   "metadata": {},
   "source": [
    "## Tutorial 2: Instatiating a *scenario*\n",
    "\n",
    "In this tutorial, we will cover the following items:\n",
    "\n",
    "1. Create *actors*, *activities*, *events*, and *static physical things*\n",
    "2. Instantiate a *scenario*\n",
    "3. Show all tags of the *scenario*\n",
    "4. Use the `comprises` function of a *scenario category*\n",
    "5. Export the objects"
   ]
  },
  {
   "cell_type": "code",
   "execution_count": null,
   "metadata": {},
   "outputs": [],
   "source": [
    "# Before starting, let us do the necessary imports\n",
    "from domain_model import Activity, ActivityCategory, Actor, ActorCategory, Constant, Scenario, \\\n",
    "    Sinusoidal, State, StateVariable, Tag, VehicleType"
   ]
  },
  {
   "cell_type": "markdown",
   "metadata": {},
   "source": [
    "## 1. Create *actors*, *activities*, *events*, and *static physical things*\n",
    "\n",
    "In this tutorial, we will create a *scenario* in which another vehicle changes lane such that it becomes the ego vehicle's leading vehicle. This is the quantitative counterpart of the *scenario category* that we created in the [previous tutorial](./Tutorial%201%20Scenario%20category.ipynb). The *scenario* is depicted in the figure below. Here, the blue car represents the ego vehicle and the red car represents the vehicle that performs the cut in.\n",
    "\n",
    "<img src=\"./examples/images/cut-in.png\" alt=\"Cut in\" width=\"400\"/>\n",
    "\n",
    "Just as with a *scenario category*, we first need to create the components of a *scenario*. To create the *scenario*, we first need to create the *actors*, *activities*, *events*, and *static physical things*. Also, *dynamic physical things* could be part of a *scenario*, but for this tutorial, we do not consider *dynamic physical things* (other than the *actors*, which, technically speaking, are *dynamic physical things*). As we have already seen in the [previous tutorial](./Tutorial%201%20Scenario%20category.ipynb), the objects have a `name`, a `uid` (a unique ID), and `tags`. Additionally, these quantitative building blocks contain a reference to their qualitative counterparts.\n",
    "\n",
    "### 1.1 Create *actors*\n",
    "\n",
    "Now let us create the *actors*. We need the qualitative counterparts, the *actor categories*, and we will use the *actor categories* from the [previous tutorial](./Tutorial%201%20Scenario%20category.ipynb). Note that we can ignore the `uid` for now."
   ]
  },
  {
   "cell_type": "code",
   "execution_count": null,
   "metadata": {},
   "outputs": [],
   "source": [
    "# First create the actor categories\n",
    "EGO_VEHICLE_QUALITATIVE = ActorCategory(VehicleType.Vehicle, name=\"Ego vehicle\", \n",
    "                                        tags=[Tag.EgoVehicle, Tag.RoadUserType_Vehicle])\n",
    "TARGET_VEHICLE_QUALITATIVE = ActorCategory(VehicleType.Vehicle, name=\"Target vehicle\",\n",
    "                                           tags=[Tag.RoadUserType_Vehicle])"
   ]
  },
  {
   "cell_type": "markdown",
   "metadata": {},
   "source": [
    "To create the actors, we can define the initial state. Because we will later quantify the speed of both actors as well as the lateral position using the activities, we will not define this now. However, the longitudinal position will not be defined by the activities, so we will use the `initial_states` to specify the initial longitudinal position. The ego vehicle starts at $x=0$ m and the target vehicle starts at $x=70$ m.\n",
    "\n",
    "For actors, the objective can be defined using the `desired_states`. For now, we will set the target for both vehicles at $x=400$ m and $y=0$ m. The ego vehicle's objective is to maintain the speed of $v=28$ m/s, while the target vehicle's objective is to drive at a speed of $v=22$ m/s. "
   ]
  },
  {
   "cell_type": "code",
   "execution_count": null,
   "metadata": {},
   "outputs": [],
   "source": [
    "# Now we can create the actors.\n",
    "EGO_VEHICLE = Actor(EGO_VEHICLE_QUALITATIVE, \n",
    "                    initial_states=[State(StateVariable.LONGITUDINAL_POSITION, 0)],\n",
    "                    desired_states=[State(StateVariable.LONGITUDINAL_POSITION, 400),\n",
    "                                    State(StateVariable.LATERAL_POSITION, 0),\n",
    "                                    State(StateVariable.SPEED, 28)],\n",
    "                    properties=dict(color=\"blue\"),\n",
    "                    name=\"ego vehicle\")\n",
    "TARGET_VEHICLE = Actor(TARGET_VEHICLE_QUALITATIVE,\n",
    "                       initial_states=[State(StateVariable.LONGITUDINAL_POSITION, 70)],\n",
    "                       desired_states=[State(StateVariable.LONGITUDINAL_POSITION, 400),\n",
    "                                       State(StateVariable.LATERAL_POSITION, 0),\n",
    "                                       State(StateVariable.SPEED, 22)],\n",
    "                       properties=dict(color=\"red\"),\n",
    "                       name=\"target vehicle\")"
   ]
  },
  {
   "cell_type": "markdown",
   "metadata": {},
   "source": [
    "### 1.2 Create *activities* and *events*\n",
    "\n",
    "As with the actors, we first need to create the *activity categories*. We will create *activity categories* for the following type of activities:\n",
    "\n",
    "- Cruising\n",
    "- Decelerating\n",
    "- Accelerating\n",
    "- Following lane\n",
    "- Changing lane"
   ]
  },
  {
   "cell_type": "code",
   "execution_count": null,
   "metadata": {},
   "outputs": [],
   "source": [
    "# First create the activity categories\n",
    "CRUISING_CATEGORY = ActivityCategory(Constant(), StateVariable.SPEED, name=\"Cruising\",\n",
    "                                     description=\"Cruising at a constant positive speed\",\n",
    "                                     tags=[Tag.VehicleLongitudinalActivity_DrivingForward_Cruising])\n",
    "BRAKING_CATEGORY = ActivityCategory(Sinusoidal(), StateVariable.SPEED, name=\"Braking\",\n",
    "                                    description=\"Decelerating to a lower speed\",\n",
    "                                    tags=[Tag.VehicleLongitudinalActivity_DrivingForward_Braking])"
   ]
  },
  {
   "cell_type": "markdown",
   "metadata": {},
   "source": []
  },
  {
   "cell_type": "code",
   "execution_count": null,
   "metadata": {
    "scrolled": false
   },
   "outputs": [],
   "source": [
    "CRUISING_EGO = Activity(CRUISING_CATEGORY, dict(xstart=28), start=0, end=5, name=\"Initial cruising ego\")\n",
    "BRAKING_EGO = Activity(BRAKING_CATEGORY, dict(xstart=28, xend=20), start=CRUISING_EGO.end, end=10,\n",
    "                       name=\"Braking ego\")"
   ]
  },
  {
   "cell_type": "code",
   "execution_count": null,
   "metadata": {},
   "outputs": [],
   "source": []
  },
  {
   "cell_type": "code",
   "execution_count": null,
   "metadata": {},
   "outputs": [],
   "source": []
  }
 ],
 "metadata": {
  "kernelspec": {
   "display_name": "Python 3",
   "language": "python",
   "name": "python3"
  },
  "language_info": {
   "codemirror_mode": {
    "name": "ipython",
    "version": 3
   },
   "file_extension": ".py",
   "mimetype": "text/x-python",
   "name": "python",
   "nbconvert_exporter": "python",
   "pygments_lexer": "ipython3",
   "version": "3.7.4"
  }
 },
 "nbformat": 4,
 "nbformat_minor": 2
}
