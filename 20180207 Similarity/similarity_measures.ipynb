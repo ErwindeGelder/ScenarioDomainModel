{
 "cells": [
  {
   "cell_type": "markdown",
   "metadata": {},
   "source": [
    "# Scenario similarity measures"
   ]
  },
  {
   "cell_type": "code",
   "execution_count": null,
   "metadata": {
    "collapsed": true
   },
   "outputs": [],
   "source": [
    "import numpy as np\n",
    "import pickle\n",
    "import matplotlib.pyplot as plt\n",
    "from matplotlib2tikz import save as tikz_save\n",
    "import os\n",
    "%matplotlib inline"
   ]
  },
  {
   "cell_type": "code",
   "execution_count": null,
   "metadata": {
    "collapsed": false
   },
   "outputs": [],
   "source": [
    "tikz_path = 'figures'\n",
    "def tikz(name, extras=None):\n",
    "    # Convert to tikz\n",
    "    tikz_save(os.path.join(tikz_path, '{:s}.tikz'.format(name)),\n",
    "              figureheight='\\\\figureheight', figurewidth='\\\\figurewidth',\n",
    "              extra_axis_parameters=extras, show_info=False) "
   ]
  },
  {
   "cell_type": "code",
   "execution_count": null,
   "metadata": {
    "collapsed": true
   },
   "outputs": [],
   "source": [
    "# Define function for quickly making tables\n"
   ]
  },
  {
   "cell_type": "markdown",
   "metadata": {},
   "source": [
    "## Create two example figures"
   ]
  },
  {
   "cell_type": "code",
   "execution_count": null,
   "metadata": {
    "collapsed": true
   },
   "outputs": [],
   "source": [
    "with open(os.path.join('..', '20171126 Parametrization', 'df.p'), 'rb') as f:\n",
    "    (dfs, scaling) = pickle.load(f)\n",
    "# Only use first n profiles\n",
    "n = 400\n",
    "dfs = dfs[:n].copy()\n",
    "scaling = scaling.T[:n].copy()"
   ]
  },
  {
   "cell_type": "code",
   "execution_count": null,
   "metadata": {
    "collapsed": false,
    "scrolled": true
   },
   "outputs": [],
   "source": [
    "# Show a profile\n",
    "# 322: hardest braking\n",
    "# 292: Looks most at 322 when only looking at start and end velocity\n",
    "# 143: Looks very similar to 292\n",
    "ii = [322, 143, 292]\n",
    "ts = 0.1\n",
    "V = []\n",
    "A = []\n",
    "for j, i in enumerate(ii):\n",
    "    t = dfs[i]['time']*scaling[i, 0]\n",
    "    v = (dfs[i]['vel']*(scaling[i, 1] - scaling[i, 2]) + scaling[i, 2])*3.6\n",
    "    tnew = np.arange(t.values[0], np.floor(t.values[-1] / ts)) * ts\n",
    "    vnew = np.interp(tnew, t, v)\n",
    "    V.append(vnew)\n",
    "    A.append(np.gradient(vnew) / ts)\n",
    "    plt.plot(tnew, vnew, '.', label=\"Profile {:d}\".format(j+1), ms=1)\n",
    "    print(\"Average deceleration: {:.2f} m/s^2\".format((scaling[i, 1] - scaling[i, 2]) / scaling[i, 0]))\n",
    "plt.grid('on')\n",
    "plt.xlabel('Time [s]')\n",
    "plt.ylabel('Velocity [km/h]')\n",
    "plt.legend()\n",
    "tikz('velocity_profile_example')"
   ]
  },
  {
   "cell_type": "markdown",
   "metadata": {},
   "source": [
    "## Euclidean distance"
   ]
  },
  {
   "cell_type": "code",
   "execution_count": null,
   "metadata": {
    "collapsed": true
   },
   "outputs": [],
   "source": [
    "def lp(xx, yy, p):\n",
    "    # Sample yy to have the same number of elements\n",
    "    yy = np.interp(np.linspace(0, len(yy), len(xx)), np.arange(0, len(yy)), yy)\n",
    "    \n",
    "    # Compute the norm\n",
    "    return np.sum(np.abs(xx - yy)**p) ** (1/p)\n",
    "\n",
    "def euclidean(xx, yy):\n",
    "    return lp(xx, yy, 2)"
   ]
  },
  {
   "cell_type": "code",
   "execution_count": null,
   "metadata": {
    "collapsed": false
   },
   "outputs": [],
   "source": [
    "n = len(V)\n",
    "for i in range(n):\n",
    "    for j in range(n):\n",
    "        if not i == j:\n",
    "            print(\"Deuclidean({:d},{:d}) = {:.1f}\".format(i+1, j+1, euclidean(V[i], V[j])))"
   ]
  },
  {
   "cell_type": "code",
   "execution_count": null,
   "metadata": {
    "collapsed": false
   },
   "outputs": [],
   "source": [
    "for i, j in zip([1, 1, 0], [0, 2, 2]):\n",
    "    f, ax = plt.subplots(1, 1, figsize=(4, 3))\n",
    "    ax.plot(V[i], '.', label='Profile {:d}'.format(i+1), ms=1)\n",
    "    ax.plot(np.interp(np.linspace(0, len(V[j]), len(V[i])), np.arange(0, len(V[j])), V[j]), '.', \n",
    "            label='Profile {:d}'.format(j+1), ms=1)\n",
    "    ax.set_xlabel('Sample')\n",
    "    ax.set_ylabel('Velocity [km/h]')\n",
    "    ax.grid('on')\n",
    "    tikz('velocity_profiles_resampled{:d}{:d}'.format(i+1, j+1))"
   ]
  },
  {
   "cell_type": "code",
   "execution_count": null,
   "metadata": {
    "collapsed": true
   },
   "outputs": [],
   "source": []
  }
 ],
 "metadata": {
  "anaconda-cloud": {},
  "kernelspec": {
   "display_name": "Python [default]",
   "language": "python",
   "name": "python3"
  },
  "language_info": {
   "codemirror_mode": {
    "name": "ipython",
    "version": 3
   },
   "file_extension": ".py",
   "mimetype": "text/x-python",
   "name": "python",
   "nbconvert_exporter": "python",
   "pygments_lexer": "ipython3",
   "version": "3.5.2"
  }
 },
 "nbformat": 4,
 "nbformat_minor": 1
}
