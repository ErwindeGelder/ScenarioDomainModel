{
 "cells": [
  {
   "cell_type": "markdown",
   "metadata": {},
   "source": [
    "# Scenario similarity measures"
   ]
  },
  {
   "cell_type": "code",
   "execution_count": null,
   "metadata": {
    "collapsed": false
   },
   "outputs": [],
   "source": [
    "import numpy as np\n",
    "import pickle\n",
    "import matplotlib.pyplot as plt\n",
    "from matplotlib2tikz import save as tikz_save\n",
    "import os\n",
    "import scipy\n",
    "from DynamicTimeWarping import DynamicTimeWarping\n",
    "%matplotlib inline\n",
    "%load_ext autoreload\n",
    "%autoreload 2"
   ]
  },
  {
   "cell_type": "code",
   "execution_count": null,
   "metadata": {
    "collapsed": false
   },
   "outputs": [],
   "source": [
    "tikz_path = 'figures'\n",
    "def tikz(name, extras=None):\n",
    "    # Convert to tikz\n",
    "    tikz_save(os.path.join(tikz_path, '{:s}.tikz'.format(name)),\n",
    "              figureheight='\\\\figureheight', figurewidth='\\\\figurewidth',\n",
    "              extra_axis_parameters=extras, show_info=False) "
   ]
  },
  {
   "cell_type": "code",
   "execution_count": null,
   "metadata": {
    "collapsed": true
   },
   "outputs": [],
   "source": [
    "# Define function for quickly making tables\n",
    "table_folder = 'tabular'\n",
    "\n",
    "def write(f, text):\n",
    "    f.write(text)\n",
    "    print(text, end=\"\")"
   ]
  },
  {
   "cell_type": "code",
   "execution_count": null,
   "metadata": {
    "collapsed": true
   },
   "outputs": [],
   "source": [
    "# Define method for looping through set of profiles and print score\n",
    "def table_distance(V, func, **kwargs):\n",
    "    nv = len(V)\n",
    "    print(\"  \", end=\"\")\n",
    "    for i in range(nv):\n",
    "        print(\" {:7d}\".format(i+1), end=\"\")\n",
    "    print(\"\")\n",
    "    for i in range(nv):\n",
    "        print(\"{:2d}\".format(i+1), end=\"\")\n",
    "        for j in range(nv):\n",
    "            if i == j:\n",
    "                print(\" {:7s}\".format(\"\"), end=\"\")\n",
    "            else:\n",
    "                print(\" {:7.1e}\".format(func(V[i], V[j], **kwargs)), end=\"\")\n",
    "        print(\"\")"
   ]
  },
  {
   "cell_type": "markdown",
   "metadata": {},
   "source": [
    "## Create two example figures"
   ]
  },
  {
   "cell_type": "code",
   "execution_count": null,
   "metadata": {
    "collapsed": true
   },
   "outputs": [],
   "source": [
    "with open(os.path.join('..', '20171126 Parametrization', 'df.p'), 'rb') as f:\n",
    "    (dfs, scaling) = pickle.load(f)\n",
    "# Only use first n profiles\n",
    "n = 400\n",
    "dfs = dfs[:n].copy()\n",
    "scaling = scaling.T[:n].copy()"
   ]
  },
  {
   "cell_type": "code",
   "execution_count": null,
   "metadata": {
    "collapsed": false,
    "scrolled": true
   },
   "outputs": [],
   "source": [
    "# Show a profile\n",
    "# 322: hardest braking\n",
    "# 292: Looks most at 322 when only looking at start and end velocity\n",
    "# 143: Looks very similar to 292\n",
    "# 381: Acceleratin similar to 292, but much shorter\n",
    "ii = [322, 143, 292, 381]\n",
    "ts = 0.1\n",
    "V = []\n",
    "A = []\n",
    "for j, i in enumerate(ii):\n",
    "    t = dfs[i]['time']*scaling[i, 0]\n",
    "    v = (dfs[i]['vel']*(scaling[i, 1] - scaling[i, 2]) + scaling[i, 2])*3.6\n",
    "    tnew = np.arange(t.values[0], np.floor(t.values[-1] / ts)) * ts\n",
    "    vnew = np.interp(tnew, t, v)\n",
    "    V.append(vnew)\n",
    "    A.append(np.gradient(vnew) / ts)\n",
    "    plt.plot(tnew, vnew, '.', label=\"Profile {:d}\".format(j+1), ms=1)\n",
    "    print(\"Average deceleration: {:.2f} m/s^2\".format((scaling[i, 1] - scaling[i, 2]) / scaling[i, 0]))\n",
    "plt.grid('on')\n",
    "plt.xlabel('Time [s]')\n",
    "plt.ylabel('Velocity [km/h]')\n",
    "plt.legend()\n",
    "tikz('velocity_profile_example')"
   ]
  },
  {
   "cell_type": "markdown",
   "metadata": {},
   "source": [
    "## Euclidean distance"
   ]
  },
  {
   "cell_type": "code",
   "execution_count": null,
   "metadata": {
    "collapsed": true
   },
   "outputs": [],
   "source": [
    "def lp(xx, yy, p):\n",
    "    # Sample yy to have the same number of elements\n",
    "    yy = np.interp(np.linspace(0, len(yy), len(xx)), np.arange(0, len(yy)), yy)\n",
    "    \n",
    "    # Compute the norm\n",
    "    return np.sum(np.abs(xx - yy)**p) ** (1/p)\n",
    "\n",
    "def euclidean(xx, yy):\n",
    "    return lp(xx, yy, 2)"
   ]
  },
  {
   "cell_type": "code",
   "execution_count": null,
   "metadata": {
    "collapsed": false
   },
   "outputs": [],
   "source": [
    "n = len(V)\n",
    "for i in range(n):\n",
    "    for j in range(n):\n",
    "        if not i == j:\n",
    "            print(\"Deuclidean({:d},{:d}) = {:.1f}\".format(i+1, j+1, euclidean(V[i], V[j])))"
   ]
  },
  {
   "cell_type": "code",
   "execution_count": null,
   "metadata": {
    "collapsed": false
   },
   "outputs": [],
   "source": [
    "for i, j in zip([1, 1, 0], [0, 2, 2]):\n",
    "    f, ax = plt.subplots(1, 1, figsize=(4, 3))\n",
    "    ax.plot(V[i], '.', label='Profile {:d}'.format(i+1), ms=1)\n",
    "    ax.plot(np.interp(np.linspace(0, len(V[j]), len(V[i])), np.arange(0, len(V[j])), V[j]), '.', \n",
    "            label='Profile {:d}'.format(j+1), ms=1)\n",
    "    ax.set_xlabel('Sample')\n",
    "    ax.set_ylabel('Velocity [km/h]')\n",
    "    ax.grid('on')\n",
    "    tikz('velocity_profiles_resampled{:d}{:d}'.format(i+1, j+1))"
   ]
  },
  {
   "cell_type": "markdown",
   "metadata": {
    "collapsed": true
   },
   "source": [
    "## Feature-based\n",
    "\n",
    "### Fourier coefficients"
   ]
  },
  {
   "cell_type": "code",
   "execution_count": null,
   "metadata": {
    "collapsed": false
   },
   "outputs": [],
   "source": [
    "def fft(x):\n",
    "    X = np.fft.rfft(x)\n",
    "    f = np.arange(np.floor(len(x)/2)+1) / (len(x) * ts)\n",
    "    return f, X\n",
    "def fft_at_freq(x, freqs):\n",
    "    f, X = fft(x)\n",
    "    return np.interp(freqs, f, X)\n",
    "def fourier_based_distance(x, y):\n",
    "    xhat = fft_at_freq(x, freq) / len(x)\n",
    "    yhat = fft_at_freq(y, freq) / len(y)\n",
    "    return np.sqrt(np.sum(np.abs(xhat - yhat)**2))"
   ]
  },
  {
   "cell_type": "code",
   "execution_count": null,
   "metadata": {
    "collapsed": false
   },
   "outputs": [],
   "source": [
    "f, (ax1, ax2) = plt.subplots(1, 2, figsize=(10, 3))\n",
    "for v in V:\n",
    "    f, X = fft(v)\n",
    "    ax1.semilogy(f, np.abs(X)/len(v), '.')\n",
    "    ax2.plot(f, np.angle(X)/np.pi*180, '.')\n",
    "ax1.grid('on')\n",
    "ax2.grid('on')"
   ]
  },
  {
   "cell_type": "code",
   "execution_count": null,
   "metadata": {
    "collapsed": false
   },
   "outputs": [],
   "source": [
    "freq = [1, 2, 3]\n",
    "table_distance(V, fourier_based_distance)"
   ]
  },
  {
   "cell_type": "code",
   "execution_count": null,
   "metadata": {
    "collapsed": false
   },
   "outputs": [],
   "source": [
    "with open(os.path.join(table_folder, 'fourier_coefficients.tex'), 'w') as f:\n",
    "    write(f, '\\\\begin{tabular}{crrr}\\n')\n",
    "    write(f, '    \\\\toprule\\n')\n",
    "    write(f, '    Time    & \\\\multicolumn{3}{c}{Fourier coefficients} \\\\\\\\\\n')\n",
    "    write(f, '    series  & $\\\\unit[1]{Hz}$ & $\\\\unit[2]{Hz}$ & $\\\\unit[3]{Hz}$ \\\\\\\\\\\\otoprule\\n')\n",
    "    for i, v in enumerate(V):\n",
    "        F = fft_at_freq(v, freq) / len(v)\n",
    "        f_real = np.real(F)\n",
    "        f_imag = np.imag(F)\n",
    "        write(f, '    $\\\\profile{{{:d}}}$'.format(i+1))\n",
    "        for real, imag in zip(f_real, f_imag):\n",
    "            write(f, ' & ${:.2f}{:s}{:.2f}\\\\imagi$'.format(real, '+' if imag >= 0 else '-', np.abs(imag)))\n",
    "        write(f, ' \\\\\\\\\\n')\n",
    "    write(f, '    \\\\bottomrule\\n')\n",
    "    write(f, '\\\\end{tabular}\\n')"
   ]
  },
  {
   "cell_type": "markdown",
   "metadata": {},
   "source": [
    "### Parameters"
   ]
  },
  {
   "cell_type": "code",
   "execution_count": null,
   "metadata": {
    "collapsed": false
   },
   "outputs": [],
   "source": [
    "# Time duration, velocity difference, end velocity\n",
    "def parameter_based_distance(x, y):\n",
    "    x_dt = (len(x) - 1) * ts\n",
    "    y_dt = (len(y) - 1) * ts\n",
    "    x_dv = np.max(x) - np.min(x)\n",
    "    y_dv = np.max(y) - np.min(y)\n",
    "    x_ve = x[-1]\n",
    "    y_ve = y[-1]\n",
    "    \n",
    "    w_dt = 1\n",
    "    w_dv = 0.2\n",
    "    w_ve = 0.2\n",
    "    \n",
    "    return np.sqrt(w_dt*(x_dt-y_dt)**2 + w_dv*(x_dv-y_dv)**2 + w_ve*(x_ve-y_ve)**2)\n",
    "table_distance(V, parameter_based_distance)"
   ]
  },
  {
   "cell_type": "markdown",
   "metadata": {},
   "source": [
    "### Splines"
   ]
  },
  {
   "cell_type": "code",
   "execution_count": null,
   "metadata": {
    "collapsed": true
   },
   "outputs": [],
   "source": [
    "# Needs normalization of time"
   ]
  },
  {
   "cell_type": "markdown",
   "metadata": {},
   "source": [
    "### Auto-regressive models\n",
    "\n",
    "Problem that duration is not taken into account"
   ]
  },
  {
   "cell_type": "code",
   "execution_count": null,
   "metadata": {
    "collapsed": false
   },
   "outputs": [],
   "source": [
    "def ar(x, n=3):\n",
    "    A = np.zeros((len(x)-n+1, n))\n",
    "    A[:, 0] = 1\n",
    "    for i in range(1, n):\n",
    "        A[:, i] = x[n-i-1:-i]\n",
    "    b = x[n-1:]\n",
    "    return np.linalg.lstsq(A, b)[0]\n",
    "def ar_distance(x, y, n=3):\n",
    "    xhat = ar(x, n=n)\n",
    "    yhat = ar(y, n=n)\n",
    "    return np.sqrt(np.sum((xhat - yhat)**2))"
   ]
  },
  {
   "cell_type": "code",
   "execution_count": null,
   "metadata": {
    "collapsed": false
   },
   "outputs": [],
   "source": [
    "f, axs = plt.subplots(1, len(V), figsize=(5*len(V), 4))\n",
    "n = 3\n",
    "A = []\n",
    "for j, (v, ax) in enumerate(zip(V, axs)):\n",
    "    a = ar(v/3.6, n=n)\n",
    "    A.append(a)\n",
    "    y = np.zeros_like(v)\n",
    "    y[:n-1] = v[:n-1] / 3.6\n",
    "    for i in range(n-1, len(y)):\n",
    "        y[i] = a[0] + np.sum(np.flipud(a[1:]) * y[i-n+1:i])\n",
    "    y *= 3.6\n",
    "    ax.plot(v, '.', label='Original')\n",
    "    ax.plot(y, '.', label='Auto-regression fit')\n",
    "    ax.set_xlabel('Sample')\n",
    "    ax.set_ylabel('Velocity [km/h]')\n",
    "    ax.set_title('Time series {:d}'.format(j+1))\n",
    "    ax.grid('on')\n",
    "    ax.legend()"
   ]
  },
  {
   "cell_type": "code",
   "execution_count": null,
   "metadata": {
    "collapsed": false
   },
   "outputs": [],
   "source": [
    "with open(os.path.join(table_folder, 'ar_coefficients.tex'), 'w') as f:\n",
    "    write(f, '\\\\begin{tabular}{crrr}\\n')\n",
    "    write(f, '    \\\\toprule\\n')\n",
    "    write(f, '    Time    & \\\\multicolumn{3}{c}{Auto-regression coefficients} \\\\\\\\\\n')\n",
    "    write(f, '    series & $a_0\\,[\\\\unit{m/s}]$ & $a_1$ & $a_2$ \\\\\\\\ \\\\otoprule\\n')\n",
    "    for i, aa in enumerate(A):\n",
    "        write(f, '    $\\\\profile{{{:d}}}$'.format(i+1))\n",
    "        for a in aa:\n",
    "            write(f, ' & {:.2f}'.format(a))\n",
    "        write(f, ' \\\\\\\\\\n')\n",
    "    write(f, '    \\\\bottomrule\\n')\n",
    "    write(f, '\\\\end{tabular}\\n')"
   ]
  },
  {
   "cell_type": "code",
   "execution_count": null,
   "metadata": {
    "collapsed": false,
    "scrolled": true
   },
   "outputs": [],
   "source": [
    "table_distance(V, ar_distance, n=3)"
   ]
  },
  {
   "cell_type": "markdown",
   "metadata": {},
   "source": [
    "### Compare all feature-based methods"
   ]
  },
  {
   "cell_type": "code",
   "execution_count": null,
   "metadata": {
    "collapsed": false
   },
   "outputs": [],
   "source": [
    "with open(os.path.join(table_folder, 'feature_based.tex'), 'w') as f:\n",
    "    write(f, '\\\\begin{tabular}{ccrrr}\\n')\n",
    "    write(f, '    \\\\toprule\\n')\n",
    "    write(f, '    \\\\multicolumn{2}{c}{Time series} & \\\\multicolumn{3}{c}{Features} \\\\\\\\\\n')\n",
    "    write(f, '    \\\\textbf{x} & \\\\textbf{y} & Fourier coefficients & Auto-regression coefficients & Custom features \\\\\\\\')\n",
    "    write(f, ' \\\\otoprule\\n')\n",
    "    for i, x in enumerate(V):\n",
    "        for j, y in enumerate(V):\n",
    "            if j > i:\n",
    "                write(f, '    $\\\\profile{{{:d}}}$ & $\\\\profile{{{:d}}}$'.format(i+1, j+1))\n",
    "                write(f, ' & {:.1e}'.format(fourier_based_distance(x, y)))\n",
    "                write(f, ' & {:.1e}'.format(ar_distance(x, y)))\n",
    "                write(f, ' & {:.1e} \\\\\\\\\\n'.format(parameter_based_distance(x, y)))\n",
    "    write(f, '    \\\\bottomrule\\n')\n",
    "    write(f, '\\\\end{tabular}\\n')"
   ]
  },
  {
   "cell_type": "markdown",
   "metadata": {
    "collapsed": true
   },
   "source": [
    "# Dynamic Time Warping"
   ]
  },
  {
   "cell_type": "code",
   "execution_count": null,
   "metadata": {
    "collapsed": false
   },
   "outputs": [],
   "source": [
    "d = DynamicTimeWarping(scale_score=True)\n",
    "table_distance(V, d.dtw)"
   ]
  },
  {
   "cell_type": "code",
   "execution_count": null,
   "metadata": {
    "collapsed": false
   },
   "outputs": [],
   "source": [
    "d = DynamicTimeWarping(scale_score=True, sakoeband=20)\n",
    "table_distance(V, d.dtw)"
   ]
  },
  {
   "cell_type": "code",
   "execution_count": null,
   "metadata": {
    "collapsed": false
   },
   "outputs": [],
   "source": [
    "d = DynamicTimeWarping(scale_score=True, ikaturaband=3)\n",
    "table_distance(V, d.dtw)"
   ]
  },
  {
   "cell_type": "code",
   "execution_count": null,
   "metadata": {
    "collapsed": false
   },
   "outputs": [],
   "source": []
  }
 ],
 "metadata": {
  "anaconda-cloud": {},
  "kernelspec": {
   "display_name": "Python [default]",
   "language": "python",
   "name": "python3"
  },
  "language_info": {
   "codemirror_mode": {
    "name": "ipython",
    "version": 3
   },
   "file_extension": ".py",
   "mimetype": "text/x-python",
   "name": "python",
   "nbconvert_exporter": "python",
   "pygments_lexer": "ipython3",
   "version": "3.5.2"
  }
 },
 "nbformat": 4,
 "nbformat_minor": 1
}
