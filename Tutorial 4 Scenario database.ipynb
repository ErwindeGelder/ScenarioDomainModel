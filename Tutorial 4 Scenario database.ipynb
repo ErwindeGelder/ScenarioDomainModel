{
 "cells": [
  {
   "cell_type": "markdown",
   "metadata": {},
   "source": [
    "## Tutorial 4: Scenario database\n",
    "\n",
    "In this tutorial, we will cover the following items:\n",
    "\n",
    "NOTE: This tutorial is not yet finished."
   ]
  },
  {
   "cell_type": "code",
   "execution_count": 1,
   "metadata": {},
   "outputs": [],
   "source": [
    "# Before starting, let us do the necessary imports\n",
    "import os\n",
    "import matplotlib.pyplot as plt\n",
    "import numpy as np\n",
    "from domain_model import DocumentManagement, StateVariable"
   ]
  },
  {
   "cell_type": "markdown",
   "metadata": {},
   "source": [
    "## 1. Loading and saving the database\n",
    "\n",
    "A real-life application of the object-oriented framework is the scenario database of [TNO's StreetWise](https://www.tno.nl/en/focus-areas/traffic-transport/expertise-groups/research-on-integrated-vehicle-safety/scenario-based-safety-validation-for-connected-and-automated-driving/). The code contains a class that is used to interface with the database. This class (`DocumentManagement`) can also be used to interact in a similar fashion with a locally stored database. This is practical if the local database is not too large. \n",
    "\n",
    "In this tutorial, we will use `DocumentManagement` using a locally stored set of scenarios in which the leading vehicle is decelerating. Loading a \"database\" from a locally stored file is straightforward. When passing a file path when creating an object from the `DocumentManagement` class, the file is loaded."
   ]
  },
  {
   "cell_type": "code",
   "execution_count": 2,
   "metadata": {},
   "outputs": [],
   "source": [
    "DM = DocumentManagement(os.path.join(\"examples\", \"lvd_scenarios.json\"))"
   ]
  },
  {
   "cell_type": "markdown",
   "metadata": {},
   "source": [
    "The JSON code of all objects are now contained by `DM`. More specifically, `DM.collections` contains dictionaries of all objects. For example, `DM.collections[\"scenario\"]` contains all scenarios. This dictionary, which consists for (key, value) pairs, uses the scenario IDs as \"keys\" and the JSON code of the scenario as \"value\".\n",
    "\n",
    "Using `DM.collections`, we can see how much data we have:"
   ]
  },
  {
   "cell_type": "code",
   "execution_count": 3,
   "metadata": {},
   "outputs": [
    {
     "name": "stdout",
     "output_type": "stream",
     "text": [
      "We have:\n",
      "1149 scenarios,\n",
      "7 activity categories,\n",
      "5271 activities,\n",
      "12165 events,\n",
      "2 actor categories,\n",
      "1150 actors,\n",
      "1 physical element categories,\n",
      "1 physical elements, and\n",
      "2 models.\n"
     ]
    }
   ],
   "source": [
    "print(\"We have:\")\n",
    "print(\"{:d} scenarios,\".format(len(DM.collections[\"scenario\"])))\n",
    "print(\"{:d} activity categories,\".format(len(DM.collections[\"activity_category\"])))\n",
    "print(\"{:d} activities,\".format(len(DM.collections[\"activity\"])))\n",
    "print(\"{:d} events,\".format(len(DM.collections[\"event\"])))\n",
    "print(\"{:d} actor categories,\".format(len(DM.collections[\"actor_category\"])))\n",
    "print(\"{:d} actors,\".format(len(DM.collections[\"actor\"])))\n",
    "print(\"{:d} physical element categories,\".format(len(DM.collections[\"physical_element_category\"])))\n",
    "print(\"{:d} physical elements, and\".format(len(DM.collections[\"physical_element\"])))\n",
    "print(\"{:d} models.\".format(len(DM.collections[\"model\"])))"
   ]
  },
  {
   "cell_type": "markdown",
   "metadata": {},
   "source": [
    "Saving all objects is also straightforward. Use the `to_json` function to store the \"database\" into a JSON file."
   ]
  },
  {
   "cell_type": "code",
   "execution_count": 4,
   "metadata": {},
   "outputs": [],
   "source": [
    "DM.to_json(os.path.join(\"examples\", \"lvd_scenarios2.json\"))"
   ]
  },
  {
   "cell_type": "markdown",
   "metadata": {},
   "source": [
    "## 2. Obtaining objects from the database\n",
    "\n",
    "The `DM` contains all JSON codes of the objects, but what we actually want is to have all objects. To retrieve an actual object, the `get_item` function is used. It takes two arguments:\n",
    "\n",
    "- The type of object you want (specified using a string, e.g., `\"scenario\"` or `\"actor\"`)\n",
    "- The key value, i.e., the ID of the object.\n",
    "\n",
    "For example, let us retrieve the first scenario in the database:"
   ]
  },
  {
   "cell_type": "code",
   "execution_count": 5,
   "metadata": {},
   "outputs": [],
   "source": [
    "key = list(DM.collections[\"scenario\"].keys())[0]\n",
    "scenario1 = DM.get_item(\"scenario\", key)"
   ]
  },
  {
   "cell_type": "markdown",
   "metadata": {},
   "source": [
    "Now `scenario1` is a `Scenario` object. All of its attributes are automatically instantiated using `get_item`. For example, here are the actors:"
   ]
  },
  {
   "cell_type": "code",
   "execution_count": 6,
   "metadata": {},
   "outputs": [
    {
     "name": "stdout",
     "output_type": "stream",
     "text": [
      "ego vehicle: <domain_model.actor.Actor object at 0x0000000028058390>\n",
      "target vehicle: <domain_model.actor.Actor object at 0x0000000028058400>\n"
     ]
    }
   ],
   "source": [
    "for actor in scenario1.actors:\n",
    "    print(\"{:s}: {}\".format(actor.name, actor))"
   ]
  },
  {
   "cell_type": "markdown",
   "metadata": {},
   "source": [
    "When using `get_item` to retrieve an object that has already been instantiated, then the object that has been instantiated is returned instead. This is desired, because otherwise two objects of the same, e.g., actor, is returned. To see what we mean, let's look at the following example:"
   ]
  },
  {
   "cell_type": "code",
   "execution_count": 7,
   "metadata": {},
   "outputs": [],
   "source": [
    "key = list(DM.collections[\"scenario\"].keys())[1]\n",
    "scenario2 = DM.get_item(\"scenario\", key)"
   ]
  },
  {
   "cell_type": "code",
   "execution_count": 8,
   "metadata": {},
   "outputs": [
    {
     "name": "stdout",
     "output_type": "stream",
     "text": [
      "ego vehicle: <domain_model.actor.Actor object at 0x0000000028058390>\n",
      "target vehicle: <domain_model.actor.Actor object at 0x0000000028062320>\n"
     ]
    }
   ],
   "source": [
    "for actor in scenario2.actors:\n",
    "    print(\"{:s}: {}\".format(actor.name, actor))"
   ]
  },
  {
   "cell_type": "markdown",
   "metadata": {},
   "source": [
    "This is a different scenario, but one actor is the same as for the first scenario (the ego vehicle). When having a close look at the pointer's address, we can see that the ego vehicle of the second scenario is actually the same object as for the first scenario. The target vehicle, however, is a different object this time."
   ]
  },
  {
   "cell_type": "markdown",
   "metadata": {},
   "source": [
    "## 3. Deleting an object from the database\n",
    "\n",
    "Deleting an item from the database can be done using the `delete_item` function. It uses the same arguments as the `get_item` function."
   ]
  },
  {
   "cell_type": "code",
   "execution_count": 9,
   "metadata": {},
   "outputs": [],
   "source": [
    "DM.delete_item(\"scenario\", scenario1.uid)"
   ]
  },
  {
   "cell_type": "code",
   "execution_count": 10,
   "metadata": {},
   "outputs": [
    {
     "data": {
      "text/plain": [
       "False"
      ]
     },
     "execution_count": 10,
     "metadata": {},
     "output_type": "execute_result"
    }
   ],
   "source": [
    "scenario1.uid in DM.collections[\"scenario\"]"
   ]
  },
  {
   "cell_type": "markdown",
   "metadata": {},
   "source": [
    "As shown above, the ID of the deleted scenario is not found anymore in the collections. Note, however, that the attribute objects of the scenario are not deleted from the database. For example, the actor is still in the database:"
   ]
  },
  {
   "cell_type": "code",
   "execution_count": 11,
   "metadata": {},
   "outputs": [
    {
     "data": {
      "text/plain": [
       "True"
      ]
     },
     "execution_count": 11,
     "metadata": {},
     "output_type": "execute_result"
    }
   ],
   "source": [
    "scenario1.actors[0].uid in DM.collections[\"actor\"]"
   ]
  },
  {
   "cell_type": "markdown",
   "metadata": {},
   "source": [
    "For demonstrating another functionality, let us also delete the target vehicle of the first scenario:"
   ]
  },
  {
   "cell_type": "code",
   "execution_count": 12,
   "metadata": {},
   "outputs": [],
   "source": [
    "DM.delete_item(\"actor\", scenario1.actors[1].uid)"
   ]
  },
  {
   "cell_type": "markdown",
   "metadata": {},
   "source": [
    "## 4. Add item to the database\n",
    "\n",
    "To add an object to the database, use the `add_item` function with as only argument the object that has to be added to the database. For example, we can add the deleted scenario to the database."
   ]
  },
  {
   "cell_type": "code",
   "execution_count": 13,
   "metadata": {},
   "outputs": [],
   "source": [
    "DM.add_item(scenario1)"
   ]
  },
  {
   "cell_type": "markdown",
   "metadata": {},
   "source": [
    "Note, however, that when trying to retrieve this scenario that we just added, an error will occur:"
   ]
  },
  {
   "cell_type": "code",
   "execution_count": 14,
   "metadata": {},
   "outputs": [
    {
     "name": "stdout",
     "output_type": "stream",
     "text": [
      "Key not found: 210012260450476655720478580346655076981\n",
      "ID of actor that we deleted: 210012260450476655720478580346655076981\n"
     ]
    }
   ],
   "source": [
    "try:\n",
    "    scenario3 = DM.get_item(\"scenario\", scenario1.uid)\n",
    "except KeyError as e:\n",
    "    print(\"Key not found: {}\".format(e))\n",
    "print(\"ID of actor that we deleted: {:d}\".format(scenario1.actors[1].uid))"
   ]
  },
  {
   "cell_type": "markdown",
   "metadata": {},
   "source": [
    "What happened here? While we are trying to retrieve the scenario, the `get_item` function automatically tries to retrieve the attribute objects of the scenario. However, it fails to retrieve the target vehicle, because that object has not been added to the database after we deleted it. In other words, by default, only the object that is passed to `add_item` is stored in the database, while its attribute objects are not stored.\n",
    "\n",
    "In order to also store the attributes, add `include_atributes=True` to the function call:"
   ]
  },
  {
   "cell_type": "code",
   "execution_count": 15,
   "metadata": {},
   "outputs": [],
   "source": [
    "DM.add_item(scenario1, include_attributes=True)"
   ]
  },
  {
   "cell_type": "code",
   "execution_count": 16,
   "metadata": {},
   "outputs": [],
   "source": [
    "scenario3 = DM.get_item(\"scenario\", scenario1.uid)"
   ]
  },
  {
   "cell_type": "markdown",
   "metadata": {},
   "source": [
    "Now there is no error when retrieving the scenario from the database."
   ]
  },
  {
   "cell_type": "markdown",
   "metadata": {},
   "source": [
    "## 5. Looping through all scenarios\n",
    "\n",
    "In the following example, we demonstrate how to loop through all scenarios. In principle, the same can be done with the other objects."
   ]
  },
  {
   "cell_type": "code",
   "execution_count": 17,
   "metadata": {},
   "outputs": [
    {
     "data": {
      "image/png": "[encoded data removed]",
      "text/plain": [
       "<Figure size 432x288 with 1 Axes>"
      ]
     },
     "metadata": {
      "needs_background": "light"
     },
     "output_type": "display_data"
    }
   ],
   "source": [
    "for key in DM.collections[\"scenario\"]:\n",
    "    scenario = DM.get_item(\"scenario\", key)\n",
    "    \n",
    "    # To get the speed, we need:\n",
    "    # 1. The right actor, which is always the second (index=1) actor of the scenario.\n",
    "    # 2. Select the right state variable (StateVariable.LON_TARGET).\n",
    "    # 3. Select the right time window.\n",
    "    # Note: StateVariable.LON_TARGET contains two variables: speed and distance (hence the \"[:, 0]\").\n",
    "    time = np.linspace(scenario.get_tstart(), scenario.get_tend(), 100)\n",
    "    leading_speed = scenario.get_state(scenario.actors[1], StateVariable.LON_TARGET, time)[:, 0]\n",
    "    \n",
    "    plt.plot(time-scenario.get_tstart(), leading_speed, color=(.5, .5, .5))\n",
    "    \n",
    "plt.xlabel(\"Time [s]\")\n",
    "plt.ylabel(\"Speed [m/s]\")\n",
    "_ = plt.title(\"Speed of leading vehicle during scenario\")"
   ]
  },
  {
   "cell_type": "markdown",
   "metadata": {},
   "source": [
    "You reached the end of the fourth and final tutorial. We hope it has been useful! If you have any questions/requests, please contact us."
   ]
  }
 ],
 "metadata": {
  "kernelspec": {
   "display_name": "Python 3",
   "language": "python",
   "name": "python3"
  },
  "language_info": {
   "codemirror_mode": {
    "name": "ipython",
    "version": 3
   },
   "file_extension": ".py",
   "mimetype": "text/x-python",
   "name": "python",
   "nbconvert_exporter": "python",
   "pygments_lexer": "ipython3",
   "version": "3.7.3"
  }
 },
 "nbformat": 4,
 "nbformat_minor": 2
}
