{
 "cells": [
  {
   "cell_type": "code",
   "execution_count": null,
   "metadata": {},
   "outputs": [],
   "source": [
    "import matplotlib.pyplot as plt\n",
    "import numpy as np"
   ]
  },
  {
   "cell_type": "code",
   "execution_count": null,
   "metadata": {},
   "outputs": [],
   "source": [
    "class Scenario(QualitativeScenario):\n",
    "    def __init__(self):\n",
    "        QualitativeScenario.__init__(self, \"bla\")"
   ]
  },
  {
   "cell_type": "code",
   "execution_count": null,
   "metadata": {},
   "outputs": [],
   "source": [
    "class ActivityClass:\n",
    "    def __init__(self, name, model, state):\n",
    "        self.name = name\n",
    "        self.model = model\n",
    "        self.state = state"
   ]
  },
  {
   "cell_type": "code",
   "execution_count": null,
   "metadata": {},
   "outputs": [],
   "source": [
    "class Activity(ActivityClass):\n",
    "    def __init__(self, name, model, state, tstart, tend, parameters):\n",
    "        ActivityClass.__init__(self, name, model, state)\n",
    "        self.tstart = tstart\n",
    "        self.tend = tend\n",
    "        self.tduration = tend - tstart\n",
    "        self.parameters = parameters\n",
    "        \n",
    "        # Set model parameters\n",
    "        self.model.set_parameters(self.parameters)\n",
    "        \n",
    "    def plot_state(self):\n",
    "        x = np.linspace(self.tstart, self.tend, 100)\n",
    "        y = self.model.get_state(n=len(x))\n",
    "        plt.plot(x, y)\n",
    "        plt.xlabel(\"Time\")\n",
    "        plt.ylabel(self.state)\n",
    "        \n",
    "    def plot_state_dot(self):\n",
    "        x = np.linspace(self.tstart, self.tend, 100)\n",
    "        y = self.model.get_state_dot(n=len(x)) / (self.tend - self.tstart)\n",
    "        plt.plot(x, y)\n",
    "        plt.xlabel(\"Time\")\n",
    "        plt.ylabel(\"{:s} dot\".format(self.state))"
   ]
  },
  {
   "cell_type": "code",
   "execution_count": null,
   "metadata": {},
   "outputs": [],
   "source": [
    "class Model:\n",
    "    def __init__(self):\n",
    "        self.p = {}\n",
    "        \n",
    "    def set_parameters(self, parameters):\n",
    "        self.p = parameters\n",
    "    \n",
    "class spline_3_knots(Model):\n",
    "    def get_state(self, n=100):\n",
    "        x = np.linspace(0, 1, n)\n",
    "        x1 = x[:n//2]\n",
    "        x2 = x[n//2:]\n",
    "        y1 = self.p[\"a1\"]*x1**3 + self.p[\"b1\"]*x1**2 + self.p[\"c1\"]*x1 + self.p[\"d1\"]\n",
    "        y2 = self.p[\"a2\"]*x2**3 + self.p[\"b2\"]*x2**2 + self.p[\"c2\"]*x2 + self.p[\"d2\"]\n",
    "        y = np.concatenate((y1, y2))\n",
    "        return self.p[\"xstart\"] + y*(self.p[\"xend\"] - self.p[\"xstart\"])\n",
    "    \n",
    "    def get_state_dot(self, n=100):\n",
    "        x = np.linspace(0, 1, n)\n",
    "        x1 = x[:n//2]\n",
    "        x2 = x[n//2:]\n",
    "        y1 = 3*self.p[\"a1\"]*x1**2 + 2*self.p[\"b1\"]*x1 + self.p[\"c1\"]\n",
    "        y2 = 3*self.p[\"a2\"]*x2**2 + 2*self.p[\"b2\"]*x2 + self.p[\"c2\"]\n",
    "        y = np.concatenate((y1, y2))\n",
    "        return y*(self.p[\"xend\"] - self.p[\"xstart\"])\n",
    "\n",
    "class linear(Model):\n",
    "    def get_state(self, n=100):\n",
    "        return np.linspace(self.p[\"xstart\"], self.p[\"xend\"], n)\n",
    "    \n",
    "    def get_state_dot(self, n=100):\n",
    "        return np.ones(n) * (self.p[\"xend\"] - self.p[\"xstart\"])"
   ]
  },
  {
   "cell_type": "code",
   "execution_count": null,
   "metadata": {},
   "outputs": [],
   "source": [
    "acc = ActivyClass(\"acceleration\", spline_3_knots(), \"x\")\n",
    "ego_acceleration1 = Activity(acc, 0, 8.97, \n",
    "                            {\"xstart\": 0, \"xend\": 133, \"a1\": -7.55e-2, \"b1\": 3.62e-1, \"c1\": 7.07e-1, \"d1\": 0,\n",
    "                             \"a2\": -2.18e-2, \"b2\": 2.82e-1, \"c2\": 7.47e-1, \"d2\": -6.73e-3})\n",
    "ego_braking = Activity(\"braking\", spline_3_knots(), \"x\", 9.00, 10.98,\n",
    "                       {\"xstart\": 133, \"xend\": 168, \"a1\": 1.56e-2, \"b1\": -6.27e-2, \"c1\": 1.04, \"d1\": 0,\n",
    "                        \"a2\":3.31e-2, \"b2\": -8.89e-2, \"c2\": 1.06, \"d2\": -2.18e-3})\n",
    "ego_cruising1 = Activity(\"cruising\", linear(), \"x\", 11, 17.98, {\"xstart\": 168, \"xend\": 287})\n",
    "ego_acceleration2 = Activity(\"acceleration\", spline_3_knots(), \"x\", 18, 22.98,\n",
    "                             {\"xstart\": 288, \"xend\": 381, \"a1\": -6.8e-2, \"b1\": 1.45e-1, \"c1\": 9.17e-1, \"d1\": 0,\n",
    "                              \"a2\": -3.12e-2, \"b2\": 9.09e-2, \"c2\": 9.45e-1, \"d2\": -4.6e-3})\n",
    "ego_cruising2 = Activity(\"cruising\", linear(), \"x\", 23, 42.3, {\"xstart\": 381, \"xend\": 756})"
   ]
  },
  {
   "cell_type": "code",
   "execution_count": null,
   "metadata": {},
   "outputs": [],
   "source": [
    "ego_acceleration1.plot_state()\n",
    "ego_braking.plot_state()\n",
    "ego_cruising1.plot_state()\n",
    "ego_acceleration2.plot_state()\n",
    "ego_cruising2.plot_state()\n",
    "plt.show()"
   ]
  },
  {
   "cell_type": "code",
   "execution_count": null,
   "metadata": {},
   "outputs": [],
   "source": [
    "ego_acceleration1.plot_state_dot()\n",
    "ego_braking.plot_state_dot()\n",
    "ego_cruising1.plot_state_dot()\n",
    "ego_acceleration2.plot_state_dot()\n",
    "ego_cruising2.plot_state_dot()\n",
    "plt.show()"
   ]
  },
  {
   "cell_type": "code",
   "execution_count": null,
   "metadata": {},
   "outputs": [],
   "source": [
    "class Actor:\n",
    "    def __init__(self, name, list_of_activity):\n",
    "        self.name = name\n",
    "        self.list_of_activity = list_of_activity\n",
    "        \n",
    "    def plot_state(self, state):\n",
    "        for activity in self.activities:\n",
    "            if activity.state == state:\n",
    "                activity.plot_state()\n",
    "                \n",
    "    def plot_state_dot(self, state):\n",
    "        for activity in self.activities:\n",
    "            if activity.state == state:\n",
    "                activity.plot_state_dot()"
   ]
  },
  {
   "cell_type": "code",
   "execution_count": null,
   "metadata": {},
   "outputs": [],
   "source": [
    "ego = Actor(\"ego\", [ego_acceleration1, ego_braking, ego_cruising1])\n",
    "ego.plot_state_dot(\"x\")\n",
    "plt.show()"
   ]
  },
  {
   "cell_type": "code",
   "execution_count": null,
   "metadata": {},
   "outputs": [],
   "source": [
    "pickuptruck = Actor(\"actor\", [Activity(\"cruising\", linear(), \"x\", 0.8, 33.4, {\"xstart\": 117, \"xend\": 556})])\n",
    "pickuptruck.plot_state_dot(\"x\")\n",
    "plt.show()"
   ]
  },
  {
   "cell_type": "code",
   "execution_count": null,
   "metadata": {},
   "outputs": [],
   "source": [
    "class Scenario:\n",
    "    def __init__(self, actors):\n",
    "        self.actors = actors\n",
    "    \n",
    "    def plot_state(self, state):\n",
    "        for actor in self.actors:\n",
    "            actor.plot_state(\"x\")"
   ]
  },
  {
   "cell_type": "code",
   "execution_count": null,
   "metadata": {},
   "outputs": [],
   "source": [
    "scenario1 = Scenario([ego, pickuptruck])\n",
    "scenario1.plot_state(\"x\")"
   ]
  },
  {
   "cell_type": "code",
   "execution_count": null,
   "metadata": {},
   "outputs": [],
   "source": []
  }
 ],
 "metadata": {
  "kernelspec": {
   "display_name": "Python 3",
   "language": "python",
   "name": "python3"
  },
  "language_info": {
   "codemirror_mode": {
    "name": "ipython",
    "version": 3
   },
   "file_extension": ".py",
   "mimetype": "text/x-python",
   "name": "python",
   "nbconvert_exporter": "python",
   "pygments_lexer": "ipython3",
   "version": "3.6.5"
  }
 },
 "nbformat": 4,
 "nbformat_minor": 2
}
