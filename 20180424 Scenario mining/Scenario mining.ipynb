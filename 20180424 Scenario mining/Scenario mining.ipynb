{
 "cells": [
  {
   "cell_type": "code",
   "execution_count": null,
   "metadata": {},
   "outputs": [],
   "source": [
    "import numpy as np\n",
    "import matplotlib.pyplot as plt\n",
    "import gmaps  # conda install -c conda-forge gmaps\n",
    "import os\n",
    "import scipy.io\n",
    "import utm\n",
    "%matplotlib inline\n",
    "gmaps.configure(api_key=os.environ['GOOGLE_API_KEY']) # http://jupyter-gmaps.readthedocs.io/en/latest/authentication.html"
   ]
  },
  {
   "cell_type": "code",
   "execution_count": null,
   "metadata": {},
   "outputs": [],
   "source": [
    "# Load the .mat file with the data\n",
    "i_driver = 0  # [0-19]\n",
    "data = scipy.io.loadmat('data.mat')\n",
    "names = data['data'].dtype.names\n",
    "d = {name: data['data'][0][name][0].T[0] for name in names}"
   ]
  },
  {
   "cell_type": "code",
   "execution_count": null,
   "metadata": {
    "scrolled": false
   },
   "outputs": [],
   "source": [
    "# Only take first lap\n",
    "for key in d:\n",
    "    if len(d[key].shape) == 1:\n",
    "        if d[key].shape[0] > d['lap2'][0]:\n",
    "            d[key] = d[key][0:d['lap2'][0]-1]"
   ]
  },
  {
   "cell_type": "code",
   "execution_count": null,
   "metadata": {},
   "outputs": [],
   "source": [
    "# Compute UTM coordinates\n",
    "zonenumber = 31\n",
    "n = len(d['latitude'])\n",
    "x = np.zeros(n)\n",
    "y = np.zeros(n)\n",
    "for i in range(n):\n",
    "    x[i], y[i], _, _ = utm.conversion.from_latlon(d['latitude'][i], d['longitude'][i], zonenumber)\n",
    "d['x'], d['y'] = x, y"
   ]
  },
  {
   "cell_type": "markdown",
   "metadata": {},
   "source": [
    "## Show route on map"
   ]
  },
  {
   "cell_type": "code",
   "execution_count": null,
   "metadata": {},
   "outputs": [],
   "source": [
    "fig = gmaps.figure()\n",
    "latlon = np.array([x[0::10] for x in [d['latitude'], d['longitude']]]).T\n",
    "fig.add_layer(gmaps.heatmap_layer(latlon, max_intensity=1, point_radius=3, gradient=[(0, 0, 0, 0), (0, 0, 100, 1)]))\n",
    "fig"
   ]
  },
  {
   "cell_type": "markdown",
   "metadata": {},
   "source": [
    "## Find highway type and speed limit"
   ]
  },
  {
   "cell_type": "code",
   "execution_count": null,
   "metadata": {},
   "outputs": [],
   "source": [
    "# Define the ports\n",
    "ports = [[51.474087, 5.625334, 'unclassified', 50],\n",
    "        [51.475764, 5.631662, 'tertiary', 50],\n",
    "        [51.474687, 5.633069, 'primary', 50],\n",
    "        [51.473146, 5.626973, 'primary', 70],\n",
    "        [51.471701, 5.609417, 'trunk', 100],\n",
    "        [51.465868, 5.586438, 'motorway', 130],  # Nowadays, this is 100\n",
    "        [51.456499, 5.539918, 'primary', 80],\n",
    "        [51.454694, 5.523736, 'primary', 70],\n",
    "        [51.447876, 5.502409, 'primary', 50],\n",
    "        [51.448012, 5.499805, 'primary', 70],\n",
    "        [51.452863, 5.486742, 'primary', 50],\n",
    "        [51.453845, 5.485508, 'primary', 70],\n",
    "        [51.481708, 5.489687, 'primary', 50],\n",
    "        [51.485662, 5.490834, 'secondary', 50],\n",
    "        [51.483252, 5.454073, 'tertiary', 30],\n",
    "        [51.482943, 5.433376, 'primary', 70],\n",
    "        [51.461943, 5.454222, 'primary', 50],\n",
    "        [51.451746, 5.464362, 'secondary', 50],\n",
    "        [51.438750, 5.468962, 'tertiary', 50],\n",
    "        [51.438785, 5.467723, 'tertiary', 30],\n",
    "        [51.435833, 5.451989, 'primary', 70],\n",
    "        [51.424038, 5.492663, 'primary', 50],\n",
    "        [51.415295, 5.497910, 'primary', 70],\n",
    "        [51.413424, 5.498853, 'trunk', 70],\n",
    "        [51.406835, 5.501793, 'trunk', 50],\n",
    "        [51.404468, 5.504141, 'motorway_link', 120],\n",
    "        [51.404908, 5.511230, 'motorway', 120],\n",
    "        [51.406685, 5.561949, 'motorway_link', 80],\n",
    "        [51.405968, 5.561648, 'secondary', 80],\n",
    "        [51.407584, 5.560872, 'secondary', 50],\n",
    "        [51.410741, 5.558681, 'tertiary', 50],\n",
    "        [51.417679, 5.557647, 'secondary', 50],\n",
    "        [51.431485, 5.580010, 'secondary', 80],\n",
    "        [51.437847, 5.599852, 'secondary', 50],\n",
    "        [51.448061, 5.619450, 'secondary', 80],\n",
    "        [51.451768, 5.622338, 'secondary', 50],\n",
    "        [51.460720, 5.631917, 'tertiary', 50],\n",
    "        [51.475784, 5.631499, 'unclassified', 50]]\n",
    "ports = [{'lat': x[0], 'lon': x[1], 'highway': x[2], 'speedlimit': x[3]} for x in ports]"
   ]
  },
  {
   "cell_type": "code",
   "execution_count": null,
   "metadata": {},
   "outputs": [],
   "source": [
    "# Define the numbers for the highway labels\n",
    "highway_labels = {'unclassified': 0,\n",
    "                  'motorway': 1,\n",
    "                  'trunk': 2,\n",
    "                  'primary': 3,\n",
    "                  'secondary': 4,\n",
    "                  'tertiary': 5,\n",
    "                  'motorway_link': 6}"
   ]
  },
  {
   "cell_type": "code",
   "execution_count": null,
   "metadata": {},
   "outputs": [],
   "source": [
    "speedlim = 50  # Start with speed limit of 50\n",
    "road_type = highway_labels['unclassified']\n",
    "\n",
    "dist = np.zeros(n)\n",
    "d['road_type'] = np.zeros(n)\n",
    "d['road_type'][0] = road_type\n",
    "d['speedlim'] = np.zeros(n)\n",
    "d['speedlim'][0] = speedlim  \n",
    "iport = 0\n",
    "portx, porty, _, _ = utm.conversion.from_latlon(ports[iport]['lat'], ports[iport]['lon'], zonenumber)\n",
    "dist[0] = np.hypot(portx - d['x'][0], porty - d['y'][0])\n",
    "\n",
    "# Now loop through all datapoints and change if distance to port increases\n",
    "for i in range(1, n):\n",
    "    dist[i] = np.hypot(portx - d['x'][i], porty - d['y'][i])\n",
    "    if dist[i] > dist[i-1] and dist[i] < 30:\n",
    "        # We crossed a port\n",
    "        road_type = highway_labels[ports[iport]['highway']]\n",
    "        speedlim = ports[iport]['speedlimit']\n",
    "        if iport + 1 < len(ports):\n",
    "            iport += 1\n",
    "        portx, porty, _, _ = utm.conversion.from_latlon(ports[iport]['lat'], ports[iport]['lon'], zonenumber)\n",
    "    d['road_type'][i] = road_type\n",
    "    d['speedlim'][i] = speedlim"
   ]
  },
  {
   "cell_type": "code",
   "execution_count": null,
   "metadata": {},
   "outputs": [],
   "source": [
    "# Show speed limit on map\n",
    "dist_points = 10  # [m]\n",
    "i = [0]\n",
    "for j in range(1, n):\n",
    "    if np.hypot(d['x'][j] - d['x'][i[-1]], d['y'][j] - d['y'][i[-1]]) > dist_points:\n",
    "        i.append(j)\n",
    "idx_same_dist = i.copy()\n",
    "fig = gmaps.figure()\n",
    "latlon = np.array([d['latitude'][idx_same_dist], d['longitude'][idx_same_dist]]).T\n",
    "fig.add_layer(gmaps.heatmap_layer(latlon, weights=d['speedlim'][idx_same_dist]/5000))\n",
    "fig"
   ]
  },
  {
   "cell_type": "code",
   "execution_count": null,
   "metadata": {},
   "outputs": [],
   "source": [
    "# Show the road type in different colors\n",
    "fig = gmaps.figure()\n",
    "latlon = np.array([d['latitude'][idx_same_dist], d['longitude'][idx_same_dist]]).T\n",
    "fig.add_layer(gmaps.heatmap_layer(latlon, weights=1/(d['road_type'][idx_same_dist]+1)/20))\n",
    "fig"
   ]
  },
  {
   "cell_type": "code",
   "execution_count": null,
   "metadata": {},
   "outputs": [],
   "source": []
  }
 ],
 "metadata": {
  "anaconda-cloud": {},
  "kernelspec": {
   "display_name": "Python 3",
   "language": "python",
   "name": "python3"
  },
  "language_info": {
   "codemirror_mode": {
    "name": "ipython",
    "version": 3
   },
   "file_extension": ".py",
   "mimetype": "text/x-python",
   "name": "python",
   "nbconvert_exporter": "python",
   "pygments_lexer": "ipython3",
   "version": "3.6.4"
  }
 },
 "nbformat": 4,
 "nbformat_minor": 1
}
