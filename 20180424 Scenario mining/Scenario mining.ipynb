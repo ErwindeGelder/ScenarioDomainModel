{
 "cells": [
  {
   "cell_type": "code",
   "execution_count": null,
   "metadata": {},
   "outputs": [],
   "source": [
    "import numpy as np\n",
    "import matplotlib.pyplot as plt\n",
    "import gmaps  # conda install -c conda-forge gmaps\n",
    "import os\n",
    "import scipy.io\n",
    "import utm\n",
    "import cv2\n",
    "from tqdm import tqdm_notebook as tqdm\n",
    "%matplotlib inline\n",
    "gmaps.configure(api_key=os.environ['GOOGLE_API_KEY']) # http://jupyter-gmaps.readthedocs.io/en/latest/authentication.html"
   ]
  },
  {
   "cell_type": "code",
   "execution_count": null,
   "metadata": {},
   "outputs": [],
   "source": [
    "# Load the .mat file with the data\n",
    "i_driver = 0  # [0-19]\n",
    "data = scipy.io.loadmat('data.mat')\n",
    "names = data['data'].dtype.names\n",
    "d = {name: data['data'][0][name][0].T[0] for name in names}\n",
    "\n",
    "# Print the names of the variables\n",
    "_ = [print(name) for name in names]"
   ]
  },
  {
   "cell_type": "code",
   "execution_count": null,
   "metadata": {
    "scrolled": false
   },
   "outputs": [],
   "source": [
    "# Only take first lap\n",
    "for key in d:\n",
    "    if len(d[key].shape) == 1:\n",
    "        if d[key].shape[0] > d['lap2'][0]:\n",
    "            d[key] = d[key][0:d['lap2'][0]-1]"
   ]
  },
  {
   "cell_type": "code",
   "execution_count": null,
   "metadata": {},
   "outputs": [],
   "source": [
    "# Compute UTM coordinates\n",
    "zonenumber = 31\n",
    "n = len(d['latitude'])\n",
    "x = np.zeros(n)\n",
    "y = np.zeros(n)\n",
    "for i in range(n):\n",
    "    x[i], y[i], _, _ = utm.conversion.from_latlon(d['latitude'][i], d['longitude'][i], zonenumber)\n",
    "d['x'], d['y'] = x, y"
   ]
  },
  {
   "cell_type": "code",
   "execution_count": null,
   "metadata": {},
   "outputs": [],
   "source": [
    "# Get video\n",
    "cap = cv2.VideoCapture(\"participant01ride01.mp4\")\n",
    "fps = cap.get(cv2.CAP_PROP_FPS)\n",
    "fwidth = int(cap.get(cv2.CAP_PROP_FRAME_WIDTH))\n",
    "fheight = int(cap.get(cv2.CAP_PROP_FRAME_HEIGHT))"
   ]
  },
  {
   "cell_type": "markdown",
   "metadata": {},
   "source": [
    "## Show route on map"
   ]
  },
  {
   "cell_type": "code",
   "execution_count": null,
   "metadata": {},
   "outputs": [],
   "source": [
    "fig = gmaps.figure()\n",
    "latlon = np.array([x[0::10] for x in [d['latitude'], d['longitude']]]).T\n",
    "fig.add_layer(gmaps.heatmap_layer(latlon, max_intensity=1, point_radius=3, gradient=[(0, 0, 0, 0), (0, 0, 100, 1)]))\n",
    "fig"
   ]
  },
  {
   "cell_type": "markdown",
   "metadata": {},
   "source": [
    "## Find highway type and speed limit"
   ]
  },
  {
   "cell_type": "code",
   "execution_count": null,
   "metadata": {},
   "outputs": [],
   "source": [
    "# Define the ports\n",
    "ports = [[51.474087, 5.625334, 'unclassified', 50],\n",
    "        [51.475764, 5.631662, 'tertiary', 50],\n",
    "        [51.474687, 5.633069, 'primary', 50],\n",
    "        [51.473146, 5.626973, 'primary', 70],\n",
    "        [51.471701, 5.609417, 'trunk', 100],\n",
    "        [51.465868, 5.586438, 'motorway', 130],  # Nowadays, this is 100\n",
    "        [51.456499, 5.539918, 'primary', 80],\n",
    "        [51.454694, 5.523736, 'primary', 70],\n",
    "        [51.447876, 5.502409, 'primary', 50],\n",
    "        [51.448012, 5.499805, 'primary', 70],\n",
    "        [51.452863, 5.486742, 'primary', 50],\n",
    "        [51.453845, 5.485508, 'primary', 70],\n",
    "        [51.481708, 5.489687, 'primary', 50],\n",
    "        [51.485662, 5.490834, 'secondary', 50],\n",
    "        [51.483252, 5.454073, 'tertiary', 30],\n",
    "        [51.482943, 5.433376, 'primary', 70],\n",
    "        [51.461943, 5.454222, 'primary', 50],\n",
    "        [51.451746, 5.464362, 'secondary', 50],\n",
    "        [51.438750, 5.468962, 'tertiary', 50],\n",
    "        [51.438785, 5.467723, 'tertiary', 30],\n",
    "        [51.435833, 5.451989, 'primary', 70],\n",
    "        [51.424038, 5.492663, 'primary', 50],\n",
    "        [51.415295, 5.497910, 'primary', 70],\n",
    "        [51.413424, 5.498853, 'trunk', 70],\n",
    "        [51.406835, 5.501793, 'trunk', 50],\n",
    "        [51.404468, 5.504141, 'motorway_link', 120],\n",
    "        [51.404908, 5.511230, 'motorway', 120],\n",
    "        [51.406685, 5.561949, 'motorway_link', 80],\n",
    "        [51.405968, 5.561648, 'secondary', 80],\n",
    "        [51.407584, 5.560872, 'secondary', 50],\n",
    "        [51.410741, 5.558681, 'tertiary', 50],\n",
    "        [51.417679, 5.557647, 'secondary', 50],\n",
    "        [51.431485, 5.580010, 'secondary', 80],\n",
    "        [51.437847, 5.599852, 'secondary', 50],\n",
    "        [51.448061, 5.619450, 'secondary', 80],\n",
    "        [51.451768, 5.622338, 'secondary', 50],\n",
    "        [51.460720, 5.631917, 'tertiary', 50],\n",
    "        [51.475784, 5.631499, 'unclassified', 50]]\n",
    "ports = [{'lat': x[0], 'lon': x[1], 'highway': x[2], 'speedlimit': x[3]} for x in ports]"
   ]
  },
  {
   "cell_type": "code",
   "execution_count": null,
   "metadata": {},
   "outputs": [],
   "source": [
    "# Define the numbers for the highway labels\n",
    "highway_labels = {'unclassified': 0,\n",
    "                  'motorway': 1,\n",
    "                  'trunk': 2,\n",
    "                  'primary': 3,\n",
    "                  'secondary': 4,\n",
    "                  'tertiary': 5,\n",
    "                  'motorway_link': 6}"
   ]
  },
  {
   "cell_type": "code",
   "execution_count": null,
   "metadata": {},
   "outputs": [],
   "source": [
    "speedlim = 50  # Start with speed limit of 50\n",
    "road_type = highway_labels['unclassified']\n",
    "\n",
    "dist = np.zeros(n)\n",
    "d['road_type'] = np.zeros(n)\n",
    "d['road_type'][0] = road_type\n",
    "d['speedlim'] = np.zeros(n)\n",
    "d['speedlim'][0] = speedlim  \n",
    "iport = 0\n",
    "portx, porty, _, _ = utm.conversion.from_latlon(ports[iport]['lat'], ports[iport]['lon'], zonenumber)\n",
    "dist[0] = np.hypot(portx - d['x'][0], porty - d['y'][0])\n",
    "\n",
    "# Now loop through all datapoints and change if distance to port increases\n",
    "for i in range(1, n):\n",
    "    dist[i] = np.hypot(portx - d['x'][i], porty - d['y'][i])\n",
    "    if dist[i] > dist[i-1] and dist[i] < 30:\n",
    "        # We crossed a port\n",
    "        road_type = highway_labels[ports[iport]['highway']]\n",
    "        speedlim = ports[iport]['speedlimit'] / 3.6\n",
    "        if iport + 1 < len(ports):\n",
    "            iport += 1\n",
    "        portx, porty, _, _ = utm.conversion.from_latlon(ports[iport]['lat'], ports[iport]['lon'], zonenumber)\n",
    "    d['road_type'][i] = road_type\n",
    "    d['speedlim'][i] = speedlim"
   ]
  },
  {
   "cell_type": "code",
   "execution_count": null,
   "metadata": {},
   "outputs": [],
   "source": [
    "# Show speed limit on map\n",
    "dist_points = 10  # [m]\n",
    "i = [0]\n",
    "for j in range(1, n):\n",
    "    if np.hypot(d['x'][j] - d['x'][i[-1]], d['y'][j] - d['y'][i[-1]]) > dist_points:\n",
    "        i.append(j)\n",
    "idx_same_dist = i.copy()\n",
    "fig = gmaps.figure()\n",
    "latlon = np.array([d['latitude'][idx_same_dist], d['longitude'][idx_same_dist]]).T\n",
    "fig.add_layer(gmaps.heatmap_layer(latlon, weights=d['speedlim'][idx_same_dist]/2000))\n",
    "fig"
   ]
  },
  {
   "cell_type": "code",
   "execution_count": null,
   "metadata": {},
   "outputs": [],
   "source": [
    "# Show the road type in different colors\n",
    "fig = gmaps.figure()\n",
    "latlon = np.array([d['latitude'][idx_same_dist], d['longitude'][idx_same_dist]]).T\n",
    "fig.add_layer(gmaps.heatmap_layer(latlon, weights=1/(d['road_type'][idx_same_dist]+1)/20))\n",
    "fig"
   ]
  },
  {
   "cell_type": "markdown",
   "metadata": {},
   "source": [
    "## Determine the curvature"
   ]
  },
  {
   "cell_type": "code",
   "execution_count": null,
   "metadata": {},
   "outputs": [],
   "source": [
    "# Do this simply by using the yaw rate and velocity\n",
    "kappa = d['EGO_yawrate'] / np.max(np.array([d['EGO_lonVel'], np.ones_like(d['EGO_lonVel'])*5/3.6]), axis=0)\n",
    "acc = d['speedlim']**2 * np.abs(kappa)\n",
    "plt.plot(d['tdata'], acc)\n",
    "plt.ylim([0, 20])\n",
    "plt.xlabel('Time [s]')\n",
    "plt.ylabel('Required acceleration [m/s$^2$]')"
   ]
  },
  {
   "cell_type": "code",
   "execution_count": null,
   "metadata": {},
   "outputs": [],
   "source": [
    "lim1 = 2\n",
    "lim2 = 10\n",
    "d['curv_class'] = np.zeros_like(d['latitude'])\n",
    "d['curv_class'][acc > lim1] = 1\n",
    "d['curv_class'][acc > lim2] = 2\n",
    "fig = gmaps.figure()\n",
    "latlon = np.array([d['latitude'][acc > lim1], d['longitude'][acc > lim1]]).T\n",
    "fig.add_layer(gmaps.heatmap_layer(latlon))\n",
    "fig"
   ]
  },
  {
   "cell_type": "code",
   "execution_count": null,
   "metadata": {
    "scrolled": true
   },
   "outputs": [],
   "source": [
    "plt.plot(d['tdata'], d['curv_class'])\n",
    "plt.xlabel('Time [s]')\n",
    "plt.ylabel('Curvature class')"
   ]
  },
  {
   "cell_type": "markdown",
   "metadata": {},
   "source": [
    "## Weather"
   ]
  },
  {
   "cell_type": "code",
   "execution_count": null,
   "metadata": {},
   "outputs": [],
   "source": [
    "# It is always sunny weather, so skip this for now"
   ]
  },
  {
   "cell_type": "markdown",
   "metadata": {},
   "source": [
    "## Longitudinal events/activities"
   ]
  },
  {
   "cell_type": "code",
   "execution_count": null,
   "metadata": {},
   "outputs": [],
   "source": [
    "threshold_a = 0.2\n",
    "d['accelerating'] = d['EGO_lonAcc'] > threshold_a\n",
    "d['braking'] = d['EGO_lonAcc'] < -threshold_a\n",
    "d['cruising'] = np.logical_not(np.logical_or(d['accelerating'], d['braking']))"
   ]
  },
  {
   "cell_type": "code",
   "execution_count": null,
   "metadata": {},
   "outputs": [],
   "source": [
    "# Show accelerating\n",
    "same_dist = np.zeros(len(d['latitude']), dtype=np.bool)\n",
    "same_dist[idx_same_dist] = True\n",
    "idx = np.logical_and(same_dist, d['accelerating'])\n",
    "fig = gmaps.figure()\n",
    "latlon = np.array([d['latitude'][idx], d['longitude'][idx]]).T\n",
    "fig.add_layer(gmaps.heatmap_layer(latlon))\n",
    "fig"
   ]
  },
  {
   "cell_type": "code",
   "execution_count": null,
   "metadata": {},
   "outputs": [],
   "source": [
    "# Show braking\n",
    "idx = np.logical_and(same_dist, d['braking'])\n",
    "fig = gmaps.figure()\n",
    "latlon = np.array([d['latitude'][idx], d['longitude'][idx]]).T\n",
    "fig.add_layer(gmaps.heatmap_layer(latlon))\n",
    "fig"
   ]
  },
  {
   "cell_type": "code",
   "execution_count": null,
   "metadata": {},
   "outputs": [],
   "source": [
    "# Show cruising\n",
    "idx = np.logical_and(same_dist, d['cruising'])\n",
    "fig = gmaps.figure()\n",
    "latlon = np.array([d['latitude'][idx], d['longitude'][idx]]).T\n",
    "fig.add_layer(gmaps.heatmap_layer(latlon))\n",
    "fig"
   ]
  },
  {
   "cell_type": "markdown",
   "metadata": {},
   "source": [
    "## Lateral events/activities"
   ]
  },
  {
   "cell_type": "code",
   "execution_count": null,
   "metadata": {},
   "outputs": [],
   "source": [
    "def make_images(idx, folder):\n",
    "    if not os.path.exists(folder):\n",
    "        os.mkdir(folder)\n",
    "    for i in tqdm(idx):\n",
    "        dt = 2  # [s]\n",
    "        image = np.zeros((fheight, 3*fwidth, 3), dtype=np.uint8)\n",
    "        cap.set(cv2.CAP_PROP_POS_FRAMES, i * fps // 50 - dt * fps)\n",
    "        ret, frame = cap.read()\n",
    "        image[:, :fwidth, :] = frame\n",
    "        cap.set(cv2.CAP_PROP_POS_FRAMES, i * fps // 50)\n",
    "        ret, frame = cap.read()\n",
    "        image[:, fwidth:2*fwidth, :] = frame\n",
    "        cap.set(cv2.CAP_PROP_POS_FRAMES, i * fps // 50 + dt * fps)\n",
    "        ret, frame = cap.read()\n",
    "        image[:, 2*fwidth:, :] = frame\n",
    "        cv2.imwrite(os.path.join(folder, '{:06d}.png'.format(i)), image)"
   ]
  },
  {
   "cell_type": "code",
   "execution_count": null,
   "metadata": {},
   "outputs": [],
   "source": [
    "left_lanechanges = np.where(np.logical_and(np.diff(d['distance_to_lane_L']) < -2.5, \n",
    "                                           np.diff(d['distance_to_lane_R']) < -2.5))[0]\n",
    "make_images(left_lanechanges, 'left_lanechange')\n",
    "right_lanechanges = np.where(np.logical_and(np.diff(d['distance_to_lane_L']) > 2.5, \n",
    "                                           np.diff(d['distance_to_lane_R']) > 2.5))[0]\n",
    "make_images(right_lanechanges, 'right_lanechange')# Based on images, set the lane changes\n",
    "left_lanechanges = left_lanechanges[np.array([1, 1, 1, 0, 0, 0, 0, 1, 1, 1, 1, 0, 0, 0, 0], dtype=np.bool)]\n",
    "right_lanechanges = right_lanechanges[np.array([0, 0, 1, 1, 0, 1, 1, 0, 0, 0, 0, 0, 1, 0, 0, 1, 1, 0, 0, 0, 0], dtype=np.bool)]"
   ]
  },
  {
   "cell_type": "code",
   "execution_count": null,
   "metadata": {},
   "outputs": [],
   "source": [
    "# Show the lane changes on the map\n",
    "fig = gmaps.figure()\n",
    "latlon_left = np.array([d['latitude'][left_lanechanges], d['longitude'][left_lanechanges]]).T\n",
    "latlon_right = np.array([d['latitude'][right_lanechanges], d['longitude'][right_lanechanges]]).T\n",
    "fig.add_layer(gmaps.symbol_layer(latlon_left, fill_color=(0, 0, 255, 0.4), stroke_color=(0, 0, 0, 0), scale=5))\n",
    "fig.add_layer(gmaps.symbol_layer(latlon_right, fill_color=(255, 0, 0, 0.4), stroke_color=(0, 0, 0, 0), scale=5))\n",
    "fig"
   ]
  },
  {
   "cell_type": "code",
   "execution_count": null,
   "metadata": {},
   "outputs": [],
   "source": []
  },
  {
   "cell_type": "code",
   "execution_count": null,
   "metadata": {},
   "outputs": [],
   "source": []
  }
 ],
 "metadata": {
  "anaconda-cloud": {},
  "kernelspec": {
   "display_name": "Python 3",
   "language": "python",
   "name": "python3"
  },
  "language_info": {
   "codemirror_mode": {
    "name": "ipython",
    "version": 3
   },
   "file_extension": ".py",
   "mimetype": "text/x-python",
   "name": "python",
   "nbconvert_exporter": "python",
   "pygments_lexer": "ipython3",
   "version": "3.6.4"
  }
 },
 "nbformat": 4,
 "nbformat_minor": 1
}
